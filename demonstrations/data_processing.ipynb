{
 "cells": [
  {
   "cell_type": "markdown",
   "id": "09999163",
   "metadata": {},
   "source": [
    "# Data Processing\n",
    "\n",
    "This notebook demonstrates how preprocessing metagenomic data may aid their classification."
   ]
  },
  {
   "cell_type": "code",
   "execution_count": 1,
   "id": "84ad3975",
   "metadata": {},
   "outputs": [],
   "source": [
    "import os\n",
    "import json\n",
    "from stelaro.data import format, ncbi\n",
    "import numpy as np\n",
    "import random\n",
    "\n",
    "DATA_DIRECTORY = \"../data/\"\n",
    "SUMMARY_DIRECTORY = DATA_DIRECTORY + \"ncbi_genome_summaries/\"\n",
    "NCBI_TAXONOMY_DIRECTORY = DATA_DIRECTORY + \"ncbi_taxonomy/\"\n",
    "BERTAX_DIRECTORY = DATA_DIRECTORY + \"bertax/final/\"\n",
    "BERTAX_DATASET_DIRECTORY = BERTAX_DIRECTORY + \"final_model_data_seperate_fasta_per_superkingdom/data/fass2/projects/fk_read_classification/dna_sequences/fragments/genomic_fragments_80_big/\"\n",
    "BERTAX_DOMAINS = (\n",
    "    \"Archaea_db.fa\",\n",
    "    \"Bacteria_db.fa\",\n",
    "    \"Eukaryota_db.fa\",\n",
    "    \"Viruses_db.fa\",\n",
    ")\n",
    "BERTAX_STATISTIC_DIRECTORY = BERTAX_DIRECTORY + \"statistics/\"\n",
    "SEQUENCE_LENGTH = 1500\n",
    "N_MINIMUM_READS_PER_TAXON = 10_000\n",
    "\n",
    "\n",
    "def mkdir(path: str) -> None:\n",
    "    \"\"\"Create a directory if it does not exist.\"\"\"\n",
    "    if not os.path.exists(path):\n",
    "        os.makedirs(path)\n",
    "\n",
    "\n",
    "mkdir(BERTAX_STATISTIC_DIRECTORY)"
   ]
  },
  {
   "cell_type": "markdown",
   "id": "1084732c",
   "metadata": {},
   "source": [
    "## 1. Dataset Analysis"
   ]
  },
  {
   "cell_type": "markdown",
   "id": "5474d743",
   "metadata": {},
   "source": [
    "### 1.1. Obtain Taxa"
   ]
  },
  {
   "cell_type": "code",
   "execution_count": 6,
   "id": "4a366458",
   "metadata": {},
   "outputs": [
    {
     "name": "stdout",
     "output_type": "stream",
     "text": [
      "Taxon 1740162 is nameless.\n",
      "Taxon 1588685 is nameless.\n",
      "Taxon 1980519 is nameless.\n",
      "Taxon 1986224 is nameless.\n",
      "Taxon 1535802 is nameless.\n",
      "Taxon 55097 is nameless.\n",
      "Taxon 1980494 is nameless.\n",
      "Taxon 11623 is nameless.\n",
      "Taxon 2487073 is nameless.\n",
      "Taxon 35310 is nameless.\n",
      "Taxon 1759437 is nameless.\n",
      "Taxon 35306 is nameless.\n",
      "Taxon 743685 is nameless.\n",
      "Taxon 85643 is nameless.\n",
      "Taxon 2169992 is nameless.\n",
      "Taxon 11191 is nameless.\n",
      "Taxon 2546450 is nameless.\n",
      "Taxon 1979163 is nameless.\n",
      "Taxon 1979166 is nameless.\n",
      "Taxon 122203 is nameless.\n",
      "Taxon 740710 is nameless.\n",
      "Taxon 623144 is nameless.\n",
      "Taxon 12332 is nameless.\n",
      "Taxon 62928 is nameless.\n",
      "Taxon 1547445 is nameless.\n",
      "Taxon 63330 is nameless.\n",
      "Taxon 218387 is nameless.\n",
      "Taxon 42764 is nameless.\n",
      "Taxon 319236 is nameless.\n",
      "Taxon 287094 is nameless.\n",
      "Taxon 1673076 is nameless.\n",
      "Taxon 55096 is nameless.\n",
      "Taxon 35302 is nameless.\n",
      "Taxon 262071 is nameless.\n",
      "Taxon 220622 is nameless.\n",
      "Taxon 207246 is nameless.\n",
      "Taxon 1637841 is nameless.\n",
      "Taxon 1980486 is nameless.\n",
      "Taxon 11232 is nameless.\n",
      "Taxon 1660064 is nameless.\n",
      "Taxon 2213057 is nameless.\n",
      "Taxon 2049935 is nameless.\n",
      "Taxon 208899 is nameless.\n",
      "Taxon 1660074 is nameless.\n",
      "Taxon 11269 is nameless.\n",
      "Taxon 2169996 is nameless.\n",
      "Taxon 1827146 is nameless.\n",
      "Taxon 1980464 is nameless.\n",
      "Taxon 1570328 is nameless.\n",
      "Taxon 1490026 is nameless.\n",
      "Taxon 2169994 is nameless.\n",
      "Taxon 1980467 is nameless.\n",
      "Taxon 1385592 is nameless.\n",
      "Taxon 45219 is nameless.\n",
      "Taxon 640511 is nameless.\n",
      "Taxon 1980521 is nameless.\n",
      "Taxon 1980491 is nameless.\n",
      "Taxon 1182571 is nameless.\n",
      "Taxon 11631 is nameless.\n",
      "Taxon 303300 is nameless.\n",
      "Taxon 883876 is nameless.\n",
      "Taxon 335659 is nameless.\n",
      "Taxon 580247 is nameless.\n",
      "Taxon 1980463 is nameless.\n",
      "Taxon 1751715 is nameless.\n",
      "Taxon 671223 is nameless.\n",
      "Taxon 559189 is nameless.\n",
      "Taxon 340435 is nameless.\n",
      "Taxon 1978339 is nameless.\n",
      "Taxon 2044517 is nameless.\n",
      "Taxon 1114980 is nameless.\n",
      "Taxon 31604 is nameless.\n",
      "Taxon 1979162 is nameless.\n",
      "Taxon 1642458 is nameless.\n",
      "Taxon 649188 is nameless.\n",
      "Taxon 53179 is nameless.\n",
      "Taxon 1980490 is nameless.\n",
      "Taxon 12331 is nameless.\n",
      "Taxon 621376 is nameless.\n",
      "Taxon 622416 is nameless.\n",
      "Taxon 758796 is nameless.\n",
      "Taxon 121791 is nameless.\n",
      "Taxon 157619 is nameless.\n",
      "Taxon 1305716 is nameless.\n",
      "Taxon 1109743 is nameless.\n",
      "Taxon 1500843 is nameless.\n",
      "Taxon 861208 is nameless.\n",
      "Taxon 1642436 is nameless.\n",
      "Taxon 90270 is nameless.\n",
      "Taxon 237610 is nameless.\n",
      "Taxon 11620 is nameless.\n",
      "Taxon 1979165 is nameless.\n",
      "Taxon 1979160 is nameless.\n",
      "Taxon 2202142 is nameless.\n",
      "Taxon 1415630 is nameless.\n",
      "Taxon 45220 is nameless.\n",
      "Taxon 49891 is nameless.\n",
      "Taxon 1933298 is nameless.\n",
      "Taxon 45221 is nameless.\n",
      "Taxon 11215 is nameless.\n",
      "Taxon 1980481 is nameless.\n",
      "Taxon 1980520 is nameless.\n",
      "Taxon 1211643 is nameless.\n",
      "Taxon 1513237 is nameless.\n",
      "Taxon 1156433 is nameless.\n",
      "Taxon 1804984 is nameless.\n",
      "Taxon 66266 is nameless.\n",
      "Taxon 1980475 is nameless.\n",
      "Taxon 2478912 is nameless.\n",
      "Taxon 2169993 is nameless.\n",
      "Taxon 1849491 is nameless.\n",
      "Taxon 1204252 is nameless.\n",
      "Taxon 1980612 is nameless.\n",
      "Taxon 1547899 is nameless.\n",
      "Taxon 386490 is nameless.\n",
      "Taxon 1653479 is nameless.\n",
      "Taxon 11628 is nameless.\n",
      "Taxon 1301032 is nameless.\n",
      "Taxon 2528243 is nameless.\n",
      "Taxon 1357321 is nameless.\n",
      "Taxon 45223 is nameless.\n",
      "Taxon 1546149 is nameless.\n",
      "Taxon 1980489 is nameless.\n",
      "Taxon 68570 is nameless.\n",
      "Taxon 2487071 is nameless.\n",
      "Taxon 499556 is nameless.\n",
      "Taxon 192848 is nameless.\n",
      "Taxon 46919 is nameless.\n",
      "Taxon 2169402 is nameless.\n",
      "Taxon 82076 is nameless.\n",
      "Taxon 656024 is nameless.\n",
      "Taxon 1980527 is nameless.\n",
      "Taxon 1980471 is nameless.\n",
      "Taxon 1980539 is nameless.\n",
      "Taxon 1933300 is nameless.\n",
      "Taxon 741091 is nameless.\n",
      "Taxon 1740163 is nameless.\n",
      "Taxon 1561226 is nameless.\n",
      "Taxon 2052837 is nameless.\n",
      "Taxon 239365 is nameless.\n",
      "535107 / 535153\n",
      "1884413 / 1903183\n",
      "2679821 / 2707781\n",
      "251758 / 253803\n"
     ]
    }
   ],
   "source": [
    "tax_ids = set()\n",
    "for domain in BERTAX_DOMAINS:\n",
    "    with open(BERTAX_DATASET_DIRECTORY + domain, \"r\") as f:\n",
    "        for line in f:\n",
    "            if line.startswith(\">\"):\n",
    "                tax_id = line.strip()\n",
    "                tax_id = tax_id.replace(\">\", \"\")\n",
    "                tax_id = tax_id.split(\" \")[0]\n",
    "                tax_ids.add(tax_id)\n",
    "\n",
    "parents, ranks = ncbi.get_all_taxonomy_parents(\n",
    "    NCBI_TAXONOMY_DIRECTORY + \"nodes.dmp\",\n",
    "    NCBI_TAXONOMY_DIRECTORY + \"merged.dmp\",\n",
    ")\n",
    "names = ncbi.taxid_to_names(NCBI_TAXONOMY_DIRECTORY + \"names.dmp\", set(parents.keys()))\n",
    "lineages = ncbi.resolve_taxonomy(parents, ranks, tax_ids, names)\n",
    "\n",
    "\n",
    "def get_level_0(tax_id):\n",
    "    if tax_id not in lineages:\n",
    "        print(tax_id)\n",
    "        return None\n",
    "    for level in lineages[tax_id]:\n",
    "        if level[-1] == \"domain\":\n",
    "            return level[1]\n",
    "    for level in lineages[tax_id]:\n",
    "        if level[-1] == \"realm\":\n",
    "            return \"Viruses\"\n",
    "    return None\n",
    "\n",
    "\n",
    "def get_level_1(tax_id):\n",
    "    if tax_id not in lineages:\n",
    "        print(tax_id)\n",
    "        return None\n",
    "    for level in lineages[tax_id]:\n",
    "        if level[-1] == \"phylum\":\n",
    "            return level[1]\n",
    "    return None\n",
    "\n",
    "\n",
    "def get_taxon(line):\n",
    "    tax_id = line.strip()\n",
    "    tax_id = tax_id.replace(\">\", \"\")\n",
    "    tax_id = tax_id.split(\" \")[0]\n",
    "    domain = get_level_0(tax_id)\n",
    "    phylum = get_level_1(tax_id)\n",
    "    if domain and phylum:\n",
    "        current_taxon = (domain, phylum)\n",
    "    else:\n",
    "        current_taxon = None\n",
    "    return current_taxon\n",
    "\n",
    "\n",
    "def get_mappings(file: str) -> dict:\n",
    "    taxa = {}\n",
    "    total = 0\n",
    "    retained = 0\n",
    "    current_taxon = None\n",
    "    with open(file, \"r\") as f:\n",
    "        for line in f:\n",
    "            if line.startswith(\">\"):\n",
    "                total += 1\n",
    "                current_taxon = get_taxon(line)\n",
    "            elif current_taxon:\n",
    "                sequence = line.strip().upper()\n",
    "                characters = set(sequence)\n",
    "                if len(characters) == 4:\n",
    "                    retained += 1\n",
    "                    if current_taxon in taxa:\n",
    "                        taxa[current_taxon] += 1\n",
    "                    else:\n",
    "                        taxa[current_taxon] = 1\n",
    "    print(f\"{retained} / {total}\")\n",
    "    return taxa\n",
    "\n",
    "taxa = {}\n",
    "for domain in BERTAX_DOMAINS:\n",
    "    taxa |= get_mappings(BERTAX_DATASET_DIRECTORY + domain)"
   ]
  },
  {
   "cell_type": "code",
   "execution_count": 7,
   "id": "0c5bcb83",
   "metadata": {},
   "outputs": [
    {
     "name": "stdout",
     "output_type": "stream",
     "text": [
      "('Archaea', 'Thermoproteota') 121632\n",
      "('Archaea', 'Methanobacteriota') 312457\n",
      "('Archaea', 'Nitrososphaerota') 59890\n",
      "('Archaea', 'Thermoplasmatota') 41128\n",
      "('Bacteria', 'Pseudomonadota') 576465\n",
      "('Bacteria', 'Bacillota') 175591\n",
      "('Bacteria', 'Bdellovibrionota') 34491\n",
      "('Bacteria', 'Thermodesulfobacteriota') 56957\n",
      "('Bacteria', 'Actinomycetota') 324374\n",
      "('Bacteria', 'Campylobacterota') 28549\n",
      "('Bacteria', 'Cyanobacteriota') 71022\n",
      "('Bacteria', 'Fusobacteriota') 16581\n",
      "('Bacteria', 'Chloroflexota') 59196\n",
      "('Bacteria', 'Aquificota') 10525\n",
      "('Bacteria', 'Bacteroidota') 123146\n",
      "('Bacteria', 'Verrucomicrobiota') 26406\n",
      "('Bacteria', 'Deinococcota') 29335\n",
      "('Bacteria', 'Chlamydiota') 22473\n",
      "('Bacteria', 'Lentisphaerota') 10942\n",
      "('Bacteria', 'Mycoplasmatota') 47952\n",
      "('Bacteria', 'Planctomycetota') 74762\n",
      "('Bacteria', 'Chlorobiota') 13792\n",
      "('Bacteria', 'Nitrospirota') 16852\n",
      "('Bacteria', 'Spirochaetota') 36380\n",
      "('Bacteria', 'Thermotogota') 32696\n",
      "('Bacteria', 'Gemmatimonadota') 13353\n",
      "('Bacteria', 'Elusimicrobiota') dropped (7444)\n",
      "('Bacteria', 'Synergistota') dropped (9791)\n",
      "('Bacteria', 'Acidobacteriota') dropped (9484)\n",
      "('Bacteria', 'Deferribacterota') dropped (9166)\n",
      "('Bacteria', 'Myxococcota') 21961\n",
      "('Bacteria', 'Rhodothermota') 13160\n",
      "('Bacteria', 'Kiritimatiellota') dropped (9354)\n",
      "('Bacteria', 'Thermodesulfobiota') dropped (2213)\n",
      "('Eukaryota', 'Chordata') 1280886\n",
      "('Eukaryota', 'Streptophyta') 625913\n",
      "('Eukaryota', 'Evosea') 21456\n",
      "('Eukaryota', 'Nematoda') 28161\n",
      "('Eukaryota', 'Ascomycota') 205272\n",
      "('Eukaryota', 'Apicomplexa') 77703\n",
      "('Eukaryota', 'Bacillariophyta') 41400\n",
      "('Eukaryota', 'Platyhelminthes') 27662\n",
      "('Eukaryota', 'Arthropoda') 144519\n",
      "('Eukaryota', 'Basidiomycota') 60635\n",
      "('Eukaryota', 'Chlorophyta') 24785\n",
      "('Eukaryota', 'Mollusca') 87372\n",
      "('Eukaryota', 'Rhodophyta') 18269\n",
      "('Eukaryota', 'Ciliophora') dropped (8937)\n",
      "('Eukaryota', 'Euglenozoa') 26851\n",
      "('Viruses', 'Artverviricota') 21632\n",
      "('Viruses', 'Negarnaviricota') 39710\n",
      "('Viruses', 'Taleaviricota') 25148\n",
      "('Viruses', 'Uroviricota') 57685\n",
      "('Viruses', 'Pisuviricota') 47118\n",
      "('Viruses', 'Peploviricota') 37411\n",
      "('Viruses', 'Kitrinoviricota') 23007\n",
      "('Viruses', 'Preplasmiviricota') dropped (47)\n",
      "5294663 / 5351099 reads (56436 dropped). 49 taxa.\n"
     ]
    }
   ],
   "source": [
    "total = 0\n",
    "n_sequences = 0\n",
    "n_taxa = 0\n",
    "retained = []\n",
    "for t, n in taxa.items():\n",
    "    total += n\n",
    "    if n >= N_MINIMUM_READS_PER_TAXON:\n",
    "        print(t, n)\n",
    "        n_sequences += n\n",
    "        n_taxa += 1\n",
    "        retained.append(t)\n",
    "    else:\n",
    "        print(f\"{t} dropped ({n})\")\n",
    "delta = total - n_sequences\n",
    "print(f\"{n_sequences} / {total} reads ({delta} dropped). {n_taxa} taxa.\")\n",
    "\n",
    "mappings = {}\n",
    "for i, taxon in enumerate(sorted(retained)):\n",
    "    mappings[str(i)] = taxon\n",
    "with open(BERTAX_STATISTIC_DIRECTORY + \"map.json\", \"w\") as f:\n",
    "    json.dump(mappings, f, indent=4)\n",
    "\n",
    "reversed_map = {v: k for k, v in mappings.items()}"
   ]
  },
  {
   "cell_type": "code",
   "execution_count": 8,
   "id": "81720d6a",
   "metadata": {},
   "outputs": [
    {
     "name": "stdout",
     "output_type": "stream",
     "text": [
      "Expected 5294663, read 5294663. Difference: 0.\n"
     ]
    }
   ],
   "source": [
    "y = np.zeros(n_sequences, dtype=np.uint16)\n",
    "i = 0\n",
    "\n",
    "for domain in BERTAX_DOMAINS:\n",
    "    with open(BERTAX_DATASET_DIRECTORY + domain, \"r\") as f:\n",
    "        current_taxon = None\n",
    "        for line in f:\n",
    "            if line.startswith(\">\"):\n",
    "                total += 1\n",
    "                current_taxon = get_taxon(line)\n",
    "            elif current_taxon in reversed_map:\n",
    "                taxon_index = reversed_map[current_taxon]\n",
    "                sequence = line.strip().upper()\n",
    "                characters = set(sequence)\n",
    "                if len(characters) == 4:\n",
    "                    y[i] = taxon_index\n",
    "                    i += 1\n",
    "\n",
    "print(f\"Expected {n_sequences}, read {i}. Difference: {n_sequences - i}.\")\n",
    "\n",
    "np.save(BERTAX_STATISTIC_DIRECTORY + \"y.npy\", y)"
   ]
  },
  {
   "cell_type": "code",
   "execution_count": 9,
   "id": "65c43889",
   "metadata": {},
   "outputs": [
    {
     "name": "stdout",
     "output_type": "stream",
     "text": [
      "[ 312457   59890   41128  121632  324374   10525  175591  123146   34491\n",
      "   28549   22473   13792   59196   71022   29335   16581   13353   10942\n",
      "   47952   21961   16852   74762  576465   13160   36380   56957   32696\n",
      "   26406   77703  144519  205272   41400   60635   24785 1280886   26851\n",
      "   21456   87372   28161   27662   18269  625913   21632   23007   39710\n",
      "   37411   47118   25148   57685]\n",
      "Total N reads: 5294663\n",
      "Minimum N reads: 10525 - Maximum N reads: 1280886\n"
     ]
    },
    {
     "data": {
      "image/png": "[encoded data removed]",
      "text/plain": [
       "<Figure size 640x480 with 1 Axes>"
      ]
     },
     "metadata": {},
     "output_type": "display_data"
    }
   ],
   "source": [
    "counts = np.bincount(y)\n",
    "print(counts)\n",
    "print(f\"Total N reads: {sum(counts)}\")\n",
    "print(f\"Minimum N reads: {min(counts)} - Maximum N reads: {max(counts)}\")\n",
    "\n",
    "import matplotlib.pyplot as plt\n",
    "plt.bar(list(range(len(counts))), counts)\n",
    "plt.xlabel(\"Taxon Identifier\")\n",
    "plt.ylabel(\"Number of Reads\")\n",
    "plt.title(\"Read Count by Taxon\")\n",
    "plt.show()"
   ]
  },
  {
   "cell_type": "markdown",
   "id": "98d40899",
   "metadata": {},
   "source": [
    "### 1.2. Create Distinct Sets"
   ]
  },
  {
   "cell_type": "code",
   "execution_count": 11,
   "id": "389d674c",
   "metadata": {},
   "outputs": [],
   "source": [
    "y = np.load(BERTAX_STATISTIC_DIRECTORY + \"y.npy\")\n",
    "N = y.shape[0]\n",
    "\n",
    "with open(BERTAX_STATISTIC_DIRECTORY + \"map.json\", \"r\") as f:\n",
    "    mappings = json.load(f)\n",
    "reversed_map = {tuple(v): k for k, v in mappings.items()}"
   ]
  },
  {
   "cell_type": "code",
   "execution_count": 18,
   "id": "943f9dfb",
   "metadata": {},
   "outputs": [],
   "source": [
    "random.seed(7)\n",
    "\n",
    "\n",
    "def plan_datasets(test_minimum: int, train_maximum: int, validation_fraction: float) -> tuple:\n",
    "    \"\"\"Split read IDs into test, train, and validation sets.\n",
    "\n",
    "    Args:\n",
    "        test_minimum: Minimum number of reads in each taxon for the test set.\n",
    "        train_maximum: Maximum number of reads per taxon in the train set.\n",
    "        validation_fraction: Fraction of training reads to use for validation.\n",
    "    \"\"\"\n",
    "    taxon_to_read_IDs = {k: [] for k in mappings}\n",
    "    i = 0\n",
    "    # Find identifiers\n",
    "    for domain in BERTAX_DOMAINS:\n",
    "        with open(BERTAX_DATASET_DIRECTORY + domain, \"r\") as f:\n",
    "            current_taxon = None\n",
    "            for line in f:\n",
    "                if line.startswith(\">\"):\n",
    "                    current_taxon = get_taxon(line)\n",
    "                elif current_taxon in reversed_map:\n",
    "                    taxon_index = reversed_map[current_taxon]\n",
    "                    sequence = line.strip().upper()\n",
    "                    characters = set(sequence)\n",
    "                    if len(characters) == 4:\n",
    "                        taxon_to_read_IDs[taxon_index].append(i)\n",
    "                        i += 1\n",
    "    # Select test and train data\n",
    "    train = {k: [] for k in mappings}\n",
    "    validation = {k: [] for k in mappings}\n",
    "    test = {k: [] for k in mappings}\n",
    "    for taxon in taxon_to_read_IDs:\n",
    "        random.shuffle(taxon_to_read_IDs[taxon])\n",
    "        test[taxon] = taxon_to_read_IDs[taxon][:test_minimum]\n",
    "        train_data = taxon_to_read_IDs[taxon][test_minimum:train_maximum + test_minimum]\n",
    "        cutoff = int(len(train_data) * validation_fraction)\n",
    "        train[taxon] = train_data[cutoff:]\n",
    "        validation[taxon] = train_data[:cutoff]\n",
    "    return train, validation, test"
   ]
  },
  {
   "cell_type": "code",
   "execution_count": null,
   "id": "90fabc4f",
   "metadata": {},
   "outputs": [],
   "source": [
    "M = SEQUENCE_LENGTH // 4  # Encode on tetramers to save memory.\n",
    "datasets = plan_datasets(2000, 30_000, 0.05)\n",
    "\n",
    "for dataset, name in zip(datasets, (\"train\", \"validation\", \"test\")):\n",
    "    mkdir(BERTAX_DIRECTORY + name + \"/\")\n",
    "    elements = set()\n",
    "    for taxon in dataset:\n",
    "        elements.update(dataset[taxon])\n",
    "    N = len(elements)\n",
    "    x = np.zeros((N, M), dtype=np.uint8)\n",
    "    y = np.zeros(N, dtype=np.uint16)\n",
    "    i = 0\n",
    "    local_i = 0\n",
    "    for domain in BERTAX_DOMAINS:\n",
    "        with open(BERTAX_DATASET_DIRECTORY + domain, \"r\") as f:\n",
    "            current_taxon = None\n",
    "            for line in f:\n",
    "                if line.startswith(\">\"):\n",
    "                    total += 1\n",
    "                    tax_id = line.strip()\n",
    "                    tax_id = tax_id.replace(\">\", \"\")\n",
    "                    tax_id = tax_id.split(\" \")[0]\n",
    "                    domain = get_level_0(tax_id)\n",
    "                    phylum = get_level_1(tax_id)\n",
    "                    if domain and phylum:\n",
    "                        current_taxon = (domain, phylum)\n",
    "                    else:\n",
    "                        current_taxon = None\n",
    "                elif current_taxon in reversed_map:\n",
    "                    taxon_index = reversed_map[current_taxon]\n",
    "                    sequence = line.strip().upper()\n",
    "                    characters = set(sequence)\n",
    "                    if len(characters) == 4:\n",
    "                        if i in elements:\n",
    "                            encoding = format.encode_tetramer(sequence)\n",
    "                            x[local_i] = encoding\n",
    "                            y[local_i] = taxon_index\n",
    "                            local_i += 1\n",
    "                        i += 1\n",
    "    assert local_i == N\n",
    "    np.save(BERTAX_DIRECTORY + name + \"/x.npy\", x)\n",
    "    np.save(BERTAX_DIRECTORY + name + \"/y.npy\", y)"
   ]
  },
  {
   "cell_type": "markdown",
   "id": "6d68f562",
   "metadata": {},
   "source": [
    "## 2. One-Shot Classification"
   ]
  },
  {
   "cell_type": "code",
   "execution_count": 2,
   "id": "470ac3c8",
   "metadata": {},
   "outputs": [],
   "source": [
    "BERTAX_TRAIN = BERTAX_DIRECTORY + \"train/\"\n",
    "BERTAX_VALIDATION = BERTAX_DIRECTORY + \"validation/\"\n",
    "BERTAX_TEST = BERTAX_DIRECTORY + \"test/\"\n",
    "\n",
    "import numpy as np\n",
    "from torch import tensor\n",
    "from torch.utils.data import DataLoader, WeightedRandomSampler\n",
    "from torch import bincount\n",
    "import json\n",
    "from torch.optim import Adam\n",
    "import matplotlib.pyplot as plt\n",
    "from time import time\n",
    "from typing import Callable\n",
    "\n",
    "from stelaro.data import format\n",
    "from stelaro import models\n",
    "from stelaro.models import feedforward, autoencoder, transformer, hybrid\n",
    "\n",
    "LENGTH = 1500\n",
    "BATCH_SIZE = 128\n",
    "\n",
    "\n",
    "train_data = DataLoader(\n",
    "    models.SyntheticTetramerDataset(BERTAX_TRAIN),\n",
    "    batch_size=BATCH_SIZE,\n",
    "    shuffle=True\n",
    ")\n",
    "validation_data = DataLoader(\n",
    "    models.SyntheticTetramerDataset(BERTAX_VALIDATION),\n",
    "    batch_size=BATCH_SIZE,\n",
    "    shuffle=True\n",
    ")\n",
    "test_data = DataLoader(\n",
    "    models.SyntheticTetramerDataset(BERTAX_TEST),\n",
    "    batch_size=BATCH_SIZE,\n",
    "    shuffle=True\n",
    ")\n",
    "\n",
    "with open(BERTAX_DIRECTORY + \"statistics/map.json\", \"r\") as f:\n",
    "    mapping = json.load(f)\n",
    "\n",
    "\n",
    "def benchmark(\n",
    "        classifier: models.BaseClassifier,\n",
    "        name: str,\n",
    "        max_epochs: int = 20\n",
    "    ):\n",
    "    parameters = classifier.get_parameters()\n",
    "    if parameters:\n",
    "        optimizer = Adam(classifier.get_parameters(), lr=0.001)\n",
    "        total_params = sum(param.numel() for param in parameters)\n",
    "        print(f\"Number of parameters: {total_params:_}\")\n",
    "    else:\n",
    "        optimizer = None\n",
    "    a = time()\n",
    "    losses, f1, validation_losses = classifier.train(\n",
    "        train_data,\n",
    "        validation_data,\n",
    "        optimizer,\n",
    "        max_n_epochs=max_epochs,\n",
    "        patience=3,\n",
    "    )\n",
    "    b = time()\n",
    "    print(f\"Training took {(b - a):.3f} s.\")\n",
    "    if losses:\n",
    "        fig, ax = plt.subplots(1, 2, figsize=(12, 4))\n",
    "        x = list(range(len(losses)))\n",
    "        ax[0].plot(x, losses, label=\"Training\")\n",
    "        ax[0].plot(x, validation_losses, label=\"Validation\")\n",
    "        ax[0].set(xlabel='Epochs', ylabel='Loss')\n",
    "        ax[0].set_title(\"Normalized Loss Against Epochs\")\n",
    "        ax[0].legend()\n",
    "        ax[1].set(xlabel='Epochs', ylabel=\"f1\")\n",
    "        ax[1].set_title(\"F1 Score\")\n",
    "        r = 0\n",
    "        for f in f1:\n",
    "            ax[1].plot(x, f, label=f'Rank {r}')\n",
    "            r += 1\n",
    "        ax[1].legend()\n",
    "        fig.suptitle(f\"Classification Training for {name}\")\n",
    "        plt.show()\n",
    "    result = models.evaluate(classifier, test_data, \"cuda\", mapping)\n",
    "    rounded_result = [float(f\"{r:.5}\") for r in result]\n",
    "    print(f\"Test results: {rounded_result}\")\n",
    "    return classifier"
   ]
  },
  {
   "cell_type": "markdown",
   "id": "325e004d",
   "metadata": {},
   "source": [
    "### 2.1. Baseline"
   ]
  },
  {
   "cell_type": "code",
   "execution_count": null,
   "id": "e3b1803d",
   "metadata": {},
   "outputs": [
    {
     "name": "stderr",
     "output_type": "stream",
     "text": [
      "100%|██████████| 9196/9196 [00:18<00:00, 507.15it/s]\n"
     ]
    },
    {
     "name": "stdout",
     "output_type": "stream",
     "text": [
      "Training took 18.134 s.\n",
      "Test results: [0.24601, 0.016713]\n"
     ]
    },
    {
     "data": {
      "image/png": "[encoded data removed]",
      "text/plain": [
       "<Figure size 480x480 with 1 Axes>"
      ]
     },
     "metadata": {},
     "output_type": "display_data"
    },
    {
     "name": "stdout",
     "output_type": "stream",
     "text": [
      "[[45. 49. 49. 49. 39. 41. 46. 48. 40. 39. 42. 35. 34. 31. 43. 42. 43. 60. 40. 34. 37. 34. 38. 43. 41. 43. 47. 38. 40. 26. 33. 40. 48. 29. 50. 41. 37. 36. 42. 49. 43. 47. 33. 39. 44. 37. 29. 47. 40.]\n",
      " [34. 43. 56. 34. 36. 49. 32. 40. 37. 40. 45. 39. 51. 35. 54. 34. 37. 34. 29. 39. 50. 37. 38. 44. 34. 44. 37. 36. 36. 39. 32. 54. 41. 47. 37. 47. 46. 42. 42. 50. 45. 37. 37. 43. 39. 52. 36. 37. 43.]\n",
      " [31. 40. 50. 38. 32. 51. 43. 45. 40. 40. 38. 42. 38. 46. 41. 33. 32. 27. 34. 45. 50. 41. 51. 34. 42. 32. 53. 38. 42. 41. 39. 43. 34. 44. 42. 38. 53. 47. 42. 34. 44. 45. 38. 34. 52. 37. 47. 42. 35.]\n",
      " [33. 45. 36. 40. 57. 52. 32. 22. 47. 48. 38. 49. 32. 42. 48. 34. 36. 37. 50. 42. 40. 33. 49. 33. 39. 55. 48. 35. 40. 40. 36. 46. 47. 45. 41. 48. 36. 47. 47. 50. 39. 38. 33. 37. 37. 30. 25. 35. 51.]\n",
      " [38. 39. 40. 44. 38. 39. 31. 34. 35. 38. 41. 33. 39. 39. 45. 42. 44. 36. 48. 42. 43. 34. 29. 41. 45. 45. 44. 44. 49. 31. 46. 45. 51. 46. 43. 45. 55. 45. 45. 33. 38. 33. 29. 41. 36. 45. 44. 50. 40.]\n",
      " [22. 43. 56. 41. 47. 35. 41. 50. 49. 41. 35. 30. 51. 41. 40. 45. 40. 45. 51. 41. 46. 44. 43. 40. 44. 42. 39. 36. 45. 33. 37. 55. 50. 36. 42. 37. 35. 37. 24. 29. 41. 41. 45. 38. 34. 54. 41. 30. 38.]\n",
      " [44. 42. 36. 45. 33. 44. 35. 36. 41. 38. 43. 38. 44. 36. 42. 41. 40. 45. 41. 32. 53. 41. 45. 40. 37. 33. 40. 46. 36. 41. 51. 45. 33. 27. 31. 39. 44. 48. 47. 52. 38. 34. 50. 44. 40. 31. 42. 43. 53.]\n",
      " [31. 32. 31. 40. 43. 33. 45. 53. 57. 50. 48. 51. 35. 41. 37. 41. 36. 44. 47. 35. 47. 31. 38. 29. 32. 37. 42. 35. 42. 35. 50. 45. 38. 47. 39. 37. 52. 40. 42. 34. 38. 43. 56. 48. 38. 40. 29. 45. 41.]\n",
      " [35. 42. 43. 39. 31. 43. 57. 39. 34. 36. 39. 36. 29. 39. 44. 39. 45. 41. 43. 48. 38. 45. 43. 42. 48. 45. 51. 30. 32. 41. 32. 41. 39. 33. 42. 36. 41. 36. 42. 47. 48. 51. 41. 44. 49. 38. 34. 45. 44.]\n",
      " [46. 32. 40. 27. 38. 42. 34. 39. 44. 54. 29. 45. 34. 48. 39. 44. 34. 52. 49. 45. 44. 37. 46. 36. 27. 47. 45. 38. 32. 41. 48. 42. 42. 47. 31. 36. 55. 44. 50. 28. 36. 46. 52. 40. 34. 41. 45. 34. 41.]\n",
      " [54. 43. 33. 36. 49. 51. 43. 60. 38. 34. 30. 42. 36. 41. 36. 31. 37. 37. 60. 46. 41. 45. 37. 37. 40. 30. 45. 43. 41. 35. 44. 42. 44. 36. 51. 41. 30. 47. 37. 41. 36. 54. 35. 43. 38. 29. 45. 45. 31.]\n",
      " [42. 35. 39. 30. 54. 38. 47. 46. 46. 52. 30. 46. 34. 37. 40. 42. 37. 39. 40. 36. 57. 36. 38. 39. 36. 47. 45. 44. 45. 50. 45. 41. 32. 42. 42. 37. 35. 47. 41. 57. 31. 34. 40. 29. 40. 37. 31. 49. 43.]\n",
      " [43. 50. 31. 45. 46. 34. 31. 44. 40. 36. 51. 42. 39. 48. 45. 43. 45. 41. 38. 41. 40. 34. 35. 44. 47. 43. 33. 47. 46. 35. 42. 39. 46. 31. 45. 32. 38. 44. 48. 42. 34. 36. 48. 35. 41. 39. 37. 43. 43.]\n",
      " [36. 34. 32. 32. 42. 33. 44. 33. 37. 45. 46. 47. 33. 37. 36. 49. 33. 26. 46. 45. 44. 46. 55. 42. 48. 46. 51. 39. 34. 29. 32. 62. 55. 34. 38. 46. 38. 46. 38. 37. 48. 40. 36. 38. 44. 45. 31. 49. 43.]\n",
      " [33. 41. 36. 47. 41. 32. 34. 42. 45. 49. 42. 35. 44. 49. 33. 36. 53. 47. 37. 31. 40. 44. 37. 43. 36. 44. 41. 42. 43. 50. 49. 38. 45. 43. 33. 36. 50. 24. 45. 48. 40. 41. 40. 43. 45. 40. 37. 47. 29.]\n",
      " [38. 37. 41. 47. 49. 38. 46. 34. 38. 53. 29. 37. 53. 39. 42. 43. 41. 52. 46. 29. 27. 43. 33. 40. 34. 37. 46. 42. 41. 48. 41. 43. 38. 40. 21. 51. 39. 45. 49. 31. 42. 49. 41. 35. 28. 40. 38. 55. 51.]\n",
      " [33. 34. 37. 30. 36. 49. 43. 42. 34. 27. 46. 34. 50. 44. 33. 32. 40. 49. 27. 49. 38. 49. 36. 30. 47. 39. 40. 29. 39. 52. 46. 39. 45. 48. 48. 29. 45. 44. 35. 36. 36. 45. 44. 42. 44. 52. 53. 50. 51.]\n",
      " [39. 34. 45. 38. 47. 38. 49. 50. 46. 37. 46. 37. 33. 36. 31. 48. 43. 34. 51. 43. 57. 40. 49. 26. 45. 37. 40. 45. 42. 44. 43. 31. 39. 38. 33. 46. 47. 40. 28. 39. 42. 45. 44. 31. 42. 43. 38. 37. 44.]\n",
      " [44. 43. 35. 40. 48. 33. 41. 53. 53. 46. 50. 32. 38. 43. 34. 32. 30. 36. 25. 41. 52. 36. 40. 43. 40. 38. 46. 40. 41. 29. 46. 50. 35. 44. 47. 49. 41. 57. 38. 44. 46. 45. 30. 36. 46. 38. 34. 39. 33.]\n",
      " [43. 38. 25. 39. 41. 52. 40. 53. 35. 38. 45. 39. 31. 24. 45. 37. 46. 40. 41. 38. 42. 46. 38. 46. 43. 41. 36. 42. 53. 29. 33. 39. 56. 43. 39. 43. 43. 51. 48. 35. 45. 37. 40. 44. 30. 36. 43. 41. 48.]\n",
      " [45. 49. 42. 36. 31. 37. 38. 33. 50. 42. 56. 52. 41. 41. 32. 36. 44. 37. 31. 33. 44. 44. 40. 43. 42. 33. 43. 36. 56. 47. 41. 32. 44. 40. 40. 43. 33. 48. 39. 45. 41. 37. 46. 35. 36. 39. 50. 25. 52.]\n",
      " [35. 39. 31. 32. 41. 35. 35. 49. 35. 46. 42. 37. 40. 30. 55. 47. 40. 45. 40. 36. 39. 47. 34. 38. 37. 39. 35. 48. 44. 37. 36. 53. 40. 36. 42. 40. 46. 39. 39. 45. 31. 49. 36. 50. 47. 41. 37. 41. 64.]\n",
      " [47. 48. 35. 40. 46. 30. 49. 39. 42. 43. 40. 35. 54. 43. 29. 40. 38. 46. 49. 41. 41. 38. 40. 50. 38. 38. 38. 48. 39. 33. 41. 43. 43. 34. 33. 43. 47. 34. 35. 50. 38. 39. 44. 46. 44. 36. 29. 44. 40.]\n",
      " [49. 49. 40. 32. 44. 37. 38. 33. 49. 38. 40. 51. 44. 47. 43. 52. 40. 44. 47. 35. 48. 33. 43. 38. 44. 37. 41. 47. 42. 41. 29. 44. 35. 36. 32. 34. 46. 40. 35. 48. 44. 50. 29. 41. 47. 34. 38. 28. 44.]\n",
      " [51. 41. 38. 46. 50. 35. 41. 55. 36. 42. 42. 33. 38. 37. 51. 36. 49. 39. 41. 41. 45. 38. 41. 45. 44. 40. 43. 39. 41. 33. 34. 32. 33. 37. 44. 41. 43. 34. 34. 43. 48. 46. 44. 52. 39. 38. 34. 34. 39.]\n",
      " [46. 36. 41. 44. 31. 39. 38. 27. 51. 45. 48. 46. 37. 47. 42. 34. 54. 39. 38. 47. 41. 50. 38. 45. 41. 43. 40. 24. 30. 37. 45. 49. 41. 48. 41. 35. 42. 34. 39. 36. 46. 43. 44. 29. 46. 37. 50. 33. 43.]\n",
      " [43. 34. 55. 37. 37. 44. 32. 43. 43. 46. 36. 40. 35. 43. 57. 35. 33. 35. 35. 39. 43. 37. 49. 32. 40. 33. 54. 36. 41. 35. 45. 41. 42. 40. 55. 38. 41. 31. 45. 37. 46. 57. 39. 45. 41. 40. 36. 41. 38.]\n",
      " [54. 40. 50. 48. 42. 37. 40. 36. 30. 41. 41. 45. 48. 44. 51. 43. 35. 48. 33. 41. 39. 49. 33. 30. 37. 34. 31. 30. 34. 37. 46. 42. 46. 46. 50. 39. 48. 46. 44. 40. 45. 42. 43. 38. 35. 33. 38. 34. 44.]\n",
      " [38. 54. 37. 49. 44. 39. 45. 44. 54. 50. 46. 48. 33. 38. 33. 46. 41. 40. 46. 34. 43. 47. 38. 47. 48. 41. 36. 42. 36. 36. 36. 33. 44. 35. 32. 35. 42. 46. 38. 35. 35. 31. 39. 59. 48. 42. 36. 29. 32.]\n",
      " [45. 41. 43. 42. 34. 41. 46. 39. 55. 45. 51. 49. 42. 37. 43. 41. 48. 34. 37. 37. 42. 33. 42. 45. 32. 34. 46. 29. 48. 36. 37. 36. 45. 26. 38. 47. 38. 42. 49. 48. 35. 34. 37. 48. 39. 33. 42. 48. 41.]\n",
      " [31. 40. 39. 53. 32. 37. 43. 32. 47. 46. 38. 41. 45. 34. 37. 43. 50. 37. 43. 36. 37. 44. 33. 36. 56. 42. 38. 37. 47. 41. 32. 55. 49. 46. 33. 50. 43. 31. 39. 25. 32. 46. 39. 38. 43. 57. 42. 36. 49.]\n",
      " [33. 37. 36. 39. 41. 47. 37. 39. 34. 39. 46. 41. 43. 34. 56. 31. 35. 52. 46. 41. 49. 48. 43. 37. 45. 36. 51. 46. 35. 34. 45. 37. 44. 34. 52. 47. 38. 40. 42. 46. 42. 42. 31. 48. 40. 34. 38. 40. 29.]\n",
      " [48. 46. 45. 35. 41. 35. 49. 40. 39. 48. 46. 38. 29. 35. 34. 41. 39. 45. 54. 42. 54. 36. 33. 37. 33. 54. 38. 38. 47. 34. 42. 33. 38. 41. 44. 42. 43. 48. 46. 37. 38. 37. 49. 38. 36. 33. 40. 38. 44.]\n",
      " [39. 51. 36. 34. 36. 41. 30. 47. 32. 59. 37. 42. 40. 35. 55. 33. 45. 46. 53. 50. 46. 28. 43. 39. 31. 29. 40. 43. 40. 38. 32. 45. 34. 37. 40. 38. 44. 33. 38. 50. 40. 46. 35. 57. 41. 41. 47. 43. 41.]\n",
      " [44. 46. 46. 37. 36. 36. 41. 49. 37. 34. 46. 39. 43. 35. 57. 51. 49. 40. 28. 36. 33. 46. 38. 32. 45. 46. 30. 50. 44. 31. 38. 51. 32. 42. 27. 46. 48. 42. 27. 45. 37. 40. 36. 45. 48. 37. 43. 46. 45.]\n",
      " [38. 47. 49. 53. 45. 45. 44. 33. 41. 48. 41. 42. 42. 36. 39. 44. 37. 37. 37. 48. 29. 38. 30. 31. 38. 42. 40. 25. 35. 45. 42. 45. 41. 35. 42. 37. 54. 41. 44. 39. 38. 47. 38. 50. 42. 48. 40. 42. 36.]\n",
      " [37. 39. 36. 49. 37. 42. 34. 36. 39. 39. 40. 58. 34. 41. 53. 34. 42. 41. 43. 33. 38. 45. 40. 35. 48. 47. 47. 48. 33. 35. 54. 48. 57. 32. 41. 33. 38. 36. 35. 44. 47. 36. 42. 41. 45. 27. 46. 37. 38.]\n",
      " [43. 41. 35. 39. 39. 56. 32. 39. 34. 44. 52. 50. 38. 38. 30. 39. 50. 46. 30. 41. 36. 33. 42. 41. 47. 48. 47. 51. 50. 36. 30. 35. 43. 36. 31. 50. 44. 41. 46. 40. 34. 42. 50. 37. 35. 39. 52. 29. 39.]\n",
      " [47. 47. 49. 43. 39. 38. 35. 27. 32. 37. 40. 41. 44. 36. 46. 41. 44. 42. 44. 40. 46. 37. 41. 45. 41. 36. 44. 45. 36. 38. 43. 38. 41. 46. 43. 47. 37. 42. 23. 38. 49. 32. 44. 56. 33. 38. 41. 50. 38.]\n",
      " [46. 39. 43. 43. 46. 38. 39. 45. 41. 30. 36. 51. 37. 45. 40. 35. 50. 27. 48. 38. 43. 54. 38. 34. 31. 46. 36. 47. 35. 41. 48. 48. 44. 34. 44. 49. 41. 44. 39. 43. 36. 33. 30. 43. 35. 44. 41. 45. 37.]\n",
      " [52. 34. 44. 39. 31. 44. 36. 35. 38. 35. 32. 39. 41. 54. 32. 39. 41. 44. 45. 35. 44. 41. 42. 45. 40. 48. 47. 53. 47. 41. 37. 30. 35. 33. 32. 51. 46. 46. 41. 40. 51. 40. 37. 44. 45. 41. 38. 40. 35.]\n",
      " [48. 38. 36. 31. 29. 40. 38. 45. 29. 38. 39. 37. 25. 41. 51. 46. 51. 45. 40. 42. 35. 49. 33. 38. 43. 40. 42. 44. 32. 41. 44. 44. 36. 36. 39. 43. 36. 54. 50. 43. 41. 47. 46. 52. 47. 40. 40. 36. 40.]\n",
      " [45. 37. 33. 36. 36. 45. 46. 40. 40. 50. 31. 29. 42. 42. 46. 49. 33. 38. 38. 48. 39. 39. 48. 35. 31. 37. 35. 50. 39. 41. 45. 32. 45. 42. 50. 47. 46. 44. 46. 35. 33. 36. 43. 43. 42. 44. 52. 38. 39.]\n",
      " [39. 37. 41. 29. 31. 45. 42. 40. 40. 45. 35. 36. 45. 42. 45. 34. 37. 37. 49. 47. 42. 47. 42. 36. 43. 25. 39. 44. 50. 43. 40. 39. 37. 42. 44. 46. 66. 44. 38. 40. 34. 48. 40. 34. 33. 56. 36. 37. 39.]\n",
      " [44. 45. 33. 35. 44. 37. 44. 38. 38. 33. 37. 36. 41. 36. 42. 33. 42. 35. 44. 53. 46. 47. 38. 37. 41. 61. 30. 38. 36. 47. 33. 52. 36. 32. 38. 42. 44. 42. 44. 39. 47. 44. 42. 45. 38. 47. 38. 44. 42.]\n",
      " [45. 39. 40. 45. 42. 46. 36. 38. 35. 36. 42. 44. 41. 57. 32. 39. 39. 54. 38. 42. 40. 36. 38. 38. 48. 43. 35. 44. 46. 48. 40. 37. 39. 41. 42. 45. 39. 49. 25. 46. 42. 47. 37. 33. 44. 38. 33. 45. 32.]\n",
      " [38. 41. 36. 42. 52. 45. 42. 31. 44. 32. 43. 53. 45. 39. 43. 38. 42. 37. 42. 36. 38. 46. 48. 38. 38. 38. 40. 56. 29. 39. 46. 41. 45. 36. 43. 45. 39. 31. 40. 39. 44. 50. 29. 37. 45. 38. 36. 44. 41.]\n",
      " [47. 35. 40. 46. 49. 37. 33. 36. 49. 38. 48. 32. 46. 49. 43. 53. 47. 47. 45. 46. 36. 44. 37. 49. 45. 48. 28. 37. 39. 42. 32. 43. 39. 38. 21. 36. 36. 37. 48. 32. 49. 33. 30. 35. 52. 37. 41. 37. 53.]\n",
      " [40. 34. 54. 39. 58. 44. 32. 50. 47. 45. 35. 35. 28. 35. 41. 46. 35. 45. 38. 30. 43. 36. 36. 47. 40. 47. 34. 47. 49. 32. 43. 52. 44. 34. 49. 43. 38. 37. 38. 40. 44. 41. 49. 35. 38. 39. 40. 32. 42.]]\n"
     ]
    }
   ],
   "source": [
    "model = benchmark(\n",
    "    models.RandomClassifier(),\n",
    "    \"Random Classifier\",\n",
    ")\n",
    "model.n_classes = len(mapping)\n",
    "matrix = models.confusion_matrix(model, test_data, \"cuda\", mapping)\n",
    "plt.matshow(matrix)\n",
    "plt.show()\n",
    "np.set_printoptions(precision=3, suppress=True, linewidth=500, threshold=np.inf)\n",
    "print(matrix)"
   ]
  },
  {
   "cell_type": "markdown",
   "id": "f057269c",
   "metadata": {},
   "source": [
    "### 2.2. CNN"
   ]
  },
  {
   "cell_type": "code",
   "execution_count": 3,
   "id": "de95d733",
   "metadata": {},
   "outputs": [
    {
     "name": "stdout",
     "output_type": "stream",
     "text": [
      "Number of parameters: 35_970_508\n"
     ]
    },
    {
     "name": "stderr",
     "output_type": "stream",
     "text": [
      "100%|██████████| 9196/9196 [04:52<00:00, 31.47it/s]\n"
     ]
    },
    {
     "name": "stdout",
     "output_type": "stream",
     "text": [
      "1/20 T loss: 0.021. V loss: 0.019. F1: [0.71736, 0.37742]. Patience: 3\n"
     ]
    },
    {
     "name": "stderr",
     "output_type": "stream",
     "text": [
      "100%|██████████| 9196/9196 [04:53<00:00, 31.34it/s]\n"
     ]
    },
    {
     "name": "stdout",
     "output_type": "stream",
     "text": [
      "2/20 T loss: 0.017. V loss: 0.018. F1: [0.78048, 0.47116]. Patience: 3\n"
     ]
    },
    {
     "name": "stderr",
     "output_type": "stream",
     "text": [
      "100%|██████████| 9196/9196 [04:54<00:00, 31.24it/s]\n"
     ]
    },
    {
     "name": "stdout",
     "output_type": "stream",
     "text": [
      "3/20 T loss: 0.016. V loss: 0.019. F1: [0.74431, 0.4239]. Patience: 2\n"
     ]
    },
    {
     "name": "stderr",
     "output_type": "stream",
     "text": [
      "100%|██████████| 9196/9196 [04:58<00:00, 30.77it/s]\n"
     ]
    },
    {
     "name": "stdout",
     "output_type": "stream",
     "text": [
      "4/20 T loss: 0.016. V loss: 0.017. F1: [0.8102, 0.50233]. Patience: 2\n"
     ]
    },
    {
     "name": "stderr",
     "output_type": "stream",
     "text": [
      "100%|██████████| 9196/9196 [04:58<00:00, 30.84it/s]\n"
     ]
    },
    {
     "name": "stdout",
     "output_type": "stream",
     "text": [
      "5/20 T loss: 0.015. V loss: 0.016. F1: [0.82107, 0.52682]. Patience: 2\n"
     ]
    },
    {
     "name": "stderr",
     "output_type": "stream",
     "text": [
      "100%|██████████| 9196/9196 [04:56<00:00, 31.05it/s]\n"
     ]
    },
    {
     "name": "stdout",
     "output_type": "stream",
     "text": [
      "6/20 T loss: 0.015. V loss: 0.017. F1: [0.7957, 0.51155]. Patience: 1\n"
     ]
    },
    {
     "name": "stderr",
     "output_type": "stream",
     "text": [
      "100%|██████████| 9196/9196 [04:56<00:00, 31.06it/s]\n"
     ]
    },
    {
     "name": "stdout",
     "output_type": "stream",
     "text": [
      "7/20 T loss: 0.015. V loss: 0.017. F1: [0.81621, 0.51502]. Patience: 0\n",
      "The model is overfitting; stopping early.\n",
      "Training took 2151.032 s.\n"
     ]
    },
    {
     "data": {
      "image/png": "[encoded data removed]",
      "text/plain": [
       "<Figure size 1200x400 with 2 Axes>"
      ]
     },
     "metadata": {},
     "output_type": "display_data"
    },
    {
     "name": "stderr",
     "output_type": "stream",
     "text": [
      "d:\\maitrise\\stelaro\\venv\\Lib\\site-packages\\sklearn\\metrics\\_classification.py:98: UserWarning: The number of unique classes is greater than 50% of the number of samples.\n",
      "  type_true = type_of_target(y_true, input_name=\"y_true\")\n",
      "d:\\maitrise\\stelaro\\venv\\Lib\\site-packages\\sklearn\\metrics\\_classification.py:99: UserWarning: The number of unique classes is greater than 50% of the number of samples.\n",
      "  type_pred = type_of_target(y_pred, input_name=\"y_pred\")\n",
      "d:\\maitrise\\stelaro\\venv\\Lib\\site-packages\\sklearn\\utils\\multiclass.py:79: UserWarning: The number of unique classes is greater than 50% of the number of samples.\n",
      "  ys_types = set(type_of_target(x) for x in ys)\n",
      "d:\\maitrise\\stelaro\\venv\\Lib\\site-packages\\sklearn\\utils\\multiclass.py:79: UserWarning: The number of unique classes is greater than 50% of the number of samples.\n",
      "  ys_types = set(type_of_target(x) for x in ys)\n",
      "d:\\maitrise\\stelaro\\venv\\Lib\\site-packages\\sklearn\\metrics\\_classification.py:98: UserWarning: The number of unique classes is greater than 50% of the number of samples.\n",
      "  type_true = type_of_target(y_true, input_name=\"y_true\")\n",
      "d:\\maitrise\\stelaro\\venv\\Lib\\site-packages\\sklearn\\metrics\\_classification.py:99: UserWarning: The number of unique classes is greater than 50% of the number of samples.\n",
      "  type_pred = type_of_target(y_pred, input_name=\"y_pred\")\n",
      "d:\\maitrise\\stelaro\\venv\\Lib\\site-packages\\sklearn\\utils\\multiclass.py:79: UserWarning: The number of unique classes is greater than 50% of the number of samples.\n",
      "  ys_types = set(type_of_target(x) for x in ys)\n",
      "d:\\maitrise\\stelaro\\venv\\Lib\\site-packages\\sklearn\\utils\\multiclass.py:79: UserWarning: The number of unique classes is greater than 50% of the number of samples.\n",
      "  ys_types = set(type_of_target(x) for x in ys)\n"
     ]
    },
    {
     "name": "stdout",
     "output_type": "stream",
     "text": [
      "Test results: [0.81605, 0.52799]\n"
     ]
    },
    {
     "data": {
      "image/png": "[encoded data removed]",
      "text/plain": [
       "<Figure size 480x480 with 1 Axes>"
      ]
     },
     "metadata": {},
     "output_type": "display_data"
    },
    {
     "name": "stdout",
     "output_type": "stream",
     "text": [
      "[[ 850.   27.  301.  100.   11.    4.   21.   19.   43.    6.   21.    9.   12.    1.    1.   11.    3.    0.   15.    2.   12.   69.    0.   13.   56.   83.   75.    8.   21.    3.   21.   33.    8.    8.    9.    0.    0.    5.    3.    4.    1.   31.   24.    6.    8.   19.    4.    2.   17.]\n",
      " [   4. 1332.   29.    9.    0.    0.   20.   17.   40.    2.    8.    6.   34.    2.    0.    0.    0.    0.   16.    0.    0.    1.    0.    0.    2.   18.   23.    4.   17.    8.   71.    8.   30.    0.    0.    2.    6.   16.    8.   34.    1.  152.    4.    8.   37.    5.   18.    1.    7.]\n",
      " [  49.   17. 1687.   13.    2.    0.   14.   14.    9.    0.    6.   17.    2.    0.    0.    2.    0.    0.    1.    1.    0.   11.    1.    0.   11.   10.   19.    0.    9.    4.   22.    3.    0.    0.    2.    0.    0.   10.    2.    8.    0.   17.    4.    1.   17.    6.    4.    1.    4.]\n",
      " [  30.   14.   47. 1475.    0.    1.   26.    0.   32.    1.   44.    0.    5.    2.    8.    4.    0.    0.    1.    0.    0.    1.    0.    0.   57.    2.   51.    0.   16.    1.   21.    0.    5.    0.    0.    0.    0.    0.    0.    4.    0.   28.   21.    4.   22.   49.    9.   12.    7.]\n",
      " [  13.    3.   23.    1.  899.    0.   16.    0.   21.    1.    8.    4.   13.   35.   80.    0.   43.    0.    2.  102.   46.  170.   86.  132.    0.   28.    0.   62.    0.    3.   56.    5.   21.    1.    0.    5.    0.    0.    0.    0.    1.    2.    0.   11.    1.   16.    9.    0.   81.]\n",
      " [  53.   18.   10.   33.    0. 1198.  119.    6.   32.   70.   29.    0.    3.    1.    3.    5.    0.    0.    3.    0.    0.    0.    0.    0.  170.   34.  188.    0.    0.    1.    0.    0.    0.    0.    1.    0.    0.    0.    0.    0.    0.    5.    2.    5.    0.    0.    9.    0.    2.]\n",
      " [  47.   28.  161.   18.   15.    8.  287.  199.  137.   24.   46.   48.   50.   29.   29.   13.    1.    2.   44.   11.    3.   75.   53.   20.   94.  128.   99.   65.   22.   37.   26.   10.    2.    1.    3.    1.    1.    7.    6.   14.    3.   45.    4.    5.    2.    9.   27.    2.   39.]\n",
      " [  16.   47.  102.   18.    3.    0.  142.  690.  197.   12.   38.   20.  163.   10.   30.    2.    3.    0.   43.    0.    4.   79.   76.    0.   21.   80.   52.   22.   13.   12.   28.    6.    6.    0.    0.    0.    0.    7.    6.    3.    0.   13.    4.    0.    3.    5.   10.    0.   14.]\n",
      " [   2.    4.    1.    4.    0.    0.    6.   24. 1516.    1.   82.    0.    1.    7.    2.    2.    0.    0.   31.    0.    1.   15.    4.    0.   18.   38.   27.    4.   14.   26.    5.    6.    1.    0.    4.    0.    0.    3.   15.    1.    1.  104.    0.    5.    4.    2.   14.    1.    4.]\n",
      " [   0.    8.    9.   11.    0.   13.   41.   32.   95. 1251.   45.    0.    5.    1.    0.   20.    0.    0.  101.    0.    0.   50.   15.    0.  170.    1.   60.    0.    2.    3.    2.    3.    0.    3.    1.    1.    1.    0.    5.    0.    0.    8.    0.   19.    0.    1.   12.    2.    9.]\n",
      " [  30.   13.   46.   64.    1.    0.   23.   35.  445.   19. 1040.    0.   20.   14.    0.    0.    0.    0.    6.    0.    0.    6.   16.    0.    0.   12.   79.    0.    4.    6.   16.    0.    1.    0.    1.    0.    0.    2.    0.    0.    0.   51.   11.   13.    8.    7.    4.    0.    7.]\n",
      " [  28.   26.   97.    0.    0.    0.   23.   51.   41.    0.    2.  700.   28.    0.    0.    0.    0.   23.    0.    1.   66.   66.   57.    0.    5.  371.    8.  384.    0.    1.    9.    3.    2.    0.    0.    0.    0.    0.    0.    0.    0.    1.    0.    0.    0.    3.    0.    0.    4.]\n",
      " [   9.   76.   20.    2.    1.    0.   19.   73.   71.    0.   10.    9. 1058.    7.   28.    0.    1.   39.    0.    0.    6.   38.  279.    0.    1.  141.    2.   27.    1.    1.   35.    1.   12.    3.    0.    1.    0.    0.    0.    0.    0.    3.    0.    4.    0.   11.    1.    0.   10.]\n",
      " [   4.    8.    2.   11.    7.    0.   19.   27.  161.    0.   30.    0.   20. 1218.   77.    0.    2.    0.   84.    0.    8.   23.   74.    1.    9.   24.    7.    2.    0.    6.   15.    5.    1.    0.    0.    0.    0.    1.    2.    4.    1.   11.    5.   46.    2.    3.   24.    0.   56.]\n",
      " [   2.    0.    1.    7.    8.    0.    2.    0.   10.    0.    1.    0.   20.    8. 1747.    0.    9.    0.    0.    9.    1.   11.   39.   10.    0.   60.    0.   16.    1.    0.   10.    0.    0.    0.    0.    1.    0.    0.    0.    0.    0.    4.    1.    7.    0.   13.    0.    0.    2.]\n",
      " [  19.   34.   83.   17.    0.    1.   27.   12.   66.   13.    1.    0.    1.    0.    0.  821.    0.    0.   25.    0.    0.    1.    0.    0.  378.    0.  338.    0.   23.    7.    3.    0.    0.    0.    0.    0.    0.    1.   71.    0.    0.    6.   16.    0.    1.    4.    1.   17.   13.]\n",
      " [   1.    0.    0.    0.   63.    0.    0.    0.    0.    0.    0.    0.    4.    0.   76.    0. 1235.    0.    0.  258.   13.   69.   78.    3.    0.    4.    0.   84.    0.    0.   10.    2.    5.   47.    0.   20.    0.    0.    0.    0.    0.    0.    0.    0.    0.   19.    0.    0.    9.]\n",
      " [   5.    2.    6.    0.    0.    0.    7.   27.   29.    0.    1.   61.   13.    0.    0.    0.    0. 1145.    0.    0.  145.   21.    7.    0.   23.   60.    6.  433.    0.    0.    1.    3.    0.    0.    0.    0.    0.    1.    3.    0.    0.    0.    0.    0.    0.    1.    0.    0.    0.]\n",
      " [   0.   25.    1.    3.    0.    0.   13.    3.   77.   20.    3.    0.    0.   19.    0.    4.    0.    0. 1545.    0.    0.    0.    8.    0.   66.    0.   12.    0.   18.   28.    3.    0.    0.    0.    0.    0.   40.    1.   39.    3.    0.   41.    0.    1.    1.    1.   15.    2.    8.]\n",
      " [   7.    0.    6.    0.  146.    0.    0.    0.    0.    0.    0.    0.    0.    1.   75.    0.   79.    0.    0. 1488.    4.   35.    3.   45.    0.    5.    0.   31.    0.    0.   11.    1.    2.   14.    0.    5.    0.    0.    0.    0.    0.    0.    0.    3.    0.   34.    0.    0.    5.]\n",
      " [  20.    0.   15.    0.   15.    0.    0.    0.   20.    0.    0.   16.    8.    7.    1.    0.   13.    2.    0.    0. 1012.  302.   53.   12.   23.  158.    4.  231.    0.    0.   67.    8.    6.    2.    0.    0.    0.    0.    0.    0.    1.    0.    0.    2.    0.    0.    0.    0.    2.]\n",
      " [  38.    3.   45.    2.   54.    0.   20.  112.   28.    2.    1.    7.   22.    6.   18.    0.   25.    0.    0.    3.   96. 1238.   22.   27.    4.  103.    7.   62.    1.    0.   11.   12.    1.    3.    1.    1.    1.    0.    0.    1.    1.    0.    0.    1.    0.    7.    0.    0.   14.]\n",
      " [   2.   11.    5.   11.   22.    0.   48.   66.  104.    7.   26.   14.  188.   42.   55.    0.   37.    0.   55.    4.   47.   42.  800.   20.   29.  140.    6.   70.    4.   12.   19.    9.    4.    3.    0.    2.    1.    7.    3.    1.    0.    9.    1.    5.    0.    7.   16.    0.   46.]\n",
      " [  19.    0.   56.    1.  147.    0.    1.    0.    5.    0.    0.    7.    3.    0.   57.    0.    4.    0.    0.   34.   13.  124.   34. 1051.    0.  159.    2.  144.    5.    0.   45.    5.    1.    4.    0.    1.    0.    0.    0.    0.    1.    0.    0.    5.    1.   60.    1.    0.   10.]\n",
      " [  24.   10.   21.    5.    0.    3.   37.   46.   72.   50.    1.    7.    4.    0.    0.   12.    0.    2.   62.    0.    3.   40.    0.    0. 1402.   33.   50.   32.   16.    9.    2.    2.    0.    0.    0.    0.    0.    1.   17.    3.    0.   29.    0.    0.    0.    1.    2.    1.    1.]\n",
      " [  19.    7.   19.    0.    2.    2.    7.   24.   61.    0.    6.   24.   42.    8.   34.    0.    1.    1.    0.    3.   35.   44.   32.   24.    2. 1408.    5.  150.    0.    2.   18.    4.    0.    0.    0.    1.    0.    0.    0.    0.    1.    1.    2.    4.    2.    2.    0.    0.    3.]\n",
      " [  51.   20.  123.   19.    0.    1.   61.   43.  112.   11.   51.    1.    0.    0.    2.   42.    0.    0.   20.    0.    1.   49.    0.    0.   88.    7. 1169.    1.   16.    8.   12.   18.    0.    1.    0.    0.    0.    5.    9.    3.    1.   26.    3.    0.    4.    7.    7.    7.    1.]\n",
      " [  11.    4.   18.    0.    5.    0.    2.   13.    6.    0.    0.   35.   11.    3.   32.    0.   16.    2.    1.    5.   56.   68.   39.   50.   11.  239.    5. 1331.    0.    1.   12.    2.    0.    8.    0.    1.    0.    0.    1.    4.    1.    1.    0.    1.    0.    2.    1.    0.    2.]\n",
      " [   2.   30.   11.    7.    0.    0.    1.    1.   25.    0.    1.    0.    1.    1.    0.    0.    1.    0.    7.    5.    0.    2.    3.    0.    6.    0.    4.    3.  962.   53.   89.   15.    7.    3.    9.  130.   15.  110.   43.   77.    7.  205.    4.    5.   38.   80.   32.    1.    4.]\n",
      " [   1.    1.    3.    1.    0.    0.    3.    3.   24.    1.    1.    0.    0.    2.    1.    0.    1.    0.   15.    0.    0.    5.    5.    0.    1.    2.    3.    2.  149. 1215.   47.   25.    3.   22.   19.   19.    5.  158.   39.   62.    2.  100.    0.    3.    4.   43.    3.    4.    3.]\n",
      " [   3.   20.    9.   38.    8.    0.    1.    6.   17.    5.    4.    1.    5.    3.    2.    0.    2.    0.    2.    3.    4.    4.    3.    4.   11.   12.    3.    9.   39.   37. 1024.  105.  133.    1.    2.   34.    6.   25.    6.   34.    7.  170.    0.   62.   38.   42.   52.    0.    4.]\n",
      " [   5.    2.    1.    0.    0.    0.    0.    1.    8.    0.    0.    1.    0.    0.    0.    0.    0.    0.    0.    0.    6.   11.    0.    0.    0.    1.    1.    2.   12.    7.  235. 1505.   59.   14.    0.    6.    2.    5.   11.    5.    8.   25.    0.   15.    8.    5.   38.    0.    1.]\n",
      " [   2.    5.    2.    2.    6.    0.    0.    1.    2.    0.    0.    0.    2.    0.    0.    0.    4.    0.    0.    0.    3.    1.    2.    0.    0.    3.    0.    4.   16.    8.  630.   86.  963.    5.    0.  123.    0.    7.    0.    2.    9.   31.    0.   39.   12.    9.   21.    0.    0.]\n",
      " [   3.    0.    4.    0.   10.    0.    2.    0.    5.    0.    0.    0.    0.    1.    0.    0.    7.    0.    0.   31.    6.    7.    0.    0.    0.    0.    4.   34.   38.   27.   76.  115.   49. 1492.    1.   27.    0.    6.    5.    1.    8.    8.    0.    2.    0.   25.    4.    0.    2.]\n",
      " [   0.    0.    4.    2.    0.    0.    0.    0.    0.    0.    0.    0.    0.    0.    1.    0.    0.    0.    0.    0.    0.    0.    0.    0.    0.    0.    0.    0.   23.   21.    5.    1.    1.    0. 1382.    9.    1.  360.    0.    3.    0.   60.   12.   16.   46.   38.   15.    0.    0.]\n",
      " [   0.    0.    0.    0.    0.    0.    1.    0.    3.    0.    0.    0.    0.    0.    3.    0.    5.    0.    0.    2.    0.    0.    0.    0.    0.    1.    2.    2.  127.   20.   56.   12.   46.    3.    6. 1653.    0.   30.    0.    0.    0.    4.    0.    4.    0.   12.    7.    1.    0.]\n",
      " [   0.    4.    0.    0.    0.    0.    0.    0.    0.    0.    0.    0.    0.    0.    0.    1.    0.    0.    9.    0.    0.    0.    0.    0.    0.    0.    0.    0.    6.    1.    0.    0.    0.    0.    0.    0. 1936.    0.    5.    0.    0.   32.    0.    0.    0.    0.    4.    0.    2.]\n",
      " [   1.    2.    3.    0.    0.    0.    1.    1.    4.    2.    0.    0.    1.    0.    0.    0.    0.    0.    1.    0.    0.    0.    0.    0.    1.    0.    0.    0.   34.  111.    4.    1.    1.    1.  243.   15.    2. 1299.    7.   62.    0.  131.    1.    3.   23.   19.   26.    0.    0.]\n",
      " [   4.   20.    3.    0.    0.    0.    0.    1.   22.    0.    0.    0.    0.    1.    0.    5.    0.    0.   23.    0.    0.    1.    0.    0.    3.    0.   12.    0.  198.  112.    6.   40.    0.    0.    5.    0.   50.   61. 1277.   16.    0.  121.    1.    5.    3.    2.    5.    3.    0.]\n",
      " [   0.    3.    1.    3.    0.    0.    0.    0.    3.    0.    0.    0.    0.    2.    0.    0.    0.    0.    0.    0.    0.    0.    0.    0.    0.    0.    0.    0.   15.   58.   28.   11.    0.    0.    1.    0.    3.  237.    3. 1377.    0.  186.    1.    1.   36.   16.   15.    0.    0.]\n",
      " [   1.    1.    1.    0.    9.    0.    1.    0.    1.    0.    0.    3.   11.    0.    0.    0.    5.    0.    0.    0.    8.   14.    6.    0.    0.    0.    8.    9.  189.    0.   87.   55.  256.   14.    0.   83.    0.    0.    0.    0. 1188.    0.    0.    0.    0.   48.    1.    0.    1.]\n",
      " [   2.   13.    2.    3.    0.    0.    4.    0.   24.    1.    3.    0.    0.    1.    1.    0.    0.    0.    7.    0.    0.    0.    0.    0.    2.    1.    3.    0.   46.   45.   45.   20.    2.    0.   32.    5.   31.  143.   16.   36.    0. 1295.    1.   44.  124.    8.   39.    1.    0.]\n",
      " [  16.   47.   50.   14.    0.    0.    9.    1.   15.    0.    7.    0.    3.    0.    2.   16.    0.    0.    0.    0.    0.    0.    0.    0.   25.    2.   16.    0.    3.    0.   12.    0.    0.    0.   65.    0.    0.   10.    1.    0.    0.   17.  984.   88.  432.   61.  100.    1.    3.]\n",
      " [   0.    2.    0.    0.    1.    0.    0.    1.    7.    0.    0.    0.    2.    2.    4.    0.    0.    0.    0.    1.    2.    6.    0.    0.    0.    0.    0.    0.    0.    1.  109.   19.   23.    0.    7.    1.    0.    2.    5.    2.    0.   44.    8. 1467.   70.    9.  205.    0.    0.]\n",
      " [   1.   11.    4.    0.    0.    0.    0.    0.    4.    0.    0.    0.    1.    0.    0.    0.    0.    0.    1.    0.    0.    0.    1.    0.    0.    0.    0.    0.    2.    0.   14.    1.    0.    0.   75.    0.    0.   24.    3.    8.    0.  141.   12.   65. 1569.    2.   60.    1.    0.]\n",
      " [  30.    4.   40.   15.   14.    0.    6.    8.   15.    0.    0.    0.    9.    4.   35.    0.    8.    0.    2.   23.    0.   11.    1.   11.    3.    7.    2.    8.   99.  101.  113.   22.    8.   10.  184.   76.    0.  105.    7.   22.    6.   51.   14.   14.   26.  835.   42.    3.    6.]\n",
      " [   0.   19.    5.    5.    1.    0.    4.    1.   11.    1.    0.    0.    3.    2.    0.    0.    0.    0.    5.    0.    0.    0.    2.    0.    0.    0.    3.    0.    5.    5.   54.   77.   12.    1.   16.    5.    1.   20.    0.   15.    0.   81.   20.  138.   62.   24. 1386.    0.   16.]\n",
      " [   2.   15.   10.   44.    0.    0.    7.    1.    6.    0.    1.    0.    0.    1.    0.    7.    0.    0.    9.    0.    0.    0.    0.    0.    0.    0.   39.    0.   77.   48.    1.   16.    0.    3.    5.    0.    0.    7.   20.   63.    0.    8.    2.    0.    5.   54.   63. 1457.   29.]\n",
      " [  28.   32.   12.   42.   75.    0.   73.   71.   98.   15.   13.    2.   86.   51.   31.    4.   32.    0.   54.    5.   21.  111.  213.    8.   52.   26.   18.    8.   17.   30.   85.   37.    7.    0.    0.    2.    6.    4.    2.   26.    1.   38.   10.   17.   33.   38.  148.   17.  301.]]\n"
     ]
    }
   ],
   "source": [
    "from torch.nn import (Module, Conv1d, ReLU, Sequential, Flatten, Linear,\n",
    "                      CrossEntropyLoss, Dropout, MaxPool1d)\n",
    "from torch import stack, tensor, float32, argmax\n",
    "from torch.func import vmap\n",
    "import torch.nn.functional as F\n",
    "\n",
    "\n",
    "class CNN_2_dropout_token(Module):\n",
    "    def __init__(self, N, M):\n",
    "        super(CNN_2_dropout_token, self).__init__()\n",
    "        self.conv = Sequential(\n",
    "            Conv1d(4, 32, kernel_size=7, padding=3),\n",
    "            ReLU(),\n",
    "            Conv1d(32, 64, kernel_size=5, padding=2),\n",
    "            ReLU(),\n",
    "            Conv1d(64, 128, kernel_size=3, padding=1),\n",
    "            ReLU(),\n",
    "        )\n",
    "        n = N * 4\n",
    "        self.fc = Sequential(\n",
    "            Flatten(),\n",
    "            Dropout(0.2),\n",
    "            Linear(n * 128, int(N / 2)),\n",
    "            ReLU(),\n",
    "            Dropout(0.2),\n",
    "            Linear(int(N / 2), 128),\n",
    "            ReLU(),\n",
    "            Dropout(0.2),\n",
    "            Linear(128, M)\n",
    "        )\n",
    "\n",
    "    def forward(self, x):\n",
    "        x = self.conv(x)\n",
    "        x = self.fc(x)\n",
    "        return x.float()\n",
    "\n",
    "\n",
    "model = benchmark(\n",
    "    feedforward.Classifier(\n",
    "        LENGTH // 4,\n",
    "        mapping,\n",
    "        \"cuda\",\n",
    "        CNN_2_dropout_token,\n",
    "        format.to_channels),\n",
    "    \"CNN\",\n",
    ")\n",
    "matrix = models.confusion_matrix(model, test_data, \"cuda\", mapping)\n",
    "plt.matshow(matrix)\n",
    "plt.show()\n",
    "np.set_printoptions(precision=3, suppress=True, linewidth=500, threshold=np.inf)\n",
    "print(matrix)"
   ]
  },
  {
   "cell_type": "markdown",
   "id": "2b50f4b3",
   "metadata": {},
   "source": [
    "### 2.3. Transformer"
   ]
  },
  {
   "cell_type": "code",
   "execution_count": 4,
   "id": "b95efa49",
   "metadata": {},
   "outputs": [
    {
     "name": "stdout",
     "output_type": "stream",
     "text": [
      "Number of parameters: 880_177\n"
     ]
    },
    {
     "name": "stderr",
     "output_type": "stream",
     "text": [
      "100%|██████████| 9196/9196 [30:05<00:00,  5.09it/s]\n"
     ]
    },
    {
     "name": "stdout",
     "output_type": "stream",
     "text": [
      "1/6 T loss: 0.01511. V loss: 0.01279. F1: [0.81243, 0.57826]. Patience: 3\n"
     ]
    },
    {
     "name": "stderr",
     "output_type": "stream",
     "text": [
      "100%|██████████| 9196/9196 [30:16<00:00,  5.06it/s]\n"
     ]
    },
    {
     "name": "stdout",
     "output_type": "stream",
     "text": [
      "2/6 T loss: 0.01209. V loss: 0.01203. F1: [0.83438, 0.61208]. Patience: 3\n"
     ]
    },
    {
     "name": "stderr",
     "output_type": "stream",
     "text": [
      "100%|██████████| 9196/9196 [30:32<00:00,  5.02it/s]\n"
     ]
    },
    {
     "name": "stdout",
     "output_type": "stream",
     "text": [
      "3/6 T loss: 0.01139. V loss: 0.01133. F1: [0.85509, 0.64255]. Patience: 3\n"
     ]
    },
    {
     "name": "stderr",
     "output_type": "stream",
     "text": [
      "100%|██████████| 9196/9196 [30:32<00:00,  5.02it/s]\n"
     ]
    },
    {
     "name": "stdout",
     "output_type": "stream",
     "text": [
      "4/6 T loss: 0.01101. V loss: 0.01105. F1: [0.86597, 0.65503]. Patience: 3\n"
     ]
    },
    {
     "name": "stderr",
     "output_type": "stream",
     "text": [
      "100%|██████████| 9196/9196 [29:58<00:00,  5.11it/s]\n"
     ]
    },
    {
     "name": "stdout",
     "output_type": "stream",
     "text": [
      "5/6 T loss: 0.01075. V loss: 0.01083. F1: [0.86667, 0.65875]. Patience: 3\n"
     ]
    },
    {
     "name": "stderr",
     "output_type": "stream",
     "text": [
      "100%|██████████| 9196/9196 [30:17<00:00,  5.06it/s]\n"
     ]
    },
    {
     "name": "stdout",
     "output_type": "stream",
     "text": [
      "6/6 T loss: 0.01056. V loss: 0.01070. F1: [0.87418, 0.66521]. Patience: 3\n",
      "Training took 11778.078 s.\n"
     ]
    },
    {
     "data": {
      "image/png": "[encoded data removed]",
      "text/plain": [
       "<Figure size 1200x400 with 2 Axes>"
      ]
     },
     "metadata": {},
     "output_type": "display_data"
    },
    {
     "name": "stdout",
     "output_type": "stream",
     "text": [
      "Test results: [0.87746, 0.69038]\n"
     ]
    },
    {
     "data": {
      "image/png": "[encoded data removed]",
      "text/plain": [
       "<Figure size 480x480 with 1 Axes>"
      ]
     },
     "metadata": {},
     "output_type": "display_data"
    },
    {
     "name": "stdout",
     "output_type": "stream",
     "text": [
      "[[1388.    9.   67.   55.   11.    1.   12.   48.   14.    7.    8.    5.    5.    7.    1.   10.    0.    3.   13.    0.    7.   28.    3.    4.   12.   13.   56.    3.   33.    8.   20.    4.   16.    5.    9.    1.    2.   11.   12.   15.    1.   27.    6.    0.    7.   21.    2.    4.    6.]\n",
      " [   5. 1659.   19.   13.    3.    1.    4.   13.    4.    2.    4.    0.   17.   17.    0.    2.    0.    1.    5.    0.    0.    1.    5.    0.    1.    8.    3.    1.   23.   13.   32.    6.    7.    0.    1.    4.    2.    7.    8.   36.    1.   28.    0.    3.   14.    6.   11.    2.    8.]\n",
      " [  77.   20. 1642.   12.    4.    0.   11.   25.    6.    2.    6.    4.    5.    6.    0.    1.    0.    0.    0.    0.    7.   15.    1.    1.    2.    6.   14.    1.   12.    3.   18.    2.    8.    0.    3.    0.    0.    5.    3.   23.    1.    3.    4.    0.    8.   21.    6.    4.    8.]\n",
      " [  20.    2.   10. 1720.    0.    2.    6.    5.   26.    1.   28.    0.    5.   14.    0.    6.    0.    0.    3.    0.    0.    0.    0.    0.    4.    0.   24.    0.   13.    0.   24.    0.    4.    0.    0.    1.    0.    2.    1.   13.    0.   12.    3.    0.    1.   22.   11.   10.    7.]\n",
      " [  33.    1.    0.    1. 1338.    0.    6.    5.    3.    2.    0.   10.   18.   34.   26.    0.   37.    0.    1.   58.   44.  100.   52.   43.    1.   12.    1.   24.    4.    1.   22.    1.    2.   16.    0.    5.    0.    3.    1.    0.    2.    0.    0.    0.    0.   37.    3.    0.   53.]\n",
      " [  12.    2.    0.    9.    0. 1785.   10.   25.    5.   15.    9.    0.    0.    4.    0.    6.    0.    0.    3.    0.    0.    1.    2.    0.    8.    2.   60.    0.    5.    3.    1.    0.    0.    0.    1.    1.    0.    1.    3.    1.    0.    8.    5.    1.    1.    4.    4.    1.    2.]\n",
      " [  29.   20.   32.   37.    9.   15.  900.  138.   34.   37.   31.    7.   17.   37.    5.   39.    0.    8.   43.    9.    6.   34.   38.   13.   43.   34.   85.   12.   23.   24.   13.    5.    5.    3.    2.    4.    0.   17.    6.   18.    1.   38.    1.    0.    2.   15.   11.    5.   95.]\n",
      " [  24.   22.   14.   13.    3.    5.   79. 1195.   29.   30.   25.    8.   22.   57.    5.    9.    0.    3.   32.    0.    5.   37.   42.    2.   39.    7.   45.    7.   24.   32.   11.    6.    7.    0.    5.    4.    0.   11.    8.   12.    1.   16.    3.    0.    2.   19.   14.   11.   55.]\n",
      " [   5.   12.    1.    7.    1.    1.    8.   14. 1678.   13.   27.    1.    0.   27.    1.   10.    0.    1.   15.    0.    1.    3.    5.    0.    7.   16.   10.    1.   20.   19.   12.    9.    1.    0.    0.    1.    1.    5.   13.    2.    0.   15.    0.    2.    3.    3.    8.    8.   13.]\n",
      " [   6.    0.    0.    5.    0.   13.   14.   24.   30. 1595.    8.    0.    0.    6.    0.   36.    0.    0.   91.    0.    0.    1.   10.    0.   65.    0.   24.    0.    2.    2.    5.    0.    0.    2.    2.    0.    3.    2.    8.    0.    0.   10.    1.    0.    1.    2.    3.    9.   20.]\n",
      " [   7.    9.    5.   42.    3.    4.   13.   25.   84.   37. 1560.    0.    1.   57.    0.    0.    0.    0.   10.    0.    0.    5.    5.    0.   10.    1.   19.    0.    4.    9.   10.    2.    1.    0.    2.    0.    0.    9.    3.    3.    0.   36.    4.    2.    2.    0.    7.    0.    9.]\n",
      " [  11.   10.    8.    1.    2.    0.   32.   18.   19.    1.    5. 1430.   17.   10.    1.    0.    0.  110.    1.    1.   50.   18.   35.    1.    7.   62.    3.   87.    5.    6.   11.    5.    3.    0.    0.    6.    0.    0.    0.    0.    5.    1.    0.    0.    0.    4.    0.    1.   13.]\n",
      " [   8.    8.    5.    1.    6.    0.   19.   48.    5.    3.    5.    3. 1591.   36.   10.    0.    1.    9.    0.    0.    7.   16.   62.    1.    6.   29.    4.   11.   10.   12.   21.    1.    1.    4.    0.    4.    0.    3.    2.    0.    6.    3.    1.    0.    0.   12.    3.    1.   22.]\n",
      " [   2.   15.    3.    5.    7.    1.    7.   24.   18.   10.   26.    1.    8. 1603.   14.    3.    0.    1.   19.    0.    9.   25.   20.    0.    2.    8.   12.    3.   11.   10.   20.    3.    4.    1.    4.    3.    0.    1.    3.    8.    1.   14.    7.    7.    1.   12.   10.    4.   30.]\n",
      " [   0.    0.    0.    5.   26.    0.    3.    7.    4.    0.    0.    1.   15.    8. 1778.    0.    6.    0.    0.   13.    1.   20.   14.    9.    0.    9.    1.    9.    9.    1.    8.    1.    0.    0.    0.    4.    0.    0.    0.    0.    0.    1.    1.    0.    0.   37.    0.    0.    9.]\n",
      " [  13.    7.    4.   27.    0.    5.   38.    8.   12.   25.    2.    0.    0.    1.    0. 1604.    0.    0.   28.    0.    0.    0.    1.    0.   50.    0.   82.    0.   18.    5.    1.    0.    1.    0.    8.    0.    0.    2.   10.    2.    0.    1.    3.    1.    2.    2.    0.   21.   16.]\n",
      " [   5.    0.    0.    0.   47.    0.    1.    0.    0.    0.    0.    1.   21.    1.   22.    0. 1530.    0.    0.  178.   23.   48.   34.    6.    0.    0.    1.   21.    0.    0.    5.    1.    1.   14.    0.   19.    0.    0.    0.    0.    1.    0.    0.    0.    0.    6.    0.    0.   14.]\n",
      " [   3.    0.    0.    0.    0.    0.   21.   10.    7.    1.    1.   19.   10.    3.    0.    1.    0. 1806.    0.    0.   26.   18.    3.    1.   11.    4.    1.   34.    0.    3.    0.    0.    0.    0.    0.    0.    0.    0.    7.    0.    1.    1.    0.    0.    0.    2.    0.    2.    4.]\n",
      " [   1.   13.    0.    8.    0.    1.   20.   18.   21.   26.    1.    0.    0.   14.    0.   18.    0.    0. 1604.    0.    0.    0.    3.    0.   34.    0.   37.    0.   16.   31.    1.    0.    0.    0.    0.    0.   16.    3.   41.   16.    0.   13.    0.    0.    4.    1.    4.   19.   16.]\n",
      " [   8.    0.    0.    0.   93.    0.    7.    0.    0.    0.    0.    0.    0.    1.   11.    0.   21.    0.    0. 1700.    4.   62.    5.   32.    0.    5.    1.    9.    1.    0.    1.    0.    0.   14.    0.    7.    0.    0.    0.    0.    0.    0.    0.    1.    0.    9.    0.    0.    8.]\n",
      " [  11.    2.    3.    0.   17.    0.    5.    2.    6.    0.    2.   12.   29.    7.    6.    0.    6.    9.    0.    1. 1498.  157.   26.   13.    2.   40.    1.   68.    1.    0.   34.    7.    6.    6.    0.    1.    0.    0.    1.    0.    4.    1.    0.    0.    0.    6.    0.    0.   10.]\n",
      " [  21.    3.    5.    0.   28.    0.   22.   43.    4.   11.    6.    3.    9.    8.   10.    1.    2.    3.    0.    5.   25. 1668.    8.   12.   11.   11.    4.   13.    2.    6.    3.    5.    0.   10.    3.    2.    0.    2.    0.    0.    0.    0.    0.    0.    1.   12.    1.    1.   16.]\n",
      " [   3.   10.    3.   19.   31.    6.   57.   70.   23.   21.   23.   17.   85.   85.   56.    3.   13.    8.   27.   10.   47.   59.  922.    6.   15.   65.   11.   61.    9.   24.   20.    4.    4.    3.    1.    4.    0.    6.    1.    3.    3.   11.    0.    4.    4.   14.   14.    2.  113.]\n",
      " [  32.    0.    0.    0.   81.    0.    4.    2.    0.    0.    0.    3.    8.    5.   27.    0.    3.    0.    0.   21.   24.  107.    7. 1533.    0.    8.    1.   17.   17.    0.   26.    1.    5.   10.    0.    1.    0.    1.    0.    0.    4.    0.    2.    0.    0.   42.    0.    0.    8.]\n",
      " [   7.    5.    2.   11.    0.    6.   22.   22.   14.   19.    2.    2.    2.    4.    0.   17.    0.    1.   19.    0.    2.    3.    1.    0. 1772.    5.   19.    1.    7.    4.    0.    2.    0.    0.    0.    0.    0.    0.    1.    0.    0.   14.    1.    0.    2.    5.    0.    2.    4.]\n",
      " [  13.    6.    6.    0.   12.    6.   28.   14.   17.    1.    2.   17.   19.   23.   15.    3.    2.   20.    1.    5.   67.   67.   48.   21.    0. 1428.    5.   71.    4.    4.   23.    7.    3.    4.    2.    4.    0.    0.    0.    2.    1.    1.    2.    0.    1.   10.    2.    0.   13.]\n",
      " [  21.   19.   17.   30.    1.   11.   23.   38.   28.   13.    5.    0.    0.   19.    0.   42.    0.    0.   25.    0.    0.    9.    3.    0.   26.    3. 1473.    1.   27.    7.   14.    5.   16.    2.    0.    1.    2.   11.   26.   12.    3.   23.    4.    0.    1.    6.    6.   13.   14.]\n",
      " [   0.    2.    7.    0.    9.    0.   16.   20.    2.    0.    2.   18.   21.    8.   17.    1.    1.   17.    0.    3.   29.   49.   32.   11.    7.   56.    3. 1645.    0.    0.    5.    1.    0.    5.    0.    0.    0.    0.    1.    0.    0.    0.    1.    0.    1.    9.    0.    0.    1.]\n",
      " [   9.   26.   11.   13.    2.    0.    6.    4.   13.    8.    6.    0.    0.   14.    0.    9.    0.    0.   10.    1.    0.    3.    0.    0.    5.    2.   17.    0. 1288.   64.   25.   10.   10.    2.   10.   42.    5.   43.   75.  102.   14.   48.   10.    1.   12.   29.   18.   20.   13.]\n",
      " [   2.   13.    2.    1.    1.    0.    7.   11.   16.    7.    1.    0.    2.   14.    0.    1.    0.    0.   23.    0.    3.    2.   10.    0.    7.    0.    2.    1.   36. 1488.   27.   15.    2.    7.   10.   10.    1.   73.   37.   90.    2.   27.    1.    0.    0.   23.    5.    9.   11.]\n",
      " [   8.   30.   12.   13.    7.    0.    8.   15.   12.    1.    4.    1.    9.   50.    1.    0.    0.    0.    1.    2.   21.   19.    8.    8.    0.    7.   16.    6.   63.   24. 1083.   85.  168.    5.    2.   23.    6.   22.   16.   44.   15.   30.    6.   11.    9.   80.   32.    4.   13.]\n",
      " [   2.    4.    1.    0.    3.    0.    1.    0.    5.    1.    2.    1.    0.   13.    0.    0.    0.    1.    0.    0.    5.   10.    2.    0.    0.    3.    3.    5.   10.    8.   64. 1720.   30.    9.    2.    7.    0.   12.    9.   10.   15.    5.    3.    5.    1.    8.   15.    1.    4.]\n",
      " [  11.   13.    5.    2.   15.    0.    1.    2.    7.    0.    1.    3.    8.   15.    2.    0.    1.    0.    0.    2.   13.    8.    8.    0.    0.    7.    4.    6.   50.    8.  291.   54. 1223.   27.    5.   73.    0.   11.    0.    3.   38.    9.    3.    8.    8.   31.   15.    2.    7.]\n",
      " [  13.    0.    2.    0.    7.    1.    5.    3.    4.    3.    1.    1.    3.    7.    0.    0.    3.    0.    2.    6.    7.   22.    1.    3.    3.    1.    1.   15.    4.   29.   13.   13.   12. 1743.    1.    5.    0.    3.    6.    6.    5.    4.    0.    1.    1.   20.    0.    9.   11.]\n",
      " [   2.    2.    1.    2.    0.    1.    3.    2.    2.    0.    0.    0.    0.    4.    1.    2.    0.    0.    1.    0.    0.    1.    0.    0.    0.    1.    0.    0.   12.   32.    3.    1.    0.    0. 1545.    7.    0.  188.    2.   17.    0.   34.   38.    1.   32.   43.   19.    1.    0.]\n",
      " [   1.    1.    1.    0.    0.    0.    0.    1.    1.    1.    1.    0.    0.    0.    2.    0.    3.    0.    0.    1.    0.    1.    1.    0.    0.    2.    1.    0.   83.   16.    7.   14.   13.    2.    3. 1782.    0.   24.    1.    2.    6.    0.    0.    0.    0.   23.    0.    1.    5.]\n",
      " [   1.    6.    1.    0.    0.    0.    3.    0.    2.    0.    0.    0.    0.    0.    0.    0.    0.    0.   30.    0.    0.    0.    1.    0.    2.    0.    0.    0.   10.    4.    4.    0.    0.    0.    0.    0. 1874.    5.   38.    5.    0.   11.    0.    0.    0.    0.    1.    0.    2.]\n",
      " [   5.    8.    4.    4.    0.    1.    3.   10.    3.    1.    3.    0.    0.    4.    0.    2.    0.    0.    0.    0.    0.    0.    1.    0.    0.    0.    5.    0.   21.   84.    6.    0.    3.    1.  281.    6.    0. 1250.   20.  121.    0.   68.   10.    1.   18.   25.   17.    8.    6.]\n",
      " [   6.   11.    1.    0.    0.    1.    4.   10.   17.    2.    3.    0.    0.   14.    0.    6.    0.    1.   45.    0.    0.    0.    1.    0.   11.    0.   17.    0.   25.   69.   16.    6.    1.    2.    3.    1.   27.   38. 1568.   24.    0.   45.    1.    0.    4.    3.    7.    8.    2.]\n",
      " [   1.   12.    2.    5.    0.    0.    0.    1.    2.    0.    0.    0.    0.   12.    0.    0.    0.    0.    2.    0.    0.    0.    0.    0.    1.    0.    1.    0.   30.   26.   17.    5.    3.    0.    2.    0.    1.   48.    6. 1768.    0.   19.    2.    1.   11.    3.    5.   10.    4.]\n",
      " [  10.    3.    1.    1.    7.    0.    6.    1.    0.    0.    0.    9.   18.    4.    3.    0.    4.    1.    0.    0.   12.   13.   14.    1.    0.    0.    0.   11.   70.    2.    9.   16.   57.   41.    0.   35.    0.    0.    0.    0. 1625.    0.    0.    0.    0.   19.    0.    2.    5.]\n",
      " [  11.   34.   10.   20.    0.    3.   13.   14.   23.    7.   17.    0.    1.   26.    0.    2.    0.    0.   26.    0.    0.    3.    1.    0.    8.    4.   22.    0.   45.   68.   48.   11.   17.    0.   62.    4.    8.  114.   32.   91.    0. 1106.   10.    9.   72.   20.   33.    5.    0.]\n",
      " [  13.    8.   15.   15.    0.    0.    0.    1.    1.    0.    4.    0.    0.    4.    0.    0.    0.    0.    0.    0.    0.    0.    0.    0.    0.    0.    2.    0.   11.    0.   11.    2.    5.    0.    6.    0.    0.    6.    0.   28.    0.   23. 1769.    3.   60.    3.    9.    0.    1.]\n",
      " [   0.    2.    0.    3.    1.    0.    1.    2.    6.    0.    0.    0.    1.   16.    0.    0.    0.    0.    0.    0.    0.    2.    1.    0.    0.    0.    0.    4.    2.    2.   32.    1.    7.    1.    8.    6.    0.    1.    2.    3.    0.   21.   14. 1699.   64.    7.   86.    0.    5.]\n",
      " [   2.    8.    8.    0.    0.    0.    3.    0.    2.    1.    0.    0.    0.    7.    0.    1.    0.    0.    2.    0.    0.    0.    0.    0.    0.    0.    0.    0.    4.    0.   18.    0.    2.    0.   49.    0.    0.   10.    3.   11.    0.   36.   20.    5. 1791.    3.   11.    1.    2.]\n",
      " [  18.    4.    7.    9.    8.    1.    7.    7.    4.    2.    4.    0.    7.    6.    4.    0.    1.    0.    0.   10.    1.   10.    3.   10.    2.    2.    1.    4.   30.   53.   30.   11.    4.   11.   92.   13.    0.   51.   11.   31.    0.   16.   46.    3.   11. 1403.   33.   10.    9.]\n",
      " [   0.    8.    3.    1.    1.    0.    4.    2.    1.    0.    5.    0.    2.    4.    0.    0.    0.    0.    0.    0.    0.    0.    4.    0.    0.    1.    2.    1.   10.    3.   29.   15.    8.    0.   11.    4.    0.    9.    2.   22.    0.   23.   22.   13.   19.    6. 1758.    1.    6.]\n",
      " [   0.    2.    0.    7.    0.    0.    1.    2.    7.    0.    1.    0.    0.    3.    0.    2.    0.    0.    2.    0.    0.    0.    0.    0.    1.    0.    4.    0.    4.    3.    0.    0.    0.    0.    0.    0.    0.    5.    5.    6.    0.    0.    0.    0.    0.    0.    3. 1940.    2.]\n",
      " [  39.   18.    3.   28.   69.    3.   45.   34.   25.   29.   13.    5.   17.   59.   17.   19.    6.    1.   40.    4.   16.   51.   84.    6.   18.   10.   18.   11.   26.   11.   43.   16.    6.    9.    2.    6.    0.    3.    4.   25.    0.    8.    3.    2.    9.   24.   40.   22. 1053.]]\n"
     ]
    }
   ],
   "source": [
    "from torch import arange\n",
    "from torch.nn import (Module, Linear, Embedding, TransformerEncoderLayer,\n",
    "                      TransformerEncoder)\n",
    "\n",
    "\n",
    "class T_2_tokens(Module):\n",
    "    def __init__(self, N, M):\n",
    "        super(T_2_tokens, self).__init__()\n",
    "        embed_dim = 128\n",
    "        self.token_embedding = Embedding(256, embed_dim)\n",
    "        self.position_embedding = Embedding(N, embed_dim)\n",
    "        encoder_layer = TransformerEncoderLayer(\n",
    "            d_model=embed_dim,\n",
    "            nhead=4,\n",
    "            dim_feedforward=embed_dim * 4,\n",
    "            dropout=0.1,\n",
    "            activation='relu',\n",
    "            batch_first=True  # makes input/output shape [B, L, D]\n",
    "        )\n",
    "        self.transformer_encoder = TransformerEncoder(encoder_layer, num_layers=4)\n",
    "        self.classifier = Linear(embed_dim, M)\n",
    "\n",
    "    def forward(self, x):\n",
    "        batch_size, seq_len = x.size()\n",
    "        positions = arange(seq_len, device=x.device).unsqueeze(0).expand(batch_size, seq_len)\n",
    "        x = self.token_embedding(x) + self.position_embedding(positions)  # [B, L, D]\n",
    "        x = self.transformer_encoder(x)  # [B, L, D]\n",
    "        x = x.mean(dim=1)  # [B, D] - average pooling\n",
    "        logits = self.classifier(x)  # [B, num_classes]\n",
    "        return logits\n",
    "\n",
    "\n",
    "model = benchmark(\n",
    "    feedforward.Classifier(LENGTH // 4, mapping, \"cuda\", T_2_tokens, format.to_tetramers),\n",
    "    \"Transformer\",\n",
    "    max_epochs=6\n",
    ")\n",
    "matrix = models.confusion_matrix(model, test_data, \"cuda\", mapping)\n",
    "plt.matshow(matrix)\n",
    "plt.show()\n",
    "np.set_printoptions(precision=3, suppress=True, linewidth=500, threshold=np.inf)\n",
    "print(matrix)"
   ]
  },
  {
   "cell_type": "markdown",
   "id": "0b149e02",
   "metadata": {},
   "source": [
    "### 2.4. Autoencoders"
   ]
  },
  {
   "cell_type": "code",
   "execution_count": null,
   "id": "410885cf",
   "metadata": {},
   "outputs": [
    {
     "name": "stdout",
     "output_type": "stream",
     "text": [
      "Number of parameters: 73_430_095\n"
     ]
    },
    {
     "name": "stderr",
     "output_type": "stream",
     "text": [
      "100%|██████████| 9196/9196 [05:45<00:00, 26.64it/s]\n"
     ]
    },
    {
     "name": "stdout",
     "output_type": "stream",
     "text": [
      "1/20 T loss: 0.00991. V loss: 0.00904. F1: [0.75798, 0.45015]. Patience: 3\n"
     ]
    },
    {
     "name": "stderr",
     "output_type": "stream",
     "text": [
      "100%|██████████| 9196/9196 [06:01<00:00, 25.46it/s]\n"
     ]
    },
    {
     "name": "stdout",
     "output_type": "stream",
     "text": [
      "2/20 T loss: 0.00778. V loss: 0.00822. F1: [0.82284, 0.55703]. Patience: 3\n"
     ]
    },
    {
     "name": "stderr",
     "output_type": "stream",
     "text": [
      "100%|██████████| 9196/9196 [06:08<00:00, 24.92it/s]\n"
     ]
    },
    {
     "name": "stdout",
     "output_type": "stream",
     "text": [
      "3/20 T loss: 0.00710. V loss: 0.00785. F1: [0.8232, 0.58458]. Patience: 3\n"
     ]
    },
    {
     "name": "stderr",
     "output_type": "stream",
     "text": [
      "100%|██████████| 9196/9196 [06:08<00:00, 24.96it/s]\n"
     ]
    },
    {
     "name": "stdout",
     "output_type": "stream",
     "text": [
      "4/20 T loss: 0.00660. V loss: 0.00774. F1: [0.85039, 0.61506]. Patience: 3\n"
     ]
    },
    {
     "name": "stderr",
     "output_type": "stream",
     "text": [
      "100%|██████████| 9196/9196 [06:08<00:00, 24.96it/s]\n"
     ]
    },
    {
     "name": "stdout",
     "output_type": "stream",
     "text": [
      "5/20 T loss: 0.00616. V loss: 0.00802. F1: [0.83835, 0.59645]. Patience: 2\n"
     ]
    },
    {
     "name": "stderr",
     "output_type": "stream",
     "text": [
      "100%|██████████| 9196/9196 [06:00<00:00, 25.53it/s]\n"
     ]
    },
    {
     "name": "stdout",
     "output_type": "stream",
     "text": [
      "6/20 T loss: 0.00577. V loss: 0.00827. F1: [0.81767, 0.57895]. Patience: 1\n"
     ]
    },
    {
     "name": "stderr",
     "output_type": "stream",
     "text": [
      "100%|██████████| 9196/9196 [05:57<00:00, 25.71it/s]\n"
     ]
    },
    {
     "name": "stdout",
     "output_type": "stream",
     "text": [
      "7/20 T loss: 0.00548. V loss: 0.00815. F1: [0.84603, 0.59513]. Patience: 0\n",
      "The model is overfitting; stopping early.\n",
      "Training took 2617.112 s.\n"
     ]
    },
    {
     "data": {
      "image/png": "[encoded data removed]",
      "text/plain": [
       "<Figure size 1200x400 with 2 Axes>"
      ]
     },
     "metadata": {},
     "output_type": "display_data"
    },
    {
     "name": "stdout",
     "output_type": "stream",
     "text": [
      "Test results: [0.84448, 0.614]\n"
     ]
    },
    {
     "data": {
      "image/png": "[encoded data removed]",
      "text/plain": [
       "<Figure size 480x480 with 1 Axes>"
      ]
     },
     "metadata": {},
     "output_type": "display_data"
    },
    {
     "name": "stdout",
     "output_type": "stream",
     "text": [
      "[[ 991.   10.  251. ...    3.    9.    8.]\n",
      " [   2. 1376.   33. ...   10.    0.    7.]\n",
      " [  14.   11. 1729. ...    3.    1.    3.]\n",
      " ...\n",
      " [   1.    2.   11. ... 1372.    1.    7.]\n",
      " [   1.    9.    6. ...    3. 1683.    1.]\n",
      " [  41.   13.   42. ...   18.   17.  545.]]\n"
     ]
    }
   ],
   "source": [
    "from torch import clamp, tensor\n",
    "from torch.nn import (Module, Conv1d, ReLU, Sequential, Flatten, Linear,\n",
    "                      CrossEntropyLoss, Dropout, MaxPool1d, LeakyReLU, ConvTranspose1d, Sigmoid)\n",
    "from torch import stack, tensor, float32\n",
    "from torch.func import vmap\n",
    "import torch.nn.functional as F\n",
    "\n",
    "\n",
    "class Unsqueeze(Module):\n",
    "    def __init__(self, dim):\n",
    "        super().__init__()\n",
    "        self.dim = dim\n",
    "\n",
    "    def forward(self, x):\n",
    "        return x.unsqueeze(self.dim)\n",
    "\n",
    "\n",
    "class DAE_1(Module):\n",
    "    \"\"\"Denoising autoencoder 1.\"\"\"\n",
    "    def __init__(self, N, M):\n",
    "        super(DAE_1, self).__init__()\n",
    "        LATENT_SPACE_SIZE = 128\n",
    "        self.encoder = Sequential(\n",
    "            Conv1d(4, 32, kernel_size=5, padding=2),\n",
    "            LeakyReLU(),\n",
    "            MaxPool1d(kernel_size=2),\n",
    "            Conv1d(32, 64, kernel_size=3, padding=1),\n",
    "            LeakyReLU(),\n",
    "            Flatten(),\n",
    "            Linear(N * 64 // 2, N),\n",
    "            LeakyReLU(),\n",
    "            Linear(N, LATENT_SPACE_SIZE),\n",
    "            LeakyReLU(),\n",
    "        )\n",
    "        self.decoder = Sequential(\n",
    "            Linear(LATENT_SPACE_SIZE, N // 2),\n",
    "            LeakyReLU(),\n",
    "            Linear(N // 2, N),\n",
    "            LeakyReLU(),\n",
    "            Unsqueeze(1),\n",
    "            ConvTranspose1d(1, 4, kernel_size=3, stride=1, padding=1),\n",
    "            LeakyReLU(),\n",
    "            Sigmoid(),\n",
    "        )\n",
    "        self.classifier = Linear(LATENT_SPACE_SIZE, M)\n",
    "\n",
    "    def forward(self, x):\n",
    "        if self.training:\n",
    "            x_noisy = autoencoder.add_masking_noise(x, dropout_prob=0.2)\n",
    "            x = clamp(x_noisy, 0.0, 1.0)\n",
    "        latent = self.encoder(x)\n",
    "        classification = self.classifier(latent)\n",
    "        reconstruction = self.decoder(latent)\n",
    "        return classification.float(), reconstruction.float()\n",
    "\n",
    "\n",
    "model = benchmark(\n",
    "    autoencoder.Classifier(LENGTH, mapping, \"cuda\", DAE_1, format.to_channels),\n",
    "    \"DAE\",\n",
    ")\n",
    "matrix = models.confusion_matrix(model, test_data, \"cuda\", mapping)\n",
    "plt.matshow(matrix)\n",
    "plt.show()\n",
    "np.set_printoptions(precision=3, suppress=True, linewidth=500, threshold=np.inf)\n",
    "print(matrix)"
   ]
  },
  {
   "cell_type": "markdown",
   "id": "0294646c",
   "metadata": {},
   "source": [
    "### 2.5. Transformer / Autoencoder Hybrid Model"
   ]
  },
  {
   "cell_type": "code",
   "execution_count": 9,
   "id": "1104e6b7",
   "metadata": {},
   "outputs": [
    {
     "name": "stdout",
     "output_type": "stream",
     "text": [
      "Number of parameters: 1_492_568\n"
     ]
    },
    {
     "name": "stderr",
     "output_type": "stream",
     "text": [
      "100%|██████████| 9196/9196 [30:20<00:00,  5.05it/s]\n"
     ]
    },
    {
     "name": "stdout",
     "output_type": "stream",
     "text": [
      "1/6 T loss: 0.00834. V loss: 0.00755. F1: [0.79947, 0.54627]. Patience: 3\n"
     ]
    },
    {
     "name": "stderr",
     "output_type": "stream",
     "text": [
      "100%|██████████| 9196/9196 [30:39<00:00,  5.00it/s]\n"
     ]
    },
    {
     "name": "stdout",
     "output_type": "stream",
     "text": [
      "2/6 T loss: 0.00682. V loss: 0.00679. F1: [0.83707, 0.6094]. Patience: 3\n"
     ]
    },
    {
     "name": "stderr",
     "output_type": "stream",
     "text": [
      "100%|██████████| 9196/9196 [30:54<00:00,  4.96it/s]\n"
     ]
    },
    {
     "name": "stdout",
     "output_type": "stream",
     "text": [
      "3/6 T loss: 0.00644. V loss: 0.00641. F1: [0.86373, 0.64309]. Patience: 3\n"
     ]
    },
    {
     "name": "stderr",
     "output_type": "stream",
     "text": [
      "100%|██████████| 9196/9196 [31:07<00:00,  4.92it/s]\n"
     ]
    },
    {
     "name": "stdout",
     "output_type": "stream",
     "text": [
      "4/6 T loss: 0.00624. V loss: 0.00623. F1: [0.8658, 0.66165]. Patience: 3\n"
     ]
    },
    {
     "name": "stderr",
     "output_type": "stream",
     "text": [
      "100%|██████████| 9196/9196 [31:07<00:00,  4.92it/s]\n"
     ]
    },
    {
     "name": "stdout",
     "output_type": "stream",
     "text": [
      "5/6 T loss: 0.00611. V loss: 0.00614. F1: [0.87079, 0.66635]. Patience: 3\n"
     ]
    },
    {
     "name": "stderr",
     "output_type": "stream",
     "text": [
      "100%|██████████| 9196/9196 [31:10<00:00,  4.92it/s]\n"
     ]
    },
    {
     "name": "stdout",
     "output_type": "stream",
     "text": [
      "6/6 T loss: 0.00601. V loss: 0.00612. F1: [0.87532, 0.66188]. Patience: 2\n",
      "Training took 11468.814 s.\n"
     ]
    },
    {
     "data": {
      "image/png": "[encoded data removed]",
      "text/plain": [
       "<Figure size 1200x400 with 2 Axes>"
      ]
     },
     "metadata": {},
     "output_type": "display_data"
    },
    {
     "name": "stderr",
     "output_type": "stream",
     "text": [
      "d:\\maitrise\\stelaro\\venv\\Lib\\site-packages\\sklearn\\metrics\\_classification.py:98: UserWarning: The number of unique classes is greater than 50% of the number of samples.\n",
      "  type_true = type_of_target(y_true, input_name=\"y_true\")\n",
      "d:\\maitrise\\stelaro\\venv\\Lib\\site-packages\\sklearn\\metrics\\_classification.py:99: UserWarning: The number of unique classes is greater than 50% of the number of samples.\n",
      "  type_pred = type_of_target(y_pred, input_name=\"y_pred\")\n",
      "d:\\maitrise\\stelaro\\venv\\Lib\\site-packages\\sklearn\\utils\\multiclass.py:79: UserWarning: The number of unique classes is greater than 50% of the number of samples.\n",
      "  ys_types = set(type_of_target(x) for x in ys)\n",
      "d:\\maitrise\\stelaro\\venv\\Lib\\site-packages\\sklearn\\utils\\multiclass.py:79: UserWarning: The number of unique classes is greater than 50% of the number of samples.\n",
      "  ys_types = set(type_of_target(x) for x in ys)\n",
      "d:\\maitrise\\stelaro\\venv\\Lib\\site-packages\\sklearn\\metrics\\_classification.py:98: UserWarning: The number of unique classes is greater than 50% of the number of samples.\n",
      "  type_true = type_of_target(y_true, input_name=\"y_true\")\n",
      "d:\\maitrise\\stelaro\\venv\\Lib\\site-packages\\sklearn\\metrics\\_classification.py:99: UserWarning: The number of unique classes is greater than 50% of the number of samples.\n",
      "  type_pred = type_of_target(y_pred, input_name=\"y_pred\")\n",
      "d:\\maitrise\\stelaro\\venv\\Lib\\site-packages\\sklearn\\utils\\multiclass.py:79: UserWarning: The number of unique classes is greater than 50% of the number of samples.\n",
      "  ys_types = set(type_of_target(x) for x in ys)\n",
      "d:\\maitrise\\stelaro\\venv\\Lib\\site-packages\\sklearn\\utils\\multiclass.py:79: UserWarning: The number of unique classes is greater than 50% of the number of samples.\n",
      "  ys_types = set(type_of_target(x) for x in ys)\n"
     ]
    },
    {
     "name": "stdout",
     "output_type": "stream",
     "text": [
      "Test results: [0.87955, 0.68935]\n"
     ]
    },
    {
     "data": {
      "image/png": "[encoded data removed]",
      "text/plain": [
       "<Figure size 480x480 with 1 Axes>"
      ]
     },
     "metadata": {},
     "output_type": "display_data"
    },
    {
     "name": "stdout",
     "output_type": "stream",
     "text": [
      "[[1344.   10.   80.   42.   22.    0.   23.   51.   21.    7.   16.   16.    8.    5.    1.   18.    2.    1.    7.    8.    4.   13.    5.    3.    5.   16.  107.    3.   18.    6.    7.    7.   28.   14.    1.    0.    0.    2.    7.   12.    3.   10.    7.    3.    9.   12.    2.    3.   11.]\n",
      " [   2. 1639.   22.   12.    2.    0.   10.   24.    9.    4.    7.    3.   18.   13.    1.    2.    0.    0.    6.    0.    0.    1.    2.    0.    1.    3.   16.    0.    7.   11.   29.   17.   28.    1.    1.    0.    4.    4.    9.   35.    2.   11.    2.    2.   10.    3.   17.    6.    4.]\n",
      " [  37.   20. 1722.   14.    0.    1.    8.   22.    6.    2.    9.    7.    1.    2.    0.    2.    0.    0.    1.    0.    1.    2.    1.    1.    0.    4.   45.    2.   10.    6.   14.    5.    9.    0.    0.    0.    0.    0.    3.   11.    2.    5.    2.    0.    7.    3.    3.    5.    5.]\n",
      " [  37.   10.   11. 1733.    0.    4.   10.    7.   21.    3.   20.    1.    6.    8.    4.   10.    0.    0.    1.    0.    0.    0.    1.    2.    4.    1.   33.    0.    1.    1.   13.    0.   12.    0.    0.    1.    0.    3.    1.    5.    0.    5.    1.    0.    0.   14.    9.    3.    4.]\n",
      " [  21.    3.    2.    0. 1292.    0.   14.   11.   11.    3.    1.   10.    4.   42.   26.    0.   42.    0.    0.  116.   42.   51.   63.   29.    0.   21.    4.   43.    1.    3.   11.    3.   19.   22.    0.    6.    0.    2.    1.    0.   17.    1.    0.    6.    0.   11.    4.    0.   42.]\n",
      " [   3.    3.    1.   12.    0. 1845.   14.    8.    7.    6.    3.    0.    0.    4.    1.    7.    0.    0.    0.    0.    0.    0.    1.    0.    5.   12.   52.    0.    2.    3.    0.    0.    0.    0.    0.    0.    0.    0.    0.    1.    0.    6.    2.    0.    1.    1.    0.    0.    0.]\n",
      " [  22.   17.   42.   30.    3.   23.  843.  223.   56.   31.   18.   19.   16.   42.    2.   58.    0.    1.   21.    8.    7.   20.   33.    4.   32.   57.  121.   27.   14.   31.    9.   10.    7.    9.    0.    3.    1.   11.    2.   15.   12.   23.    3.    2.    6.    6.    9.    5.   46.]\n",
      " [  18.   26.   22.   21.    4.   13.   41. 1311.   52.   12.   26.   12.   20.   34.    3.   19.    1.    1.   17.    0.    7.   31.   23.    0.   16.    5.  117.    5.   15.   23.   11.    5.   13.    1.    2.    1.    0.    2.    5.    7.    2.   10.    3.    0.    3.    7.    8.    9.   16.]\n",
      " [   3.   13.    3.   11.    1.    0.    5.   17. 1731.    5.   33.    1.   17.   13.    0.    5.    0.    0.    8.    0.    0.    4.    2.    1.    5.    2.   32.    0.    6.   10.    5.   14.    4.    0.    0.    0.    0.    1.   13.    7.    0.    4.    2.    3.    0.    3.    4.    7.    5.]\n",
      " [   2.    1.    0.    4.    0.   17.   15.   34.   46. 1649.    8.    0.    0.    1.    0.   50.    0.    0.   41.    0.    0.    9.   10.    0.   34.    3.   37.    0.    0.    6.    0.    0.    1.    2.    0.    1.    2.    1.    4.    0.    0.    3.    0.    0.    2.    1.    2.    3.   11.]\n",
      " [   3.    9.    8.   48.    1.    6.    8.   29.  103.   10. 1588.    0.    5.   38.    0.    1.    0.    0.    3.    0.    0.    3.   11.    0.    6.    4.   43.    0.    1.    9.   10.    6.    5.    0.    0.    0.    0.    2.    3.    6.    0.   14.    5.    3.    3.    0.    5.    0.    1.]\n",
      " [  14.    4.   15.    0.    2.    0.   17.   31.   15.    1.    4. 1623.   18.    5.    0.    1.    1.   14.    0.    0.   24.   18.   33.    0.    5.   39.   23.   28.    1.    3.    6.   11.    8.    1.    0.    5.    0.    0.    1.    0.   22.    0.    0.    0.    0.    2.    0.    0.    5.]\n",
      " [   6.   10.    7.    4.    6.    2.    7.   95.    5.    0.    7.    8. 1596.   22.    6.    0.    7.    5.    1.    0.   18.    8.   57.    3.    8.   12.   10.   15.    2.    6.    6.    3.   17.    4.    1.    2.    0.    2.    1.    1.   13.    0.    0.    1.    1.    4.    2.    0.    9.]\n",
      " [   2.   17.    5.   16.    3.    2.    6.   44.   23.    5.   34.    5.   12. 1598.    1.    5.    1.    0.    8.    0.    2.   15.   24.    1.    5.    6.   28.    3.    6.    9.    7.    8.   16.    1.    0.    1.    0.    1.    4.   11.    1.    6.    4.    6.    3.   12.   13.    4.   16.]\n",
      " [   2.    0.    0.    1.   16.    0.    3.    5.    7.    1.    1.    4.    8.   29. 1707.    0.   15.    0.    0.   42.    1.   27.   31.   13.    1.   24.    2.   26.    3.    0.    0.    3.    3.    1.    0.    3.    0.    0.    0.    0.    0.    0.    0.    0.    0.   15.    0.    0.    6.]\n",
      " [   7.    2.    5.   21.    0.    4.   27.   11.   26.   26.    0.    0.    0.    0.    0. 1704.    0.    0.   19.    0.    0.    0.    0.    0.   19.    0.   67.    0.   10.    4.    1.    0.    1.    0.    1.    0.    0.    1.    7.    2.    0.    7.    2.    0.    2.    2.    0.   14.    8.]\n",
      " [   2.    0.    0.    0.   49.    0.    0.    0.    0.    0.    0.    3.    3.    1.    5.    0. 1723.    0.    0.   74.   12.   44.   38.    1.    0.    1.    0.   11.    0.    0.    2.    1.    2.   11.    0.    6.    0.    0.    0.    0.    7.    0.    0.    0.    0.    0.    0.    0.    4.]\n",
      " [   5.    0.    2.    0.    0.    0.   13.   31.   11.    0.    1.  101.    7.    1.    0.    0.    0. 1691.    0.    0.   33.   15.    5.    1.   24.    9.    9.   25.    0.    3.    0.    2.    0.    1.    0.    0.    0.    0.    4.    0.    4.    1.    0.    0.    0.    1.    0.    0.    0.]\n",
      " [   3.   16.    0.    3.    0.    4.   24.   28.   52.   69.    2.    0.    0.   37.    0.   26.    0.    0. 1496.    0.    0.    0.   13.    0.   22.    0.   49.    0.   15.   20.    0.    0.    0.    2.    0.    0.   23.    0.   19.    9.    0.   15.    0.    0.    2.    2.    0.   31.   18.]\n",
      " [   5.    0.    0.    0.   46.    0.   15.    0.    0.    0.    0.    5.    1.    5.    6.    0.   44.    0.    0. 1746.    9.   15.    5.   21.    0.   15.    0.   25.    1.    0.    1.    0.    3.   14.    0.    2.    0.    0.    0.    0.    3.    0.    0.    1.    0.    7.    0.    0.    5.]\n",
      " [  21.    0.    1.    0.   22.    0.    3.    2.    4.    0.    1.   43.    6.   15.    1.    0.   17.   10.    0.    2. 1472.  127.   42.    8.    3.   52.    7.   54.    0.    0.   18.   11.   21.    5.    0.    1.    0.    0.    1.    0.   14.    1.    0.    1.    0.    7.    0.    0.    7.]\n",
      " [  19.    5.    7.    0.   54.    0.   15.   58.    7.    3.    5.   11.    9.   10.    7.    0.    3.    1.    0.   39.   47. 1530.   21.   22.    5.   24.   24.   20.    2.    1.    1.   12.    2.   10.    0.    1.    0.    1.    0.    0.    5.    0.    0.    1.    1.    6.    0.    0.   11.]\n",
      " [   4.    8.    5.   17.   34.    6.   45.  136.   42.   25.   15.   33.   88.   80.   22.    2.   13.    2.   18.    8.   40.   24. 1018.    3.    5.   62.   27.   66.    5.   27.   16.    7.   11.    4.    0.    0.    1.    2.    2.    4.   13.    1.    1.    6.    1.    4.    6.    2.   39.]\n",
      " [  31.    0.    1.    0.   70.    0.   14.    2.    0.    0.    0.   13.    5.   10.   23.    0.   13.    0.    0.   52.   41.   29.   23. 1476.    0.   47.    2.   84.    2.    1.   10.    2.   11.    7.    0.    1.    0.    0.    0.    0.   10.    2.    0.    2.    0.    6.    0.    0.   10.]\n",
      " [   4.    4.    6.   10.    0.    6.   29.   38.   26.   37.    4.    1.    1.    2.    0.   61.    0.    0.   13.    0.    1.    2.    6.    0. 1671.    2.   34.    0.    4.    9.    1.    0.    1.    0.    0.    0.    2.    0.    7.    0.    0.    8.    0.    0.    3.    0.    1.    5.    1.]\n",
      " [  36.    6.    7.    0.    9.    3.    3.   28.   25.    2.    2.   44.   44.   27.    9.    2.    1.    2.    0.    4.   45.   72.   42.    3.    7. 1435.   13.   63.    1.    3.   16.   11.   12.    4.    0.    2.    1.    0.    0.    1.    3.    1.    0.    1.    3.    4.    0.    0.    3.]\n",
      " [  14.   11.   10.   23.    0.   12.   24.   19.   25.   13.   12.    0.    2.    9.    2.   45.    0.    0.   12.    0.    0.    1.    1.    0.   12.    0. 1658.    0.   26.    2.    8.    2.   11.    1.    0.    0.    0.    1.    8.    3.    0.   10.    1.    0.    3.    1.    1.   12.    5.]\n",
      " [   4.    1.    9.    0.    7.    0.    6.   34.    2.    0.    2.   47.    7.    8.    6.    1.    6.    7.    0.    4.   34.   57.   25.    1.   18.   47.    6. 1624.    0.    2.    6.    2.    4.    4.    0.    2.    0.    0.    0.    0.    8.    1.    1.    0.    0.    6.    0.    1.    0.]\n",
      " [   8.   38.   14.   14.    3.    2.    6.    6.   20.    4.    8.    2.    4.    7.    1.   14.    0.    0.   15.    2.    2.    0.    1.   12.    4.    3.   31.    0. 1175.   66.   39.   31.   28.    7.    2.   58.    5.   20.   54.  103.   54.   33.    6.    8.   16.   23.   17.   17.   17.]\n",
      " [   7.   14.    4.    2.    3.    0.    5.   35.   22.    7.    3.    0.    4.   12.    0.    2.    0.    0.   20.    0.    2.    4.    6.    0.    4.    1.   16.    0.   26. 1478.   21.   21.   14.   16.    4.    7.    2.   40.   41.   73.    4.   47.    1.    0.    0.   17.    7.    3.    5.]\n",
      " [  10.   35.   13.   17.   12.    2.    3.   13.   21.    2.    7.   12.   22.   33.    5.    1.    1.    0.    0.    5.   12.   17.   10.   14.    0.   16.   43.    7.   19.   15.  808.  110.  461.    4.    1.   16.    8.   11.    6.   41.   33.   18.    8.   15.   16.   23.   43.    1.   10.]\n",
      " [   4.    4.    1.    0.    0.    0.    0.    5.    6.    0.    2.    2.    0.    3.    0.    0.    0.    0.    0.    0.    2.    2.    3.    0.    0.    1.    9.    1.    1.    1.   56. 1758.   67.    5.    1.    4.    0.    4.    4.    5.   11.    1.    4.    7.    3.    3.   19.    0.    1.]\n",
      " [   4.   13.    3.    1.    8.    0.    1.    1.    4.    0.    1.    4.   12.   12.    0.    0.    4.    0.    0.    1.    1.    3.    6.    1.    0.    1.   27.    2.    5.    6.  103.   80. 1489.   31.    1.   20.    0.    6.    0.    5.   71.    4.    2.   24.   15.   10.   14.    0.    4.]\n",
      " [   2.    0.    3.    0.    8.    0.    3.    6.    2.    2.    1.    2.    3.    2.    0.    0.    6.    0.    1.   10.    7.   20.    5.    7.    0.    3.    9.   10.    1.   21.    7.   30.   19. 1746.    0.    1.    0.    2.    7.    2.   23.    3.    0.    5.    0.   14.    2.    1.    4.]\n",
      " [   6.    1.    1.    3.    0.    0.    5.    3.    3.    0.    1.    1.    1.    7.    2.    2.    0.    0.    1.    0.    0.    1.    0.    2.    2.    9.    2.    0.    9.   49.    7.    2.    3.    0. 1332.    3.    1.  229.    4.   24.    0.   34.   52.    7.   99.   60.   32.    0.    0.]\n",
      " [   2.    0.    0.    0.    2.    0.    0.    2.    2.    0.    0.    0.    1.    1.    2.    0.    9.    0.    0.    0.    0.    2.    1.    2.    0.    3.    4.    0.   29.    8.    8.   26.   63.    7.    6. 1730.    0.   20.    0.    1.   31.    3.    0.    2.    0.   23.    6.    1.    3.]\n",
      " [   1.    3.    0.    0.    0.    0.    1.    1.    2.    0.    0.    0.    0.    0.    0.    1.    0.    0.   21.    0.    0.    0.    0.    0.    0.    0.    4.    0.   10.    4.    1.    0.    0.    0.    0.    0. 1910.    2.   17.    7.    0.   11.    1.    0.    1.    2.    0.    0.    0.]\n",
      " [   2.   16.    7.    5.    0.    0.    6.   13.   11.    2.   10.    1.    0.    4.    0.    1.    0.    0.    0.    0.    0.    0.    0.    0.    0.    0.   17.    0.   23.   96.   22.    6.   21.    1.  179.    8.    2. 1153.   20.  173.    0.   85.    9.    2.   59.   21.   20.    4.    1.]\n",
      " [   3.    5.    2.    4.    0.    2.    2.   11.   28.    7.    8.    0.    0.   10.    0.    9.    0.    0.   46.    0.    0.    0.    1.    0.    7.    0.   48.    0.   21.   54.   23.   16.    3.    1.    5.    0.   39.   18. 1527.   30.    0.   45.    0.    0.    3.    3.    3.   15.    1.]\n",
      " [   3.   21.    2.    7.    0.    0.    1.    6.    6.    1.    0.    0.    0.   10.    0.    0.    0.    0.    4.    0.    0.    1.    0.    0.    1.    0.   10.    0.   21.   29.   25.    1.    8.    1.    0.    0.    5.   21.    3. 1748.    0.   14.    3.    0.   17.    1.   17.    7.    6.]\n",
      " [   2.    1.    2.    0.    1.    0.    3.    3.    1.    0.    0.    5.    7.    3.    1.    0.    3.    0.    0.    0.    1.    1.    8.    1.    0.    0.    0.    0.   10.    1.    4.   43.   31.    9.    0.    7.    0.    0.    0.    0. 1841.    0.    1.    0.    0.    8.    0.    0.    2.]\n",
      " [  15.   42.   17.   26.    0.    7.   11.   13.   43.   12.   33.    0.    0.   24.    0.    4.    0.    0.   24.    1.    0.    1.    5.    2.    7.    4.   45.    0.   50.   46.   88.    5.   24.    0.   29.    4.   23.   56.   26.   86.    0.  996.   13.   30.  116.   15.   49.    6.    2.]\n",
      " [   0.    8.    1.    6.    0.    1.    0.    4.    4.    0.    9.    0.    0.    2.    0.    1.    0.    0.    1.    0.    0.    0.    0.    0.    1.    1.    5.    0.    2.    2.    5.    0.    9.    0.    1.    0.    0.    0.    0.    6.    0.    1. 1844.    9.   61.    6.   10.    0.    0.]\n",
      " [   0.    0.    0.    1.    0.    0.    0.    3.    0.    1.    0.    0.    0.   11.    0.    1.    0.    0.    0.    0.    0.    1.    1.    0.    0.    0.    4.    0.    0.    1.   14.    2.   10.    0.    2.    1.    0.    0.    3.    1.    0.    1.    5. 1869.   25.    0.   42.    0.    1.]\n",
      " [   1.   12.   11.    3.    0.    0.    3.    0.    2.    2.    1.    0.    0.    0.    0.    1.    0.    0.    1.    0.    0.    0.    0.    1.    0.    1.    2.    0.    1.    0.   22.    1.    5.    0.   14.    0.    0.    5.    1.    8.    0.   13.   10.   19. 1831.    1.   24.    0.    4.]\n",
      " [  16.    6.   23.    8.   17.    4.    6.   19.    5.    1.    2.    1.    7.    4.   13.    0.    6.    0.    0.   16.    0.    7.    5.   24.    1.    5.   16.    7.   14.   57.   39.   19.   26.   19.   61.   15.    0.   46.    9.   21.    5.   23.   53.    9.   20. 1297.   35.    5.    8.]\n",
      " [   6.    8.    2.    4.    0.    0.    5.    6.    6.    1.    6.    0.    1.    5.    0.    0.    0.    0.    1.    0.    0.    0.    2.    0.    0.    0.   12.    0.    9.    3.   31.   17.   14.    0.    5.    0.    0.    4.    1.   16.    0.    9.   11.   32.   24.    3. 1754.    0.    2.]\n",
      " [   0.    5.    0.   12.    0.    0.    0.    1.    4.    0.    1.    0.    0.    3.    0.    2.    0.    0.    1.    0.    0.    0.    2.    0.    0.    0.   12.    0.    4.    7.    3.    1.    0.   11.    0.    0.    0.    4.    1.    3.    0.    2.    0.    0.    0.    4.    1. 1914.    2.]\n",
      " [  21.   24.    9.   36.   73.    6.   64.   94.   35.   26.   12.    6.   28.   50.    9.   37.   15.    0.   41.    8.   18.   41.  132.   10.    9.   17.   62.    5.   10.   18.   29.   17.   13.   16.    0.    3.    0.    1.    3.   14.    3.    9.    3.    7.   10.   17.   29.    8.  902.]]\n"
     ]
    }
   ],
   "source": [
    "from torch import arange, randn_like\n",
    "from torch.nn import (Module, Linear, Embedding, TransformerEncoderLayer,\n",
    "                      TransformerEncoder, Sequential, LeakyReLU, Sigmoid,\n",
    "                      ConvTranspose1d)\n",
    "\n",
    "\n",
    "class Unsqueeze(Module):\n",
    "    def __init__(self, dim):\n",
    "        super().__init__()\n",
    "        self.dim = dim\n",
    "\n",
    "    def forward(self, x):\n",
    "        return x.unsqueeze(self.dim)\n",
    "\n",
    "\n",
    "def add_gaussian_noise(x, std=0.1):\n",
    "    noise = randn_like(x) * std\n",
    "    return x + noise\n",
    "\n",
    "\n",
    "class T_DAE_hybrid_1(Module):\n",
    "    def __init__(self, N, M):\n",
    "        super(T_DAE_hybrid_1, self).__init__()\n",
    "        embed_dim = 128\n",
    "        self.token_embedding = Embedding(256, embed_dim)\n",
    "        self.position_embedding = Embedding(N, embed_dim)\n",
    "        encoder_layer = TransformerEncoderLayer(\n",
    "            d_model=embed_dim,\n",
    "            nhead=4,\n",
    "            dim_feedforward=embed_dim * 4,\n",
    "            dropout=0.1,\n",
    "            activation='relu',\n",
    "            batch_first=True  # makes input/output shape [B, L, D]\n",
    "        )\n",
    "        self.transformer_encoder = TransformerEncoder(encoder_layer, num_layers=4)\n",
    "        self.classifier = Linear(embed_dim, M)\n",
    "        self.decoder = Sequential(\n",
    "            Linear(embed_dim, N),\n",
    "            LeakyReLU(),\n",
    "            Linear(N, N * 4),\n",
    "            LeakyReLU(),\n",
    "            Unsqueeze(1),\n",
    "            ConvTranspose1d(1, 4, kernel_size=3, stride=1, padding=1),\n",
    "            LeakyReLU(),\n",
    "            Sigmoid(),\n",
    "        )\n",
    "\n",
    "    def forward(self, x):\n",
    "        batch_size, seq_len = x.size()\n",
    "        positions = arange(seq_len, device=x.device).unsqueeze(0).expand(batch_size, seq_len)\n",
    "        x = self.token_embedding(x) + self.position_embedding(positions)  # [B, L, D]\n",
    "        x = self.transformer_encoder(x)  # [B, L, D]\n",
    "        x = x.mean(dim=1)  # [B, D] - average pooling\n",
    "        classification = self.classifier(x)\n",
    "        if self.training:\n",
    "            x = add_gaussian_noise(x, 0.1)\n",
    "        reconstruction = self.decoder(x)\n",
    "        return classification, reconstruction\n",
    "\n",
    "\n",
    "model = benchmark(\n",
    "    autoencoder.Classifier(LENGTH // 4, mapping, \"cuda\", T_DAE_hybrid_1, format.to_tetramers),\n",
    "    \"Transformer\",\n",
    "    max_epochs=6\n",
    ")\n",
    "matrix = models.confusion_matrix(model, test_data, \"cuda\", mapping)\n",
    "plt.matshow(matrix)\n",
    "plt.show()\n",
    "np.set_printoptions(precision=3, suppress=True, linewidth=500, threshold=np.inf)\n",
    "print(matrix)\n"
   ]
  },
  {
   "cell_type": "markdown",
   "id": "7951f891",
   "metadata": {},
   "source": [
    "## 3. Multi-Level Classification"
   ]
  },
  {
   "cell_type": "code",
   "execution_count": 2,
   "id": "919ea62e",
   "metadata": {},
   "outputs": [],
   "source": [
    "BERTAX_TRAIN = BERTAX_DIRECTORY + \"train/\"\n",
    "BERTAX_VALIDATION = BERTAX_DIRECTORY + \"validation/\"\n",
    "BERTAX_TEST = BERTAX_DIRECTORY + \"test/\"\n",
    "\n",
    "from time import time\n",
    "import json\n",
    "from torch.utils.data import DataLoader\n",
    "import matplotlib.pyplot as plt\n",
    "from torch import nn\n",
    "\n",
    "from stelaro import models\n",
    "from stelaro.models import autoencoder, feedforward, transformer\n",
    "\n",
    "LENGTH = 1500\n",
    "BATCH_SIZE = 64\n",
    "\n",
    "with open(BERTAX_DIRECTORY + \"statistics/map.json\", \"r\") as f:\n",
    "    mapping = json.load(f)\n",
    "\n",
    "\n",
    "train_data = DataLoader(\n",
    "    models.SyntheticMultiLevelTetramerDataset(\n",
    "        BERTAX_TRAIN,\n",
    "        mapping,\n",
    "        (),\n",
    "        1,\n",
    "        balance = True,\n",
    "        other_factor = 0\n",
    "    ),\n",
    "    batch_size=BATCH_SIZE,\n",
    "    shuffle=True\n",
    ")\n",
    "validation_data = DataLoader(\n",
    "    models.SyntheticMultiLevelTetramerDataset(\n",
    "        BERTAX_VALIDATION,\n",
    "        mapping,\n",
    "        (),\n",
    "        1,\n",
    "        balance = False,\n",
    "        other_factor = 0\n",
    "    ),\n",
    "    batch_size=BATCH_SIZE,\n",
    "    shuffle=True\n",
    ")\n",
    "test_data = DataLoader(\n",
    "    models.SyntheticMultiLevelTetramerDataset(\n",
    "        BERTAX_TEST,\n",
    "        mapping,\n",
    "        (),\n",
    "        1,\n",
    "        balance = False,\n",
    "        other_factor = 0\n",
    "    ),\n",
    "    batch_size=BATCH_SIZE,\n",
    "    shuffle=True\n",
    ")\n",
    "mapping = train_data.dataset.mapping\n",
    "\n",
    "\n",
    "def benchmark(\n",
    "        classifier: models.Classifier,\n",
    "        name: str,\n",
    "        max_epochs: int = 20\n",
    "    ):\n",
    "    parameters = classifier.get_parameters()\n",
    "    if parameters:\n",
    "        optimizer = Adam(classifier.get_parameters(), lr=0.001)\n",
    "        total_params = sum(param.numel() for param in parameters)\n",
    "        print(f\"Number of parameters: {total_params:_}\")\n",
    "    else:\n",
    "        optimizer = None\n",
    "    a = time()\n",
    "    losses, f1, validation_losses = classifier.train(\n",
    "        train_data,\n",
    "        validation_data,\n",
    "        optimizer,\n",
    "        max_n_epochs=max_epochs,\n",
    "        patience=3,\n",
    "        loss_function=nn.CrossEntropyLoss(),\n",
    "        loss_function_type=\"supervised\"\n",
    "    )\n",
    "    b = time()\n",
    "    print(f\"Training took {(b - a):.3f} s.\")\n",
    "    if losses:\n",
    "        fig, ax = plt.subplots(1, 2, figsize=(12, 4))\n",
    "        x = list(range(len(losses)))\n",
    "        ax[0].plot(x, losses, label=\"Training\")\n",
    "        ax[0].plot(x, validation_losses, label=\"Validation\")\n",
    "        ax[0].set(xlabel='Epochs', ylabel='Loss')\n",
    "        ax[0].set_title(\"Normalized Loss Against Epochs\")\n",
    "        ax[0].legend()\n",
    "        ax[1].set(xlabel='Epochs', ylabel=\"f1\")\n",
    "        ax[1].set_title(\"F1 Score\")\n",
    "        r = 0\n",
    "        for f in f1:\n",
    "            ax[1].plot(x, f, label=f'Rank {r}')\n",
    "            r += 1\n",
    "        ax[1].legend()\n",
    "        fig.suptitle(f\"Classification Training for {name}\")\n",
    "        plt.show()\n",
    "    result = models.evaluate(classifier, test_data, \"cuda\", mapping)\n",
    "    rounded_result = [float(f\"{r:.5}\") for r in result]\n",
    "    print(f\"Test F1 score: {rounded_result}\")\n",
    "\n",
    "    result = models.evaluate_precision(classifier, test_data, \"cuda\", mapping)\n",
    "    rounded_result = [float(f\"{r:.5}\") for r in result]\n",
    "    print(f\"Test precision score: {rounded_result}\")\n",
    "\n",
    "    return classifier"
   ]
  },
  {
   "cell_type": "markdown",
   "id": "b3cbdb09",
   "metadata": {},
   "source": [
    "### 3.1. Domain-Level Predictions"
   ]
  },
  {
   "cell_type": "code",
   "execution_count": 3,
   "id": "072d9714",
   "metadata": {},
   "outputs": [
    {
     "name": "stderr",
     "output_type": "stream",
     "text": [
      "100%|██████████| 34408/34408 [00:09<00:00, 3450.03it/s]\n"
     ]
    },
    {
     "name": "stdout",
     "output_type": "stream",
     "text": [
      "Training took 9.975 s.\n",
      "Test F1 score: [0.19951]\n",
      "Test precision score: [0.21396]\n"
     ]
    },
    {
     "data": {
      "image/png": "[encoded data removed]",
      "text/plain": [
       "<Figure size 480x480 with 1 Axes>"
      ]
     },
     "metadata": {},
     "output_type": "display_data"
    },
    {
     "name": "stdout",
     "output_type": "stream",
     "text": [
      "[[ 2057.  2001.  1967.  1975.]\n",
      " [12123. 11977. 12003. 11897.]\n",
      " [ 6984.  6879.  7050.  7087.]\n",
      " [ 3454.  3538.  3443.  3565.]]\n"
     ]
    }
   ],
   "source": [
    "model = benchmark(\n",
    "    models.RandomClassifier(),\n",
    "    \"Random Classifier\",\n",
    ")\n",
    "model.n_classes = len(mapping)\n",
    "matrix = models.confusion_matrix(model, test_data, \"cuda\", mapping)\n",
    "plt.matshow(matrix)\n",
    "plt.show()\n",
    "np.set_printoptions(precision=3, suppress=True, linewidth=500, threshold=np.inf)\n",
    "print(matrix)"
   ]
  },
  {
   "cell_type": "code",
   "execution_count": 11,
   "id": "407faf69",
   "metadata": {},
   "outputs": [
    {
     "name": "stdout",
     "output_type": "stream",
     "text": [
      "Number of parameters: 3_321_604\n"
     ]
    },
    {
     "name": "stderr",
     "output_type": "stream",
     "text": [
      "100%|██████████| 34408/34408 [1:08:20<00:00,  8.39it/s]   \n"
     ]
    },
    {
     "name": "stdout",
     "output_type": "stream",
     "text": [
      "1/6 T loss: 0.04012. V loss: 0.03944. F1: [0.15438]. Patience: 3\n"
     ]
    },
    {
     "name": "stderr",
     "output_type": "stream",
     "text": [
      "100%|██████████| 34408/34408 [59:41<00:00,  9.61it/s]   \n"
     ]
    },
    {
     "name": "stdout",
     "output_type": "stream",
     "text": [
      "2/6 T loss: 0.04010. V loss: 0.03952. F1: [0.15444]. Patience: 3\n"
     ]
    },
    {
     "name": "stderr",
     "output_type": "stream",
     "text": [
      " 11%|█▏        | 3872/34408 [06:22<50:19, 10.11it/s]\n"
     ]
    },
    {
     "ename": "KeyboardInterrupt",
     "evalue": "",
     "output_type": "error",
     "traceback": [
      "\u001b[1;31m---------------------------------------------------------------------------\u001b[0m",
      "\u001b[1;31mKeyboardInterrupt\u001b[0m                         Traceback (most recent call last)",
      "Cell \u001b[1;32mIn[11], line 34\u001b[0m\n\u001b[0;32m     30\u001b[0m         logits \u001b[38;5;241m=\u001b[39m \u001b[38;5;28mself\u001b[39m\u001b[38;5;241m.\u001b[39mclassifier(x)  \u001b[38;5;66;03m# [B, num_classes]\u001b[39;00m\n\u001b[0;32m     31\u001b[0m         \u001b[38;5;28;01mreturn\u001b[39;00m logits\n\u001b[1;32m---> 34\u001b[0m model \u001b[38;5;241m=\u001b[39m \u001b[43mbenchmark\u001b[49m\u001b[43m(\u001b[49m\n\u001b[0;32m     35\u001b[0m \u001b[43m    \u001b[49m\u001b[43mfeedforward\u001b[49m\u001b[38;5;241;43m.\u001b[39;49m\u001b[43mClassifier\u001b[49m\u001b[43m(\u001b[49m\u001b[43mLENGTH\u001b[49m\u001b[43m \u001b[49m\u001b[38;5;241;43m/\u001b[39;49m\u001b[38;5;241;43m/\u001b[39;49m\u001b[43m \u001b[49m\u001b[38;5;241;43m4\u001b[39;49m\u001b[43m,\u001b[49m\u001b[43m \u001b[49m\u001b[43mmapping\u001b[49m\u001b[43m,\u001b[49m\u001b[43m \u001b[49m\u001b[38;5;124;43m\"\u001b[39;49m\u001b[38;5;124;43mcuda\u001b[39;49m\u001b[38;5;124;43m\"\u001b[39;49m\u001b[43m,\u001b[49m\u001b[43m \u001b[49m\u001b[43mT_2_tokens\u001b[49m\u001b[43m,\u001b[49m\u001b[43m \u001b[49m\u001b[38;5;28;43mformat\u001b[39;49m\u001b[38;5;241;43m.\u001b[39;49m\u001b[43mto_tetramers\u001b[49m\u001b[43m)\u001b[49m\u001b[43m,\u001b[49m\n\u001b[0;32m     36\u001b[0m \u001b[43m    \u001b[49m\u001b[38;5;124;43m\"\u001b[39;49m\u001b[38;5;124;43mTransformer\u001b[39;49m\u001b[38;5;124;43m\"\u001b[39;49m\u001b[43m,\u001b[49m\n\u001b[0;32m     37\u001b[0m \u001b[43m    \u001b[49m\u001b[43mmax_epochs\u001b[49m\u001b[38;5;241;43m=\u001b[39;49m\u001b[38;5;241;43m6\u001b[39;49m\n\u001b[0;32m     38\u001b[0m \u001b[43m)\u001b[49m\n\u001b[0;32m     39\u001b[0m matrix \u001b[38;5;241m=\u001b[39m models\u001b[38;5;241m.\u001b[39mconfusion_matrix(model, test_data, \u001b[38;5;124m\"\u001b[39m\u001b[38;5;124mcuda\u001b[39m\u001b[38;5;124m\"\u001b[39m, mapping)\n\u001b[0;32m     40\u001b[0m plt\u001b[38;5;241m.\u001b[39mmatshow(matrix)\n",
      "Cell \u001b[1;32mIn[6], line 72\u001b[0m, in \u001b[0;36mbenchmark\u001b[1;34m(classifier, name, max_epochs)\u001b[0m\n\u001b[0;32m     70\u001b[0m     optimizer \u001b[38;5;241m=\u001b[39m \u001b[38;5;28;01mNone\u001b[39;00m\n\u001b[0;32m     71\u001b[0m a \u001b[38;5;241m=\u001b[39m time()\n\u001b[1;32m---> 72\u001b[0m losses, f1, validation_losses \u001b[38;5;241m=\u001b[39m \u001b[43mclassifier\u001b[49m\u001b[38;5;241;43m.\u001b[39;49m\u001b[43mtrain\u001b[49m\u001b[43m(\u001b[49m\n\u001b[0;32m     73\u001b[0m \u001b[43m    \u001b[49m\u001b[43mtrain_data\u001b[49m\u001b[43m,\u001b[49m\n\u001b[0;32m     74\u001b[0m \u001b[43m    \u001b[49m\u001b[43mvalidation_data\u001b[49m\u001b[43m,\u001b[49m\n\u001b[0;32m     75\u001b[0m \u001b[43m    \u001b[49m\u001b[43moptimizer\u001b[49m\u001b[43m,\u001b[49m\n\u001b[0;32m     76\u001b[0m \u001b[43m    \u001b[49m\u001b[43mmax_n_epochs\u001b[49m\u001b[38;5;241;43m=\u001b[39;49m\u001b[43mmax_epochs\u001b[49m\u001b[43m,\u001b[49m\n\u001b[0;32m     77\u001b[0m \u001b[43m    \u001b[49m\u001b[43mpatience\u001b[49m\u001b[38;5;241;43m=\u001b[39;49m\u001b[38;5;241;43m3\u001b[39;49m\u001b[43m,\u001b[49m\n\u001b[0;32m     78\u001b[0m \u001b[43m\u001b[49m\u001b[43m)\u001b[49m\n\u001b[0;32m     79\u001b[0m b \u001b[38;5;241m=\u001b[39m time()\n\u001b[0;32m     80\u001b[0m \u001b[38;5;28mprint\u001b[39m(\u001b[38;5;124mf\u001b[39m\u001b[38;5;124m\"\u001b[39m\u001b[38;5;124mTraining took \u001b[39m\u001b[38;5;132;01m{\u001b[39;00m(b\u001b[38;5;250m \u001b[39m\u001b[38;5;241m-\u001b[39m\u001b[38;5;250m \u001b[39ma)\u001b[38;5;132;01m:\u001b[39;00m\u001b[38;5;124m.3f\u001b[39m\u001b[38;5;132;01m}\u001b[39;00m\u001b[38;5;124m s.\u001b[39m\u001b[38;5;124m\"\u001b[39m)\n",
      "File \u001b[1;32mD:\\maitrise\\stelaro\\stelaro\\models\\feedforward.py:76\u001b[0m, in \u001b[0;36mtrain\u001b[1;34m(self, train_loader, validate_loader, optimizer, max_n_epochs, patience)\u001b[0m\n\u001b[0;32m     74\u001b[0m loss \u001b[38;5;241m=\u001b[39m criterion(output, y_batch)\n\u001b[0;32m     75\u001b[0m \u001b[38;5;66;03m# loss *= penalized_cross_entropy(output, y_batch, penalty_matrix)\u001b[39;00m\n\u001b[1;32m---> 76\u001b[0m optimizer\u001b[38;5;241m.\u001b[39mzero_grad()\n\u001b[0;32m     77\u001b[0m loss\u001b[38;5;241m.\u001b[39mbackward()\n\u001b[0;32m     78\u001b[0m optimizer\u001b[38;5;241m.\u001b[39mstep()\n",
      "File \u001b[1;32md:\\maitrise\\stelaro\\venv\\Lib\\site-packages\\torch\\_tensor.py:648\u001b[0m, in \u001b[0;36mTensor.backward\u001b[1;34m(self, gradient, retain_graph, create_graph, inputs)\u001b[0m\n\u001b[0;32m    638\u001b[0m \u001b[38;5;28;01mif\u001b[39;00m has_torch_function_unary(\u001b[38;5;28mself\u001b[39m):\n\u001b[0;32m    639\u001b[0m     \u001b[38;5;28;01mreturn\u001b[39;00m handle_torch_function(\n\u001b[0;32m    640\u001b[0m         Tensor\u001b[38;5;241m.\u001b[39mbackward,\n\u001b[0;32m    641\u001b[0m         (\u001b[38;5;28mself\u001b[39m,),\n\u001b[1;32m   (...)\u001b[0m\n\u001b[0;32m    646\u001b[0m         inputs\u001b[38;5;241m=\u001b[39minputs,\n\u001b[0;32m    647\u001b[0m     )\n\u001b[1;32m--> 648\u001b[0m \u001b[43mtorch\u001b[49m\u001b[38;5;241;43m.\u001b[39;49m\u001b[43mautograd\u001b[49m\u001b[38;5;241;43m.\u001b[39;49m\u001b[43mbackward\u001b[49m\u001b[43m(\u001b[49m\n\u001b[0;32m    649\u001b[0m \u001b[43m    \u001b[49m\u001b[38;5;28;43mself\u001b[39;49m\u001b[43m,\u001b[49m\u001b[43m \u001b[49m\u001b[43mgradient\u001b[49m\u001b[43m,\u001b[49m\u001b[43m \u001b[49m\u001b[43mretain_graph\u001b[49m\u001b[43m,\u001b[49m\u001b[43m \u001b[49m\u001b[43mcreate_graph\u001b[49m\u001b[43m,\u001b[49m\u001b[43m \u001b[49m\u001b[43minputs\u001b[49m\u001b[38;5;241;43m=\u001b[39;49m\u001b[43minputs\u001b[49m\n\u001b[0;32m    650\u001b[0m \u001b[43m\u001b[49m\u001b[43m)\u001b[49m\n",
      "File \u001b[1;32md:\\maitrise\\stelaro\\venv\\Lib\\site-packages\\torch\\autograd\\__init__.py:353\u001b[0m, in \u001b[0;36mbackward\u001b[1;34m(tensors, grad_tensors, retain_graph, create_graph, grad_variables, inputs)\u001b[0m\n\u001b[0;32m    348\u001b[0m     retain_graph \u001b[38;5;241m=\u001b[39m create_graph\n\u001b[0;32m    350\u001b[0m \u001b[38;5;66;03m# The reason we repeat the same comment below is that\u001b[39;00m\n\u001b[0;32m    351\u001b[0m \u001b[38;5;66;03m# some Python versions print out the first line of a multi-line function\u001b[39;00m\n\u001b[0;32m    352\u001b[0m \u001b[38;5;66;03m# calls in the traceback and some print out the last line\u001b[39;00m\n\u001b[1;32m--> 353\u001b[0m \u001b[43m_engine_run_backward\u001b[49m\u001b[43m(\u001b[49m\n\u001b[0;32m    354\u001b[0m \u001b[43m    \u001b[49m\u001b[43mtensors\u001b[49m\u001b[43m,\u001b[49m\n\u001b[0;32m    355\u001b[0m \u001b[43m    \u001b[49m\u001b[43mgrad_tensors_\u001b[49m\u001b[43m,\u001b[49m\n\u001b[0;32m    356\u001b[0m \u001b[43m    \u001b[49m\u001b[43mretain_graph\u001b[49m\u001b[43m,\u001b[49m\n\u001b[0;32m    357\u001b[0m \u001b[43m    \u001b[49m\u001b[43mcreate_graph\u001b[49m\u001b[43m,\u001b[49m\n\u001b[0;32m    358\u001b[0m \u001b[43m    \u001b[49m\u001b[43minputs\u001b[49m\u001b[43m,\u001b[49m\n\u001b[0;32m    359\u001b[0m \u001b[43m    \u001b[49m\u001b[43mallow_unreachable\u001b[49m\u001b[38;5;241;43m=\u001b[39;49m\u001b[38;5;28;43;01mTrue\u001b[39;49;00m\u001b[43m,\u001b[49m\n\u001b[0;32m    360\u001b[0m \u001b[43m    \u001b[49m\u001b[43maccumulate_grad\u001b[49m\u001b[38;5;241;43m=\u001b[39;49m\u001b[38;5;28;43;01mTrue\u001b[39;49;00m\u001b[43m,\u001b[49m\n\u001b[0;32m    361\u001b[0m \u001b[43m\u001b[49m\u001b[43m)\u001b[49m\n",
      "File \u001b[1;32md:\\maitrise\\stelaro\\venv\\Lib\\site-packages\\torch\\autograd\\graph.py:824\u001b[0m, in \u001b[0;36m_engine_run_backward\u001b[1;34m(t_outputs, *args, **kwargs)\u001b[0m\n\u001b[0;32m    822\u001b[0m     unregister_hooks \u001b[38;5;241m=\u001b[39m _register_logging_hooks_on_whole_graph(t_outputs)\n\u001b[0;32m    823\u001b[0m \u001b[38;5;28;01mtry\u001b[39;00m:\n\u001b[1;32m--> 824\u001b[0m     \u001b[38;5;28;01mreturn\u001b[39;00m \u001b[43mVariable\u001b[49m\u001b[38;5;241;43m.\u001b[39;49m\u001b[43m_execution_engine\u001b[49m\u001b[38;5;241;43m.\u001b[39;49m\u001b[43mrun_backward\u001b[49m\u001b[43m(\u001b[49m\u001b[43m  \u001b[49m\u001b[38;5;66;43;03m# Calls into the C++ engine to run the backward pass\u001b[39;49;00m\n\u001b[0;32m    825\u001b[0m \u001b[43m        \u001b[49m\u001b[43mt_outputs\u001b[49m\u001b[43m,\u001b[49m\u001b[43m \u001b[49m\u001b[38;5;241;43m*\u001b[39;49m\u001b[43margs\u001b[49m\u001b[43m,\u001b[49m\u001b[43m \u001b[49m\u001b[38;5;241;43m*\u001b[39;49m\u001b[38;5;241;43m*\u001b[39;49m\u001b[43mkwargs\u001b[49m\n\u001b[0;32m    826\u001b[0m \u001b[43m    \u001b[49m\u001b[43m)\u001b[49m  \u001b[38;5;66;03m# Calls into the C++ engine to run the backward pass\u001b[39;00m\n\u001b[0;32m    827\u001b[0m \u001b[38;5;28;01mfinally\u001b[39;00m:\n\u001b[0;32m    828\u001b[0m     \u001b[38;5;28;01mif\u001b[39;00m attach_logging_hooks:\n",
      "\u001b[1;31mKeyboardInterrupt\u001b[0m: "
     ]
    }
   ],
   "source": [
    "from torch import arange\n",
    "from torch.nn import (Module, Linear, Embedding, TransformerEncoderLayer,\n",
    "                      TransformerEncoder)\n",
    "from torch.optim import Adam\n",
    "\n",
    "\n",
    "class T_2_tokens(Module):\n",
    "    def __init__(self, N, M):\n",
    "        super(T_2_tokens, self).__init__()\n",
    "        embed_dim = 256\n",
    "        self.token_embedding = Embedding(256, embed_dim)\n",
    "        self.position_embedding = Embedding(N, embed_dim)\n",
    "        encoder_layer = TransformerEncoderLayer(\n",
    "            d_model=embed_dim,\n",
    "            nhead=4,\n",
    "            dim_feedforward=embed_dim * 4,\n",
    "            dropout=0.1,\n",
    "            activation='relu',\n",
    "            batch_first=True  # makes input/output shape [B, L, D]\n",
    "        )\n",
    "        self.transformer_encoder = TransformerEncoder(encoder_layer, num_layers=4)\n",
    "        self.classifier = Linear(embed_dim, M)\n",
    "\n",
    "    def forward(self, x):\n",
    "        batch_size, seq_len = x.size()\n",
    "        positions = arange(seq_len, device=x.device).unsqueeze(0).expand(batch_size, seq_len)\n",
    "        x = self.token_embedding(x) + self.position_embedding(positions)  # [B, L, D]\n",
    "        x = self.transformer_encoder(x)  # [B, L, D]\n",
    "        x = x.mean(dim=1)  # [B, D] - average pooling\n",
    "        logits = self.classifier(x)  # [B, num_classes]\n",
    "        return logits\n",
    "\n",
    "\n",
    "model = benchmark(\n",
    "    feedforward.Classifier(LENGTH // 4, mapping, \"cuda\", T_2_tokens, format.to_tetramers),\n",
    "    \"Transformer\",\n",
    "    max_epochs=6\n",
    ")\n",
    "matrix = models.confusion_matrix(model, test_data, \"cuda\", mapping)\n",
    "plt.matshow(matrix)\n",
    "plt.show()\n",
    "np.set_printoptions(precision=3, suppress=True, linewidth=500, threshold=np.inf)\n",
    "print(matrix)"
   ]
  },
  {
   "cell_type": "code",
   "execution_count": 7,
   "id": "74140bed",
   "metadata": {},
   "outputs": [
    {
     "name": "stdout",
     "output_type": "stream",
     "text": [
      "Number of parameters: 3_322_628\n"
     ]
    },
    {
     "name": "stderr",
     "output_type": "stream",
     "text": [
      "100%|██████████| 34408/34408 [53:11<00:00, 10.78it/s]   \n"
     ]
    },
    {
     "name": "stdout",
     "output_type": "stream",
     "text": [
      "1/6 T loss: 14.74865. V loss: 14.51099. F1: [0.15434]. P: [0.11298] Patience: 3\n"
     ]
    },
    {
     "name": "stderr",
     "output_type": "stream",
     "text": [
      "100%|██████████| 34408/34408 [1:53:11<00:00,  5.07it/s]     \n"
     ]
    },
    {
     "name": "stdout",
     "output_type": "stream",
     "text": [
      "2/6 T loss: 14.73758. V loss: 14.44126. F1: [0.15435]. P: [0.11297] Patience: 3\n"
     ]
    },
    {
     "name": "stderr",
     "output_type": "stream",
     "text": [
      "  4%|▍         | 1490/34408 [02:17<50:48, 10.80it/s]\n"
     ]
    },
    {
     "ename": "KeyboardInterrupt",
     "evalue": "",
     "output_type": "error",
     "traceback": [
      "\u001b[1;31m---------------------------------------------------------------------------\u001b[0m",
      "\u001b[1;31mKeyboardInterrupt\u001b[0m                         Traceback (most recent call last)",
      "Cell \u001b[1;32mIn[7], line 51\u001b[0m\n\u001b[0;32m     47\u001b[0m         logits \u001b[38;5;241m=\u001b[39m \u001b[38;5;28mself\u001b[39m\u001b[38;5;241m.\u001b[39mclassifier(cls_out)  \u001b[38;5;66;03m# [B, M]\u001b[39;00m\n\u001b[0;32m     48\u001b[0m         \u001b[38;5;28;01mreturn\u001b[39;00m logits\n\u001b[1;32m---> 51\u001b[0m model \u001b[38;5;241m=\u001b[39m \u001b[43mbenchmark\u001b[49m\u001b[43m(\u001b[49m\n\u001b[0;32m     52\u001b[0m \u001b[43m    \u001b[49m\u001b[43mfeedforward\u001b[49m\u001b[38;5;241;43m.\u001b[39;49m\u001b[43mClassifier\u001b[49m\u001b[43m(\u001b[49m\u001b[43mLENGTH\u001b[49m\u001b[43m \u001b[49m\u001b[38;5;241;43m/\u001b[39;49m\u001b[38;5;241;43m/\u001b[39;49m\u001b[43m \u001b[49m\u001b[38;5;241;43m4\u001b[39;49m\u001b[43m,\u001b[49m\u001b[43m \u001b[49m\u001b[43mmapping\u001b[49m\u001b[43m,\u001b[49m\u001b[43m \u001b[49m\u001b[38;5;124;43m\"\u001b[39;49m\u001b[38;5;124;43mcuda\u001b[39;49m\u001b[38;5;124;43m\"\u001b[39;49m\u001b[43m,\u001b[49m\u001b[43m \u001b[49m\u001b[43mT2Tokens\u001b[49m\u001b[43m,\u001b[49m\u001b[43m \u001b[49m\u001b[38;5;28;43mformat\u001b[39;49m\u001b[38;5;241;43m.\u001b[39;49m\u001b[43mto_tetramers\u001b[49m\u001b[43m)\u001b[49m\u001b[43m,\u001b[49m\n\u001b[0;32m     53\u001b[0m \u001b[43m    \u001b[49m\u001b[38;5;124;43m\"\u001b[39;49m\u001b[38;5;124;43mTransformer\u001b[39;49m\u001b[38;5;124;43m\"\u001b[39;49m\u001b[43m,\u001b[49m\n\u001b[0;32m     54\u001b[0m \u001b[43m    \u001b[49m\u001b[43mmax_epochs\u001b[49m\u001b[38;5;241;43m=\u001b[39;49m\u001b[38;5;241;43m6\u001b[39;49m\n\u001b[0;32m     55\u001b[0m \u001b[43m)\u001b[49m\n\u001b[0;32m     56\u001b[0m matrix \u001b[38;5;241m=\u001b[39m models\u001b[38;5;241m.\u001b[39mconfusion_matrix(model, test_data, \u001b[38;5;124m\"\u001b[39m\u001b[38;5;124mcuda\u001b[39m\u001b[38;5;124m\"\u001b[39m, mapping)\n\u001b[0;32m     57\u001b[0m plt\u001b[38;5;241m.\u001b[39mmatshow(matrix)\n",
      "Cell \u001b[1;32mIn[2], line 72\u001b[0m, in \u001b[0;36mbenchmark\u001b[1;34m(classifier, name, max_epochs)\u001b[0m\n\u001b[0;32m     70\u001b[0m     optimizer \u001b[38;5;241m=\u001b[39m \u001b[38;5;28;01mNone\u001b[39;00m\n\u001b[0;32m     71\u001b[0m a \u001b[38;5;241m=\u001b[39m time()\n\u001b[1;32m---> 72\u001b[0m losses, f1, validation_losses \u001b[38;5;241m=\u001b[39m \u001b[43mclassifier\u001b[49m\u001b[38;5;241;43m.\u001b[39;49m\u001b[43mtrain\u001b[49m\u001b[43m(\u001b[49m\n\u001b[0;32m     73\u001b[0m \u001b[43m    \u001b[49m\u001b[43mtrain_data\u001b[49m\u001b[43m,\u001b[49m\n\u001b[0;32m     74\u001b[0m \u001b[43m    \u001b[49m\u001b[43mvalidation_data\u001b[49m\u001b[43m,\u001b[49m\n\u001b[0;32m     75\u001b[0m \u001b[43m    \u001b[49m\u001b[43moptimizer\u001b[49m\u001b[43m,\u001b[49m\n\u001b[0;32m     76\u001b[0m \u001b[43m    \u001b[49m\u001b[43mmax_n_epochs\u001b[49m\u001b[38;5;241;43m=\u001b[39;49m\u001b[43mmax_epochs\u001b[49m\u001b[43m,\u001b[49m\n\u001b[0;32m     77\u001b[0m \u001b[43m    \u001b[49m\u001b[43mpatience\u001b[49m\u001b[38;5;241;43m=\u001b[39;49m\u001b[38;5;241;43m3\u001b[39;49m\u001b[43m,\u001b[49m\n\u001b[0;32m     78\u001b[0m \u001b[43m\u001b[49m\u001b[43m)\u001b[49m\n\u001b[0;32m     79\u001b[0m b \u001b[38;5;241m=\u001b[39m time()\n\u001b[0;32m     80\u001b[0m \u001b[38;5;28mprint\u001b[39m(\u001b[38;5;124mf\u001b[39m\u001b[38;5;124m\"\u001b[39m\u001b[38;5;124mTraining took \u001b[39m\u001b[38;5;132;01m{\u001b[39;00m(b\u001b[38;5;250m \u001b[39m\u001b[38;5;241m-\u001b[39m\u001b[38;5;250m \u001b[39ma)\u001b[38;5;132;01m:\u001b[39;00m\u001b[38;5;124m.3f\u001b[39m\u001b[38;5;132;01m}\u001b[39;00m\u001b[38;5;124m s.\u001b[39m\u001b[38;5;124m\"\u001b[39m)\n",
      "File \u001b[1;32mD:\\maitrise\\stelaro\\stelaro\\models\\feedforward.py:77\u001b[0m, in \u001b[0;36mClassifier.train\u001b[1;34m(self, train_loader, validate_loader, optimizer, max_n_epochs, patience)\u001b[0m\n\u001b[0;32m     75\u001b[0m \u001b[38;5;66;03m# loss *= penalized_cross_entropy(output, y_batch, penalty_matrix)\u001b[39;00m\n\u001b[0;32m     76\u001b[0m optimizer\u001b[38;5;241m.\u001b[39mzero_grad()\n\u001b[1;32m---> 77\u001b[0m \u001b[43mloss\u001b[49m\u001b[38;5;241;43m.\u001b[39;49m\u001b[43mbackward\u001b[49m\u001b[43m(\u001b[49m\u001b[43m)\u001b[49m\n\u001b[0;32m     78\u001b[0m optimizer\u001b[38;5;241m.\u001b[39mstep()\n\u001b[0;32m     79\u001b[0m losses[\u001b[38;5;241m-\u001b[39m\u001b[38;5;241m1\u001b[39m] \u001b[38;5;241m+\u001b[39m\u001b[38;5;241m=\u001b[39m loss\u001b[38;5;241m.\u001b[39mitem()\n",
      "File \u001b[1;32md:\\maitrise\\stelaro\\venv\\Lib\\site-packages\\torch\\_tensor.py:648\u001b[0m, in \u001b[0;36mTensor.backward\u001b[1;34m(self, gradient, retain_graph, create_graph, inputs)\u001b[0m\n\u001b[0;32m    638\u001b[0m \u001b[38;5;28;01mif\u001b[39;00m has_torch_function_unary(\u001b[38;5;28mself\u001b[39m):\n\u001b[0;32m    639\u001b[0m     \u001b[38;5;28;01mreturn\u001b[39;00m handle_torch_function(\n\u001b[0;32m    640\u001b[0m         Tensor\u001b[38;5;241m.\u001b[39mbackward,\n\u001b[0;32m    641\u001b[0m         (\u001b[38;5;28mself\u001b[39m,),\n\u001b[1;32m   (...)\u001b[0m\n\u001b[0;32m    646\u001b[0m         inputs\u001b[38;5;241m=\u001b[39minputs,\n\u001b[0;32m    647\u001b[0m     )\n\u001b[1;32m--> 648\u001b[0m \u001b[43mtorch\u001b[49m\u001b[38;5;241;43m.\u001b[39;49m\u001b[43mautograd\u001b[49m\u001b[38;5;241;43m.\u001b[39;49m\u001b[43mbackward\u001b[49m\u001b[43m(\u001b[49m\n\u001b[0;32m    649\u001b[0m \u001b[43m    \u001b[49m\u001b[38;5;28;43mself\u001b[39;49m\u001b[43m,\u001b[49m\u001b[43m \u001b[49m\u001b[43mgradient\u001b[49m\u001b[43m,\u001b[49m\u001b[43m \u001b[49m\u001b[43mretain_graph\u001b[49m\u001b[43m,\u001b[49m\u001b[43m \u001b[49m\u001b[43mcreate_graph\u001b[49m\u001b[43m,\u001b[49m\u001b[43m \u001b[49m\u001b[43minputs\u001b[49m\u001b[38;5;241;43m=\u001b[39;49m\u001b[43minputs\u001b[49m\n\u001b[0;32m    650\u001b[0m \u001b[43m\u001b[49m\u001b[43m)\u001b[49m\n",
      "File \u001b[1;32md:\\maitrise\\stelaro\\venv\\Lib\\site-packages\\torch\\autograd\\__init__.py:353\u001b[0m, in \u001b[0;36mbackward\u001b[1;34m(tensors, grad_tensors, retain_graph, create_graph, grad_variables, inputs)\u001b[0m\n\u001b[0;32m    348\u001b[0m     retain_graph \u001b[38;5;241m=\u001b[39m create_graph\n\u001b[0;32m    350\u001b[0m \u001b[38;5;66;03m# The reason we repeat the same comment below is that\u001b[39;00m\n\u001b[0;32m    351\u001b[0m \u001b[38;5;66;03m# some Python versions print out the first line of a multi-line function\u001b[39;00m\n\u001b[0;32m    352\u001b[0m \u001b[38;5;66;03m# calls in the traceback and some print out the last line\u001b[39;00m\n\u001b[1;32m--> 353\u001b[0m \u001b[43m_engine_run_backward\u001b[49m\u001b[43m(\u001b[49m\n\u001b[0;32m    354\u001b[0m \u001b[43m    \u001b[49m\u001b[43mtensors\u001b[49m\u001b[43m,\u001b[49m\n\u001b[0;32m    355\u001b[0m \u001b[43m    \u001b[49m\u001b[43mgrad_tensors_\u001b[49m\u001b[43m,\u001b[49m\n\u001b[0;32m    356\u001b[0m \u001b[43m    \u001b[49m\u001b[43mretain_graph\u001b[49m\u001b[43m,\u001b[49m\n\u001b[0;32m    357\u001b[0m \u001b[43m    \u001b[49m\u001b[43mcreate_graph\u001b[49m\u001b[43m,\u001b[49m\n\u001b[0;32m    358\u001b[0m \u001b[43m    \u001b[49m\u001b[43minputs\u001b[49m\u001b[43m,\u001b[49m\n\u001b[0;32m    359\u001b[0m \u001b[43m    \u001b[49m\u001b[43mallow_unreachable\u001b[49m\u001b[38;5;241;43m=\u001b[39;49m\u001b[38;5;28;43;01mTrue\u001b[39;49;00m\u001b[43m,\u001b[49m\n\u001b[0;32m    360\u001b[0m \u001b[43m    \u001b[49m\u001b[43maccumulate_grad\u001b[49m\u001b[38;5;241;43m=\u001b[39;49m\u001b[38;5;28;43;01mTrue\u001b[39;49;00m\u001b[43m,\u001b[49m\n\u001b[0;32m    361\u001b[0m \u001b[43m\u001b[49m\u001b[43m)\u001b[49m\n",
      "File \u001b[1;32md:\\maitrise\\stelaro\\venv\\Lib\\site-packages\\torch\\autograd\\graph.py:824\u001b[0m, in \u001b[0;36m_engine_run_backward\u001b[1;34m(t_outputs, *args, **kwargs)\u001b[0m\n\u001b[0;32m    822\u001b[0m     unregister_hooks \u001b[38;5;241m=\u001b[39m _register_logging_hooks_on_whole_graph(t_outputs)\n\u001b[0;32m    823\u001b[0m \u001b[38;5;28;01mtry\u001b[39;00m:\n\u001b[1;32m--> 824\u001b[0m     \u001b[38;5;28;01mreturn\u001b[39;00m \u001b[43mVariable\u001b[49m\u001b[38;5;241;43m.\u001b[39;49m\u001b[43m_execution_engine\u001b[49m\u001b[38;5;241;43m.\u001b[39;49m\u001b[43mrun_backward\u001b[49m\u001b[43m(\u001b[49m\u001b[43m  \u001b[49m\u001b[38;5;66;43;03m# Calls into the C++ engine to run the backward pass\u001b[39;49;00m\n\u001b[0;32m    825\u001b[0m \u001b[43m        \u001b[49m\u001b[43mt_outputs\u001b[49m\u001b[43m,\u001b[49m\u001b[43m \u001b[49m\u001b[38;5;241;43m*\u001b[39;49m\u001b[43margs\u001b[49m\u001b[43m,\u001b[49m\u001b[43m \u001b[49m\u001b[38;5;241;43m*\u001b[39;49m\u001b[38;5;241;43m*\u001b[39;49m\u001b[43mkwargs\u001b[49m\n\u001b[0;32m    826\u001b[0m \u001b[43m    \u001b[49m\u001b[43m)\u001b[49m  \u001b[38;5;66;03m# Calls into the C++ engine to run the backward pass\u001b[39;00m\n\u001b[0;32m    827\u001b[0m \u001b[38;5;28;01mfinally\u001b[39;00m:\n\u001b[0;32m    828\u001b[0m     \u001b[38;5;28;01mif\u001b[39;00m attach_logging_hooks:\n",
      "\u001b[1;31mKeyboardInterrupt\u001b[0m: "
     ]
    }
   ],
   "source": [
    "from torch.optim import Adam\n",
    "import torch\n",
    "from torch import nn\n",
    "\n",
    "class T2Tokens(nn.Module):\n",
    "    def __init__(self, N: int, M: int,\n",
    "                 embed_dim: int = 256,\n",
    "                 vocab_size: int = 256,\n",
    "                 nhead: int = 4,\n",
    "                 num_layers: int = 4,\n",
    "                 dropout: float = 0.0\n",
    "                 ):\n",
    "        super().__init__()\n",
    "        self.vocab_size = vocab_size\n",
    "        self.max_seq_len = N\n",
    "        self.embed_dim = embed_dim\n",
    "        self.token_embedding = nn.Embedding(vocab_size, embed_dim)\n",
    "        self.position_embedding = nn.Embedding(N + 1, embed_dim)\n",
    "        self.cls_token = nn.Parameter(torch.zeros(1, 1, embed_dim))\n",
    "        nn.init.normal_(self.cls_token, mean=0.0, std=0.02)\n",
    "        encoder_layer = nn.TransformerEncoderLayer(\n",
    "            d_model=embed_dim,\n",
    "            nhead=nhead,\n",
    "            dim_feedforward=embed_dim * 4,\n",
    "            dropout=dropout,\n",
    "            activation=\"relu\",\n",
    "            batch_first=True,  # [B, L, D]\n",
    "            norm_first=False,\n",
    "        )\n",
    "        self.transformer_encoder = nn.TransformerEncoder(\n",
    "            encoder_layer, num_layers=num_layers\n",
    "        )\n",
    "        self.pre_classifier_norm = nn.LayerNorm(embed_dim)\n",
    "        self.classifier = nn.Linear(embed_dim, M)\n",
    "\n",
    "    def forward(self, x: torch.Tensor) -> torch.Tensor:\n",
    "        B, L = x.shape\n",
    "        tok = self.token_embedding(x)  # [B, L, D]\n",
    "        cls = self.cls_token.expand(B, 1, self.embed_dim)  # [B, 1, D]\n",
    "        h = torch.cat([cls, tok], dim=1)  # [B, L+1, D]\n",
    "        pos_idx = torch.arange(L + 1, device=x.device)            # [L+1]\n",
    "        pos = self.position_embedding(pos_idx).unsqueeze(0)       # [1, L+1, D]\n",
    "        h = h + pos                                               # [B, L+1, D]\n",
    "        h = self.transformer_encoder(h, mask=None)  # [B, L+1, D]\n",
    "        cls_out = h[:, 0, :]  # [B, D]\n",
    "        cls_out = self.pre_classifier_norm(cls_out)\n",
    "        logits = self.classifier(cls_out)  # [B, M]\n",
    "        return logits\n",
    "\n",
    "\n",
    "model = benchmark(\n",
    "    feedforward.Classifier(LENGTH // 4, mapping, \"cuda\", T2Tokens, format.to_tetramers),\n",
    "    \"Transformer\",\n",
    "    max_epochs=6\n",
    ")\n",
    "matrix = models.confusion_matrix(model, test_data, \"cuda\", mapping)\n",
    "plt.matshow(matrix)\n",
    "plt.show()\n",
    "np.set_printoptions(precision=3, suppress=True, linewidth=500, threshold=np.inf)\n",
    "print(matrix)"
   ]
  },
  {
   "cell_type": "code",
   "execution_count": 5,
   "id": "5975aca8",
   "metadata": {},
   "outputs": [
    {
     "name": "stdout",
     "output_type": "stream",
     "text": [
      "Number of parameters: 477_828\n"
     ]
    },
    {
     "name": "stderr",
     "output_type": "stream",
     "text": [
      "100%|██████████| 8602/8602 [20:09<00:00,  7.11it/s]\n"
     ]
    },
    {
     "name": "stdout",
     "output_type": "stream",
     "text": [
      "1/6 T loss: 0.00616. V loss: 0.00541. F1: [0.77393]. Patience: 3\n"
     ]
    },
    {
     "name": "stderr",
     "output_type": "stream",
     "text": [
      "100%|██████████| 8602/8602 [20:16<00:00,  7.07it/s]\n"
     ]
    },
    {
     "name": "stdout",
     "output_type": "stream",
     "text": [
      "2/6 T loss: 0.00518. V loss: 0.00496. F1: [0.81439]. Patience: 3\n"
     ]
    },
    {
     "name": "stderr",
     "output_type": "stream",
     "text": [
      "100%|██████████| 8602/8602 [20:10<00:00,  7.11it/s]\n"
     ]
    },
    {
     "name": "stdout",
     "output_type": "stream",
     "text": [
      "3/6 T loss: 0.00485. V loss: 0.00466. F1: [0.83903]. Patience: 3\n"
     ]
    },
    {
     "name": "stderr",
     "output_type": "stream",
     "text": [
      "100%|██████████| 8602/8602 [20:09<00:00,  7.11it/s]\n"
     ]
    },
    {
     "name": "stdout",
     "output_type": "stream",
     "text": [
      "4/6 T loss: 0.00466. V loss: 0.00451. F1: [0.85066]. Patience: 3\n"
     ]
    },
    {
     "name": "stderr",
     "output_type": "stream",
     "text": [
      "100%|██████████| 8602/8602 [20:19<00:00,  7.06it/s]\n"
     ]
    },
    {
     "name": "stdout",
     "output_type": "stream",
     "text": [
      "5/6 T loss: 0.00452. V loss: 0.00439. F1: [0.86507]. Patience: 3\n"
     ]
    },
    {
     "name": "stderr",
     "output_type": "stream",
     "text": [
      "100%|██████████| 8602/8602 [20:11<00:00,  7.10it/s]\n"
     ]
    },
    {
     "name": "stdout",
     "output_type": "stream",
     "text": [
      "6/6 T loss: 0.00443. V loss: 0.00438. F1: [0.86275]. Patience: 2\n",
      "Training took 7508.566 s.\n"
     ]
    },
    {
     "data": {
      "image/png": "[encoded data removed]",
      "text/plain": [
       "<Figure size 1200x400 with 2 Axes>"
      ]
     },
     "metadata": {},
     "output_type": "display_data"
    },
    {
     "name": "stdout",
     "output_type": "stream",
     "text": [
      "Test results: [0.86615]\n"
     ]
    },
    {
     "data": {
      "image/png": "[encoded data removed]",
      "text/plain": [
       "<Figure size 480x480 with 1 Axes>"
      ]
     },
     "metadata": {},
     "output_type": "display_data"
    },
    {
     "name": "stdout",
     "output_type": "stream",
     "text": [
      "[[ 6437.   896.   493.   174.]\n",
      " [  830. 44473.  1885.   812.]\n",
      " [  359.  1229. 25514.   898.]\n",
      " [  210.  1163.  1101. 11526.]]\n"
     ]
    }
   ],
   "source": [
    "class T_2_tokens(Module):\n",
    "    def __init__(self, N, M):\n",
    "        super(T_2_tokens, self).__init__()\n",
    "        embed_dim = 128\n",
    "        self.token_embedding = Embedding(256, embed_dim)\n",
    "        self.position_embedding = Embedding(N, embed_dim)\n",
    "        encoder_layer = TransformerEncoderLayer(\n",
    "            d_model=embed_dim,\n",
    "            nhead=8,\n",
    "            dim_feedforward=embed_dim * 4,\n",
    "            dropout=0.1,\n",
    "            activation='relu',\n",
    "            batch_first=True  # makes input/output shape [B, L, D]\n",
    "        )\n",
    "        self.transformer_encoder = TransformerEncoder(encoder_layer, num_layers=2)\n",
    "        self.classifier = Linear(embed_dim, M)\n",
    "\n",
    "    def forward(self, x):\n",
    "        batch_size, seq_len = x.size()\n",
    "        positions = arange(seq_len, device=x.device).unsqueeze(0).expand(batch_size, seq_len)\n",
    "        x = self.token_embedding(x) + self.position_embedding(positions)  # [B, L, D]\n",
    "        x = self.transformer_encoder(x)  # [B, L, D]\n",
    "        x = x.mean(dim=1)  # [B, D] - average pooling\n",
    "        logits = self.classifier(x)  # [B, num_classes]\n",
    "        return logits\n",
    "\n",
    "\n",
    "model = benchmark(\n",
    "    feedforward.Classifier(LENGTH // 4, mapping, \"cuda\", T_2_tokens, format.to_tetramers),\n",
    "    \"Transformer\",\n",
    "    max_epochs=6\n",
    ")\n",
    "matrix = models.confusion_matrix(model, test_data, \"cuda\", mapping)\n",
    "plt.matshow(matrix)\n",
    "plt.show()\n",
    "np.set_printoptions(precision=3, suppress=True, linewidth=500, threshold=np.inf)\n",
    "print(matrix)"
   ]
  },
  {
   "cell_type": "markdown",
   "id": "002c8201",
   "metadata": {},
   "source": [
    "### 3.2. BERT"
   ]
  },
  {
   "cell_type": "code",
   "execution_count": 10,
   "id": "d169e11a",
   "metadata": {},
   "outputs": [],
   "source": [
    "import torch\n",
    "from torch import nn\n",
    "import torch.nn.functional as F\n",
    "\n",
    "\n",
    "class BERT(nn.Module):\n",
    "    \"\"\"\n",
    "    Encoder-only transformer with:\n",
    "      - Classification head (using [CLS] token)\n",
    "      - Masked Language Modeling (MLM) head\n",
    "    \"\"\"\n",
    "    def __init__(self, N: int, M: int,\n",
    "                 embed_dim: int = 64,\n",
    "                 vocab_size: int = 256,\n",
    "                 nhead: int = 4,\n",
    "                 num_layers: int = 12,\n",
    "                 dropout: float = 0.0):\n",
    "        super().__init__()\n",
    "        self.vocab_size = vocab_size + 1   # add one for [MASK]\n",
    "        self.mask_id = vocab_size          # reserved id for [MASK]\n",
    "        self.max_seq_len = N\n",
    "        self.embed_dim = embed_dim\n",
    "\n",
    "        # Token + positional embeddings\n",
    "        self.token_embedding = nn.Embedding(self.vocab_size, embed_dim)\n",
    "        self.position_embedding = nn.Embedding(N + 1, embed_dim)\n",
    "\n",
    "        # Learnable [CLS] token\n",
    "        self.cls_token = nn.Parameter(torch.zeros(1, 1, embed_dim))\n",
    "        nn.init.normal_(self.cls_token, mean=0.0, std=0.02)\n",
    "\n",
    "        # Transformer encoder\n",
    "        encoder_layer = nn.TransformerEncoderLayer(\n",
    "            d_model=embed_dim,\n",
    "            nhead=nhead,\n",
    "            dim_feedforward=embed_dim * 4,\n",
    "            dropout=dropout,\n",
    "            activation=\"relu\",\n",
    "            batch_first=True,\n",
    "        )\n",
    "        self.transformer_encoder = nn.TransformerEncoder(\n",
    "            encoder_layer, num_layers=num_layers\n",
    "        )\n",
    "\n",
    "        # Heads\n",
    "        self.classifier = nn.Linear(embed_dim, M)         # classification head\n",
    "        self.mlm_head = nn.Linear(embed_dim, self.vocab_size)  # MLM head\n",
    "\n",
    "    def forward(self, x, mlm_labels=None):\n",
    "        \"\"\"\n",
    "        x: [B, L] token ids (with [MASK] tokens possibly inserted)\n",
    "        mlm_labels: [B, L] original token ids, or -100 for non-masked tokens\n",
    "        \"\"\"\n",
    "        B, L = x.shape\n",
    "\n",
    "        # Embeddings\n",
    "        tok = self.token_embedding(x)                  # [B, L, D]\n",
    "        cls = self.cls_token.expand(B, 1, self.embed_dim)  # [B, 1, D]\n",
    "        h = torch.cat([cls, tok], dim=1)               # [B, L+1, D]\n",
    "\n",
    "        # Add positions\n",
    "        pos = self.position_embedding(\n",
    "            torch.arange(L + 1, device=x.device).unsqueeze(0)\n",
    "        )                                              # [1, L+1, D]\n",
    "        h = h + pos\n",
    "\n",
    "        # Encode\n",
    "        h = self.transformer_encoder(h)                # [B, L+1, D]\n",
    "\n",
    "        # Classification head\n",
    "        cls_out = h[:, 0, :]                           # [B, D]\n",
    "        logits_cls = self.classifier(cls_out)          # [B, M]\n",
    "\n",
    "        # MLM head (skip CLS token)\n",
    "        tok_out = h[:, 1:, :]                          # [B, L, D]\n",
    "        logits_mlm = self.mlm_head(tok_out)            # [B, L, vocab_size]\n",
    "\n",
    "        if mlm_labels is not None:\n",
    "            return logits_cls, logits_mlm\n",
    "        else:\n",
    "            return logits_cls\n",
    "\n",
    "\n",
    "def mask_tokens(x, mask_id, vocab_size, mlm_probability=0.15):\n",
    "    \"\"\"\n",
    "    Prepare masked input and MLM labels for MLM pretraining.\n",
    "    x: [B, L] input tensor (long)\n",
    "    Returns:\n",
    "      masked_x: [B, L]\n",
    "      mlm_labels: [B, L] (original ids, or -100 for unmasked positions)\n",
    "\n",
    "    TODO: Implement NSP in addition to MLM\n",
    "    \"\"\"\n",
    "    labels = x.clone()\n",
    "    probability_matrix = torch.full(labels.shape, mlm_probability, device=x.device)\n",
    "    mask = torch.bernoulli(probability_matrix).bool()\n",
    "\n",
    "    mlm_labels = labels.clone()\n",
    "    mlm_labels[~mask] = -100  # only compute loss on masked tokens\n",
    "\n",
    "    # 80 %: [MASK]\n",
    "    indices_replaced = torch.bernoulli(torch.full(labels.shape, 0.8, device=x.device)).bool() & mask\n",
    "    x[indices_replaced] = mask_id\n",
    "\n",
    "    # 10 %: random token\n",
    "    indices_random = torch.bernoulli(torch.full(labels.shape, 0.5, device=x.device)).bool() & mask & ~indices_replaced\n",
    "    random_tokens = torch.randint(0, vocab_size, labels.shape, dtype=torch.long, device=x.device)\n",
    "    x[indices_random] = random_tokens[indices_random]\n",
    "\n",
    "    # 10 %: unchanged (mask stays same)\n",
    "    return x, mlm_labels\n",
    "\n",
    "\n",
    "import torch\n",
    "from torch import optim\n",
    "from tqdm import tqdm\n",
    "\n",
    "def pretrain_mlm(model, dataloader, formatter, num_epochs=5, lr=1e-4, device=\"cuda\"):\n",
    "    \"\"\"\n",
    "    Pretrain the encoder-only model with Masked Language Modeling (MLM).\n",
    "\n",
    "    Args:\n",
    "        model: T2Tokens instance\n",
    "        dataloader: yields batches of [B, L] token ids (0..255)\n",
    "        num_epochs: number of training epochs\n",
    "        lr: learning rate\n",
    "        device: \"cuda\" or \"cpu\"\n",
    "    \"\"\"\n",
    "    model = model.to(device)\n",
    "    optimizer = optim.AdamW(model.parameters(), lr=lr)\n",
    "    last_loss = float(\"inf\")\n",
    "\n",
    "    for epoch in range(num_epochs):\n",
    "        model.train()\n",
    "        total_loss, num_batches = 0.0, 0\n",
    "\n",
    "        for x_batch, _ in tqdm(dataloader):\n",
    "            x_batch = x_batch.long().to(device)\n",
    "            x_batch = formatter(x_batch)\n",
    "\n",
    "            # Mask tokens\n",
    "            masked_x, mlm_labels = mask_tokens(\n",
    "                x_batch.clone(), model.mask_id, vocab_size=256\n",
    "            )\n",
    "\n",
    "            # Forward pass\n",
    "            _, logits_mlm = model(masked_x, mlm_labels=mlm_labels)\n",
    "\n",
    "            # MLM loss only\n",
    "            loss = torch.nn.functional.cross_entropy(\n",
    "                logits_mlm.view(-1, model.vocab_size),\n",
    "                mlm_labels.view(-1),\n",
    "                ignore_index=-100,\n",
    "            )\n",
    "\n",
    "            # Backward\n",
    "            optimizer.zero_grad()\n",
    "            loss.backward()\n",
    "            optimizer.step()\n",
    "\n",
    "            total_loss += loss.item()\n",
    "            num_batches += 1\n",
    "            if num_batches > 1000:\n",
    "                break\n",
    "\n",
    "        avg_loss = total_loss / num_batches\n",
    "        print(f\"Epoch {epoch+1}: MLM loss = {avg_loss:.4f}\")\n",
    "        if avg_loss > last_loss:\n",
    "            print(\"Overfitting; stopping early\")\n",
    "        else:\n",
    "            last_loss = avg_loss\n"
   ]
  },
  {
   "cell_type": "code",
   "execution_count": 7,
   "id": "87012bd7",
   "metadata": {},
   "outputs": [
    {
     "name": "stdout",
     "output_type": "stream",
     "text": [
      "Pretraining\n"
     ]
    },
    {
     "name": "stderr",
     "output_type": "stream",
     "text": [
      "  3%|▎         | 300/8602 [01:12<33:27,  4.14it/s]\n"
     ]
    },
    {
     "name": "stdout",
     "output_type": "stream",
     "text": [
      "Epoch 1: MLM loss = 5.4689\n"
     ]
    },
    {
     "name": "stderr",
     "output_type": "stream",
     "text": [
      "  3%|▎         | 300/8602 [01:14<34:13,  4.04it/s]\n"
     ]
    },
    {
     "name": "stdout",
     "output_type": "stream",
     "text": [
      "Epoch 2: MLM loss = 5.3149\n"
     ]
    },
    {
     "name": "stderr",
     "output_type": "stream",
     "text": [
      "  3%|▎         | 300/8602 [01:15<34:37,  4.00it/s]\n"
     ]
    },
    {
     "name": "stdout",
     "output_type": "stream",
     "text": [
      "Epoch 3: MLM loss = 5.2365\n"
     ]
    },
    {
     "name": "stderr",
     "output_type": "stream",
     "text": [
      "  3%|▎         | 300/8602 [01:15<34:45,  3.98it/s]\n"
     ]
    },
    {
     "name": "stdout",
     "output_type": "stream",
     "text": [
      "Epoch 4: MLM loss = 5.1705\n"
     ]
    },
    {
     "name": "stderr",
     "output_type": "stream",
     "text": [
      "  3%|▎         | 300/8602 [01:15<34:42,  3.99it/s]\n"
     ]
    },
    {
     "name": "stdout",
     "output_type": "stream",
     "text": [
      "Epoch 5: MLM loss = 5.1173\n",
      "Fine-tuning:\n",
      "Number of parameters: 457_413\n"
     ]
    },
    {
     "name": "stderr",
     "output_type": "stream",
     "text": [
      "  2%|▏         | 201/8602 [01:24<25:19:14, 10.85s/it]"
     ]
    },
    {
     "name": "stdout",
     "output_type": "stream",
     "text": [
      "P: [0.31482]\n"
     ]
    },
    {
     "name": "stderr",
     "output_type": "stream",
     "text": [
      "  5%|▍         | 401/8602 [02:49<24:54:01, 10.93s/it]"
     ]
    },
    {
     "name": "stdout",
     "output_type": "stream",
     "text": [
      "P: [0.32307]\n"
     ]
    },
    {
     "name": "stderr",
     "output_type": "stream",
     "text": [
      "  7%|▋         | 601/8602 [04:15<24:16:13, 10.92s/it]"
     ]
    },
    {
     "name": "stdout",
     "output_type": "stream",
     "text": [
      "P: [0.49682]\n"
     ]
    },
    {
     "name": "stderr",
     "output_type": "stream",
     "text": [
      "  9%|▉         | 801/8602 [05:40<23:42:04, 10.94s/it]"
     ]
    },
    {
     "name": "stdout",
     "output_type": "stream",
     "text": [
      "P: [0.62916]\n"
     ]
    },
    {
     "name": "stderr",
     "output_type": "stream",
     "text": [
      " 12%|█▏        | 1001/8602 [07:05<22:54:34, 10.85s/it]"
     ]
    },
    {
     "name": "stdout",
     "output_type": "stream",
     "text": [
      "P: [0.65748]\n"
     ]
    },
    {
     "name": "stderr",
     "output_type": "stream",
     "text": [
      " 14%|█▍        | 1201/8602 [08:30<22:21:49, 10.88s/it]"
     ]
    },
    {
     "name": "stdout",
     "output_type": "stream",
     "text": [
      "P: [0.65756]\n"
     ]
    },
    {
     "name": "stderr",
     "output_type": "stream",
     "text": [
      " 16%|█▋        | 1401/8602 [09:55<21:44:35, 10.87s/it]"
     ]
    },
    {
     "name": "stdout",
     "output_type": "stream",
     "text": [
      "P: [0.65446]\n"
     ]
    },
    {
     "name": "stderr",
     "output_type": "stream",
     "text": [
      " 19%|█▊        | 1601/8602 [11:20<21:16:05, 10.94s/it]"
     ]
    },
    {
     "name": "stdout",
     "output_type": "stream",
     "text": [
      "P: [0.68484]\n"
     ]
    },
    {
     "name": "stderr",
     "output_type": "stream",
     "text": [
      " 21%|██        | 1801/8602 [12:45<20:35:49, 10.90s/it]"
     ]
    },
    {
     "name": "stdout",
     "output_type": "stream",
     "text": [
      "P: [0.69552]\n"
     ]
    },
    {
     "name": "stderr",
     "output_type": "stream",
     "text": [
      " 23%|██▎       | 2001/8602 [14:10<20:06:41, 10.97s/it]"
     ]
    },
    {
     "name": "stdout",
     "output_type": "stream",
     "text": [
      "P: [0.72442]\n"
     ]
    },
    {
     "name": "stderr",
     "output_type": "stream",
     "text": [
      " 23%|██▎       | 2009/8602 [14:13<46:39,  2.36it/s]   \n"
     ]
    },
    {
     "ename": "KeyboardInterrupt",
     "evalue": "",
     "output_type": "error",
     "traceback": [
      "\u001b[1;31m---------------------------------------------------------------------------\u001b[0m",
      "\u001b[1;31mKeyboardInterrupt\u001b[0m                         Traceback (most recent call last)",
      "Cell \u001b[1;32mIn[7], line 9\u001b[0m\n\u001b[0;32m      6\u001b[0m pretrain_mlm(classifier\u001b[38;5;241m.\u001b[39mmodel, train_data, \u001b[38;5;28mformat\u001b[39m\u001b[38;5;241m.\u001b[39mto_tetramers)\n\u001b[0;32m      8\u001b[0m \u001b[38;5;28mprint\u001b[39m(\u001b[38;5;124m\"\u001b[39m\u001b[38;5;124mFine-tuning:\u001b[39m\u001b[38;5;124m\"\u001b[39m)\n\u001b[1;32m----> 9\u001b[0m model \u001b[38;5;241m=\u001b[39m \u001b[43mbenchmark\u001b[49m\u001b[43m(\u001b[49m\n\u001b[0;32m     10\u001b[0m \u001b[43m    \u001b[49m\u001b[43mclassifier\u001b[49m\u001b[43m,\u001b[49m\n\u001b[0;32m     11\u001b[0m \u001b[43m    \u001b[49m\u001b[38;5;124;43m\"\u001b[39;49m\u001b[38;5;124;43mTransformer\u001b[39;49m\u001b[38;5;124;43m\"\u001b[39;49m\u001b[43m,\u001b[49m\n\u001b[0;32m     12\u001b[0m \u001b[43m    \u001b[49m\u001b[43mmax_epochs\u001b[49m\u001b[38;5;241;43m=\u001b[39;49m\u001b[38;5;241;43m5\u001b[39;49m\n\u001b[0;32m     13\u001b[0m \u001b[43m)\u001b[49m\n\u001b[0;32m     14\u001b[0m matrix \u001b[38;5;241m=\u001b[39m models\u001b[38;5;241m.\u001b[39mconfusion_matrix(model, test_data, \u001b[38;5;124m\"\u001b[39m\u001b[38;5;124mcuda\u001b[39m\u001b[38;5;124m\"\u001b[39m, mapping)\n\u001b[0;32m     15\u001b[0m plt\u001b[38;5;241m.\u001b[39mmatshow(matrix)\n",
      "Cell \u001b[1;32mIn[2], line 73\u001b[0m, in \u001b[0;36mbenchmark\u001b[1;34m(classifier, name, max_epochs)\u001b[0m\n\u001b[0;32m     71\u001b[0m     optimizer \u001b[38;5;241m=\u001b[39m \u001b[38;5;28;01mNone\u001b[39;00m\n\u001b[0;32m     72\u001b[0m a \u001b[38;5;241m=\u001b[39m time()\n\u001b[1;32m---> 73\u001b[0m losses, f1, validation_losses \u001b[38;5;241m=\u001b[39m \u001b[43mclassifier\u001b[49m\u001b[38;5;241;43m.\u001b[39;49m\u001b[43mtrain\u001b[49m\u001b[43m(\u001b[49m\n\u001b[0;32m     74\u001b[0m \u001b[43m    \u001b[49m\u001b[43mtrain_data\u001b[49m\u001b[43m,\u001b[49m\n\u001b[0;32m     75\u001b[0m \u001b[43m    \u001b[49m\u001b[43mvalidation_data\u001b[49m\u001b[43m,\u001b[49m\n\u001b[0;32m     76\u001b[0m \u001b[43m    \u001b[49m\u001b[43moptimizer\u001b[49m\u001b[43m,\u001b[49m\n\u001b[0;32m     77\u001b[0m \u001b[43m    \u001b[49m\u001b[43mmax_n_epochs\u001b[49m\u001b[38;5;241;43m=\u001b[39;49m\u001b[43mmax_epochs\u001b[49m\u001b[43m,\u001b[49m\n\u001b[0;32m     78\u001b[0m \u001b[43m    \u001b[49m\u001b[43mpatience\u001b[49m\u001b[38;5;241;43m=\u001b[39;49m\u001b[38;5;241;43m3\u001b[39;49m\u001b[43m,\u001b[49m\n\u001b[0;32m     79\u001b[0m \u001b[43m    \u001b[49m\u001b[43mloss_function\u001b[49m\u001b[38;5;241;43m=\u001b[39;49m\u001b[43mnn\u001b[49m\u001b[38;5;241;43m.\u001b[39;49m\u001b[43mCrossEntropyLoss\u001b[49m\u001b[43m(\u001b[49m\u001b[43m)\u001b[49m\u001b[43m,\u001b[49m\n\u001b[0;32m     80\u001b[0m \u001b[43m    \u001b[49m\u001b[43mloss_function_type\u001b[49m\u001b[38;5;241;43m=\u001b[39;49m\u001b[38;5;124;43m\"\u001b[39;49m\u001b[38;5;124;43msupervised\u001b[39;49m\u001b[38;5;124;43m\"\u001b[39;49m\n\u001b[0;32m     81\u001b[0m \u001b[43m\u001b[49m\u001b[43m)\u001b[49m\n\u001b[0;32m     82\u001b[0m b \u001b[38;5;241m=\u001b[39m time()\n\u001b[0;32m     83\u001b[0m \u001b[38;5;28mprint\u001b[39m(\u001b[38;5;124mf\u001b[39m\u001b[38;5;124m\"\u001b[39m\u001b[38;5;124mTraining took \u001b[39m\u001b[38;5;132;01m{\u001b[39;00m(b\u001b[38;5;250m \u001b[39m\u001b[38;5;241m-\u001b[39m\u001b[38;5;250m \u001b[39ma)\u001b[38;5;132;01m:\u001b[39;00m\u001b[38;5;124m.3f\u001b[39m\u001b[38;5;132;01m}\u001b[39;00m\u001b[38;5;124m s.\u001b[39m\u001b[38;5;124m\"\u001b[39m)\n",
      "File \u001b[1;32mD:\\maitrise\\stelaro\\stelaro\\models\\__init__.py:580\u001b[0m, in \u001b[0;36mClassifier.train\u001b[1;34m(self, train_loader, validate_loader, optimizer, max_n_epochs, patience, loss_function, loss_function_type)\u001b[0m\n\u001b[0;32m    576\u001b[0m loss \u001b[38;5;241m=\u001b[39m \u001b[38;5;28mself\u001b[39m\u001b[38;5;241m.\u001b[39m_compute_loss(\n\u001b[0;32m    577\u001b[0m     x_batch, y_batch, loss_function_type, loss_function\n\u001b[0;32m    578\u001b[0m )\n\u001b[0;32m    579\u001b[0m optimizer\u001b[38;5;241m.\u001b[39mzero_grad()\n\u001b[1;32m--> 580\u001b[0m \u001b[43mloss\u001b[49m\u001b[38;5;241;43m.\u001b[39;49m\u001b[43mbackward\u001b[49m\u001b[43m(\u001b[49m\u001b[43m)\u001b[49m\n\u001b[0;32m    581\u001b[0m optimizer\u001b[38;5;241m.\u001b[39mstep()\n\u001b[0;32m    582\u001b[0m losses[\u001b[38;5;241m-\u001b[39m\u001b[38;5;241m1\u001b[39m] \u001b[38;5;241m+\u001b[39m\u001b[38;5;241m=\u001b[39m loss\u001b[38;5;241m.\u001b[39mitem()\n",
      "File \u001b[1;32md:\\maitrise\\stelaro\\venv\\Lib\\site-packages\\torch\\_tensor.py:648\u001b[0m, in \u001b[0;36mTensor.backward\u001b[1;34m(self, gradient, retain_graph, create_graph, inputs)\u001b[0m\n\u001b[0;32m    638\u001b[0m \u001b[38;5;28;01mif\u001b[39;00m has_torch_function_unary(\u001b[38;5;28mself\u001b[39m):\n\u001b[0;32m    639\u001b[0m     \u001b[38;5;28;01mreturn\u001b[39;00m handle_torch_function(\n\u001b[0;32m    640\u001b[0m         Tensor\u001b[38;5;241m.\u001b[39mbackward,\n\u001b[0;32m    641\u001b[0m         (\u001b[38;5;28mself\u001b[39m,),\n\u001b[1;32m   (...)\u001b[0m\n\u001b[0;32m    646\u001b[0m         inputs\u001b[38;5;241m=\u001b[39minputs,\n\u001b[0;32m    647\u001b[0m     )\n\u001b[1;32m--> 648\u001b[0m \u001b[43mtorch\u001b[49m\u001b[38;5;241;43m.\u001b[39;49m\u001b[43mautograd\u001b[49m\u001b[38;5;241;43m.\u001b[39;49m\u001b[43mbackward\u001b[49m\u001b[43m(\u001b[49m\n\u001b[0;32m    649\u001b[0m \u001b[43m    \u001b[49m\u001b[38;5;28;43mself\u001b[39;49m\u001b[43m,\u001b[49m\u001b[43m \u001b[49m\u001b[43mgradient\u001b[49m\u001b[43m,\u001b[49m\u001b[43m \u001b[49m\u001b[43mretain_graph\u001b[49m\u001b[43m,\u001b[49m\u001b[43m \u001b[49m\u001b[43mcreate_graph\u001b[49m\u001b[43m,\u001b[49m\u001b[43m \u001b[49m\u001b[43minputs\u001b[49m\u001b[38;5;241;43m=\u001b[39;49m\u001b[43minputs\u001b[49m\n\u001b[0;32m    650\u001b[0m \u001b[43m\u001b[49m\u001b[43m)\u001b[49m\n",
      "File \u001b[1;32md:\\maitrise\\stelaro\\venv\\Lib\\site-packages\\torch\\autograd\\__init__.py:353\u001b[0m, in \u001b[0;36mbackward\u001b[1;34m(tensors, grad_tensors, retain_graph, create_graph, grad_variables, inputs)\u001b[0m\n\u001b[0;32m    348\u001b[0m     retain_graph \u001b[38;5;241m=\u001b[39m create_graph\n\u001b[0;32m    350\u001b[0m \u001b[38;5;66;03m# The reason we repeat the same comment below is that\u001b[39;00m\n\u001b[0;32m    351\u001b[0m \u001b[38;5;66;03m# some Python versions print out the first line of a multi-line function\u001b[39;00m\n\u001b[0;32m    352\u001b[0m \u001b[38;5;66;03m# calls in the traceback and some print out the last line\u001b[39;00m\n\u001b[1;32m--> 353\u001b[0m \u001b[43m_engine_run_backward\u001b[49m\u001b[43m(\u001b[49m\n\u001b[0;32m    354\u001b[0m \u001b[43m    \u001b[49m\u001b[43mtensors\u001b[49m\u001b[43m,\u001b[49m\n\u001b[0;32m    355\u001b[0m \u001b[43m    \u001b[49m\u001b[43mgrad_tensors_\u001b[49m\u001b[43m,\u001b[49m\n\u001b[0;32m    356\u001b[0m \u001b[43m    \u001b[49m\u001b[43mretain_graph\u001b[49m\u001b[43m,\u001b[49m\n\u001b[0;32m    357\u001b[0m \u001b[43m    \u001b[49m\u001b[43mcreate_graph\u001b[49m\u001b[43m,\u001b[49m\n\u001b[0;32m    358\u001b[0m \u001b[43m    \u001b[49m\u001b[43minputs\u001b[49m\u001b[43m,\u001b[49m\n\u001b[0;32m    359\u001b[0m \u001b[43m    \u001b[49m\u001b[43mallow_unreachable\u001b[49m\u001b[38;5;241;43m=\u001b[39;49m\u001b[38;5;28;43;01mTrue\u001b[39;49;00m\u001b[43m,\u001b[49m\n\u001b[0;32m    360\u001b[0m \u001b[43m    \u001b[49m\u001b[43maccumulate_grad\u001b[49m\u001b[38;5;241;43m=\u001b[39;49m\u001b[38;5;28;43;01mTrue\u001b[39;49;00m\u001b[43m,\u001b[49m\n\u001b[0;32m    361\u001b[0m \u001b[43m\u001b[49m\u001b[43m)\u001b[49m\n",
      "File \u001b[1;32md:\\maitrise\\stelaro\\venv\\Lib\\site-packages\\torch\\autograd\\graph.py:824\u001b[0m, in \u001b[0;36m_engine_run_backward\u001b[1;34m(t_outputs, *args, **kwargs)\u001b[0m\n\u001b[0;32m    822\u001b[0m     unregister_hooks \u001b[38;5;241m=\u001b[39m _register_logging_hooks_on_whole_graph(t_outputs)\n\u001b[0;32m    823\u001b[0m \u001b[38;5;28;01mtry\u001b[39;00m:\n\u001b[1;32m--> 824\u001b[0m     \u001b[38;5;28;01mreturn\u001b[39;00m \u001b[43mVariable\u001b[49m\u001b[38;5;241;43m.\u001b[39;49m\u001b[43m_execution_engine\u001b[49m\u001b[38;5;241;43m.\u001b[39;49m\u001b[43mrun_backward\u001b[49m\u001b[43m(\u001b[49m\u001b[43m  \u001b[49m\u001b[38;5;66;43;03m# Calls into the C++ engine to run the backward pass\u001b[39;49;00m\n\u001b[0;32m    825\u001b[0m \u001b[43m        \u001b[49m\u001b[43mt_outputs\u001b[49m\u001b[43m,\u001b[49m\u001b[43m \u001b[49m\u001b[38;5;241;43m*\u001b[39;49m\u001b[43margs\u001b[49m\u001b[43m,\u001b[49m\u001b[43m \u001b[49m\u001b[38;5;241;43m*\u001b[39;49m\u001b[38;5;241;43m*\u001b[39;49m\u001b[43mkwargs\u001b[49m\n\u001b[0;32m    826\u001b[0m \u001b[43m    \u001b[49m\u001b[43m)\u001b[49m  \u001b[38;5;66;03m# Calls into the C++ engine to run the backward pass\u001b[39;00m\n\u001b[0;32m    827\u001b[0m \u001b[38;5;28;01mfinally\u001b[39;00m:\n\u001b[0;32m    828\u001b[0m     \u001b[38;5;28;01mif\u001b[39;00m attach_logging_hooks:\n",
      "\u001b[1;31mKeyboardInterrupt\u001b[0m: "
     ]
    }
   ],
   "source": [
    "from torch.optim import Adam\n",
    "\n",
    "classifier = models.Classifier(LENGTH // 4, mapping, \"cuda\", BERT, format.to_tetramers)\n",
    "\n",
    "print(\"Pretraining\")\n",
    "pretrain_mlm(classifier.model, train_data, format.to_tetramers)\n",
    "\n",
    "print(\"Fine-tuning:\")\n",
    "model = benchmark(\n",
    "    classifier,\n",
    "    \"Transformer\",\n",
    "    max_epochs=5\n",
    ")\n",
    "matrix = models.confusion_matrix(model, test_data, \"cuda\", mapping)\n",
    "plt.matshow(matrix)\n",
    "plt.show()\n",
    "np.set_printoptions(precision=3, suppress=True, linewidth=500, threshold=np.inf)\n",
    "print(matrix)"
   ]
  },
  {
   "cell_type": "code",
   "execution_count": 11,
   "id": "081eca1c",
   "metadata": {},
   "outputs": [
    {
     "name": "stdout",
     "output_type": "stream",
     "text": [
      "Pretraining\n"
     ]
    },
    {
     "name": "stderr",
     "output_type": "stream",
     "text": [
      " 12%|█▏        | 1000/8602 [06:10<46:58,  2.70it/s]\n"
     ]
    },
    {
     "name": "stdout",
     "output_type": "stream",
     "text": [
      "Epoch 1: MLM loss = 5.3338\n"
     ]
    },
    {
     "name": "stderr",
     "output_type": "stream",
     "text": [
      " 12%|█▏        | 1000/8602 [06:16<47:42,  2.66it/s]\n"
     ]
    },
    {
     "name": "stdout",
     "output_type": "stream",
     "text": [
      "Epoch 2: MLM loss = 5.1097\n"
     ]
    },
    {
     "name": "stderr",
     "output_type": "stream",
     "text": [
      " 12%|█▏        | 1000/8602 [06:13<47:16,  2.68it/s]\n"
     ]
    },
    {
     "name": "stdout",
     "output_type": "stream",
     "text": [
      "Epoch 3: MLM loss = 5.0167\n"
     ]
    },
    {
     "name": "stderr",
     "output_type": "stream",
     "text": [
      " 12%|█▏        | 1000/8602 [06:13<47:21,  2.68it/s]\n"
     ]
    },
    {
     "name": "stdout",
     "output_type": "stream",
     "text": [
      "Epoch 4: MLM loss = 4.9881\n"
     ]
    },
    {
     "name": "stderr",
     "output_type": "stream",
     "text": [
      " 12%|█▏        | 1000/8602 [06:11<47:03,  2.69it/s]\n"
     ]
    },
    {
     "name": "stdout",
     "output_type": "stream",
     "text": [
      "Epoch 5: MLM loss = 4.9764\n",
      "Fine-tuning:\n",
      "Number of parameters: 657_349\n"
     ]
    },
    {
     "name": "stderr",
     "output_type": "stream",
     "text": [
      "  2%|▏         | 201/8602 [02:05<37:30:22, 16.07s/it]"
     ]
    },
    {
     "name": "stdout",
     "output_type": "stream",
     "text": [
      "P: [0.11299]\n"
     ]
    },
    {
     "name": "stderr",
     "output_type": "stream",
     "text": [
      "  5%|▍         | 401/8602 [04:10<36:35:57, 16.07s/it]"
     ]
    },
    {
     "name": "stdout",
     "output_type": "stream",
     "text": [
      "P: [0.22682]\n"
     ]
    },
    {
     "name": "stderr",
     "output_type": "stream",
     "text": [
      "  7%|▋         | 601/8602 [06:15<35:33:58, 16.00s/it]"
     ]
    },
    {
     "name": "stdout",
     "output_type": "stream",
     "text": [
      "P: [0.11298]\n"
     ]
    },
    {
     "name": "stderr",
     "output_type": "stream",
     "text": [
      "  9%|▉         | 801/8602 [08:19<34:26:27, 15.89s/it]"
     ]
    },
    {
     "name": "stdout",
     "output_type": "stream",
     "text": [
      "P: [0.11299]\n"
     ]
    },
    {
     "name": "stderr",
     "output_type": "stream",
     "text": [
      " 12%|█▏        | 1001/8602 [10:24<34:04:43, 16.14s/it]"
     ]
    },
    {
     "name": "stdout",
     "output_type": "stream",
     "text": [
      "P: [0.11298]\n"
     ]
    },
    {
     "name": "stderr",
     "output_type": "stream",
     "text": [
      " 12%|█▏        | 1021/8602 [10:32<1:18:18,  1.61it/s] \n"
     ]
    },
    {
     "ename": "KeyboardInterrupt",
     "evalue": "",
     "output_type": "error",
     "traceback": [
      "\u001b[1;31m---------------------------------------------------------------------------\u001b[0m",
      "\u001b[1;31mKeyboardInterrupt\u001b[0m                         Traceback (most recent call last)",
      "Cell \u001b[1;32mIn[11], line 9\u001b[0m\n\u001b[0;32m      6\u001b[0m pretrain_mlm(classifier\u001b[38;5;241m.\u001b[39mmodel, train_data, \u001b[38;5;28mformat\u001b[39m\u001b[38;5;241m.\u001b[39mto_tetramers)\n\u001b[0;32m      8\u001b[0m \u001b[38;5;28mprint\u001b[39m(\u001b[38;5;124m\"\u001b[39m\u001b[38;5;124mFine-tuning:\u001b[39m\u001b[38;5;124m\"\u001b[39m)\n\u001b[1;32m----> 9\u001b[0m model \u001b[38;5;241m=\u001b[39m \u001b[43mbenchmark\u001b[49m\u001b[43m(\u001b[49m\n\u001b[0;32m     10\u001b[0m \u001b[43m    \u001b[49m\u001b[43mclassifier\u001b[49m\u001b[43m,\u001b[49m\n\u001b[0;32m     11\u001b[0m \u001b[43m    \u001b[49m\u001b[38;5;124;43m\"\u001b[39;49m\u001b[38;5;124;43mTransformer\u001b[39;49m\u001b[38;5;124;43m\"\u001b[39;49m\u001b[43m,\u001b[49m\n\u001b[0;32m     12\u001b[0m \u001b[43m    \u001b[49m\u001b[43mmax_epochs\u001b[49m\u001b[38;5;241;43m=\u001b[39;49m\u001b[38;5;241;43m5\u001b[39;49m\n\u001b[0;32m     13\u001b[0m \u001b[43m)\u001b[49m\n\u001b[0;32m     14\u001b[0m matrix \u001b[38;5;241m=\u001b[39m models\u001b[38;5;241m.\u001b[39mconfusion_matrix(model, test_data, \u001b[38;5;124m\"\u001b[39m\u001b[38;5;124mcuda\u001b[39m\u001b[38;5;124m\"\u001b[39m, mapping)\n\u001b[0;32m     15\u001b[0m plt\u001b[38;5;241m.\u001b[39mmatshow(matrix)\n",
      "Cell \u001b[1;32mIn[2], line 73\u001b[0m, in \u001b[0;36mbenchmark\u001b[1;34m(classifier, name, max_epochs)\u001b[0m\n\u001b[0;32m     71\u001b[0m     optimizer \u001b[38;5;241m=\u001b[39m \u001b[38;5;28;01mNone\u001b[39;00m\n\u001b[0;32m     72\u001b[0m a \u001b[38;5;241m=\u001b[39m time()\n\u001b[1;32m---> 73\u001b[0m losses, f1, validation_losses \u001b[38;5;241m=\u001b[39m \u001b[43mclassifier\u001b[49m\u001b[38;5;241;43m.\u001b[39;49m\u001b[43mtrain\u001b[49m\u001b[43m(\u001b[49m\n\u001b[0;32m     74\u001b[0m \u001b[43m    \u001b[49m\u001b[43mtrain_data\u001b[49m\u001b[43m,\u001b[49m\n\u001b[0;32m     75\u001b[0m \u001b[43m    \u001b[49m\u001b[43mvalidation_data\u001b[49m\u001b[43m,\u001b[49m\n\u001b[0;32m     76\u001b[0m \u001b[43m    \u001b[49m\u001b[43moptimizer\u001b[49m\u001b[43m,\u001b[49m\n\u001b[0;32m     77\u001b[0m \u001b[43m    \u001b[49m\u001b[43mmax_n_epochs\u001b[49m\u001b[38;5;241;43m=\u001b[39;49m\u001b[43mmax_epochs\u001b[49m\u001b[43m,\u001b[49m\n\u001b[0;32m     78\u001b[0m \u001b[43m    \u001b[49m\u001b[43mpatience\u001b[49m\u001b[38;5;241;43m=\u001b[39;49m\u001b[38;5;241;43m3\u001b[39;49m\u001b[43m,\u001b[49m\n\u001b[0;32m     79\u001b[0m \u001b[43m    \u001b[49m\u001b[43mloss_function\u001b[49m\u001b[38;5;241;43m=\u001b[39;49m\u001b[43mnn\u001b[49m\u001b[38;5;241;43m.\u001b[39;49m\u001b[43mCrossEntropyLoss\u001b[49m\u001b[43m(\u001b[49m\u001b[43m)\u001b[49m\u001b[43m,\u001b[49m\n\u001b[0;32m     80\u001b[0m \u001b[43m    \u001b[49m\u001b[43mloss_function_type\u001b[49m\u001b[38;5;241;43m=\u001b[39;49m\u001b[38;5;124;43m\"\u001b[39;49m\u001b[38;5;124;43msupervised\u001b[39;49m\u001b[38;5;124;43m\"\u001b[39;49m\n\u001b[0;32m     81\u001b[0m \u001b[43m\u001b[49m\u001b[43m)\u001b[49m\n\u001b[0;32m     82\u001b[0m b \u001b[38;5;241m=\u001b[39m time()\n\u001b[0;32m     83\u001b[0m \u001b[38;5;28mprint\u001b[39m(\u001b[38;5;124mf\u001b[39m\u001b[38;5;124m\"\u001b[39m\u001b[38;5;124mTraining took \u001b[39m\u001b[38;5;132;01m{\u001b[39;00m(b\u001b[38;5;250m \u001b[39m\u001b[38;5;241m-\u001b[39m\u001b[38;5;250m \u001b[39ma)\u001b[38;5;132;01m:\u001b[39;00m\u001b[38;5;124m.3f\u001b[39m\u001b[38;5;132;01m}\u001b[39;00m\u001b[38;5;124m s.\u001b[39m\u001b[38;5;124m\"\u001b[39m)\n",
      "File \u001b[1;32mD:\\maitrise\\stelaro\\stelaro\\models\\__init__.py:580\u001b[0m, in \u001b[0;36mClassifier.train\u001b[1;34m(self, train_loader, validate_loader, optimizer, max_n_epochs, patience, loss_function, loss_function_type)\u001b[0m\n\u001b[0;32m    576\u001b[0m loss \u001b[38;5;241m=\u001b[39m \u001b[38;5;28mself\u001b[39m\u001b[38;5;241m.\u001b[39m_compute_loss(\n\u001b[0;32m    577\u001b[0m     x_batch, y_batch, loss_function_type, loss_function\n\u001b[0;32m    578\u001b[0m )\n\u001b[0;32m    579\u001b[0m optimizer\u001b[38;5;241m.\u001b[39mzero_grad()\n\u001b[1;32m--> 580\u001b[0m \u001b[43mloss\u001b[49m\u001b[38;5;241;43m.\u001b[39;49m\u001b[43mbackward\u001b[49m\u001b[43m(\u001b[49m\u001b[43m)\u001b[49m\n\u001b[0;32m    581\u001b[0m optimizer\u001b[38;5;241m.\u001b[39mstep()\n\u001b[0;32m    582\u001b[0m losses[\u001b[38;5;241m-\u001b[39m\u001b[38;5;241m1\u001b[39m] \u001b[38;5;241m+\u001b[39m\u001b[38;5;241m=\u001b[39m loss\u001b[38;5;241m.\u001b[39mitem()\n",
      "File \u001b[1;32md:\\maitrise\\stelaro\\venv\\Lib\\site-packages\\torch\\_tensor.py:648\u001b[0m, in \u001b[0;36mTensor.backward\u001b[1;34m(self, gradient, retain_graph, create_graph, inputs)\u001b[0m\n\u001b[0;32m    638\u001b[0m \u001b[38;5;28;01mif\u001b[39;00m has_torch_function_unary(\u001b[38;5;28mself\u001b[39m):\n\u001b[0;32m    639\u001b[0m     \u001b[38;5;28;01mreturn\u001b[39;00m handle_torch_function(\n\u001b[0;32m    640\u001b[0m         Tensor\u001b[38;5;241m.\u001b[39mbackward,\n\u001b[0;32m    641\u001b[0m         (\u001b[38;5;28mself\u001b[39m,),\n\u001b[1;32m   (...)\u001b[0m\n\u001b[0;32m    646\u001b[0m         inputs\u001b[38;5;241m=\u001b[39minputs,\n\u001b[0;32m    647\u001b[0m     )\n\u001b[1;32m--> 648\u001b[0m \u001b[43mtorch\u001b[49m\u001b[38;5;241;43m.\u001b[39;49m\u001b[43mautograd\u001b[49m\u001b[38;5;241;43m.\u001b[39;49m\u001b[43mbackward\u001b[49m\u001b[43m(\u001b[49m\n\u001b[0;32m    649\u001b[0m \u001b[43m    \u001b[49m\u001b[38;5;28;43mself\u001b[39;49m\u001b[43m,\u001b[49m\u001b[43m \u001b[49m\u001b[43mgradient\u001b[49m\u001b[43m,\u001b[49m\u001b[43m \u001b[49m\u001b[43mretain_graph\u001b[49m\u001b[43m,\u001b[49m\u001b[43m \u001b[49m\u001b[43mcreate_graph\u001b[49m\u001b[43m,\u001b[49m\u001b[43m \u001b[49m\u001b[43minputs\u001b[49m\u001b[38;5;241;43m=\u001b[39;49m\u001b[43minputs\u001b[49m\n\u001b[0;32m    650\u001b[0m \u001b[43m\u001b[49m\u001b[43m)\u001b[49m\n",
      "File \u001b[1;32md:\\maitrise\\stelaro\\venv\\Lib\\site-packages\\torch\\autograd\\__init__.py:353\u001b[0m, in \u001b[0;36mbackward\u001b[1;34m(tensors, grad_tensors, retain_graph, create_graph, grad_variables, inputs)\u001b[0m\n\u001b[0;32m    348\u001b[0m     retain_graph \u001b[38;5;241m=\u001b[39m create_graph\n\u001b[0;32m    350\u001b[0m \u001b[38;5;66;03m# The reason we repeat the same comment below is that\u001b[39;00m\n\u001b[0;32m    351\u001b[0m \u001b[38;5;66;03m# some Python versions print out the first line of a multi-line function\u001b[39;00m\n\u001b[0;32m    352\u001b[0m \u001b[38;5;66;03m# calls in the traceback and some print out the last line\u001b[39;00m\n\u001b[1;32m--> 353\u001b[0m \u001b[43m_engine_run_backward\u001b[49m\u001b[43m(\u001b[49m\n\u001b[0;32m    354\u001b[0m \u001b[43m    \u001b[49m\u001b[43mtensors\u001b[49m\u001b[43m,\u001b[49m\n\u001b[0;32m    355\u001b[0m \u001b[43m    \u001b[49m\u001b[43mgrad_tensors_\u001b[49m\u001b[43m,\u001b[49m\n\u001b[0;32m    356\u001b[0m \u001b[43m    \u001b[49m\u001b[43mretain_graph\u001b[49m\u001b[43m,\u001b[49m\n\u001b[0;32m    357\u001b[0m \u001b[43m    \u001b[49m\u001b[43mcreate_graph\u001b[49m\u001b[43m,\u001b[49m\n\u001b[0;32m    358\u001b[0m \u001b[43m    \u001b[49m\u001b[43minputs\u001b[49m\u001b[43m,\u001b[49m\n\u001b[0;32m    359\u001b[0m \u001b[43m    \u001b[49m\u001b[43mallow_unreachable\u001b[49m\u001b[38;5;241;43m=\u001b[39;49m\u001b[38;5;28;43;01mTrue\u001b[39;49;00m\u001b[43m,\u001b[49m\n\u001b[0;32m    360\u001b[0m \u001b[43m    \u001b[49m\u001b[43maccumulate_grad\u001b[49m\u001b[38;5;241;43m=\u001b[39;49m\u001b[38;5;28;43;01mTrue\u001b[39;49;00m\u001b[43m,\u001b[49m\n\u001b[0;32m    361\u001b[0m \u001b[43m\u001b[49m\u001b[43m)\u001b[49m\n",
      "File \u001b[1;32md:\\maitrise\\stelaro\\venv\\Lib\\site-packages\\torch\\autograd\\graph.py:824\u001b[0m, in \u001b[0;36m_engine_run_backward\u001b[1;34m(t_outputs, *args, **kwargs)\u001b[0m\n\u001b[0;32m    822\u001b[0m     unregister_hooks \u001b[38;5;241m=\u001b[39m _register_logging_hooks_on_whole_graph(t_outputs)\n\u001b[0;32m    823\u001b[0m \u001b[38;5;28;01mtry\u001b[39;00m:\n\u001b[1;32m--> 824\u001b[0m     \u001b[38;5;28;01mreturn\u001b[39;00m \u001b[43mVariable\u001b[49m\u001b[38;5;241;43m.\u001b[39;49m\u001b[43m_execution_engine\u001b[49m\u001b[38;5;241;43m.\u001b[39;49m\u001b[43mrun_backward\u001b[49m\u001b[43m(\u001b[49m\u001b[43m  \u001b[49m\u001b[38;5;66;43;03m# Calls into the C++ engine to run the backward pass\u001b[39;49;00m\n\u001b[0;32m    825\u001b[0m \u001b[43m        \u001b[49m\u001b[43mt_outputs\u001b[49m\u001b[43m,\u001b[49m\u001b[43m \u001b[49m\u001b[38;5;241;43m*\u001b[39;49m\u001b[43margs\u001b[49m\u001b[43m,\u001b[49m\u001b[43m \u001b[49m\u001b[38;5;241;43m*\u001b[39;49m\u001b[38;5;241;43m*\u001b[39;49m\u001b[43mkwargs\u001b[49m\n\u001b[0;32m    826\u001b[0m \u001b[43m    \u001b[49m\u001b[43m)\u001b[49m  \u001b[38;5;66;03m# Calls into the C++ engine to run the backward pass\u001b[39;00m\n\u001b[0;32m    827\u001b[0m \u001b[38;5;28;01mfinally\u001b[39;00m:\n\u001b[0;32m    828\u001b[0m     \u001b[38;5;28;01mif\u001b[39;00m attach_logging_hooks:\n",
      "\u001b[1;31mKeyboardInterrupt\u001b[0m: "
     ]
    }
   ],
   "source": [
    "from torch.optim import Adam\n",
    "\n",
    "classifier = models.Classifier(LENGTH // 4, mapping, \"cuda\", BERT, format.to_tetramers)\n",
    "\n",
    "print(\"Pretraining\")\n",
    "pretrain_mlm(classifier.model, train_data, format.to_tetramers)\n",
    "\n",
    "print(\"Fine-tuning:\")\n",
    "model = benchmark(\n",
    "    classifier,\n",
    "    \"Transformer\",\n",
    "    max_epochs=5\n",
    ")\n",
    "matrix = models.confusion_matrix(model, test_data, \"cuda\", mapping)\n",
    "plt.matshow(matrix)\n",
    "plt.show()\n",
    "np.set_printoptions(precision=3, suppress=True, linewidth=500, threshold=np.inf)\n",
    "print(matrix)"
   ]
  },
  {
   "cell_type": "code",
   "execution_count": null,
   "id": "ea2f4418",
   "metadata": {},
   "outputs": [
    {
     "name": "stdout",
     "output_type": "stream",
     "text": [
      "Number of parameters: 1_808_901\n"
     ]
    },
    {
     "name": "stderr",
     "output_type": "stream",
     "text": [
      "100%|██████████| 34408/34408 [28:23<00:00, 20.20it/s]\n"
     ]
    },
    {
     "name": "stdout",
     "output_type": "stream",
     "text": [
      "1/6 T loss: 5.86776. V loss: 4.58162. F1: [0.79918]. P: [0.82177] Patience: 3\n"
     ]
    },
    {
     "name": "stderr",
     "output_type": "stream",
     "text": [
      "100%|██████████| 34408/34408 [29:20<00:00, 19.54it/s]\n"
     ]
    },
    {
     "name": "stdout",
     "output_type": "stream",
     "text": [
      "2/6 T loss: 4.66139. V loss: 4.33302. F1: [0.81639]. P: [0.82271] Patience: 3\n"
     ]
    },
    {
     "name": "stderr",
     "output_type": "stream",
     "text": [
      "100%|██████████| 34408/34408 [28:38<00:00, 20.02it/s]\n"
     ]
    },
    {
     "name": "stdout",
     "output_type": "stream",
     "text": [
      "3/6 T loss: 4.33094. V loss: 4.17338. F1: [0.82328]. P: [0.82949] Patience: 3\n"
     ]
    },
    {
     "name": "stderr",
     "output_type": "stream",
     "text": [
      "100%|██████████| 34408/34408 [7:33:17<00:00,  1.27it/s]        \n"
     ]
    },
    {
     "name": "stdout",
     "output_type": "stream",
     "text": [
      "4/6 T loss: 4.12279. V loss: 4.14065. F1: [0.81938]. P: [0.85234] Patience: 2\n"
     ]
    },
    {
     "name": "stderr",
     "output_type": "stream",
     "text": [
      "100%|██████████| 34408/34408 [28:11<00:00, 20.34it/s]\n"
     ]
    },
    {
     "name": "stdout",
     "output_type": "stream",
     "text": [
      "5/6 T loss: 3.99286. V loss: 3.83138. F1: [0.83643]. P: [0.84451] Patience: 2\n"
     ]
    },
    {
     "name": "stderr",
     "output_type": "stream",
     "text": [
      "100%|██████████| 34408/34408 [28:12<00:00, 20.32it/s]\n"
     ]
    },
    {
     "name": "stdout",
     "output_type": "stream",
     "text": [
      "6/6 T loss: 3.88258. V loss: 3.75313. F1: [0.83823]. P: [0.85849] Patience: 2\n",
      "Training took 36296.488 s.\n"
     ]
    },
    {
     "data": {
      "image/png": "[encoded data removed]",
      "text/plain": [
       "<Figure size 1200x400 with 2 Axes>"
      ]
     },
     "metadata": {},
     "output_type": "display_data"
    },
    {
     "name": "stdout",
     "output_type": "stream",
     "text": [
      "Test F1 score: [0.838]\n",
      "Test precision score: [0.85377]\n"
     ]
    },
    {
     "data": {
      "image/png": "[encoded data removed]",
      "text/plain": [
       "<Figure size 480x480 with 1 Axes>"
      ]
     },
     "metadata": {},
     "output_type": "display_data"
    },
    {
     "name": "stdout",
     "output_type": "stream",
     "text": [
      "[[ 6251.   984.   564.   201.]\n",
      " [  662. 44174.  2027.  1137.]\n",
      " [  197.  1298. 25630.   875.]\n",
      " [  161.  1137.  1205. 11497.]]\n"
     ]
    }
   ],
   "source": [
    "from torch.optim import Adam\n",
    "\n",
    "model = benchmark(\n",
    "    classifier,\n",
    "    \"Transformer\",\n",
    "    max_epochs=6\n",
    ")\n",
    "matrix = models.confusion_matrix(model, test_data, \"cuda\", mapping)\n",
    "plt.matshow(matrix)\n",
    "plt.show()\n",
    "np.set_printoptions(precision=3, suppress=True, linewidth=500, threshold=np.inf)\n",
    "print(matrix)"
   ]
  },
  {
   "cell_type": "markdown",
   "id": "637aee8d",
   "metadata": {},
   "source": [
    "### 3.3. CNN-BERT"
   ]
  },
  {
   "cell_type": "code",
   "execution_count": 37,
   "id": "2c660e7b",
   "metadata": {},
   "outputs": [],
   "source": [
    "import torch\n",
    "from torch import nn\n",
    "import torch.nn.functional as F\n",
    "from torch.nn import (Module, Conv1d, ReLU, Sequential, Flatten, Linear,\n",
    "                      CrossEntropyLoss, Dropout, MaxPool1d)\n",
    "\n",
    "\n",
    "class DNACompressor(nn.Module):\n",
    "    def __init__(self, embed_dim: int, L_prime: int):\n",
    "        \"\"\"\n",
    "        embed_dim: final embedding dimension D\n",
    "        L_prime: desired compressed sequence length L'\n",
    "        \"\"\"\n",
    "        super().__init__()\n",
    "        # Convolutional layers to extract local features\n",
    "        self.conv = nn.Sequential(\n",
    "            nn.Conv1d(4, 64, kernel_size=7, stride=2, padding=3),  # [B, 64, L/2]\n",
    "            nn.ReLU(),\n",
    "            nn.Conv1d(64, 128, kernel_size=5, stride=2, padding=2), # [B, 128, L/4]\n",
    "            nn.ReLU(),\n",
    "        )\n",
    "        self.linear = nn.Linear(128, embed_dim)\n",
    "        self.L_prime = L_prime\n",
    "\n",
    "    def forward(self, x):\n",
    "        \"\"\"\n",
    "        x: [B, 4, L]\n",
    "        returns: [B, L', D]\n",
    "        \"\"\"\n",
    "        x = self.conv(x)               # [B, 128, L/4]\n",
    "        x = x.transpose(1, 2)          # [B, L/4, 128] -> sequence first\n",
    "        x = self.linear(x)             # [B, L/4, D]\n",
    "        x = x.transpose(1, 2)          # [B, D, L/4]\n",
    "        x = F.interpolate(x, size=self.L_prime, mode='linear', align_corners=False)\n",
    "        x = x.transpose(1, 2)          # [B, L', D]\n",
    "        return x\n",
    "\n",
    "\n",
    "class CNN_BERT(nn.Module):\n",
    "    def __init__(self, N: int, M: int,\n",
    "                 embed_dim: int = 128,\n",
    "                 nhead: int = 4,\n",
    "                 num_layers: int = 4,\n",
    "                 dropout: float = 0.05\n",
    "                 ):\n",
    "        super().__init__()\n",
    "        self.embed_dim = embed_dim\n",
    "        self.cnn_encoder = DNACompressor(embed_dim, embed_dim)\n",
    "        self.vocab_size = 4\n",
    "        self.mask_id = 4\n",
    "        self.position_embedding = nn.Embedding(embed_dim + 1, embed_dim)\n",
    "        self.cls_token = nn.Parameter(torch.zeros(1, 1, embed_dim))\n",
    "        nn.init.normal_(self.cls_token, mean=0.0, std=0.02)\n",
    "        encoder_layer = nn.TransformerEncoderLayer(\n",
    "            d_model=embed_dim,\n",
    "            nhead=nhead,\n",
    "            dim_feedforward=embed_dim * 4,\n",
    "            dropout=dropout,\n",
    "            activation=\"relu\",\n",
    "            batch_first=True,\n",
    "        )\n",
    "        self.transformer = nn.TransformerEncoder(\n",
    "            encoder_layer, num_layers=num_layers\n",
    "        )\n",
    "        self.classifier = nn.Linear(embed_dim, M)\n",
    "        self.condenser = nn.Linear(embed_dim, 4)\n",
    "        self.mlm_head = nn.Linear(embed_dim, N)\n",
    "\n",
    "    def forward(self, x, mlm_labels=None):\n",
    "        B, C, L = x.shape  # Batch size, n_channels, sequence length\n",
    "        tok = self.cnn_encoder(x)  # [B, D, D]  D: embedding size\n",
    "        cls = self.cls_token.expand(B, 1, self.embed_dim)  # [B, 1, D]\n",
    "        pos = self.position_embedding(\n",
    "            torch.arange(self.embed_dim + 1, device=x.device).unsqueeze(0)\n",
    "        )  # [1, D+1, D]\n",
    "        h = torch.cat([cls, tok], dim=1)  # [B, D+1, D]\n",
    "        h = h + pos\n",
    "\n",
    "        # Encode\n",
    "        h = self.transformer(h)  # [B, L+1, D]\n",
    "\n",
    "        # Classification head\n",
    "        cls_out = h[:, 0, :]  # [B, D]\n",
    "        logits_cls = self.classifier(cls_out)  # [B, M]\n",
    "\n",
    "        if mlm_labels is not None:\n",
    "            tok_out = h[:, 1:, :]  # [B, D, D]\n",
    "            logits_mlm = self.condenser(tok_out)  # [B, D, 4]\n",
    "            logits_mlm = logits_mlm.transpose(1, 2)  # [B, 4, D]\n",
    "            logits_mlm = self.mlm_head(logits_mlm)  # [B, 4, L]\n",
    "            return logits_cls, logits_mlm\n",
    "        else:\n",
    "            return logits_cls\n",
    "\n",
    "\n",
    "def mask_tokens(x, mask_id, vocab_size, mlm_probability=0.15):\n",
    "    \"\"\"\n",
    "    Prepare masked input and MLM labels for MLM pretraining.\n",
    "    x: [B, L] input tensor (long)\n",
    "    Returns:\n",
    "      masked_x: [B, L]\n",
    "      mlm_labels: [B, L] (original ids, or -100 for unmasked positions)\n",
    "    \"\"\"\n",
    "    labels = x.clone()\n",
    "    probability_matrix = torch.full(labels.shape, mlm_probability, device=x.device)\n",
    "    mask = torch.bernoulli(probability_matrix).bool()\n",
    "\n",
    "    mlm_labels = labels.clone()\n",
    "    mlm_labels[~mask] = -100  # only compute loss on masked tokens\n",
    "\n",
    "    # 80 %: [MASK]\n",
    "    indices_replaced = torch.bernoulli(torch.full(labels.shape, 0.8, device=x.device)).bool() & mask\n",
    "    x[indices_replaced] = mask_id\n",
    "\n",
    "    # 10 %: random token\n",
    "    indices_random = torch.bernoulli(torch.full(labels.shape, 0.5, device=x.device)).bool() & mask & ~indices_replaced\n",
    "    random_tokens = torch.rand(labels.shape, dtype=torch.float, device=x.device)\n",
    "    x[indices_random] = random_tokens[indices_random]\n",
    "\n",
    "    # 10 %: unchanged (mask stays same)\n",
    "    return x, mlm_labels\n",
    "\n",
    "\n",
    "import torch\n",
    "from torch import optim\n",
    "from tqdm import tqdm\n",
    "\n",
    "def pretrain_mlm(model, dataloader, formatter, num_epochs=5, lr=1e-4, device=\"cuda\"):\n",
    "    \"\"\"\n",
    "    Pretrain the encoder-only model with Masked Language Modeling (MLM).\n",
    "\n",
    "    Args:\n",
    "        model: T2Tokens instance\n",
    "        dataloader: yields batches of [B, L] token ids (0..255)\n",
    "        num_epochs: number of training epochs\n",
    "        lr: learning rate\n",
    "        device: \"cuda\" or \"cpu\"\n",
    "    \"\"\"\n",
    "    model = model.to(device)\n",
    "    optimizer = optim.AdamW(model.parameters(), lr=lr)\n",
    "    last_loss = float(\"inf\")\n",
    "\n",
    "    for epoch in range(num_epochs):\n",
    "        model.train()\n",
    "        total_loss, num_batches = 0.0, 0\n",
    "\n",
    "        for x_batch, _ in tqdm(dataloader):\n",
    "            x_batch = x_batch.long().to(device)\n",
    "            x_batch = formatter(x_batch)\n",
    "\n",
    "            # Mask tokens\n",
    "            # masked_x, mlm_labels = mask_tokens(\n",
    "            #     x_batch.clone(), model.mask_id, vocab_size=model.vocab_size\n",
    "            # )\n",
    "\n",
    "            # Forward pass\n",
    "            # _, logits_mlm = model(masked_x, mlm_labels=mlm_labels)\n",
    "            _, logits_mlm = model(x_batch, mlm_labels=True)\n",
    "\n",
    "            # MLM loss only\n",
    "            loss = torch.nn.functional.cross_entropy(\n",
    "                logits_mlm, x_batch\n",
    "            )\n",
    "\n",
    "            # Backward\n",
    "            optimizer.zero_grad()\n",
    "            loss.backward()\n",
    "            optimizer.step()\n",
    "\n",
    "            total_loss += loss.item()\n",
    "            num_batches += 1\n",
    "            if num_batches > 3_000:\n",
    "                break\n",
    "\n",
    "        avg_loss = total_loss / num_batches\n",
    "        print(f\"Epoch {epoch+1}: MLM loss = {avg_loss:.4f}\")\n",
    "        if avg_loss > last_loss:\n",
    "            print(\"Overfitting; stopping early\")\n",
    "        else:\n",
    "            last_loss = avg_loss\n"
   ]
  },
  {
   "cell_type": "code",
   "execution_count": 38,
   "id": "eb7eee87",
   "metadata": {},
   "outputs": [
    {
     "name": "stdout",
     "output_type": "stream",
     "text": [
      "Pretraining.\n"
     ]
    },
    {
     "name": "stderr",
     "output_type": "stream",
     "text": [
      " 17%|█▋        | 3000/17204 [02:48<13:19, 17.77it/s]\n"
     ]
    },
    {
     "name": "stdout",
     "output_type": "stream",
     "text": [
      "Epoch 1: MLM loss = 1.3439\n"
     ]
    },
    {
     "name": "stderr",
     "output_type": "stream",
     "text": [
      " 17%|█▋        | 3000/17204 [02:50<13:28, 17.57it/s]\n"
     ]
    },
    {
     "name": "stdout",
     "output_type": "stream",
     "text": [
      "Epoch 2: MLM loss = 1.2582\n"
     ]
    },
    {
     "name": "stderr",
     "output_type": "stream",
     "text": [
      " 17%|█▋        | 3000/17204 [02:51<13:33, 17.47it/s]\n"
     ]
    },
    {
     "name": "stdout",
     "output_type": "stream",
     "text": [
      "Epoch 3: MLM loss = 1.1866\n"
     ]
    },
    {
     "name": "stderr",
     "output_type": "stream",
     "text": [
      " 17%|█▋        | 3000/17204 [02:51<13:31, 17.51it/s]\n"
     ]
    },
    {
     "name": "stdout",
     "output_type": "stream",
     "text": [
      "Epoch 4: MLM loss = 1.1760\n"
     ]
    },
    {
     "name": "stderr",
     "output_type": "stream",
     "text": [
      " 17%|█▋        | 3000/17204 [02:51<13:33, 17.45it/s]\n"
     ]
    },
    {
     "name": "stdout",
     "output_type": "stream",
     "text": [
      "Epoch 5: MLM loss = 1.1562\n",
      "Fine-tuning:\n",
      "Number of parameters: 1_063_716\n"
     ]
    },
    {
     "name": "stderr",
     "output_type": "stream",
     "text": [
      "100%|██████████| 17204/17204 [15:53<00:00, 18.03it/s]\n"
     ]
    },
    {
     "name": "stdout",
     "output_type": "stream",
     "text": [
      "1/5 T loss: 29.41804. V loss: 28.95389. F1: [0.15499]. P: [0.11298] Patience: 3\n"
     ]
    },
    {
     "name": "stderr",
     "output_type": "stream",
     "text": [
      "  0%|          | 82/17204 [00:04<15:50, 18.01it/s]\n"
     ]
    },
    {
     "ename": "KeyboardInterrupt",
     "evalue": "",
     "output_type": "error",
     "traceback": [
      "\u001b[1;31m---------------------------------------------------------------------------\u001b[0m",
      "\u001b[1;31mKeyboardInterrupt\u001b[0m                         Traceback (most recent call last)",
      "Cell \u001b[1;32mIn[38], line 13\u001b[0m\n\u001b[0;32m     10\u001b[0m pretrain_mlm(classifier\u001b[38;5;241m.\u001b[39mmodel, train_data, \u001b[38;5;28mformat\u001b[39m\u001b[38;5;241m.\u001b[39mto_channels)\n\u001b[0;32m     12\u001b[0m \u001b[38;5;28mprint\u001b[39m(\u001b[38;5;124m\"\u001b[39m\u001b[38;5;124mFine-tuning:\u001b[39m\u001b[38;5;124m\"\u001b[39m)\n\u001b[1;32m---> 13\u001b[0m model \u001b[38;5;241m=\u001b[39m \u001b[43mbenchmark\u001b[49m\u001b[43m(\u001b[49m\n\u001b[0;32m     14\u001b[0m \u001b[43m    \u001b[49m\u001b[43mclassifier\u001b[49m\u001b[43m,\u001b[49m\n\u001b[0;32m     15\u001b[0m \u001b[43m    \u001b[49m\u001b[38;5;124;43m\"\u001b[39;49m\u001b[38;5;124;43mTransformer\u001b[39;49m\u001b[38;5;124;43m\"\u001b[39;49m\u001b[43m,\u001b[49m\n\u001b[0;32m     16\u001b[0m \u001b[43m    \u001b[49m\u001b[43mmax_epochs\u001b[49m\u001b[38;5;241;43m=\u001b[39;49m\u001b[38;5;241;43m5\u001b[39;49m\n\u001b[0;32m     17\u001b[0m \u001b[43m)\u001b[49m\n\u001b[0;32m     18\u001b[0m matrix \u001b[38;5;241m=\u001b[39m models\u001b[38;5;241m.\u001b[39mconfusion_matrix(model, test_data, \u001b[38;5;124m\"\u001b[39m\u001b[38;5;124mcuda\u001b[39m\u001b[38;5;124m\"\u001b[39m, mapping)\n\u001b[0;32m     19\u001b[0m plt\u001b[38;5;241m.\u001b[39mmatshow(matrix)\n",
      "Cell \u001b[1;32mIn[2], line 73\u001b[0m, in \u001b[0;36mbenchmark\u001b[1;34m(classifier, name, max_epochs)\u001b[0m\n\u001b[0;32m     71\u001b[0m     optimizer \u001b[38;5;241m=\u001b[39m \u001b[38;5;28;01mNone\u001b[39;00m\n\u001b[0;32m     72\u001b[0m a \u001b[38;5;241m=\u001b[39m time()\n\u001b[1;32m---> 73\u001b[0m losses, f1, validation_losses \u001b[38;5;241m=\u001b[39m \u001b[43mclassifier\u001b[49m\u001b[38;5;241;43m.\u001b[39;49m\u001b[43mtrain\u001b[49m\u001b[43m(\u001b[49m\n\u001b[0;32m     74\u001b[0m \u001b[43m    \u001b[49m\u001b[43mtrain_data\u001b[49m\u001b[43m,\u001b[49m\n\u001b[0;32m     75\u001b[0m \u001b[43m    \u001b[49m\u001b[43mvalidation_data\u001b[49m\u001b[43m,\u001b[49m\n\u001b[0;32m     76\u001b[0m \u001b[43m    \u001b[49m\u001b[43moptimizer\u001b[49m\u001b[43m,\u001b[49m\n\u001b[0;32m     77\u001b[0m \u001b[43m    \u001b[49m\u001b[43mmax_n_epochs\u001b[49m\u001b[38;5;241;43m=\u001b[39;49m\u001b[43mmax_epochs\u001b[49m\u001b[43m,\u001b[49m\n\u001b[0;32m     78\u001b[0m \u001b[43m    \u001b[49m\u001b[43mpatience\u001b[49m\u001b[38;5;241;43m=\u001b[39;49m\u001b[38;5;241;43m3\u001b[39;49m\u001b[43m,\u001b[49m\n\u001b[0;32m     79\u001b[0m \u001b[43m    \u001b[49m\u001b[43mloss_function\u001b[49m\u001b[38;5;241;43m=\u001b[39;49m\u001b[43mnn\u001b[49m\u001b[38;5;241;43m.\u001b[39;49m\u001b[43mCrossEntropyLoss\u001b[49m\u001b[43m(\u001b[49m\u001b[43m)\u001b[49m\u001b[43m,\u001b[49m\n\u001b[0;32m     80\u001b[0m \u001b[43m    \u001b[49m\u001b[43mloss_function_type\u001b[49m\u001b[38;5;241;43m=\u001b[39;49m\u001b[38;5;124;43m\"\u001b[39;49m\u001b[38;5;124;43msupervised\u001b[39;49m\u001b[38;5;124;43m\"\u001b[39;49m\n\u001b[0;32m     81\u001b[0m \u001b[43m\u001b[49m\u001b[43m)\u001b[49m\n\u001b[0;32m     82\u001b[0m b \u001b[38;5;241m=\u001b[39m time()\n\u001b[0;32m     83\u001b[0m \u001b[38;5;28mprint\u001b[39m(\u001b[38;5;124mf\u001b[39m\u001b[38;5;124m\"\u001b[39m\u001b[38;5;124mTraining took \u001b[39m\u001b[38;5;132;01m{\u001b[39;00m(b\u001b[38;5;250m \u001b[39m\u001b[38;5;241m-\u001b[39m\u001b[38;5;250m \u001b[39ma)\u001b[38;5;132;01m:\u001b[39;00m\u001b[38;5;124m.3f\u001b[39m\u001b[38;5;132;01m}\u001b[39;00m\u001b[38;5;124m s.\u001b[39m\u001b[38;5;124m\"\u001b[39m)\n",
      "File \u001b[1;32mD:\\maitrise\\stelaro\\stelaro\\models\\__init__.py:579\u001b[0m, in \u001b[0;36mClassifier.train\u001b[1;34m(self, train_loader, validate_loader, optimizer, max_n_epochs, patience, loss_function, loss_function_type)\u001b[0m\n\u001b[0;32m    575\u001b[0m loss \u001b[38;5;241m=\u001b[39m \u001b[38;5;28mself\u001b[39m\u001b[38;5;241m.\u001b[39m_compute_loss(\n\u001b[0;32m    576\u001b[0m     x_batch, y_batch, loss_function_type, loss_function\n\u001b[0;32m    577\u001b[0m )\n\u001b[0;32m    578\u001b[0m optimizer\u001b[38;5;241m.\u001b[39mzero_grad()\n\u001b[1;32m--> 579\u001b[0m \u001b[43mloss\u001b[49m\u001b[38;5;241;43m.\u001b[39;49m\u001b[43mbackward\u001b[49m\u001b[43m(\u001b[49m\u001b[43m)\u001b[49m\n\u001b[0;32m    580\u001b[0m optimizer\u001b[38;5;241m.\u001b[39mstep()\n\u001b[0;32m    581\u001b[0m losses[\u001b[38;5;241m-\u001b[39m\u001b[38;5;241m1\u001b[39m] \u001b[38;5;241m+\u001b[39m\u001b[38;5;241m=\u001b[39m loss\u001b[38;5;241m.\u001b[39mitem()\n",
      "File \u001b[1;32md:\\maitrise\\stelaro\\venv\\Lib\\site-packages\\torch\\_tensor.py:648\u001b[0m, in \u001b[0;36mTensor.backward\u001b[1;34m(self, gradient, retain_graph, create_graph, inputs)\u001b[0m\n\u001b[0;32m    638\u001b[0m \u001b[38;5;28;01mif\u001b[39;00m has_torch_function_unary(\u001b[38;5;28mself\u001b[39m):\n\u001b[0;32m    639\u001b[0m     \u001b[38;5;28;01mreturn\u001b[39;00m handle_torch_function(\n\u001b[0;32m    640\u001b[0m         Tensor\u001b[38;5;241m.\u001b[39mbackward,\n\u001b[0;32m    641\u001b[0m         (\u001b[38;5;28mself\u001b[39m,),\n\u001b[1;32m   (...)\u001b[0m\n\u001b[0;32m    646\u001b[0m         inputs\u001b[38;5;241m=\u001b[39minputs,\n\u001b[0;32m    647\u001b[0m     )\n\u001b[1;32m--> 648\u001b[0m \u001b[43mtorch\u001b[49m\u001b[38;5;241;43m.\u001b[39;49m\u001b[43mautograd\u001b[49m\u001b[38;5;241;43m.\u001b[39;49m\u001b[43mbackward\u001b[49m\u001b[43m(\u001b[49m\n\u001b[0;32m    649\u001b[0m \u001b[43m    \u001b[49m\u001b[38;5;28;43mself\u001b[39;49m\u001b[43m,\u001b[49m\u001b[43m \u001b[49m\u001b[43mgradient\u001b[49m\u001b[43m,\u001b[49m\u001b[43m \u001b[49m\u001b[43mretain_graph\u001b[49m\u001b[43m,\u001b[49m\u001b[43m \u001b[49m\u001b[43mcreate_graph\u001b[49m\u001b[43m,\u001b[49m\u001b[43m \u001b[49m\u001b[43minputs\u001b[49m\u001b[38;5;241;43m=\u001b[39;49m\u001b[43minputs\u001b[49m\n\u001b[0;32m    650\u001b[0m \u001b[43m\u001b[49m\u001b[43m)\u001b[49m\n",
      "File \u001b[1;32md:\\maitrise\\stelaro\\venv\\Lib\\site-packages\\torch\\autograd\\__init__.py:353\u001b[0m, in \u001b[0;36mbackward\u001b[1;34m(tensors, grad_tensors, retain_graph, create_graph, grad_variables, inputs)\u001b[0m\n\u001b[0;32m    348\u001b[0m     retain_graph \u001b[38;5;241m=\u001b[39m create_graph\n\u001b[0;32m    350\u001b[0m \u001b[38;5;66;03m# The reason we repeat the same comment below is that\u001b[39;00m\n\u001b[0;32m    351\u001b[0m \u001b[38;5;66;03m# some Python versions print out the first line of a multi-line function\u001b[39;00m\n\u001b[0;32m    352\u001b[0m \u001b[38;5;66;03m# calls in the traceback and some print out the last line\u001b[39;00m\n\u001b[1;32m--> 353\u001b[0m \u001b[43m_engine_run_backward\u001b[49m\u001b[43m(\u001b[49m\n\u001b[0;32m    354\u001b[0m \u001b[43m    \u001b[49m\u001b[43mtensors\u001b[49m\u001b[43m,\u001b[49m\n\u001b[0;32m    355\u001b[0m \u001b[43m    \u001b[49m\u001b[43mgrad_tensors_\u001b[49m\u001b[43m,\u001b[49m\n\u001b[0;32m    356\u001b[0m \u001b[43m    \u001b[49m\u001b[43mretain_graph\u001b[49m\u001b[43m,\u001b[49m\n\u001b[0;32m    357\u001b[0m \u001b[43m    \u001b[49m\u001b[43mcreate_graph\u001b[49m\u001b[43m,\u001b[49m\n\u001b[0;32m    358\u001b[0m \u001b[43m    \u001b[49m\u001b[43minputs\u001b[49m\u001b[43m,\u001b[49m\n\u001b[0;32m    359\u001b[0m \u001b[43m    \u001b[49m\u001b[43mallow_unreachable\u001b[49m\u001b[38;5;241;43m=\u001b[39;49m\u001b[38;5;28;43;01mTrue\u001b[39;49;00m\u001b[43m,\u001b[49m\n\u001b[0;32m    360\u001b[0m \u001b[43m    \u001b[49m\u001b[43maccumulate_grad\u001b[49m\u001b[38;5;241;43m=\u001b[39;49m\u001b[38;5;28;43;01mTrue\u001b[39;49;00m\u001b[43m,\u001b[49m\n\u001b[0;32m    361\u001b[0m \u001b[43m\u001b[49m\u001b[43m)\u001b[49m\n",
      "File \u001b[1;32md:\\maitrise\\stelaro\\venv\\Lib\\site-packages\\torch\\autograd\\graph.py:824\u001b[0m, in \u001b[0;36m_engine_run_backward\u001b[1;34m(t_outputs, *args, **kwargs)\u001b[0m\n\u001b[0;32m    822\u001b[0m     unregister_hooks \u001b[38;5;241m=\u001b[39m _register_logging_hooks_on_whole_graph(t_outputs)\n\u001b[0;32m    823\u001b[0m \u001b[38;5;28;01mtry\u001b[39;00m:\n\u001b[1;32m--> 824\u001b[0m     \u001b[38;5;28;01mreturn\u001b[39;00m \u001b[43mVariable\u001b[49m\u001b[38;5;241;43m.\u001b[39;49m\u001b[43m_execution_engine\u001b[49m\u001b[38;5;241;43m.\u001b[39;49m\u001b[43mrun_backward\u001b[49m\u001b[43m(\u001b[49m\u001b[43m  \u001b[49m\u001b[38;5;66;43;03m# Calls into the C++ engine to run the backward pass\u001b[39;49;00m\n\u001b[0;32m    825\u001b[0m \u001b[43m        \u001b[49m\u001b[43mt_outputs\u001b[49m\u001b[43m,\u001b[49m\u001b[43m \u001b[49m\u001b[38;5;241;43m*\u001b[39;49m\u001b[43margs\u001b[49m\u001b[43m,\u001b[49m\u001b[43m \u001b[49m\u001b[38;5;241;43m*\u001b[39;49m\u001b[38;5;241;43m*\u001b[39;49m\u001b[43mkwargs\u001b[49m\n\u001b[0;32m    826\u001b[0m \u001b[43m    \u001b[49m\u001b[43m)\u001b[49m  \u001b[38;5;66;03m# Calls into the C++ engine to run the backward pass\u001b[39;00m\n\u001b[0;32m    827\u001b[0m \u001b[38;5;28;01mfinally\u001b[39;00m:\n\u001b[0;32m    828\u001b[0m     \u001b[38;5;28;01mif\u001b[39;00m attach_logging_hooks:\n",
      "\u001b[1;31mKeyboardInterrupt\u001b[0m: "
     ]
    }
   ],
   "source": [
    "from torch.optim import Adam\n",
    "from stelaro.models import Classifier\n",
    "\n",
    "import os\n",
    "os.environ[\"CUDA_LAUNCH_BLOCKING\"] = \"1\"\n",
    "\n",
    "classifier = Classifier(LENGTH, mapping, \"cuda\", CNN_BERT, format.to_channels)\n",
    "\n",
    "print(\"Pretraining.\")\n",
    "pretrain_mlm(classifier.model, train_data, format.to_channels)\n",
    "\n",
    "print(\"Fine-tuning:\")\n",
    "model = benchmark(\n",
    "    classifier,\n",
    "    \"Transformer\",\n",
    "    max_epochs=5\n",
    ")\n",
    "matrix = models.confusion_matrix(model, test_data, \"cuda\", mapping)\n",
    "plt.matshow(matrix)\n",
    "plt.show()\n",
    "np.set_printoptions(precision=3, suppress=True, linewidth=500, threshold=np.inf)\n",
    "print(matrix)"
   ]
  },
  {
   "cell_type": "markdown",
   "id": "ba09b34e",
   "metadata": {},
   "source": [
    "### 3.4. Autoencoder + Attention"
   ]
  },
  {
   "cell_type": "code",
   "execution_count": 16,
   "id": "0b47d5c7",
   "metadata": {},
   "outputs": [],
   "source": [
    "import torch\n",
    "from torch import arange\n",
    "from torch import optim\n",
    "from tqdm import tqdm\n",
    "from torch.nn import (Module, Conv1d, ReLU, Sequential, Flatten, Linear,\n",
    "                      CrossEntropyLoss, MSELoss, MaxPool1d, ConvTranspose1d,\n",
    "                      Sigmoid, LeakyReLU)\n",
    "from torch.nn import (Module, Linear, Embedding, TransformerEncoderLayer,\n",
    "                      TransformerEncoder)\n",
    "import torch.nn as nn\n",
    "\n",
    "\n",
    "def add_masking_noise(x, dropout_prob=0.1):\n",
    "    mask = torch.bernoulli((1 - dropout_prob) * torch.ones_like(x))\n",
    "    return x * mask\n",
    "\n",
    "\n",
    "class Unsqueeze(Module):\n",
    "    def __init__(self, dim):\n",
    "        super().__init__()\n",
    "        self.dim = dim\n",
    "\n",
    "    def forward(self, x):\n",
    "        return x.unsqueeze(self.dim)\n",
    "\n",
    "\n",
    "class T_2_tokens(Module):\n",
    "    def __init__(self, N, M):\n",
    "        super(T_2_tokens, self).__init__()\n",
    "        embed_dim = 256\n",
    "        self.token_embedding = Embedding(256, embed_dim)\n",
    "        self.position_embedding = Embedding(N, embed_dim)\n",
    "        encoder_layer = TransformerEncoderLayer(\n",
    "            d_model=embed_dim,\n",
    "            nhead=4,\n",
    "            dim_feedforward=embed_dim * 4,\n",
    "            dropout=0.1,\n",
    "            activation='relu',\n",
    "            batch_first=True  # makes input/output shape [B, L, D]\n",
    "        )\n",
    "        self.transformer_encoder = TransformerEncoder(encoder_layer, num_layers=4)\n",
    "        self.classifier = Linear(embed_dim, M)\n",
    "\n",
    "    def forward(self, x):\n",
    "        batch_size, seq_len = x.size()\n",
    "        positions = arange(seq_len, device=x.device).unsqueeze(0).expand(batch_size, seq_len)\n",
    "        x = self.token_embedding(x) + self.position_embedding(positions)  # [B, L, D]\n",
    "        x = self.transformer_encoder(x)  # [B, L, D]\n",
    "        x = x.mean(dim=1)  # [B, D] - average pooling\n",
    "        logits = self.classifier(x)  # [B, num_classes]\n",
    "        return logits\n",
    "\n",
    "\n",
    "\n",
    "class DAE_1(Module):\n",
    "    \"\"\"Denoising autoencoder 1.\"\"\"\n",
    "    def __init__(self, N, M):\n",
    "        super(DAE_1, self).__init__()\n",
    "        LATENT_SPACE_SIZE = 128\n",
    "        self.encoder = Sequential(\n",
    "            Conv1d(4, 32, kernel_size=5, padding=2),\n",
    "            LeakyReLU(),\n",
    "            MaxPool1d(kernel_size=2),\n",
    "            Conv1d(32, 64, kernel_size=3, padding=1),\n",
    "            LeakyReLU(),\n",
    "            Flatten(),\n",
    "            Linear(N * 64 // 2, N // 2),\n",
    "            LeakyReLU(),\n",
    "            Linear(N // 2, LATENT_SPACE_SIZE),\n",
    "            LeakyReLU(),\n",
    "        )\n",
    "        self.decoder = Sequential(\n",
    "            Linear(LATENT_SPACE_SIZE, N // 2),\n",
    "            LeakyReLU(),\n",
    "            Linear(N // 2, N),\n",
    "            LeakyReLU(),\n",
    "            Unsqueeze(1),\n",
    "            ConvTranspose1d(1, 4, kernel_size=3, stride=1, padding=1),\n",
    "            LeakyReLU(),\n",
    "            Sigmoid(),\n",
    "        )\n",
    "        self.decoder = Sequential(\n",
    "            Linear(LATENT_SPACE_SIZE, M),\n",
    "        )\n",
    "\n",
    "        embed_dim = 256\n",
    "        self.token_embedding = Embedding(256, embed_dim)\n",
    "        self.position_embedding = Embedding(N, embed_dim)\n",
    "        encoder_layer = TransformerEncoderLayer(\n",
    "            d_model=embed_dim,\n",
    "            nhead=4,\n",
    "            dim_feedforward=embed_dim * 4,\n",
    "            dropout=0.1,\n",
    "            activation='relu',\n",
    "            batch_first=True  # makes input/output shape [B, L, D]\n",
    "        )\n",
    "        self.transformer_encoder = TransformerEncoder(encoder_layer, num_layers=4)\n",
    "        self.classifier = Linear(embed_dim, M)\n",
    "\n",
    "        self.alpha = nn.Parameter(torch.tensor(0.5))\n",
    "\n",
    "    def forward(self, x, pretraining: bool = False):\n",
    "        # CNN\n",
    "        latent = self.encoder(format.to_channels(x))\n",
    "        classification = self.decoder(latent)\n",
    "        return classification\n",
    "\n",
    "        # Transformer\n",
    "        batch_size, seq_len = x.size()\n",
    "        positions = arange(seq_len, device=x.device).unsqueeze(0).expand(batch_size, seq_len)\n",
    "        x = self.token_embedding(x) + self.position_embedding(positions)  # [B, L, D]\n",
    "        x = self.transformer_encoder(x)  # [B, L, D]\n",
    "        x = x.mean(dim=1)  # [B, D] - average pooling\n",
    "        classification_tm = self.classifier(x)  # [B, num_classes]\n",
    "\n",
    "        classification = self.alpha * classification_cnn + (1 - self.alpha) * classification_tm\n",
    "\n",
    "\n",
    "def pretrain_mlm(model, dataloader, formatter, num_epochs=5, lr=1e-4, device=\"cuda\"):\n",
    "    \"\"\"\n",
    "    Pretrain the encoder-only model with Masked Language Modeling (MLM).\n",
    "\n",
    "    Args:\n",
    "        model: T2Tokens instance\n",
    "        dataloader: yields batches of [B, L] token ids (0..255)\n",
    "        num_epochs: number of training epochs\n",
    "        lr: learning rate\n",
    "        device: \"cuda\" or \"cpu\"\n",
    "    \"\"\"\n",
    "    model = model.to(device)\n",
    "    optimizer = optim.AdamW(model.parameters(), lr=lr)\n",
    "    last_loss = float(\"inf\")\n",
    "\n",
    "    for epoch in range(num_epochs):\n",
    "        model.train()\n",
    "        total_loss, num_batches = 0.0, 0\n",
    "\n",
    "        for x_batch, _ in tqdm(dataloader):\n",
    "            x_batch = x_batch.long().to(device)\n",
    "            x_batch = formatter(x_batch)\n",
    "            _, reconstruction = model(x_batch, True)\n",
    "            loss = torch.nn.functional.cross_entropy(\n",
    "                reconstruction, x_batch\n",
    "            )\n",
    "            optimizer.zero_grad()\n",
    "            loss.backward()\n",
    "            optimizer.step()\n",
    "            total_loss += loss.item()\n",
    "            num_batches += 1\n",
    "            if num_batches > 500:\n",
    "                break\n",
    "\n",
    "        avg_loss = total_loss / num_batches\n",
    "        print(f\"Epoch {epoch+1}: MLM loss = {avg_loss:.4f}\")\n",
    "        if avg_loss > last_loss:\n",
    "            print(\"Overfitting; stopping early\")\n",
    "        else:\n",
    "            last_loss = avg_loss"
   ]
  },
  {
   "cell_type": "code",
   "execution_count": 17,
   "id": "a564973a",
   "metadata": {},
   "outputs": [
    {
     "name": "stdout",
     "output_type": "stream",
     "text": [
      "Fine-tuning:\n",
      "Number of parameters: 39_713_879\n"
     ]
    },
    {
     "name": "stderr",
     "output_type": "stream",
     "text": [
      "  1%|          | 206/17204 [00:07<58:49,  4.82it/s]"
     ]
    },
    {
     "name": "stdout",
     "output_type": "stream",
     "text": [
      "P: [0.24264]\n"
     ]
    },
    {
     "name": "stderr",
     "output_type": "stream",
     "text": [
      "  2%|▏         | 409/17204 [00:15<42:46,  6.54it/s]"
     ]
    },
    {
     "name": "stdout",
     "output_type": "stream",
     "text": [
      "P: [0.30032]\n"
     ]
    },
    {
     "name": "stderr",
     "output_type": "stream",
     "text": [
      "  4%|▎         | 611/17204 [00:23<48:14,  5.73it/s]  "
     ]
    },
    {
     "name": "stdout",
     "output_type": "stream",
     "text": [
      "P: [0.53006]\n"
     ]
    },
    {
     "name": "stderr",
     "output_type": "stream",
     "text": [
      "  5%|▍         | 809/17204 [00:32<47:04,  5.80it/s]  "
     ]
    },
    {
     "name": "stdout",
     "output_type": "stream",
     "text": [
      "P: [0.59883]\n"
     ]
    },
    {
     "name": "stderr",
     "output_type": "stream",
     "text": [
      "  6%|▌         | 1010/17204 [00:39<43:40,  6.18it/s]  "
     ]
    },
    {
     "name": "stdout",
     "output_type": "stream",
     "text": [
      "P: [0.61826]\n"
     ]
    },
    {
     "name": "stderr",
     "output_type": "stream",
     "text": [
      "  7%|▋         | 1208/17204 [00:48<45:05,  5.91it/s]  "
     ]
    },
    {
     "name": "stdout",
     "output_type": "stream",
     "text": [
      "P: [0.65572]\n"
     ]
    },
    {
     "name": "stderr",
     "output_type": "stream",
     "text": [
      "  8%|▊         | 1411/17204 [00:55<42:46,  6.15it/s]"
     ]
    },
    {
     "name": "stdout",
     "output_type": "stream",
     "text": [
      "P: [0.65565]\n"
     ]
    },
    {
     "name": "stderr",
     "output_type": "stream",
     "text": [
      "  9%|▉         | 1607/17204 [01:03<56:44,  4.58it/s]"
     ]
    },
    {
     "name": "stdout",
     "output_type": "stream",
     "text": [
      "P: [0.70749]\n"
     ]
    },
    {
     "name": "stderr",
     "output_type": "stream",
     "text": [
      " 11%|█         | 1812/17204 [01:11<41:14,  6.22it/s]"
     ]
    },
    {
     "name": "stdout",
     "output_type": "stream",
     "text": [
      "P: [0.67326]\n"
     ]
    },
    {
     "name": "stderr",
     "output_type": "stream",
     "text": [
      " 12%|█▏        | 2008/17204 [01:19<39:38,  6.39it/s]"
     ]
    },
    {
     "name": "stdout",
     "output_type": "stream",
     "text": [
      "P: [0.70032]\n"
     ]
    },
    {
     "name": "stderr",
     "output_type": "stream",
     "text": [
      " 13%|█▎        | 2211/17204 [01:26<39:48,  6.28it/s]"
     ]
    },
    {
     "name": "stdout",
     "output_type": "stream",
     "text": [
      "P: [0.69325]\n"
     ]
    },
    {
     "name": "stderr",
     "output_type": "stream",
     "text": [
      " 14%|█▍        | 2407/17204 [01:34<56:38,  4.35it/s]"
     ]
    },
    {
     "name": "stdout",
     "output_type": "stream",
     "text": [
      "P: [0.6955]\n"
     ]
    },
    {
     "name": "stderr",
     "output_type": "stream",
     "text": [
      " 15%|█▌        | 2613/17204 [01:42<39:32,  6.15it/s]"
     ]
    },
    {
     "name": "stdout",
     "output_type": "stream",
     "text": [
      "P: [0.70087]\n"
     ]
    },
    {
     "name": "stderr",
     "output_type": "stream",
     "text": [
      " 16%|█▋        | 2808/17204 [01:50<38:04,  6.30it/s]"
     ]
    },
    {
     "name": "stdout",
     "output_type": "stream",
     "text": [
      "P: [0.70592]\n"
     ]
    },
    {
     "name": "stderr",
     "output_type": "stream",
     "text": [
      " 17%|█▋        | 3008/17204 [01:58<39:07,  6.05it/s]"
     ]
    },
    {
     "name": "stdout",
     "output_type": "stream",
     "text": [
      "P: [0.75518]\n"
     ]
    },
    {
     "name": "stderr",
     "output_type": "stream",
     "text": [
      " 19%|█▊        | 3207/17204 [02:06<52:06,  4.48it/s]"
     ]
    },
    {
     "name": "stdout",
     "output_type": "stream",
     "text": [
      "P: [0.71919]\n"
     ]
    },
    {
     "name": "stderr",
     "output_type": "stream",
     "text": [
      " 20%|█▉        | 3412/17204 [02:14<39:31,  5.81it/s]"
     ]
    },
    {
     "name": "stdout",
     "output_type": "stream",
     "text": [
      "P: [0.72648]\n"
     ]
    },
    {
     "name": "stderr",
     "output_type": "stream",
     "text": [
      " 21%|██        | 3608/17204 [02:22<37:52,  5.98it/s]"
     ]
    },
    {
     "name": "stdout",
     "output_type": "stream",
     "text": [
      "P: [0.77084]\n"
     ]
    },
    {
     "name": "stderr",
     "output_type": "stream",
     "text": [
      " 22%|██▏       | 3806/17204 [02:30<51:46,  4.31it/s]"
     ]
    },
    {
     "name": "stdout",
     "output_type": "stream",
     "text": [
      "P: [0.77433]\n"
     ]
    },
    {
     "name": "stderr",
     "output_type": "stream",
     "text": [
      " 23%|██▎       | 4009/17204 [02:39<38:12,  5.75it/s]"
     ]
    },
    {
     "name": "stdout",
     "output_type": "stream",
     "text": [
      "P: [0.75253]\n"
     ]
    },
    {
     "name": "stderr",
     "output_type": "stream",
     "text": [
      " 24%|██▍       | 4211/17204 [02:47<35:58,  6.02it/s]"
     ]
    },
    {
     "name": "stdout",
     "output_type": "stream",
     "text": [
      "P: [0.747]\n"
     ]
    },
    {
     "name": "stderr",
     "output_type": "stream",
     "text": [
      " 26%|██▌       | 4409/17204 [02:54<34:12,  6.23it/s]"
     ]
    },
    {
     "name": "stdout",
     "output_type": "stream",
     "text": [
      "P: [0.7654]\n"
     ]
    },
    {
     "name": "stderr",
     "output_type": "stream",
     "text": [
      " 27%|██▋       | 4609/17204 [03:02<33:02,  6.35it/s]"
     ]
    },
    {
     "name": "stdout",
     "output_type": "stream",
     "text": [
      "P: [0.78369]\n"
     ]
    },
    {
     "name": "stderr",
     "output_type": "stream",
     "text": [
      " 28%|██▊       | 4808/17204 [03:10<33:31,  6.16it/s]"
     ]
    },
    {
     "name": "stdout",
     "output_type": "stream",
     "text": [
      "P: [0.7028]\n"
     ]
    },
    {
     "name": "stderr",
     "output_type": "stream",
     "text": [
      " 29%|██▉       | 5012/17204 [03:18<31:46,  6.39it/s]"
     ]
    },
    {
     "name": "stdout",
     "output_type": "stream",
     "text": [
      "P: [0.76379]\n"
     ]
    },
    {
     "name": "stderr",
     "output_type": "stream",
     "text": [
      " 30%|███       | 5209/17204 [03:26<31:55,  6.26it/s]"
     ]
    },
    {
     "name": "stdout",
     "output_type": "stream",
     "text": [
      "P: [0.77566]\n"
     ]
    },
    {
     "name": "stderr",
     "output_type": "stream",
     "text": [
      " 31%|███▏      | 5409/17204 [03:33<30:17,  6.49it/s]"
     ]
    },
    {
     "name": "stdout",
     "output_type": "stream",
     "text": [
      "P: [0.76454]\n"
     ]
    },
    {
     "name": "stderr",
     "output_type": "stream",
     "text": [
      " 33%|███▎      | 5609/17204 [03:41<29:56,  6.45it/s]"
     ]
    },
    {
     "name": "stdout",
     "output_type": "stream",
     "text": [
      "P: [0.79452]\n"
     ]
    },
    {
     "name": "stderr",
     "output_type": "stream",
     "text": [
      " 34%|███▍      | 5812/17204 [03:49<30:41,  6.19it/s]"
     ]
    },
    {
     "name": "stdout",
     "output_type": "stream",
     "text": [
      "P: [0.79332]\n"
     ]
    },
    {
     "name": "stderr",
     "output_type": "stream",
     "text": [
      " 35%|███▍      | 6010/17204 [03:57<29:23,  6.35it/s]"
     ]
    },
    {
     "name": "stdout",
     "output_type": "stream",
     "text": [
      "P: [0.78325]\n"
     ]
    },
    {
     "name": "stderr",
     "output_type": "stream",
     "text": [
      " 36%|███▌      | 6207/17204 [04:05<40:13,  4.56it/s]"
     ]
    },
    {
     "name": "stdout",
     "output_type": "stream",
     "text": [
      "P: [0.7665]\n"
     ]
    },
    {
     "name": "stderr",
     "output_type": "stream",
     "text": [
      " 37%|███▋      | 6407/17204 [04:12<39:24,  4.57it/s]"
     ]
    },
    {
     "name": "stdout",
     "output_type": "stream",
     "text": [
      "P: [0.77527]\n"
     ]
    },
    {
     "name": "stderr",
     "output_type": "stream",
     "text": [
      " 38%|███▊      | 6612/17204 [04:20<27:40,  6.38it/s]"
     ]
    },
    {
     "name": "stdout",
     "output_type": "stream",
     "text": [
      "P: [0.76514]\n"
     ]
    },
    {
     "name": "stderr",
     "output_type": "stream",
     "text": [
      " 40%|███▉      | 6811/17204 [04:28<26:30,  6.53it/s]"
     ]
    },
    {
     "name": "stdout",
     "output_type": "stream",
     "text": [
      "P: [0.75632]\n"
     ]
    },
    {
     "name": "stderr",
     "output_type": "stream",
     "text": [
      " 41%|████      | 7010/17204 [04:35<25:08,  6.76it/s]"
     ]
    },
    {
     "name": "stdout",
     "output_type": "stream",
     "text": [
      "P: [0.77159]\n"
     ]
    },
    {
     "name": "stderr",
     "output_type": "stream",
     "text": [
      " 42%|████▏     | 7209/17204 [04:43<26:04,  6.39it/s]"
     ]
    },
    {
     "name": "stdout",
     "output_type": "stream",
     "text": [
      "P: [0.78092]\n"
     ]
    },
    {
     "name": "stderr",
     "output_type": "stream",
     "text": [
      " 43%|████▎     | 7407/17204 [04:51<34:06,  4.79it/s]"
     ]
    },
    {
     "name": "stdout",
     "output_type": "stream",
     "text": [
      "P: [0.79055]\n"
     ]
    },
    {
     "name": "stderr",
     "output_type": "stream",
     "text": [
      " 44%|████▍     | 7610/17204 [04:59<26:19,  6.07it/s]"
     ]
    },
    {
     "name": "stdout",
     "output_type": "stream",
     "text": [
      "P: [0.76234]\n"
     ]
    },
    {
     "name": "stderr",
     "output_type": "stream",
     "text": [
      " 45%|████▌     | 7812/17204 [05:07<25:50,  6.06it/s]"
     ]
    },
    {
     "name": "stdout",
     "output_type": "stream",
     "text": [
      "P: [0.78753]\n"
     ]
    },
    {
     "name": "stderr",
     "output_type": "stream",
     "text": [
      " 47%|████▋     | 8005/17204 [05:14<32:15,  4.75it/s]"
     ]
    },
    {
     "name": "stdout",
     "output_type": "stream",
     "text": [
      "P: [0.80056]\n"
     ]
    },
    {
     "name": "stderr",
     "output_type": "stream",
     "text": [
      " 48%|████▊     | 8211/17204 [05:22<24:26,  6.13it/s]"
     ]
    },
    {
     "name": "stdout",
     "output_type": "stream",
     "text": [
      "P: [0.77797]\n"
     ]
    },
    {
     "name": "stderr",
     "output_type": "stream",
     "text": [
      " 49%|████▉     | 8412/17204 [05:30<23:04,  6.35it/s]"
     ]
    },
    {
     "name": "stdout",
     "output_type": "stream",
     "text": [
      "P: [0.79831]\n"
     ]
    },
    {
     "name": "stderr",
     "output_type": "stream",
     "text": [
      " 50%|█████     | 8612/17204 [05:38<24:01,  5.96it/s]"
     ]
    },
    {
     "name": "stdout",
     "output_type": "stream",
     "text": [
      "P: [0.79348]\n"
     ]
    },
    {
     "name": "stderr",
     "output_type": "stream",
     "text": [
      " 51%|█████     | 8807/17204 [05:46<30:32,  4.58it/s]"
     ]
    },
    {
     "name": "stdout",
     "output_type": "stream",
     "text": [
      "P: [0.77444]\n"
     ]
    },
    {
     "name": "stderr",
     "output_type": "stream",
     "text": [
      " 52%|█████▏    | 9009/17204 [05:54<20:55,  6.53it/s]"
     ]
    },
    {
     "name": "stdout",
     "output_type": "stream",
     "text": [
      "P: [0.82702]\n"
     ]
    },
    {
     "name": "stderr",
     "output_type": "stream",
     "text": [
      " 54%|█████▎    | 9212/17204 [06:01<20:39,  6.45it/s]"
     ]
    },
    {
     "name": "stdout",
     "output_type": "stream",
     "text": [
      "P: [0.80379]\n"
     ]
    },
    {
     "name": "stderr",
     "output_type": "stream",
     "text": [
      " 55%|█████▍    | 9410/17204 [06:09<20:15,  6.41it/s]"
     ]
    },
    {
     "name": "stdout",
     "output_type": "stream",
     "text": [
      "P: [0.8107]\n"
     ]
    },
    {
     "name": "stderr",
     "output_type": "stream",
     "text": [
      " 56%|█████▌    | 9608/17204 [06:17<19:41,  6.43it/s]"
     ]
    },
    {
     "name": "stdout",
     "output_type": "stream",
     "text": [
      "P: [0.81157]\n"
     ]
    },
    {
     "name": "stderr",
     "output_type": "stream",
     "text": [
      " 57%|█████▋    | 9808/17204 [06:24<19:15,  6.40it/s]"
     ]
    },
    {
     "name": "stdout",
     "output_type": "stream",
     "text": [
      "P: [0.76852]\n"
     ]
    },
    {
     "name": "stderr",
     "output_type": "stream",
     "text": [
      " 58%|█████▊    | 10011/17204 [06:32<19:43,  6.08it/s]"
     ]
    },
    {
     "name": "stdout",
     "output_type": "stream",
     "text": [
      "P: [0.79687]\n"
     ]
    },
    {
     "name": "stderr",
     "output_type": "stream",
     "text": [
      " 59%|█████▉    | 10208/17204 [06:40<18:55,  6.16it/s]"
     ]
    },
    {
     "name": "stdout",
     "output_type": "stream",
     "text": [
      "P: [0.81738]\n"
     ]
    },
    {
     "name": "stderr",
     "output_type": "stream",
     "text": [
      " 60%|██████    | 10406/17204 [06:48<24:32,  4.62it/s]"
     ]
    },
    {
     "name": "stdout",
     "output_type": "stream",
     "text": [
      "P: [0.77935]\n"
     ]
    },
    {
     "name": "stderr",
     "output_type": "stream",
     "text": [
      " 62%|██████▏   | 10606/17204 [06:56<23:12,  4.74it/s]"
     ]
    },
    {
     "name": "stdout",
     "output_type": "stream",
     "text": [
      "P: [0.81741]\n"
     ]
    },
    {
     "name": "stderr",
     "output_type": "stream",
     "text": [
      " 63%|██████▎   | 10807/17204 [07:04<23:23,  4.56it/s]"
     ]
    },
    {
     "name": "stdout",
     "output_type": "stream",
     "text": [
      "P: [0.80984]\n"
     ]
    },
    {
     "name": "stderr",
     "output_type": "stream",
     "text": [
      " 64%|██████▍   | 11010/17204 [07:12<17:23,  5.93it/s]"
     ]
    },
    {
     "name": "stdout",
     "output_type": "stream",
     "text": [
      "P: [0.80177]\n"
     ]
    },
    {
     "name": "stderr",
     "output_type": "stream",
     "text": [
      " 65%|██████▌   | 11207/17204 [07:20<22:27,  4.45it/s]"
     ]
    },
    {
     "name": "stdout",
     "output_type": "stream",
     "text": [
      "P: [0.811]\n"
     ]
    },
    {
     "name": "stderr",
     "output_type": "stream",
     "text": [
      " 66%|██████▋   | 11413/17204 [07:28<15:56,  6.05it/s]"
     ]
    },
    {
     "name": "stdout",
     "output_type": "stream",
     "text": [
      "P: [0.78729]\n"
     ]
    },
    {
     "name": "stderr",
     "output_type": "stream",
     "text": [
      " 67%|██████▋   | 11609/17204 [07:36<16:38,  5.60it/s]"
     ]
    },
    {
     "name": "stdout",
     "output_type": "stream",
     "text": [
      "P: [0.82122]\n"
     ]
    },
    {
     "name": "stderr",
     "output_type": "stream",
     "text": [
      " 69%|██████▊   | 11808/17204 [07:44<13:51,  6.49it/s]"
     ]
    },
    {
     "name": "stdout",
     "output_type": "stream",
     "text": [
      "P: [0.81931]\n"
     ]
    },
    {
     "name": "stderr",
     "output_type": "stream",
     "text": [
      " 70%|██████▉   | 12010/17204 [07:51<12:03,  7.18it/s]"
     ]
    },
    {
     "name": "stdout",
     "output_type": "stream",
     "text": [
      "P: [0.78689]\n"
     ]
    },
    {
     "name": "stderr",
     "output_type": "stream",
     "text": [
      " 71%|███████   | 12207/17204 [07:59<17:20,  4.80it/s]"
     ]
    },
    {
     "name": "stdout",
     "output_type": "stream",
     "text": [
      "P: [0.82844]\n"
     ]
    },
    {
     "name": "stderr",
     "output_type": "stream",
     "text": [
      " 72%|███████▏  | 12412/17204 [08:07<13:28,  5.93it/s]"
     ]
    },
    {
     "name": "stdout",
     "output_type": "stream",
     "text": [
      "P: [0.81677]\n"
     ]
    },
    {
     "name": "stderr",
     "output_type": "stream",
     "text": [
      " 73%|███████▎  | 12609/17204 [08:15<12:42,  6.02it/s]"
     ]
    },
    {
     "name": "stdout",
     "output_type": "stream",
     "text": [
      "P: [0.79682]\n"
     ]
    },
    {
     "name": "stderr",
     "output_type": "stream",
     "text": [
      " 74%|███████▍  | 12806/17204 [08:22<16:06,  4.55it/s]"
     ]
    },
    {
     "name": "stdout",
     "output_type": "stream",
     "text": [
      "P: [0.8144]\n"
     ]
    },
    {
     "name": "stderr",
     "output_type": "stream",
     "text": [
      " 76%|███████▌  | 13011/17204 [08:30<10:48,  6.47it/s]"
     ]
    },
    {
     "name": "stdout",
     "output_type": "stream",
     "text": [
      "P: [0.82906]\n"
     ]
    },
    {
     "name": "stderr",
     "output_type": "stream",
     "text": [
      " 77%|███████▋  | 13209/17204 [08:38<10:33,  6.31it/s]"
     ]
    },
    {
     "name": "stdout",
     "output_type": "stream",
     "text": [
      "P: [0.8347]\n"
     ]
    },
    {
     "name": "stderr",
     "output_type": "stream",
     "text": [
      " 78%|███████▊  | 13407/17204 [08:46<13:35,  4.66it/s]"
     ]
    },
    {
     "name": "stdout",
     "output_type": "stream",
     "text": [
      "P: [0.79106]\n"
     ]
    },
    {
     "name": "stderr",
     "output_type": "stream",
     "text": [
      " 79%|███████▉  | 13612/17204 [08:54<10:02,  5.97it/s]"
     ]
    },
    {
     "name": "stdout",
     "output_type": "stream",
     "text": [
      "P: [0.78993]\n"
     ]
    },
    {
     "name": "stderr",
     "output_type": "stream",
     "text": [
      " 80%|████████  | 13808/17204 [09:02<09:16,  6.10it/s]"
     ]
    },
    {
     "name": "stdout",
     "output_type": "stream",
     "text": [
      "P: [0.80729]\n"
     ]
    },
    {
     "name": "stderr",
     "output_type": "stream",
     "text": [
      " 81%|████████▏ | 14011/17204 [09:09<08:27,  6.30it/s]"
     ]
    },
    {
     "name": "stdout",
     "output_type": "stream",
     "text": [
      "P: [0.8383]\n"
     ]
    },
    {
     "name": "stderr",
     "output_type": "stream",
     "text": [
      " 83%|████████▎ | 14207/17204 [09:17<10:58,  4.55it/s]"
     ]
    },
    {
     "name": "stdout",
     "output_type": "stream",
     "text": [
      "P: [0.82162]\n"
     ]
    },
    {
     "name": "stderr",
     "output_type": "stream",
     "text": [
      " 84%|████████▍ | 14410/17204 [09:25<07:16,  6.39it/s]"
     ]
    },
    {
     "name": "stdout",
     "output_type": "stream",
     "text": [
      "P: [0.84101]\n"
     ]
    },
    {
     "name": "stderr",
     "output_type": "stream",
     "text": [
      " 85%|████████▍ | 14607/17204 [09:33<09:42,  4.46it/s]"
     ]
    },
    {
     "name": "stdout",
     "output_type": "stream",
     "text": [
      "P: [0.80168]\n"
     ]
    },
    {
     "name": "stderr",
     "output_type": "stream",
     "text": [
      " 86%|████████▌ | 14811/17204 [09:40<06:03,  6.58it/s]"
     ]
    },
    {
     "name": "stdout",
     "output_type": "stream",
     "text": [
      "P: [0.81835]\n"
     ]
    },
    {
     "name": "stderr",
     "output_type": "stream",
     "text": [
      " 87%|████████▋ | 15008/17204 [09:48<05:41,  6.44it/s]"
     ]
    },
    {
     "name": "stdout",
     "output_type": "stream",
     "text": [
      "P: [0.84637]\n"
     ]
    },
    {
     "name": "stderr",
     "output_type": "stream",
     "text": [
      " 88%|████████▊ | 15212/17204 [09:56<05:26,  6.09it/s]"
     ]
    },
    {
     "name": "stdout",
     "output_type": "stream",
     "text": [
      "P: [0.79495]\n"
     ]
    },
    {
     "name": "stderr",
     "output_type": "stream",
     "text": [
      " 90%|████████▉ | 15408/17204 [10:04<04:48,  6.22it/s]"
     ]
    },
    {
     "name": "stdout",
     "output_type": "stream",
     "text": [
      "P: [0.83273]\n"
     ]
    },
    {
     "name": "stderr",
     "output_type": "stream",
     "text": [
      " 91%|█████████ | 15612/17204 [10:12<04:17,  6.17it/s]"
     ]
    },
    {
     "name": "stdout",
     "output_type": "stream",
     "text": [
      "P: [0.84161]\n"
     ]
    },
    {
     "name": "stderr",
     "output_type": "stream",
     "text": [
      " 92%|█████████▏| 15812/17204 [10:19<03:31,  6.58it/s]"
     ]
    },
    {
     "name": "stdout",
     "output_type": "stream",
     "text": [
      "P: [0.84986]\n"
     ]
    },
    {
     "name": "stderr",
     "output_type": "stream",
     "text": [
      " 93%|█████████▎| 16009/17204 [10:27<02:59,  6.64it/s]"
     ]
    },
    {
     "name": "stdout",
     "output_type": "stream",
     "text": [
      "P: [0.82623]\n"
     ]
    },
    {
     "name": "stderr",
     "output_type": "stream",
     "text": [
      " 94%|█████████▍| 16207/17204 [10:34<03:36,  4.61it/s]"
     ]
    },
    {
     "name": "stdout",
     "output_type": "stream",
     "text": [
      "P: [0.81265]\n"
     ]
    },
    {
     "name": "stderr",
     "output_type": "stream",
     "text": [
      " 95%|█████████▌| 16411/17204 [10:42<02:04,  6.39it/s]"
     ]
    },
    {
     "name": "stdout",
     "output_type": "stream",
     "text": [
      "P: [0.82287]\n"
     ]
    },
    {
     "name": "stderr",
     "output_type": "stream",
     "text": [
      " 97%|█████████▋| 16609/17204 [10:50<01:36,  6.15it/s]"
     ]
    },
    {
     "name": "stdout",
     "output_type": "stream",
     "text": [
      "P: [0.81623]\n"
     ]
    },
    {
     "name": "stderr",
     "output_type": "stream",
     "text": [
      " 98%|█████████▊| 16809/17204 [10:58<01:04,  6.09it/s]"
     ]
    },
    {
     "name": "stdout",
     "output_type": "stream",
     "text": [
      "P: [0.8368]\n"
     ]
    },
    {
     "name": "stderr",
     "output_type": "stream",
     "text": [
      " 99%|█████████▉| 17009/17204 [11:06<00:30,  6.47it/s]"
     ]
    },
    {
     "name": "stdout",
     "output_type": "stream",
     "text": [
      "P: [0.83656]\n"
     ]
    },
    {
     "name": "stderr",
     "output_type": "stream",
     "text": [
      "100%|█████████▉| 17197/17204 [11:09<00:00, 68.48it/s]"
     ]
    },
    {
     "name": "stdout",
     "output_type": "stream",
     "text": [
      "P: [0.83452]\n"
     ]
    },
    {
     "name": "stderr",
     "output_type": "stream",
     "text": [
      "100%|██████████| 17204/17204 [11:16<00:00, 25.44it/s]\n"
     ]
    },
    {
     "name": "stdout",
     "output_type": "stream",
     "text": [
      "1/10 T loss: 12.94585. V loss: 9.31988. F1: [0.80226]. P: [0.83822] Patience: 3\n"
     ]
    },
    {
     "name": "stderr",
     "output_type": "stream",
     "text": [
      "  1%|          | 207/17204 [00:07<59:45,  4.74it/s]"
     ]
    },
    {
     "name": "stdout",
     "output_type": "stream",
     "text": [
      "P: [0.83418]\n"
     ]
    },
    {
     "name": "stderr",
     "output_type": "stream",
     "text": [
      "  2%|▏         | 410/17204 [00:15<42:14,  6.63it/s]"
     ]
    },
    {
     "name": "stdout",
     "output_type": "stream",
     "text": [
      "P: [0.83396]\n"
     ]
    },
    {
     "name": "stderr",
     "output_type": "stream",
     "text": [
      "  4%|▎         | 608/17204 [00:23<44:43,  6.18it/s]  "
     ]
    },
    {
     "name": "stdout",
     "output_type": "stream",
     "text": [
      "P: [0.82563]\n"
     ]
    },
    {
     "name": "stderr",
     "output_type": "stream",
     "text": [
      "  5%|▍         | 813/17204 [00:30<43:58,  6.21it/s]  "
     ]
    },
    {
     "name": "stdout",
     "output_type": "stream",
     "text": [
      "P: [0.79977]\n"
     ]
    },
    {
     "name": "stderr",
     "output_type": "stream",
     "text": [
      "  6%|▌         | 1011/17204 [00:38<45:20,  5.95it/s]  "
     ]
    },
    {
     "name": "stdout",
     "output_type": "stream",
     "text": [
      "P: [0.84001]\n"
     ]
    },
    {
     "name": "stderr",
     "output_type": "stream",
     "text": [
      "  7%|▋         | 1209/17204 [00:46<44:19,  6.01it/s]  "
     ]
    },
    {
     "name": "stdout",
     "output_type": "stream",
     "text": [
      "P: [0.79002]\n"
     ]
    },
    {
     "name": "stderr",
     "output_type": "stream",
     "text": [
      "  8%|▊         | 1412/17204 [00:55<44:08,  5.96it/s]  "
     ]
    },
    {
     "name": "stdout",
     "output_type": "stream",
     "text": [
      "P: [0.80491]\n"
     ]
    },
    {
     "name": "stderr",
     "output_type": "stream",
     "text": [
      "  9%|▉         | 1610/17204 [01:02<40:47,  6.37it/s]"
     ]
    },
    {
     "name": "stdout",
     "output_type": "stream",
     "text": [
      "P: [0.81552]\n"
     ]
    },
    {
     "name": "stderr",
     "output_type": "stream",
     "text": [
      " 11%|█         | 1813/17204 [01:10<42:16,  6.07it/s]"
     ]
    },
    {
     "name": "stdout",
     "output_type": "stream",
     "text": [
      "P: [0.80451]\n"
     ]
    },
    {
     "name": "stderr",
     "output_type": "stream",
     "text": [
      " 12%|█▏        | 2009/17204 [01:18<38:47,  6.53it/s]"
     ]
    },
    {
     "name": "stdout",
     "output_type": "stream",
     "text": [
      "P: [0.82278]\n"
     ]
    },
    {
     "name": "stderr",
     "output_type": "stream",
     "text": [
      " 13%|█▎        | 2208/17204 [01:26<40:28,  6.18it/s]"
     ]
    },
    {
     "name": "stdout",
     "output_type": "stream",
     "text": [
      "P: [0.83566]\n"
     ]
    },
    {
     "name": "stderr",
     "output_type": "stream",
     "text": [
      " 14%|█▍        | 2406/17204 [01:33<51:11,  4.82it/s]"
     ]
    },
    {
     "name": "stdout",
     "output_type": "stream",
     "text": [
      "P: [0.81655]\n"
     ]
    },
    {
     "name": "stderr",
     "output_type": "stream",
     "text": [
      " 15%|█▌        | 2612/17204 [01:41<38:15,  6.36it/s]"
     ]
    },
    {
     "name": "stdout",
     "output_type": "stream",
     "text": [
      "P: [0.82624]\n"
     ]
    },
    {
     "name": "stderr",
     "output_type": "stream",
     "text": [
      " 16%|█▋        | 2810/17204 [01:49<37:49,  6.34it/s]"
     ]
    },
    {
     "name": "stdout",
     "output_type": "stream",
     "text": [
      "P: [0.81111]\n"
     ]
    },
    {
     "name": "stderr",
     "output_type": "stream",
     "text": [
      " 17%|█▋        | 3006/17204 [01:56<49:58,  4.74it/s]"
     ]
    },
    {
     "name": "stdout",
     "output_type": "stream",
     "text": [
      "P: [0.85002]\n"
     ]
    },
    {
     "name": "stderr",
     "output_type": "stream",
     "text": [
      " 19%|█▊        | 3210/17204 [02:04<35:50,  6.51it/s]"
     ]
    },
    {
     "name": "stdout",
     "output_type": "stream",
     "text": [
      "P: [0.8219]\n"
     ]
    },
    {
     "name": "stderr",
     "output_type": "stream",
     "text": [
      " 20%|█▉        | 3410/17204 [02:11<35:00,  6.57it/s]"
     ]
    },
    {
     "name": "stdout",
     "output_type": "stream",
     "text": [
      "P: [0.84307]\n"
     ]
    },
    {
     "name": "stderr",
     "output_type": "stream",
     "text": [
      " 21%|██        | 3610/17204 [02:19<34:37,  6.54it/s]"
     ]
    },
    {
     "name": "stdout",
     "output_type": "stream",
     "text": [
      "P: [0.83821]\n"
     ]
    },
    {
     "name": "stderr",
     "output_type": "stream",
     "text": [
      " 22%|██▏       | 3810/17204 [02:26<34:09,  6.54it/s]"
     ]
    },
    {
     "name": "stdout",
     "output_type": "stream",
     "text": [
      "P: [0.82658]\n"
     ]
    },
    {
     "name": "stderr",
     "output_type": "stream",
     "text": [
      " 23%|██▎       | 4008/17204 [02:34<33:34,  6.55it/s]"
     ]
    },
    {
     "name": "stdout",
     "output_type": "stream",
     "text": [
      "P: [0.84899]\n"
     ]
    },
    {
     "name": "stderr",
     "output_type": "stream",
     "text": [
      " 24%|██▍       | 4206/17204 [02:41<45:28,  4.76it/s]"
     ]
    },
    {
     "name": "stdout",
     "output_type": "stream",
     "text": [
      "P: [0.8278]\n"
     ]
    },
    {
     "name": "stderr",
     "output_type": "stream",
     "text": [
      " 26%|██▌       | 4410/17204 [02:49<32:24,  6.58it/s]"
     ]
    },
    {
     "name": "stdout",
     "output_type": "stream",
     "text": [
      "P: [0.83977]\n"
     ]
    },
    {
     "name": "stderr",
     "output_type": "stream",
     "text": [
      " 27%|██▋       | 4608/17204 [02:57<33:23,  6.29it/s]"
     ]
    },
    {
     "name": "stdout",
     "output_type": "stream",
     "text": [
      "P: [0.80357]\n"
     ]
    },
    {
     "name": "stderr",
     "output_type": "stream",
     "text": [
      " 28%|██▊       | 4813/17204 [03:05<32:27,  6.36it/s]"
     ]
    },
    {
     "name": "stdout",
     "output_type": "stream",
     "text": [
      "P: [0.83599]\n"
     ]
    },
    {
     "name": "stderr",
     "output_type": "stream",
     "text": [
      " 29%|██▉       | 5000/17204 [03:11<07:46, 26.16it/s]\n"
     ]
    },
    {
     "ename": "KeyboardInterrupt",
     "evalue": "",
     "output_type": "error",
     "traceback": [
      "\u001b[1;31m---------------------------------------------------------------------------\u001b[0m",
      "\u001b[1;31mKeyboardInterrupt\u001b[0m                         Traceback (most recent call last)",
      "Cell \u001b[1;32mIn[17], line 6\u001b[0m\n\u001b[0;32m      3\u001b[0m classifier \u001b[38;5;241m=\u001b[39m models\u001b[38;5;241m.\u001b[39mClassifier(LENGTH, mapping, \u001b[38;5;124m\"\u001b[39m\u001b[38;5;124mcuda\u001b[39m\u001b[38;5;124m\"\u001b[39m, DAE_1, \u001b[38;5;28mformat\u001b[39m\u001b[38;5;241m.\u001b[39mto_tetramers)\n\u001b[0;32m      5\u001b[0m \u001b[38;5;28mprint\u001b[39m(\u001b[38;5;124m\"\u001b[39m\u001b[38;5;124mFine-tuning:\u001b[39m\u001b[38;5;124m\"\u001b[39m)\n\u001b[1;32m----> 6\u001b[0m model \u001b[38;5;241m=\u001b[39m \u001b[43mbenchmark\u001b[49m\u001b[43m(\u001b[49m\n\u001b[0;32m      7\u001b[0m \u001b[43m    \u001b[49m\u001b[43mclassifier\u001b[49m\u001b[43m,\u001b[49m\n\u001b[0;32m      8\u001b[0m \u001b[43m    \u001b[49m\u001b[38;5;124;43m\"\u001b[39;49m\u001b[38;5;124;43mTransformer\u001b[39;49m\u001b[38;5;124;43m\"\u001b[39;49m\u001b[43m,\u001b[49m\n\u001b[0;32m      9\u001b[0m \u001b[43m    \u001b[49m\u001b[43mmax_epochs\u001b[49m\u001b[38;5;241;43m=\u001b[39;49m\u001b[38;5;241;43m10\u001b[39;49m\n\u001b[0;32m     10\u001b[0m \u001b[43m)\u001b[49m\n\u001b[0;32m     11\u001b[0m matrix \u001b[38;5;241m=\u001b[39m models\u001b[38;5;241m.\u001b[39mconfusion_matrix(model, test_data, \u001b[38;5;124m\"\u001b[39m\u001b[38;5;124mcuda\u001b[39m\u001b[38;5;124m\"\u001b[39m, mapping)\n\u001b[0;32m     12\u001b[0m plt\u001b[38;5;241m.\u001b[39mmatshow(matrix)\n",
      "Cell \u001b[1;32mIn[2], line 73\u001b[0m, in \u001b[0;36mbenchmark\u001b[1;34m(classifier, name, max_epochs)\u001b[0m\n\u001b[0;32m     71\u001b[0m     optimizer \u001b[38;5;241m=\u001b[39m \u001b[38;5;28;01mNone\u001b[39;00m\n\u001b[0;32m     72\u001b[0m a \u001b[38;5;241m=\u001b[39m time()\n\u001b[1;32m---> 73\u001b[0m losses, f1, validation_losses \u001b[38;5;241m=\u001b[39m \u001b[43mclassifier\u001b[49m\u001b[38;5;241;43m.\u001b[39;49m\u001b[43mtrain\u001b[49m\u001b[43m(\u001b[49m\n\u001b[0;32m     74\u001b[0m \u001b[43m    \u001b[49m\u001b[43mtrain_data\u001b[49m\u001b[43m,\u001b[49m\n\u001b[0;32m     75\u001b[0m \u001b[43m    \u001b[49m\u001b[43mvalidation_data\u001b[49m\u001b[43m,\u001b[49m\n\u001b[0;32m     76\u001b[0m \u001b[43m    \u001b[49m\u001b[43moptimizer\u001b[49m\u001b[43m,\u001b[49m\n\u001b[0;32m     77\u001b[0m \u001b[43m    \u001b[49m\u001b[43mmax_n_epochs\u001b[49m\u001b[38;5;241;43m=\u001b[39;49m\u001b[43mmax_epochs\u001b[49m\u001b[43m,\u001b[49m\n\u001b[0;32m     78\u001b[0m \u001b[43m    \u001b[49m\u001b[43mpatience\u001b[49m\u001b[38;5;241;43m=\u001b[39;49m\u001b[38;5;241;43m3\u001b[39;49m\u001b[43m,\u001b[49m\n\u001b[0;32m     79\u001b[0m \u001b[43m    \u001b[49m\u001b[43mloss_function\u001b[49m\u001b[38;5;241;43m=\u001b[39;49m\u001b[43mnn\u001b[49m\u001b[38;5;241;43m.\u001b[39;49m\u001b[43mCrossEntropyLoss\u001b[49m\u001b[43m(\u001b[49m\u001b[43m)\u001b[49m\u001b[43m,\u001b[49m\n\u001b[0;32m     80\u001b[0m \u001b[43m    \u001b[49m\u001b[43mloss_function_type\u001b[49m\u001b[38;5;241;43m=\u001b[39;49m\u001b[38;5;124;43m\"\u001b[39;49m\u001b[38;5;124;43msupervised\u001b[39;49m\u001b[38;5;124;43m\"\u001b[39;49m\n\u001b[0;32m     81\u001b[0m \u001b[43m\u001b[49m\u001b[43m)\u001b[49m\n\u001b[0;32m     82\u001b[0m b \u001b[38;5;241m=\u001b[39m time()\n\u001b[0;32m     83\u001b[0m \u001b[38;5;28mprint\u001b[39m(\u001b[38;5;124mf\u001b[39m\u001b[38;5;124m\"\u001b[39m\u001b[38;5;124mTraining took \u001b[39m\u001b[38;5;132;01m{\u001b[39;00m(b\u001b[38;5;250m \u001b[39m\u001b[38;5;241m-\u001b[39m\u001b[38;5;250m \u001b[39ma)\u001b[38;5;132;01m:\u001b[39;00m\u001b[38;5;124m.3f\u001b[39m\u001b[38;5;132;01m}\u001b[39;00m\u001b[38;5;124m s.\u001b[39m\u001b[38;5;124m\"\u001b[39m)\n",
      "File \u001b[1;32mD:\\maitrise\\stelaro\\stelaro\\models\\__init__.py:584\u001b[0m, in \u001b[0;36mClassifier.train\u001b[1;34m(self, train_loader, validate_loader, optimizer, max_n_epochs, patience, loss_function, loss_function_type)\u001b[0m\n\u001b[0;32m    582\u001b[0m losses[\u001b[38;5;241m-\u001b[39m\u001b[38;5;241m1\u001b[39m] \u001b[38;5;241m+\u001b[39m\u001b[38;5;241m=\u001b[39m loss\u001b[38;5;241m.\u001b[39mitem()\n\u001b[0;32m    583\u001b[0m \u001b[38;5;28;01mif\u001b[39;00m progress \u001b[38;5;129;01mand\u001b[39;00m progress \u001b[38;5;241m%\u001b[39m \u001b[38;5;241m200\u001b[39m \u001b[38;5;241m==\u001b[39m \u001b[38;5;241m0\u001b[39m:\n\u001b[1;32m--> 584\u001b[0m     ps \u001b[38;5;241m=\u001b[39m \u001b[43mevaluate_precision\u001b[49m\u001b[43m(\u001b[49m\u001b[38;5;28;43mself\u001b[39;49m\u001b[43m,\u001b[49m\u001b[43m \u001b[49m\u001b[43mvalidate_loader\u001b[49m\u001b[43m,\u001b[49m\u001b[43m \u001b[49m\u001b[38;5;28;43mself\u001b[39;49m\u001b[38;5;241;43m.\u001b[39;49m\u001b[43mdevice\u001b[49m\u001b[43m,\u001b[49m\u001b[43m \u001b[49m\u001b[38;5;28;43mself\u001b[39;49m\u001b[38;5;241;43m.\u001b[39;49m\u001b[43mmapping\u001b[49m\u001b[43m)\u001b[49m\n\u001b[0;32m    585\u001b[0m     ps \u001b[38;5;241m=\u001b[39m [\u001b[38;5;28mfloat\u001b[39m(p) \u001b[38;5;28;01mfor\u001b[39;00m p \u001b[38;5;129;01min\u001b[39;00m ps]\n\u001b[0;32m    586\u001b[0m     p_msg \u001b[38;5;241m=\u001b[39m [\u001b[38;5;28mfloat\u001b[39m(\u001b[38;5;124mf\u001b[39m\u001b[38;5;124m\"\u001b[39m\u001b[38;5;132;01m{\u001b[39;00mp\u001b[38;5;132;01m:\u001b[39;00m\u001b[38;5;124m.5\u001b[39m\u001b[38;5;132;01m}\u001b[39;00m\u001b[38;5;124m\"\u001b[39m) \u001b[38;5;28;01mfor\u001b[39;00m p \u001b[38;5;129;01min\u001b[39;00m ps]\n",
      "File \u001b[1;32mD:\\maitrise\\stelaro\\stelaro\\models\\__init__.py:464\u001b[0m, in \u001b[0;36mevaluate_precision\u001b[1;34m(classifier, loader, device, mapping)\u001b[0m\n\u001b[0;32m    462\u001b[0m n_batches \u001b[38;5;241m=\u001b[39m \u001b[38;5;241m0\u001b[39m\n\u001b[0;32m    463\u001b[0m \u001b[38;5;28;01mwith\u001b[39;00m no_grad():\n\u001b[1;32m--> 464\u001b[0m \u001b[43m    \u001b[49m\u001b[38;5;28;43;01mfor\u001b[39;49;00m\u001b[43m \u001b[49m\u001b[43mx_batch\u001b[49m\u001b[43m,\u001b[49m\u001b[43m \u001b[49m\u001b[43my_batch\u001b[49m\u001b[43m \u001b[49m\u001b[38;5;129;43;01min\u001b[39;49;00m\u001b[43m \u001b[49m\u001b[43mloader\u001b[49m\u001b[43m:\u001b[49m\n\u001b[0;32m    465\u001b[0m \u001b[43m        \u001b[49m\u001b[43mx_batch\u001b[49m\u001b[43m \u001b[49m\u001b[38;5;241;43m=\u001b[39;49m\u001b[43m \u001b[49m\u001b[43mx_batch\u001b[49m\u001b[38;5;241;43m.\u001b[39;49m\u001b[43mlong\u001b[49m\u001b[43m(\u001b[49m\u001b[43m)\u001b[49m\u001b[38;5;241;43m.\u001b[39;49m\u001b[43mto\u001b[49m\u001b[43m(\u001b[49m\u001b[43mdevice\u001b[49m\u001b[43m)\u001b[49m\n\u001b[0;32m    466\u001b[0m \u001b[43m        \u001b[49m\u001b[43my_batch\u001b[49m\u001b[43m \u001b[49m\u001b[38;5;241;43m=\u001b[39;49m\u001b[43m \u001b[49m\u001b[43my_batch\u001b[49m\u001b[38;5;241;43m.\u001b[39;49m\u001b[43mto\u001b[49m\u001b[43m(\u001b[49m\u001b[38;5;124;43m\"\u001b[39;49m\u001b[38;5;124;43mcpu\u001b[39;49m\u001b[38;5;124;43m\"\u001b[39;49m\u001b[43m)\u001b[49m\n",
      "File \u001b[1;32md:\\maitrise\\stelaro\\venv\\Lib\\site-packages\\torch\\utils\\data\\dataloader.py:729\u001b[0m, in \u001b[0;36m_BaseDataLoaderIter.__next__\u001b[1;34m(self)\u001b[0m\n\u001b[0;32m    728\u001b[0m \u001b[38;5;28;01mdef\u001b[39;00m\u001b[38;5;250m \u001b[39m\u001b[38;5;21m__next__\u001b[39m(\u001b[38;5;28mself\u001b[39m) \u001b[38;5;241m-\u001b[39m\u001b[38;5;241m>\u001b[39m Any:\n\u001b[1;32m--> 729\u001b[0m \u001b[43m    \u001b[49m\u001b[38;5;28;43;01mwith\u001b[39;49;00m\u001b[43m \u001b[49m\u001b[43mtorch\u001b[49m\u001b[38;5;241;43m.\u001b[39;49m\u001b[43mautograd\u001b[49m\u001b[38;5;241;43m.\u001b[39;49m\u001b[43mprofiler\u001b[49m\u001b[38;5;241;43m.\u001b[39;49m\u001b[43mrecord_function\u001b[49m\u001b[43m(\u001b[49m\u001b[38;5;28;43mself\u001b[39;49m\u001b[38;5;241;43m.\u001b[39;49m\u001b[43m_profile_name\u001b[49m\u001b[43m)\u001b[49m\u001b[43m:\u001b[49m\n\u001b[0;32m    730\u001b[0m \u001b[43m        \u001b[49m\u001b[38;5;28;43;01mif\u001b[39;49;00m\u001b[43m \u001b[49m\u001b[38;5;28;43mself\u001b[39;49m\u001b[38;5;241;43m.\u001b[39;49m\u001b[43m_sampler_iter\u001b[49m\u001b[43m \u001b[49m\u001b[38;5;129;43;01mis\u001b[39;49;00m\u001b[43m \u001b[49m\u001b[38;5;28;43;01mNone\u001b[39;49;00m\u001b[43m:\u001b[49m\n\u001b[0;32m    731\u001b[0m \u001b[43m            \u001b[49m\u001b[38;5;66;43;03m# TODO(https://github.com/pytorch/pytorch/issues/76750)\u001b[39;49;00m\n\u001b[0;32m    732\u001b[0m \u001b[43m            \u001b[49m\u001b[38;5;28;43mself\u001b[39;49m\u001b[38;5;241;43m.\u001b[39;49m\u001b[43m_reset\u001b[49m\u001b[43m(\u001b[49m\u001b[43m)\u001b[49m\u001b[43m  \u001b[49m\u001b[38;5;66;43;03m# type: ignore[call-arg]\u001b[39;49;00m\n",
      "File \u001b[1;32md:\\maitrise\\stelaro\\venv\\Lib\\site-packages\\torch\\autograd\\profiler.py:771\u001b[0m, in \u001b[0;36mrecord_function.__enter__\u001b[1;34m(self)\u001b[0m\n\u001b[0;32m    770\u001b[0m \u001b[38;5;28;01mdef\u001b[39;00m\u001b[38;5;250m \u001b[39m\u001b[38;5;21m__enter__\u001b[39m(\u001b[38;5;28mself\u001b[39m):\n\u001b[1;32m--> 771\u001b[0m     \u001b[38;5;28mself\u001b[39m\u001b[38;5;241m.\u001b[39mrecord \u001b[38;5;241m=\u001b[39m \u001b[43mtorch\u001b[49m\u001b[38;5;241;43m.\u001b[39;49m\u001b[43mops\u001b[49m\u001b[38;5;241;43m.\u001b[39;49m\u001b[43mprofiler\u001b[49m\u001b[38;5;241;43m.\u001b[39;49m\u001b[43m_record_function_enter_new\u001b[49m\u001b[43m(\u001b[49m\n\u001b[0;32m    772\u001b[0m \u001b[43m        \u001b[49m\u001b[38;5;28;43mself\u001b[39;49m\u001b[38;5;241;43m.\u001b[39;49m\u001b[43mname\u001b[49m\u001b[43m,\u001b[49m\u001b[43m \u001b[49m\u001b[38;5;28;43mself\u001b[39;49m\u001b[38;5;241;43m.\u001b[39;49m\u001b[43margs\u001b[49m\n\u001b[0;32m    773\u001b[0m \u001b[43m    \u001b[49m\u001b[43m)\u001b[49m\n\u001b[0;32m    774\u001b[0m     \u001b[38;5;28;01mreturn\u001b[39;00m \u001b[38;5;28mself\u001b[39m\n",
      "File \u001b[1;32md:\\maitrise\\stelaro\\venv\\Lib\\site-packages\\torch\\_ops.py:1158\u001b[0m, in \u001b[0;36mOpOverloadPacket.__call__\u001b[1;34m(self, *args, **kwargs)\u001b[0m\n\u001b[0;32m   1156\u001b[0m \u001b[38;5;28;01mif\u001b[39;00m \u001b[38;5;28mself\u001b[39m\u001b[38;5;241m.\u001b[39m_has_torchbind_op_overload \u001b[38;5;129;01mand\u001b[39;00m _must_dispatch_in_python(args, kwargs):\n\u001b[0;32m   1157\u001b[0m     \u001b[38;5;28;01mreturn\u001b[39;00m _call_overload_packet_from_python(\u001b[38;5;28mself\u001b[39m, args, kwargs)\n\u001b[1;32m-> 1158\u001b[0m \u001b[38;5;28;01mreturn\u001b[39;00m \u001b[38;5;28;43mself\u001b[39;49m\u001b[38;5;241;43m.\u001b[39;49m\u001b[43m_op\u001b[49m\u001b[43m(\u001b[49m\u001b[38;5;241;43m*\u001b[39;49m\u001b[43margs\u001b[49m\u001b[43m,\u001b[49m\u001b[43m \u001b[49m\u001b[38;5;241;43m*\u001b[39;49m\u001b[38;5;241;43m*\u001b[39;49m\u001b[43m(\u001b[49m\u001b[43mkwargs\u001b[49m\u001b[43m \u001b[49m\u001b[38;5;129;43;01mor\u001b[39;49;00m\u001b[43m \u001b[49m\u001b[43m{\u001b[49m\u001b[43m}\u001b[49m\u001b[43m)\u001b[49m\u001b[43m)\u001b[49m\n",
      "\u001b[1;31mKeyboardInterrupt\u001b[0m: "
     ]
    }
   ],
   "source": [
    "from torch.optim import Adam\n",
    "\n",
    "classifier = models.Classifier(LENGTH, mapping, \"cuda\", DAE_1, format.to_tetramers)\n",
    "\n",
    "print(\"Fine-tuning:\")\n",
    "model = benchmark(\n",
    "    classifier,\n",
    "    \"Transformer\",\n",
    "    max_epochs=10\n",
    ")\n",
    "matrix = models.confusion_matrix(model, test_data, \"cuda\", mapping)\n",
    "plt.matshow(matrix)\n",
    "plt.show()\n",
    "np.set_printoptions(precision=3, suppress=True, linewidth=500, threshold=np.inf)\n",
    "print(matrix)"
   ]
  },
  {
   "cell_type": "markdown",
   "id": "409e576d",
   "metadata": {},
   "source": [
    "### 3.5. Mamba"
   ]
  },
  {
   "cell_type": "code",
   "execution_count": 3,
   "id": "0af39a2d",
   "metadata": {},
   "outputs": [
    {
     "name": "stdout",
     "output_type": "stream",
     "text": [
      "Fine-tuning:\n",
      "Number of parameters: 266_500\n"
     ]
    },
    {
     "name": "stderr",
     "output_type": "stream",
     "text": [
      "  1%|          | 201/17204 [04:26<159:40:40, 33.81s/it]"
     ]
    },
    {
     "name": "stdout",
     "output_type": "stream",
     "text": [
      "P: [0.46236]\n"
     ]
    },
    {
     "name": "stderr",
     "output_type": "stream",
     "text": [
      "  2%|▏         | 401/17204 [08:52<157:53:24, 33.83s/it]"
     ]
    },
    {
     "name": "stdout",
     "output_type": "stream",
     "text": [
      "P: [0.68458]\n"
     ]
    },
    {
     "name": "stderr",
     "output_type": "stream",
     "text": [
      "  3%|▎         | 601/17204 [13:17<155:51:11, 33.79s/it]"
     ]
    },
    {
     "name": "stdout",
     "output_type": "stream",
     "text": [
      "P: [0.68249]\n"
     ]
    },
    {
     "name": "stderr",
     "output_type": "stream",
     "text": [
      "  5%|▍         | 801/17204 [17:43<153:55:11, 33.78s/it]"
     ]
    },
    {
     "name": "stdout",
     "output_type": "stream",
     "text": [
      "P: [0.68403]\n"
     ]
    },
    {
     "name": "stderr",
     "output_type": "stream",
     "text": [
      "  6%|▌         | 1001/17204 [22:08<151:56:49, 33.76s/it]"
     ]
    },
    {
     "name": "stdout",
     "output_type": "stream",
     "text": [
      "P: [0.72419]\n"
     ]
    },
    {
     "name": "stderr",
     "output_type": "stream",
     "text": [
      "  7%|▋         | 1201/17204 [26:34<150:09:53, 33.78s/it]"
     ]
    },
    {
     "name": "stdout",
     "output_type": "stream",
     "text": [
      "P: [0.7168]\n"
     ]
    },
    {
     "name": "stderr",
     "output_type": "stream",
     "text": [
      "  8%|▊         | 1401/17204 [30:59<148:21:57, 33.80s/it]"
     ]
    },
    {
     "name": "stdout",
     "output_type": "stream",
     "text": [
      "P: [0.72274]\n"
     ]
    },
    {
     "name": "stderr",
     "output_type": "stream",
     "text": [
      "  9%|▉         | 1601/17204 [35:24<146:20:44, 33.77s/it]"
     ]
    },
    {
     "name": "stdout",
     "output_type": "stream",
     "text": [
      "P: [0.70843]\n"
     ]
    },
    {
     "name": "stderr",
     "output_type": "stream",
     "text": [
      " 10%|█         | 1801/17204 [39:50<144:30:55, 33.78s/it]"
     ]
    },
    {
     "name": "stdout",
     "output_type": "stream",
     "text": [
      "P: [0.73608]\n"
     ]
    },
    {
     "name": "stderr",
     "output_type": "stream",
     "text": [
      " 12%|█▏        | 2001/17204 [44:15<142:38:44, 33.78s/it]"
     ]
    },
    {
     "name": "stdout",
     "output_type": "stream",
     "text": [
      "P: [0.738]\n"
     ]
    },
    {
     "name": "stderr",
     "output_type": "stream",
     "text": [
      " 13%|█▎        | 2201/17204 [48:40<140:42:25, 33.76s/it]"
     ]
    },
    {
     "name": "stdout",
     "output_type": "stream",
     "text": [
      "P: [0.75522]\n"
     ]
    },
    {
     "name": "stderr",
     "output_type": "stream",
     "text": [
      " 14%|█▍        | 2401/17204 [53:06<138:53:23, 33.78s/it]"
     ]
    },
    {
     "name": "stdout",
     "output_type": "stream",
     "text": [
      "P: [0.75041]\n"
     ]
    },
    {
     "name": "stderr",
     "output_type": "stream",
     "text": [
      " 15%|█▌        | 2601/17204 [57:31<136:55:10, 33.75s/it]"
     ]
    },
    {
     "name": "stdout",
     "output_type": "stream",
     "text": [
      "P: [0.7463]\n"
     ]
    },
    {
     "name": "stderr",
     "output_type": "stream",
     "text": [
      " 16%|█▋        | 2801/17204 [1:01:56<135:06:33, 33.77s/it]"
     ]
    },
    {
     "name": "stdout",
     "output_type": "stream",
     "text": [
      "P: [0.77563]\n"
     ]
    },
    {
     "name": "stderr",
     "output_type": "stream",
     "text": [
      " 17%|█▋        | 3001/17204 [1:06:22<133:12:43, 33.76s/it]"
     ]
    },
    {
     "name": "stdout",
     "output_type": "stream",
     "text": [
      "P: [0.75569]\n"
     ]
    },
    {
     "name": "stderr",
     "output_type": "stream",
     "text": [
      " 19%|█▊        | 3201/17204 [1:10:47<131:24:33, 33.78s/it]"
     ]
    },
    {
     "name": "stdout",
     "output_type": "stream",
     "text": [
      "P: [0.78035]\n"
     ]
    },
    {
     "name": "stderr",
     "output_type": "stream",
     "text": [
      " 20%|█▉        | 3401/17204 [1:15:12<129:34:53, 33.80s/it]"
     ]
    },
    {
     "name": "stdout",
     "output_type": "stream",
     "text": [
      "P: [0.77307]\n"
     ]
    },
    {
     "name": "stderr",
     "output_type": "stream",
     "text": [
      " 21%|██        | 3601/17204 [1:19:38<127:40:27, 33.79s/it]"
     ]
    },
    {
     "name": "stdout",
     "output_type": "stream",
     "text": [
      "P: [0.76793]\n"
     ]
    },
    {
     "name": "stderr",
     "output_type": "stream",
     "text": [
      " 22%|██▏       | 3801/17204 [1:24:03<125:50:58, 33.80s/it]"
     ]
    },
    {
     "name": "stdout",
     "output_type": "stream",
     "text": [
      "P: [0.79944]\n"
     ]
    },
    {
     "name": "stderr",
     "output_type": "stream",
     "text": [
      " 23%|██▎       | 4001/17204 [1:28:29<123:56:59, 33.80s/it]"
     ]
    },
    {
     "name": "stdout",
     "output_type": "stream",
     "text": [
      "P: [0.81883]\n"
     ]
    },
    {
     "name": "stderr",
     "output_type": "stream",
     "text": [
      " 24%|██▍       | 4201/17204 [1:32:54<122:11:56, 33.83s/it]"
     ]
    },
    {
     "name": "stdout",
     "output_type": "stream",
     "text": [
      "P: [0.81186]\n"
     ]
    },
    {
     "name": "stderr",
     "output_type": "stream",
     "text": [
      " 26%|██▌       | 4401/17204 [1:37:20<120:13:55, 33.81s/it]"
     ]
    },
    {
     "name": "stdout",
     "output_type": "stream",
     "text": [
      "P: [0.81375]\n"
     ]
    },
    {
     "name": "stderr",
     "output_type": "stream",
     "text": [
      " 27%|██▋       | 4601/17204 [1:41:45<118:18:09, 33.79s/it]"
     ]
    },
    {
     "name": "stdout",
     "output_type": "stream",
     "text": [
      "P: [0.78525]\n"
     ]
    },
    {
     "name": "stderr",
     "output_type": "stream",
     "text": [
      " 28%|██▊       | 4800/17204 [7:15:56<18:46:31,  5.45s/it] \n"
     ]
    },
    {
     "ename": "KeyboardInterrupt",
     "evalue": "",
     "output_type": "error",
     "traceback": [
      "\u001b[1;31m---------------------------------------------------------------------------\u001b[0m",
      "\u001b[1;31mKeyboardInterrupt\u001b[0m                         Traceback (most recent call last)",
      "Cell \u001b[1;32mIn[3], line 35\u001b[0m\n\u001b[0;32m     32\u001b[0m classifier \u001b[38;5;241m=\u001b[39m models\u001b[38;5;241m.\u001b[39mClassifier(LENGTH \u001b[38;5;241m/\u001b[39m\u001b[38;5;241m/\u001b[39m \u001b[38;5;241m4\u001b[39m, mapping, \u001b[38;5;124m\"\u001b[39m\u001b[38;5;124mcuda\u001b[39m\u001b[38;5;124m\"\u001b[39m, MAMBA, \u001b[38;5;28mformat\u001b[39m\u001b[38;5;241m.\u001b[39mto_tetramers)\n\u001b[0;32m     34\u001b[0m \u001b[38;5;28mprint\u001b[39m(\u001b[38;5;124m\"\u001b[39m\u001b[38;5;124mFine-tuning:\u001b[39m\u001b[38;5;124m\"\u001b[39m)\n\u001b[1;32m---> 35\u001b[0m model \u001b[38;5;241m=\u001b[39m \u001b[43mbenchmark\u001b[49m\u001b[43m(\u001b[49m\n\u001b[0;32m     36\u001b[0m \u001b[43m    \u001b[49m\u001b[43mclassifier\u001b[49m\u001b[43m,\u001b[49m\n\u001b[0;32m     37\u001b[0m \u001b[43m    \u001b[49m\u001b[38;5;124;43m\"\u001b[39;49m\u001b[38;5;124;43mTransformer\u001b[39;49m\u001b[38;5;124;43m\"\u001b[39;49m\u001b[43m,\u001b[49m\n\u001b[0;32m     38\u001b[0m \u001b[43m    \u001b[49m\u001b[43mmax_epochs\u001b[49m\u001b[38;5;241;43m=\u001b[39;49m\u001b[38;5;241;43m10\u001b[39;49m\n\u001b[0;32m     39\u001b[0m \u001b[43m)\u001b[49m\n\u001b[0;32m     40\u001b[0m matrix \u001b[38;5;241m=\u001b[39m models\u001b[38;5;241m.\u001b[39mconfusion_matrix(model, test_data, \u001b[38;5;124m\"\u001b[39m\u001b[38;5;124mcuda\u001b[39m\u001b[38;5;124m\"\u001b[39m, mapping)\n\u001b[0;32m     41\u001b[0m plt\u001b[38;5;241m.\u001b[39mmatshow(matrix)\n",
      "Cell \u001b[1;32mIn[2], line 73\u001b[0m, in \u001b[0;36mbenchmark\u001b[1;34m(classifier, name, max_epochs)\u001b[0m\n\u001b[0;32m     71\u001b[0m     optimizer \u001b[38;5;241m=\u001b[39m \u001b[38;5;28;01mNone\u001b[39;00m\n\u001b[0;32m     72\u001b[0m a \u001b[38;5;241m=\u001b[39m time()\n\u001b[1;32m---> 73\u001b[0m losses, f1, validation_losses \u001b[38;5;241m=\u001b[39m \u001b[43mclassifier\u001b[49m\u001b[38;5;241;43m.\u001b[39;49m\u001b[43mtrain\u001b[49m\u001b[43m(\u001b[49m\n\u001b[0;32m     74\u001b[0m \u001b[43m    \u001b[49m\u001b[43mtrain_data\u001b[49m\u001b[43m,\u001b[49m\n\u001b[0;32m     75\u001b[0m \u001b[43m    \u001b[49m\u001b[43mvalidation_data\u001b[49m\u001b[43m,\u001b[49m\n\u001b[0;32m     76\u001b[0m \u001b[43m    \u001b[49m\u001b[43moptimizer\u001b[49m\u001b[43m,\u001b[49m\n\u001b[0;32m     77\u001b[0m \u001b[43m    \u001b[49m\u001b[43mmax_n_epochs\u001b[49m\u001b[38;5;241;43m=\u001b[39;49m\u001b[43mmax_epochs\u001b[49m\u001b[43m,\u001b[49m\n\u001b[0;32m     78\u001b[0m \u001b[43m    \u001b[49m\u001b[43mpatience\u001b[49m\u001b[38;5;241;43m=\u001b[39;49m\u001b[38;5;241;43m3\u001b[39;49m\u001b[43m,\u001b[49m\n\u001b[0;32m     79\u001b[0m \u001b[43m    \u001b[49m\u001b[43mloss_function\u001b[49m\u001b[38;5;241;43m=\u001b[39;49m\u001b[43mnn\u001b[49m\u001b[38;5;241;43m.\u001b[39;49m\u001b[43mCrossEntropyLoss\u001b[49m\u001b[43m(\u001b[49m\u001b[43m)\u001b[49m\u001b[43m,\u001b[49m\n\u001b[0;32m     80\u001b[0m \u001b[43m    \u001b[49m\u001b[43mloss_function_type\u001b[49m\u001b[38;5;241;43m=\u001b[39;49m\u001b[38;5;124;43m\"\u001b[39;49m\u001b[38;5;124;43msupervised\u001b[39;49m\u001b[38;5;124;43m\"\u001b[39;49m\n\u001b[0;32m     81\u001b[0m \u001b[43m\u001b[49m\u001b[43m)\u001b[49m\n\u001b[0;32m     82\u001b[0m b \u001b[38;5;241m=\u001b[39m time()\n\u001b[0;32m     83\u001b[0m \u001b[38;5;28mprint\u001b[39m(\u001b[38;5;124mf\u001b[39m\u001b[38;5;124m\"\u001b[39m\u001b[38;5;124mTraining took \u001b[39m\u001b[38;5;132;01m{\u001b[39;00m(b\u001b[38;5;250m \u001b[39m\u001b[38;5;241m-\u001b[39m\u001b[38;5;250m \u001b[39ma)\u001b[38;5;132;01m:\u001b[39;00m\u001b[38;5;124m.3f\u001b[39m\u001b[38;5;132;01m}\u001b[39;00m\u001b[38;5;124m s.\u001b[39m\u001b[38;5;124m\"\u001b[39m)\n",
      "File \u001b[1;32mD:\\maitrise\\stelaro\\stelaro\\models\\__init__.py:584\u001b[0m, in \u001b[0;36mClassifier.train\u001b[1;34m(self, train_loader, validate_loader, optimizer, max_n_epochs, patience, loss_function, loss_function_type)\u001b[0m\n\u001b[0;32m    582\u001b[0m losses[\u001b[38;5;241m-\u001b[39m\u001b[38;5;241m1\u001b[39m] \u001b[38;5;241m+\u001b[39m\u001b[38;5;241m=\u001b[39m loss\u001b[38;5;241m.\u001b[39mitem()\n\u001b[0;32m    583\u001b[0m \u001b[38;5;28;01mif\u001b[39;00m progress \u001b[38;5;129;01mand\u001b[39;00m progress \u001b[38;5;241m%\u001b[39m \u001b[38;5;241m200\u001b[39m \u001b[38;5;241m==\u001b[39m \u001b[38;5;241m0\u001b[39m:\n\u001b[1;32m--> 584\u001b[0m     ps \u001b[38;5;241m=\u001b[39m \u001b[43mevaluate_precision\u001b[49m\u001b[43m(\u001b[49m\u001b[38;5;28;43mself\u001b[39;49m\u001b[43m,\u001b[49m\u001b[43m \u001b[49m\u001b[43mvalidate_loader\u001b[49m\u001b[43m,\u001b[49m\u001b[43m \u001b[49m\u001b[38;5;28;43mself\u001b[39;49m\u001b[38;5;241;43m.\u001b[39;49m\u001b[43mdevice\u001b[49m\u001b[43m,\u001b[49m\u001b[43m \u001b[49m\u001b[38;5;28;43mself\u001b[39;49m\u001b[38;5;241;43m.\u001b[39;49m\u001b[43mmapping\u001b[49m\u001b[43m)\u001b[49m\n\u001b[0;32m    585\u001b[0m     ps \u001b[38;5;241m=\u001b[39m [\u001b[38;5;28mfloat\u001b[39m(p) \u001b[38;5;28;01mfor\u001b[39;00m p \u001b[38;5;129;01min\u001b[39;00m ps]\n\u001b[0;32m    586\u001b[0m     p_msg \u001b[38;5;241m=\u001b[39m [\u001b[38;5;28mfloat\u001b[39m(\u001b[38;5;124mf\u001b[39m\u001b[38;5;124m\"\u001b[39m\u001b[38;5;132;01m{\u001b[39;00mp\u001b[38;5;132;01m:\u001b[39;00m\u001b[38;5;124m.5\u001b[39m\u001b[38;5;132;01m}\u001b[39;00m\u001b[38;5;124m\"\u001b[39m) \u001b[38;5;28;01mfor\u001b[39;00m p \u001b[38;5;129;01min\u001b[39;00m ps]\n",
      "File \u001b[1;32mD:\\maitrise\\stelaro\\stelaro\\models\\__init__.py:467\u001b[0m, in \u001b[0;36mevaluate_precision\u001b[1;34m(classifier, loader, device, mapping)\u001b[0m\n\u001b[0;32m    465\u001b[0m x_batch \u001b[38;5;241m=\u001b[39m x_batch\u001b[38;5;241m.\u001b[39mlong()\u001b[38;5;241m.\u001b[39mto(device)\n\u001b[0;32m    466\u001b[0m y_batch \u001b[38;5;241m=\u001b[39m y_batch\u001b[38;5;241m.\u001b[39mto(\u001b[38;5;124m\"\u001b[39m\u001b[38;5;124mcpu\u001b[39m\u001b[38;5;124m\"\u001b[39m)\n\u001b[1;32m--> 467\u001b[0m predictions \u001b[38;5;241m=\u001b[39m \u001b[43mclassifier\u001b[49m\u001b[38;5;241;43m.\u001b[39;49m\u001b[43mpredict\u001b[49m\u001b[43m(\u001b[49m\u001b[43mx_batch\u001b[49m\u001b[43m)\u001b[49m\n\u001b[0;32m    468\u001b[0m ranks\u001b[38;5;241m.\u001b[39mappend(rank_based_precision(mappings, y_batch, predictions))\n\u001b[0;32m    469\u001b[0m n_batches \u001b[38;5;241m+\u001b[39m\u001b[38;5;241m=\u001b[39m \u001b[38;5;241m1\u001b[39m\n",
      "File \u001b[1;32mD:\\maitrise\\stelaro\\stelaro\\models\\__init__.py:533\u001b[0m, in \u001b[0;36mClassifier.predict\u001b[1;34m(self, x_batch)\u001b[0m\n\u001b[0;32m    531\u001b[0m \u001b[38;5;28;01mif\u001b[39;00m \u001b[38;5;28mtype\u001b[39m(output) \u001b[38;5;129;01mis\u001b[39;00m \u001b[38;5;28mtuple\u001b[39m:\n\u001b[0;32m    532\u001b[0m     output \u001b[38;5;241m=\u001b[39m output[\u001b[38;5;241m0\u001b[39m]\n\u001b[1;32m--> 533\u001b[0m predictions \u001b[38;5;241m=\u001b[39m \u001b[43margmax\u001b[49m\u001b[43m(\u001b[49m\u001b[43moutput\u001b[49m\u001b[43m,\u001b[49m\u001b[43m \u001b[49m\u001b[43mdim\u001b[49m\u001b[38;5;241;43m=\u001b[39;49m\u001b[38;5;241;43m1\u001b[39;49m\u001b[43m)\u001b[49m\u001b[38;5;241;43m.\u001b[39;49m\u001b[43mto\u001b[49m\u001b[43m(\u001b[49m\u001b[38;5;124;43m\"\u001b[39;49m\u001b[38;5;124;43mcpu\u001b[39;49m\u001b[38;5;124;43m\"\u001b[39;49m\u001b[43m)\u001b[49m\n\u001b[0;32m    534\u001b[0m \u001b[38;5;28;01mreturn\u001b[39;00m predictions\n",
      "\u001b[1;31mKeyboardInterrupt\u001b[0m: "
     ]
    }
   ],
   "source": [
    "from torch.optim import Adam\n",
    "import torch\n",
    "from mambapy.mamba import Mamba, MambaConfig\n",
    "\n",
    "\n",
    "class MAMBA(nn.Module):\n",
    "    \"\"\"\n",
    "    Encoder-only transformer with:\n",
    "      - Classification head (using [CLS] token)\n",
    "      - Masked Language Modeling (MLM) head\n",
    "    \"\"\"\n",
    "    def __init__(self, N: int, M: int,\n",
    "                 embed_dim: int = 128,\n",
    "                 vocab_size: int = 256,\n",
    "                 num_layers: int = 2,\n",
    "                 ):\n",
    "        super().__init__()\n",
    "        config = MambaConfig(d_model=embed_dim, n_layers=num_layers)\n",
    "        self.network = Mamba(config)\n",
    "        self.token_embedding = nn.Embedding(vocab_size, embed_dim)\n",
    "        self.classifier = nn.Linear(embed_dim, M)\n",
    "\n",
    "    def forward(self, x):\n",
    "        tok = self.token_embedding(x)  # [B, L, D]\n",
    "        tok = tok.float()\n",
    "        x = self.network(tok)  # [B, L, D]\n",
    "        logits_cls = self.classifier(x)  # [B, M]\n",
    "        logits_cls = logits_cls.mean(dim=1)\n",
    "        return logits_cls\n",
    "\n",
    "\n",
    "classifier = models.Classifier(LENGTH // 4, mapping, \"cuda\", MAMBA, format.to_tetramers)\n",
    "\n",
    "print(\"Fine-tuning:\")\n",
    "model = benchmark(\n",
    "    classifier,\n",
    "    \"Transformer\",\n",
    "    max_epochs=10\n",
    ")\n",
    "matrix = models.confusion_matrix(model, test_data, \"cuda\", mapping)\n",
    "plt.matshow(matrix)\n",
    "plt.show()\n",
    "np.set_printoptions(precision=3, suppress=True, linewidth=500, threshold=np.inf)\n",
    "print(matrix)"
   ]
  },
  {
   "cell_type": "code",
   "execution_count": 3,
   "id": "b9b74d24",
   "metadata": {},
   "outputs": [
    {
     "name": "stdout",
     "output_type": "stream",
     "text": [
      "Fine-tuning:\n",
      "Number of parameters: 147_460\n"
     ]
    },
    {
     "name": "stderr",
     "output_type": "stream",
     "text": [
      "  3%|▎         | 501/17204 [04:33<155:27:00, 33.50s/it]"
     ]
    },
    {
     "name": "stdout",
     "output_type": "stream",
     "text": [
      "P: [0.66977]\n"
     ]
    },
    {
     "name": "stderr",
     "output_type": "stream",
     "text": [
      "  6%|▌         | 1001/17204 [09:03<150:57:55, 33.54s/it]"
     ]
    },
    {
     "name": "stdout",
     "output_type": "stream",
     "text": [
      "P: [0.65597]\n"
     ]
    },
    {
     "name": "stderr",
     "output_type": "stream",
     "text": [
      "  9%|▊         | 1501/17204 [13:33<146:28:18, 33.58s/it]"
     ]
    },
    {
     "name": "stdout",
     "output_type": "stream",
     "text": [
      "P: [0.69378]\n"
     ]
    },
    {
     "name": "stderr",
     "output_type": "stream",
     "text": [
      " 12%|█▏        | 2001/17204 [18:02<141:26:57, 33.49s/it]"
     ]
    },
    {
     "name": "stdout",
     "output_type": "stream",
     "text": [
      "P: [0.7138]\n"
     ]
    },
    {
     "name": "stderr",
     "output_type": "stream",
     "text": [
      " 12%|█▏        | 2047/17204 [18:17<2:15:28,  1.86it/s]  \n"
     ]
    },
    {
     "ename": "KeyboardInterrupt",
     "evalue": "",
     "output_type": "error",
     "traceback": [
      "\u001b[1;31m---------------------------------------------------------------------------\u001b[0m",
      "\u001b[1;31mKeyboardInterrupt\u001b[0m                         Traceback (most recent call last)",
      "Cell \u001b[1;32mIn[3], line 35\u001b[0m\n\u001b[0;32m     32\u001b[0m classifier \u001b[38;5;241m=\u001b[39m models\u001b[38;5;241m.\u001b[39mClassifier(LENGTH \u001b[38;5;241m/\u001b[39m\u001b[38;5;241m/\u001b[39m \u001b[38;5;241m4\u001b[39m, mapping, \u001b[38;5;124m\"\u001b[39m\u001b[38;5;124mcuda\u001b[39m\u001b[38;5;124m\"\u001b[39m, MAMBA, \u001b[38;5;28mformat\u001b[39m\u001b[38;5;241m.\u001b[39mto_tetramers)\n\u001b[0;32m     34\u001b[0m \u001b[38;5;28mprint\u001b[39m(\u001b[38;5;124m\"\u001b[39m\u001b[38;5;124mFine-tuning:\u001b[39m\u001b[38;5;124m\"\u001b[39m)\n\u001b[1;32m---> 35\u001b[0m model \u001b[38;5;241m=\u001b[39m \u001b[43mbenchmark\u001b[49m\u001b[43m(\u001b[49m\n\u001b[0;32m     36\u001b[0m \u001b[43m    \u001b[49m\u001b[43mclassifier\u001b[49m\u001b[43m,\u001b[49m\n\u001b[0;32m     37\u001b[0m \u001b[43m    \u001b[49m\u001b[38;5;124;43m\"\u001b[39;49m\u001b[38;5;124;43mTransformer\u001b[39;49m\u001b[38;5;124;43m\"\u001b[39;49m\u001b[43m,\u001b[49m\n\u001b[0;32m     38\u001b[0m \u001b[43m    \u001b[49m\u001b[43mmax_epochs\u001b[49m\u001b[38;5;241;43m=\u001b[39;49m\u001b[38;5;241;43m10\u001b[39;49m\n\u001b[0;32m     39\u001b[0m \u001b[43m)\u001b[49m\n\u001b[0;32m     40\u001b[0m matrix \u001b[38;5;241m=\u001b[39m models\u001b[38;5;241m.\u001b[39mconfusion_matrix(model, test_data, \u001b[38;5;124m\"\u001b[39m\u001b[38;5;124mcuda\u001b[39m\u001b[38;5;124m\"\u001b[39m, mapping)\n\u001b[0;32m     41\u001b[0m plt\u001b[38;5;241m.\u001b[39mmatshow(matrix)\n",
      "Cell \u001b[1;32mIn[2], line 73\u001b[0m, in \u001b[0;36mbenchmark\u001b[1;34m(classifier, name, max_epochs)\u001b[0m\n\u001b[0;32m     71\u001b[0m     optimizer \u001b[38;5;241m=\u001b[39m \u001b[38;5;28;01mNone\u001b[39;00m\n\u001b[0;32m     72\u001b[0m a \u001b[38;5;241m=\u001b[39m time()\n\u001b[1;32m---> 73\u001b[0m losses, f1, validation_losses \u001b[38;5;241m=\u001b[39m \u001b[43mclassifier\u001b[49m\u001b[38;5;241;43m.\u001b[39;49m\u001b[43mtrain\u001b[49m\u001b[43m(\u001b[49m\n\u001b[0;32m     74\u001b[0m \u001b[43m    \u001b[49m\u001b[43mtrain_data\u001b[49m\u001b[43m,\u001b[49m\n\u001b[0;32m     75\u001b[0m \u001b[43m    \u001b[49m\u001b[43mvalidation_data\u001b[49m\u001b[43m,\u001b[49m\n\u001b[0;32m     76\u001b[0m \u001b[43m    \u001b[49m\u001b[43moptimizer\u001b[49m\u001b[43m,\u001b[49m\n\u001b[0;32m     77\u001b[0m \u001b[43m    \u001b[49m\u001b[43mmax_n_epochs\u001b[49m\u001b[38;5;241;43m=\u001b[39;49m\u001b[43mmax_epochs\u001b[49m\u001b[43m,\u001b[49m\n\u001b[0;32m     78\u001b[0m \u001b[43m    \u001b[49m\u001b[43mpatience\u001b[49m\u001b[38;5;241;43m=\u001b[39;49m\u001b[38;5;241;43m3\u001b[39;49m\u001b[43m,\u001b[49m\n\u001b[0;32m     79\u001b[0m \u001b[43m    \u001b[49m\u001b[43mloss_function\u001b[49m\u001b[38;5;241;43m=\u001b[39;49m\u001b[43mnn\u001b[49m\u001b[38;5;241;43m.\u001b[39;49m\u001b[43mCrossEntropyLoss\u001b[49m\u001b[43m(\u001b[49m\u001b[43m)\u001b[49m\u001b[43m,\u001b[49m\n\u001b[0;32m     80\u001b[0m \u001b[43m    \u001b[49m\u001b[43mloss_function_type\u001b[49m\u001b[38;5;241;43m=\u001b[39;49m\u001b[38;5;124;43m\"\u001b[39;49m\u001b[38;5;124;43msupervised\u001b[39;49m\u001b[38;5;124;43m\"\u001b[39;49m\n\u001b[0;32m     81\u001b[0m \u001b[43m\u001b[49m\u001b[43m)\u001b[49m\n\u001b[0;32m     82\u001b[0m b \u001b[38;5;241m=\u001b[39m time()\n\u001b[0;32m     83\u001b[0m \u001b[38;5;28mprint\u001b[39m(\u001b[38;5;124mf\u001b[39m\u001b[38;5;124m\"\u001b[39m\u001b[38;5;124mTraining took \u001b[39m\u001b[38;5;132;01m{\u001b[39;00m(b\u001b[38;5;250m \u001b[39m\u001b[38;5;241m-\u001b[39m\u001b[38;5;250m \u001b[39ma)\u001b[38;5;132;01m:\u001b[39;00m\u001b[38;5;124m.3f\u001b[39m\u001b[38;5;132;01m}\u001b[39;00m\u001b[38;5;124m s.\u001b[39m\u001b[38;5;124m\"\u001b[39m)\n",
      "File \u001b[1;32mD:\\maitrise\\stelaro\\stelaro\\models\\__init__.py:580\u001b[0m, in \u001b[0;36mClassifier.train\u001b[1;34m(self, train_loader, validate_loader, optimizer, max_n_epochs, patience, loss_function, loss_function_type)\u001b[0m\n\u001b[0;32m    576\u001b[0m loss \u001b[38;5;241m=\u001b[39m \u001b[38;5;28mself\u001b[39m\u001b[38;5;241m.\u001b[39m_compute_loss(\n\u001b[0;32m    577\u001b[0m     x_batch, y_batch, loss_function_type, loss_function\n\u001b[0;32m    578\u001b[0m )\n\u001b[0;32m    579\u001b[0m optimizer\u001b[38;5;241m.\u001b[39mzero_grad()\n\u001b[1;32m--> 580\u001b[0m \u001b[43mloss\u001b[49m\u001b[38;5;241;43m.\u001b[39;49m\u001b[43mbackward\u001b[49m\u001b[43m(\u001b[49m\u001b[43m)\u001b[49m\n\u001b[0;32m    581\u001b[0m optimizer\u001b[38;5;241m.\u001b[39mstep()\n\u001b[0;32m    582\u001b[0m losses[\u001b[38;5;241m-\u001b[39m\u001b[38;5;241m1\u001b[39m] \u001b[38;5;241m+\u001b[39m\u001b[38;5;241m=\u001b[39m loss\u001b[38;5;241m.\u001b[39mitem()\n",
      "File \u001b[1;32md:\\maitrise\\stelaro\\venv\\Lib\\site-packages\\torch\\_tensor.py:648\u001b[0m, in \u001b[0;36mTensor.backward\u001b[1;34m(self, gradient, retain_graph, create_graph, inputs)\u001b[0m\n\u001b[0;32m    638\u001b[0m \u001b[38;5;28;01mif\u001b[39;00m has_torch_function_unary(\u001b[38;5;28mself\u001b[39m):\n\u001b[0;32m    639\u001b[0m     \u001b[38;5;28;01mreturn\u001b[39;00m handle_torch_function(\n\u001b[0;32m    640\u001b[0m         Tensor\u001b[38;5;241m.\u001b[39mbackward,\n\u001b[0;32m    641\u001b[0m         (\u001b[38;5;28mself\u001b[39m,),\n\u001b[1;32m   (...)\u001b[0m\n\u001b[0;32m    646\u001b[0m         inputs\u001b[38;5;241m=\u001b[39minputs,\n\u001b[0;32m    647\u001b[0m     )\n\u001b[1;32m--> 648\u001b[0m \u001b[43mtorch\u001b[49m\u001b[38;5;241;43m.\u001b[39;49m\u001b[43mautograd\u001b[49m\u001b[38;5;241;43m.\u001b[39;49m\u001b[43mbackward\u001b[49m\u001b[43m(\u001b[49m\n\u001b[0;32m    649\u001b[0m \u001b[43m    \u001b[49m\u001b[38;5;28;43mself\u001b[39;49m\u001b[43m,\u001b[49m\u001b[43m \u001b[49m\u001b[43mgradient\u001b[49m\u001b[43m,\u001b[49m\u001b[43m \u001b[49m\u001b[43mretain_graph\u001b[49m\u001b[43m,\u001b[49m\u001b[43m \u001b[49m\u001b[43mcreate_graph\u001b[49m\u001b[43m,\u001b[49m\u001b[43m \u001b[49m\u001b[43minputs\u001b[49m\u001b[38;5;241;43m=\u001b[39;49m\u001b[43minputs\u001b[49m\n\u001b[0;32m    650\u001b[0m \u001b[43m\u001b[49m\u001b[43m)\u001b[49m\n",
      "File \u001b[1;32md:\\maitrise\\stelaro\\venv\\Lib\\site-packages\\torch\\autograd\\__init__.py:353\u001b[0m, in \u001b[0;36mbackward\u001b[1;34m(tensors, grad_tensors, retain_graph, create_graph, grad_variables, inputs)\u001b[0m\n\u001b[0;32m    348\u001b[0m     retain_graph \u001b[38;5;241m=\u001b[39m create_graph\n\u001b[0;32m    350\u001b[0m \u001b[38;5;66;03m# The reason we repeat the same comment below is that\u001b[39;00m\n\u001b[0;32m    351\u001b[0m \u001b[38;5;66;03m# some Python versions print out the first line of a multi-line function\u001b[39;00m\n\u001b[0;32m    352\u001b[0m \u001b[38;5;66;03m# calls in the traceback and some print out the last line\u001b[39;00m\n\u001b[1;32m--> 353\u001b[0m \u001b[43m_engine_run_backward\u001b[49m\u001b[43m(\u001b[49m\n\u001b[0;32m    354\u001b[0m \u001b[43m    \u001b[49m\u001b[43mtensors\u001b[49m\u001b[43m,\u001b[49m\n\u001b[0;32m    355\u001b[0m \u001b[43m    \u001b[49m\u001b[43mgrad_tensors_\u001b[49m\u001b[43m,\u001b[49m\n\u001b[0;32m    356\u001b[0m \u001b[43m    \u001b[49m\u001b[43mretain_graph\u001b[49m\u001b[43m,\u001b[49m\n\u001b[0;32m    357\u001b[0m \u001b[43m    \u001b[49m\u001b[43mcreate_graph\u001b[49m\u001b[43m,\u001b[49m\n\u001b[0;32m    358\u001b[0m \u001b[43m    \u001b[49m\u001b[43minputs\u001b[49m\u001b[43m,\u001b[49m\n\u001b[0;32m    359\u001b[0m \u001b[43m    \u001b[49m\u001b[43mallow_unreachable\u001b[49m\u001b[38;5;241;43m=\u001b[39;49m\u001b[38;5;28;43;01mTrue\u001b[39;49;00m\u001b[43m,\u001b[49m\n\u001b[0;32m    360\u001b[0m \u001b[43m    \u001b[49m\u001b[43maccumulate_grad\u001b[49m\u001b[38;5;241;43m=\u001b[39;49m\u001b[38;5;28;43;01mTrue\u001b[39;49;00m\u001b[43m,\u001b[49m\n\u001b[0;32m    361\u001b[0m \u001b[43m\u001b[49m\u001b[43m)\u001b[49m\n",
      "File \u001b[1;32md:\\maitrise\\stelaro\\venv\\Lib\\site-packages\\torch\\autograd\\graph.py:824\u001b[0m, in \u001b[0;36m_engine_run_backward\u001b[1;34m(t_outputs, *args, **kwargs)\u001b[0m\n\u001b[0;32m    822\u001b[0m     unregister_hooks \u001b[38;5;241m=\u001b[39m _register_logging_hooks_on_whole_graph(t_outputs)\n\u001b[0;32m    823\u001b[0m \u001b[38;5;28;01mtry\u001b[39;00m:\n\u001b[1;32m--> 824\u001b[0m     \u001b[38;5;28;01mreturn\u001b[39;00m \u001b[43mVariable\u001b[49m\u001b[38;5;241;43m.\u001b[39;49m\u001b[43m_execution_engine\u001b[49m\u001b[38;5;241;43m.\u001b[39;49m\u001b[43mrun_backward\u001b[49m\u001b[43m(\u001b[49m\u001b[43m  \u001b[49m\u001b[38;5;66;43;03m# Calls into the C++ engine to run the backward pass\u001b[39;49;00m\n\u001b[0;32m    825\u001b[0m \u001b[43m        \u001b[49m\u001b[43mt_outputs\u001b[49m\u001b[43m,\u001b[49m\u001b[43m \u001b[49m\u001b[38;5;241;43m*\u001b[39;49m\u001b[43margs\u001b[49m\u001b[43m,\u001b[49m\u001b[43m \u001b[49m\u001b[38;5;241;43m*\u001b[39;49m\u001b[38;5;241;43m*\u001b[39;49m\u001b[43mkwargs\u001b[49m\n\u001b[0;32m    826\u001b[0m \u001b[43m    \u001b[49m\u001b[43m)\u001b[49m  \u001b[38;5;66;03m# Calls into the C++ engine to run the backward pass\u001b[39;00m\n\u001b[0;32m    827\u001b[0m \u001b[38;5;28;01mfinally\u001b[39;00m:\n\u001b[0;32m    828\u001b[0m     \u001b[38;5;28;01mif\u001b[39;00m attach_logging_hooks:\n",
      "\u001b[1;31mKeyboardInterrupt\u001b[0m: "
     ]
    }
   ],
   "source": [
    "from torch.optim import Adam\n",
    "import torch\n",
    "from mambapy.mamba import Mamba, MambaConfig\n",
    "\n",
    "\n",
    "class MAMBA(nn.Module):\n",
    "    \"\"\"\n",
    "    Encoder-only transformer with:\n",
    "      - Classification head (using [CLS] token)\n",
    "      - Masked Language Modeling (MLM) head\n",
    "    \"\"\"\n",
    "    def __init__(self, N: int, M: int,\n",
    "                 embed_dim: int = 64,\n",
    "                 vocab_size: int = 256,\n",
    "                 num_layers: int = 4,\n",
    "                 ):\n",
    "        super().__init__()\n",
    "        config = MambaConfig(d_model=embed_dim, n_layers=num_layers)\n",
    "        self.network = Mamba(config)\n",
    "        self.token_embedding = nn.Embedding(vocab_size, embed_dim)\n",
    "        self.classifier = nn.Linear(embed_dim, M)\n",
    "\n",
    "    def forward(self, x):\n",
    "        tok = self.token_embedding(x)  # [B, L, D]\n",
    "        tok = tok.float()\n",
    "        x = self.network(tok)  # [B, L, D]\n",
    "        logits_cls = self.classifier(x)  # [B, M]\n",
    "        logits_cls = logits_cls.mean(dim=1)\n",
    "        return logits_cls\n",
    "\n",
    "\n",
    "classifier = models.Classifier(LENGTH // 4, mapping, \"cuda\", MAMBA, format.to_tetramers)\n",
    "\n",
    "print(\"Fine-tuning:\")\n",
    "model = benchmark(\n",
    "    classifier,\n",
    "    \"Transformer\",\n",
    "    max_epochs=10\n",
    ")\n",
    "matrix = models.confusion_matrix(model, test_data, \"cuda\", mapping)\n",
    "plt.matshow(matrix)\n",
    "plt.show()\n",
    "np.set_printoptions(precision=3, suppress=True, linewidth=500, threshold=np.inf)\n",
    "print(matrix)"
   ]
  }
 ],
 "metadata": {
  "kernelspec": {
   "display_name": "venv (3.11.2)",
   "language": "python",
   "name": "python3"
  },
  "language_info": {
   "codemirror_mode": {
    "name": "ipython",
    "version": 3
   },
   "file_extension": ".py",
   "mimetype": "text/x-python",
   "name": "python",
   "nbconvert_exporter": "python",
   "pygments_lexer": "ipython3",
   "version": "3.11.2"
  }
 },
 "nbformat": 4,
 "nbformat_minor": 5
}
