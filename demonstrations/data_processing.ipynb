{
 "cells": [
  {
   "cell_type": "markdown",
   "id": "09999163",
   "metadata": {},
   "source": [
    "# Data Processing\n",
    "\n",
    "This notebook demonstrates how preprocessing metagenomic data may aid their classification."
   ]
  },
  {
   "cell_type": "code",
   "execution_count": 1,
   "id": "84ad3975",
   "metadata": {},
   "outputs": [],
   "source": [
    "import os\n",
    "import json\n",
    "from stelaro.data import format, ncbi, synthetic\n",
    "import numpy as np\n",
    "import random\n",
    "\n",
    "DATA_DIRECTORY = \"../data/\"\n",
    "SUMMARY_DIRECTORY = DATA_DIRECTORY + \"ncbi_genome_summaries/\"\n",
    "NCBI_TAXONOMY_DIRECTORY = DATA_DIRECTORY + \"ncbi_taxonomy/\"\n",
    "BERTAX_DIRECTORY = DATA_DIRECTORY + \"bertax/final/\"\n",
    "BERTAX_DATASET_DIRECTORY = BERTAX_DIRECTORY + \"final_model_data_seperate_fasta_per_superkingdom/data/fass2/projects/fk_read_classification/dna_sequences/fragments/genomic_fragments_80_big/\"\n",
    "BERTAX_DOMAINS = (\n",
    "    \"Archaea_db.fa\",\n",
    "    \"Bacteria_db.fa\",\n",
    "    \"Eukaryota_db.fa\",\n",
    "    \"Viruses_db.fa\",\n",
    ")\n",
    "BERTAX_STATISTIC_DIRECTORY = BERTAX_DIRECTORY + \"statistics/\"\n",
    "SEQUENCE_LENGTH = 1500\n",
    "N_MINIMUM_READS_PER_TAXON = 10_000\n",
    "\n",
    "\n",
    "def mkdir(path: str) -> None:\n",
    "    \"\"\"Create a directory if it does not exist.\"\"\"\n",
    "    if not os.path.exists(path):\n",
    "        os.makedirs(path)\n",
    "\n",
    "\n",
    "mkdir(BERTAX_STATISTIC_DIRECTORY)"
   ]
  },
  {
   "cell_type": "markdown",
   "id": "1084732c",
   "metadata": {},
   "source": [
    "## 1. Dataset Analysis"
   ]
  },
  {
   "cell_type": "markdown",
   "id": "5474d743",
   "metadata": {},
   "source": [
    "### 1.1. Obtain Taxa"
   ]
  },
  {
   "cell_type": "code",
   "execution_count": 6,
   "id": "4a366458",
   "metadata": {},
   "outputs": [
    {
     "name": "stdout",
     "output_type": "stream",
     "text": [
      "Taxon 1740162 is nameless.\n",
      "Taxon 1588685 is nameless.\n",
      "Taxon 1980519 is nameless.\n",
      "Taxon 1986224 is nameless.\n",
      "Taxon 1535802 is nameless.\n",
      "Taxon 55097 is nameless.\n",
      "Taxon 1980494 is nameless.\n",
      "Taxon 11623 is nameless.\n",
      "Taxon 2487073 is nameless.\n",
      "Taxon 35310 is nameless.\n",
      "Taxon 1759437 is nameless.\n",
      "Taxon 35306 is nameless.\n",
      "Taxon 743685 is nameless.\n",
      "Taxon 85643 is nameless.\n",
      "Taxon 2169992 is nameless.\n",
      "Taxon 11191 is nameless.\n",
      "Taxon 2546450 is nameless.\n",
      "Taxon 1979163 is nameless.\n",
      "Taxon 1979166 is nameless.\n",
      "Taxon 122203 is nameless.\n",
      "Taxon 740710 is nameless.\n",
      "Taxon 623144 is nameless.\n",
      "Taxon 12332 is nameless.\n",
      "Taxon 62928 is nameless.\n",
      "Taxon 1547445 is nameless.\n",
      "Taxon 63330 is nameless.\n",
      "Taxon 218387 is nameless.\n",
      "Taxon 42764 is nameless.\n",
      "Taxon 319236 is nameless.\n",
      "Taxon 287094 is nameless.\n",
      "Taxon 1673076 is nameless.\n",
      "Taxon 55096 is nameless.\n",
      "Taxon 35302 is nameless.\n",
      "Taxon 262071 is nameless.\n",
      "Taxon 220622 is nameless.\n",
      "Taxon 207246 is nameless.\n",
      "Taxon 1637841 is nameless.\n",
      "Taxon 1980486 is nameless.\n",
      "Taxon 11232 is nameless.\n",
      "Taxon 1660064 is nameless.\n",
      "Taxon 2213057 is nameless.\n",
      "Taxon 2049935 is nameless.\n",
      "Taxon 208899 is nameless.\n",
      "Taxon 1660074 is nameless.\n",
      "Taxon 11269 is nameless.\n",
      "Taxon 2169996 is nameless.\n",
      "Taxon 1827146 is nameless.\n",
      "Taxon 1980464 is nameless.\n",
      "Taxon 1570328 is nameless.\n",
      "Taxon 1490026 is nameless.\n",
      "Taxon 2169994 is nameless.\n",
      "Taxon 1980467 is nameless.\n",
      "Taxon 1385592 is nameless.\n",
      "Taxon 45219 is nameless.\n",
      "Taxon 640511 is nameless.\n",
      "Taxon 1980521 is nameless.\n",
      "Taxon 1980491 is nameless.\n",
      "Taxon 1182571 is nameless.\n",
      "Taxon 11631 is nameless.\n",
      "Taxon 303300 is nameless.\n",
      "Taxon 883876 is nameless.\n",
      "Taxon 335659 is nameless.\n",
      "Taxon 580247 is nameless.\n",
      "Taxon 1980463 is nameless.\n",
      "Taxon 1751715 is nameless.\n",
      "Taxon 671223 is nameless.\n",
      "Taxon 559189 is nameless.\n",
      "Taxon 340435 is nameless.\n",
      "Taxon 1978339 is nameless.\n",
      "Taxon 2044517 is nameless.\n",
      "Taxon 1114980 is nameless.\n",
      "Taxon 31604 is nameless.\n",
      "Taxon 1979162 is nameless.\n",
      "Taxon 1642458 is nameless.\n",
      "Taxon 649188 is nameless.\n",
      "Taxon 53179 is nameless.\n",
      "Taxon 1980490 is nameless.\n",
      "Taxon 12331 is nameless.\n",
      "Taxon 621376 is nameless.\n",
      "Taxon 622416 is nameless.\n",
      "Taxon 758796 is nameless.\n",
      "Taxon 121791 is nameless.\n",
      "Taxon 157619 is nameless.\n",
      "Taxon 1305716 is nameless.\n",
      "Taxon 1109743 is nameless.\n",
      "Taxon 1500843 is nameless.\n",
      "Taxon 861208 is nameless.\n",
      "Taxon 1642436 is nameless.\n",
      "Taxon 90270 is nameless.\n",
      "Taxon 237610 is nameless.\n",
      "Taxon 11620 is nameless.\n",
      "Taxon 1979165 is nameless.\n",
      "Taxon 1979160 is nameless.\n",
      "Taxon 2202142 is nameless.\n",
      "Taxon 1415630 is nameless.\n",
      "Taxon 45220 is nameless.\n",
      "Taxon 49891 is nameless.\n",
      "Taxon 1933298 is nameless.\n",
      "Taxon 45221 is nameless.\n",
      "Taxon 11215 is nameless.\n",
      "Taxon 1980481 is nameless.\n",
      "Taxon 1980520 is nameless.\n",
      "Taxon 1211643 is nameless.\n",
      "Taxon 1513237 is nameless.\n",
      "Taxon 1156433 is nameless.\n",
      "Taxon 1804984 is nameless.\n",
      "Taxon 66266 is nameless.\n",
      "Taxon 1980475 is nameless.\n",
      "Taxon 2478912 is nameless.\n",
      "Taxon 2169993 is nameless.\n",
      "Taxon 1849491 is nameless.\n",
      "Taxon 1204252 is nameless.\n",
      "Taxon 1980612 is nameless.\n",
      "Taxon 1547899 is nameless.\n",
      "Taxon 386490 is nameless.\n",
      "Taxon 1653479 is nameless.\n",
      "Taxon 11628 is nameless.\n",
      "Taxon 1301032 is nameless.\n",
      "Taxon 2528243 is nameless.\n",
      "Taxon 1357321 is nameless.\n",
      "Taxon 45223 is nameless.\n",
      "Taxon 1546149 is nameless.\n",
      "Taxon 1980489 is nameless.\n",
      "Taxon 68570 is nameless.\n",
      "Taxon 2487071 is nameless.\n",
      "Taxon 499556 is nameless.\n",
      "Taxon 192848 is nameless.\n",
      "Taxon 46919 is nameless.\n",
      "Taxon 2169402 is nameless.\n",
      "Taxon 82076 is nameless.\n",
      "Taxon 656024 is nameless.\n",
      "Taxon 1980527 is nameless.\n",
      "Taxon 1980471 is nameless.\n",
      "Taxon 1980539 is nameless.\n",
      "Taxon 1933300 is nameless.\n",
      "Taxon 741091 is nameless.\n",
      "Taxon 1740163 is nameless.\n",
      "Taxon 1561226 is nameless.\n",
      "Taxon 2052837 is nameless.\n",
      "Taxon 239365 is nameless.\n",
      "535107 / 535153\n",
      "1884413 / 1903183\n",
      "2679821 / 2707781\n",
      "251758 / 253803\n"
     ]
    }
   ],
   "source": [
    "tax_ids = set()\n",
    "for domain in BERTAX_DOMAINS:\n",
    "    with open(BERTAX_DATASET_DIRECTORY + domain, \"r\") as f:\n",
    "        for line in f:\n",
    "            if line.startswith(\">\"):\n",
    "                tax_id = line.strip()\n",
    "                tax_id = tax_id.replace(\">\", \"\")\n",
    "                tax_id = tax_id.split(\" \")[0]\n",
    "                tax_ids.add(tax_id)\n",
    "\n",
    "parents, ranks = ncbi.get_all_taxonomy_parents(\n",
    "    NCBI_TAXONOMY_DIRECTORY + \"nodes.dmp\",\n",
    "    NCBI_TAXONOMY_DIRECTORY + \"merged.dmp\",\n",
    ")\n",
    "names = ncbi.taxid_to_names(NCBI_TAXONOMY_DIRECTORY + \"names.dmp\", set(parents.keys()))\n",
    "lineages = ncbi.resolve_taxonomy(parents, ranks, tax_ids, names)\n",
    "\n",
    "\n",
    "def get_level_0(tax_id):\n",
    "    if tax_id not in lineages:\n",
    "        print(tax_id)\n",
    "        return None\n",
    "    for level in lineages[tax_id]:\n",
    "        if level[-1] == \"domain\":\n",
    "            return level[1]\n",
    "    for level in lineages[tax_id]:\n",
    "        if level[-1] == \"realm\":\n",
    "            return \"Viruses\"\n",
    "    return None\n",
    "\n",
    "\n",
    "def get_level_1(tax_id):\n",
    "    if tax_id not in lineages:\n",
    "        print(tax_id)\n",
    "        return None\n",
    "    for level in lineages[tax_id]:\n",
    "        if level[-1] == \"phylum\":\n",
    "            return level[1]\n",
    "    return None\n",
    "\n",
    "\n",
    "def get_taxon(line):\n",
    "    tax_id = line.strip()\n",
    "    tax_id = tax_id.replace(\">\", \"\")\n",
    "    tax_id = tax_id.split(\" \")[0]\n",
    "    domain = get_level_0(tax_id)\n",
    "    phylum = get_level_1(tax_id)\n",
    "    if domain and phylum:\n",
    "        current_taxon = (domain, phylum)\n",
    "    else:\n",
    "        current_taxon = None\n",
    "    return current_taxon\n",
    "\n",
    "\n",
    "def get_mappings(file: str) -> dict:\n",
    "    taxa = {}\n",
    "    total = 0\n",
    "    retained = 0\n",
    "    current_taxon = None\n",
    "    with open(file, \"r\") as f:\n",
    "        for line in f:\n",
    "            if line.startswith(\">\"):\n",
    "                total += 1\n",
    "                current_taxon = get_taxon(line)\n",
    "            elif current_taxon:\n",
    "                sequence = line.strip().upper()\n",
    "                characters = set(sequence)\n",
    "                if len(characters) == 4:\n",
    "                    retained += 1\n",
    "                    if current_taxon in taxa:\n",
    "                        taxa[current_taxon] += 1\n",
    "                    else:\n",
    "                        taxa[current_taxon] = 1\n",
    "    print(f\"{retained} / {total}\")\n",
    "    return taxa\n",
    "\n",
    "taxa = {}\n",
    "for domain in BERTAX_DOMAINS:\n",
    "    taxa |= get_mappings(BERTAX_DATASET_DIRECTORY + domain)"
   ]
  },
  {
   "cell_type": "code",
   "execution_count": 7,
   "id": "0c5bcb83",
   "metadata": {},
   "outputs": [
    {
     "name": "stdout",
     "output_type": "stream",
     "text": [
      "('Archaea', 'Thermoproteota') 121632\n",
      "('Archaea', 'Methanobacteriota') 312457\n",
      "('Archaea', 'Nitrososphaerota') 59890\n",
      "('Archaea', 'Thermoplasmatota') 41128\n",
      "('Bacteria', 'Pseudomonadota') 576465\n",
      "('Bacteria', 'Bacillota') 175591\n",
      "('Bacteria', 'Bdellovibrionota') 34491\n",
      "('Bacteria', 'Thermodesulfobacteriota') 56957\n",
      "('Bacteria', 'Actinomycetota') 324374\n",
      "('Bacteria', 'Campylobacterota') 28549\n",
      "('Bacteria', 'Cyanobacteriota') 71022\n",
      "('Bacteria', 'Fusobacteriota') 16581\n",
      "('Bacteria', 'Chloroflexota') 59196\n",
      "('Bacteria', 'Aquificota') 10525\n",
      "('Bacteria', 'Bacteroidota') 123146\n",
      "('Bacteria', 'Verrucomicrobiota') 26406\n",
      "('Bacteria', 'Deinococcota') 29335\n",
      "('Bacteria', 'Chlamydiota') 22473\n",
      "('Bacteria', 'Lentisphaerota') 10942\n",
      "('Bacteria', 'Mycoplasmatota') 47952\n",
      "('Bacteria', 'Planctomycetota') 74762\n",
      "('Bacteria', 'Chlorobiota') 13792\n",
      "('Bacteria', 'Nitrospirota') 16852\n",
      "('Bacteria', 'Spirochaetota') 36380\n",
      "('Bacteria', 'Thermotogota') 32696\n",
      "('Bacteria', 'Gemmatimonadota') 13353\n",
      "('Bacteria', 'Elusimicrobiota') dropped (7444)\n",
      "('Bacteria', 'Synergistota') dropped (9791)\n",
      "('Bacteria', 'Acidobacteriota') dropped (9484)\n",
      "('Bacteria', 'Deferribacterota') dropped (9166)\n",
      "('Bacteria', 'Myxococcota') 21961\n",
      "('Bacteria', 'Rhodothermota') 13160\n",
      "('Bacteria', 'Kiritimatiellota') dropped (9354)\n",
      "('Bacteria', 'Thermodesulfobiota') dropped (2213)\n",
      "('Eukaryota', 'Chordata') 1280886\n",
      "('Eukaryota', 'Streptophyta') 625913\n",
      "('Eukaryota', 'Evosea') 21456\n",
      "('Eukaryota', 'Nematoda') 28161\n",
      "('Eukaryota', 'Ascomycota') 205272\n",
      "('Eukaryota', 'Apicomplexa') 77703\n",
      "('Eukaryota', 'Bacillariophyta') 41400\n",
      "('Eukaryota', 'Platyhelminthes') 27662\n",
      "('Eukaryota', 'Arthropoda') 144519\n",
      "('Eukaryota', 'Basidiomycota') 60635\n",
      "('Eukaryota', 'Chlorophyta') 24785\n",
      "('Eukaryota', 'Mollusca') 87372\n",
      "('Eukaryota', 'Rhodophyta') 18269\n",
      "('Eukaryota', 'Ciliophora') dropped (8937)\n",
      "('Eukaryota', 'Euglenozoa') 26851\n",
      "('Viruses', 'Artverviricota') 21632\n",
      "('Viruses', 'Negarnaviricota') 39710\n",
      "('Viruses', 'Taleaviricota') 25148\n",
      "('Viruses', 'Uroviricota') 57685\n",
      "('Viruses', 'Pisuviricota') 47118\n",
      "('Viruses', 'Peploviricota') 37411\n",
      "('Viruses', 'Kitrinoviricota') 23007\n",
      "('Viruses', 'Preplasmiviricota') dropped (47)\n",
      "5294663 / 5351099 reads (56436 dropped). 49 taxa.\n"
     ]
    }
   ],
   "source": [
    "total = 0\n",
    "n_sequences = 0\n",
    "n_taxa = 0\n",
    "retained = []\n",
    "for t, n in taxa.items():\n",
    "    total += n\n",
    "    if n >= N_MINIMUM_READS_PER_TAXON:\n",
    "        print(t, n)\n",
    "        n_sequences += n\n",
    "        n_taxa += 1\n",
    "        retained.append(t)\n",
    "    else:\n",
    "        print(f\"{t} dropped ({n})\")\n",
    "delta = total - n_sequences\n",
    "print(f\"{n_sequences} / {total} reads ({delta} dropped). {n_taxa} taxa.\")\n",
    "\n",
    "mappings = {}\n",
    "for i, taxon in enumerate(sorted(retained)):\n",
    "    mappings[str(i)] = taxon\n",
    "with open(BERTAX_STATISTIC_DIRECTORY + \"map.json\", \"w\") as f:\n",
    "    json.dump(mappings, f, indent=4)\n",
    "\n",
    "reversed_map = {v: k for k, v in mappings.items()}"
   ]
  },
  {
   "cell_type": "code",
   "execution_count": 8,
   "id": "81720d6a",
   "metadata": {},
   "outputs": [
    {
     "name": "stdout",
     "output_type": "stream",
     "text": [
      "Expected 5294663, read 5294663. Difference: 0.\n"
     ]
    }
   ],
   "source": [
    "y = np.zeros(n_sequences, dtype=np.uint16)\n",
    "i = 0\n",
    "\n",
    "for domain in BERTAX_DOMAINS:\n",
    "    with open(BERTAX_DATASET_DIRECTORY + domain, \"r\") as f:\n",
    "        current_taxon = None\n",
    "        for line in f:\n",
    "            if line.startswith(\">\"):\n",
    "                total += 1\n",
    "                current_taxon = get_taxon(line)\n",
    "            elif current_taxon in reversed_map:\n",
    "                taxon_index = reversed_map[current_taxon]\n",
    "                sequence = line.strip().upper()\n",
    "                characters = set(sequence)\n",
    "                if len(characters) == 4:\n",
    "                    y[i] = taxon_index\n",
    "                    i += 1\n",
    "\n",
    "print(f\"Expected {n_sequences}, read {i}. Difference: {n_sequences - i}.\")\n",
    "\n",
    "np.save(BERTAX_STATISTIC_DIRECTORY + \"y.npy\", y)"
   ]
  },
  {
   "cell_type": "code",
   "execution_count": 9,
   "id": "65c43889",
   "metadata": {},
   "outputs": [
    {
     "name": "stdout",
     "output_type": "stream",
     "text": [
      "[ 312457   59890   41128  121632  324374   10525  175591  123146   34491\n",
      "   28549   22473   13792   59196   71022   29335   16581   13353   10942\n",
      "   47952   21961   16852   74762  576465   13160   36380   56957   32696\n",
      "   26406   77703  144519  205272   41400   60635   24785 1280886   26851\n",
      "   21456   87372   28161   27662   18269  625913   21632   23007   39710\n",
      "   37411   47118   25148   57685]\n",
      "Total N reads: 5294663\n",
      "Minimum N reads: 10525 - Maximum N reads: 1280886\n"
     ]
    },
    {
     "data": {
      "image/png": "[encoded data removed]",
      "text/plain": [
       "<Figure size 640x480 with 1 Axes>"
      ]
     },
     "metadata": {},
     "output_type": "display_data"
    }
   ],
   "source": [
    "counts = np.bincount(y)\n",
    "print(counts)\n",
    "print(f\"Total N reads: {sum(counts)}\")\n",
    "print(f\"Minimum N reads: {min(counts)} - Maximum N reads: {max(counts)}\")\n",
    "\n",
    "import matplotlib.pyplot as plt\n",
    "plt.bar(list(range(len(counts))), counts)\n",
    "plt.xlabel(\"Taxon Identifier\")\n",
    "plt.ylabel(\"Number of Reads\")\n",
    "plt.title(\"Read Count by Taxon\")\n",
    "plt.show()"
   ]
  },
  {
   "cell_type": "markdown",
   "id": "98d40899",
   "metadata": {},
   "source": [
    "### 1.2. Create Distinct Sets"
   ]
  },
  {
   "cell_type": "code",
   "execution_count": 11,
   "id": "389d674c",
   "metadata": {},
   "outputs": [],
   "source": [
    "y = np.load(BERTAX_STATISTIC_DIRECTORY + \"y.npy\")\n",
    "N = y.shape[0]\n",
    "\n",
    "with open(BERTAX_STATISTIC_DIRECTORY + \"map.json\", \"r\") as f:\n",
    "    mappings = json.load(f)\n",
    "reversed_map = {tuple(v): k for k, v in mappings.items()}"
   ]
  },
  {
   "cell_type": "code",
   "execution_count": 18,
   "id": "943f9dfb",
   "metadata": {},
   "outputs": [],
   "source": [
    "random.seed(7)\n",
    "\n",
    "\n",
    "def plan_datasets(test_minimum: int, train_maximum: int, validation_fraction: float) -> tuple:\n",
    "    \"\"\"Split read IDs into test, train, and validation sets.\n",
    "\n",
    "    Args:\n",
    "        test_minimum: Minimum number of reads in each taxon for the test set.\n",
    "        train_maximum: Maximum number of reads per taxon in the train set.\n",
    "        validation_fraction: Fraction of training reads to use for validation.\n",
    "    \"\"\"\n",
    "    taxon_to_read_IDs = {k: [] for k in mappings}\n",
    "    i = 0\n",
    "    # Find identifiers\n",
    "    for domain in BERTAX_DOMAINS:\n",
    "        with open(BERTAX_DATASET_DIRECTORY + domain, \"r\") as f:\n",
    "            current_taxon = None\n",
    "            for line in f:\n",
    "                if line.startswith(\">\"):\n",
    "                    current_taxon = get_taxon(line)\n",
    "                elif current_taxon in reversed_map:\n",
    "                    taxon_index = reversed_map[current_taxon]\n",
    "                    sequence = line.strip().upper()\n",
    "                    characters = set(sequence)\n",
    "                    if len(characters) == 4:\n",
    "                        taxon_to_read_IDs[taxon_index].append(i)\n",
    "                        i += 1\n",
    "    # Select test and train data\n",
    "    train = {k: [] for k in mappings}\n",
    "    validation = {k: [] for k in mappings}\n",
    "    test = {k: [] for k in mappings}\n",
    "    for taxon in taxon_to_read_IDs:\n",
    "        random.shuffle(taxon_to_read_IDs[taxon])\n",
    "        test[taxon] = taxon_to_read_IDs[taxon][:test_minimum]\n",
    "        train_data = taxon_to_read_IDs[taxon][test_minimum:train_maximum + test_minimum]\n",
    "        cutoff = int(len(train_data) * validation_fraction)\n",
    "        train[taxon] = train_data[cutoff:]\n",
    "        validation[taxon] = train_data[:cutoff]\n",
    "    return train, validation, test"
   ]
  },
  {
   "cell_type": "code",
   "execution_count": null,
   "id": "90fabc4f",
   "metadata": {},
   "outputs": [],
   "source": [
    "M = SEQUENCE_LENGTH // 4  # Encode on tetramers to save memory.\n",
    "datasets = plan_datasets(2000, 30_000, 0.05)\n",
    "\n",
    "for dataset, name in zip(datasets, (\"train\", \"validation\", \"test\")):\n",
    "    mkdir(BERTAX_DIRECTORY + name + \"/\")\n",
    "    elements = set()\n",
    "    for taxon in dataset:\n",
    "        elements.update(dataset[taxon])\n",
    "    N = len(elements)\n",
    "    x = np.zeros((N, M), dtype=np.uint8)\n",
    "    y = np.zeros(N, dtype=np.uint16)\n",
    "    i = 0\n",
    "    local_i = 0\n",
    "    for domain in BERTAX_DOMAINS:\n",
    "        with open(BERTAX_DATASET_DIRECTORY + domain, \"r\") as f:\n",
    "            current_taxon = None\n",
    "            for line in f:\n",
    "                if line.startswith(\">\"):\n",
    "                    total += 1\n",
    "                    tax_id = line.strip()\n",
    "                    tax_id = tax_id.replace(\">\", \"\")\n",
    "                    tax_id = tax_id.split(\" \")[0]\n",
    "                    domain = get_level_0(tax_id)\n",
    "                    phylum = get_level_1(tax_id)\n",
    "                    if domain and phylum:\n",
    "                        current_taxon = (domain, phylum)\n",
    "                    else:\n",
    "                        current_taxon = None\n",
    "                elif current_taxon in reversed_map:\n",
    "                    taxon_index = reversed_map[current_taxon]\n",
    "                    sequence = line.strip().upper()\n",
    "                    characters = set(sequence)\n",
    "                    if len(characters) == 4:\n",
    "                        if i in elements:\n",
    "                            encoding = format.encode_tetramer(sequence)\n",
    "                            x[local_i] = encoding\n",
    "                            y[local_i] = taxon_index\n",
    "                            local_i += 1\n",
    "                        i += 1\n",
    "    assert local_i == N\n",
    "    np.save(BERTAX_DIRECTORY + name + \"/x.npy\", x)\n",
    "    np.save(BERTAX_DIRECTORY + name + \"/y.npy\", y)"
   ]
  },
  {
   "cell_type": "markdown",
   "id": "6d68f562",
   "metadata": {},
   "source": [
    "## 2. Test Models"
   ]
  },
  {
   "cell_type": "code",
   "execution_count": 2,
   "id": "470ac3c8",
   "metadata": {},
   "outputs": [],
   "source": [
    "BERTAX_TRAIN = BERTAX_DIRECTORY + \"train/\"\n",
    "BERTAX_VALIDATION = BERTAX_DIRECTORY + \"validation/\"\n",
    "BERTAX_TEST = BERTAX_DIRECTORY + \"test/\"\n",
    "\n",
    "import numpy as np\n",
    "from torch import tensor\n",
    "from torch.utils.data import DataLoader, WeightedRandomSampler\n",
    "from torch import bincount\n",
    "import json\n",
    "from torch.optim import Adam\n",
    "import matplotlib.pyplot as plt\n",
    "from time import time\n",
    "from typing import Callable\n",
    "\n",
    "from stelaro.data import format\n",
    "from stelaro import models\n",
    "from stelaro.models import feedforward, autoencoder, transformer, hybrid\n",
    "\n",
    "LENGTH = 1500\n",
    "BATCH_SIZE = 128\n",
    "\n",
    "\n",
    "train_data = DataLoader(\n",
    "    models.SyntheticTetramerDataset(BERTAX_TRAIN),\n",
    "    batch_size=BATCH_SIZE,\n",
    "    shuffle=True\n",
    ")\n",
    "validation_data = DataLoader(\n",
    "    models.SyntheticTetramerDataset(BERTAX_VALIDATION),\n",
    "    batch_size=BATCH_SIZE,\n",
    "    shuffle=True\n",
    ")\n",
    "test_data = DataLoader(\n",
    "    models.SyntheticTetramerDataset(BERTAX_TEST),\n",
    "    batch_size=BATCH_SIZE,\n",
    "    shuffle=True\n",
    ")\n",
    "\n",
    "with open(BERTAX_DIRECTORY + \"statistics/map.json\", \"r\") as f:\n",
    "    mapping = json.load(f)\n",
    "\n",
    "\n",
    "def benchmark(\n",
    "        classifier: models.BaseClassifier,\n",
    "        name: str,\n",
    "        max_epochs: int = 20\n",
    "    ):\n",
    "    parameters = classifier.get_parameters()\n",
    "    if parameters:\n",
    "        optimizer = Adam(classifier.get_parameters(), lr=0.001)\n",
    "        total_params = sum(param.numel() for param in parameters)\n",
    "        print(f\"Number of parameters: {total_params:_}\")\n",
    "    else:\n",
    "        optimizer = None\n",
    "    a = time()\n",
    "    losses, f1, validation_losses = classifier.train(\n",
    "        train_data,\n",
    "        validation_data,\n",
    "        optimizer,\n",
    "        max_n_epochs=max_epochs,\n",
    "        patience=3,\n",
    "    )\n",
    "    b = time()\n",
    "    print(f\"Training took {(b - a):.3f} s.\")\n",
    "    if losses:\n",
    "        fig, ax = plt.subplots(1, 2, figsize=(12, 4))\n",
    "        x = list(range(len(losses)))\n",
    "        ax[0].plot(x, losses, label=\"Training Loss\")\n",
    "        ax[0].plot(x, validation_losses, label=\"Validation Loss\")\n",
    "        ax[0].set(xlabel='Epochs', ylabel='Loss')\n",
    "        ax[0].set_title(\"Loss\")\n",
    "        ax[1].set(xlabel='Epochs', ylabel=\"f1\")\n",
    "        ax[1].set_title(\"F1 Score\")\n",
    "        r = 0\n",
    "        for f in f1:\n",
    "            ax[1].plot(x, f, label=f'Rank {r}')\n",
    "            r += 1\n",
    "        ax[1].legend()\n",
    "        fig.suptitle(f\"Classification Training for {name}\")\n",
    "        plt.show()\n",
    "    result = models.evaluate(classifier, test_data, \"cuda\", mapping)\n",
    "    rounded_result = [float(f\"{r:.5}\") for r in result]\n",
    "    print(f\"Test results: {rounded_result}\")\n",
    "    return classifier"
   ]
  },
  {
   "cell_type": "markdown",
   "id": "325e004d",
   "metadata": {},
   "source": [
    "### 2.1. Baseline"
   ]
  },
  {
   "cell_type": "code",
   "execution_count": 3,
   "id": "e3b1803d",
   "metadata": {},
   "outputs": [
    {
     "name": "stderr",
     "output_type": "stream",
     "text": [
      "100%|██████████| 9196/9196 [00:20<00:00, 448.43it/s]\n"
     ]
    },
    {
     "name": "stdout",
     "output_type": "stream",
     "text": [
      "Training took 20.509 s.\n",
      "Test results: [0.24669, 0.01668]\n"
     ]
    },
    {
     "data": {
      "image/png": "[encoded data removed]",
      "text/plain": [
       "<Figure size 480x480 with 1 Axes>"
      ]
     },
     "metadata": {},
     "output_type": "display_data"
    },
    {
     "name": "stdout",
     "output_type": "stream",
     "text": [
      "[[40. 41. 37. ... 35. 37. 55.]\n",
      " [35. 40. 37. ... 42. 44. 42.]\n",
      " [35. 41. 41. ... 36. 34. 38.]\n",
      " ...\n",
      " [37. 31. 42. ... 40. 38. 44.]\n",
      " [30. 29. 42. ... 36. 37. 45.]\n",
      " [44. 45. 39. ... 45. 38. 50.]]\n"
     ]
    }
   ],
   "source": [
    "model = benchmark(\n",
    "    models.RandomClassifier(),\n",
    "    \"Random Classifier\",\n",
    ")\n",
    "model.n_classes = len(mapping)\n",
    "matrix = models.confusion_matrix(model, test_data, mapping)\n",
    "plt.matshow(matrix)\n",
    "plt.show()\n",
    "np.set_printoptions(precision=3, suppress=True, linewidth=250)\n",
    "print(matrix)"
   ]
  },
  {
   "cell_type": "markdown",
   "id": "f057269c",
   "metadata": {},
   "source": [
    "### 2.2. CNN"
   ]
  },
  {
   "cell_type": "code",
   "execution_count": 3,
   "id": "de95d733",
   "metadata": {},
   "outputs": [
    {
     "name": "stdout",
     "output_type": "stream",
     "text": [
      "Number of parameters: 24_623_505\n"
     ]
    },
    {
     "name": "stderr",
     "output_type": "stream",
     "text": [
      "  0%|          | 0/9196 [00:00<?, ?it/s]\n"
     ]
    },
    {
     "name": "stdout",
     "output_type": "stream",
     "text": [
      "1/5 Loss: 0.03. F1: [0.11584, 0.0020403]. Patience: 3\n"
     ]
    },
    {
     "name": "stderr",
     "output_type": "stream",
     "text": [
      "  0%|          | 0/9196 [00:00<?, ?it/s]\n"
     ]
    },
    {
     "name": "stdout",
     "output_type": "stream",
     "text": [
      "2/5 Loss: 0.04. F1: [0.064258, 0.00063194]. Patience: 2\n"
     ]
    },
    {
     "name": "stderr",
     "output_type": "stream",
     "text": [
      "  0%|          | 0/9196 [00:00<?, ?it/s]\n"
     ]
    },
    {
     "name": "stdout",
     "output_type": "stream",
     "text": [
      "3/5 Loss: 0.03. F1: [0.1553, 0.00095764]. Patience: 1\n"
     ]
    },
    {
     "name": "stderr",
     "output_type": "stream",
     "text": [
      "  0%|          | 0/9196 [00:00<?, ?it/s]\n"
     ]
    },
    {
     "name": "stdout",
     "output_type": "stream",
     "text": [
      "4/5 Loss: 0.03. F1: [0.15533, 0.00095808]. Patience: 0\n",
      "The model is overfitting; stopping early.\n",
      "Training took 25.299 s.\n"
     ]
    },
    {
     "data": {
      "image/png": "[encoded data removed]",
      "text/plain": [
       "<Figure size 1200x400 with 2 Axes>"
      ]
     },
     "metadata": {},
     "output_type": "display_data"
    },
    {
     "name": "stderr",
     "output_type": "stream",
     "text": [
      "d:\\maitrise\\stelaro\\venv\\Lib\\site-packages\\sklearn\\metrics\\_classification.py:98: UserWarning: The number of unique classes is greater than 50% of the number of samples.\n",
      "  type_true = type_of_target(y_true, input_name=\"y_true\")\n",
      "d:\\maitrise\\stelaro\\venv\\Lib\\site-packages\\sklearn\\utils\\multiclass.py:79: UserWarning: The number of unique classes is greater than 50% of the number of samples.\n",
      "  ys_types = set(type_of_target(x) for x in ys)\n",
      "d:\\maitrise\\stelaro\\venv\\Lib\\site-packages\\sklearn\\metrics\\_classification.py:98: UserWarning: The number of unique classes is greater than 50% of the number of samples.\n",
      "  type_true = type_of_target(y_true, input_name=\"y_true\")\n",
      "d:\\maitrise\\stelaro\\venv\\Lib\\site-packages\\sklearn\\utils\\multiclass.py:79: UserWarning: The number of unique classes is greater than 50% of the number of samples.\n",
      "  ys_types = set(type_of_target(x) for x in ys)\n"
     ]
    },
    {
     "name": "stdout",
     "output_type": "stream",
     "text": [
      "Test results: [0.16411, 0.0008102]\n"
     ]
    },
    {
     "data": {
      "image/png": "[encoded data removed]",
      "text/plain": [
       "<Figure size 480x480 with 1 Axes>"
      ]
     },
     "metadata": {},
     "output_type": "display_data"
    },
    {
     "name": "stdout",
     "output_type": "stream",
     "text": [
      "[[0. 0. 0. ... 0. 0. 0.]\n",
      " [0. 0. 0. ... 0. 0. 0.]\n",
      " [0. 0. 0. ... 0. 0. 0.]\n",
      " ...\n",
      " [0. 0. 0. ... 0. 0. 0.]\n",
      " [0. 0. 0. ... 0. 0. 0.]\n",
      " [0. 0. 0. ... 0. 0. 0.]]\n"
     ]
    }
   ],
   "source": [
    "from torch.nn import (Module, Conv1d, ReLU, Sequential, Flatten, Linear,\n",
    "                      CrossEntropyLoss, Dropout, MaxPool1d)\n",
    "from torch import stack, tensor, float32, argmax\n",
    "from torch.func import vmap\n",
    "import torch.nn.functional as F\n",
    "\n",
    "\n",
    "class CNN_2_dropout_token(Module):\n",
    "    def __init__(self, N, M):\n",
    "        super(CNN_2_dropout_token, self).__init__()\n",
    "        self.conv = Sequential(\n",
    "            Conv1d(4, 32, kernel_size=7, padding=3),\n",
    "            ReLU(),\n",
    "            Conv1d(32, 64, kernel_size=5, padding=2),\n",
    "            ReLU(),\n",
    "            Conv1d(64, 128, kernel_size=3, padding=1),\n",
    "            ReLU(),\n",
    "        )\n",
    "        n = N * 4\n",
    "        self.fc = Sequential(\n",
    "            Flatten(),\n",
    "            Dropout(0.2),\n",
    "            Linear(n * 128, 128),\n",
    "            ReLU(),\n",
    "            Dropout(0.2),\n",
    "            Linear(128, 64),\n",
    "            ReLU(),\n",
    "            Dropout(0.2),\n",
    "            Linear(64, M)\n",
    "        )\n",
    "\n",
    "    def forward(self, x):\n",
    "        x = self.conv(x)\n",
    "        x = self.fc(x)\n",
    "        return x.float()\n",
    "\n",
    "\n",
    "model = benchmark(\n",
    "    feedforward.Classifier(\n",
    "        LENGTH // 4,\n",
    "        mapping,\n",
    "        \"cuda\",\n",
    "        CNN_2_dropout_token,\n",
    "        format.to_channels),\n",
    "    \"CNN\",\n",
    "    max_epochs=5\n",
    ")\n",
    "matrix = models.confusion_matrix(model, test_data, \"cuda\", mapping)\n",
    "plt.matshow(matrix)\n",
    "plt.show()\n",
    "np.set_printoptions(precision=3, suppress=True, linewidth=250)\n",
    "print(matrix)"
   ]
  },
  {
   "cell_type": "markdown",
   "id": "2b50f4b3",
   "metadata": {},
   "source": [
    "### 2.3. Transformer"
   ]
  },
  {
   "cell_type": "code",
   "execution_count": 29,
   "id": "b95efa49",
   "metadata": {},
   "outputs": [
    {
     "name": "stdout",
     "output_type": "stream",
     "text": [
      "Number of parameters: 483_633\n"
     ]
    },
    {
     "name": "stderr",
     "output_type": "stream",
     "text": [
      "100%|██████████| 9196/9196 [16:20<00:00,  9.37it/s]\n"
     ]
    },
    {
     "name": "stdout",
     "output_type": "stream",
     "text": [
      "1/20 Loss: 13052.11. F1: [0.82433, 0.58564]. Patience: 3\n"
     ]
    },
    {
     "name": "stderr",
     "output_type": "stream",
     "text": [
      "100%|██████████| 9196/9196 [24:45<00:00,  6.19it/s]     \n"
     ]
    },
    {
     "name": "stdout",
     "output_type": "stream",
     "text": [
      "2/20 Loss: 8897.78. F1: [0.84817, 0.62551]. Patience: 3\n"
     ]
    },
    {
     "name": "stderr",
     "output_type": "stream",
     "text": [
      "100%|██████████| 9196/9196 [16:11<00:00,  9.46it/s]\n"
     ]
    },
    {
     "name": "stdout",
     "output_type": "stream",
     "text": [
      "3/20 Loss: 8012.24. F1: [0.86168, 0.65004]. Patience: 3\n"
     ]
    },
    {
     "name": "stderr",
     "output_type": "stream",
     "text": [
      "100%|██████████| 9196/9196 [1:39:00<00:00,  1.55it/s]     \n"
     ]
    },
    {
     "name": "stdout",
     "output_type": "stream",
     "text": [
      "4/20 Loss: 7562.56. F1: [0.86921, 0.65769]. Patience: 3\n"
     ]
    },
    {
     "name": "stderr",
     "output_type": "stream",
     "text": [
      "100%|██████████| 9196/9196 [16:06<00:00,  9.52it/s]\n"
     ]
    },
    {
     "name": "stdout",
     "output_type": "stream",
     "text": [
      "5/20 Loss: 7260.37. F1: [0.86485, 0.66068]. Patience: 3\n"
     ]
    },
    {
     "name": "stderr",
     "output_type": "stream",
     "text": [
      "100%|██████████| 9196/9196 [16:33<00:00,  9.26it/s]\n"
     ]
    },
    {
     "name": "stdout",
     "output_type": "stream",
     "text": [
      "6/20 Loss: 7038.74. F1: [0.87648, 0.67086]. Patience: 3\n"
     ]
    },
    {
     "name": "stderr",
     "output_type": "stream",
     "text": [
      "100%|██████████| 9196/9196 [16:31<00:00,  9.28it/s]\n"
     ]
    },
    {
     "name": "stdout",
     "output_type": "stream",
     "text": [
      "7/20 Loss: 6869.58. F1: [0.87449, 0.67437]. Patience: 3\n"
     ]
    },
    {
     "name": "stderr",
     "output_type": "stream",
     "text": [
      "100%|██████████| 9196/9196 [16:31<00:00,  9.27it/s]\n"
     ]
    },
    {
     "name": "stdout",
     "output_type": "stream",
     "text": [
      "8/20 Loss: 6723.84. F1: [0.88087, 0.6794]. Patience: 3\n"
     ]
    },
    {
     "name": "stderr",
     "output_type": "stream",
     "text": [
      "100%|██████████| 9196/9196 [16:35<00:00,  9.24it/s]\n"
     ]
    },
    {
     "name": "stdout",
     "output_type": "stream",
     "text": [
      "9/20 Loss: 6606.20. F1: [0.88192, 0.68177]. Patience: 3\n"
     ]
    },
    {
     "name": "stderr",
     "output_type": "stream",
     "text": [
      "100%|██████████| 9196/9196 [16:40<00:00,  9.20it/s]\n"
     ]
    },
    {
     "name": "stdout",
     "output_type": "stream",
     "text": [
      "10/20 Loss: 6503.28. F1: [0.88174, 0.68244]. Patience: 3\n"
     ]
    },
    {
     "name": "stderr",
     "output_type": "stream",
     "text": [
      "100%|██████████| 9196/9196 [16:45<00:00,  9.15it/s]\n"
     ]
    },
    {
     "name": "stdout",
     "output_type": "stream",
     "text": [
      "11/20 Loss: 6408.71. F1: [0.88285, 0.68406]. Patience: 3\n"
     ]
    },
    {
     "name": "stderr",
     "output_type": "stream",
     "text": [
      "100%|██████████| 9196/9196 [16:42<00:00,  9.17it/s]\n"
     ]
    },
    {
     "name": "stdout",
     "output_type": "stream",
     "text": [
      "12/20 Loss: 6329.92. F1: [0.88203, 0.68682]. Patience: 3\n"
     ]
    },
    {
     "name": "stderr",
     "output_type": "stream",
     "text": [
      " 39%|███▉      | 3593/9196 [06:31<10:10,  9.17it/s]\n"
     ]
    },
    {
     "ename": "KeyboardInterrupt",
     "evalue": "",
     "output_type": "error",
     "traceback": [
      "\u001b[1;31m---------------------------------------------------------------------------\u001b[0m",
      "\u001b[1;31mKeyboardInterrupt\u001b[0m                         Traceback (most recent call last)",
      "Cell \u001b[1;32mIn[29], line 33\u001b[0m\n\u001b[0;32m     29\u001b[0m         logits \u001b[38;5;241m=\u001b[39m \u001b[38;5;28mself\u001b[39m\u001b[38;5;241m.\u001b[39mclassifier(x)  \u001b[38;5;66;03m# [B, num_classes]\u001b[39;00m\n\u001b[0;32m     30\u001b[0m         \u001b[38;5;28;01mreturn\u001b[39;00m logits\n\u001b[1;32m---> 33\u001b[0m model \u001b[38;5;241m=\u001b[39m \u001b[43mbenchmark\u001b[49m\u001b[43m(\u001b[49m\n\u001b[0;32m     34\u001b[0m \u001b[43m    \u001b[49m\u001b[43mtransformer\u001b[49m\u001b[38;5;241;43m.\u001b[39;49m\u001b[43mClassifier\u001b[49m\u001b[43m(\u001b[49m\u001b[43mLENGTH\u001b[49m\u001b[43m \u001b[49m\u001b[38;5;241;43m/\u001b[39;49m\u001b[38;5;241;43m/\u001b[39;49m\u001b[43m \u001b[49m\u001b[38;5;241;43m4\u001b[39;49m\u001b[43m,\u001b[49m\u001b[43m \u001b[49m\u001b[43mmapping\u001b[49m\u001b[43m,\u001b[49m\u001b[43m \u001b[49m\u001b[38;5;124;43m\"\u001b[39;49m\u001b[38;5;124;43mcuda\u001b[39;49m\u001b[38;5;124;43m\"\u001b[39;49m\u001b[43m,\u001b[49m\u001b[43m \u001b[49m\u001b[43mT_2_tokens\u001b[49m\u001b[43m,\u001b[49m\u001b[43m \u001b[49m\u001b[43muse_tokens\u001b[49m\u001b[38;5;241;43m=\u001b[39;49m\u001b[38;5;28;43;01mTrue\u001b[39;49;00m\u001b[43m)\u001b[49m\u001b[43m,\u001b[49m\n\u001b[0;32m     35\u001b[0m \u001b[43m    \u001b[49m\u001b[38;5;124;43m\"\u001b[39;49m\u001b[38;5;124;43mTransformer\u001b[39;49m\u001b[38;5;124;43m\"\u001b[39;49m\u001b[43m,\u001b[49m\n\u001b[0;32m     36\u001b[0m \u001b[43m)\u001b[49m\n\u001b[0;32m     37\u001b[0m matrix \u001b[38;5;241m=\u001b[39m confusion_matrix(model, test_data, \u001b[38;5;124m\"\u001b[39m\u001b[38;5;124mcuda\u001b[39m\u001b[38;5;124m\"\u001b[39m, mapping)\n\u001b[0;32m     38\u001b[0m plt\u001b[38;5;241m.\u001b[39mmatshow(matrix)\n",
      "Cell \u001b[1;32mIn[26], line 49\u001b[0m, in \u001b[0;36mbenchmark\u001b[1;34m(classifier, name)\u001b[0m\n\u001b[0;32m     47\u001b[0m     optimizer \u001b[38;5;241m=\u001b[39m \u001b[38;5;28;01mNone\u001b[39;00m\n\u001b[0;32m     48\u001b[0m a \u001b[38;5;241m=\u001b[39m time()\n\u001b[1;32m---> 49\u001b[0m losses, f1 \u001b[38;5;241m=\u001b[39m \u001b[43mclassifier\u001b[49m\u001b[38;5;241;43m.\u001b[39;49m\u001b[43mtrain\u001b[49m\u001b[43m(\u001b[49m\n\u001b[0;32m     50\u001b[0m \u001b[43m    \u001b[49m\u001b[43mtrain_data\u001b[49m\u001b[43m,\u001b[49m\n\u001b[0;32m     51\u001b[0m \u001b[43m    \u001b[49m\u001b[43mvalidation_data\u001b[49m\u001b[43m,\u001b[49m\n\u001b[0;32m     52\u001b[0m \u001b[43m    \u001b[49m\u001b[43moptimizer\u001b[49m\u001b[43m,\u001b[49m\n\u001b[0;32m     53\u001b[0m \u001b[43m    \u001b[49m\u001b[43mmax_n_epochs\u001b[49m\u001b[38;5;241;43m=\u001b[39;49m\u001b[38;5;241;43m20\u001b[39;49m\u001b[43m,\u001b[49m\n\u001b[0;32m     54\u001b[0m \u001b[43m    \u001b[49m\u001b[43mpatience\u001b[49m\u001b[38;5;241;43m=\u001b[39;49m\u001b[38;5;241;43m3\u001b[39;49m\u001b[43m,\u001b[49m\n\u001b[0;32m     55\u001b[0m \u001b[43m    \u001b[49m\u001b[43mpermute\u001b[49m\u001b[38;5;241;43m=\u001b[39;49m\u001b[38;5;28;43;01mFalse\u001b[39;49;00m\n\u001b[0;32m     56\u001b[0m \u001b[43m\u001b[49m\u001b[43m)\u001b[49m\n\u001b[0;32m     57\u001b[0m b \u001b[38;5;241m=\u001b[39m time()\n\u001b[0;32m     58\u001b[0m \u001b[38;5;28mprint\u001b[39m(\u001b[38;5;124mf\u001b[39m\u001b[38;5;124m\"\u001b[39m\u001b[38;5;124mTraining took \u001b[39m\u001b[38;5;132;01m{\u001b[39;00m(b\u001b[38;5;250m \u001b[39m\u001b[38;5;241m-\u001b[39m\u001b[38;5;250m \u001b[39ma)\u001b[38;5;132;01m:\u001b[39;00m\u001b[38;5;124m.3f\u001b[39m\u001b[38;5;132;01m}\u001b[39;00m\u001b[38;5;124m s.\u001b[39m\u001b[38;5;124m\"\u001b[39m)\n",
      "File \u001b[1;32mD:\\maitrise\\stelaro\\stelaro\\models\\transformer.py:69\u001b[0m, in \u001b[0;36mClassifier.train\u001b[1;34m(self, train_loader, validate_loader, optimizer, max_n_epochs, patience, permute)\u001b[0m\n\u001b[0;32m     67\u001b[0m \u001b[38;5;66;03m# loss *= penalized_cross_entropy(output, y_batch, penalty_matrix)\u001b[39;00m\n\u001b[0;32m     68\u001b[0m optimizer\u001b[38;5;241m.\u001b[39mzero_grad()\n\u001b[1;32m---> 69\u001b[0m \u001b[43mloss\u001b[49m\u001b[38;5;241;43m.\u001b[39;49m\u001b[43mbackward\u001b[49m\u001b[43m(\u001b[49m\u001b[43m)\u001b[49m\n\u001b[0;32m     70\u001b[0m optimizer\u001b[38;5;241m.\u001b[39mstep()\n\u001b[0;32m     71\u001b[0m losses[\u001b[38;5;241m-\u001b[39m\u001b[38;5;241m1\u001b[39m] \u001b[38;5;241m+\u001b[39m\u001b[38;5;241m=\u001b[39m loss\u001b[38;5;241m.\u001b[39mitem()\n",
      "File \u001b[1;32md:\\maitrise\\stelaro\\venv\\Lib\\site-packages\\torch\\_tensor.py:648\u001b[0m, in \u001b[0;36mTensor.backward\u001b[1;34m(self, gradient, retain_graph, create_graph, inputs)\u001b[0m\n\u001b[0;32m    638\u001b[0m \u001b[38;5;28;01mif\u001b[39;00m has_torch_function_unary(\u001b[38;5;28mself\u001b[39m):\n\u001b[0;32m    639\u001b[0m     \u001b[38;5;28;01mreturn\u001b[39;00m handle_torch_function(\n\u001b[0;32m    640\u001b[0m         Tensor\u001b[38;5;241m.\u001b[39mbackward,\n\u001b[0;32m    641\u001b[0m         (\u001b[38;5;28mself\u001b[39m,),\n\u001b[1;32m   (...)\u001b[0m\n\u001b[0;32m    646\u001b[0m         inputs\u001b[38;5;241m=\u001b[39minputs,\n\u001b[0;32m    647\u001b[0m     )\n\u001b[1;32m--> 648\u001b[0m \u001b[43mtorch\u001b[49m\u001b[38;5;241;43m.\u001b[39;49m\u001b[43mautograd\u001b[49m\u001b[38;5;241;43m.\u001b[39;49m\u001b[43mbackward\u001b[49m\u001b[43m(\u001b[49m\n\u001b[0;32m    649\u001b[0m \u001b[43m    \u001b[49m\u001b[38;5;28;43mself\u001b[39;49m\u001b[43m,\u001b[49m\u001b[43m \u001b[49m\u001b[43mgradient\u001b[49m\u001b[43m,\u001b[49m\u001b[43m \u001b[49m\u001b[43mretain_graph\u001b[49m\u001b[43m,\u001b[49m\u001b[43m \u001b[49m\u001b[43mcreate_graph\u001b[49m\u001b[43m,\u001b[49m\u001b[43m \u001b[49m\u001b[43minputs\u001b[49m\u001b[38;5;241;43m=\u001b[39;49m\u001b[43minputs\u001b[49m\n\u001b[0;32m    650\u001b[0m \u001b[43m\u001b[49m\u001b[43m)\u001b[49m\n",
      "File \u001b[1;32md:\\maitrise\\stelaro\\venv\\Lib\\site-packages\\torch\\autograd\\__init__.py:353\u001b[0m, in \u001b[0;36mbackward\u001b[1;34m(tensors, grad_tensors, retain_graph, create_graph, grad_variables, inputs)\u001b[0m\n\u001b[0;32m    348\u001b[0m     retain_graph \u001b[38;5;241m=\u001b[39m create_graph\n\u001b[0;32m    350\u001b[0m \u001b[38;5;66;03m# The reason we repeat the same comment below is that\u001b[39;00m\n\u001b[0;32m    351\u001b[0m \u001b[38;5;66;03m# some Python versions print out the first line of a multi-line function\u001b[39;00m\n\u001b[0;32m    352\u001b[0m \u001b[38;5;66;03m# calls in the traceback and some print out the last line\u001b[39;00m\n\u001b[1;32m--> 353\u001b[0m \u001b[43m_engine_run_backward\u001b[49m\u001b[43m(\u001b[49m\n\u001b[0;32m    354\u001b[0m \u001b[43m    \u001b[49m\u001b[43mtensors\u001b[49m\u001b[43m,\u001b[49m\n\u001b[0;32m    355\u001b[0m \u001b[43m    \u001b[49m\u001b[43mgrad_tensors_\u001b[49m\u001b[43m,\u001b[49m\n\u001b[0;32m    356\u001b[0m \u001b[43m    \u001b[49m\u001b[43mretain_graph\u001b[49m\u001b[43m,\u001b[49m\n\u001b[0;32m    357\u001b[0m \u001b[43m    \u001b[49m\u001b[43mcreate_graph\u001b[49m\u001b[43m,\u001b[49m\n\u001b[0;32m    358\u001b[0m \u001b[43m    \u001b[49m\u001b[43minputs\u001b[49m\u001b[43m,\u001b[49m\n\u001b[0;32m    359\u001b[0m \u001b[43m    \u001b[49m\u001b[43mallow_unreachable\u001b[49m\u001b[38;5;241;43m=\u001b[39;49m\u001b[38;5;28;43;01mTrue\u001b[39;49;00m\u001b[43m,\u001b[49m\n\u001b[0;32m    360\u001b[0m \u001b[43m    \u001b[49m\u001b[43maccumulate_grad\u001b[49m\u001b[38;5;241;43m=\u001b[39;49m\u001b[38;5;28;43;01mTrue\u001b[39;49;00m\u001b[43m,\u001b[49m\n\u001b[0;32m    361\u001b[0m \u001b[43m\u001b[49m\u001b[43m)\u001b[49m\n",
      "File \u001b[1;32md:\\maitrise\\stelaro\\venv\\Lib\\site-packages\\torch\\autograd\\graph.py:824\u001b[0m, in \u001b[0;36m_engine_run_backward\u001b[1;34m(t_outputs, *args, **kwargs)\u001b[0m\n\u001b[0;32m    822\u001b[0m     unregister_hooks \u001b[38;5;241m=\u001b[39m _register_logging_hooks_on_whole_graph(t_outputs)\n\u001b[0;32m    823\u001b[0m \u001b[38;5;28;01mtry\u001b[39;00m:\n\u001b[1;32m--> 824\u001b[0m     \u001b[38;5;28;01mreturn\u001b[39;00m \u001b[43mVariable\u001b[49m\u001b[38;5;241;43m.\u001b[39;49m\u001b[43m_execution_engine\u001b[49m\u001b[38;5;241;43m.\u001b[39;49m\u001b[43mrun_backward\u001b[49m\u001b[43m(\u001b[49m\u001b[43m  \u001b[49m\u001b[38;5;66;43;03m# Calls into the C++ engine to run the backward pass\u001b[39;49;00m\n\u001b[0;32m    825\u001b[0m \u001b[43m        \u001b[49m\u001b[43mt_outputs\u001b[49m\u001b[43m,\u001b[49m\u001b[43m \u001b[49m\u001b[38;5;241;43m*\u001b[39;49m\u001b[43margs\u001b[49m\u001b[43m,\u001b[49m\u001b[43m \u001b[49m\u001b[38;5;241;43m*\u001b[39;49m\u001b[38;5;241;43m*\u001b[39;49m\u001b[43mkwargs\u001b[49m\n\u001b[0;32m    826\u001b[0m \u001b[43m    \u001b[49m\u001b[43m)\u001b[49m  \u001b[38;5;66;03m# Calls into the C++ engine to run the backward pass\u001b[39;00m\n\u001b[0;32m    827\u001b[0m \u001b[38;5;28;01mfinally\u001b[39;00m:\n\u001b[0;32m    828\u001b[0m     \u001b[38;5;28;01mif\u001b[39;00m attach_logging_hooks:\n",
      "\u001b[1;31mKeyboardInterrupt\u001b[0m: "
     ]
    }
   ],
   "source": [
    "from torch import arange\n",
    "from torch.nn import (Module, Linear, Embedding, TransformerEncoderLayer,\n",
    "                      TransformerEncoder)\n",
    "\n",
    "\n",
    "class T_2_tokens(Module):\n",
    "    def __init__(self, N, M):\n",
    "        super(T_2_tokens, self).__init__()\n",
    "        embed_dim = 128\n",
    "        self.token_embedding = Embedding(256, embed_dim)\n",
    "        self.position_embedding = Embedding(N, embed_dim)\n",
    "        encoder_layer = TransformerEncoderLayer(\n",
    "            d_model=embed_dim,\n",
    "            nhead=4,\n",
    "            dim_feedforward=embed_dim * 4,\n",
    "            dropout=0.1,\n",
    "            activation='relu',\n",
    "            batch_first=True  # makes input/output shape [B, L, D]\n",
    "        )\n",
    "        self.transformer_encoder = TransformerEncoder(encoder_layer, num_layers=2)\n",
    "        self.classifier = Linear(embed_dim, M)\n",
    "\n",
    "    def forward(self, x):\n",
    "        batch_size, seq_len = x.size()\n",
    "        positions = arange(seq_len, device=x.device).unsqueeze(0).expand(batch_size, seq_len)\n",
    "        x = self.token_embedding(x) + self.position_embedding(positions)  # [B, L, D]\n",
    "        x = self.transformer_encoder(x)  # [B, L, D]\n",
    "        x = x.mean(dim=1)  # [B, D] - average pooling\n",
    "        logits = self.classifier(x)  # [B, num_classes]\n",
    "        return logits\n",
    "\n",
    "\n",
    "model = benchmark(\n",
    "    transformer.Classifier(LENGTH // 4, mapping, \"cuda\", T_2_tokens, use_tokens=True),\n",
    "    \"Transformer\",\n",
    ")\n",
    "matrix = confusion_matrix(model, test_data, \"cuda\", mapping)\n",
    "plt.matshow(matrix)\n",
    "plt.show()\n",
    "np.set_printoptions(precision=3, suppress=True, linewidth=250)\n",
    "print(matrix)"
   ]
  }
 ],
 "metadata": {
  "kernelspec": {
   "display_name": "venv (3.11.2)",
   "language": "python",
   "name": "python3"
  },
  "language_info": {
   "codemirror_mode": {
    "name": "ipython",
    "version": 3
   },
   "file_extension": ".py",
   "mimetype": "text/x-python",
   "name": "python",
   "nbconvert_exporter": "python",
   "pygments_lexer": "ipython3",
   "version": "3.11.2"
  }
 },
 "nbformat": 4,
 "nbformat_minor": 5
}
