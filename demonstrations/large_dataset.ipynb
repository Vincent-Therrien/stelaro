{
 "cells": [
  {
   "cell_type": "markdown",
   "id": "36ae27f1",
   "metadata": {},
   "source": [
    "# Large Dataset Training"
   ]
  },
  {
   "cell_type": "code",
   "execution_count": 1,
   "id": "a54f5c43",
   "metadata": {},
   "outputs": [],
   "source": [
    "import os\n",
    "import json\n",
    "from stelaro.data import synthetic\n",
    "\n",
    "DATA_DIRECTORY = \"../data/\"\n",
    "SUMMARY_DIRECTORY = DATA_DIRECTORY + \"ncbi_genome_summaries/\"\n",
    "NCBI_TAXONOMY_DIRECTORY = DATA_DIRECTORY + \"ncbi_taxonomy/\"\n",
    "DATASET_V1_DIRECTORY = DATA_DIRECTORY + \"version_1/\"\n",
    "DATASET_V1_COMPRESSED_DIRECTORY = DATASET_V1_DIRECTORY + \"compressed/\"\n",
    "\n",
    "\n",
    "def mkdir(path: str) -> None:\n",
    "    \"\"\"Create a directory if it does not exist.\"\"\"\n",
    "    if not os.path.exists(path):\n",
    "        os.makedirs(path)\n",
    "\n",
    "\n",
    "mkdir(DATA_DIRECTORY)\n",
    "mkdir(DATASET_V1_DIRECTORY)\n",
    "mkdir(DATASET_V1_COMPRESSED_DIRECTORY)"
   ]
  },
  {
   "cell_type": "markdown",
   "id": "97b9728e",
   "metadata": {},
   "source": [
    "## 1. Compress The Dataset"
   ]
  },
  {
   "cell_type": "code",
   "execution_count": 3,
   "id": "426a559a",
   "metadata": {},
   "outputs": [
    {
     "name": "stderr",
     "output_type": "stream",
     "text": [
      "100%|██████████| 27/27 [06:14<00:00, 13.86s/it]\n",
      "100%|██████████| 27/27 [05:45<00:00, 12.81s/it]\n",
      "100%|██████████| 27/27 [41:05<00:00, 91.32s/it] \n"
     ]
    }
   ],
   "source": [
    "LENGTH = 1500\n",
    "with open(\"../datasets/version_1_splits/map.json\", \"r\") as f:\n",
    "    index_to_taxonomic_label = json.load(f)\n",
    "\n",
    "for dataset_name in (\"validate\", \"test\", \"train\"):\n",
    "    with open(f\"../datasets/version_1_splits/{dataset_name}.json\", \"r\") as f:\n",
    "        dataset = json.load(f)\n",
    "    index_to_n_passes = {}\n",
    "    directory = DATASET_V1_COMPRESSED_DIRECTORY + dataset_name + \"/\"\n",
    "    mkdir(directory)\n",
    "    synthetic.compress_dataset(\n",
    "        dataset,\n",
    "        index_to_taxonomic_label,\n",
    "        \"../data/version_1/genomes/\",\n",
    "        LENGTH,\n",
    "        directory\n",
    "    )"
   ]
  },
  {
   "cell_type": "markdown",
   "id": "d43f6fd9",
   "metadata": {},
   "source": [
    "## 2. Sample Data"
   ]
  },
  {
   "cell_type": "code",
   "execution_count": 3,
   "id": "e80aac16",
   "metadata": {},
   "outputs": [
    {
     "name": "stdout",
     "output_type": "stream",
     "text": [
      "[ 12643  22777  34943  31102  60816   4144  64119  86229   5006  25801\n",
      "   5386   8599  29738  22694  37733  15253  58687 118124  85929 137871\n",
      "  79875 149174  21096  75607  16687   1920    346]\n"
     ]
    }
   ],
   "source": [
    "f = synthetic.get_n_reads_in_compressed_dataset(\n",
    "    DATASET_V1_COMPRESSED_DIRECTORY + \"test/\",\n",
    ")\n",
    "print(f)\n",
    "n = sum(f)\n",
    "ids = synthetic.get_random_identifiers(n)"
   ]
  },
  {
   "cell_type": "code",
   "execution_count": 5,
   "id": "2aa734fa",
   "metadata": {},
   "outputs": [
    {
     "name": "stdout",
     "output_type": "stream",
     "text": [
      "[ 5398 12157  2987  6817  6141   994 13232 13711  2553  8935  3209  3800\n",
      " 12401  5645  3268  1090  8832  6483  9312 12444 11964 13768 16315 14968\n",
      "  3098   407    71]\n",
      "200000\n"
     ]
    }
   ],
   "source": [
    "from numpy import bincount\n",
    "x, y = synthetic.sample_compressed_dataset(\n",
    "    DATASET_V1_COMPRESSED_DIRECTORY + \"train/\",\n",
    "    200_000,\n",
    "    1500,\n",
    "    ids,\n",
    "    400000\n",
    ")\n",
    "print(bincount(y))\n",
    "print(sum(bincount(y)))"
   ]
  },
  {
   "cell_type": "code",
   "execution_count": 14,
   "id": "a206af78",
   "metadata": {},
   "outputs": [
    {
     "name": "stdout",
     "output_type": "stream",
     "text": [
      "['Viruses', 'Monodnaviria']\n",
      "5158834\n"
     ]
    }
   ],
   "source": [
    "with open(f\"../datasets/version_1_splits/train.json\", \"r\") as f:\n",
    "    dataset = json.load(f)\n",
    "\n",
    "\n",
    "taxon = dataset[-1]\n",
    "print(taxon[0])\n",
    "references = []\n",
    "for element in taxon[1]:\n",
    "    genus, ref = element\n",
    "    references += ref\n",
    "print(synthetic.evaluate_n_nucleotides(references))\n"
   ]
  },
  {
   "cell_type": "code",
   "execution_count": 7,
   "id": "cc08ee6c",
   "metadata": {},
   "outputs": [
    {
     "name": "stdout",
     "output_type": "stream",
     "text": [
      "(1000000, 375)\n"
     ]
    }
   ],
   "source": [
    "import numpy as np\n",
    "x = np.load(DATASET_V1_COMPRESSED_DIRECTORY + \"train/0_x.npy\")\n",
    "print(x.shape)"
   ]
  },
  {
   "cell_type": "markdown",
   "id": "950054ab",
   "metadata": {},
   "source": [
    "## 3. Train Neural Networks"
   ]
  },
  {
   "cell_type": "code",
   "execution_count": null,
   "id": "a33f08b4",
   "metadata": {},
   "outputs": [],
   "source": [
    "from stelaro import models\n",
    "from torch.utils.data import DataLoader\n",
    "import json\n",
    "from torch.optim import Adam\n",
    "import matplotlib.pyplot as plt\n",
    "from stelaro.models import feedforward, autoencoder, transformer\n",
    "from time import time\n",
    "\n",
    "LENGTH = 1500\n",
    "BATCH_SIZE = 128\n",
    "\n",
    "train_data = DataLoader(\n",
    "    synthetic.CompressedReadDataset(\n",
    "        \"../data/version_1/compressed/train/\", 20_000\n",
    "    ),\n",
    "    batch_size=BATCH_SIZE,\n",
    "    shuffle=False\n",
    ")\n",
    "validate_data = DataLoader(\n",
    "    synthetic.SyntheticReadDataset(\n",
    "        \"../data/version_1/compressed/validate/\", 50_000, LENGTH\n",
    "    ),\n",
    "    batch_size=BATCH_SIZE,\n",
    "    shuffle=False\n",
    ")\n",
    "test_data = DataLoader(\n",
    "    synthetic.SyntheticReadDataset(\n",
    "        \"../data/version_1/compressed/test/\", 50_000, LENGTH\n",
    "    ),\n",
    "    batch_size=BATCH_SIZE,\n",
    "    shuffle=False\n",
    ")\n",
    "\n",
    "with open(\"../data/version_1/static/train/map.json\", \"r\") as f:\n",
    "    mapping = json.load(f)\n",
    "\n",
    "\n",
    "def benchmark(classifier: models.BaseClassifier, name: str, n_max_reads=30_000):\n",
    "    train_data.dataset.reset()\n",
    "    parameters = classifier.get_parameters()\n",
    "    if parameters:\n",
    "        optimizer = Adam(classifier.get_parameters(), lr=0.001)\n",
    "        total_params = sum(param.numel() for param in parameters)\n",
    "        print(f\"Number of parameters: {total_params:_}\")\n",
    "    else:\n",
    "        optimizer = None\n",
    "    a = time()\n",
    "    losses, f1 = classifier.train_large_dataset(\n",
    "        train_data,\n",
    "        validate_data,\n",
    "        optimizer,\n",
    "        evaluation_interval=50_000,\n",
    "        n_max_reads=n_max_reads,\n",
    "        patience=4,\n",
    "    )\n",
    "    b = time()\n",
    "    print(f\"Training took {(b - a):.3f} s.\")\n",
    "    if losses:\n",
    "        fig, ax = plt.subplots(1, 2, figsize=(12, 4))\n",
    "        x = list(range(len(losses)))\n",
    "        ax[0].plot(x, losses, label=\"losses\")\n",
    "        ax[0].set(xlabel='Epochs', ylabel='Loss')\n",
    "        ax[0].set_title(\"Loss\")\n",
    "        ax[1].set(xlabel='Epochs', ylabel=\"f1\")\n",
    "        ax[1].set_title(\"F1 Score\")\n",
    "        r = 0\n",
    "        for f in f1:\n",
    "            ax[1].plot(x, f, label=f'Rank {r}')\n",
    "            r += 1\n",
    "        ax[1].legend()\n",
    "        fig.suptitle(f\"Classification Training for {name}\")\n",
    "        plt.show()\n",
    "    result = models.evaluate(classifier, test_data, \"cuda\", mapping, permute=False)\n",
    "    rounded_result = [float(f\"{r:.5}\") for r in result]\n",
    "    print(f\"Test results: {rounded_result}\")\n",
    "    return classifier"
   ]
  },
  {
   "cell_type": "code",
   "execution_count": 3,
   "id": "d89076ce",
   "metadata": {},
   "outputs": [
    {
     "name": "stderr",
     "output_type": "stream",
     "text": [
      "  0%|          | 234/68609 [00:01<06:37, 172.22it/s]\n"
     ]
    },
    {
     "name": "stdout",
     "output_type": "stream",
     "text": [
      "Training took 1.369 s.\n",
      "Test results: [0.32248, 0.024849]\n"
     ]
    },
    {
     "name": "stderr",
     "output_type": "stream",
     "text": [
      "d:\\maitrise\\stelaro\\venv\\Lib\\site-packages\\sklearn\\metrics\\_classification.py:99: UserWarning: The number of unique classes is greater than 50% of the number of samples.\n",
      "  type_pred = type_of_target(y_pred, input_name=\"y_pred\")\n",
      "d:\\maitrise\\stelaro\\venv\\Lib\\site-packages\\sklearn\\utils\\multiclass.py:79: UserWarning: The number of unique classes is greater than 50% of the number of samples.\n",
      "  ys_types = set(type_of_target(x) for x in ys)\n",
      "d:\\maitrise\\stelaro\\venv\\Lib\\site-packages\\sklearn\\metrics\\_classification.py:99: UserWarning: The number of unique classes is greater than 50% of the number of samples.\n",
      "  type_pred = type_of_target(y_pred, input_name=\"y_pred\")\n",
      "d:\\maitrise\\stelaro\\venv\\Lib\\site-packages\\sklearn\\utils\\multiclass.py:79: UserWarning: The number of unique classes is greater than 50% of the number of samples.\n",
      "  ys_types = set(type_of_target(x) for x in ys)\n"
     ]
    }
   ],
   "source": [
    "model = benchmark(\n",
    "    models.RandomClassifier(),\n",
    "    \"Random Classifier\",\n",
    "    n_max_reads=30_000\n",
    ")"
   ]
  },
  {
   "cell_type": "code",
   "execution_count": 38,
   "id": "67081641",
   "metadata": {},
   "outputs": [
    {
     "name": "stdout",
     "output_type": "stream",
     "text": [
      "Number of parameters: 35_967_928\n"
     ]
    },
    {
     "name": "stderr",
     "output_type": "stream",
     "text": [
      "  1%|          | 391/68609 [04:50<217:09:54, 11.46s/it]"
     ]
    },
    {
     "name": "stdout",
     "output_type": "stream",
     "text": [
      "N Reads: 50048 Loss: 1014.34. F1: [0.3188, 0.081866]. Patience: 10\n"
     ]
    },
    {
     "name": "stderr",
     "output_type": "stream",
     "text": [
      "  1%|          | 782/68609 [09:24<219:04:31, 11.63s/it]"
     ]
    },
    {
     "name": "stdout",
     "output_type": "stream",
     "text": [
      "N Reads: 100096 Loss: 904.88. F1: [0.32111, 0.10223]. Patience: 10\n"
     ]
    },
    {
     "name": "stderr",
     "output_type": "stream",
     "text": [
      "  2%|▏         | 1173/68609 [13:56<209:44:45, 11.20s/it]"
     ]
    },
    {
     "name": "stdout",
     "output_type": "stream",
     "text": [
      "N Reads: 150144 Loss: 819.95. F1: [0.39712, 0.1658]. Patience: 10\n"
     ]
    },
    {
     "name": "stderr",
     "output_type": "stream",
     "text": [
      "  2%|▏         | 1564/68609 [18:36<216:31:10, 11.63s/it]"
     ]
    },
    {
     "name": "stdout",
     "output_type": "stream",
     "text": [
      "N Reads: 200192 Loss: 753.27. F1: [0.38245, 0.19057]. Patience: 10\n"
     ]
    },
    {
     "name": "stderr",
     "output_type": "stream",
     "text": [
      "  3%|▎         | 1955/68609 [23:39<212:11:03, 11.46s/it]"
     ]
    },
    {
     "name": "stdout",
     "output_type": "stream",
     "text": [
      "N Reads: 250240 Loss: 710.91. F1: [0.38968, 0.19594]. Patience: 10\n"
     ]
    },
    {
     "name": "stderr",
     "output_type": "stream",
     "text": [
      "  3%|▎         | 2346/68609 [28:15<215:55:40, 11.73s/it]"
     ]
    },
    {
     "name": "stdout",
     "output_type": "stream",
     "text": [
      "N Reads: 300288 Loss: 680.10. F1: [0.40884, 0.21159]. Patience: 10\n"
     ]
    },
    {
     "name": "stderr",
     "output_type": "stream",
     "text": [
      "  4%|▍         | 2737/68609 [32:48<206:33:11, 11.29s/it]"
     ]
    },
    {
     "name": "stdout",
     "output_type": "stream",
     "text": [
      "N Reads: 350336 Loss: 659.96. F1: [0.41708, 0.21979]. Patience: 10\n"
     ]
    },
    {
     "name": "stderr",
     "output_type": "stream",
     "text": [
      "  5%|▍         | 3128/68609 [37:23<213:24:43, 11.73s/it]"
     ]
    },
    {
     "name": "stdout",
     "output_type": "stream",
     "text": [
      "N Reads: 400384 Loss: 640.30. F1: [0.43272, 0.23905]. Patience: 10\n"
     ]
    },
    {
     "name": "stderr",
     "output_type": "stream",
     "text": [
      "  5%|▌         | 3519/68609 [41:56<204:49:36, 11.33s/it]"
     ]
    },
    {
     "name": "stdout",
     "output_type": "stream",
     "text": [
      "N Reads: 450432 Loss: 624.48. F1: [0.43124, 0.26343]. Patience: 10\n"
     ]
    },
    {
     "name": "stderr",
     "output_type": "stream",
     "text": [
      "  6%|▌         | 3910/68609 [46:32<208:07:09, 11.58s/it]"
     ]
    },
    {
     "name": "stdout",
     "output_type": "stream",
     "text": [
      "N Reads: 500480 Loss: 613.78. F1: [0.42948, 0.23022]. Patience: 9\n"
     ]
    },
    {
     "name": "stderr",
     "output_type": "stream",
     "text": [
      "  6%|▋         | 4301/68609 [51:05<200:18:43, 11.21s/it]"
     ]
    },
    {
     "name": "stdout",
     "output_type": "stream",
     "text": [
      "N Reads: 550528 Loss: 611.30. F1: [0.46459, 0.25495]. Patience: 8\n"
     ]
    },
    {
     "name": "stderr",
     "output_type": "stream",
     "text": [
      "  7%|▋         | 4692/68609 [55:41<204:55:57, 11.54s/it]"
     ]
    },
    {
     "name": "stdout",
     "output_type": "stream",
     "text": [
      "N Reads: 600576 Loss: 595.30. F1: [0.47465, 0.25034]. Patience: 7\n"
     ]
    },
    {
     "name": "stderr",
     "output_type": "stream",
     "text": [
      "  7%|▋         | 5083/68609 [1:00:14<200:05:05, 11.34s/it]"
     ]
    },
    {
     "name": "stdout",
     "output_type": "stream",
     "text": [
      "N Reads: 650624 Loss: 593.74. F1: [0.45299, 0.2579]. Patience: 6\n"
     ]
    },
    {
     "name": "stderr",
     "output_type": "stream",
     "text": [
      "  8%|▊         | 5474/68609 [1:04:49<198:08:21, 11.30s/it]"
     ]
    },
    {
     "name": "stdout",
     "output_type": "stream",
     "text": [
      "N Reads: 700672 Loss: 581.64. F1: [0.47899, 0.27539]. Patience: 6\n"
     ]
    },
    {
     "name": "stderr",
     "output_type": "stream",
     "text": [
      "  9%|▊         | 5865/68609 [1:09:22<196:35:09, 11.28s/it]"
     ]
    },
    {
     "name": "stdout",
     "output_type": "stream",
     "text": [
      "N Reads: 750720 Loss: 582.94. F1: [0.47104, 0.26316]. Patience: 5\n"
     ]
    },
    {
     "name": "stderr",
     "output_type": "stream",
     "text": [
      "  9%|▉         | 6256/68609 [1:13:56<193:53:10, 11.19s/it]"
     ]
    },
    {
     "name": "stdout",
     "output_type": "stream",
     "text": [
      "N Reads: 800768 Loss: 577.25. F1: [0.46753, 0.28047]. Patience: 5\n"
     ]
    },
    {
     "name": "stderr",
     "output_type": "stream",
     "text": [
      " 10%|▉         | 6647/68609 [1:18:29<194:36:46, 11.31s/it]"
     ]
    },
    {
     "name": "stdout",
     "output_type": "stream",
     "text": [
      "N Reads: 850816 Loss: 572.50. F1: [0.48996, 0.26628]. Patience: 4\n"
     ]
    },
    {
     "name": "stderr",
     "output_type": "stream",
     "text": [
      " 10%|█         | 7038/68609 [1:23:35<192:41:02, 11.27s/it]"
     ]
    },
    {
     "name": "stdout",
     "output_type": "stream",
     "text": [
      "N Reads: 900864 Loss: 569.97. F1: [0.51782, 0.26039]. Patience: 3\n"
     ]
    },
    {
     "name": "stderr",
     "output_type": "stream",
     "text": [
      " 11%|█         | 7429/68609 [1:28:08<190:34:00, 11.21s/it]"
     ]
    },
    {
     "name": "stdout",
     "output_type": "stream",
     "text": [
      "N Reads: 950912 Loss: 561.05. F1: [0.49371, 0.28871]. Patience: 3\n"
     ]
    },
    {
     "name": "stderr",
     "output_type": "stream",
     "text": [
      " 11%|█▏        | 7820/68609 [1:32:43<191:08:41, 11.32s/it]"
     ]
    },
    {
     "name": "stdout",
     "output_type": "stream",
     "text": [
      "N Reads: 1000960 Loss: 556.69. F1: [0.49898, 0.29051]. Patience: 3\n"
     ]
    },
    {
     "name": "stderr",
     "output_type": "stream",
     "text": [
      " 12%|█▏        | 8211/68609 [1:37:16<186:57:51, 11.14s/it]"
     ]
    },
    {
     "name": "stdout",
     "output_type": "stream",
     "text": [
      "N Reads: 1051008 Loss: 557.10. F1: [0.49498, 0.29685]. Patience: 3\n"
     ]
    },
    {
     "name": "stderr",
     "output_type": "stream",
     "text": [
      " 13%|█▎        | 8602/68609 [1:43:09<195:38:03, 11.74s/it]"
     ]
    },
    {
     "name": "stdout",
     "output_type": "stream",
     "text": [
      "N Reads: 1101056 Loss: 551.18. F1: [0.49961, 0.27727]. Patience: 2\n"
     ]
    },
    {
     "name": "stderr",
     "output_type": "stream",
     "text": [
      " 13%|█▎        | 8993/68609 [1:48:06<186:58:01, 11.29s/it]"
     ]
    },
    {
     "name": "stdout",
     "output_type": "stream",
     "text": [
      "N Reads: 1151104 Loss: 544.17. F1: [0.48188, 0.29339]. Patience: 1\n"
     ]
    },
    {
     "name": "stderr",
     "output_type": "stream",
     "text": [
      " 14%|█▎        | 9375/68609 [1:52:30<11:50:49,  1.39it/s] "
     ]
    },
    {
     "name": "stdout",
     "output_type": "stream",
     "text": [
      "Reached the specified maximum number of reads.\n",
      "Training took 6750.201 s.\n"
     ]
    },
    {
     "name": "stderr",
     "output_type": "stream",
     "text": [
      "\n"
     ]
    },
    {
     "data": {
      "image/png": "[encoded data removed]",
      "text/plain": [
       "<Figure size 1200x400 with 2 Axes>"
      ]
     },
     "metadata": {},
     "output_type": "display_data"
    },
    {
     "name": "stdout",
     "output_type": "stream",
     "text": [
      "Test results: [0.50311, 0.30104]\n"
     ]
    }
   ],
   "source": [
    "from torch.nn import (Module, Conv1d, ReLU, Sequential, Flatten, Linear,\n",
    "                      CrossEntropyLoss, Dropout, MaxPool1d)\n",
    "from torch import stack, tensor, float32\n",
    "from torch.func import vmap\n",
    "import torch.nn.functional as F\n",
    "\n",
    "\n",
    "class CNN_2_dropout_token(Module):\n",
    "    def __init__(self, N, M):\n",
    "        super(CNN_2_dropout_token, self).__init__()\n",
    "        self.conv = Sequential(\n",
    "            Conv1d(4, 32, kernel_size=7, padding=3),\n",
    "            ReLU(),\n",
    "            Conv1d(32, 64, kernel_size=5, padding=2),\n",
    "            ReLU(),\n",
    "            Conv1d(64, 128, kernel_size=3, padding=1),\n",
    "            ReLU(),\n",
    "        )\n",
    "        n = N * 4\n",
    "        self.fc = Sequential(\n",
    "            Flatten(),\n",
    "            Dropout(0.2),\n",
    "            Linear(n * 128, int(n / 8)),\n",
    "            ReLU(),\n",
    "            Dropout(0.2),\n",
    "            Linear(int(n / 8), 128),\n",
    "            ReLU(),\n",
    "            Dropout(0.2),\n",
    "            Linear(128, M)\n",
    "        )\n",
    "\n",
    "    def forward(self, x):\n",
    "        B, N = x.shape\n",
    "        shifts = tensor([6, 4, 2, 0], device=x.device).view(1, 1, 4)\n",
    "        x_expanded = x.unsqueeze(-1).to(int)\n",
    "        tokens = (x_expanded >> shifts) & 0b11\n",
    "        tokens = tokens.view(B, N * 4)\n",
    "        one_hot = F.one_hot(tokens, num_classes=4).float()\n",
    "        x = one_hot.permute(0, 2, 1)\n",
    "        x = self.conv(x)\n",
    "        x = self.fc(x)\n",
    "        return x.to(float)\n",
    "\n",
    "\n",
    "model = benchmark(\n",
    "    feedforward.Classifier(LENGTH // 4, mapping, \"cuda\", CNN_2_dropout_token),\n",
    "    \"CNN\",\n",
    "    n_max_reads=1_200_000\n",
    ")"
   ]
  },
  {
   "cell_type": "code",
   "execution_count": 41,
   "id": "325885f2",
   "metadata": {},
   "outputs": [
    {
     "data": {
      "image/png": "[encoded data removed]",
      "text/plain": [
       "<Figure size 480x480 with 1 Axes>"
      ]
     },
     "metadata": {},
     "output_type": "display_data"
    }
   ],
   "source": [
    "from torch import no_grad\n",
    "import numpy as np\n",
    "\n",
    "def confusion_matrix(classifier, loader, device, mapping) -> np.ndarray:\n",
    "    \"\"\"Returns: A confusion matrix with rows corresponding to true labels.\"\"\"\n",
    "    matrix = np.zeros((len(mapping), len(mapping)))\n",
    "    with no_grad():\n",
    "        for x_batch, y_batch in loader:\n",
    "            x_batch = x_batch.type(float32).to(device)\n",
    "            #x_batch = x_batch.permute(0, 2, 1)  # Swap channels and sequence.\n",
    "            y_batch = y_batch.to(\"cpu\")\n",
    "            predictions = classifier.predict(x_batch)\n",
    "            for y, p in zip(y_batch, predictions):\n",
    "                matrix[y][p] += 1\n",
    "    return matrix\n",
    "\n",
    "matrix = confusion_matrix(model, test_data, \"cuda\", mapping)\n",
    "plt.matshow(matrix)\n",
    "plt.show()"
   ]
  },
  {
   "cell_type": "code",
   "execution_count": 46,
   "id": "58550ec3",
   "metadata": {},
   "outputs": [
    {
     "name": "stdout",
     "output_type": "stream",
     "text": [
      "[[ 262.    7.   31.    0.    0.    1.    0.    0.    1.    2.    3.   12.   27.    0.    4.    1.    0.    0.    0.   20.   69.    0.   81.    0.    6.    0.    0.    0.    0.]\n",
      " [  41.  447.   14.    1.   11.    8.   63.    4.   27.   31.   31.    0.    1.    6.    1.    1.    5.   47.    3.   29.   13.    6.  169.    5.    7.    0.    0.    0.    0.]\n",
      " [  87.  155.  456.    0.   24.  305.    0.    0.   14.    3.    3.    4.    4.    0.   52.    0.    2.    0.    0.   33.  201.    0.  132.    0.   16.    1.    0.    0.    0.]\n",
      " [   0.    4.    0.  603.    9.    0.   79.   60.    4.  123.    2.    3.    4.    1.    0.    0.    0.   49.  190.    0.    0.   18.   33.   41.    0.    0.    0.    0.    0.]\n",
      " [   3.   23.    0.  114.  658.    0.   88.   25.  155.   71.   10.   16.    5.   13.    0.    0.   25.  324.  689.    8.    0.   13.  197.   82.    0.    0.    0.    0.    0.]\n",
      " [   0.    0.    0.    0.    1.   16.    0.    0.    0.    0.    0.    0.    2.    0.    2.    0.    0.    0.    0.    0.  141.    0.    1.    0.    0.    0.    0.    0.    0.]\n",
      " [   0.   24.    0.  155.    3.    0. 2277.    0.    0.   20.   12.    0.   12.    0.    0.    0.    1.    0.   65.    0.    0.    0.   48.   47.    1.    0.    0.    0.    0.]\n",
      " [   1.   14.    0.   27.    0.    0.   20. 2990.    0.    3.    0.    2.    0.    1.    0.    0.    0.    2.   36.    0.    0.  444.    0.   95.    0.    0.    0.    0.    0.]\n",
      " [   0.    1.    0.   16.    0.    0.    0.    1.  129.    0.    1.    0.    0.    0.    0.    0.    0.    1.    4.    0.    7.    0.   46.    2.    0.    0.    0.    0.    0.]\n",
      " [   2.    4.    0.   23.    3.    0.    8.    5.    1.  639.    1.   89.   55.    0.    0.    1.    0.    9.   16.    2.    1.    9.   20.  140.    0.    0.    0.    0.    0.]\n",
      " [   1.   44.    4.    0.    0.    4.    0.    0.    0.    0.   50.    0.    0.    1.   13.    0.    9.    0.    0.    6.    5.    0.   66.    0.    0.    0.    0.    0.    0.]\n",
      " [   1.    3.    0.   33.    2.    0.    7.  167.    0.    9.    0.    8.    0.    0.    0.    0.    0.   11.   17.    0.    0.   49.    1.   46.    0.    0.    0.    0.    0.]\n",
      " [   6.    0.    0.    1.    1.    0.   13.    0.    0.   64.    0.   51. 1090.    0.    0.    0.    0.    0.    3.    4.    1.    2.   35.    3.    0.    0.    0.    0.    0.]\n",
      " [   2.    5.   54.    4.    1.    0.    2.  109.    0.    1.    1.    0.    4.    6.    1.    0.    2.    0.    0.  104.    3.   22.  660.    1.    0.    0.    0.    0.    0.]\n",
      " [  17.    0.  364.    0.    0.    2.    0.    0.    0.    0.   12.    0.    0.    0.  633.    0.    0.    0.    0.    2.  514.    0.    5.    0.    1.    0.    0.    0.    0.]\n",
      " [ 172.   68.    0.    0.    0.   63.    0.    0.    4.    3.   51.    0.   25.    0.    5.   35.    1.    0.    0.    7.   57.    0.  156.    0.    2.    0.    0.    0.    0.]\n",
      " [  60.    5.  239.    5.   43.   37.   13.    0.    0.    2.   85.    1.   11.    2.  180.    0.    6.   15.    8.   61. 1395.    0.  214.    2.    2.    0.    0.    0.    0.]\n",
      " [  21.   32.   26.   53.  362.    6.   26.   20.   18.   45.    4.   22.    8.   12.    7.    0.   12. 2759.  654.    4.   53.   13.  474.  184.    0.    0.    0.    0.    0.]\n",
      " [   0.    2.    0.  632.  162.    0.  105.   16.    6.  300.    1.   45.   16.   10.    0.    1.    4.  444. 1034.    1.    0.    4.  324.  404.    0.    0.    0.    0.    0.]\n",
      " [  28.   90.   78.    9.   67.    5.   27.    0.    3.   15.   76.    1.   46.   24.   24.    0.   49.    8.    7. 1026.  281.    2. 3467.  227.   13.    0.    0.    0.    0.]\n",
      " [  26.    0.    9.    0.    0.   11.    0.    0.    0.   33.   45.    0.  208.    0.   18.    7.   13.    0.    6.   58. 2857.    0.   18.   37.    0.    0.    0.    0.    0.]\n",
      " [   1.    8.    0.  164.    0.    0.  307.  187.    2.   45.    1.   25.    7.    3.    0.    0.    0.    4.   90.    0.    0. 5239.    1.   56.    1.    0.    0.    0.    0.]\n",
      " [  10.  125.    4.    5.    3.   12.    9.    0.    2.    3.    4.    0.   22.    0.    0.    0.    5.    0.    7.   25.    8.    0.  542.   53.    1.    0.    0.    0.    0.]\n",
      " [   0.    3.    0.  122.    2.    0.  155.  102.    0.  255.    0.    2.   45.    0.    0.    0.    0.   49.  207.    5.    2.   41.   79. 2145.    2.    0.    0.    0.    0.]\n",
      " [  42.   23.   17.   25.    1.    1.   73.   11.    0.   29.    7.    8.   17.    3.    3.    0.    0.    4.   12.   23.   33.   77.  162.   37.   48.    0.    0.    0.    0.]\n",
      " [  22.    9.    3.    1.    0.    2.    2.    0.    0.    3.    2.    1.    2.    0.    0.    0.    0.    0.    0.    0.    1.    0.    9.    0.    4.    1.    0.    0.    0.]\n",
      " [   4.    3.    0.    0.    0.    0.    1.    0.    0.    2.    0.    0.    0.    0.    0.    0.    0.    0.    0.    1.    0.    0.    0.    0.    0.    0.    0.    0.    0.]\n",
      " [   0.    0.    0.    0.    0.    0.    0.    0.    0.    0.    0.    0.    0.    0.    0.    0.    0.    0.    0.    0.    0.    0.    0.    0.    0.    0.    0.    0.    0.]\n",
      " [   0.    0.    0.    0.    0.    0.    0.    0.    0.    0.    0.    0.    0.    0.    0.    0.    0.    0.    0.    0.    0.    0.    0.    0.    0.    0.    0.    0.    0.]]\n",
      "50000.0\n",
      "[ 809. 1099. 1299. 1993. 1353.  473. 3275. 3697.  366. 1701.  402.  290. 1611.   82.  943.   46.  134. 3726. 3048. 1419. 5642. 5939. 6940. 3607.  104.    2.    0.    0.    0.]\n",
      "[ 527.  971. 1492. 1223. 2519.  163. 2665. 3635.  208. 1028.  203.  354. 1274.  982. 1550.  649. 2386. 4815. 3511. 5573. 3346. 6141.  840. 3216.  656.   62.   11.    0.    0.]\n"
     ]
    }
   ],
   "source": [
    "np.set_printoptions(precision=3, suppress=True, linewidth=250)\n",
    "print(matrix)\n",
    "print(np.sum(matrix))\n",
    "print(np.sum(matrix, axis=0))\n",
    "print(np.sum(matrix, axis=1))"
   ]
  }
 ],
 "metadata": {
  "kernelspec": {
   "display_name": "venv",
   "language": "python",
   "name": "python3"
  },
  "language_info": {
   "codemirror_mode": {
    "name": "ipython",
    "version": 3
   },
   "file_extension": ".py",
   "mimetype": "text/x-python",
   "name": "python",
   "nbconvert_exporter": "python",
   "pygments_lexer": "ipython3",
   "version": "3.11.2"
  }
 },
 "nbformat": 4,
 "nbformat_minor": 5
}
