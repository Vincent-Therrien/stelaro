{
 "cells": [
  {
   "cell_type": "markdown",
   "id": "36ae27f1",
   "metadata": {},
   "source": [
    "# Large Dataset Training"
   ]
  },
  {
   "cell_type": "code",
   "execution_count": 1,
   "id": "a54f5c43",
   "metadata": {},
   "outputs": [],
   "source": [
    "import os\n",
    "import json\n",
    "from stelaro.data import synthetic\n",
    "\n",
    "DATA_DIRECTORY = \"../data/\"\n",
    "SUMMARY_DIRECTORY = DATA_DIRECTORY + \"ncbi_genome_summaries/\"\n",
    "NCBI_TAXONOMY_DIRECTORY = DATA_DIRECTORY + \"ncbi_taxonomy/\"\n",
    "DATASET_V1_DIRECTORY = DATA_DIRECTORY + \"version_1/\"\n",
    "DATASET_V1_COMPRESSED_DIRECTORY = DATASET_V1_DIRECTORY + \"compressed/\"\n",
    "\n",
    "\n",
    "def mkdir(path: str) -> None:\n",
    "    \"\"\"Create a directory if it does not exist.\"\"\"\n",
    "    if not os.path.exists(path):\n",
    "        os.makedirs(path)\n",
    "\n",
    "\n",
    "mkdir(DATA_DIRECTORY)\n",
    "mkdir(DATASET_V1_DIRECTORY)\n",
    "mkdir(DATASET_V1_COMPRESSED_DIRECTORY)"
   ]
  },
  {
   "cell_type": "markdown",
   "id": "97b9728e",
   "metadata": {},
   "source": [
    "## 1. Compress The Dataset"
   ]
  },
  {
   "cell_type": "code",
   "execution_count": 2,
   "id": "426a559a",
   "metadata": {},
   "outputs": [
    {
     "name": "stderr",
     "output_type": "stream",
     "text": [
      "100%|██████████| 27/27 [06:18<00:00, 14.00s/it]\n"
     ]
    }
   ],
   "source": [
    "LENGTH = 1500\n",
    "with open(\"../datasets/version_1_splits/map.json\", \"r\") as f:\n",
    "    index_to_taxonomic_label = json.load(f)\n",
    "\n",
    "for dataset_name in (\"validate\", ):#\"test\", \"train\"):\n",
    "    with open(f\"../datasets/version_1_splits/{dataset_name}.json\", \"r\") as f:\n",
    "        dataset = json.load(f)\n",
    "    index_to_n_passes = {}\n",
    "    directory = DATASET_V1_COMPRESSED_DIRECTORY + dataset_name + \"/\"\n",
    "    mkdir(directory)\n",
    "    synthetic.compress_dataset(\n",
    "        dataset,\n",
    "        index_to_taxonomic_label,\n",
    "        \"../data/version_1/genomes/\",\n",
    "        LENGTH,\n",
    "        directory\n",
    "    )"
   ]
  },
  {
   "cell_type": "markdown",
   "id": "d43f6fd9",
   "metadata": {},
   "source": [
    "## 2. Sample Data"
   ]
  },
  {
   "cell_type": "code",
   "execution_count": 2,
   "id": "e80aac16",
   "metadata": {},
   "outputs": [],
   "source": [
    "n = synthetic.get_n_reads_in_compressed_dataset(\n",
    "    DATASET_V1_COMPRESSED_DIRECTORY + \"validate/\",\n",
    ")\n",
    "ids = synthetic.get_random_identifiers(n)"
   ]
  },
  {
   "cell_type": "code",
   "execution_count": null,
   "id": "2aa734fa",
   "metadata": {},
   "outputs": [
    {
     "name": "stdout",
     "output_type": "stream",
     "text": [
      "0 0 353601 353601\n",
      "1 0 769004 769004\n",
      "2 0 107359 107359\n",
      "3 0 345987 345987\n",
      "4 0 530637 530637\n",
      "5 0 1243784 1243784\n",
      "6 0 25346 25346\n",
      "7 0 1209618 1209618\n",
      "8 0 1228558 1228558\n",
      "9 0 665434 665434\n",
      "0 1000000 353601 -646399\n",
      "1 1000000 769004 -230996\n",
      "2 1000000 107359 -892641\n",
      "3 1000000 345987 -654013\n",
      "4 1000000 530637 -469363\n",
      "5 1000000 1243784 243784\n",
      "6 1000000 25346 -974654\n",
      "7 1000000 1209618 209618\n",
      "8 1000000 1228558 228558\n",
      "9 1000000 665434 -334566\n",
      "[ 7 16  2  6  7 22  1 21 22 12]\n",
      "[[ 69  89 139 ...  98  58 235]\n",
      " [129 239 121 ... 217  91 160]\n",
      " [114 227 143 ...  66  18 223]\n",
      " ...\n",
      " [148 174  85 ...  90  22 134]\n",
      " [227  82 140 ... 158 177 253]\n",
      " [191   7 243 ... 169 253 244]]\n"
     ]
    }
   ],
   "source": [
    "x, y = synthetic.sample_compressed_dataset(\n",
    "    DATASET_V1_COMPRESSED_DIRECTORY + \"validate/\",\n",
    "    10,\n",
    "    1500,\n",
    "    ids,\n",
    "    0\n",
    ")"
   ]
  },
  {
   "cell_type": "code",
   "execution_count": null,
   "id": "a206af78",
   "metadata": {},
   "outputs": [
    {
     "name": "stdout",
     "output_type": "stream",
     "text": [
      "['Viruses', 'Monodnaviria']\n",
      "5158834\n"
     ]
    }
   ],
   "source": [
    "with open(f\"../datasets/version_1_splits/train.json\", \"r\") as f:\n",
    "    dataset = json.load(f)\n",
    "\n",
    "\n",
    "taxon = dataset[-1]\n",
    "print(taxon[0])\n",
    "references = []\n",
    "for element in taxon[1]:\n",
    "    genus, ref = element\n",
    "    references += ref\n",
    "print(synthetic.evaluate_n_nucleotides(references))\n"
   ]
  }
 ],
 "metadata": {
  "kernelspec": {
   "display_name": "venv",
   "language": "python",
   "name": "python3"
  },
  "language_info": {
   "codemirror_mode": {
    "name": "ipython",
    "version": 3
   },
   "file_extension": ".py",
   "mimetype": "text/x-python",
   "name": "python",
   "nbconvert_exporter": "python",
   "pygments_lexer": "ipython3",
   "version": "3.11.2"
  }
 },
 "nbformat": 4,
 "nbformat_minor": 5
}
