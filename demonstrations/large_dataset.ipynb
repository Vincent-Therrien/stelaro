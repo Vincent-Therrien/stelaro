{
 "cells": [
  {
   "cell_type": "markdown",
   "id": "36ae27f1",
   "metadata": {},
   "source": [
    "# Large Dataset Training"
   ]
  },
  {
   "cell_type": "code",
   "execution_count": 1,
   "id": "a54f5c43",
   "metadata": {},
   "outputs": [],
   "source": [
    "import os\n",
    "import json\n",
    "from stelaro.data import synthetic\n",
    "\n",
    "DATA_DIRECTORY = \"../data/\"\n",
    "SUMMARY_DIRECTORY = DATA_DIRECTORY + \"ncbi_genome_summaries/\"\n",
    "NCBI_TAXONOMY_DIRECTORY = DATA_DIRECTORY + \"ncbi_taxonomy/\"\n",
    "DATASET_V1_DIRECTORY = DATA_DIRECTORY + \"version_1/\"\n",
    "DATASET_V1_COMPRESSED_DIRECTORY = DATASET_V1_DIRECTORY + \"compressed/\"\n",
    "\n",
    "\n",
    "def mkdir(path: str) -> None:\n",
    "    \"\"\"Create a directory if it does not exist.\"\"\"\n",
    "    if not os.path.exists(path):\n",
    "        os.makedirs(path)\n",
    "\n",
    "\n",
    "mkdir(DATA_DIRECTORY)\n",
    "mkdir(DATASET_V1_DIRECTORY)\n",
    "mkdir(DATASET_V1_COMPRESSED_DIRECTORY)"
   ]
  },
  {
   "cell_type": "markdown",
   "id": "97b9728e",
   "metadata": {},
   "source": [
    "## 1. Compress The Dataset"
   ]
  },
  {
   "cell_type": "code",
   "execution_count": 3,
   "id": "426a559a",
   "metadata": {},
   "outputs": [
    {
     "name": "stderr",
     "output_type": "stream",
     "text": [
      "100%|██████████| 27/27 [06:14<00:00, 13.86s/it]\n",
      "100%|██████████| 27/27 [05:45<00:00, 12.81s/it]\n",
      "100%|██████████| 27/27 [41:05<00:00, 91.32s/it] \n"
     ]
    }
   ],
   "source": [
    "LENGTH = 1500\n",
    "with open(\"../datasets/version_1_splits/map.json\", \"r\") as f:\n",
    "    index_to_taxonomic_label = json.load(f)\n",
    "\n",
    "for dataset_name in (\"validate\", \"test\", \"train\"):\n",
    "    with open(f\"../datasets/version_1_splits/{dataset_name}.json\", \"r\") as f:\n",
    "        dataset = json.load(f)\n",
    "    index_to_n_passes = {}\n",
    "    directory = DATASET_V1_COMPRESSED_DIRECTORY + dataset_name + \"/\"\n",
    "    mkdir(directory)\n",
    "    synthetic.compress_dataset(\n",
    "        dataset,\n",
    "        index_to_taxonomic_label,\n",
    "        \"../data/version_1/genomes/\",\n",
    "        LENGTH,\n",
    "        directory\n",
    "    )"
   ]
  },
  {
   "cell_type": "markdown",
   "id": "d43f6fd9",
   "metadata": {},
   "source": [
    "## 2. Sample Data"
   ]
  },
  {
   "cell_type": "code",
   "execution_count": 2,
   "id": "e80aac16",
   "metadata": {},
   "outputs": [
    {
     "name": "stdout",
     "output_type": "stream",
     "text": [
      "[ 12643  22777  34943  31102  60816   4144  64119  86229   5006  25801\n",
      "   5386   8599  29738  22694  37733  15253  58687 118124  85929 137871\n",
      "  79875 149174  21096  75607  16687   1920    346]\n"
     ]
    }
   ],
   "source": [
    "f = synthetic.get_n_reads_in_compressed_dataset(\n",
    "    DATASET_V1_COMPRESSED_DIRECTORY + \"test/\",\n",
    ")\n",
    "print(f)\n",
    "n = sum(f)\n",
    "ids = synthetic.get_random_identifiers(n)"
   ]
  },
  {
   "cell_type": "code",
   "execution_count": 3,
   "id": "2aa734fa",
   "metadata": {},
   "outputs": [
    {
     "name": "stdout",
     "output_type": "stream",
     "text": [
      "[ 2091  3754  5830  5052 10021   647 10467 14440   800  4357   888  1434\n",
      "  4802  3723  6316  2519  9638 19468 14160 22791 13193 24595  3484 12415\n",
      "  2733   330    52]\n",
      "200000\n"
     ]
    }
   ],
   "source": [
    "from numpy import bincount\n",
    "x, y = synthetic.sample_compressed_dataset(\n",
    "    DATASET_V1_COMPRESSED_DIRECTORY + \"test/\",\n",
    "    200_000,\n",
    "    1500,\n",
    "    ids,\n",
    "    400000\n",
    ")\n",
    "print(bincount(y))\n",
    "print(sum(bincount(y)))"
   ]
  },
  {
   "cell_type": "code",
   "execution_count": null,
   "id": "0ccdf478",
   "metadata": {},
   "outputs": [
    {
     "name": "stdout",
     "output_type": "stream",
     "text": [
      "{0: 1069153, 1: 342594, 2: 1109940, 3: 1199448, 4: 3540, 5: 1111912, 6: 417384, 7: 690975, 8: 491436, 9: 355662}\n"
     ]
    }
   ],
   "source": [
    "import numpy as np\n",
    "from random import shuffle\n",
    "\n",
    "\n",
    "def get_floored_random_identifiers(directory: str, floor: int, n: int) -> dict:\n",
    "    \"\"\"Same as `get_random_identifiers`, but generates identifiers that\n",
    "    include all elements of a class if its count is low.\n",
    "    \"\"\"\n",
    "    assert floor > 1, \"Invalid floor.\"\n",
    "    # Determine the number of samples for each class.\n",
    "    total_reads = synthetic.get_n_reads_in_compressed_dataset(directory)\n",
    "    counts_to_fetch = {}\n",
    "    for i, n_reads in enumerate(total_reads):\n",
    "        if n_reads < floor:\n",
    "            counts_to_fetch[i] = int(n_reads)\n",
    "        else:\n",
    "            counts_to_fetch[i] = 0\n",
    "    n_remaining = n - sum(counts_to_fetch.values())\n",
    "    n_remaining_classes = len([0 for _, v in counts_to_fetch.items() if v == 0])\n",
    "    average = n_remaining / n_remaining_classes\n",
    "    for i, n_reads in enumerate(total_reads):\n",
    "        if counts_to_fetch[i] == 0:\n",
    "            counts_to_fetch[i] = int(average)\n",
    "            if average > n_reads:\n",
    "                raise RuntimeError(f\"Insufficient number of reads. Required: {average}. Available: {n_reads}.\")\n",
    "    # Obtain sample indices.\n",
    "    assert directory.endswith(\"/\")\n",
    "    with open(directory + \"counts.json\", \"r\") as file:\n",
    "        counts = json.load(file)\n",
    "    identifiers = {k: [] for k in counts_to_fetch}\n",
    "    global_index = 0\n",
    "    for identifier, count in counts.items():\n",
    "        partial_y = np.load(directory + str(identifier) + \"_y.npy\")\n",
    "        partial_y = partial_y[:count]\n",
    "        for i in range(len(partial_y)):\n",
    "            identifiers[partial_y[i]].append(global_index)\n",
    "            global_index += 1\n",
    "    # Reduce the number of samples.\n",
    "    indices = []\n",
    "    for i in range(len(identifiers)):\n",
    "        shuffle(identifiers[i])\n",
    "        indices += identifiers[i][:counts_to_fetch[i]]\n",
    "    shuffle(indices)\n",
    "    identifiers = {}\n",
    "    for i, v in enumerate(indices):\n",
    "        identifiers[i] = v\n",
    "    return identifiers\n",
    "\n",
    "\n",
    "indices = get_floored_random_identifiers(\n",
    "    DATASET_V1_COMPRESSED_DIRECTORY + \"test/\",\n",
    "    1000,\n",
    "    50_000\n",
    ")"
   ]
  },
  {
   "cell_type": "code",
   "execution_count": 14,
   "id": "a206af78",
   "metadata": {},
   "outputs": [
    {
     "name": "stdout",
     "output_type": "stream",
     "text": [
      "['Viruses', 'Monodnaviria']\n",
      "5158834\n"
     ]
    }
   ],
   "source": [
    "with open(f\"../datasets/version_1_splits/train.json\", \"r\") as f:\n",
    "    dataset = json.load(f)\n",
    "\n",
    "\n",
    "taxon = dataset[-1]\n",
    "print(taxon[0])\n",
    "references = []\n",
    "for element in taxon[1]:\n",
    "    genus, ref = element\n",
    "    references += ref\n",
    "print(synthetic.evaluate_n_nucleotides(references))\n"
   ]
  },
  {
   "cell_type": "code",
   "execution_count": 7,
   "id": "cc08ee6c",
   "metadata": {},
   "outputs": [
    {
     "name": "stdout",
     "output_type": "stream",
     "text": [
      "(1000000, 375)\n"
     ]
    }
   ],
   "source": [
    "import numpy as np\n",
    "x = np.load(DATASET_V1_COMPRESSED_DIRECTORY + \"train/0_x.npy\")\n",
    "print(x.shape)"
   ]
  },
  {
   "cell_type": "markdown",
   "id": "950054ab",
   "metadata": {},
   "source": [
    "## 3. Train Neural Networks"
   ]
  },
  {
   "cell_type": "code",
   "execution_count": 2,
   "id": "a33f08b4",
   "metadata": {},
   "outputs": [],
   "source": [
    "from stelaro import models\n",
    "from torch.utils.data import DataLoader\n",
    "import json\n",
    "from torch.optim import Adam\n",
    "import matplotlib.pyplot as plt\n",
    "from stelaro.models import feedforward, autoencoder, transformer\n",
    "from time import time\n",
    "\n",
    "LENGTH = 1500\n",
    "BATCH_SIZE = 128\n",
    "N_SAMPLE_BETWEEN_INTERVALS = 50_000\n",
    "\n",
    "train_data = DataLoader(\n",
    "    synthetic.CompressedReadDataset(\n",
    "        \"../data/version_1/compressed/train/\", N_SAMPLE_BETWEEN_INTERVALS, 10\n",
    "    ),\n",
    "    batch_size=BATCH_SIZE,\n",
    "    shuffle=False\n",
    ")\n",
    "validate_data = DataLoader(\n",
    "    synthetic.SyntheticReadDataset(\n",
    "        \"../data/version_1/compressed/validate/\", 50_000, LENGTH, 2000\n",
    "    ),\n",
    "    batch_size=BATCH_SIZE,\n",
    "    shuffle=False\n",
    ")\n",
    "test_data = DataLoader(\n",
    "    synthetic.SyntheticReadDataset(\n",
    "        \"../data/version_1/compressed/test/\", 100_000, LENGTH, 2000\n",
    "    ),\n",
    "    batch_size=BATCH_SIZE,\n",
    "    shuffle=False\n",
    ")\n",
    "\n",
    "with open(\"../datasets/version_1_splits/map.json\", \"r\") as f:\n",
    "    mapping = json.load(f)\n",
    "\n",
    "\n",
    "def benchmark(classifier: models.BaseClassifier, name: str, n_max_reads, patience=4):\n",
    "    train_data.dataset.reset()\n",
    "    parameters = classifier.get_parameters()\n",
    "    if parameters:\n",
    "        optimizer = Adam(classifier.get_parameters(), lr=0.001)\n",
    "        total_params = sum(param.numel() for param in parameters)\n",
    "        print(f\"Number of parameters: {total_params:_}\")\n",
    "    else:\n",
    "        optimizer = None\n",
    "    a = time()\n",
    "    losses, f1 = classifier.train_large_dataset(\n",
    "        train_data,\n",
    "        validate_data,\n",
    "        optimizer,\n",
    "        evaluation_interval=N_SAMPLE_BETWEEN_INTERVALS,\n",
    "        n_max_reads=n_max_reads,\n",
    "        patience=patience,\n",
    "    )\n",
    "    b = time()\n",
    "    print(f\"Training took {(b - a):.3f} s.\")\n",
    "    if losses:\n",
    "        fig, ax = plt.subplots(1, 2, figsize=(12, 4))\n",
    "        x = list(range(len(losses)))\n",
    "        ax[0].plot(x, losses, label=\"losses\")\n",
    "        ax[0].set(xlabel='Epochs', ylabel='Loss')\n",
    "        ax[0].set_title(\"Loss\")\n",
    "        ax[1].set(xlabel='Epochs', ylabel=\"f1\")\n",
    "        ax[1].set_title(\"F1 Score\")\n",
    "        r = 0\n",
    "        for f in f1:\n",
    "            ax[1].plot(x, f, label=f'Rank {r}')\n",
    "            r += 1\n",
    "        ax[1].legend()\n",
    "        fig.suptitle(f\"Classification Training for {name}\")\n",
    "        plt.show()\n",
    "    result = models.evaluate(classifier, test_data, \"cuda\", mapping, permute=False)\n",
    "    rounded_result = [float(f\"{r:.5}\") for r in result]\n",
    "    print(f\"Test results: {rounded_result}\")\n",
    "    return classifier\n",
    "\n",
    "\n",
    "from torch import no_grad, float32\n",
    "import numpy as np\n",
    "\n",
    "\n",
    "def confusion_matrix(classifier, loader, device, mapping) -> np.ndarray:\n",
    "    \"\"\"Returns: A confusion matrix with rows corresponding to true labels.\"\"\"\n",
    "    matrix = np.zeros((len(mapping), len(mapping)))\n",
    "    with no_grad():\n",
    "        for x_batch, y_batch in loader:\n",
    "            x_batch = x_batch.type(float32).to(device)\n",
    "            #x_batch = x_batch.permute(0, 2, 1)  # Swap channels and sequence.\n",
    "            y_batch = y_batch.to(\"cpu\")\n",
    "            predictions = classifier.predict(x_batch)\n",
    "            for y, p in zip(y_batch, predictions):\n",
    "                matrix[y][p] += 1\n",
    "    return matrix"
   ]
  },
  {
   "cell_type": "markdown",
   "id": "c7ed2768",
   "metadata": {},
   "source": [
    "### 3.1. Baseline"
   ]
  },
  {
   "cell_type": "code",
   "execution_count": null,
   "id": "d89076ce",
   "metadata": {},
   "outputs": [
    {
     "name": "stderr",
     "output_type": "stream",
     "text": [
      "  0%|          | 234/68609 [00:00<03:01, 377.43it/s]\n"
     ]
    },
    {
     "name": "stdout",
     "output_type": "stream",
     "text": [
      "Training took 0.622 s.\n",
      "Test results: [0.32995, 0.032383]\n"
     ]
    }
   ],
   "source": [
    "model = benchmark(\n",
    "    models.RandomClassifier(),\n",
    "    \"Random Classifier\",\n",
    "    n_max_reads=30_000\n",
    ")\n",
    "model.n_classes = len(mapping)"
   ]
  },
  {
   "cell_type": "code",
   "execution_count": null,
   "id": "43dd8e58",
   "metadata": {},
   "outputs": [
    {
     "name": "stdout",
     "output_type": "stream",
     "text": [
      "{'0': ['Archaea', 'Thermoproteota'], '1': ['Archaea', 'Halobacteriota'], '2': ['Archaea', 'Methanobacteriota'], '3': ['Bacteria', 'Acidobacteriota'], '4': ['Bacteria', 'Desulfobacterota'], '5': ['Bacteria', 'Aquificota'], '6': ['Bacteria', 'Planctomycetota'], '7': ['Bacteria', 'Myxococcota'], '8': ['Bacteria', 'Synergistota'], '9': ['Bacteria', 'Chloroflexota'], '10': ['Bacteria', 'Thermotogota'], '11': ['Bacteria', 'Deinococcota'], '12': ['Bacteria', 'Cyanobacteriota'], '13': ['Bacteria', 'Bacteroidota_A'], '14': ['Bacteria', 'Fusobacteriota'], '15': ['Bacteria', 'Chlamydiota'], '16': ['Bacteria', 'Spirochaetota'], '17': ['Bacteria', 'Desulfobacterota_I'], '18': ['Bacteria', 'Verrucomicrobiota'], '19': ['Bacteria', 'Bacteroidota'], '20': ['Bacteria', 'Campylobacterota'], '21': ['Bacteria', 'Actinomycetota'], '22': ['Bacteria', 'Bacillota'], '23': ['Bacteria', 'Pseudomonadota'], '24': ['Viruses', 'Duplodnaviria'], '25': ['Viruses', 'Riboviria'], '26': ['Viruses', 'Monodnaviria']}\n"
     ]
    },
    {
     "data": {
      "image/png": "[encoded data removed]",
      "text/plain": [
       "<Figure size 480x480 with 1 Axes>"
      ]
     },
     "metadata": {},
     "output_type": "display_data"
    }
   ],
   "source": [
    "matrix = confusion_matrix(model, test_data, \"cuda\", mapping)\n",
    "plt.matshow(matrix)\n",
    "plt.show()"
   ]
  },
  {
   "cell_type": "code",
   "execution_count": 7,
   "id": "983cfa94",
   "metadata": {},
   "outputs": [
    {
     "name": "stdout",
     "output_type": "stream",
     "text": [
      "[[67. 51. 75. 71. 66. 77. 81. 70. 71. 70. 73. 73. 68. 65. 58. 89. 78. 65. 65. 84. 63. 78. 78. 67. 74. 80. 72.]\n",
      " [65. 75. 68. 77. 75. 65. 77. 80. 69. 77. 69. 67. 72. 83. 60. 63. 68. 63. 71. 68. 76. 75. 80. 60. 63. 75. 68.]\n",
      " [69. 66. 75. 87. 69. 70. 68. 71. 76. 67. 59. 75. 65. 57. 64. 56. 77. 76. 81. 70. 70. 77. 84. 64. 77. 66. 73.]\n",
      " [50. 85. 83. 73. 73. 75. 77. 80. 72. 60. 70. 75. 66. 65. 65. 62. 68. 70. 81. 71. 53. 89. 77. 71. 57. 60. 81.]\n",
      " [51. 81. 72. 76. 62. 69. 64. 81. 63. 79. 69. 92. 66. 91. 63. 78. 84. 72. 64. 69. 70. 73. 73. 71. 58. 62. 56.]\n",
      " [71. 70. 67. 66. 71. 81. 57. 72. 57. 78. 75. 71. 84. 69. 74. 77. 68. 67. 77. 70. 59. 70. 69. 69. 73. 76. 71.]\n",
      " [65. 63. 70. 80. 80. 51. 68. 74. 71. 69. 66. 71. 68. 52. 71. 65. 71. 76. 81. 62. 87. 81. 69. 84. 58. 83. 73.]\n",
      " [72. 66. 67. 80. 56. 69. 70. 72. 69. 62. 76. 66. 77. 84. 83. 77. 76. 58. 65. 57. 69. 79. 78. 71. 71. 80. 59.]\n",
      " [61. 68. 65. 60. 75. 82. 74. 77. 85. 81. 63. 70. 66. 86. 65. 63. 69. 74. 78. 63. 62. 66. 85. 67. 78. 55. 71.]\n",
      " [72. 76. 75. 64. 87. 51. 57. 72. 65. 62. 80. 71. 87. 61. 74. 59. 64. 79. 58. 65. 69. 74. 70. 73. 77. 78. 89.]\n",
      " [84. 52. 74. 68. 60. 69. 79. 71. 66. 67. 81. 69. 71. 82. 73. 75. 55. 75. 89. 62. 76. 67. 70. 62. 71. 63. 78.]\n",
      " [87. 78. 83. 76. 67. 60. 64. 61. 65. 73. 74. 62. 78. 82. 60. 62. 61. 69. 67. 82. 60. 68. 64. 65. 81. 81. 79.]\n",
      " [72. 80. 68. 76. 58. 74. 83. 57. 77. 75. 72. 58. 74. 77. 71. 69. 56. 72. 82. 69. 73. 72. 61. 69. 75. 76. 63.]\n",
      " [81. 62. 82. 74. 49. 72. 76. 79. 59. 67. 70. 85. 80. 77. 68. 58. 57. 70. 64. 71. 84. 65. 71. 80. 70. 79. 59.]\n",
      " [85. 61. 76. 74. 66. 76. 56. 76. 66. 63. 65. 71. 71. 70. 70. 59. 58. 69. 82. 82. 66. 82. 67. 77. 81. 57. 83.]\n",
      " [82. 66. 70. 65. 70. 72. 70. 71. 57. 87. 62. 74. 66. 66. 77. 86. 57. 69. 71. 75. 59. 69. 64. 68. 63. 88. 85.]\n",
      " [75. 76. 81. 76. 70. 88. 66. 66. 70. 77. 79. 64. 62. 72. 78. 54. 69. 66. 69. 70. 62. 67. 72. 66. 69. 63. 82.]\n",
      " [67. 70. 53. 58. 83. 67. 70. 68. 72. 71. 78. 86. 64. 65. 61. 68. 71. 66. 68. 79. 83. 93. 62. 76. 71. 78. 61.]\n",
      " [68. 83. 51. 82. 62. 70. 74. 68. 82. 72. 69. 61. 82. 63. 59. 64. 78. 66. 73. 71. 66. 91. 74. 67. 72. 73. 68.]\n",
      " [66. 81. 59. 79. 51. 68. 77. 65. 78. 83. 67. 72. 74. 67. 63. 79. 66. 71. 83. 73. 68. 58. 59. 68. 67. 77. 90.]\n",
      " [80. 67. 65. 61. 65. 70. 75. 70. 69. 71. 81. 63. 64. 68. 87. 76. 76. 64. 62. 66. 78. 68. 70. 72. 77. 77. 67.]\n",
      " [75. 55. 63. 71. 77. 71. 72. 72. 77. 74. 64. 71. 58. 65. 79. 69. 89. 69. 82. 86. 59. 74. 47. 66. 76. 78. 70.]\n",
      " [75. 67. 71. 79. 63. 73. 79. 50. 74. 72. 66. 64. 77. 64. 46. 75. 70. 67. 82. 71. 72. 73. 99. 72. 62. 69. 77.]\n",
      " [83. 80. 78. 70. 70. 61. 51. 68. 69. 79. 63. 62. 85. 71. 70. 79. 64. 51. 76. 74. 81. 74. 58. 68. 76. 78. 70.]\n",
      " [70. 89. 64. 71. 70. 75. 68. 66. 61. 72. 63. 56. 71. 68. 76. 59. 71. 77. 66. 84. 82. 60. 78. 70. 78. 61. 83.]\n",
      " [84. 83. 65. 82. 69. 73. 71. 67. 69. 76. 67. 67. 71. 56. 50. 82. 70. 79. 57. 62. 79. 74. 67. 69. 77. 68. 75.]\n",
      " [19. 15. 10. 10. 13.  9. 12. 18. 14.  7. 11. 14. 15. 13. 13. 12. 12. 12. 13. 14. 19. 11. 10. 15. 12. 11. 12.]]\n",
      "50000.0\n",
      "[1896. 1866. 1830. 1906. 1777. 1838. 1836. 1842. 1823. 1891. 1832. 1830. 1882. 1839. 1778. 1815. 1803. 1812. 1907. 1870. 1845. 1928. 1856. 1827. 1864. 1892. 1915.]\n",
      "[1929. 1909. 1909. 1909. 1909. 1909. 1909. 1909. 1909. 1909. 1909. 1909. 1909. 1909. 1909. 1909. 1909. 1909. 1909. 1909. 1909. 1909. 1909. 1909. 1909. 1909.  346.]\n"
     ]
    }
   ],
   "source": [
    "np.set_printoptions(precision=3, suppress=True, linewidth=250)\n",
    "print(matrix)\n",
    "print(np.sum(matrix))\n",
    "print(np.sum(matrix, axis=0))\n",
    "print(np.sum(matrix, axis=1))"
   ]
  },
  {
   "cell_type": "markdown",
   "id": "898b422f",
   "metadata": {},
   "source": [
    "### 3.2. CNN"
   ]
  },
  {
   "cell_type": "code",
   "execution_count": 11,
   "id": "0ea61bba",
   "metadata": {},
   "outputs": [
    {
     "name": "stdout",
     "output_type": "stream",
     "text": [
      "Number of parameters: 35_967_670\n"
     ]
    },
    {
     "name": "stderr",
     "output_type": "stream",
     "text": [
      "  1%|          | 396/68609 [00:19<5:50:06,  3.25it/s]"
     ]
    },
    {
     "name": "stdout",
     "output_type": "stream",
     "text": [
      "N Reads: 50048 Loss: 1010.50. F1: [0.30475, 0.053738]. Patience: 4\n"
     ]
    },
    {
     "name": "stderr",
     "output_type": "stream",
     "text": [
      "  1%|          | 784/68609 [00:40<9:59:53,  1.88it/s]"
     ]
    },
    {
     "name": "stdout",
     "output_type": "stream",
     "text": [
      "N Reads: 100096 Loss: 879.38. F1: [0.38529, 0.093334]. Patience: 4\n"
     ]
    },
    {
     "name": "stderr",
     "output_type": "stream",
     "text": [
      "  2%|▏         | 1177/68609 [01:02<6:47:38,  2.76it/s]"
     ]
    },
    {
     "name": "stdout",
     "output_type": "stream",
     "text": [
      "N Reads: 150144 Loss: 803.85. F1: [0.40049, 0.14599]. Patience: 4\n"
     ]
    },
    {
     "name": "stderr",
     "output_type": "stream",
     "text": [
      "  2%|▏         | 1567/68609 [01:26<8:25:37,  2.21it/s] "
     ]
    },
    {
     "name": "stdout",
     "output_type": "stream",
     "text": [
      "N Reads: 200192 Loss: 761.68. F1: [0.36856, 0.1783]. Patience: 4\n"
     ]
    },
    {
     "name": "stderr",
     "output_type": "stream",
     "text": [
      "  3%|▎         | 1957/68609 [01:47<8:56:13,  2.07it/s]"
     ]
    },
    {
     "name": "stdout",
     "output_type": "stream",
     "text": [
      "N Reads: 250240 Loss: 714.40. F1: [0.40692, 0.17854]. Patience: 4\n"
     ]
    },
    {
     "name": "stderr",
     "output_type": "stream",
     "text": [
      "  3%|▎         | 2351/68609 [02:12<8:02:39,  2.29it/s] "
     ]
    },
    {
     "name": "stdout",
     "output_type": "stream",
     "text": [
      "N Reads: 300288 Loss: 685.20. F1: [0.41042, 0.19531]. Patience: 4\n"
     ]
    },
    {
     "name": "stderr",
     "output_type": "stream",
     "text": [
      "  4%|▍         | 2742/68609 [02:34<6:34:21,  2.78it/s]"
     ]
    },
    {
     "name": "stdout",
     "output_type": "stream",
     "text": [
      "N Reads: 350336 Loss: 663.34. F1: [0.41068, 0.19997]. Patience: 4\n"
     ]
    },
    {
     "name": "stderr",
     "output_type": "stream",
     "text": [
      "  5%|▍         | 3133/68609 [02:58<8:01:38,  2.27it/s] "
     ]
    },
    {
     "name": "stdout",
     "output_type": "stream",
     "text": [
      "N Reads: 400384 Loss: 643.00. F1: [0.39821, 0.21228]. Patience: 4\n"
     ]
    },
    {
     "name": "stderr",
     "output_type": "stream",
     "text": [
      "  5%|▌         | 3524/68609 [03:21<6:13:26,  2.90it/s]"
     ]
    },
    {
     "name": "stdout",
     "output_type": "stream",
     "text": [
      "N Reads: 450432 Loss: 628.73. F1: [0.4019, 0.22195]. Patience: 4\n"
     ]
    },
    {
     "name": "stderr",
     "output_type": "stream",
     "text": [
      "  6%|▌         | 3914/68609 [03:45<7:58:11,  2.25it/s] "
     ]
    },
    {
     "name": "stdout",
     "output_type": "stream",
     "text": [
      "N Reads: 500480 Loss: 615.22. F1: [0.42855, 0.24757]. Patience: 4\n"
     ]
    },
    {
     "name": "stderr",
     "output_type": "stream",
     "text": [
      "  6%|▋         | 4303/68609 [04:07<8:11:16,  2.18it/s]"
     ]
    },
    {
     "name": "stdout",
     "output_type": "stream",
     "text": [
      "N Reads: 550528 Loss: 601.61. F1: [0.42689, 0.25745]. Patience: 4\n"
     ]
    },
    {
     "name": "stderr",
     "output_type": "stream",
     "text": [
      "  7%|▋         | 4694/68609 [04:32<10:59:32,  1.62it/s]"
     ]
    },
    {
     "name": "stdout",
     "output_type": "stream",
     "text": [
      "N Reads: 600576 Loss: 593.42. F1: [0.44568, 0.26412]. Patience: 4\n"
     ]
    },
    {
     "name": "stderr",
     "output_type": "stream",
     "text": [
      "  7%|▋         | 5085/68609 [04:55<8:28:37,  2.08it/s] "
     ]
    },
    {
     "name": "stdout",
     "output_type": "stream",
     "text": [
      "N Reads: 650624 Loss: 583.25. F1: [0.43684, 0.28328]. Patience: 4\n"
     ]
    },
    {
     "name": "stderr",
     "output_type": "stream",
     "text": [
      "  8%|▊         | 5478/68609 [05:21<7:57:48,  2.20it/s] "
     ]
    },
    {
     "name": "stdout",
     "output_type": "stream",
     "text": [
      "N Reads: 700672 Loss: 579.03. F1: [0.46303, 0.24641]. Patience: 3\n"
     ]
    },
    {
     "name": "stderr",
     "output_type": "stream",
     "text": [
      "  9%|▊         | 5867/68609 [05:45<8:35:37,  2.03it/s]"
     ]
    },
    {
     "name": "stdout",
     "output_type": "stream",
     "text": [
      "N Reads: 750720 Loss: 566.52. F1: [0.4374, 0.29428]. Patience: 3\n"
     ]
    },
    {
     "name": "stderr",
     "output_type": "stream",
     "text": [
      "  9%|▉         | 6261/68609 [06:11<8:10:37,  2.12it/s] "
     ]
    },
    {
     "name": "stdout",
     "output_type": "stream",
     "text": [
      "N Reads: 800768 Loss: 562.48. F1: [0.47543, 0.29603]. Patience: 3\n"
     ]
    },
    {
     "name": "stderr",
     "output_type": "stream",
     "text": [
      " 10%|▉         | 6651/68609 [06:35<6:13:21,  2.77it/s]"
     ]
    },
    {
     "name": "stdout",
     "output_type": "stream",
     "text": [
      "N Reads: 850816 Loss: 555.06. F1: [0.46326, 0.26431]. Patience: 2\n"
     ]
    },
    {
     "name": "stderr",
     "output_type": "stream",
     "text": [
      " 10%|█         | 7042/68609 [07:02<8:08:56,  2.10it/s] "
     ]
    },
    {
     "name": "stdout",
     "output_type": "stream",
     "text": [
      "N Reads: 900864 Loss: 558.89. F1: [0.51249, 0.28875]. Patience: 1\n"
     ]
    },
    {
     "name": "stderr",
     "output_type": "stream",
     "text": [
      " 11%|█         | 7432/68609 [07:26<8:21:03,  2.03it/s]"
     ]
    },
    {
     "name": "stdout",
     "output_type": "stream",
     "text": [
      "N Reads: 950912 Loss: 546.36. F1: [0.4639, 0.29811]. Patience: 1\n"
     ]
    },
    {
     "name": "stderr",
     "output_type": "stream",
     "text": [
      " 11%|█▏        | 7824/68609 [07:53<8:25:21,  2.00it/s] "
     ]
    },
    {
     "name": "stdout",
     "output_type": "stream",
     "text": [
      "N Reads: 1000960 Loss: 542.37. F1: [0.49557, 0.31291]. Patience: 1\n"
     ]
    },
    {
     "name": "stderr",
     "output_type": "stream",
     "text": [
      " 12%|█▏        | 8210/68609 [08:18<1:01:06, 16.47it/s]"
     ]
    },
    {
     "name": "stdout",
     "output_type": "stream",
     "text": [
      "N Reads: 1051008 Loss: 535.93. F1: [0.48375, 0.31049]. Patience: 0\n",
      "The model is overfitting; stopping early.\n",
      "Processed 1_051_008 reads.\n",
      "Training took 498.417 s.\n"
     ]
    },
    {
     "name": "stderr",
     "output_type": "stream",
     "text": [
      "\n"
     ]
    },
    {
     "data": {
      "image/png": "[encoded data removed]",
      "text/plain": [
       "<Figure size 1200x400 with 2 Axes>"
      ]
     },
     "metadata": {},
     "output_type": "display_data"
    },
    {
     "name": "stdout",
     "output_type": "stream",
     "text": [
      "Test results: [0.5222, 0.32266]\n"
     ]
    }
   ],
   "source": [
    "from torch.nn import (Module, Conv1d, ReLU, Sequential, Flatten, Linear,\n",
    "                      CrossEntropyLoss, Dropout, MaxPool1d)\n",
    "from torch import stack, tensor, float32\n",
    "from torch.func import vmap\n",
    "import torch.nn.functional as F\n",
    "\n",
    "\n",
    "class CNN_2_dropout_token(Module):\n",
    "    def __init__(self, N, M):\n",
    "        super(CNN_2_dropout_token, self).__init__()\n",
    "        self.conv = Sequential(\n",
    "            Conv1d(4, 32, kernel_size=7, padding=3),\n",
    "            ReLU(),\n",
    "            Conv1d(32, 64, kernel_size=5, padding=2),\n",
    "            ReLU(),\n",
    "            Conv1d(64, 128, kernel_size=3, padding=1),\n",
    "            ReLU(),\n",
    "        )\n",
    "        n = N * 4\n",
    "        self.fc = Sequential(\n",
    "            Flatten(),\n",
    "            Dropout(0.2),\n",
    "            Linear(n * 128, int(n / 8)),\n",
    "            ReLU(),\n",
    "            Dropout(0.2),\n",
    "            Linear(int(n / 8), 128),\n",
    "            ReLU(),\n",
    "            Dropout(0.2),\n",
    "            Linear(128, M)\n",
    "        )\n",
    "\n",
    "    def forward(self, x):\n",
    "        B, N = x.shape\n",
    "        shifts = tensor([6, 4, 2, 0], device=x.device).view(1, 1, 4)\n",
    "        x_expanded = x.unsqueeze(-1).to(int)\n",
    "        tokens = (x_expanded >> shifts) & 0b11\n",
    "        tokens = tokens.view(B, N * 4)\n",
    "        one_hot = F.one_hot(tokens, num_classes=4).float()\n",
    "        x = one_hot.permute(0, 2, 1)\n",
    "        x = self.conv(x)\n",
    "        x = self.fc(x)\n",
    "        return x.to(float)\n",
    "\n",
    "\n",
    "model = benchmark(\n",
    "    feedforward.Classifier(LENGTH // 4, mapping, \"cuda\", CNN_2_dropout_token),\n",
    "    \"CNN\",\n",
    "    n_max_reads=1_200_000\n",
    ")"
   ]
  },
  {
   "cell_type": "code",
   "execution_count": 13,
   "id": "91c7ac50",
   "metadata": {},
   "outputs": [
    {
     "data": {
      "image/png": "[encoded data removed]",
      "text/plain": [
       "<Figure size 480x480 with 1 Axes>"
      ]
     },
     "metadata": {},
     "output_type": "display_data"
    },
    {
     "name": "stdout",
     "output_type": "stream",
     "text": [
      "[[1909.    8.   35.    2.    0.    0.    0.   46.    9.   56.   40.   94.   82.    0.   67.    3.    4.    0.    0.  353.  388.   21.  730.    1.   70.    0.    0.]\n",
      " [ 391. 1593.   10.    6.   63.   21.  183.    3.  172.  108.  113.   13.    2.   58.    3.    2.   22.  325.    9.  124.   81.   35.  518.   24.   30.    0.    0.]\n",
      " [1188.  325.  319.    0.   15.   93.    0.    0.  230.    0.   76.  112.    2.    0.  121.    0.   11.    0.    0.   87.  673.    0.  582.    0.   75.    0.    0.]\n",
      " [   1.   35.    0. 1467.   24.    0.  618.  366.   24.  219.    5.   19.    5.   11.    0.    0.    0.  140.  349.    2.    1.   88.  142.  391.    2.    0.    0.]\n",
      " [   2.   27.    0.  100. 1417.    0.  276.   33.  334.  258.    3.   35.    8.   43.    0.    0.   25.  536.  392.   16.    3.   38.  257.  104.    2.    0.    0.]\n",
      " [  20.    3.    1.    0.    0.   81.    0.    0.    0.    4.    6.    8.    8.    0.    9.    0.    2.    0.    1.    8. 3753.    0.    5.    0.    0.    0.    0.]\n",
      " [   0.  164.    0.   51.    7.    0. 3480.    0.    0.   15.    6.    0.   11.    1.    0.    0.    3.    0.   52.    0.    1.    1.   26.   90.    1.    0.    0.]\n",
      " [   2.   31.    0.   16.    0.    0.   35. 2700.    1.    1.    0.    2.    0.    4.    0.    0.    0.    1.    8.    0.    0.  975.    1.  132.    0.    0.    0.]\n",
      " [   1.   15.    0.   41.    7.    0.    7.   43. 2854.    3.    9.    0.    0.    1.    0.    0.   42.   17.   20.    2.   88.    3.  733.   23.    0.    0.    0.]\n",
      " [  30.    8.    0.   76.   39.    0.   56.   60.    2. 2020.    3.  340.  156.    0.    0.    2.    0.   20.   46.   10.   15.   67.   96.  862.    1.    0.    0.]\n",
      " [  20.  260.    9.    4.   11.   83.    4.    0.   80.    3.  857.    2.    0.    6.  178.   11.  444.    0.    7.  416.  310.    0. 1203.    0.    1.    0.    0.]\n",
      " [   4.  146.    0.  177.    7.    0.  121. 1838.    8.   80.    3.  126.    2.    3.    0.    0.    0.   57.   30.    0.    3.  699.    4.  600.    1.    0.    0.]\n",
      " [  22.    0.    1.   10.    7.    0.   61.    0.    0.   71.    0.  280. 3299.    0.    0.    1.    1.    0.   22.   28.    8.    1.   57.   39.    1.    0.    0.]\n",
      " [  13.   27.    8.    2.    0.    0.    8.  332.    0.    2.    8.    0.   31.   14.    8.    0.   81.    0.    0. 1485.   17.   97. 1764.   10.    2.    0.    0.]\n",
      " [ 133.    0.  272.    0.    0.    0.    0.    0.    0.    1.  169.    0.    2.    0. 1903.    0.    2.    0.    0.   19. 1366.    0.   41.    0.    1.    0.    0.]\n",
      " [ 802.   99.    6.    0.    4.  364.    1.    0.   21.    3.  363.    0.  161.    0.   24.  257.   22.    0.    7.  172.  783.    0.  812.    2.    6.    0.    0.]\n",
      " [ 118.    5.  268.    6.  104.   10.   14.    0.    3.    3.  587.    2.   13.    0.  184.    4.   10.   29.    5.  174. 2055.    1.  310.    4.    0.    0.    0.]\n",
      " [  23.    8.    1.   79.  608.    0.   51.   24.   60.   29.    1.   22.    7.   38.    3.    0.    2. 1968.  202.   10.   67.   30.  451.  224.    1.    0.    0.]\n",
      " [   1.    5.    0.  874.  208.    0.  236.   48.   46.  154.    1.  168.   11.    8.    1.    0.    4.  461.  584.    5.    5.   11.  360.  717.    1.    0.    0.]\n",
      " [  23.   29.   18.    9.   55.    0.   30.    0.    1.    7.   18.    0.   32.    2.   11.    0.   11.    0.    3.  900.  243.    0. 2335.  174.    8.    0.    0.]\n",
      " [  11.    0.    2.    0.    1.    4.    0.    0.    0.   10.   26.    5.   67.    0.   19.    5.   56.    0.    0.   54. 3611.    0.   11.   26.    1.    0.    0.]\n",
      " [   0.   27.    0.   41.    1.    0.  348.   57.    0.   19.    0.    7.    2.    3.    0.    0.    0.    0.    9.    0.    0. 3351.    0.   44.    0.    0.    0.]\n",
      " [  71.  447.   10.   18.   10.   29.   47.    0.   30.    4.   10.    0.   42.    1.    3.    0.   20.    0.   21.   91.  111.    0. 2731.  206.    7.    0.    0.]\n",
      " [   0.   11.    0.  103.    4.    0.  263.  121.    7.  172.    0.    0.   42.    1.    0.    0.    0.   28.   79.    4.    7.   82.   91. 2891.    3.    0.    0.]\n",
      " [ 268.  225.   28.   61.   12.    2.  601.   54.    5.  198.   32.   36.   34.   23.   24.    0.    0.   24.   13.  106.  219.  347. 1022.  211.  364.    0.    0.]\n",
      " [ 875.  168.    4.   24.    2.    2.   63.   23.    4.   98.   73.   14.   46.    1.    4.    0.    5.    0.   29.   40.  106.   12.  188.   21.  118.    0.    0.]\n",
      " [ 102.   61.    2.    2.    0.    0.   12.    0.    0.   11.    5.    0.    2.    0.    0.    0.    0.    0.    1.    6.    8.    4.   57.   17.   56.    0.    0.]]\n"
     ]
    }
   ],
   "source": [
    "matrix = confusion_matrix(model, test_data, \"cuda\", mapping)\n",
    "plt.matshow(matrix)\n",
    "plt.show()\n",
    "np.set_printoptions(precision=3, suppress=True, linewidth=250)\n",
    "print(matrix)"
   ]
  },
  {
   "cell_type": "markdown",
   "id": "6e80f3e7",
   "metadata": {},
   "source": [
    "### 3.3. Transformer"
   ]
  },
  {
   "cell_type": "code",
   "execution_count": 9,
   "id": "acf33d9c",
   "metadata": {},
   "outputs": [
    {
     "name": "stdout",
     "output_type": "stream",
     "text": [
      "Number of parameters: 1_075_611\n"
     ]
    },
    {
     "name": "stderr",
     "output_type": "stream",
     "text": [
      "  0%|          | 157/68609 [01:28<203:32:08, 10.70s/it]"
     ]
    },
    {
     "name": "stdout",
     "output_type": "stream",
     "text": [
      "N Reads: 20096 Loss: 404.13. F1: [0.31579, 0.051469]. Patience: 10\n"
     ]
    },
    {
     "name": "stderr",
     "output_type": "stream",
     "text": [
      "  0%|          | 314/68609 [02:58<212:30:58, 11.20s/it]"
     ]
    },
    {
     "name": "stdout",
     "output_type": "stream",
     "text": [
      "N Reads: 40192 Loss: 359.25. F1: [0.31775, 0.078612]. Patience: 10\n"
     ]
    },
    {
     "name": "stderr",
     "output_type": "stream",
     "text": [
      "  1%|          | 471/68609 [04:30<212:30:24, 11.23s/it]"
     ]
    },
    {
     "name": "stdout",
     "output_type": "stream",
     "text": [
      "N Reads: 60288 Loss: 343.64. F1: [0.35996, 0.089922]. Patience: 10\n"
     ]
    },
    {
     "name": "stderr",
     "output_type": "stream",
     "text": [
      "  1%|          | 628/68609 [06:03<217:37:01, 11.52s/it]"
     ]
    },
    {
     "name": "stdout",
     "output_type": "stream",
     "text": [
      "N Reads: 80384 Loss: 323.77. F1: [0.33139, 0.15055]. Patience: 10\n"
     ]
    },
    {
     "name": "stderr",
     "output_type": "stream",
     "text": [
      "  1%|          | 785/68609 [07:39<220:16:25, 11.69s/it]"
     ]
    },
    {
     "name": "stdout",
     "output_type": "stream",
     "text": [
      "N Reads: 100480 Loss: 306.14. F1: [0.38888, 0.18928]. Patience: 10\n"
     ]
    },
    {
     "name": "stderr",
     "output_type": "stream",
     "text": [
      "  1%|▏         | 942/68609 [09:15<219:57:47, 11.70s/it]"
     ]
    },
    {
     "name": "stdout",
     "output_type": "stream",
     "text": [
      "N Reads: 120576 Loss: 287.08. F1: [0.40941, 0.19905]. Patience: 10\n"
     ]
    },
    {
     "name": "stderr",
     "output_type": "stream",
     "text": [
      "  2%|▏         | 1099/68609 [10:50<217:21:24, 11.59s/it]"
     ]
    },
    {
     "name": "stdout",
     "output_type": "stream",
     "text": [
      "N Reads: 140672 Loss: 275.99. F1: [0.40704, 0.19325]. Patience: 9\n"
     ]
    },
    {
     "name": "stderr",
     "output_type": "stream",
     "text": [
      "  2%|▏         | 1256/68609 [12:27<218:26:22, 11.68s/it]"
     ]
    },
    {
     "name": "stdout",
     "output_type": "stream",
     "text": [
      "N Reads: 160768 Loss: 267.72. F1: [0.4536, 0.20585]. Patience: 9\n"
     ]
    },
    {
     "name": "stderr",
     "output_type": "stream",
     "text": [
      "  2%|▏         | 1413/68609 [14:04<221:06:52, 11.85s/it]"
     ]
    },
    {
     "name": "stdout",
     "output_type": "stream",
     "text": [
      "N Reads: 180864 Loss: 260.60. F1: [0.42375, 0.21545]. Patience: 9\n"
     ]
    },
    {
     "name": "stderr",
     "output_type": "stream",
     "text": [
      "  2%|▏         | 1570/68609 [15:42<219:09:48, 11.77s/it]"
     ]
    },
    {
     "name": "stdout",
     "output_type": "stream",
     "text": [
      "N Reads: 200960 Loss: 259.53. F1: [0.40978, 0.22513]. Patience: 9\n"
     ]
    },
    {
     "name": "stderr",
     "output_type": "stream",
     "text": [
      "  3%|▎         | 1727/68609 [17:19<217:03:43, 11.68s/it]"
     ]
    },
    {
     "name": "stdout",
     "output_type": "stream",
     "text": [
      "N Reads: 221056 Loss: 252.04. F1: [0.48716, 0.2378]. Patience: 9\n"
     ]
    },
    {
     "name": "stderr",
     "output_type": "stream",
     "text": [
      "  3%|▎         | 1884/68609 [18:56<218:14:22, 11.77s/it]"
     ]
    },
    {
     "name": "stdout",
     "output_type": "stream",
     "text": [
      "N Reads: 241152 Loss: 249.33. F1: [0.46153, 0.23121]. Patience: 8\n"
     ]
    },
    {
     "name": "stderr",
     "output_type": "stream",
     "text": [
      "  3%|▎         | 2041/68609 [20:33<215:24:48, 11.65s/it]"
     ]
    },
    {
     "name": "stdout",
     "output_type": "stream",
     "text": [
      "N Reads: 261248 Loss: 245.01. F1: [0.46278, 0.24806]. Patience: 8\n"
     ]
    },
    {
     "name": "stderr",
     "output_type": "stream",
     "text": [
      "  3%|▎         | 2198/68609 [22:10<215:49:10, 11.70s/it]"
     ]
    },
    {
     "name": "stdout",
     "output_type": "stream",
     "text": [
      "N Reads: 281344 Loss: 237.04. F1: [0.47312, 0.25646]. Patience: 8\n"
     ]
    },
    {
     "name": "stderr",
     "output_type": "stream",
     "text": [
      "  3%|▎         | 2355/68609 [23:46<215:19:18, 11.70s/it]"
     ]
    },
    {
     "name": "stdout",
     "output_type": "stream",
     "text": [
      "N Reads: 301440 Loss: 232.29. F1: [0.48491, 0.26555]. Patience: 8\n"
     ]
    },
    {
     "name": "stderr",
     "output_type": "stream",
     "text": [
      "  4%|▎         | 2512/68609 [25:23<213:56:17, 11.65s/it]"
     ]
    },
    {
     "name": "stdout",
     "output_type": "stream",
     "text": [
      "N Reads: 321536 Loss: 231.07. F1: [0.44724, 0.25296]. Patience: 7\n"
     ]
    },
    {
     "name": "stderr",
     "output_type": "stream",
     "text": [
      "  4%|▍         | 2669/68609 [26:59<212:26:58, 11.60s/it]"
     ]
    },
    {
     "name": "stdout",
     "output_type": "stream",
     "text": [
      "N Reads: 341632 Loss: 229.23. F1: [0.4391, 0.29332]. Patience: 7\n"
     ]
    },
    {
     "name": "stderr",
     "output_type": "stream",
     "text": [
      "  4%|▍         | 2826/68609 [28:36<214:12:46, 11.72s/it]"
     ]
    },
    {
     "name": "stdout",
     "output_type": "stream",
     "text": [
      "N Reads: 361728 Loss: 224.37. F1: [0.44442, 0.26611]. Patience: 6\n"
     ]
    },
    {
     "name": "stderr",
     "output_type": "stream",
     "text": [
      "  4%|▍         | 2983/68609 [30:13<212:06:13, 11.64s/it]"
     ]
    },
    {
     "name": "stdout",
     "output_type": "stream",
     "text": [
      "N Reads: 381824 Loss: 222.79. F1: [0.46558, 0.29723]. Patience: 6\n"
     ]
    },
    {
     "name": "stderr",
     "output_type": "stream",
     "text": [
      "  5%|▍         | 3140/68609 [31:51<214:33:24, 11.80s/it]"
     ]
    },
    {
     "name": "stdout",
     "output_type": "stream",
     "text": [
      "N Reads: 401920 Loss: 219.28. F1: [0.47442, 0.27038]. Patience: 5\n"
     ]
    },
    {
     "name": "stderr",
     "output_type": "stream",
     "text": [
      "  5%|▍         | 3297/68609 [33:28<213:24:06, 11.76s/it]"
     ]
    },
    {
     "name": "stdout",
     "output_type": "stream",
     "text": [
      "N Reads: 422016 Loss: 213.76. F1: [0.48484, 0.28662]. Patience: 4\n"
     ]
    },
    {
     "name": "stderr",
     "output_type": "stream",
     "text": [
      "  5%|▌         | 3454/68609 [35:05<212:05:03, 11.72s/it]"
     ]
    },
    {
     "name": "stdout",
     "output_type": "stream",
     "text": [
      "N Reads: 442112 Loss: 214.90. F1: [0.49246, 0.2809]. Patience: 3\n"
     ]
    },
    {
     "name": "stderr",
     "output_type": "stream",
     "text": [
      "  5%|▌         | 3611/68609 [36:43<212:07:17, 11.75s/it]"
     ]
    },
    {
     "name": "stdout",
     "output_type": "stream",
     "text": [
      "N Reads: 462208 Loss: 212.42. F1: [0.47776, 0.29095]. Patience: 2\n"
     ]
    },
    {
     "name": "stderr",
     "output_type": "stream",
     "text": [
      "  5%|▌         | 3768/68609 [38:22<211:01:53, 11.72s/it]"
     ]
    },
    {
     "name": "stdout",
     "output_type": "stream",
     "text": [
      "N Reads: 482304 Loss: 208.47. F1: [0.574, 0.31379]. Patience: 2\n"
     ]
    },
    {
     "name": "stderr",
     "output_type": "stream",
     "text": [
      "  6%|▌         | 3925/68609 [39:59<211:33:51, 11.77s/it]"
     ]
    },
    {
     "name": "stdout",
     "output_type": "stream",
     "text": [
      "N Reads: 502400 Loss: 205.24. F1: [0.5391, 0.29787]. Patience: 1\n"
     ]
    },
    {
     "name": "stderr",
     "output_type": "stream",
     "text": [
      "  6%|▌         | 4082/68609 [41:38<211:30:02, 11.80s/it]"
     ]
    },
    {
     "name": "stdout",
     "output_type": "stream",
     "text": [
      "N Reads: 522496 Loss: 204.17. F1: [0.55221, 0.3208]. Patience: 1\n"
     ]
    },
    {
     "name": "stderr",
     "output_type": "stream",
     "text": [
      "  6%|▌         | 4238/68609 [43:15<10:57:05,  1.63it/s] "
     ]
    },
    {
     "name": "stdout",
     "output_type": "stream",
     "text": [
      "N Reads: 542592 Loss: 202.96. F1: [0.50541, 0.31829]. Patience: 0\n",
      "The model is overfitting; stopping early.\n",
      "Processed 542_592 reads.\n",
      "Training took 2595.659 s.\n"
     ]
    },
    {
     "name": "stderr",
     "output_type": "stream",
     "text": [
      "\n"
     ]
    },
    {
     "data": {
      "image/png": "[encoded data removed]",
      "text/plain": [
       "<Figure size 1200x400 with 2 Axes>"
      ]
     },
     "metadata": {},
     "output_type": "display_data"
    },
    {
     "name": "stdout",
     "output_type": "stream",
     "text": [
      "Test results: [0.55535, 0.33642]\n"
     ]
    },
    {
     "name": "stderr",
     "output_type": "stream",
     "text": [
      "d:\\maitrise\\stelaro\\venv\\Lib\\site-packages\\sklearn\\metrics\\_classification.py:98: UserWarning: The number of unique classes is greater than 50% of the number of samples.\n",
      "  type_true = type_of_target(y_true, input_name=\"y_true\")\n",
      "d:\\maitrise\\stelaro\\venv\\Lib\\site-packages\\sklearn\\utils\\multiclass.py:79: UserWarning: The number of unique classes is greater than 50% of the number of samples.\n",
      "  ys_types = set(type_of_target(x) for x in ys)\n",
      "d:\\maitrise\\stelaro\\venv\\Lib\\site-packages\\sklearn\\metrics\\_classification.py:98: UserWarning: The number of unique classes is greater than 50% of the number of samples.\n",
      "  type_true = type_of_target(y_true, input_name=\"y_true\")\n",
      "d:\\maitrise\\stelaro\\venv\\Lib\\site-packages\\sklearn\\utils\\multiclass.py:79: UserWarning: The number of unique classes is greater than 50% of the number of samples.\n",
      "  ys_types = set(type_of_target(x) for x in ys)\n"
     ]
    }
   ],
   "source": [
    "from torch import exp as torch_exp, randn, arange\n",
    "from torch.nn import (Module, Conv1d, ReLU, Sequential, Flatten, Linear,\n",
    "                      CrossEntropyLoss, MSELoss, MaxPool1d, ConvTranspose1d,\n",
    "                      Sigmoid, LeakyReLU, functional, Parameter, Embedding,\n",
    "                      TransformerEncoderLayer, TransformerEncoder, Dropout)\n",
    "\n",
    "\n",
    "class T_1_tokens(Module):\n",
    "    def __init__(self, N, M):\n",
    "        super(T_1_tokens, self).__init__()\n",
    "        embed_dim = 128\n",
    "        self.token_embedding = Embedding(256, embed_dim)\n",
    "        self.position_embedding = Embedding(N, embed_dim)\n",
    "        encoder_layer = TransformerEncoderLayer(\n",
    "            d_model=embed_dim,\n",
    "            nhead=8,\n",
    "            dim_feedforward=embed_dim * 4,\n",
    "            dropout=0.1,\n",
    "            activation='relu',\n",
    "            batch_first=True  # makes input/output shape [B, L, D]\n",
    "        )\n",
    "        self.transformer_encoder = TransformerEncoder(encoder_layer, num_layers=5)\n",
    "        self.classifier = Linear(embed_dim, M)\n",
    "\n",
    "    def forward(self, x):\n",
    "        batch_size, seq_len = x.size()\n",
    "        positions = arange(seq_len, device=x.device).unsqueeze(0).expand(batch_size, seq_len)\n",
    "        x = self.token_embedding(x) + self.position_embedding(positions)  # [B, L, D]\n",
    "        x = self.transformer_encoder(x)  # [B, L, D]\n",
    "        x = x.mean(dim=1)  # [B, D] - average pooling\n",
    "        logits = self.classifier(x)  # [B, num_classes]\n",
    "        return logits\n",
    "\n",
    "\n",
    "model = benchmark(\n",
    "    transformer.Classifier(LENGTH // 4, mapping, \"cuda\", T_1_tokens, use_tokens=True),\n",
    "    \"Transformer\",\n",
    "    n_max_reads=1_500_000,\n",
    "    patience=10,\n",
    ")"
   ]
  },
  {
   "cell_type": "code",
   "execution_count": 10,
   "id": "20691374",
   "metadata": {},
   "outputs": [
    {
     "data": {
      "image/png": "[encoded data removed]",
      "text/plain": [
       "<Figure size 480x480 with 1 Axes>"
      ]
     },
     "metadata": {},
     "output_type": "display_data"
    },
    {
     "name": "stdout",
     "output_type": "stream",
     "text": [
      "[[2132.   20.   99.    0.    0.    0.    2.   13.    4.    3.  103.   72.  116.    1.   30.   10.   13.    0.    2.  612.  329.   19.  278.    5.   50.    5.    0.]\n",
      " [ 420. 1119.   42.    2.  109.   10.  333.   27.  727.   57.  183.    9.   13.  127.    3.    2.  103.  172.    5.  176.   66.   31.   98.   33.   41.    1.    0.]\n",
      " [ 190.  233.  730.    0.   60.  155.    0.    0.  456.    9.  153.   81.    6.    1.   58.    1.  384.    2.    0.  272.  591.    0.  365.    2.  147.   13.    0.]\n",
      " [  12.   29.    0. 1355.  124.    0.   92.  155.   55.  320.   14.   35.    7.  172.    0.    0.    0.  421.  452.   15.   13.  222.  218.  183.   15.    0.    0.]\n",
      " [   3.   29.    1.   54. 1446.    0.   56.   19.  456.  283.    9.   51.    9.  183.    0.    0.   19.  835.  265.   19.   11.   34.   79.   45.    3.    0.    0.]\n",
      " [ 114.    1.    3.    0.   37.  293.    0.    0.    3.    0.   10.    0.    5.    0.   10.   25. 1528.    0.    0.  207. 1627.    0.   37.    8.    1.    0.    0.]\n",
      " [   0.  126.    1.   88.   27.    0. 2584.    0.    3.   48.  129.    1.   33.   31.    0.    0.    0.   14.  385.    3.    4.    0.  115.  313.    3.    1.    0.]\n",
      " [   0.   12.    0.   20.    0.    0.   24. 2731.   11.    7.    0.   12.    1.   48.    0.    0.    0.   39.   16.    0.    0.  819.    0.  169.    0.    0.    0.]\n",
      " [   5.    8.    0.    4.   12.    0.    1.   12. 3175.    4.    1.    0.    1.   29.    0.    0.  161.   60.   31.   13.   49.    6.  314.   20.    3.    0.    0.]\n",
      " [ 138.   16.    0.   29.  240.    0.    9.   48.   63. 1579.    1.  754.  139.   11.    0.    0.    2.  175.   82.   31.    8.   77.   56.  443.    6.    2.    0.]\n",
      " [  11.   29.   16.    0.   37.   31.    8.    1.  141.    9.  820.    4.   38.  481.   49.    9.  516.   13.   12. 1120.   93.    0.  467.    1.    2.    1.    0.]\n",
      " [   6.   81.    0.   74.   14.    0.   51. 1377.   87.   31.    1.  335.    0.  182.    0.    0.    0.  516.   69.    1.    2.  987.    7.   85.    3.    0.    0.]\n",
      " [  30.    7.    3.    2.   56.    1.   38.    2.   10.  247.    8.  223. 2754.   24.    1.    4.    4.    7.   76.  136.   16.    7.   87.  150.   12.    4.    0.]\n",
      " [  39.   30.   54.    0.    1.    0.    7.  216.    3.    3.   27.    4.   59.  172.   18.    1.   65.    3.    1. 2476.   17.  198.  505.    2.    8.    0.    0.]\n",
      " [ 110.    0.  326.    0.   25.   14.    0.    0.    0.    1.  174.    0.    9.    0. 1969.    1.   36.    0.    0.   85. 1127.    0.   32.    0.    0.    0.    0.]\n",
      " [ 438.   64.    5.    0.    9.  210.    0.    0.  505.    3.  467.    0.  304.    7.   21.  457.  103.    1.   19.  488.  190.    0.  606.    3.    9.    0.    0.]\n",
      " [ 217.    2.  263.    1.   76.   44.    7.    0.    7.   19.  196.    4.   50.   15.  367.   19.  352.   32.   20.  436. 1121.    1.  649.    7.    4.    0.    0.]\n",
      " [  37.    7.    4.   15.  370.    3.   47.   35.  101.   32.   11.   26.    8.  121.    5.    1.   13. 2684.  125.   22.   37.   19.  151.   32.    3.    0.    0.]\n",
      " [   1.    2.    0.  251.  432.    1.   88.   41.   56.   91.    2.  113.   10.   83.    0.    0.    6. 1277.  857.    3.    3.   11.  212.  366.    3.    0.    0.]\n",
      " [  32.   58.   20.    1.   72.    2.   52.    0.   22.   74.   65.    2.  113.  325.   16.    4.  175.   69.    9. 1547.  161.    0.  948.   78.   63.    1.    0.]\n",
      " [  21.    2.    2.    0.   17.   15.    0.    0.    5.   24.   10.   33.  319.    0.   13.  260.  203.    2.    3.  124. 2827.    0.   14.   13.    1.    1.    0.]\n",
      " [   0.   13.    1.   70.    7.    0.  257.  123.    6.   33.    0.   62.    3.  125.    0.    0.    0.   31.   38.    1.    0. 3068.    1.   69.    1.    0.    0.]\n",
      " [  38.  294.    5.    0.   14.   64.   29.    0.  253.    9.   57.    3.  121.   60.    3.    3.  197.   28.   77.  440.   69.    0. 1998.  107.   38.    2.    0.]\n",
      " [   0.    4.    0.   62.   15.    0.  169.  453.   48.   34.    0.    6.   65.   37.    0.    0.    0.  384.  340.   15.   10.  103.   49. 2108.    7.    0.    0.]\n",
      " [ 210.  157.   62.   89.   36.    2.  239.  107.   46.  187.  151.   67.   93.  121.   24.    2.   22.   79.   50.  383.  218.  308.  432.  211.  580.   33.    0.]\n",
      " [ 219.  234.   73.    5.   11.   19.   10.   12.   26.   68.  213.   28.   72.    6.    9.    3.   28.   10.   55.   57.   98.   18.  106.   58.  148.  334.    0.]\n",
      " [  63.   34.   11.    1.    4.    2.    2.    0.   20.   24.   10.    2.    5.    6.    0.    0.    3.    6.    9.   16.   10.    2.   50.   23.   36.    7.    0.]]\n"
     ]
    }
   ],
   "source": [
    "matrix = confusion_matrix(model, test_data, \"cuda\", mapping)\n",
    "plt.matshow(matrix)\n",
    "plt.show()\n",
    "np.set_printoptions(precision=3, suppress=True, linewidth=250)\n",
    "print(matrix)"
   ]
  },
  {
   "cell_type": "code",
   "execution_count": 16,
   "id": "500ed17d",
   "metadata": {},
   "outputs": [
    {
     "name": "stdout",
     "output_type": "stream",
     "text": [
      "Number of parameters: 480_795\n"
     ]
    },
    {
     "name": "stderr",
     "output_type": "stream",
     "text": [
      "  0%|          | 158/68609 [00:52<105:23:46,  5.54s/it]"
     ]
    },
    {
     "name": "stdout",
     "output_type": "stream",
     "text": [
      "N Reads: 20096 Loss: 394.84. F1: [0.31704, 0.097116]. Patience: 4\n"
     ]
    },
    {
     "name": "stderr",
     "output_type": "stream",
     "text": [
      "  0%|          | 315/68609 [01:47<111:22:42,  5.87s/it]"
     ]
    },
    {
     "name": "stdout",
     "output_type": "stream",
     "text": [
      "N Reads: 40192 Loss: 321.59. F1: [0.36969, 0.15643]. Patience: 4\n"
     ]
    },
    {
     "name": "stderr",
     "output_type": "stream",
     "text": [
      "  1%|          | 472/68609 [02:44<111:53:30,  5.91s/it]"
     ]
    },
    {
     "name": "stdout",
     "output_type": "stream",
     "text": [
      "N Reads: 60288 Loss: 295.24. F1: [0.39478, 0.1828]. Patience: 4\n"
     ]
    },
    {
     "name": "stderr",
     "output_type": "stream",
     "text": [
      "  1%|          | 628/68609 [03:41<159:45:52,  8.46s/it]"
     ]
    },
    {
     "name": "stdout",
     "output_type": "stream",
     "text": [
      "N Reads: 80384 Loss: 271.60. F1: [0.44995, 0.21787]. Patience: 4\n"
     ]
    },
    {
     "name": "stderr",
     "output_type": "stream",
     "text": [
      "  1%|          | 786/68609 [04:38<110:45:14,  5.88s/it]"
     ]
    },
    {
     "name": "stdout",
     "output_type": "stream",
     "text": [
      "N Reads: 100480 Loss: 258.38. F1: [0.44252, 0.22529]. Patience: 4\n"
     ]
    },
    {
     "name": "stderr",
     "output_type": "stream",
     "text": [
      "  1%|▏         | 943/68609 [06:02<133:37:56,  7.11s/it]"
     ]
    },
    {
     "name": "stdout",
     "output_type": "stream",
     "text": [
      "N Reads: 120576 Loss: 247.56. F1: [0.48088, 0.24671]. Patience: 4\n"
     ]
    },
    {
     "name": "stderr",
     "output_type": "stream",
     "text": [
      "  2%|▏         | 1099/68609 [06:58<152:39:51,  8.14s/it]"
     ]
    },
    {
     "name": "stdout",
     "output_type": "stream",
     "text": [
      "N Reads: 140672 Loss: 242.45. F1: [0.4855, 0.26097]. Patience: 4\n"
     ]
    },
    {
     "name": "stderr",
     "output_type": "stream",
     "text": [
      "  2%|▏         | 1257/68609 [07:55<108:24:39,  5.79s/it]"
     ]
    },
    {
     "name": "stdout",
     "output_type": "stream",
     "text": [
      "N Reads: 160768 Loss: 235.73. F1: [0.48084, 0.24493]. Patience: 3\n"
     ]
    },
    {
     "name": "stderr",
     "output_type": "stream",
     "text": [
      "  2%|▏         | 1414/68609 [08:51<106:17:30,  5.69s/it]"
     ]
    },
    {
     "name": "stdout",
     "output_type": "stream",
     "text": [
      "N Reads: 180864 Loss: 231.72. F1: [0.44988, 0.25784]. Patience: 2\n"
     ]
    },
    {
     "name": "stderr",
     "output_type": "stream",
     "text": [
      "  2%|▏         | 1571/68609 [09:46<105:43:15,  5.68s/it]"
     ]
    },
    {
     "name": "stdout",
     "output_type": "stream",
     "text": [
      "N Reads: 200960 Loss: 231.95. F1: [0.4724, 0.2879]. Patience: 2\n"
     ]
    },
    {
     "name": "stderr",
     "output_type": "stream",
     "text": [
      "  3%|▎         | 1728/68609 [10:42<106:08:00,  5.71s/it]"
     ]
    },
    {
     "name": "stdout",
     "output_type": "stream",
     "text": [
      "N Reads: 221056 Loss: 223.32. F1: [0.51902, 0.29634]. Patience: 2\n"
     ]
    },
    {
     "name": "stderr",
     "output_type": "stream",
     "text": [
      "  3%|▎         | 1885/68609 [11:39<106:25:20,  5.74s/it]"
     ]
    },
    {
     "name": "stdout",
     "output_type": "stream",
     "text": [
      "N Reads: 241152 Loss: 220.22. F1: [0.49958, 0.29251]. Patience: 1\n"
     ]
    },
    {
     "name": "stderr",
     "output_type": "stream",
     "text": [
      "  3%|▎         | 2040/68609 [12:35<6:50:44,  2.70it/s]  "
     ]
    },
    {
     "name": "stdout",
     "output_type": "stream",
     "text": [
      "N Reads: 261248 Loss: 217.81. F1: [0.45677, 0.27887]. Patience: 0\n",
      "The model is overfitting; stopping early.\n",
      "Processed 261_248 reads.\n",
      "Training took 755.235 s.\n"
     ]
    },
    {
     "name": "stderr",
     "output_type": "stream",
     "text": [
      "\n"
     ]
    },
    {
     "data": {
      "image/png": "[encoded data removed]",
      "text/plain": [
       "<Figure size 1200x400 with 2 Axes>"
      ]
     },
     "metadata": {},
     "output_type": "display_data"
    },
    {
     "name": "stdout",
     "output_type": "stream",
     "text": [
      "Test results: [0.49432, 0.29287]\n"
     ]
    },
    {
     "name": "stderr",
     "output_type": "stream",
     "text": [
      "d:\\maitrise\\stelaro\\venv\\Lib\\site-packages\\sklearn\\metrics\\_classification.py:98: UserWarning: The number of unique classes is greater than 50% of the number of samples.\n",
      "  type_true = type_of_target(y_true, input_name=\"y_true\")\n",
      "d:\\maitrise\\stelaro\\venv\\Lib\\site-packages\\sklearn\\utils\\multiclass.py:79: UserWarning: The number of unique classes is greater than 50% of the number of samples.\n",
      "  ys_types = set(type_of_target(x) for x in ys)\n",
      "d:\\maitrise\\stelaro\\venv\\Lib\\site-packages\\sklearn\\metrics\\_classification.py:98: UserWarning: The number of unique classes is greater than 50% of the number of samples.\n",
      "  type_true = type_of_target(y_true, input_name=\"y_true\")\n",
      "d:\\maitrise\\stelaro\\venv\\Lib\\site-packages\\sklearn\\utils\\multiclass.py:79: UserWarning: The number of unique classes is greater than 50% of the number of samples.\n",
      "  ys_types = set(type_of_target(x) for x in ys)\n"
     ]
    }
   ],
   "source": [
    "class T_2_tokens(Module):\n",
    "    def __init__(self, N, M):\n",
    "        super(T_2_tokens, self).__init__()\n",
    "        embed_dim = 128\n",
    "        self.token_embedding = Embedding(256, embed_dim)\n",
    "        self.position_embedding = Embedding(N, embed_dim)\n",
    "        encoder_layer = TransformerEncoderLayer(\n",
    "            d_model=embed_dim,\n",
    "            nhead=8,\n",
    "            dim_feedforward=embed_dim * 4,\n",
    "            dropout=0.1,\n",
    "            activation='relu',\n",
    "            batch_first=True  # makes input/output shape [B, L, D]\n",
    "        )\n",
    "        self.transformer_encoder = TransformerEncoder(encoder_layer, num_layers=2)\n",
    "        self.classifier = Linear(embed_dim, M)\n",
    "\n",
    "    def forward(self, x):\n",
    "        batch_size, seq_len = x.size()\n",
    "        positions = arange(seq_len, device=x.device).unsqueeze(0).expand(batch_size, seq_len)\n",
    "        x = self.token_embedding(x) + self.position_embedding(positions)  # [B, L, D]\n",
    "        x = self.transformer_encoder(x)  # [B, L, D]\n",
    "        x = x.mean(dim=1)  # [B, D] - average pooling\n",
    "        logits = self.classifier(x)  # [B, num_classes]\n",
    "        return logits\n",
    "\n",
    "\n",
    "model = benchmark(\n",
    "    transformer.Classifier(LENGTH // 4, mapping, \"cuda\", T_2_tokens, use_tokens=True),\n",
    "    \"Transformer\",\n",
    "    n_max_reads=1_200_000\n",
    ")"
   ]
  },
  {
   "cell_type": "code",
   "execution_count": 18,
   "id": "c49e04b0",
   "metadata": {},
   "outputs": [
    {
     "data": {
      "image/png": "[encoded data removed]",
      "text/plain": [
       "<Figure size 480x480 with 1 Axes>"
      ]
     },
     "metadata": {},
     "output_type": "display_data"
    },
    {
     "name": "stdout",
     "output_type": "stream",
     "text": [
      "[[1546.    5.   18.    0.    0.    0.    0.   21.    1.  152.   18.   59.  233.    0.   23.    5.   43.    0.    1.  599.  344.    9.  809.    3.   29.    0.    0.]\n",
      " [ 346. 1504.   18.   20.   25.    5.  158.   10.  160.  511.   56.    6.   15.  122.    6.    3.  104.   58.   27.  112.   48.   11.  507.   53.   22.    2.    0.]\n",
      " [ 774.  431.  415.    0.    0.  155.    0.    0.    6.   68.   24.   18.    9.    0.  224.    5.  295.    0.    5.  141.  435.    0.  798.   21.   85.    0.    0.]\n",
      " [   2.   18.    0. 1671.   43.    0.  211.  108.    2. 1066.    0.   17.   13.   28.    0.    0.    1.   89.  337.    6.    5.   64.  106.  117.    5.    0.    0.]\n",
      " [   4.   64.    0.  152.  824.    0.  309.   75.   93.  256.    1.   50.   25.  204.    0.    1.  162.  414.  775.   13.    9.  117.  272.   87.    2.    0.    0.]\n",
      " [ 135.    5.    0.    0.    0.  115.    0.    0.    0.   16.    1.    1.    9.    0.   60.   12.    9.    0.    0.  272. 3048.    0.  160.   66.    0.    0.    0.]\n",
      " [   1.  127.    0.  159.    4.    0. 2844.    0.    0.  146.    1.    0.   82.    8.    0.    0.   44.    0.  211.    1.    9.    0.   66.  205.    1.    0.    0.]\n",
      " [   2.   44.    0.   49.    0.    0.   96. 2302.    1.   71.    0.   18.    0.   13.    0.    0.    0.    1.   27.    0.    0. 1163.    0.  122.    0.    0.    0.]\n",
      " [  52.   19.    0.  101.    1.    0.    7.  126. 1886.  168.    0.    0.    1.   29.    0.    0.  211.   17.  179.    1.   98.    2.  978.   33.    0.    0.    0.]\n",
      " [  12.    1.    0.   30.   15.    1.   20.   17.    1. 2823.    0.  297.  323.    4.    0.    0.    2.    5.   42.    5.    4.   49.   64.  193.    1.    0.    0.]\n",
      " [  21.  220.   20.    1.    7.    4.   34.    0.   22.   25.  264.    2.   54.  187.  128.   19.  786.    1.   19.  376.  190.    1. 1523.    3.    2.    0.    0.]\n",
      " [   6.  219.    0.  302.    4.    0.  118. 1433.    5.  304.    0.  345.    5.   40.    0.    0.    1.   53.   47.    0.    2.  707.    4.  313.    1.    0.    0.]\n",
      " [  16.    0.    0.    3.    7.    0.   64.    1.    0.  394.    0.   68. 2808.    8.    0.    2.   25.    0.   38.  154.   16.    1.  240.   62.    2.    0.    0.]\n",
      " [   4.   33.   16.    4.    0.    0.   16.  236.    0.   24.    6.    9.   36.   33.   17.    0.  251.    0.    2. 1848.   31.  127. 1203.    7.    6.    0.    0.]\n",
      " [ 194.    0.  203.    0.    0.    0.    0.    0.    0.    1.   34.    0.    8.    0. 2307.    1.    1.    0.    0.   77.  958.    0.  116.    5.    4.    0.    0.]\n",
      " [ 508.   76.    0.    0.    0.   54.    1.    0.    9.  106.   78.    0.  467.    0.   17.  472.  150.    0.   18.  291.  237.    0. 1415.    6.    4.    0.    0.]\n",
      " [ 284.    3.   69.    0.   34.    8.   12.    0.    2.    9.   25.    3.   86.   10.  763.   22.   77.    8.   23.  192. 1008.    0. 1192.   76.    3.    0.    0.]\n",
      " [  36.   11.    2.  134.  457.    1.  132.   98.   22.   96.    1.  123.   23.  116.    6.    0.    8. 1391.  639.   13.   22.   42.  383.  150.    3.    0.    0.]\n",
      " [   2.    3.    0.  600.  164.    0.  201.   49.   16.  567.    0.   60.   46.   49.    0.    0.   12.  264. 1174.    1.    3.    6.  339.  353.    0.    0.    0.]\n",
      " [  33.  171.    9.    5.   21.    0.   60.    0.    1.   69.   10.    1.  127.  187.   25.    6.   68.    2.    7.  947.  217.    0. 1692.  233.   18.    0.    0.]\n",
      " [  16.    0.    1.    0.    0.    1.    0.    0.    0.   48.    0.    3.  468.    0.   38.  163.   89.    0.    2.  147. 2840.    0.   55.   38.    0.    0.    0.]\n",
      " [   0.   44.    0.  123.    5.    0.  246.   56.    1.   92.    0.   18.    2.   12.    0.    0.    0.    2.   22.    0.    0. 3250.    1.   34.    1.    0.    0.]\n",
      " [  66.  319.    6.   13.    2.   35.   44.    0.   31.  104.    5.    0.  151.   24.    3.    2.  221.    2.  112.  131.   86.    1. 2386.  160.    5.    0.    0.]\n",
      " [   0.   19.    0.  208.   11.    0.  306.  247.    4.  314.    0.   12.  115.    9.    0.    0.    0.   71.  385.    4.    6.  168.  105. 1925.    0.    0.    0.]\n",
      " [ 235.  202.   22.  185.   18.    1.  300.   59.    5.  536.   22.   26.  175.   41.   50.    2.   14.    7.   34.  154.  137.  303.  929.  230.  218.    4.    0.]\n",
      " [ 294.  210.    9.   25.    1.    2.   26.    6.    6.  345.   43.   15.  272.    2.    6.   10.   51.    0.   25.  126.   40.    2.  225.   62.   69.   48.    0.]\n",
      " [  67.   28.    4.    5.    0.    0.    5.    0.    1.   65.    1.    0.   22.    3.    0.    2.    4.    0.    6.    9.    5.    0.   96.   12.   11.    0.    0.]]\n"
     ]
    }
   ],
   "source": [
    "matrix = confusion_matrix(model, test_data, \"cuda\", mapping)\n",
    "plt.matshow(matrix)\n",
    "plt.show()\n",
    "np.set_printoptions(precision=3, suppress=True, linewidth=250)\n",
    "print(matrix)"
   ]
  },
  {
   "cell_type": "markdown",
   "id": "be153743",
   "metadata": {},
   "source": [
    "### 3.4. Autoencoders"
   ]
  },
  {
   "cell_type": "code",
   "execution_count": 3,
   "id": "f854a9fc",
   "metadata": {},
   "outputs": [
    {
     "name": "stdout",
     "output_type": "stream",
     "text": [
      "Number of parameters: 73_427_257\n"
     ]
    },
    {
     "name": "stderr",
     "output_type": "stream",
     "text": [
      "  1%|          | 395/68609 [00:27<7:44:38,  2.45it/s] "
     ]
    },
    {
     "name": "stdout",
     "output_type": "stream",
     "text": [
      "N Reads: 50048 Loss: 314.75. F1: [0.35615, 0.070641]. Patience: 30\n"
     ]
    },
    {
     "name": "stderr",
     "output_type": "stream",
     "text": [
      "  1%|          | 787/68609 [00:48<9:50:22,  1.91it/s] "
     ]
    },
    {
     "name": "stdout",
     "output_type": "stream",
     "text": [
      "N Reads: 100096 Loss: 281.67. F1: [0.40199, 0.11616]. Patience: 30\n"
     ]
    },
    {
     "name": "stderr",
     "output_type": "stream",
     "text": [
      "  2%|▏         | 1177/68609 [01:09<10:09:29,  1.84it/s]"
     ]
    },
    {
     "name": "stdout",
     "output_type": "stream",
     "text": [
      "N Reads: 150144 Loss: 264.40. F1: [0.47945, 0.14751]. Patience: 30\n"
     ]
    },
    {
     "name": "stderr",
     "output_type": "stream",
     "text": [
      "  2%|▏         | 1566/68609 [01:30<13:12:24,  1.41it/s]"
     ]
    },
    {
     "name": "stdout",
     "output_type": "stream",
     "text": [
      "N Reads: 200192 Loss: 245.43. F1: [0.49689, 0.20127]. Patience: 30\n"
     ]
    },
    {
     "name": "stderr",
     "output_type": "stream",
     "text": [
      "  3%|▎         | 1957/68609 [01:51<13:10:09,  1.41it/s]"
     ]
    },
    {
     "name": "stdout",
     "output_type": "stream",
     "text": [
      "N Reads: 250240 Loss: 234.45. F1: [0.41366, 0.20009]. Patience: 29\n"
     ]
    },
    {
     "name": "stderr",
     "output_type": "stream",
     "text": [
      "  3%|▎         | 2350/68609 [02:13<9:51:29,  1.87it/s] "
     ]
    },
    {
     "name": "stdout",
     "output_type": "stream",
     "text": [
      "N Reads: 300288 Loss: 226.84. F1: [0.43025, 0.23759]. Patience: 29\n"
     ]
    },
    {
     "name": "stderr",
     "output_type": "stream",
     "text": [
      "  4%|▍         | 2740/68609 [02:34<10:42:38,  1.71it/s]"
     ]
    },
    {
     "name": "stdout",
     "output_type": "stream",
     "text": [
      "N Reads: 350336 Loss: 221.63. F1: [0.50459, 0.25269]. Patience: 29\n"
     ]
    },
    {
     "name": "stderr",
     "output_type": "stream",
     "text": [
      "  5%|▍         | 3132/68609 [02:56<10:58:47,  1.66it/s]"
     ]
    },
    {
     "name": "stdout",
     "output_type": "stream",
     "text": [
      "N Reads: 400384 Loss: 217.29. F1: [0.44896, 0.26531]. Patience: 29\n"
     ]
    },
    {
     "name": "stderr",
     "output_type": "stream",
     "text": [
      "  5%|▌         | 3523/68609 [03:18<10:28:57,  1.72it/s]"
     ]
    },
    {
     "name": "stdout",
     "output_type": "stream",
     "text": [
      "N Reads: 450432 Loss: 213.08. F1: [0.51503, 0.27383]. Patience: 29\n"
     ]
    },
    {
     "name": "stderr",
     "output_type": "stream",
     "text": [
      "  6%|▌         | 3912/68609 [03:40<13:45:05,  1.31it/s]"
     ]
    },
    {
     "name": "stdout",
     "output_type": "stream",
     "text": [
      "N Reads: 500480 Loss: 209.25. F1: [0.52694, 0.27584]. Patience: 29\n"
     ]
    },
    {
     "name": "stderr",
     "output_type": "stream",
     "text": [
      "  6%|▋         | 4304/68609 [04:02<10:13:40,  1.75it/s]"
     ]
    },
    {
     "name": "stdout",
     "output_type": "stream",
     "text": [
      "N Reads: 550528 Loss: 206.04. F1: [0.50893, 0.29217]. Patience: 29\n"
     ]
    },
    {
     "name": "stderr",
     "output_type": "stream",
     "text": [
      "  7%|▋         | 4695/68609 [04:24<9:43:11,  1.83it/s] "
     ]
    },
    {
     "name": "stdout",
     "output_type": "stream",
     "text": [
      "N Reads: 600576 Loss: 202.98. F1: [0.54184, 0.3127]. Patience: 29\n"
     ]
    },
    {
     "name": "stderr",
     "output_type": "stream",
     "text": [
      "  7%|▋         | 5087/68609 [04:45<9:16:21,  1.90it/s] "
     ]
    },
    {
     "name": "stdout",
     "output_type": "stream",
     "text": [
      "N Reads: 650624 Loss: 200.85. F1: [0.50163, 0.2967]. Patience: 28\n"
     ]
    },
    {
     "name": "stderr",
     "output_type": "stream",
     "text": [
      "  8%|▊         | 5478/68609 [05:08<9:10:50,  1.91it/s] "
     ]
    },
    {
     "name": "stdout",
     "output_type": "stream",
     "text": [
      "N Reads: 700672 Loss: 198.46. F1: [0.55178, 0.33589]. Patience: 28\n"
     ]
    },
    {
     "name": "stderr",
     "output_type": "stream",
     "text": [
      "  9%|▊         | 5868/68609 [05:30<9:35:44,  1.82it/s] "
     ]
    },
    {
     "name": "stdout",
     "output_type": "stream",
     "text": [
      "N Reads: 750720 Loss: 195.18. F1: [0.55984, 0.31515]. Patience: 27\n"
     ]
    },
    {
     "name": "stderr",
     "output_type": "stream",
     "text": [
      "  9%|▉         | 6259/68609 [05:52<10:40:47,  1.62it/s]"
     ]
    },
    {
     "name": "stdout",
     "output_type": "stream",
     "text": [
      "N Reads: 800768 Loss: 195.12. F1: [0.60989, 0.34755]. Patience: 27\n"
     ]
    },
    {
     "name": "stderr",
     "output_type": "stream",
     "text": [
      " 10%|▉         | 6650/68609 [06:15<10:51:55,  1.58it/s]"
     ]
    },
    {
     "name": "stdout",
     "output_type": "stream",
     "text": [
      "N Reads: 850816 Loss: 193.25. F1: [0.62941, 0.37061]. Patience: 27\n"
     ]
    },
    {
     "name": "stderr",
     "output_type": "stream",
     "text": [
      " 10%|█         | 7040/68609 [06:38<13:12:20,  1.30it/s]"
     ]
    },
    {
     "name": "stdout",
     "output_type": "stream",
     "text": [
      "N Reads: 900864 Loss: 191.06. F1: [0.56294, 0.33412]. Patience: 26\n"
     ]
    },
    {
     "name": "stderr",
     "output_type": "stream",
     "text": [
      " 11%|█         | 7433/68609 [07:01<9:02:38,  1.88it/s] "
     ]
    },
    {
     "name": "stdout",
     "output_type": "stream",
     "text": [
      "N Reads: 950912 Loss: 190.02. F1: [0.61369, 0.353]. Patience: 25\n"
     ]
    },
    {
     "name": "stderr",
     "output_type": "stream",
     "text": [
      " 11%|█▏        | 7823/68609 [07:24<9:12:41,  1.83it/s] "
     ]
    },
    {
     "name": "stdout",
     "output_type": "stream",
     "text": [
      "N Reads: 1000960 Loss: 187.54. F1: [0.57164, 0.33991]. Patience: 24\n"
     ]
    },
    {
     "name": "stderr",
     "output_type": "stream",
     "text": [
      " 12%|█▏        | 8214/68609 [07:49<11:17:23,  1.49it/s]"
     ]
    },
    {
     "name": "stdout",
     "output_type": "stream",
     "text": [
      "N Reads: 1051008 Loss: 186.90. F1: [0.55528, 0.36551]. Patience: 23\n"
     ]
    },
    {
     "name": "stderr",
     "output_type": "stream",
     "text": [
      " 13%|█▎        | 8607/68609 [08:11<7:40:23,  2.17it/s] "
     ]
    },
    {
     "name": "stdout",
     "output_type": "stream",
     "text": [
      "N Reads: 1101056 Loss: 186.61. F1: [0.58116, 0.36923]. Patience: 22\n"
     ]
    },
    {
     "name": "stderr",
     "output_type": "stream",
     "text": [
      " 13%|█▎        | 8997/68609 [08:33<7:34:15,  2.19it/s] "
     ]
    },
    {
     "name": "stdout",
     "output_type": "stream",
     "text": [
      "N Reads: 1151104 Loss: 183.47. F1: [0.63061, 0.39051]. Patience: 22\n"
     ]
    },
    {
     "name": "stderr",
     "output_type": "stream",
     "text": [
      " 14%|█▎        | 9387/68609 [08:56<8:51:50,  1.86it/s] "
     ]
    },
    {
     "name": "stdout",
     "output_type": "stream",
     "text": [
      "N Reads: 1201152 Loss: 183.31. F1: [0.62816, 0.38946]. Patience: 21\n"
     ]
    },
    {
     "name": "stderr",
     "output_type": "stream",
     "text": [
      " 14%|█▍        | 9777/68609 [09:19<11:54:38,  1.37it/s]"
     ]
    },
    {
     "name": "stdout",
     "output_type": "stream",
     "text": [
      "N Reads: 1251200 Loss: 183.35. F1: [0.64102, 0.39166]. Patience: 21\n"
     ]
    },
    {
     "name": "stderr",
     "output_type": "stream",
     "text": [
      " 15%|█▍        | 10169/68609 [09:42<8:49:44,  1.84it/s] "
     ]
    },
    {
     "name": "stdout",
     "output_type": "stream",
     "text": [
      "N Reads: 1301248 Loss: 182.03. F1: [0.58628, 0.37172]. Patience: 20\n"
     ]
    },
    {
     "name": "stderr",
     "output_type": "stream",
     "text": [
      " 15%|█▌        | 10561/68609 [10:05<7:30:48,  2.15it/s] "
     ]
    },
    {
     "name": "stdout",
     "output_type": "stream",
     "text": [
      "N Reads: 1351296 Loss: 179.56. F1: [0.64871, 0.40405]. Patience: 20\n"
     ]
    },
    {
     "name": "stderr",
     "output_type": "stream",
     "text": [
      " 16%|█▌        | 10951/68609 [10:28<8:23:18,  1.91it/s] "
     ]
    },
    {
     "name": "stdout",
     "output_type": "stream",
     "text": [
      "N Reads: 1401344 Loss: 179.47. F1: [0.64357, 0.39274]. Patience: 19\n"
     ]
    },
    {
     "name": "stderr",
     "output_type": "stream",
     "text": [
      " 17%|█▋        | 11344/68609 [10:51<7:13:28,  2.20it/s] "
     ]
    },
    {
     "name": "stdout",
     "output_type": "stream",
     "text": [
      "N Reads: 1451392 Loss: 180.00. F1: [0.62574, 0.39921]. Patience: 18\n"
     ]
    },
    {
     "name": "stderr",
     "output_type": "stream",
     "text": [
      " 17%|█▋        | 11734/68609 [11:14<7:38:27,  2.07it/s] "
     ]
    },
    {
     "name": "stdout",
     "output_type": "stream",
     "text": [
      "N Reads: 1501440 Loss: 178.37. F1: [0.61565, 0.41102]. Patience: 18\n"
     ]
    },
    {
     "name": "stderr",
     "output_type": "stream",
     "text": [
      " 18%|█▊        | 12124/68609 [11:38<8:28:44,  1.85it/s] "
     ]
    },
    {
     "name": "stdout",
     "output_type": "stream",
     "text": [
      "N Reads: 1551488 Loss: 175.95. F1: [0.6435, 0.41247]. Patience: 18\n"
     ]
    },
    {
     "name": "stderr",
     "output_type": "stream",
     "text": [
      " 18%|█▊        | 12514/68609 [12:02<11:11:13,  1.39it/s]"
     ]
    },
    {
     "name": "stdout",
     "output_type": "stream",
     "text": [
      "N Reads: 1601536 Loss: 175.66. F1: [0.62886, 0.397]. Patience: 17\n"
     ]
    },
    {
     "name": "stderr",
     "output_type": "stream",
     "text": [
      " 19%|█▉        | 12907/68609 [12:26<8:00:49,  1.93it/s] "
     ]
    },
    {
     "name": "stdout",
     "output_type": "stream",
     "text": [
      "N Reads: 1651584 Loss: 175.08. F1: [0.65311, 0.4045]. Patience: 16\n"
     ]
    },
    {
     "name": "stderr",
     "output_type": "stream",
     "text": [
      " 19%|█▉        | 13297/68609 [12:53<9:40:48,  1.59it/s] "
     ]
    },
    {
     "name": "stdout",
     "output_type": "stream",
     "text": [
      "N Reads: 1701632 Loss: 177.00. F1: [0.6614, 0.42409]. Patience: 16\n"
     ]
    },
    {
     "name": "stderr",
     "output_type": "stream",
     "text": [
      " 20%|█▉        | 13689/68609 [13:17<6:46:11,  2.25it/s]"
     ]
    },
    {
     "name": "stdout",
     "output_type": "stream",
     "text": [
      "N Reads: 1751680 Loss: 175.12. F1: [0.67439, 0.4127]. Patience: 15\n"
     ]
    },
    {
     "name": "stderr",
     "output_type": "stream",
     "text": [
      " 21%|██        | 14079/68609 [13:40<6:45:29,  2.24it/s]"
     ]
    },
    {
     "name": "stdout",
     "output_type": "stream",
     "text": [
      "N Reads: 1801728 Loss: 173.24. F1: [0.67286, 0.4047]. Patience: 14\n"
     ]
    },
    {
     "name": "stderr",
     "output_type": "stream",
     "text": [
      " 21%|██        | 14469/68609 [14:03<9:12:37,  1.63it/s]"
     ]
    },
    {
     "name": "stdout",
     "output_type": "stream",
     "text": [
      "N Reads: 1851776 Loss: 172.94. F1: [0.65063, 0.39881]. Patience: 13\n"
     ]
    },
    {
     "name": "stderr",
     "output_type": "stream",
     "text": [
      " 22%|██▏       | 14862/68609 [14:26<6:29:30,  2.30it/s]"
     ]
    },
    {
     "name": "stdout",
     "output_type": "stream",
     "text": [
      "N Reads: 1901824 Loss: 171.74. F1: [0.66558, 0.40871]. Patience: 12\n"
     ]
    },
    {
     "name": "stderr",
     "output_type": "stream",
     "text": [
      " 22%|██▏       | 15252/68609 [14:49<6:37:13,  2.24it/s]"
     ]
    },
    {
     "name": "stdout",
     "output_type": "stream",
     "text": [
      "N Reads: 1951872 Loss: 171.46. F1: [0.65953, 0.39119]. Patience: 11\n"
     ]
    },
    {
     "name": "stderr",
     "output_type": "stream",
     "text": [
      " 23%|██▎       | 15642/68609 [15:12<8:49:53,  1.67it/s]"
     ]
    },
    {
     "name": "stdout",
     "output_type": "stream",
     "text": [
      "N Reads: 2001920 Loss: 169.86. F1: [0.65775, 0.42315]. Patience: 10\n"
     ]
    },
    {
     "name": "stderr",
     "output_type": "stream",
     "text": [
      " 23%|██▎       | 16034/68609 [15:35<6:22:04,  2.29it/s]"
     ]
    },
    {
     "name": "stdout",
     "output_type": "stream",
     "text": [
      "N Reads: 2051968 Loss: 170.85. F1: [0.66588, 0.41423]. Patience: 9\n"
     ]
    },
    {
     "name": "stderr",
     "output_type": "stream",
     "text": [
      " 24%|██▍       | 16427/68609 [15:58<6:15:49,  2.31it/s]"
     ]
    },
    {
     "name": "stdout",
     "output_type": "stream",
     "text": [
      "N Reads: 2102016 Loss: 170.17. F1: [0.66533, 0.40376]. Patience: 8\n"
     ]
    },
    {
     "name": "stderr",
     "output_type": "stream",
     "text": [
      " 25%|██▍       | 16817/68609 [16:21<6:15:18,  2.30it/s]"
     ]
    },
    {
     "name": "stdout",
     "output_type": "stream",
     "text": [
      "N Reads: 2152064 Loss: 168.61. F1: [0.64297, 0.39754]. Patience: 7\n"
     ]
    },
    {
     "name": "stderr",
     "output_type": "stream",
     "text": [
      " 25%|██▌       | 17207/68609 [16:45<6:14:15,  2.29it/s]"
     ]
    },
    {
     "name": "stdout",
     "output_type": "stream",
     "text": [
      "N Reads: 2202112 Loss: 168.72. F1: [0.66909, 0.42075]. Patience: 6\n"
     ]
    },
    {
     "name": "stderr",
     "output_type": "stream",
     "text": [
      " 26%|██▌       | 17600/68609 [17:08<6:20:53,  2.23it/s]"
     ]
    },
    {
     "name": "stdout",
     "output_type": "stream",
     "text": [
      "N Reads: 2252160 Loss: 168.01. F1: [0.66643, 0.40902]. Patience: 5\n"
     ]
    },
    {
     "name": "stderr",
     "output_type": "stream",
     "text": [
      " 26%|██▌       | 17990/68609 [17:32<6:02:08,  2.33it/s]"
     ]
    },
    {
     "name": "stdout",
     "output_type": "stream",
     "text": [
      "N Reads: 2302208 Loss: 167.09. F1: [0.68567, 0.40898]. Patience: 4\n"
     ]
    },
    {
     "name": "stderr",
     "output_type": "stream",
     "text": [
      " 27%|██▋       | 18380/68609 [17:55<6:05:54,  2.29it/s]"
     ]
    },
    {
     "name": "stdout",
     "output_type": "stream",
     "text": [
      "N Reads: 2352256 Loss: 166.66. F1: [0.6654, 0.42653]. Patience: 4\n"
     ]
    },
    {
     "name": "stderr",
     "output_type": "stream",
     "text": [
      " 27%|██▋       | 18773/68609 [18:19<5:57:44,  2.32it/s]"
     ]
    },
    {
     "name": "stdout",
     "output_type": "stream",
     "text": [
      "N Reads: 2402304 Loss: 164.68. F1: [0.70759, 0.4353]. Patience: 4\n"
     ]
    },
    {
     "name": "stderr",
     "output_type": "stream",
     "text": [
      " 28%|██▊       | 19163/68609 [18:43<5:49:17,  2.36it/s]"
     ]
    },
    {
     "name": "stdout",
     "output_type": "stream",
     "text": [
      "N Reads: 2452352 Loss: 165.83. F1: [0.6518, 0.42472]. Patience: 3\n"
     ]
    },
    {
     "name": "stderr",
     "output_type": "stream",
     "text": [
      " 28%|██▊       | 19553/68609 [19:06<5:46:07,  2.36it/s]"
     ]
    },
    {
     "name": "stdout",
     "output_type": "stream",
     "text": [
      "N Reads: 2502400 Loss: 165.62. F1: [0.67917, 0.42224]. Patience: 2\n"
     ]
    },
    {
     "name": "stderr",
     "output_type": "stream",
     "text": [
      " 29%|██▉       | 19943/68609 [19:30<7:47:21,  1.74it/s]"
     ]
    },
    {
     "name": "stdout",
     "output_type": "stream",
     "text": [
      "N Reads: 2552448 Loss: 164.66. F1: [0.65716, 0.41341]. Patience: 1\n"
     ]
    },
    {
     "name": "stderr",
     "output_type": "stream",
     "text": [
      " 30%|██▉       | 20336/68609 [19:54<5:45:03,  2.33it/s]"
     ]
    },
    {
     "name": "stdout",
     "output_type": "stream",
     "text": [
      "N Reads: 2602496 Loss: 164.23. F1: [0.68696, 0.43766]. Patience: 1\n"
     ]
    },
    {
     "name": "stderr",
     "output_type": "stream",
     "text": [
      " 30%|███       | 20726/68609 [20:19<6:26:43,  2.06it/s]"
     ]
    },
    {
     "name": "stdout",
     "output_type": "stream",
     "text": [
      "N Reads: 2652544 Loss: 163.55. F1: [0.67588, 0.46205]. Patience: 1\n"
     ]
    },
    {
     "name": "stderr",
     "output_type": "stream",
     "text": [
      " 31%|███       | 21113/68609 [20:46<46:43, 16.94it/s]  "
     ]
    },
    {
     "name": "stdout",
     "output_type": "stream",
     "text": [
      "N Reads: 2702592 Loss: 164.43. F1: [0.68181, 0.43344]. Patience: 0\n",
      "The model is overfitting; stopping early.\n",
      "Processed 2_702_592 reads.\n",
      "Training took 1246.218 s.\n"
     ]
    },
    {
     "name": "stderr",
     "output_type": "stream",
     "text": [
      "\n"
     ]
    },
    {
     "data": {
      "image/png": "[encoded data removed]",
      "text/plain": [
       "<Figure size 1200x400 with 2 Axes>"
      ]
     },
     "metadata": {},
     "output_type": "display_data"
    },
    {
     "name": "stdout",
     "output_type": "stream",
     "text": [
      "Test results: [0.70319, 0.45316]\n"
     ]
    },
    {
     "data": {
      "image/png": "[encoded data removed]",
      "text/plain": [
       "<Figure size 480x480 with 1 Axes>"
      ]
     },
     "metadata": {},
     "output_type": "display_data"
    },
    {
     "name": "stdout",
     "output_type": "stream",
     "text": [
      "[[2642.    8.  365.    0.    0.    2.    3.    0.    1.    0.   77.   99.  140.    1.   58.   36.  174.    1.    0.  108.    1.    8.   81.    0.   93.   20.    0.]\n",
      " [ 176. 1267.  221.    0.   85.    7.  255.    1. 1080.   16.  233.    5.   27.   12.    0.    6.  113.   86.    5.   67.    3.    2.  119.    3.   98.   22.    0.]\n",
      " [  47.   58. 3108.    0.    5.    8.    1.    0.   57.    2.  112.    5.   12.    0.   59.    0.   36.    3.    0.   28.    5.    0.   73.    1.  189.   43.   57.]\n",
      " [   3.   21.    7.  965.   40.    0.  750.  144.   61.  103.    9.   85.   18.   40.    0.    1.    4.  338.  743.    7.    1.  128.   83.  234.  121.    3.    0.]\n",
      " [   1.   25.   10.   14. 1255.    0.  174.    1.  541.  261.    7.   20.   30.   67.    0.    3.  426.  767.  131.   18.    4.   26.   45.   29.   51.    3.    0.]\n",
      " [  30.    0.   13.    0.    0. 2353.    7.    0.   11.    0.  104.    4.    6.    0.    8.   24.    1.    0.    0.  129. 1206.    0.   11.    0.    2.    0.    0.]\n",
      " [   1.   25.    0.    6.    6.    0. 3607.    0.    0.    9.    8.    0.   73.    0.    0.    0.    9.    4.   88.    1.    1.    0.   10.   42.   16.    3.    0.]\n",
      " [   0.   62.    3.    4.    2.    1.  218. 2731.   12.    5.    0.  100.    0.  171.    0.    0.    0.    4.   16.    0.    0.  344.    0.  201.   34.    0.    1.]\n",
      " [   5.    5.    1.    1.   12.    1.    4.    0. 3499.    6.    7.    0.    1.    7.    0.    0.  159.   34.    3.    8.   14.    0.  123.    8.   11.    0.    0.]\n",
      " [ 157.    0.    0.   15.   45.    0.   26.   12.   96. 1202.   12.  918.  411.    8.    0.   17.   13.   76.  105.   41.    0.   22.   41.  633.   49.   10.    0.]\n",
      " [   3.   23.  142.    0.   12.   78.    8.    0.   50.    0. 1902.    2.   24.   89.   87.   59.  625.   14.    2.  638.    6.    0.  136.    0.    6.    3.    0.]\n",
      " [   0.  263.    2.   20.    0.    0.  479. 1089.   23.    6.    3. 1027.    2.  182.    0.    0.    0.   76.   17.    0.    0.  492.    1.  111.  114.    2.    0.]\n",
      " [   6.    0.    9.    0.    5.    1.   15.    0.    2.   12.    5.  266. 3428.    2.    0.   14.    6.   12.   11.   32.    1.    0.   27.   16.   33.    6.    0.]\n",
      " [  12.   57.  370.    1.    3.    1.   46.  231.    4.   10.   84.   30.  173.  281.   11.   12.  292.   10.    0. 2035.    1.   78.  115.    2.   50.    0.    0.]\n",
      " [  58.    0.  454.    0.    1.   41.    0.    0.    1.    0.  487.    0.    3.    0. 2767.    3.    2.    0.    0.   14.   12.    0.   45.    0.   20.    0.    1.]\n",
      " [ 207.    4.   22.    0.    0.   82.    1.    0.  295.    1.  272.    0.  346.    1.    8. 2261.   76.   10.    9.   75.    4.    0.  190.    1.   34.    9.    1.]\n",
      " [ 142.    5.  694.    0.   59.   65.   24.    0.   19.    2.  849.    2.   74.    7.  857.  130.  113.   16.   13.  145.   93.    0.  553.    5.   41.    1.    0.]\n",
      " [  24.    5.   21.   18.  289.    3.   84.   14.  161.    7.    9.   19.   14.   25.    5.   10.   27. 2929.   79.   12.    5.    2.   81.   32.   30.    4.    0.]\n",
      " [   1.    1.    0.  112.  359.    0.  326.   20.  147.   62.    1.  175.   62.   18.    0.    2.   25.  887. 1128.    5.    6.    5.   81.  451.   33.    2.    0.]\n",
      " [  16.   45.  102.   13.   48.    4.   59.    0.   17.   65.  116.   11.  186.  148.   20.   25.  185.  102.   12. 1563.   21.    0.  931.   60.  159.    1.    0.]\n",
      " [  47.    1.   52.    1.   10.   16.    7.    0.    5.    8.   55.   22.  469.    1.   49.  499.   32.    0.    1.  116. 2419.    0.   24.   11.   43.   21.    0.]\n",
      " [   0.   29.    7.   21.    3.    0. 1035.   20.   15.    8.    0.   75.    2.  136.    0.    0.    0.    9.   25.    0.    0. 2390.    0.   59.   70.    5.    0.]\n",
      " [  29.  212.   81.    1.   20.   16.   39.    0.  264.    4.   88.    3.  119.   12.   19.   60.  290.   12.   48.  238.   72.    0. 2167.   50.   59.    6.    0.]\n",
      " [   0.   18.    1.    6.   34.    0.  476.  320.  123.   34.    0.    7.  152.    6.    0.    4.    6.   65.   91.   15.    1.   18.   48. 2438.   45.    0.    1.]\n",
      " [  83.   60.  241.   13.    6.    3.  498.   13.   21.   13.  143.  103.  127.   45.   23.    4.   13.   81.   17.  149.    9.  151.  374.  108. 1561.   49.    1.]\n",
      " [  55.   88.  124.    4.    1.    1.   41.    2.    5.   13.   85.   26.  111.    3.    5.    8.   60.    5.   16.   13.    6.    3.   85.   11.  254.  895.    0.]\n",
      " [  13.   25.   34.    0.    0.    3.    7.    0.   11.    2.    7.    2.   17.    0.    0.    1.    3.    2.   10.   14.    1.    0.   29.   11.   87.   52.   15.]]\n"
     ]
    }
   ],
   "source": [
    "from torch import clamp, tensor\n",
    "from torch.nn import (Module, Conv1d, ReLU, Sequential, Flatten, Linear,\n",
    "                      CrossEntropyLoss, Dropout, MaxPool1d, LeakyReLU, ConvTranspose1d, Sigmoid)\n",
    "from torch import stack, tensor, float32\n",
    "from torch.func import vmap\n",
    "import torch.nn.functional as F\n",
    "\n",
    "\n",
    "class Unsqueeze(Module):\n",
    "    def __init__(self, dim):\n",
    "        super().__init__()\n",
    "        self.dim = dim\n",
    "\n",
    "    def forward(self, x):\n",
    "        return x.unsqueeze(self.dim)\n",
    "\n",
    "\n",
    "class DAE_1(Module):\n",
    "    \"\"\"Denoising autoencoder 1.\"\"\"\n",
    "    def __init__(self, N, M):\n",
    "        super(DAE_1, self).__init__()\n",
    "        LATENT_SPACE_SIZE = 128\n",
    "        self.encoder = Sequential(\n",
    "            Conv1d(4, 32, kernel_size=5, padding=2),\n",
    "            LeakyReLU(),\n",
    "            MaxPool1d(kernel_size=2),\n",
    "            Conv1d(32, 64, kernel_size=3, padding=1),\n",
    "            LeakyReLU(),\n",
    "            Flatten(),\n",
    "            Linear(N * 64 // 2, N),\n",
    "            LeakyReLU(),\n",
    "            Linear(N, LATENT_SPACE_SIZE),\n",
    "            LeakyReLU(),\n",
    "        )\n",
    "        self.decoder = Sequential(\n",
    "            Linear(LATENT_SPACE_SIZE, N // 2),\n",
    "            LeakyReLU(),\n",
    "            Linear(N // 2, N),\n",
    "            LeakyReLU(),\n",
    "            Unsqueeze(1),\n",
    "            ConvTranspose1d(1, 4, kernel_size=3, stride=1, padding=1),\n",
    "            LeakyReLU(),\n",
    "            Sigmoid(),\n",
    "        )\n",
    "        self.classifier = Linear(LATENT_SPACE_SIZE, M)\n",
    "\n",
    "    def forward(self, x):\n",
    "        if self.training:\n",
    "            x_noisy = autoencoder.add_masking_noise(x, dropout_prob=0.2)\n",
    "            x_noisy = clamp(x_noisy, 0.0, 1.0)\n",
    "            latent = self.encoder(x_noisy)\n",
    "        else:\n",
    "            B, N = x.shape\n",
    "            shifts = tensor([6, 4, 2, 0], device=x.device).view(1, 1, 4)\n",
    "            x_expanded = x.unsqueeze(-1).to(int)\n",
    "            tokens = (x_expanded >> shifts) & 0b11\n",
    "            tokens = tokens.view(B, N * 4)\n",
    "            one_hot = F.one_hot(tokens, num_classes=4).float()\n",
    "            x = one_hot.permute(0, 2, 1)\n",
    "            latent = self.encoder(x)\n",
    "        classification = self.classifier(latent)\n",
    "        reconstruction = self.decoder(latent)\n",
    "        return classification, reconstruction\n",
    "\n",
    "\n",
    "model = benchmark(\n",
    "    autoencoder.Classifier(LENGTH, mapping, \"cuda\", DAE_1),\n",
    "    \"DAE\",\n",
    "    n_max_reads=8_000_000,\n",
    "    patience=30,\n",
    ")\n",
    "matrix = confusion_matrix(model, test_data, \"cuda\", mapping)\n",
    "plt.matshow(matrix)\n",
    "plt.show()\n",
    "np.set_printoptions(precision=3, suppress=True, linewidth=250)\n",
    "print(matrix)"
   ]
  }
 ],
 "metadata": {
  "kernelspec": {
   "display_name": "venv (3.11.2)",
   "language": "python",
   "name": "python3"
  },
  "language_info": {
   "codemirror_mode": {
    "name": "ipython",
    "version": 3
   },
   "file_extension": ".py",
   "mimetype": "text/x-python",
   "name": "python",
   "nbconvert_exporter": "python",
   "pygments_lexer": "ipython3",
   "version": "3.11.2"
  }
 },
 "nbformat": 4,
 "nbformat_minor": 5
}
