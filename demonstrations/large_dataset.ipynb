{
 "cells": [
  {
   "cell_type": "markdown",
   "id": "36ae27f1",
   "metadata": {},
   "source": [
    "# Large Dataset Training"
   ]
  },
  {
   "cell_type": "code",
   "execution_count": 1,
   "id": "a54f5c43",
   "metadata": {},
   "outputs": [],
   "source": [
    "import os\n",
    "import json\n",
    "from stelaro.data import synthetic\n",
    "\n",
    "DATA_DIRECTORY = \"../data/\"\n",
    "SUMMARY_DIRECTORY = DATA_DIRECTORY + \"ncbi_genome_summaries/\"\n",
    "NCBI_TAXONOMY_DIRECTORY = DATA_DIRECTORY + \"ncbi_taxonomy/\"\n",
    "DATASET_V1_DIRECTORY = DATA_DIRECTORY + \"version_1/\"\n",
    "DATASET_V1_COMPRESSED_DIRECTORY = DATASET_V1_DIRECTORY + \"compressed/\"\n",
    "\n",
    "\n",
    "def mkdir(path: str) -> None:\n",
    "    \"\"\"Create a directory if it does not exist.\"\"\"\n",
    "    if not os.path.exists(path):\n",
    "        os.makedirs(path)\n",
    "\n",
    "\n",
    "mkdir(DATA_DIRECTORY)\n",
    "mkdir(DATASET_V1_DIRECTORY)\n",
    "mkdir(DATASET_V1_COMPRESSED_DIRECTORY)"
   ]
  },
  {
   "cell_type": "markdown",
   "id": "97b9728e",
   "metadata": {},
   "source": [
    "## 1. Compress The Dataset"
   ]
  },
  {
   "cell_type": "code",
   "execution_count": 3,
   "id": "426a559a",
   "metadata": {},
   "outputs": [
    {
     "name": "stderr",
     "output_type": "stream",
     "text": [
      "100%|██████████| 27/27 [06:14<00:00, 13.86s/it]\n",
      "100%|██████████| 27/27 [05:45<00:00, 12.81s/it]\n",
      "100%|██████████| 27/27 [41:05<00:00, 91.32s/it] \n"
     ]
    }
   ],
   "source": [
    "LENGTH = 1500\n",
    "with open(\"../datasets/version_1_splits/map.json\", \"r\") as f:\n",
    "    index_to_taxonomic_label = json.load(f)\n",
    "\n",
    "for dataset_name in (\"validate\", \"test\", \"train\"):\n",
    "    with open(f\"../datasets/version_1_splits/{dataset_name}.json\", \"r\") as f:\n",
    "        dataset = json.load(f)\n",
    "    index_to_n_passes = {}\n",
    "    directory = DATASET_V1_COMPRESSED_DIRECTORY + dataset_name + \"/\"\n",
    "    mkdir(directory)\n",
    "    synthetic.compress_dataset(\n",
    "        dataset,\n",
    "        index_to_taxonomic_label,\n",
    "        \"../data/version_1/genomes/\",\n",
    "        LENGTH,\n",
    "        directory\n",
    "    )"
   ]
  },
  {
   "cell_type": "markdown",
   "id": "d43f6fd9",
   "metadata": {},
   "source": [
    "## 2. Sample Data"
   ]
  },
  {
   "cell_type": "code",
   "execution_count": 2,
   "id": "e80aac16",
   "metadata": {},
   "outputs": [
    {
     "name": "stdout",
     "output_type": "stream",
     "text": [
      "[ 12643  22777  34943  31102  60816   4144  64119  86229   5006  25801\n",
      "   5386   8599  29738  22694  37733  15253  58687 118124  85929 137871\n",
      "  79875 149174  21096  75607  16687   1920    346]\n"
     ]
    }
   ],
   "source": [
    "f = synthetic.get_n_reads_in_compressed_dataset(\n",
    "    DATASET_V1_COMPRESSED_DIRECTORY + \"test/\",\n",
    ")\n",
    "print(f)\n",
    "n = sum(f)\n",
    "ids = synthetic.get_random_identifiers(n)"
   ]
  },
  {
   "cell_type": "code",
   "execution_count": 3,
   "id": "2aa734fa",
   "metadata": {},
   "outputs": [
    {
     "name": "stdout",
     "output_type": "stream",
     "text": [
      "[ 2091  3754  5830  5052 10021   647 10467 14440   800  4357   888  1434\n",
      "  4802  3723  6316  2519  9638 19468 14160 22791 13193 24595  3484 12415\n",
      "  2733   330    52]\n",
      "200000\n"
     ]
    }
   ],
   "source": [
    "from numpy import bincount\n",
    "x, y = synthetic.sample_compressed_dataset(\n",
    "    DATASET_V1_COMPRESSED_DIRECTORY + \"test/\",\n",
    "    200_000,\n",
    "    1500,\n",
    "    ids,\n",
    "    400000\n",
    ")\n",
    "print(bincount(y))\n",
    "print(sum(bincount(y)))"
   ]
  },
  {
   "cell_type": "code",
   "execution_count": null,
   "id": "0ccdf478",
   "metadata": {},
   "outputs": [
    {
     "name": "stdout",
     "output_type": "stream",
     "text": [
      "{0: 1069153, 1: 342594, 2: 1109940, 3: 1199448, 4: 3540, 5: 1111912, 6: 417384, 7: 690975, 8: 491436, 9: 355662}\n"
     ]
    }
   ],
   "source": [
    "import numpy as np\n",
    "from random import shuffle\n",
    "\n",
    "\n",
    "def get_floored_random_identifiers(directory: str, floor: int, n: int) -> dict:\n",
    "    \"\"\"Same as `get_random_identifiers`, but generates identifiers that\n",
    "    include all elements of a class if its count is low.\n",
    "    \"\"\"\n",
    "    assert floor > 1, \"Invalid floor.\"\n",
    "    # Determine the number of samples for each class.\n",
    "    total_reads = synthetic.get_n_reads_in_compressed_dataset(directory)\n",
    "    counts_to_fetch = {}\n",
    "    for i, n_reads in enumerate(total_reads):\n",
    "        if n_reads < floor:\n",
    "            counts_to_fetch[i] = int(n_reads)\n",
    "        else:\n",
    "            counts_to_fetch[i] = 0\n",
    "    n_remaining = n - sum(counts_to_fetch.values())\n",
    "    n_remaining_classes = len([0 for _, v in counts_to_fetch.items() if v == 0])\n",
    "    average = n_remaining / n_remaining_classes\n",
    "    for i, n_reads in enumerate(total_reads):\n",
    "        if counts_to_fetch[i] == 0:\n",
    "            counts_to_fetch[i] = int(average)\n",
    "            if average > n_reads:\n",
    "                raise RuntimeError(f\"Insufficient number of reads. Required: {average}. Available: {n_reads}.\")\n",
    "    # Obtain sample indices.\n",
    "    assert directory.endswith(\"/\")\n",
    "    with open(directory + \"counts.json\", \"r\") as file:\n",
    "        counts = json.load(file)\n",
    "    identifiers = {k: [] for k in counts_to_fetch}\n",
    "    global_index = 0\n",
    "    for identifier, count in counts.items():\n",
    "        partial_y = np.load(directory + str(identifier) + \"_y.npy\")\n",
    "        partial_y = partial_y[:count]\n",
    "        for i in range(len(partial_y)):\n",
    "            identifiers[partial_y[i]].append(global_index)\n",
    "            global_index += 1\n",
    "    # Reduce the number of samples.\n",
    "    indices = []\n",
    "    for i in range(len(identifiers)):\n",
    "        shuffle(identifiers[i])\n",
    "        indices += identifiers[i][:counts_to_fetch[i]]\n",
    "    shuffle(indices)\n",
    "    identifiers = {}\n",
    "    for i, v in enumerate(indices):\n",
    "        identifiers[i] = v\n",
    "    return identifiers\n",
    "\n",
    "\n",
    "indices = get_floored_random_identifiers(\n",
    "    DATASET_V1_COMPRESSED_DIRECTORY + \"test/\",\n",
    "    1000,\n",
    "    50_000\n",
    ")"
   ]
  },
  {
   "cell_type": "code",
   "execution_count": 14,
   "id": "a206af78",
   "metadata": {},
   "outputs": [
    {
     "name": "stdout",
     "output_type": "stream",
     "text": [
      "['Viruses', 'Monodnaviria']\n",
      "5158834\n"
     ]
    }
   ],
   "source": [
    "with open(f\"../datasets/version_1_splits/train.json\", \"r\") as f:\n",
    "    dataset = json.load(f)\n",
    "\n",
    "\n",
    "taxon = dataset[-1]\n",
    "print(taxon[0])\n",
    "references = []\n",
    "for element in taxon[1]:\n",
    "    genus, ref = element\n",
    "    references += ref\n",
    "print(synthetic.evaluate_n_nucleotides(references))\n"
   ]
  },
  {
   "cell_type": "code",
   "execution_count": 7,
   "id": "cc08ee6c",
   "metadata": {},
   "outputs": [
    {
     "name": "stdout",
     "output_type": "stream",
     "text": [
      "(1000000, 375)\n"
     ]
    }
   ],
   "source": [
    "import numpy as np\n",
    "x = np.load(DATASET_V1_COMPRESSED_DIRECTORY + \"train/0_x.npy\")\n",
    "print(x.shape)"
   ]
  },
  {
   "cell_type": "markdown",
   "id": "950054ab",
   "metadata": {},
   "source": [
    "## 3. Train Neural Networks"
   ]
  },
  {
   "cell_type": "code",
   "execution_count": 2,
   "id": "a33f08b4",
   "metadata": {},
   "outputs": [],
   "source": [
    "from stelaro import models\n",
    "from torch.utils.data import DataLoader\n",
    "import json\n",
    "from torch.optim import Adam\n",
    "import matplotlib.pyplot as plt\n",
    "from stelaro.models import feedforward, autoencoder, transformer, hybrid\n",
    "from time import time\n",
    "\n",
    "LENGTH = 1500\n",
    "BATCH_SIZE = 128\n",
    "N_SAMPLE_BETWEEN_INTERVALS = 50_000\n",
    "\n",
    "train_data = DataLoader(\n",
    "    synthetic.CompressedReadDataset(\n",
    "        \"../data/version_1/compressed/train/\", N_SAMPLE_BETWEEN_INTERVALS, 10\n",
    "    ),\n",
    "    batch_size=BATCH_SIZE,\n",
    "    shuffle=False\n",
    ")\n",
    "validate_data = DataLoader(\n",
    "    synthetic.SyntheticReadDataset(\n",
    "        \"../data/version_1/compressed/validate/\", 50_000, LENGTH, 2000\n",
    "    ),\n",
    "    batch_size=BATCH_SIZE,\n",
    "    shuffle=False\n",
    ")\n",
    "test_data = DataLoader(\n",
    "    synthetic.SyntheticReadDataset(\n",
    "        \"../data/version_1/compressed/test/\", 100_000, LENGTH, 2000\n",
    "    ),\n",
    "    batch_size=BATCH_SIZE,\n",
    "    shuffle=False\n",
    ")\n",
    "\n",
    "with open(\"../datasets/version_1_splits/map.json\", \"r\") as f:\n",
    "    mapping = json.load(f)\n",
    "\n",
    "\n",
    "def benchmark(classifier: models.BaseClassifier, name: str, n_max_reads, patience=4):\n",
    "    train_data.dataset.reset()\n",
    "    parameters = classifier.get_parameters()\n",
    "    if parameters:\n",
    "        optimizer = Adam(classifier.get_parameters(), lr=0.001)\n",
    "        total_params = sum(param.numel() for param in parameters)\n",
    "        print(f\"Number of parameters: {total_params:_}\")\n",
    "    else:\n",
    "        optimizer = None\n",
    "    a = time()\n",
    "    losses, f1 = classifier.train_large_dataset(\n",
    "        train_data,\n",
    "        validate_data,\n",
    "        optimizer,\n",
    "        evaluation_interval=N_SAMPLE_BETWEEN_INTERVALS,\n",
    "        n_max_reads=n_max_reads,\n",
    "        patience=patience,\n",
    "    )\n",
    "    b = time()\n",
    "    print(f\"Training took {(b - a):.3f} s.\")\n",
    "    if losses:\n",
    "        fig, ax = plt.subplots(1, 2, figsize=(12, 4))\n",
    "        x = list(range(len(losses)))\n",
    "        ax[0].plot(x, losses, label=\"losses\")\n",
    "        ax[0].set(xlabel='Epochs', ylabel='Loss')\n",
    "        ax[0].set_title(\"Loss\")\n",
    "        ax[1].set(xlabel='Epochs', ylabel=\"f1\")\n",
    "        ax[1].set_title(\"F1 Score\")\n",
    "        r = 0\n",
    "        for f in f1:\n",
    "            ax[1].plot(x, f, label=f'Rank {r}')\n",
    "            r += 1\n",
    "        ax[1].legend()\n",
    "        fig.suptitle(f\"Classification Training for {name}\")\n",
    "        plt.show()\n",
    "    result = models.evaluate(classifier, test_data, \"cuda\", mapping, permute=False)\n",
    "    rounded_result = [float(f\"{r:.5}\") for r in result]\n",
    "    print(f\"Test results: {rounded_result}\")\n",
    "    return classifier\n",
    "\n",
    "\n",
    "from torch import no_grad, float32\n",
    "import numpy as np\n",
    "\n",
    "\n",
    "def confusion_matrix(classifier, loader, device, mapping) -> np.ndarray:\n",
    "    \"\"\"Returns: A confusion matrix with rows corresponding to true labels.\"\"\"\n",
    "    matrix = np.zeros((len(mapping), len(mapping)))\n",
    "    with no_grad():\n",
    "        for x_batch, y_batch in loader:\n",
    "            x_batch = x_batch.type(float32).to(device)\n",
    "            #x_batch = x_batch.permute(0, 2, 1)  # Swap channels and sequence.\n",
    "            y_batch = y_batch.to(\"cpu\")\n",
    "            predictions = classifier.predict(x_batch)\n",
    "            for y, p in zip(y_batch, predictions):\n",
    "                matrix[y][p] += 1\n",
    "    return matrix"
   ]
  },
  {
   "cell_type": "markdown",
   "id": "c7ed2768",
   "metadata": {},
   "source": [
    "### 3.1. Baseline"
   ]
  },
  {
   "cell_type": "code",
   "execution_count": null,
   "id": "d89076ce",
   "metadata": {},
   "outputs": [
    {
     "name": "stderr",
     "output_type": "stream",
     "text": [
      "  0%|          | 234/68609 [00:00<03:01, 377.43it/s]\n"
     ]
    },
    {
     "name": "stdout",
     "output_type": "stream",
     "text": [
      "Training took 0.622 s.\n",
      "Test results: [0.32995, 0.032383]\n"
     ]
    }
   ],
   "source": [
    "model = benchmark(\n",
    "    models.RandomClassifier(),\n",
    "    \"Random Classifier\",\n",
    "    n_max_reads=30_000\n",
    ")\n",
    "model.n_classes = len(mapping)"
   ]
  },
  {
   "cell_type": "code",
   "execution_count": null,
   "id": "43dd8e58",
   "metadata": {},
   "outputs": [
    {
     "name": "stdout",
     "output_type": "stream",
     "text": [
      "{'0': ['Archaea', 'Thermoproteota'], '1': ['Archaea', 'Halobacteriota'], '2': ['Archaea', 'Methanobacteriota'], '3': ['Bacteria', 'Acidobacteriota'], '4': ['Bacteria', 'Desulfobacterota'], '5': ['Bacteria', 'Aquificota'], '6': ['Bacteria', 'Planctomycetota'], '7': ['Bacteria', 'Myxococcota'], '8': ['Bacteria', 'Synergistota'], '9': ['Bacteria', 'Chloroflexota'], '10': ['Bacteria', 'Thermotogota'], '11': ['Bacteria', 'Deinococcota'], '12': ['Bacteria', 'Cyanobacteriota'], '13': ['Bacteria', 'Bacteroidota_A'], '14': ['Bacteria', 'Fusobacteriota'], '15': ['Bacteria', 'Chlamydiota'], '16': ['Bacteria', 'Spirochaetota'], '17': ['Bacteria', 'Desulfobacterota_I'], '18': ['Bacteria', 'Verrucomicrobiota'], '19': ['Bacteria', 'Bacteroidota'], '20': ['Bacteria', 'Campylobacterota'], '21': ['Bacteria', 'Actinomycetota'], '22': ['Bacteria', 'Bacillota'], '23': ['Bacteria', 'Pseudomonadota'], '24': ['Viruses', 'Duplodnaviria'], '25': ['Viruses', 'Riboviria'], '26': ['Viruses', 'Monodnaviria']}\n"
     ]
    },
    {
     "data": {
      "image/png": "[encoded data removed]",
      "text/plain": [
       "<Figure size 480x480 with 1 Axes>"
      ]
     },
     "metadata": {},
     "output_type": "display_data"
    }
   ],
   "source": [
    "matrix = confusion_matrix(model, test_data, \"cuda\", mapping)\n",
    "plt.matshow(matrix)\n",
    "plt.show()"
   ]
  },
  {
   "cell_type": "code",
   "execution_count": 7,
   "id": "983cfa94",
   "metadata": {},
   "outputs": [
    {
     "name": "stdout",
     "output_type": "stream",
     "text": [
      "[[67. 51. 75. 71. 66. 77. 81. 70. 71. 70. 73. 73. 68. 65. 58. 89. 78. 65. 65. 84. 63. 78. 78. 67. 74. 80. 72.]\n",
      " [65. 75. 68. 77. 75. 65. 77. 80. 69. 77. 69. 67. 72. 83. 60. 63. 68. 63. 71. 68. 76. 75. 80. 60. 63. 75. 68.]\n",
      " [69. 66. 75. 87. 69. 70. 68. 71. 76. 67. 59. 75. 65. 57. 64. 56. 77. 76. 81. 70. 70. 77. 84. 64. 77. 66. 73.]\n",
      " [50. 85. 83. 73. 73. 75. 77. 80. 72. 60. 70. 75. 66. 65. 65. 62. 68. 70. 81. 71. 53. 89. 77. 71. 57. 60. 81.]\n",
      " [51. 81. 72. 76. 62. 69. 64. 81. 63. 79. 69. 92. 66. 91. 63. 78. 84. 72. 64. 69. 70. 73. 73. 71. 58. 62. 56.]\n",
      " [71. 70. 67. 66. 71. 81. 57. 72. 57. 78. 75. 71. 84. 69. 74. 77. 68. 67. 77. 70. 59. 70. 69. 69. 73. 76. 71.]\n",
      " [65. 63. 70. 80. 80. 51. 68. 74. 71. 69. 66. 71. 68. 52. 71. 65. 71. 76. 81. 62. 87. 81. 69. 84. 58. 83. 73.]\n",
      " [72. 66. 67. 80. 56. 69. 70. 72. 69. 62. 76. 66. 77. 84. 83. 77. 76. 58. 65. 57. 69. 79. 78. 71. 71. 80. 59.]\n",
      " [61. 68. 65. 60. 75. 82. 74. 77. 85. 81. 63. 70. 66. 86. 65. 63. 69. 74. 78. 63. 62. 66. 85. 67. 78. 55. 71.]\n",
      " [72. 76. 75. 64. 87. 51. 57. 72. 65. 62. 80. 71. 87. 61. 74. 59. 64. 79. 58. 65. 69. 74. 70. 73. 77. 78. 89.]\n",
      " [84. 52. 74. 68. 60. 69. 79. 71. 66. 67. 81. 69. 71. 82. 73. 75. 55. 75. 89. 62. 76. 67. 70. 62. 71. 63. 78.]\n",
      " [87. 78. 83. 76. 67. 60. 64. 61. 65. 73. 74. 62. 78. 82. 60. 62. 61. 69. 67. 82. 60. 68. 64. 65. 81. 81. 79.]\n",
      " [72. 80. 68. 76. 58. 74. 83. 57. 77. 75. 72. 58. 74. 77. 71. 69. 56. 72. 82. 69. 73. 72. 61. 69. 75. 76. 63.]\n",
      " [81. 62. 82. 74. 49. 72. 76. 79. 59. 67. 70. 85. 80. 77. 68. 58. 57. 70. 64. 71. 84. 65. 71. 80. 70. 79. 59.]\n",
      " [85. 61. 76. 74. 66. 76. 56. 76. 66. 63. 65. 71. 71. 70. 70. 59. 58. 69. 82. 82. 66. 82. 67. 77. 81. 57. 83.]\n",
      " [82. 66. 70. 65. 70. 72. 70. 71. 57. 87. 62. 74. 66. 66. 77. 86. 57. 69. 71. 75. 59. 69. 64. 68. 63. 88. 85.]\n",
      " [75. 76. 81. 76. 70. 88. 66. 66. 70. 77. 79. 64. 62. 72. 78. 54. 69. 66. 69. 70. 62. 67. 72. 66. 69. 63. 82.]\n",
      " [67. 70. 53. 58. 83. 67. 70. 68. 72. 71. 78. 86. 64. 65. 61. 68. 71. 66. 68. 79. 83. 93. 62. 76. 71. 78. 61.]\n",
      " [68. 83. 51. 82. 62. 70. 74. 68. 82. 72. 69. 61. 82. 63. 59. 64. 78. 66. 73. 71. 66. 91. 74. 67. 72. 73. 68.]\n",
      " [66. 81. 59. 79. 51. 68. 77. 65. 78. 83. 67. 72. 74. 67. 63. 79. 66. 71. 83. 73. 68. 58. 59. 68. 67. 77. 90.]\n",
      " [80. 67. 65. 61. 65. 70. 75. 70. 69. 71. 81. 63. 64. 68. 87. 76. 76. 64. 62. 66. 78. 68. 70. 72. 77. 77. 67.]\n",
      " [75. 55. 63. 71. 77. 71. 72. 72. 77. 74. 64. 71. 58. 65. 79. 69. 89. 69. 82. 86. 59. 74. 47. 66. 76. 78. 70.]\n",
      " [75. 67. 71. 79. 63. 73. 79. 50. 74. 72. 66. 64. 77. 64. 46. 75. 70. 67. 82. 71. 72. 73. 99. 72. 62. 69. 77.]\n",
      " [83. 80. 78. 70. 70. 61. 51. 68. 69. 79. 63. 62. 85. 71. 70. 79. 64. 51. 76. 74. 81. 74. 58. 68. 76. 78. 70.]\n",
      " [70. 89. 64. 71. 70. 75. 68. 66. 61. 72. 63. 56. 71. 68. 76. 59. 71. 77. 66. 84. 82. 60. 78. 70. 78. 61. 83.]\n",
      " [84. 83. 65. 82. 69. 73. 71. 67. 69. 76. 67. 67. 71. 56. 50. 82. 70. 79. 57. 62. 79. 74. 67. 69. 77. 68. 75.]\n",
      " [19. 15. 10. 10. 13.  9. 12. 18. 14.  7. 11. 14. 15. 13. 13. 12. 12. 12. 13. 14. 19. 11. 10. 15. 12. 11. 12.]]\n",
      "50000.0\n",
      "[1896. 1866. 1830. 1906. 1777. 1838. 1836. 1842. 1823. 1891. 1832. 1830. 1882. 1839. 1778. 1815. 1803. 1812. 1907. 1870. 1845. 1928. 1856. 1827. 1864. 1892. 1915.]\n",
      "[1929. 1909. 1909. 1909. 1909. 1909. 1909. 1909. 1909. 1909. 1909. 1909. 1909. 1909. 1909. 1909. 1909. 1909. 1909. 1909. 1909. 1909. 1909. 1909. 1909. 1909.  346.]\n"
     ]
    }
   ],
   "source": [
    "np.set_printoptions(precision=3, suppress=True, linewidth=250)\n",
    "print(matrix)\n",
    "print(np.sum(matrix))\n",
    "print(np.sum(matrix, axis=0))\n",
    "print(np.sum(matrix, axis=1))"
   ]
  },
  {
   "cell_type": "markdown",
   "id": "898b422f",
   "metadata": {},
   "source": [
    "### 3.2. CNN"
   ]
  },
  {
   "cell_type": "code",
   "execution_count": 11,
   "id": "0ea61bba",
   "metadata": {},
   "outputs": [
    {
     "name": "stdout",
     "output_type": "stream",
     "text": [
      "Number of parameters: 35_967_670\n"
     ]
    },
    {
     "name": "stderr",
     "output_type": "stream",
     "text": [
      "  1%|          | 396/68609 [00:19<5:50:06,  3.25it/s]"
     ]
    },
    {
     "name": "stdout",
     "output_type": "stream",
     "text": [
      "N Reads: 50048 Loss: 1010.50. F1: [0.30475, 0.053738]. Patience: 4\n"
     ]
    },
    {
     "name": "stderr",
     "output_type": "stream",
     "text": [
      "  1%|          | 784/68609 [00:40<9:59:53,  1.88it/s]"
     ]
    },
    {
     "name": "stdout",
     "output_type": "stream",
     "text": [
      "N Reads: 100096 Loss: 879.38. F1: [0.38529, 0.093334]. Patience: 4\n"
     ]
    },
    {
     "name": "stderr",
     "output_type": "stream",
     "text": [
      "  2%|▏         | 1177/68609 [01:02<6:47:38,  2.76it/s]"
     ]
    },
    {
     "name": "stdout",
     "output_type": "stream",
     "text": [
      "N Reads: 150144 Loss: 803.85. F1: [0.40049, 0.14599]. Patience: 4\n"
     ]
    },
    {
     "name": "stderr",
     "output_type": "stream",
     "text": [
      "  2%|▏         | 1567/68609 [01:26<8:25:37,  2.21it/s] "
     ]
    },
    {
     "name": "stdout",
     "output_type": "stream",
     "text": [
      "N Reads: 200192 Loss: 761.68. F1: [0.36856, 0.1783]. Patience: 4\n"
     ]
    },
    {
     "name": "stderr",
     "output_type": "stream",
     "text": [
      "  3%|▎         | 1957/68609 [01:47<8:56:13,  2.07it/s]"
     ]
    },
    {
     "name": "stdout",
     "output_type": "stream",
     "text": [
      "N Reads: 250240 Loss: 714.40. F1: [0.40692, 0.17854]. Patience: 4\n"
     ]
    },
    {
     "name": "stderr",
     "output_type": "stream",
     "text": [
      "  3%|▎         | 2351/68609 [02:12<8:02:39,  2.29it/s] "
     ]
    },
    {
     "name": "stdout",
     "output_type": "stream",
     "text": [
      "N Reads: 300288 Loss: 685.20. F1: [0.41042, 0.19531]. Patience: 4\n"
     ]
    },
    {
     "name": "stderr",
     "output_type": "stream",
     "text": [
      "  4%|▍         | 2742/68609 [02:34<6:34:21,  2.78it/s]"
     ]
    },
    {
     "name": "stdout",
     "output_type": "stream",
     "text": [
      "N Reads: 350336 Loss: 663.34. F1: [0.41068, 0.19997]. Patience: 4\n"
     ]
    },
    {
     "name": "stderr",
     "output_type": "stream",
     "text": [
      "  5%|▍         | 3133/68609 [02:58<8:01:38,  2.27it/s] "
     ]
    },
    {
     "name": "stdout",
     "output_type": "stream",
     "text": [
      "N Reads: 400384 Loss: 643.00. F1: [0.39821, 0.21228]. Patience: 4\n"
     ]
    },
    {
     "name": "stderr",
     "output_type": "stream",
     "text": [
      "  5%|▌         | 3524/68609 [03:21<6:13:26,  2.90it/s]"
     ]
    },
    {
     "name": "stdout",
     "output_type": "stream",
     "text": [
      "N Reads: 450432 Loss: 628.73. F1: [0.4019, 0.22195]. Patience: 4\n"
     ]
    },
    {
     "name": "stderr",
     "output_type": "stream",
     "text": [
      "  6%|▌         | 3914/68609 [03:45<7:58:11,  2.25it/s] "
     ]
    },
    {
     "name": "stdout",
     "output_type": "stream",
     "text": [
      "N Reads: 500480 Loss: 615.22. F1: [0.42855, 0.24757]. Patience: 4\n"
     ]
    },
    {
     "name": "stderr",
     "output_type": "stream",
     "text": [
      "  6%|▋         | 4303/68609 [04:07<8:11:16,  2.18it/s]"
     ]
    },
    {
     "name": "stdout",
     "output_type": "stream",
     "text": [
      "N Reads: 550528 Loss: 601.61. F1: [0.42689, 0.25745]. Patience: 4\n"
     ]
    },
    {
     "name": "stderr",
     "output_type": "stream",
     "text": [
      "  7%|▋         | 4694/68609 [04:32<10:59:32,  1.62it/s]"
     ]
    },
    {
     "name": "stdout",
     "output_type": "stream",
     "text": [
      "N Reads: 600576 Loss: 593.42. F1: [0.44568, 0.26412]. Patience: 4\n"
     ]
    },
    {
     "name": "stderr",
     "output_type": "stream",
     "text": [
      "  7%|▋         | 5085/68609 [04:55<8:28:37,  2.08it/s] "
     ]
    },
    {
     "name": "stdout",
     "output_type": "stream",
     "text": [
      "N Reads: 650624 Loss: 583.25. F1: [0.43684, 0.28328]. Patience: 4\n"
     ]
    },
    {
     "name": "stderr",
     "output_type": "stream",
     "text": [
      "  8%|▊         | 5478/68609 [05:21<7:57:48,  2.20it/s] "
     ]
    },
    {
     "name": "stdout",
     "output_type": "stream",
     "text": [
      "N Reads: 700672 Loss: 579.03. F1: [0.46303, 0.24641]. Patience: 3\n"
     ]
    },
    {
     "name": "stderr",
     "output_type": "stream",
     "text": [
      "  9%|▊         | 5867/68609 [05:45<8:35:37,  2.03it/s]"
     ]
    },
    {
     "name": "stdout",
     "output_type": "stream",
     "text": [
      "N Reads: 750720 Loss: 566.52. F1: [0.4374, 0.29428]. Patience: 3\n"
     ]
    },
    {
     "name": "stderr",
     "output_type": "stream",
     "text": [
      "  9%|▉         | 6261/68609 [06:11<8:10:37,  2.12it/s] "
     ]
    },
    {
     "name": "stdout",
     "output_type": "stream",
     "text": [
      "N Reads: 800768 Loss: 562.48. F1: [0.47543, 0.29603]. Patience: 3\n"
     ]
    },
    {
     "name": "stderr",
     "output_type": "stream",
     "text": [
      " 10%|▉         | 6651/68609 [06:35<6:13:21,  2.77it/s]"
     ]
    },
    {
     "name": "stdout",
     "output_type": "stream",
     "text": [
      "N Reads: 850816 Loss: 555.06. F1: [0.46326, 0.26431]. Patience: 2\n"
     ]
    },
    {
     "name": "stderr",
     "output_type": "stream",
     "text": [
      " 10%|█         | 7042/68609 [07:02<8:08:56,  2.10it/s] "
     ]
    },
    {
     "name": "stdout",
     "output_type": "stream",
     "text": [
      "N Reads: 900864 Loss: 558.89. F1: [0.51249, 0.28875]. Patience: 1\n"
     ]
    },
    {
     "name": "stderr",
     "output_type": "stream",
     "text": [
      " 11%|█         | 7432/68609 [07:26<8:21:03,  2.03it/s]"
     ]
    },
    {
     "name": "stdout",
     "output_type": "stream",
     "text": [
      "N Reads: 950912 Loss: 546.36. F1: [0.4639, 0.29811]. Patience: 1\n"
     ]
    },
    {
     "name": "stderr",
     "output_type": "stream",
     "text": [
      " 11%|█▏        | 7824/68609 [07:53<8:25:21,  2.00it/s] "
     ]
    },
    {
     "name": "stdout",
     "output_type": "stream",
     "text": [
      "N Reads: 1000960 Loss: 542.37. F1: [0.49557, 0.31291]. Patience: 1\n"
     ]
    },
    {
     "name": "stderr",
     "output_type": "stream",
     "text": [
      " 12%|█▏        | 8210/68609 [08:18<1:01:06, 16.47it/s]"
     ]
    },
    {
     "name": "stdout",
     "output_type": "stream",
     "text": [
      "N Reads: 1051008 Loss: 535.93. F1: [0.48375, 0.31049]. Patience: 0\n",
      "The model is overfitting; stopping early.\n",
      "Processed 1_051_008 reads.\n",
      "Training took 498.417 s.\n"
     ]
    },
    {
     "name": "stderr",
     "output_type": "stream",
     "text": [
      "\n"
     ]
    },
    {
     "data": {
      "image/png": "[encoded data removed]",
      "text/plain": [
       "<Figure size 1200x400 with 2 Axes>"
      ]
     },
     "metadata": {},
     "output_type": "display_data"
    },
    {
     "name": "stdout",
     "output_type": "stream",
     "text": [
      "Test results: [0.5222, 0.32266]\n"
     ]
    }
   ],
   "source": [
    "from torch.nn import (Module, Conv1d, ReLU, Sequential, Flatten, Linear,\n",
    "                      CrossEntropyLoss, Dropout, MaxPool1d)\n",
    "from torch import stack, tensor, float32\n",
    "from torch.func import vmap\n",
    "import torch.nn.functional as F\n",
    "\n",
    "\n",
    "class CNN_2_dropout_token(Module):\n",
    "    def __init__(self, N, M):\n",
    "        super(CNN_2_dropout_token, self).__init__()\n",
    "        self.conv = Sequential(\n",
    "            Conv1d(4, 32, kernel_size=7, padding=3),\n",
    "            ReLU(),\n",
    "            Conv1d(32, 64, kernel_size=5, padding=2),\n",
    "            ReLU(),\n",
    "            Conv1d(64, 128, kernel_size=3, padding=1),\n",
    "            ReLU(),\n",
    "        )\n",
    "        n = N * 4\n",
    "        self.fc = Sequential(\n",
    "            Flatten(),\n",
    "            Dropout(0.2),\n",
    "            Linear(n * 128, int(n / 8)),\n",
    "            ReLU(),\n",
    "            Dropout(0.2),\n",
    "            Linear(int(n / 8), 128),\n",
    "            ReLU(),\n",
    "            Dropout(0.2),\n",
    "            Linear(128, M)\n",
    "        )\n",
    "\n",
    "    def forward(self, x):\n",
    "        B, N = x.shape\n",
    "        shifts = tensor([6, 4, 2, 0], device=x.device).view(1, 1, 4)\n",
    "        x_expanded = x.unsqueeze(-1).to(int)\n",
    "        tokens = (x_expanded >> shifts) & 0b11\n",
    "        tokens = tokens.view(B, N * 4)\n",
    "        one_hot = F.one_hot(tokens, num_classes=4).float()\n",
    "        x = one_hot.permute(0, 2, 1)\n",
    "        x = self.conv(x)\n",
    "        x = self.fc(x)\n",
    "        return x.to(float)\n",
    "\n",
    "\n",
    "model = benchmark(\n",
    "    feedforward.Classifier(LENGTH // 4, mapping, \"cuda\", CNN_2_dropout_token),\n",
    "    \"CNN\",\n",
    "    n_max_reads=1_200_000\n",
    ")"
   ]
  },
  {
   "cell_type": "code",
   "execution_count": 13,
   "id": "91c7ac50",
   "metadata": {},
   "outputs": [
    {
     "data": {
      "image/png": "[encoded data removed]",
      "text/plain": [
       "<Figure size 480x480 with 1 Axes>"
      ]
     },
     "metadata": {},
     "output_type": "display_data"
    },
    {
     "name": "stdout",
     "output_type": "stream",
     "text": [
      "[[1909.    8.   35.    2.    0.    0.    0.   46.    9.   56.   40.   94.   82.    0.   67.    3.    4.    0.    0.  353.  388.   21.  730.    1.   70.    0.    0.]\n",
      " [ 391. 1593.   10.    6.   63.   21.  183.    3.  172.  108.  113.   13.    2.   58.    3.    2.   22.  325.    9.  124.   81.   35.  518.   24.   30.    0.    0.]\n",
      " [1188.  325.  319.    0.   15.   93.    0.    0.  230.    0.   76.  112.    2.    0.  121.    0.   11.    0.    0.   87.  673.    0.  582.    0.   75.    0.    0.]\n",
      " [   1.   35.    0. 1467.   24.    0.  618.  366.   24.  219.    5.   19.    5.   11.    0.    0.    0.  140.  349.    2.    1.   88.  142.  391.    2.    0.    0.]\n",
      " [   2.   27.    0.  100. 1417.    0.  276.   33.  334.  258.    3.   35.    8.   43.    0.    0.   25.  536.  392.   16.    3.   38.  257.  104.    2.    0.    0.]\n",
      " [  20.    3.    1.    0.    0.   81.    0.    0.    0.    4.    6.    8.    8.    0.    9.    0.    2.    0.    1.    8. 3753.    0.    5.    0.    0.    0.    0.]\n",
      " [   0.  164.    0.   51.    7.    0. 3480.    0.    0.   15.    6.    0.   11.    1.    0.    0.    3.    0.   52.    0.    1.    1.   26.   90.    1.    0.    0.]\n",
      " [   2.   31.    0.   16.    0.    0.   35. 2700.    1.    1.    0.    2.    0.    4.    0.    0.    0.    1.    8.    0.    0.  975.    1.  132.    0.    0.    0.]\n",
      " [   1.   15.    0.   41.    7.    0.    7.   43. 2854.    3.    9.    0.    0.    1.    0.    0.   42.   17.   20.    2.   88.    3.  733.   23.    0.    0.    0.]\n",
      " [  30.    8.    0.   76.   39.    0.   56.   60.    2. 2020.    3.  340.  156.    0.    0.    2.    0.   20.   46.   10.   15.   67.   96.  862.    1.    0.    0.]\n",
      " [  20.  260.    9.    4.   11.   83.    4.    0.   80.    3.  857.    2.    0.    6.  178.   11.  444.    0.    7.  416.  310.    0. 1203.    0.    1.    0.    0.]\n",
      " [   4.  146.    0.  177.    7.    0.  121. 1838.    8.   80.    3.  126.    2.    3.    0.    0.    0.   57.   30.    0.    3.  699.    4.  600.    1.    0.    0.]\n",
      " [  22.    0.    1.   10.    7.    0.   61.    0.    0.   71.    0.  280. 3299.    0.    0.    1.    1.    0.   22.   28.    8.    1.   57.   39.    1.    0.    0.]\n",
      " [  13.   27.    8.    2.    0.    0.    8.  332.    0.    2.    8.    0.   31.   14.    8.    0.   81.    0.    0. 1485.   17.   97. 1764.   10.    2.    0.    0.]\n",
      " [ 133.    0.  272.    0.    0.    0.    0.    0.    0.    1.  169.    0.    2.    0. 1903.    0.    2.    0.    0.   19. 1366.    0.   41.    0.    1.    0.    0.]\n",
      " [ 802.   99.    6.    0.    4.  364.    1.    0.   21.    3.  363.    0.  161.    0.   24.  257.   22.    0.    7.  172.  783.    0.  812.    2.    6.    0.    0.]\n",
      " [ 118.    5.  268.    6.  104.   10.   14.    0.    3.    3.  587.    2.   13.    0.  184.    4.   10.   29.    5.  174. 2055.    1.  310.    4.    0.    0.    0.]\n",
      " [  23.    8.    1.   79.  608.    0.   51.   24.   60.   29.    1.   22.    7.   38.    3.    0.    2. 1968.  202.   10.   67.   30.  451.  224.    1.    0.    0.]\n",
      " [   1.    5.    0.  874.  208.    0.  236.   48.   46.  154.    1.  168.   11.    8.    1.    0.    4.  461.  584.    5.    5.   11.  360.  717.    1.    0.    0.]\n",
      " [  23.   29.   18.    9.   55.    0.   30.    0.    1.    7.   18.    0.   32.    2.   11.    0.   11.    0.    3.  900.  243.    0. 2335.  174.    8.    0.    0.]\n",
      " [  11.    0.    2.    0.    1.    4.    0.    0.    0.   10.   26.    5.   67.    0.   19.    5.   56.    0.    0.   54. 3611.    0.   11.   26.    1.    0.    0.]\n",
      " [   0.   27.    0.   41.    1.    0.  348.   57.    0.   19.    0.    7.    2.    3.    0.    0.    0.    0.    9.    0.    0. 3351.    0.   44.    0.    0.    0.]\n",
      " [  71.  447.   10.   18.   10.   29.   47.    0.   30.    4.   10.    0.   42.    1.    3.    0.   20.    0.   21.   91.  111.    0. 2731.  206.    7.    0.    0.]\n",
      " [   0.   11.    0.  103.    4.    0.  263.  121.    7.  172.    0.    0.   42.    1.    0.    0.    0.   28.   79.    4.    7.   82.   91. 2891.    3.    0.    0.]\n",
      " [ 268.  225.   28.   61.   12.    2.  601.   54.    5.  198.   32.   36.   34.   23.   24.    0.    0.   24.   13.  106.  219.  347. 1022.  211.  364.    0.    0.]\n",
      " [ 875.  168.    4.   24.    2.    2.   63.   23.    4.   98.   73.   14.   46.    1.    4.    0.    5.    0.   29.   40.  106.   12.  188.   21.  118.    0.    0.]\n",
      " [ 102.   61.    2.    2.    0.    0.   12.    0.    0.   11.    5.    0.    2.    0.    0.    0.    0.    0.    1.    6.    8.    4.   57.   17.   56.    0.    0.]]\n"
     ]
    }
   ],
   "source": [
    "matrix = confusion_matrix(model, test_data, \"cuda\", mapping)\n",
    "plt.matshow(matrix)\n",
    "plt.show()\n",
    "np.set_printoptions(precision=3, suppress=True, linewidth=250)\n",
    "print(matrix)"
   ]
  },
  {
   "cell_type": "markdown",
   "id": "6e80f3e7",
   "metadata": {},
   "source": [
    "### 3.3. Transformer"
   ]
  },
  {
   "cell_type": "code",
   "execution_count": 11,
   "id": "acf33d9c",
   "metadata": {},
   "outputs": [
    {
     "name": "stdout",
     "output_type": "stream",
     "text": [
      "Number of parameters: 679_067\n"
     ]
    },
    {
     "name": "stderr",
     "output_type": "stream",
     "text": [
      "  1%|          | 391/68609 [01:45<133:31:49,  7.05s/it]"
     ]
    },
    {
     "name": "stdout",
     "output_type": "stream",
     "text": [
      "N Reads: 50048 Loss: 911.77. F1: [0.4971, 0.17448]. Patience: 20\n"
     ]
    },
    {
     "name": "stderr",
     "output_type": "stream",
     "text": [
      "  1%|          | 782/68609 [03:42<187:16:23,  9.94s/it]"
     ]
    },
    {
     "name": "stdout",
     "output_type": "stream",
     "text": [
      "N Reads: 100096 Loss: 713.89. F1: [0.55589, 0.26355]. Patience: 20\n"
     ]
    },
    {
     "name": "stderr",
     "output_type": "stream",
     "text": [
      "  2%|▏         | 1173/68609 [05:35<148:52:10,  7.95s/it]"
     ]
    },
    {
     "name": "stdout",
     "output_type": "stream",
     "text": [
      "N Reads: 150144 Loss: 646.07. F1: [0.58945, 0.28393]. Patience: 20\n"
     ]
    },
    {
     "name": "stderr",
     "output_type": "stream",
     "text": [
      "  2%|▏         | 1564/68609 [07:31<147:50:52,  7.94s/it]"
     ]
    },
    {
     "name": "stdout",
     "output_type": "stream",
     "text": [
      "N Reads: 200192 Loss: 609.63. F1: [0.59354, 0.31574]. Patience: 20\n"
     ]
    },
    {
     "name": "stderr",
     "output_type": "stream",
     "text": [
      "  3%|▎         | 1955/68609 [09:28<150:28:02,  8.13s/it]"
     ]
    },
    {
     "name": "stdout",
     "output_type": "stream",
     "text": [
      "N Reads: 250240 Loss: 583.18. F1: [0.59814, 0.33352]. Patience: 20\n"
     ]
    },
    {
     "name": "stderr",
     "output_type": "stream",
     "text": [
      "  3%|▎         | 2346/68609 [11:26<146:50:00,  7.98s/it]"
     ]
    },
    {
     "name": "stdout",
     "output_type": "stream",
     "text": [
      "N Reads: 300288 Loss: 558.93. F1: [0.60293, 0.332]. Patience: 19\n"
     ]
    },
    {
     "name": "stderr",
     "output_type": "stream",
     "text": [
      "  4%|▍         | 2737/68609 [13:27<154:43:31,  8.46s/it]"
     ]
    },
    {
     "name": "stdout",
     "output_type": "stream",
     "text": [
      "N Reads: 350336 Loss: 538.76. F1: [0.61918, 0.35396]. Patience: 19\n"
     ]
    },
    {
     "name": "stderr",
     "output_type": "stream",
     "text": [
      "  5%|▍         | 3128/68609 [15:26<148:29:09,  8.16s/it]"
     ]
    },
    {
     "name": "stdout",
     "output_type": "stream",
     "text": [
      "N Reads: 400384 Loss: 524.40. F1: [0.62173, 0.37399]. Patience: 19\n"
     ]
    },
    {
     "name": "stderr",
     "output_type": "stream",
     "text": [
      "  5%|▌         | 3519/68609 [17:25<142:23:27,  7.88s/it]"
     ]
    },
    {
     "name": "stdout",
     "output_type": "stream",
     "text": [
      "N Reads: 450432 Loss: 508.73. F1: [0.62608, 0.36779]. Patience: 18\n"
     ]
    },
    {
     "name": "stderr",
     "output_type": "stream",
     "text": [
      "  6%|▌         | 3910/68609 [19:25<145:07:12,  8.07s/it]"
     ]
    },
    {
     "name": "stdout",
     "output_type": "stream",
     "text": [
      "N Reads: 500480 Loss: 497.27. F1: [0.62774, 0.3496]. Patience: 17\n"
     ]
    },
    {
     "name": "stderr",
     "output_type": "stream",
     "text": [
      "  6%|▋         | 4301/68609 [21:25<145:01:48,  8.12s/it]"
     ]
    },
    {
     "name": "stdout",
     "output_type": "stream",
     "text": [
      "N Reads: 550528 Loss: 486.27. F1: [0.5917, 0.37578]. Patience: 17\n"
     ]
    },
    {
     "name": "stderr",
     "output_type": "stream",
     "text": [
      "  7%|▋         | 4692/68609 [23:25<144:06:42,  8.12s/it]"
     ]
    },
    {
     "name": "stdout",
     "output_type": "stream",
     "text": [
      "N Reads: 600576 Loss: 477.84. F1: [0.64792, 0.39183]. Patience: 17\n"
     ]
    },
    {
     "name": "stderr",
     "output_type": "stream",
     "text": [
      "  7%|▋         | 5083/68609 [25:28<147:15:04,  8.34s/it]"
     ]
    },
    {
     "name": "stdout",
     "output_type": "stream",
     "text": [
      "N Reads: 650624 Loss: 471.44. F1: [0.67596, 0.41339]. Patience: 17\n"
     ]
    },
    {
     "name": "stderr",
     "output_type": "stream",
     "text": [
      "  8%|▊         | 5474/68609 [27:29<139:55:18,  7.98s/it]"
     ]
    },
    {
     "name": "stdout",
     "output_type": "stream",
     "text": [
      "N Reads: 700672 Loss: 462.65. F1: [0.65489, 0.40595]. Patience: 16\n"
     ]
    },
    {
     "name": "stderr",
     "output_type": "stream",
     "text": [
      "  9%|▊         | 5865/68609 [29:32<143:19:04,  8.22s/it]"
     ]
    },
    {
     "name": "stdout",
     "output_type": "stream",
     "text": [
      "N Reads: 750720 Loss: 453.41. F1: [0.67, 0.40212]. Patience: 15\n"
     ]
    },
    {
     "name": "stderr",
     "output_type": "stream",
     "text": [
      "  9%|▉         | 6256/68609 [31:33<137:14:57,  7.92s/it]"
     ]
    },
    {
     "name": "stdout",
     "output_type": "stream",
     "text": [
      "N Reads: 800768 Loss: 451.60. F1: [0.6648, 0.41126]. Patience: 14\n"
     ]
    },
    {
     "name": "stderr",
     "output_type": "stream",
     "text": [
      " 10%|▉         | 6647/68609 [33:33<136:55:44,  7.96s/it]"
     ]
    },
    {
     "name": "stdout",
     "output_type": "stream",
     "text": [
      "N Reads: 850816 Loss: 440.37. F1: [0.67993, 0.42699]. Patience: 14\n"
     ]
    },
    {
     "name": "stderr",
     "output_type": "stream",
     "text": [
      " 10%|█         | 7038/68609 [35:33<133:38:12,  7.81s/it]"
     ]
    },
    {
     "name": "stdout",
     "output_type": "stream",
     "text": [
      "N Reads: 900864 Loss: 435.16. F1: [0.66747, 0.42261]. Patience: 13\n"
     ]
    },
    {
     "name": "stderr",
     "output_type": "stream",
     "text": [
      " 11%|█         | 7429/68609 [37:34<134:38:18,  7.92s/it]"
     ]
    },
    {
     "name": "stdout",
     "output_type": "stream",
     "text": [
      "N Reads: 950912 Loss: 429.51. F1: [0.66735, 0.41671]. Patience: 12\n"
     ]
    },
    {
     "name": "stderr",
     "output_type": "stream",
     "text": [
      " 11%|█▏        | 7820/68609 [39:36<135:30:43,  8.03s/it]"
     ]
    },
    {
     "name": "stdout",
     "output_type": "stream",
     "text": [
      "N Reads: 1000960 Loss: 422.49. F1: [0.66844, 0.42615]. Patience: 11\n"
     ]
    },
    {
     "name": "stderr",
     "output_type": "stream",
     "text": [
      " 12%|█▏        | 8211/68609 [41:37<134:24:39,  8.01s/it]"
     ]
    },
    {
     "name": "stdout",
     "output_type": "stream",
     "text": [
      "N Reads: 1051008 Loss: 421.97. F1: [0.65132, 0.42881]. Patience: 11\n"
     ]
    },
    {
     "name": "stderr",
     "output_type": "stream",
     "text": [
      " 13%|█▎        | 8602/68609 [44:06<127:34:18,  7.65s/it]"
     ]
    },
    {
     "name": "stdout",
     "output_type": "stream",
     "text": [
      "N Reads: 1101056 Loss: 414.97. F1: [0.6672, 0.43109]. Patience: 11\n"
     ]
    },
    {
     "name": "stderr",
     "output_type": "stream",
     "text": [
      " 13%|█▎        | 8993/68609 [46:07<132:59:39,  8.03s/it]"
     ]
    },
    {
     "name": "stdout",
     "output_type": "stream",
     "text": [
      "N Reads: 1151104 Loss: 412.76. F1: [0.67095, 0.42272]. Patience: 10\n"
     ]
    },
    {
     "name": "stderr",
     "output_type": "stream",
     "text": [
      " 14%|█▎        | 9384/68609 [48:10<132:20:37,  8.04s/it]"
     ]
    },
    {
     "name": "stdout",
     "output_type": "stream",
     "text": [
      "N Reads: 1201152 Loss: 407.97. F1: [0.68575, 0.44674]. Patience: 10\n"
     ]
    },
    {
     "name": "stderr",
     "output_type": "stream",
     "text": [
      " 14%|█▍        | 9775/68609 [50:13<131:06:48,  8.02s/it]"
     ]
    },
    {
     "name": "stdout",
     "output_type": "stream",
     "text": [
      "N Reads: 1251200 Loss: 402.85. F1: [0.67516, 0.43399]. Patience: 9\n"
     ]
    },
    {
     "name": "stderr",
     "output_type": "stream",
     "text": [
      " 15%|█▍        | 10166/68609 [52:18<132:48:25,  8.18s/it]"
     ]
    },
    {
     "name": "stdout",
     "output_type": "stream",
     "text": [
      "N Reads: 1301248 Loss: 400.00. F1: [0.65776, 0.43275]. Patience: 8\n"
     ]
    },
    {
     "name": "stderr",
     "output_type": "stream",
     "text": [
      " 15%|█▌        | 10557/68609 [54:22<131:15:02,  8.14s/it]"
     ]
    },
    {
     "name": "stdout",
     "output_type": "stream",
     "text": [
      "N Reads: 1351296 Loss: 395.11. F1: [0.68288, 0.44628]. Patience: 7\n"
     ]
    },
    {
     "name": "stderr",
     "output_type": "stream",
     "text": [
      " 16%|█▌        | 10948/68609 [56:27<128:06:49,  8.00s/it]"
     ]
    },
    {
     "name": "stdout",
     "output_type": "stream",
     "text": [
      "N Reads: 1401344 Loss: 391.79. F1: [0.68724, 0.44161]. Patience: 6\n"
     ]
    },
    {
     "name": "stderr",
     "output_type": "stream",
     "text": [
      " 17%|█▋        | 11339/68609 [58:28<123:29:23,  7.76s/it]"
     ]
    },
    {
     "name": "stdout",
     "output_type": "stream",
     "text": [
      "N Reads: 1451392 Loss: 388.66. F1: [0.68047, 0.44923]. Patience: 6\n"
     ]
    },
    {
     "name": "stderr",
     "output_type": "stream",
     "text": [
      " 17%|█▋        | 11730/68609 [1:00:28<121:23:26,  7.68s/it]"
     ]
    },
    {
     "name": "stdout",
     "output_type": "stream",
     "text": [
      "N Reads: 1501440 Loss: 385.04. F1: [0.68823, 0.45717]. Patience: 6\n"
     ]
    },
    {
     "name": "stderr",
     "output_type": "stream",
     "text": [
      " 18%|█▊        | 12121/68609 [1:02:28<121:56:56,  7.77s/it]"
     ]
    },
    {
     "name": "stdout",
     "output_type": "stream",
     "text": [
      "N Reads: 1551488 Loss: 379.60. F1: [0.68229, 0.44999]. Patience: 5\n"
     ]
    },
    {
     "name": "stderr",
     "output_type": "stream",
     "text": [
      " 18%|█▊        | 12512/68609 [1:04:30<123:52:47,  7.95s/it]"
     ]
    },
    {
     "name": "stdout",
     "output_type": "stream",
     "text": [
      "N Reads: 1601536 Loss: 379.15. F1: [0.68056, 0.45731]. Patience: 5\n"
     ]
    },
    {
     "name": "stderr",
     "output_type": "stream",
     "text": [
      " 19%|█▉        | 12903/68609 [1:06:31<121:02:47,  7.82s/it]"
     ]
    },
    {
     "name": "stdout",
     "output_type": "stream",
     "text": [
      "N Reads: 1651584 Loss: 375.35. F1: [0.67188, 0.43718]. Patience: 4\n"
     ]
    },
    {
     "name": "stderr",
     "output_type": "stream",
     "text": [
      " 19%|█▉        | 13294/68609 [1:08:31<118:08:41,  7.69s/it]"
     ]
    },
    {
     "name": "stdout",
     "output_type": "stream",
     "text": [
      "N Reads: 1701632 Loss: 378.56. F1: [0.67975, 0.45168]. Patience: 3\n"
     ]
    },
    {
     "name": "stderr",
     "output_type": "stream",
     "text": [
      " 20%|█▉        | 13685/68609 [1:10:32<118:31:09,  7.77s/it]"
     ]
    },
    {
     "name": "stdout",
     "output_type": "stream",
     "text": [
      "N Reads: 1751680 Loss: 377.47. F1: [0.70451, 0.4554]. Patience: 2\n"
     ]
    },
    {
     "name": "stderr",
     "output_type": "stream",
     "text": [
      " 21%|██        | 14076/68609 [1:12:33<115:36:26,  7.63s/it]"
     ]
    },
    {
     "name": "stdout",
     "output_type": "stream",
     "text": [
      "N Reads: 1801728 Loss: 368.50. F1: [0.68398, 0.43696]. Patience: 1\n"
     ]
    },
    {
     "name": "stderr",
     "output_type": "stream",
     "text": [
      " 21%|██        | 14466/68609 [1:14:35<4:39:09,  3.23it/s]  "
     ]
    },
    {
     "name": "stdout",
     "output_type": "stream",
     "text": [
      "N Reads: 1851776 Loss: 368.06. F1: [0.69193, 0.44601]. Patience: 0\n",
      "The model is overfitting; stopping early.\n",
      "Processed 1_851_776 reads.\n",
      "Training took 4475.196 s.\n"
     ]
    },
    {
     "name": "stderr",
     "output_type": "stream",
     "text": [
      "\n"
     ]
    },
    {
     "data": {
      "image/png": "[encoded data removed]",
      "text/plain": [
       "<Figure size 1200x400 with 2 Axes>"
      ]
     },
     "metadata": {},
     "output_type": "display_data"
    },
    {
     "name": "stdout",
     "output_type": "stream",
     "text": [
      "Test results: [0.69433, 0.43965]\n"
     ]
    },
    {
     "data": {
      "image/png": "[encoded data removed]",
      "text/plain": [
       "<Figure size 480x480 with 1 Axes>"
      ]
     },
     "metadata": {},
     "output_type": "display_data"
    },
    {
     "name": "stdout",
     "output_type": "stream",
     "text": [
      "[[2859.    1.  182.    0.    0.    2.    0.    1.    0.    0.  147.   36.  135.    1.   86.   45.   14.    0.    0.   81.   81.    8.   50.    6.  123.   60.    0.]\n",
      " [ 496. 1331.  184.    4.   26.   19.   66.    9.  776.   84.  144.   15.   37.   68.   19.   20.   45.   11.   22.   41.   32.   47.  117.   31.  235.   29.    1.]\n",
      " [ 268.  163. 1535.    0.   18.   33.    3.    0.  384.    0.  167.    9.   11.    1.  365.    1.   92.   11.    0.   54.  190.    0.   58.    4.  259.  269.   14.]\n",
      " [  15.   16.    1. 1798.   29.    0.   52.  161.   47.  212.    2.  114.   49.   73.    0.    1.   13.  157.  322.   11.    5.  277.  118.  161.  269.    5.    1.]\n",
      " [   9.   27.   12.  273.  861.    0.   57.   57.  703.  114.   10.  148.   79.   80.    0.   17.   56.  449.  456.   34.    8.  130.  143.   96.   86.    4.    0.]\n",
      " [  93.    0.   19.    0.   32. 1122.    8.    0.    5.    0.  317.    0.    3.    0.   84.   86.   17.    0.    0.  386. 1644.    0.   13.    2.   76.    2.    0.]\n",
      " [   1.  119.    0.  101.   11.    0. 2057.    0.    6.   52.   32.    2.  194.    7.    0.    5.    4.   10.  468.   13.    4.   50.  144.  470.  149.   10.    0.]\n",
      " [   1.   17.    5.   15.    0.    2.   33. 2959.    2.   30.    0.   46.    0.   11.    0.    0.    0.    6.   12.    0.    0.  489.    0.  252.   29.    0.    0.]\n",
      " [  15.    3.    0.   10.    4.    0.    2.    7. 3554.    3.    6.    0.    4.    9.    0.    2.   62.    6.   14.   13.   15.    3.  118.   24.   35.    0.    0.]\n",
      " [ 245.    4.    2.   65.   33.    0.    4.  111.  222. 1223.    7.  796.  464.   39.    0.   16.    6.   30.   43.   89.    6.  110.   28.  280.   62.   24.    0.]\n",
      " [  15.   25.  111.    1.   11.   74.    1.    0.  307.    2. 1920.    1.   66.  123.  104.  225.  178.    1.   10.  350.   19.    1.  316.    2.   45.    1.    0.]\n",
      " [   3.   37.    2.   34.    0.    0.  436. 1279.   13.   17.    0.  869.    1.   59.    0.    0.    0.   46.   95.   15.    0.  621.    8.  129.  243.    2.    0.]\n",
      " [  32.    1.    5.    3.    8.    1.    1.    0.   14.   11.    8.  244. 3278.    3.    2.   43.    6.    0.   18.   55.    7.    6.   69.   31.   40.   23.    0.]\n",
      " [  76.   25.  448.    1.    3.    3.    6.  189.    1.    1.  128.   38.  114.  191.   93.   64.  226.    0.    1. 1578.   16.  233.  322.    9.  141.    2.    0.]\n",
      " [  25.    0.  253.    0.    0.   39.    0.    0.    0.    0.  195.    0.    4.    0. 3273.    1.   12.    0.    0.   11.   76.    0.    7.    2.   10.    1.    0.]\n",
      " [ 298.    3.    7.    0.    4.   78.    4.    0.  355.    0.   62.    0.  243.    1.   31. 2428.   14.    0.    1.   85.   36.    0.  161.    2.   82.   13.    1.]\n",
      " [ 210.    0.  676.    2.   44.   84.    1.    0.   57.    8.  389.    3.   97.    4. 1260.   40.  264.    8.   10.   72.  282.    0.  224.   34.  138.    2.    0.]\n",
      " [  29.    1.   14.  178.  239.    3.   28.   81.  312.   21.    5.   57.   36.   37.   18.   13.   26. 2122.  146.   23.   11.   14.  168.  220.   99.    8.    0.]\n",
      " [   2.    1.    0.  232.  185.    0.   37.   45.   65.   99.    0.  154.   95.   72.    0.   17.    5.  394. 1538.   17.    3.   37.  291.  556.   54.   10.    0.]\n",
      " [  39.   46.   67.   10.   24.    5.   18.    0.   71.   34.  163.    6.  169.  160.   64.   44.   89.   15.    4. 1618.  124.    5.  809.   36.  283.    6.    0.]\n",
      " [  28.    0.   44.    0.    4.    5.    2.    0.    4.    2.   33.    3.  152.    2.   89.  350.   63.    0.    0.   41. 3017.    0.   18.   22.   17.   13.    0.]\n",
      " [   1.    9.    7.   43.    1.    0.  117.  197.    7.   30.    0.   50.    3.   15.    0.    0.    0.    4.   41.    2.    0. 3089.    0.   57.  234.    2.    0.]\n",
      " [  61.  135.   47.   15.   16.   40.   12.    1.  319.    6.   54.    0.  153.   27.   62.  141.   96.    3.   36.  150.  180.    0. 2002.  125.  198.   29.    1.]\n",
      " [   2.    5.    0.   43.    7.    0.   49.  213.   33.   65.    1.   11.  117.    7.    0.    3.    2.   42.  121.   20.   18.  119.   59. 2794.  176.    2.    0.]\n",
      " [ 123.   24.  142.   31.    3.    5.   81.   33.   43.   25.   68.   60.   83.   11.  103.   13.   11.   24.   69.  122.   38.  177.  265.  105. 2117.  133.    0.]\n",
      " [  86.   29.   56.    5.    1.    1.    2.    6.   21.    3.   51.   10.   85.    2.    9.   13.   13.    2.   27.   12.   21.   22.   55.    8.  273. 1105.    2.]\n",
      " [  46.    6.    7.    0.    2.    0.    1.    0.   13.    5.    3.    0.   21.    2.    0.    1.    0.    1.    2.    3.    3.    5.   29.   11.   85.   87.   13.]]\n"
     ]
    }
   ],
   "source": [
    "from torch import  arange\n",
    "from torch.nn import (Module, Linear, Embedding, TransformerEncoderLayer,\n",
    "                      TransformerEncoder)\n",
    "\n",
    "\n",
    "class T_1_tokens(Module):\n",
    "    def __init__(self, N, M):\n",
    "        super(T_1_tokens, self).__init__()\n",
    "        embed_dim = 128\n",
    "        self.token_embedding = Embedding(256, embed_dim)\n",
    "        self.position_embedding = Embedding(N, embed_dim)\n",
    "        encoder_layer = TransformerEncoderLayer(\n",
    "            d_model=embed_dim,\n",
    "            nhead=8,\n",
    "            dim_feedforward=embed_dim * 4,\n",
    "            dropout=0.1,\n",
    "            activation='relu',\n",
    "            batch_first=True  # makes input/output shape [B, L, D]\n",
    "        )\n",
    "        self.transformer_encoder = TransformerEncoder(encoder_layer, num_layers=3)\n",
    "        self.classifier = Linear(embed_dim, M)\n",
    "\n",
    "    def forward(self, x):\n",
    "        batch_size, seq_len = x.size()\n",
    "        positions = arange(seq_len, device=x.device).unsqueeze(0).expand(batch_size, seq_len)\n",
    "        x = self.token_embedding(x) + self.position_embedding(positions)  # [B, L, D]\n",
    "        x = self.transformer_encoder(x)  # [B, L, D]\n",
    "        x = x.mean(dim=1)  # [B, D] - average pooling\n",
    "        logits = self.classifier(x)  # [B, num_classes]\n",
    "        return logits\n",
    "\n",
    "\n",
    "model = benchmark(\n",
    "    transformer.Classifier(LENGTH // 4, mapping, \"cuda\", T_1_tokens, use_tokens=True),\n",
    "    \"Transformer\",\n",
    "    n_max_reads=8_000_000,\n",
    "    patience=20,\n",
    ")\n",
    "matrix = confusion_matrix(model, test_data, \"cuda\", mapping)\n",
    "plt.matshow(matrix)\n",
    "plt.show()\n",
    "np.set_printoptions(precision=3, suppress=True, linewidth=250)\n",
    "print(matrix)"
   ]
  },
  {
   "cell_type": "code",
   "execution_count": 8,
   "id": "500ed17d",
   "metadata": {},
   "outputs": [
    {
     "name": "stdout",
     "output_type": "stream",
     "text": [
      "Number of parameters: 480_795\n"
     ]
    },
    {
     "name": "stderr",
     "output_type": "stream",
     "text": [
      "  1%|          | 392/68609 [01:12<65:57:18,  3.48s/it]"
     ]
    },
    {
     "name": "stdout",
     "output_type": "stream",
     "text": [
      "N Reads: 50048 Loss: 895.81. F1: [0.46784, 0.1771]. Patience: 20\n"
     ]
    },
    {
     "name": "stderr",
     "output_type": "stream",
     "text": [
      "  1%|          | 783/68609 [02:25<70:57:30,  3.77s/it] "
     ]
    },
    {
     "name": "stdout",
     "output_type": "stream",
     "text": [
      "N Reads: 100096 Loss: 690.63. F1: [0.57019, 0.29199]. Patience: 20\n"
     ]
    },
    {
     "name": "stderr",
     "output_type": "stream",
     "text": [
      "  2%|▏         | 1174/68609 [03:39<70:56:33,  3.79s/it] "
     ]
    },
    {
     "name": "stdout",
     "output_type": "stream",
     "text": [
      "N Reads: 150144 Loss: 629.58. F1: [0.59446, 0.3008]. Patience: 20\n"
     ]
    },
    {
     "name": "stderr",
     "output_type": "stream",
     "text": [
      "  2%|▏         | 1565/68609 [04:53<70:54:31,  3.81s/it] "
     ]
    },
    {
     "name": "stdout",
     "output_type": "stream",
     "text": [
      "N Reads: 200192 Loss: 587.66. F1: [0.60096, 0.32612]. Patience: 20\n"
     ]
    },
    {
     "name": "stderr",
     "output_type": "stream",
     "text": [
      "  3%|▎         | 1956/68609 [06:08<69:32:19,  3.76s/it]"
     ]
    },
    {
     "name": "stdout",
     "output_type": "stream",
     "text": [
      "N Reads: 250240 Loss: 561.38. F1: [0.61885, 0.36086]. Patience: 20\n"
     ]
    },
    {
     "name": "stderr",
     "output_type": "stream",
     "text": [
      "  3%|▎         | 2347/68609 [07:24<67:56:42,  3.69s/it]"
     ]
    },
    {
     "name": "stdout",
     "output_type": "stream",
     "text": [
      "N Reads: 300288 Loss: 533.71. F1: [0.63972, 0.36957]. Patience: 20\n"
     ]
    },
    {
     "name": "stderr",
     "output_type": "stream",
     "text": [
      "  4%|▍         | 2738/68609 [08:40<67:45:58,  3.70s/it]"
     ]
    },
    {
     "name": "stdout",
     "output_type": "stream",
     "text": [
      "N Reads: 350336 Loss: 515.96. F1: [0.62479, 0.38126]. Patience: 20\n"
     ]
    },
    {
     "name": "stderr",
     "output_type": "stream",
     "text": [
      "  5%|▍         | 3129/68609 [09:56<67:36:09,  3.72s/it]"
     ]
    },
    {
     "name": "stdout",
     "output_type": "stream",
     "text": [
      "N Reads: 400384 Loss: 499.09. F1: [0.64054, 0.39052]. Patience: 20\n"
     ]
    },
    {
     "name": "stderr",
     "output_type": "stream",
     "text": [
      "  5%|▌         | 3520/68609 [11:12<67:09:27,  3.71s/it]"
     ]
    },
    {
     "name": "stdout",
     "output_type": "stream",
     "text": [
      "N Reads: 450432 Loss: 485.84. F1: [0.66148, 0.39634]. Patience: 20\n"
     ]
    },
    {
     "name": "stderr",
     "output_type": "stream",
     "text": [
      "  6%|▌         | 3911/68609 [12:28<66:16:57,  3.69s/it]"
     ]
    },
    {
     "name": "stdout",
     "output_type": "stream",
     "text": [
      "N Reads: 500480 Loss: 473.83. F1: [0.66595, 0.39364]. Patience: 19\n"
     ]
    },
    {
     "name": "stderr",
     "output_type": "stream",
     "text": [
      "  6%|▋         | 4302/68609 [13:46<67:10:30,  3.76s/it]"
     ]
    },
    {
     "name": "stdout",
     "output_type": "stream",
     "text": [
      "N Reads: 550528 Loss: 463.12. F1: [0.62791, 0.40598]. Patience: 19\n"
     ]
    },
    {
     "name": "stderr",
     "output_type": "stream",
     "text": [
      "  7%|▋         | 4693/68609 [15:03<65:59:30,  3.72s/it]"
     ]
    },
    {
     "name": "stdout",
     "output_type": "stream",
     "text": [
      "N Reads: 600576 Loss: 453.21. F1: [0.66566, 0.416]. Patience: 19\n"
     ]
    },
    {
     "name": "stderr",
     "output_type": "stream",
     "text": [
      "  7%|▋         | 5084/68609 [16:20<65:10:18,  3.69s/it]"
     ]
    },
    {
     "name": "stdout",
     "output_type": "stream",
     "text": [
      "N Reads: 650624 Loss: 447.43. F1: [0.6564, 0.41712]. Patience: 19\n"
     ]
    },
    {
     "name": "stderr",
     "output_type": "stream",
     "text": [
      "  8%|▊         | 5475/68609 [17:37<65:47:58,  3.75s/it]"
     ]
    },
    {
     "name": "stdout",
     "output_type": "stream",
     "text": [
      "N Reads: 700672 Loss: 438.90. F1: [0.67232, 0.40982]. Patience: 18\n"
     ]
    },
    {
     "name": "stderr",
     "output_type": "stream",
     "text": [
      "  9%|▊         | 5866/68609 [18:55<64:11:42,  3.68s/it]"
     ]
    },
    {
     "name": "stdout",
     "output_type": "stream",
     "text": [
      "N Reads: 750720 Loss: 429.07. F1: [0.69189, 0.42246]. Patience: 18\n"
     ]
    },
    {
     "name": "stderr",
     "output_type": "stream",
     "text": [
      "  9%|▉         | 6257/68609 [20:12<64:05:49,  3.70s/it]"
     ]
    },
    {
     "name": "stdout",
     "output_type": "stream",
     "text": [
      "N Reads: 800768 Loss: 425.75. F1: [0.67859, 0.43344]. Patience: 18\n"
     ]
    },
    {
     "name": "stderr",
     "output_type": "stream",
     "text": [
      " 10%|▉         | 6648/68609 [21:29<62:31:11,  3.63s/it]"
     ]
    },
    {
     "name": "stdout",
     "output_type": "stream",
     "text": [
      "N Reads: 850816 Loss: 416.52. F1: [0.67841, 0.44525]. Patience: 18\n"
     ]
    },
    {
     "name": "stderr",
     "output_type": "stream",
     "text": [
      " 10%|█         | 7039/68609 [22:46<62:26:58,  3.65s/it]"
     ]
    },
    {
     "name": "stdout",
     "output_type": "stream",
     "text": [
      "N Reads: 900864 Loss: 409.97. F1: [0.69049, 0.44184]. Patience: 17\n"
     ]
    },
    {
     "name": "stderr",
     "output_type": "stream",
     "text": [
      " 11%|█         | 7430/68609 [24:03<61:21:29,  3.61s/it]"
     ]
    },
    {
     "name": "stdout",
     "output_type": "stream",
     "text": [
      "N Reads: 950912 Loss: 406.28. F1: [0.66943, 0.42561]. Patience: 16\n"
     ]
    },
    {
     "name": "stderr",
     "output_type": "stream",
     "text": [
      " 11%|█▏        | 7821/68609 [25:20<61:01:36,  3.61s/it]"
     ]
    },
    {
     "name": "stdout",
     "output_type": "stream",
     "text": [
      "N Reads: 1000960 Loss: 400.27. F1: [0.68578, 0.44743]. Patience: 16\n"
     ]
    },
    {
     "name": "stderr",
     "output_type": "stream",
     "text": [
      " 12%|█▏        | 8212/68609 [26:36<60:35:41,  3.61s/it]"
     ]
    },
    {
     "name": "stdout",
     "output_type": "stream",
     "text": [
      "N Reads: 1051008 Loss: 400.44. F1: [0.66068, 0.43885]. Patience: 15\n"
     ]
    },
    {
     "name": "stderr",
     "output_type": "stream",
     "text": [
      " 13%|█▎        | 8603/68609 [27:54<59:59:50,  3.60s/it]"
     ]
    },
    {
     "name": "stdout",
     "output_type": "stream",
     "text": [
      "N Reads: 1101056 Loss: 393.40. F1: [0.67331, 0.44367]. Patience: 14\n"
     ]
    },
    {
     "name": "stderr",
     "output_type": "stream",
     "text": [
      " 13%|█▎        | 8994/68609 [29:11<59:37:33,  3.60s/it]"
     ]
    },
    {
     "name": "stdout",
     "output_type": "stream",
     "text": [
      "N Reads: 1151104 Loss: 391.51. F1: [0.6776, 0.44116]. Patience: 13\n"
     ]
    },
    {
     "name": "stderr",
     "output_type": "stream",
     "text": [
      " 14%|█▎        | 9385/68609 [30:28<59:00:19,  3.59s/it]"
     ]
    },
    {
     "name": "stdout",
     "output_type": "stream",
     "text": [
      "N Reads: 1201152 Loss: 388.32. F1: [0.70119, 0.46333]. Patience: 13\n"
     ]
    },
    {
     "name": "stderr",
     "output_type": "stream",
     "text": [
      " 14%|█▍        | 9776/68609 [31:46<60:26:36,  3.70s/it]"
     ]
    },
    {
     "name": "stdout",
     "output_type": "stream",
     "text": [
      "N Reads: 1251200 Loss: 384.09. F1: [0.66555, 0.4484]. Patience: 12\n"
     ]
    },
    {
     "name": "stderr",
     "output_type": "stream",
     "text": [
      " 15%|█▍        | 10167/68609 [33:04<58:52:54,  3.63s/it]"
     ]
    },
    {
     "name": "stdout",
     "output_type": "stream",
     "text": [
      "N Reads: 1301248 Loss: 380.60. F1: [0.66798, 0.45391]. Patience: 11\n"
     ]
    },
    {
     "name": "stderr",
     "output_type": "stream",
     "text": [
      " 15%|█▌        | 10558/68609 [34:22<58:42:37,  3.64s/it]"
     ]
    },
    {
     "name": "stdout",
     "output_type": "stream",
     "text": [
      "N Reads: 1351296 Loss: 377.24. F1: [0.6869, 0.45463]. Patience: 10\n"
     ]
    },
    {
     "name": "stderr",
     "output_type": "stream",
     "text": [
      " 16%|█▌        | 10949/68609 [35:40<56:34:51,  3.53s/it]"
     ]
    },
    {
     "name": "stdout",
     "output_type": "stream",
     "text": [
      "N Reads: 1401344 Loss: 373.13. F1: [0.68748, 0.4581]. Patience: 9\n"
     ]
    },
    {
     "name": "stderr",
     "output_type": "stream",
     "text": [
      " 17%|█▋        | 11340/68609 [36:59<59:24:45,  3.73s/it]"
     ]
    },
    {
     "name": "stdout",
     "output_type": "stream",
     "text": [
      "N Reads: 1451392 Loss: 372.45. F1: [0.6872, 0.45328]. Patience: 8\n"
     ]
    },
    {
     "name": "stderr",
     "output_type": "stream",
     "text": [
      " 17%|█▋        | 11731/68609 [38:20<57:59:41,  3.67s/it]"
     ]
    },
    {
     "name": "stdout",
     "output_type": "stream",
     "text": [
      "N Reads: 1501440 Loss: 370.11. F1: [0.68564, 0.46823]. Patience: 8\n"
     ]
    },
    {
     "name": "stderr",
     "output_type": "stream",
     "text": [
      " 18%|█▊        | 12122/68609 [39:39<57:24:59,  3.66s/it]"
     ]
    },
    {
     "name": "stdout",
     "output_type": "stream",
     "text": [
      "N Reads: 1551488 Loss: 363.59. F1: [0.68819, 0.4616]. Patience: 7\n"
     ]
    },
    {
     "name": "stderr",
     "output_type": "stream",
     "text": [
      " 18%|█▊        | 12513/68609 [40:57<54:51:14,  3.52s/it]"
     ]
    },
    {
     "name": "stdout",
     "output_type": "stream",
     "text": [
      "N Reads: 1601536 Loss: 362.51. F1: [0.69532, 0.46556]. Patience: 6\n"
     ]
    },
    {
     "name": "stderr",
     "output_type": "stream",
     "text": [
      " 19%|█▉        | 12904/68609 [42:15<54:34:56,  3.53s/it]"
     ]
    },
    {
     "name": "stdout",
     "output_type": "stream",
     "text": [
      "N Reads: 1651584 Loss: 360.88. F1: [0.67659, 0.44712]. Patience: 5\n"
     ]
    },
    {
     "name": "stderr",
     "output_type": "stream",
     "text": [
      " 19%|█▉        | 13295/68609 [43:33<54:03:21,  3.52s/it]"
     ]
    },
    {
     "name": "stdout",
     "output_type": "stream",
     "text": [
      "N Reads: 1701632 Loss: 362.45. F1: [0.69595, 0.45446]. Patience: 4\n"
     ]
    },
    {
     "name": "stderr",
     "output_type": "stream",
     "text": [
      " 20%|█▉        | 13686/68609 [44:52<55:54:39,  3.66s/it]"
     ]
    },
    {
     "name": "stdout",
     "output_type": "stream",
     "text": [
      "N Reads: 1751680 Loss: 358.41. F1: [0.69712, 0.47419]. Patience: 4\n"
     ]
    },
    {
     "name": "stderr",
     "output_type": "stream",
     "text": [
      " 21%|██        | 14077/68609 [46:12<54:41:44,  3.61s/it]"
     ]
    },
    {
     "name": "stdout",
     "output_type": "stream",
     "text": [
      "N Reads: 1801728 Loss: 353.14. F1: [0.69421, 0.46204]. Patience: 3\n"
     ]
    },
    {
     "name": "stderr",
     "output_type": "stream",
     "text": [
      " 21%|██        | 14468/68609 [47:30<53:21:36,  3.55s/it]"
     ]
    },
    {
     "name": "stdout",
     "output_type": "stream",
     "text": [
      "N Reads: 1851776 Loss: 352.85. F1: [0.70327, 0.46728]. Patience: 2\n"
     ]
    },
    {
     "name": "stderr",
     "output_type": "stream",
     "text": [
      " 22%|██▏       | 14859/68609 [48:49<53:38:12,  3.59s/it]"
     ]
    },
    {
     "name": "stdout",
     "output_type": "stream",
     "text": [
      "N Reads: 1901824 Loss: 349.68. F1: [0.67306, 0.45246]. Patience: 1\n"
     ]
    },
    {
     "name": "stderr",
     "output_type": "stream",
     "text": [
      " 22%|██▏       | 15248/68609 [50:08<2:55:28,  5.07it/s] "
     ]
    },
    {
     "name": "stdout",
     "output_type": "stream",
     "text": [
      "N Reads: 1951872 Loss: 346.52. F1: [0.68995, 0.46088]. Patience: 0\n",
      "The model is overfitting; stopping early.\n",
      "Processed 1_951_872 reads.\n"
     ]
    },
    {
     "name": "stderr",
     "output_type": "stream",
     "text": [
      "\n"
     ]
    },
    {
     "name": "stdout",
     "output_type": "stream",
     "text": [
      "Training took 3008.956 s.\n"
     ]
    },
    {
     "data": {
      "image/png": "[encoded data removed]",
      "text/plain": [
       "<Figure size 1200x400 with 2 Axes>"
      ]
     },
     "metadata": {},
     "output_type": "display_data"
    },
    {
     "name": "stdout",
     "output_type": "stream",
     "text": [
      "Test results: [0.70656, 0.47211]\n"
     ]
    },
    {
     "data": {
      "image/png": "[encoded data removed]",
      "text/plain": [
       "<Figure size 480x480 with 1 Axes>"
      ]
     },
     "metadata": {},
     "output_type": "display_data"
    },
    {
     "name": "stdout",
     "output_type": "stream",
     "text": [
      "[[2851.   13.  296.    0.    0.    5.    2.    0.    5.    8.  132.   44.   95.    5.   20.   29.   13.    0.    0.  129.   15.    8.   28.    1.  165.   53.    1.]\n",
      " [ 215. 1445.  178.    1.   18.   15.  140.    6.  904.   85.  199.   11.   14.  107.    6.    7.   57.   26.   10.   99.   10.   21.  106.   23.  181.   24.    1.]\n",
      " [ 157.  256. 1679.    0.   50.   86.    0.    0.  110.    2.  257.    9.    2.    2.  268.    0.  259.   17.    0.   44.   92.    0.   53.    2.  275.  246.   43.]\n",
      " [  14.   13.    0. 2044.   64.    0.  184.   43.   48.  466.    9.   77.   33.   78.    0.    1.    5.  132.  288.   25.    6.   70.   90.  112.   99.    8.    0.]\n",
      " [   6.   23.    3.   87. 1273.    0.   76.   20.  849.  200.   18.   81.   44.  114.    0.    3.   60.  350.  381.   49.   14.   63.   82.   57.   50.    5.    1.]\n",
      " [   8.    0.   21.    0.    6. 1318.    4.    0.    2.    0.  341.    1.    5.    0.   36.   16.    3.    0.    0.  664. 1429.    0.   14.    0.   39.    2.    0.]\n",
      " [   0.   33.    0.   46.   28.    0. 3119.    1.    7.  111.   44.    1.   81.   16.    0.    0.    6.   10.  129.   11.    3.    4.   33.  191.   26.    9.    0.]\n",
      " [   0.   19.    2.   38.    0.    2.  130. 2234.   23.   89.    0.   69.    0.   24.    0.    0.    0.    7.   49.    0.    1.  801.    8.  385.   28.    0.    0.]\n",
      " [  13.    4.    0.    6.    4.    1.    8.    9. 3612.   12.    7.    0.    2.   22.    0.    0.   22.   22.   12.   31.    4.    0.   77.   19.   22.    0.    0.]\n",
      " [  70.    2.    0.   31.   50.    1.   13.    9.   83. 2233.   11.  458.  301.   25.    0.    5.    4.   12.   32.   65.    2.   68.   32.  351.   41.   10.    0.]\n",
      " [   4.   26.  220.    1.   14.  104.    7.    0.  166.    3. 2480.    4.   27.  178.   34.   42.   56.   13.    1.  308.    7.    0.  195.    0.   18.    1.    0.]\n",
      " [   1.   80.    1.   67.    2.    1.  298.  945.   99.   82.    0. 1436.    0.   40.    0.    0.    1.   39.   76.    8.    0.  522.    5.   64.  140.    2.    0.]\n",
      " [   9.    3.   13.    7.   25.    2.   19.    0.   18.   59.   22.  281. 3032.   28.    3.   22.    2.    0.   17.  114.    1.    2.   98.   82.   34.   16.    0.]\n",
      " [  19.   75.  619.    6.   19.   13.   42.  128.   15.   38.  224.   19.   58.  671.   19.   11.  175.   21.    7. 1261.    2.  197.  145.   14.  109.    2.    0.]\n",
      " [  13.    0.  275.    0.    0.   62.    0.    0.    1.    0.  509.    0.    2.    0. 2831.    0.    0.    0.    0.   24.  180.    0.    4.    0.    7.    1.    0.]\n",
      " [  57.    8.   17.    0.    1.  168.    4.    0.  363.    9.  190.    0.  218.    4.   15. 2334.   14.    2.    1.  200.    8.    0.  199.    1.   83.    9.    4.]\n",
      " [  67.    0.  747.    1.   51.   98.   11.    0.   46.   16.  554.    7.   65.   12. 1007.   33.   57.   19.    7.  233.  208.    0.  596.   15.   55.    4.    0.]\n",
      " [  15.    3.   18.   51.  388.   10.   81.   13.  330.   63.   13.   53.   21.   65.   19.    7.   13. 2233.  149.   32.    6.   14.  106.  127.   70.    9.    0.]\n",
      " [   1.    4.    0.  252.  294.    0.  149.   10.  124.  377.    6.  146.   55.  142.    0.    8.   13.  232. 1397.   25.    3.   18.  211.  420.   17.    5.    0.]\n",
      " [  15.   70.  131.    5.   44.   18.   40.    0.   54.   36.  249.    6.   71.  302.   26.   11.   39.   65.    4. 1906.   55.    1.  562.   25.  168.    6.    0.]\n",
      " [  14.    1.   92.    3.    6.   17.    4.    0.   24.   41.   62.    2.  353.   30.   61.  393.   26.   10.    3.  257. 2366.    0.   22.   46.   28.   48.    0.]\n",
      " [   0.   11.    2.   69.    6.    0.  229.   25.   21.   70.    0.   96.    4.   16.    0.    0.    0.    5.   44.    3.    0. 3134.    2.   58.  108.    6.    0.]\n",
      " [  18.  290.   61.    8.   17.   70.   36.    1.  368.   45.   96.    1.   65.  159.   39.   38.   68.   11.   24.  285.   44.    0. 1891.   55.  200.   16.    3.]\n",
      " [   3.    8.    0.   74.   20.    0.  222.  123.  133.  188.    7.    9.   64.   25.    0.    0.    2.   62.  247.   40.    4.   82.   41. 2449.   96.   10.    0.]\n",
      " [  40.   41.  201.   56.    9.    8.  138.   11.   39.   73.  148.   90.   58.   21.   69.    5.   13.   31.   58.  172.   18.  185.  292.  102. 1929.  101.    1.]\n",
      " [  19.   61.   55.   12.    2.    3.   11.    0.   29.   14.   89.   15.   50.    2.   13.   13.   18.    2.   17.   27.    4.    3.   66.    9.  223. 1148.   15.]\n",
      " [   3.   22.   18.    0.    1.    3.    4.    0.    7.   13.    4.    1.   12.    0.    1.    0.    0.    1.    5.    8.    0.    0.   28.   10.  100.   75.   30.]]\n"
     ]
    }
   ],
   "source": [
    "from torch import arange\n",
    "from torch.nn import (Module, Linear, Embedding, TransformerEncoderLayer,\n",
    "                      TransformerEncoder)\n",
    "\n",
    "\n",
    "class T_2_tokens(Module):\n",
    "    def __init__(self, N, M):\n",
    "        super(T_2_tokens, self).__init__()\n",
    "        embed_dim = 128\n",
    "        self.token_embedding = Embedding(256, embed_dim)\n",
    "        self.position_embedding = Embedding(N, embed_dim)\n",
    "        encoder_layer = TransformerEncoderLayer(\n",
    "            d_model=embed_dim,\n",
    "            nhead=8,\n",
    "            dim_feedforward=embed_dim * 4,\n",
    "            dropout=0.1,\n",
    "            activation='relu',\n",
    "            batch_first=True  # makes input/output shape [B, L, D]\n",
    "        )\n",
    "        self.transformer_encoder = TransformerEncoder(encoder_layer, num_layers=2)\n",
    "        self.classifier = Linear(embed_dim, M)\n",
    "\n",
    "    def forward(self, x):\n",
    "        batch_size, seq_len = x.size()\n",
    "        positions = arange(seq_len, device=x.device).unsqueeze(0).expand(batch_size, seq_len)\n",
    "        x = self.token_embedding(x) + self.position_embedding(positions)  # [B, L, D]\n",
    "        x = self.transformer_encoder(x)  # [B, L, D]\n",
    "        x = x.mean(dim=1)  # [B, D] - average pooling\n",
    "        logits = self.classifier(x)  # [B, num_classes]\n",
    "        return logits\n",
    "\n",
    "\n",
    "model = benchmark(\n",
    "    transformer.Classifier(LENGTH // 4, mapping, \"cuda\", T_2_tokens, use_tokens=True),\n",
    "    \"Transformer\",\n",
    "    n_max_reads=8_000_000,\n",
    "    patience=20,\n",
    ")\n",
    "matrix = confusion_matrix(model, test_data, \"cuda\", mapping)\n",
    "plt.matshow(matrix)\n",
    "plt.show()\n",
    "np.set_printoptions(precision=3, suppress=True, linewidth=250)\n",
    "print(matrix)"
   ]
  },
  {
   "cell_type": "markdown",
   "id": "be153743",
   "metadata": {},
   "source": [
    "### 3.4. Autoencoders"
   ]
  },
  {
   "cell_type": "code",
   "execution_count": 3,
   "id": "f854a9fc",
   "metadata": {},
   "outputs": [
    {
     "name": "stdout",
     "output_type": "stream",
     "text": [
      "Number of parameters: 73_427_257\n"
     ]
    },
    {
     "name": "stderr",
     "output_type": "stream",
     "text": [
      "  1%|          | 395/68609 [00:27<7:44:38,  2.45it/s] "
     ]
    },
    {
     "name": "stdout",
     "output_type": "stream",
     "text": [
      "N Reads: 50048 Loss: 314.75. F1: [0.35615, 0.070641]. Patience: 30\n"
     ]
    },
    {
     "name": "stderr",
     "output_type": "stream",
     "text": [
      "  1%|          | 787/68609 [00:48<9:50:22,  1.91it/s] "
     ]
    },
    {
     "name": "stdout",
     "output_type": "stream",
     "text": [
      "N Reads: 100096 Loss: 281.67. F1: [0.40199, 0.11616]. Patience: 30\n"
     ]
    },
    {
     "name": "stderr",
     "output_type": "stream",
     "text": [
      "  2%|▏         | 1177/68609 [01:09<10:09:29,  1.84it/s]"
     ]
    },
    {
     "name": "stdout",
     "output_type": "stream",
     "text": [
      "N Reads: 150144 Loss: 264.40. F1: [0.47945, 0.14751]. Patience: 30\n"
     ]
    },
    {
     "name": "stderr",
     "output_type": "stream",
     "text": [
      "  2%|▏         | 1566/68609 [01:30<13:12:24,  1.41it/s]"
     ]
    },
    {
     "name": "stdout",
     "output_type": "stream",
     "text": [
      "N Reads: 200192 Loss: 245.43. F1: [0.49689, 0.20127]. Patience: 30\n"
     ]
    },
    {
     "name": "stderr",
     "output_type": "stream",
     "text": [
      "  3%|▎         | 1957/68609 [01:51<13:10:09,  1.41it/s]"
     ]
    },
    {
     "name": "stdout",
     "output_type": "stream",
     "text": [
      "N Reads: 250240 Loss: 234.45. F1: [0.41366, 0.20009]. Patience: 29\n"
     ]
    },
    {
     "name": "stderr",
     "output_type": "stream",
     "text": [
      "  3%|▎         | 2350/68609 [02:13<9:51:29,  1.87it/s] "
     ]
    },
    {
     "name": "stdout",
     "output_type": "stream",
     "text": [
      "N Reads: 300288 Loss: 226.84. F1: [0.43025, 0.23759]. Patience: 29\n"
     ]
    },
    {
     "name": "stderr",
     "output_type": "stream",
     "text": [
      "  4%|▍         | 2740/68609 [02:34<10:42:38,  1.71it/s]"
     ]
    },
    {
     "name": "stdout",
     "output_type": "stream",
     "text": [
      "N Reads: 350336 Loss: 221.63. F1: [0.50459, 0.25269]. Patience: 29\n"
     ]
    },
    {
     "name": "stderr",
     "output_type": "stream",
     "text": [
      "  5%|▍         | 3132/68609 [02:56<10:58:47,  1.66it/s]"
     ]
    },
    {
     "name": "stdout",
     "output_type": "stream",
     "text": [
      "N Reads: 400384 Loss: 217.29. F1: [0.44896, 0.26531]. Patience: 29\n"
     ]
    },
    {
     "name": "stderr",
     "output_type": "stream",
     "text": [
      "  5%|▌         | 3523/68609 [03:18<10:28:57,  1.72it/s]"
     ]
    },
    {
     "name": "stdout",
     "output_type": "stream",
     "text": [
      "N Reads: 450432 Loss: 213.08. F1: [0.51503, 0.27383]. Patience: 29\n"
     ]
    },
    {
     "name": "stderr",
     "output_type": "stream",
     "text": [
      "  6%|▌         | 3912/68609 [03:40<13:45:05,  1.31it/s]"
     ]
    },
    {
     "name": "stdout",
     "output_type": "stream",
     "text": [
      "N Reads: 500480 Loss: 209.25. F1: [0.52694, 0.27584]. Patience: 29\n"
     ]
    },
    {
     "name": "stderr",
     "output_type": "stream",
     "text": [
      "  6%|▋         | 4304/68609 [04:02<10:13:40,  1.75it/s]"
     ]
    },
    {
     "name": "stdout",
     "output_type": "stream",
     "text": [
      "N Reads: 550528 Loss: 206.04. F1: [0.50893, 0.29217]. Patience: 29\n"
     ]
    },
    {
     "name": "stderr",
     "output_type": "stream",
     "text": [
      "  7%|▋         | 4695/68609 [04:24<9:43:11,  1.83it/s] "
     ]
    },
    {
     "name": "stdout",
     "output_type": "stream",
     "text": [
      "N Reads: 600576 Loss: 202.98. F1: [0.54184, 0.3127]. Patience: 29\n"
     ]
    },
    {
     "name": "stderr",
     "output_type": "stream",
     "text": [
      "  7%|▋         | 5087/68609 [04:45<9:16:21,  1.90it/s] "
     ]
    },
    {
     "name": "stdout",
     "output_type": "stream",
     "text": [
      "N Reads: 650624 Loss: 200.85. F1: [0.50163, 0.2967]. Patience: 28\n"
     ]
    },
    {
     "name": "stderr",
     "output_type": "stream",
     "text": [
      "  8%|▊         | 5478/68609 [05:08<9:10:50,  1.91it/s] "
     ]
    },
    {
     "name": "stdout",
     "output_type": "stream",
     "text": [
      "N Reads: 700672 Loss: 198.46. F1: [0.55178, 0.33589]. Patience: 28\n"
     ]
    },
    {
     "name": "stderr",
     "output_type": "stream",
     "text": [
      "  9%|▊         | 5868/68609 [05:30<9:35:44,  1.82it/s] "
     ]
    },
    {
     "name": "stdout",
     "output_type": "stream",
     "text": [
      "N Reads: 750720 Loss: 195.18. F1: [0.55984, 0.31515]. Patience: 27\n"
     ]
    },
    {
     "name": "stderr",
     "output_type": "stream",
     "text": [
      "  9%|▉         | 6259/68609 [05:52<10:40:47,  1.62it/s]"
     ]
    },
    {
     "name": "stdout",
     "output_type": "stream",
     "text": [
      "N Reads: 800768 Loss: 195.12. F1: [0.60989, 0.34755]. Patience: 27\n"
     ]
    },
    {
     "name": "stderr",
     "output_type": "stream",
     "text": [
      " 10%|▉         | 6650/68609 [06:15<10:51:55,  1.58it/s]"
     ]
    },
    {
     "name": "stdout",
     "output_type": "stream",
     "text": [
      "N Reads: 850816 Loss: 193.25. F1: [0.62941, 0.37061]. Patience: 27\n"
     ]
    },
    {
     "name": "stderr",
     "output_type": "stream",
     "text": [
      " 10%|█         | 7040/68609 [06:38<13:12:20,  1.30it/s]"
     ]
    },
    {
     "name": "stdout",
     "output_type": "stream",
     "text": [
      "N Reads: 900864 Loss: 191.06. F1: [0.56294, 0.33412]. Patience: 26\n"
     ]
    },
    {
     "name": "stderr",
     "output_type": "stream",
     "text": [
      " 11%|█         | 7433/68609 [07:01<9:02:38,  1.88it/s] "
     ]
    },
    {
     "name": "stdout",
     "output_type": "stream",
     "text": [
      "N Reads: 950912 Loss: 190.02. F1: [0.61369, 0.353]. Patience: 25\n"
     ]
    },
    {
     "name": "stderr",
     "output_type": "stream",
     "text": [
      " 11%|█▏        | 7823/68609 [07:24<9:12:41,  1.83it/s] "
     ]
    },
    {
     "name": "stdout",
     "output_type": "stream",
     "text": [
      "N Reads: 1000960 Loss: 187.54. F1: [0.57164, 0.33991]. Patience: 24\n"
     ]
    },
    {
     "name": "stderr",
     "output_type": "stream",
     "text": [
      " 12%|█▏        | 8214/68609 [07:49<11:17:23,  1.49it/s]"
     ]
    },
    {
     "name": "stdout",
     "output_type": "stream",
     "text": [
      "N Reads: 1051008 Loss: 186.90. F1: [0.55528, 0.36551]. Patience: 23\n"
     ]
    },
    {
     "name": "stderr",
     "output_type": "stream",
     "text": [
      " 13%|█▎        | 8607/68609 [08:11<7:40:23,  2.17it/s] "
     ]
    },
    {
     "name": "stdout",
     "output_type": "stream",
     "text": [
      "N Reads: 1101056 Loss: 186.61. F1: [0.58116, 0.36923]. Patience: 22\n"
     ]
    },
    {
     "name": "stderr",
     "output_type": "stream",
     "text": [
      " 13%|█▎        | 8997/68609 [08:33<7:34:15,  2.19it/s] "
     ]
    },
    {
     "name": "stdout",
     "output_type": "stream",
     "text": [
      "N Reads: 1151104 Loss: 183.47. F1: [0.63061, 0.39051]. Patience: 22\n"
     ]
    },
    {
     "name": "stderr",
     "output_type": "stream",
     "text": [
      " 14%|█▎        | 9387/68609 [08:56<8:51:50,  1.86it/s] "
     ]
    },
    {
     "name": "stdout",
     "output_type": "stream",
     "text": [
      "N Reads: 1201152 Loss: 183.31. F1: [0.62816, 0.38946]. Patience: 21\n"
     ]
    },
    {
     "name": "stderr",
     "output_type": "stream",
     "text": [
      " 14%|█▍        | 9777/68609 [09:19<11:54:38,  1.37it/s]"
     ]
    },
    {
     "name": "stdout",
     "output_type": "stream",
     "text": [
      "N Reads: 1251200 Loss: 183.35. F1: [0.64102, 0.39166]. Patience: 21\n"
     ]
    },
    {
     "name": "stderr",
     "output_type": "stream",
     "text": [
      " 15%|█▍        | 10169/68609 [09:42<8:49:44,  1.84it/s] "
     ]
    },
    {
     "name": "stdout",
     "output_type": "stream",
     "text": [
      "N Reads: 1301248 Loss: 182.03. F1: [0.58628, 0.37172]. Patience: 20\n"
     ]
    },
    {
     "name": "stderr",
     "output_type": "stream",
     "text": [
      " 15%|█▌        | 10561/68609 [10:05<7:30:48,  2.15it/s] "
     ]
    },
    {
     "name": "stdout",
     "output_type": "stream",
     "text": [
      "N Reads: 1351296 Loss: 179.56. F1: [0.64871, 0.40405]. Patience: 20\n"
     ]
    },
    {
     "name": "stderr",
     "output_type": "stream",
     "text": [
      " 16%|█▌        | 10951/68609 [10:28<8:23:18,  1.91it/s] "
     ]
    },
    {
     "name": "stdout",
     "output_type": "stream",
     "text": [
      "N Reads: 1401344 Loss: 179.47. F1: [0.64357, 0.39274]. Patience: 19\n"
     ]
    },
    {
     "name": "stderr",
     "output_type": "stream",
     "text": [
      " 17%|█▋        | 11344/68609 [10:51<7:13:28,  2.20it/s] "
     ]
    },
    {
     "name": "stdout",
     "output_type": "stream",
     "text": [
      "N Reads: 1451392 Loss: 180.00. F1: [0.62574, 0.39921]. Patience: 18\n"
     ]
    },
    {
     "name": "stderr",
     "output_type": "stream",
     "text": [
      " 17%|█▋        | 11734/68609 [11:14<7:38:27,  2.07it/s] "
     ]
    },
    {
     "name": "stdout",
     "output_type": "stream",
     "text": [
      "N Reads: 1501440 Loss: 178.37. F1: [0.61565, 0.41102]. Patience: 18\n"
     ]
    },
    {
     "name": "stderr",
     "output_type": "stream",
     "text": [
      " 18%|█▊        | 12124/68609 [11:38<8:28:44,  1.85it/s] "
     ]
    },
    {
     "name": "stdout",
     "output_type": "stream",
     "text": [
      "N Reads: 1551488 Loss: 175.95. F1: [0.6435, 0.41247]. Patience: 18\n"
     ]
    },
    {
     "name": "stderr",
     "output_type": "stream",
     "text": [
      " 18%|█▊        | 12514/68609 [12:02<11:11:13,  1.39it/s]"
     ]
    },
    {
     "name": "stdout",
     "output_type": "stream",
     "text": [
      "N Reads: 1601536 Loss: 175.66. F1: [0.62886, 0.397]. Patience: 17\n"
     ]
    },
    {
     "name": "stderr",
     "output_type": "stream",
     "text": [
      " 19%|█▉        | 12907/68609 [12:26<8:00:49,  1.93it/s] "
     ]
    },
    {
     "name": "stdout",
     "output_type": "stream",
     "text": [
      "N Reads: 1651584 Loss: 175.08. F1: [0.65311, 0.4045]. Patience: 16\n"
     ]
    },
    {
     "name": "stderr",
     "output_type": "stream",
     "text": [
      " 19%|█▉        | 13297/68609 [12:53<9:40:48,  1.59it/s] "
     ]
    },
    {
     "name": "stdout",
     "output_type": "stream",
     "text": [
      "N Reads: 1701632 Loss: 177.00. F1: [0.6614, 0.42409]. Patience: 16\n"
     ]
    },
    {
     "name": "stderr",
     "output_type": "stream",
     "text": [
      " 20%|█▉        | 13689/68609 [13:17<6:46:11,  2.25it/s]"
     ]
    },
    {
     "name": "stdout",
     "output_type": "stream",
     "text": [
      "N Reads: 1751680 Loss: 175.12. F1: [0.67439, 0.4127]. Patience: 15\n"
     ]
    },
    {
     "name": "stderr",
     "output_type": "stream",
     "text": [
      " 21%|██        | 14079/68609 [13:40<6:45:29,  2.24it/s]"
     ]
    },
    {
     "name": "stdout",
     "output_type": "stream",
     "text": [
      "N Reads: 1801728 Loss: 173.24. F1: [0.67286, 0.4047]. Patience: 14\n"
     ]
    },
    {
     "name": "stderr",
     "output_type": "stream",
     "text": [
      " 21%|██        | 14469/68609 [14:03<9:12:37,  1.63it/s]"
     ]
    },
    {
     "name": "stdout",
     "output_type": "stream",
     "text": [
      "N Reads: 1851776 Loss: 172.94. F1: [0.65063, 0.39881]. Patience: 13\n"
     ]
    },
    {
     "name": "stderr",
     "output_type": "stream",
     "text": [
      " 22%|██▏       | 14862/68609 [14:26<6:29:30,  2.30it/s]"
     ]
    },
    {
     "name": "stdout",
     "output_type": "stream",
     "text": [
      "N Reads: 1901824 Loss: 171.74. F1: [0.66558, 0.40871]. Patience: 12\n"
     ]
    },
    {
     "name": "stderr",
     "output_type": "stream",
     "text": [
      " 22%|██▏       | 15252/68609 [14:49<6:37:13,  2.24it/s]"
     ]
    },
    {
     "name": "stdout",
     "output_type": "stream",
     "text": [
      "N Reads: 1951872 Loss: 171.46. F1: [0.65953, 0.39119]. Patience: 11\n"
     ]
    },
    {
     "name": "stderr",
     "output_type": "stream",
     "text": [
      " 23%|██▎       | 15642/68609 [15:12<8:49:53,  1.67it/s]"
     ]
    },
    {
     "name": "stdout",
     "output_type": "stream",
     "text": [
      "N Reads: 2001920 Loss: 169.86. F1: [0.65775, 0.42315]. Patience: 10\n"
     ]
    },
    {
     "name": "stderr",
     "output_type": "stream",
     "text": [
      " 23%|██▎       | 16034/68609 [15:35<6:22:04,  2.29it/s]"
     ]
    },
    {
     "name": "stdout",
     "output_type": "stream",
     "text": [
      "N Reads: 2051968 Loss: 170.85. F1: [0.66588, 0.41423]. Patience: 9\n"
     ]
    },
    {
     "name": "stderr",
     "output_type": "stream",
     "text": [
      " 24%|██▍       | 16427/68609 [15:58<6:15:49,  2.31it/s]"
     ]
    },
    {
     "name": "stdout",
     "output_type": "stream",
     "text": [
      "N Reads: 2102016 Loss: 170.17. F1: [0.66533, 0.40376]. Patience: 8\n"
     ]
    },
    {
     "name": "stderr",
     "output_type": "stream",
     "text": [
      " 25%|██▍       | 16817/68609 [16:21<6:15:18,  2.30it/s]"
     ]
    },
    {
     "name": "stdout",
     "output_type": "stream",
     "text": [
      "N Reads: 2152064 Loss: 168.61. F1: [0.64297, 0.39754]. Patience: 7\n"
     ]
    },
    {
     "name": "stderr",
     "output_type": "stream",
     "text": [
      " 25%|██▌       | 17207/68609 [16:45<6:14:15,  2.29it/s]"
     ]
    },
    {
     "name": "stdout",
     "output_type": "stream",
     "text": [
      "N Reads: 2202112 Loss: 168.72. F1: [0.66909, 0.42075]. Patience: 6\n"
     ]
    },
    {
     "name": "stderr",
     "output_type": "stream",
     "text": [
      " 26%|██▌       | 17600/68609 [17:08<6:20:53,  2.23it/s]"
     ]
    },
    {
     "name": "stdout",
     "output_type": "stream",
     "text": [
      "N Reads: 2252160 Loss: 168.01. F1: [0.66643, 0.40902]. Patience: 5\n"
     ]
    },
    {
     "name": "stderr",
     "output_type": "stream",
     "text": [
      " 26%|██▌       | 17990/68609 [17:32<6:02:08,  2.33it/s]"
     ]
    },
    {
     "name": "stdout",
     "output_type": "stream",
     "text": [
      "N Reads: 2302208 Loss: 167.09. F1: [0.68567, 0.40898]. Patience: 4\n"
     ]
    },
    {
     "name": "stderr",
     "output_type": "stream",
     "text": [
      " 27%|██▋       | 18380/68609 [17:55<6:05:54,  2.29it/s]"
     ]
    },
    {
     "name": "stdout",
     "output_type": "stream",
     "text": [
      "N Reads: 2352256 Loss: 166.66. F1: [0.6654, 0.42653]. Patience: 4\n"
     ]
    },
    {
     "name": "stderr",
     "output_type": "stream",
     "text": [
      " 27%|██▋       | 18773/68609 [18:19<5:57:44,  2.32it/s]"
     ]
    },
    {
     "name": "stdout",
     "output_type": "stream",
     "text": [
      "N Reads: 2402304 Loss: 164.68. F1: [0.70759, 0.4353]. Patience: 4\n"
     ]
    },
    {
     "name": "stderr",
     "output_type": "stream",
     "text": [
      " 28%|██▊       | 19163/68609 [18:43<5:49:17,  2.36it/s]"
     ]
    },
    {
     "name": "stdout",
     "output_type": "stream",
     "text": [
      "N Reads: 2452352 Loss: 165.83. F1: [0.6518, 0.42472]. Patience: 3\n"
     ]
    },
    {
     "name": "stderr",
     "output_type": "stream",
     "text": [
      " 28%|██▊       | 19553/68609 [19:06<5:46:07,  2.36it/s]"
     ]
    },
    {
     "name": "stdout",
     "output_type": "stream",
     "text": [
      "N Reads: 2502400 Loss: 165.62. F1: [0.67917, 0.42224]. Patience: 2\n"
     ]
    },
    {
     "name": "stderr",
     "output_type": "stream",
     "text": [
      " 29%|██▉       | 19943/68609 [19:30<7:47:21,  1.74it/s]"
     ]
    },
    {
     "name": "stdout",
     "output_type": "stream",
     "text": [
      "N Reads: 2552448 Loss: 164.66. F1: [0.65716, 0.41341]. Patience: 1\n"
     ]
    },
    {
     "name": "stderr",
     "output_type": "stream",
     "text": [
      " 30%|██▉       | 20336/68609 [19:54<5:45:03,  2.33it/s]"
     ]
    },
    {
     "name": "stdout",
     "output_type": "stream",
     "text": [
      "N Reads: 2602496 Loss: 164.23. F1: [0.68696, 0.43766]. Patience: 1\n"
     ]
    },
    {
     "name": "stderr",
     "output_type": "stream",
     "text": [
      " 30%|███       | 20726/68609 [20:19<6:26:43,  2.06it/s]"
     ]
    },
    {
     "name": "stdout",
     "output_type": "stream",
     "text": [
      "N Reads: 2652544 Loss: 163.55. F1: [0.67588, 0.46205]. Patience: 1\n"
     ]
    },
    {
     "name": "stderr",
     "output_type": "stream",
     "text": [
      " 31%|███       | 21113/68609 [20:46<46:43, 16.94it/s]  "
     ]
    },
    {
     "name": "stdout",
     "output_type": "stream",
     "text": [
      "N Reads: 2702592 Loss: 164.43. F1: [0.68181, 0.43344]. Patience: 0\n",
      "The model is overfitting; stopping early.\n",
      "Processed 2_702_592 reads.\n",
      "Training took 1246.218 s.\n"
     ]
    },
    {
     "name": "stderr",
     "output_type": "stream",
     "text": [
      "\n"
     ]
    },
    {
     "data": {
      "image/png": "[encoded data removed]",
      "text/plain": [
       "<Figure size 1200x400 with 2 Axes>"
      ]
     },
     "metadata": {},
     "output_type": "display_data"
    },
    {
     "name": "stdout",
     "output_type": "stream",
     "text": [
      "Test results: [0.70319, 0.45316]\n"
     ]
    },
    {
     "data": {
      "image/png": "[encoded data removed]",
      "text/plain": [
       "<Figure size 480x480 with 1 Axes>"
      ]
     },
     "metadata": {},
     "output_type": "display_data"
    },
    {
     "name": "stdout",
     "output_type": "stream",
     "text": [
      "[[2642.    8.  365.    0.    0.    2.    3.    0.    1.    0.   77.   99.  140.    1.   58.   36.  174.    1.    0.  108.    1.    8.   81.    0.   93.   20.    0.]\n",
      " [ 176. 1267.  221.    0.   85.    7.  255.    1. 1080.   16.  233.    5.   27.   12.    0.    6.  113.   86.    5.   67.    3.    2.  119.    3.   98.   22.    0.]\n",
      " [  47.   58. 3108.    0.    5.    8.    1.    0.   57.    2.  112.    5.   12.    0.   59.    0.   36.    3.    0.   28.    5.    0.   73.    1.  189.   43.   57.]\n",
      " [   3.   21.    7.  965.   40.    0.  750.  144.   61.  103.    9.   85.   18.   40.    0.    1.    4.  338.  743.    7.    1.  128.   83.  234.  121.    3.    0.]\n",
      " [   1.   25.   10.   14. 1255.    0.  174.    1.  541.  261.    7.   20.   30.   67.    0.    3.  426.  767.  131.   18.    4.   26.   45.   29.   51.    3.    0.]\n",
      " [  30.    0.   13.    0.    0. 2353.    7.    0.   11.    0.  104.    4.    6.    0.    8.   24.    1.    0.    0.  129. 1206.    0.   11.    0.    2.    0.    0.]\n",
      " [   1.   25.    0.    6.    6.    0. 3607.    0.    0.    9.    8.    0.   73.    0.    0.    0.    9.    4.   88.    1.    1.    0.   10.   42.   16.    3.    0.]\n",
      " [   0.   62.    3.    4.    2.    1.  218. 2731.   12.    5.    0.  100.    0.  171.    0.    0.    0.    4.   16.    0.    0.  344.    0.  201.   34.    0.    1.]\n",
      " [   5.    5.    1.    1.   12.    1.    4.    0. 3499.    6.    7.    0.    1.    7.    0.    0.  159.   34.    3.    8.   14.    0.  123.    8.   11.    0.    0.]\n",
      " [ 157.    0.    0.   15.   45.    0.   26.   12.   96. 1202.   12.  918.  411.    8.    0.   17.   13.   76.  105.   41.    0.   22.   41.  633.   49.   10.    0.]\n",
      " [   3.   23.  142.    0.   12.   78.    8.    0.   50.    0. 1902.    2.   24.   89.   87.   59.  625.   14.    2.  638.    6.    0.  136.    0.    6.    3.    0.]\n",
      " [   0.  263.    2.   20.    0.    0.  479. 1089.   23.    6.    3. 1027.    2.  182.    0.    0.    0.   76.   17.    0.    0.  492.    1.  111.  114.    2.    0.]\n",
      " [   6.    0.    9.    0.    5.    1.   15.    0.    2.   12.    5.  266. 3428.    2.    0.   14.    6.   12.   11.   32.    1.    0.   27.   16.   33.    6.    0.]\n",
      " [  12.   57.  370.    1.    3.    1.   46.  231.    4.   10.   84.   30.  173.  281.   11.   12.  292.   10.    0. 2035.    1.   78.  115.    2.   50.    0.    0.]\n",
      " [  58.    0.  454.    0.    1.   41.    0.    0.    1.    0.  487.    0.    3.    0. 2767.    3.    2.    0.    0.   14.   12.    0.   45.    0.   20.    0.    1.]\n",
      " [ 207.    4.   22.    0.    0.   82.    1.    0.  295.    1.  272.    0.  346.    1.    8. 2261.   76.   10.    9.   75.    4.    0.  190.    1.   34.    9.    1.]\n",
      " [ 142.    5.  694.    0.   59.   65.   24.    0.   19.    2.  849.    2.   74.    7.  857.  130.  113.   16.   13.  145.   93.    0.  553.    5.   41.    1.    0.]\n",
      " [  24.    5.   21.   18.  289.    3.   84.   14.  161.    7.    9.   19.   14.   25.    5.   10.   27. 2929.   79.   12.    5.    2.   81.   32.   30.    4.    0.]\n",
      " [   1.    1.    0.  112.  359.    0.  326.   20.  147.   62.    1.  175.   62.   18.    0.    2.   25.  887. 1128.    5.    6.    5.   81.  451.   33.    2.    0.]\n",
      " [  16.   45.  102.   13.   48.    4.   59.    0.   17.   65.  116.   11.  186.  148.   20.   25.  185.  102.   12. 1563.   21.    0.  931.   60.  159.    1.    0.]\n",
      " [  47.    1.   52.    1.   10.   16.    7.    0.    5.    8.   55.   22.  469.    1.   49.  499.   32.    0.    1.  116. 2419.    0.   24.   11.   43.   21.    0.]\n",
      " [   0.   29.    7.   21.    3.    0. 1035.   20.   15.    8.    0.   75.    2.  136.    0.    0.    0.    9.   25.    0.    0. 2390.    0.   59.   70.    5.    0.]\n",
      " [  29.  212.   81.    1.   20.   16.   39.    0.  264.    4.   88.    3.  119.   12.   19.   60.  290.   12.   48.  238.   72.    0. 2167.   50.   59.    6.    0.]\n",
      " [   0.   18.    1.    6.   34.    0.  476.  320.  123.   34.    0.    7.  152.    6.    0.    4.    6.   65.   91.   15.    1.   18.   48. 2438.   45.    0.    1.]\n",
      " [  83.   60.  241.   13.    6.    3.  498.   13.   21.   13.  143.  103.  127.   45.   23.    4.   13.   81.   17.  149.    9.  151.  374.  108. 1561.   49.    1.]\n",
      " [  55.   88.  124.    4.    1.    1.   41.    2.    5.   13.   85.   26.  111.    3.    5.    8.   60.    5.   16.   13.    6.    3.   85.   11.  254.  895.    0.]\n",
      " [  13.   25.   34.    0.    0.    3.    7.    0.   11.    2.    7.    2.   17.    0.    0.    1.    3.    2.   10.   14.    1.    0.   29.   11.   87.   52.   15.]]\n"
     ]
    }
   ],
   "source": [
    "from torch import clamp, tensor\n",
    "from torch.nn import (Module, Conv1d, ReLU, Sequential, Flatten, Linear,\n",
    "                      CrossEntropyLoss, Dropout, MaxPool1d, LeakyReLU, ConvTranspose1d, Sigmoid)\n",
    "from torch import stack, tensor, float32\n",
    "from torch.func import vmap\n",
    "import torch.nn.functional as F\n",
    "\n",
    "\n",
    "class Unsqueeze(Module):\n",
    "    def __init__(self, dim):\n",
    "        super().__init__()\n",
    "        self.dim = dim\n",
    "\n",
    "    def forward(self, x):\n",
    "        return x.unsqueeze(self.dim)\n",
    "\n",
    "\n",
    "class DAE_1(Module):\n",
    "    \"\"\"Denoising autoencoder 1.\"\"\"\n",
    "    def __init__(self, N, M):\n",
    "        super(DAE_1, self).__init__()\n",
    "        LATENT_SPACE_SIZE = 128\n",
    "        self.encoder = Sequential(\n",
    "            Conv1d(4, 32, kernel_size=5, padding=2),\n",
    "            LeakyReLU(),\n",
    "            MaxPool1d(kernel_size=2),\n",
    "            Conv1d(32, 64, kernel_size=3, padding=1),\n",
    "            LeakyReLU(),\n",
    "            Flatten(),\n",
    "            Linear(N * 64 // 2, N),\n",
    "            LeakyReLU(),\n",
    "            Linear(N, LATENT_SPACE_SIZE),\n",
    "            LeakyReLU(),\n",
    "        )\n",
    "        self.decoder = Sequential(\n",
    "            Linear(LATENT_SPACE_SIZE, N // 2),\n",
    "            LeakyReLU(),\n",
    "            Linear(N // 2, N),\n",
    "            LeakyReLU(),\n",
    "            Unsqueeze(1),\n",
    "            ConvTranspose1d(1, 4, kernel_size=3, stride=1, padding=1),\n",
    "            LeakyReLU(),\n",
    "            Sigmoid(),\n",
    "        )\n",
    "        self.classifier = Linear(LATENT_SPACE_SIZE, M)\n",
    "\n",
    "    def forward(self, x):\n",
    "        if self.training:\n",
    "            x_noisy = autoencoder.add_masking_noise(x, dropout_prob=0.2)\n",
    "            x_noisy = clamp(x_noisy, 0.0, 1.0)\n",
    "            latent = self.encoder(x_noisy)\n",
    "        else:\n",
    "            B, N = x.shape\n",
    "            shifts = tensor([6, 4, 2, 0], device=x.device).view(1, 1, 4)\n",
    "            x_expanded = x.unsqueeze(-1).to(int)\n",
    "            tokens = (x_expanded >> shifts) & 0b11\n",
    "            tokens = tokens.view(B, N * 4)\n",
    "            one_hot = F.one_hot(tokens, num_classes=4).float()\n",
    "            x = one_hot.permute(0, 2, 1)\n",
    "            latent = self.encoder(x)\n",
    "        classification = self.classifier(latent)\n",
    "        reconstruction = self.decoder(latent)\n",
    "        return classification, reconstruction\n",
    "\n",
    "\n",
    "model = benchmark(\n",
    "    autoencoder.Classifier(LENGTH, mapping, \"cuda\", DAE_1),\n",
    "    \"DAE\",\n",
    "    n_max_reads=8_000_000,\n",
    "    patience=30,\n",
    ")\n",
    "matrix = confusion_matrix(model, test_data, \"cuda\", mapping)\n",
    "plt.matshow(matrix)\n",
    "plt.show()\n",
    "np.set_printoptions(precision=3, suppress=True, linewidth=250)\n",
    "print(matrix)"
   ]
  },
  {
   "cell_type": "code",
   "execution_count": null,
   "id": "80a6f706",
   "metadata": {},
   "outputs": [],
   "source": [
    "from torch import arange\n",
    "from torch.nn import (Module, Linear, Embedding, TransformerEncoderLayer,\n",
    "                      TransformerEncoder)\n",
    "\n",
    "\n",
    "class T_DAE_hybrid(Module):\n",
    "    def __init__(self, N, M):\n",
    "        super(T_DAE_hybrid, self).__init__()\n",
    "        embed_dim = 128\n",
    "        self.token_embedding = Embedding(256, embed_dim)\n",
    "        self.position_embedding = Embedding(N, embed_dim)\n",
    "        encoder_layer = TransformerEncoderLayer(\n",
    "            d_model=embed_dim,\n",
    "            nhead=8,\n",
    "            dim_feedforward=embed_dim * 4,\n",
    "            dropout=0.1,\n",
    "            activation='relu',\n",
    "            batch_first=True  # makes input/output shape [B, L, D]\n",
    "        )\n",
    "        self.transformer_encoder = TransformerEncoder(encoder_layer, num_layers=2)\n",
    "        self.classifier = Linear(embed_dim, M)\n",
    "        self.decoder = Sequential(\n",
    "            Linear(embed_dim, N // 2),\n",
    "            LeakyReLU(),\n",
    "            Linear(N // 2, N),\n",
    "            LeakyReLU(),\n",
    "            Unsqueeze(1),\n",
    "            ConvTranspose1d(1, 4, kernel_size=3, stride=1, padding=1),\n",
    "            LeakyReLU(),\n",
    "            Sigmoid(),\n",
    "        )\n",
    "\n",
    "    def forward(self, x):\n",
    "        if self.training:\n",
    "            x_noisy = autoencoder.add_masking_noise(x, dropout_prob=0.2)\n",
    "            x_noisy = clamp(x_noisy, 0.0, 1.0)\n",
    "            latent = self.encoder(x_noisy)\n",
    "        else:\n",
    "            B, N = x.shape\n",
    "            shifts = tensor([6, 4, 2, 0], device=x.device).view(1, 1, 4)\n",
    "            x_expanded = x.unsqueeze(-1).to(int)\n",
    "            tokens = (x_expanded >> shifts) & 0b11\n",
    "            tokens = tokens.view(B, N * 4)\n",
    "            one_hot = F.one_hot(tokens, num_classes=4).float()\n",
    "            x = one_hot.permute(0, 2, 1)\n",
    "            latent = self.encoder(x)\n",
    "        classification = self.classifier(latent)\n",
    "        reconstruction = self.decoder(latent)\n",
    "        return classification, reconstruction\n",
    "\n",
    "    def forward(self, x):\n",
    "        batch_size, seq_len = x.size()\n",
    "        positions = arange(seq_len, device=x.device).unsqueeze(0).expand(batch_size, seq_len)\n",
    "        x = self.token_embedding(x) + self.position_embedding(positions)  # [B, L, D]\n",
    "        x = self.transformer_encoder(x)  # [B, L, D]\n",
    "        x = x.mean(dim=1)  # [B, D] - average pooling\n",
    "        logits = self.classifier(x)  # [B, num_classes]\n",
    "        return logits\n",
    "\n",
    "\n",
    "model = benchmark(\n",
    "    transformer.Classifier(LENGTH // 4, mapping, \"cuda\", T_2_tokens, use_tokens=True),\n",
    "    \"Transformer\",\n",
    "    n_max_reads=8_000_000,\n",
    "    patience=20,\n",
    ")\n",
    "matrix = confusion_matrix(model, test_data, \"cuda\", mapping)\n",
    "plt.matshow(matrix)\n",
    "plt.show()\n",
    "np.set_printoptions(precision=3, suppress=True, linewidth=250)\n",
    "print(matrix)"
   ]
  },
  {
   "cell_type": "markdown",
   "id": "c88734c7",
   "metadata": {},
   "source": [
    "### 3.5. Transformer / Denoising Autoencoder Hybrid Model"
   ]
  },
  {
   "cell_type": "code",
   "execution_count": 5,
   "id": "1f74decf",
   "metadata": {},
   "outputs": [
    {
     "name": "stdout",
     "output_type": "stream",
     "text": [
      "Number of parameters: 1_093_186\n"
     ]
    },
    {
     "name": "stderr",
     "output_type": "stream",
     "text": [
      "  1%|          | 392/68609 [01:12<66:39:26,  3.52s/it]"
     ]
    },
    {
     "name": "stdout",
     "output_type": "stream",
     "text": [
      "N Reads: 50_048 Loss: 285.22. F1: [0.50342, 0.16581]. Patience: 20\n"
     ]
    },
    {
     "name": "stderr",
     "output_type": "stream",
     "text": [
      "  1%|          | 783/68609 [02:37<107:12:48,  5.69s/it]"
     ]
    },
    {
     "name": "stdout",
     "output_type": "stream",
     "text": [
      "N Reads: 100_096 Loss: 229.19. F1: [0.59784, 0.2559]. Patience: 20\n"
     ]
    },
    {
     "name": "stderr",
     "output_type": "stream",
     "text": [
      "  2%|▏         | 1174/68609 [03:57<76:27:09,  4.08s/it] "
     ]
    },
    {
     "name": "stdout",
     "output_type": "stream",
     "text": [
      "N Reads: 150_144 Loss: 212.24. F1: [0.59719, 0.31441]. Patience: 20\n"
     ]
    },
    {
     "name": "stderr",
     "output_type": "stream",
     "text": [
      "  2%|▏         | 1565/68609 [05:34<117:54:53,  6.33s/it]"
     ]
    },
    {
     "name": "stdout",
     "output_type": "stream",
     "text": [
      "N Reads: 200_192 Loss: 201.42. F1: [0.6278, 0.31778]. Patience: 20\n"
     ]
    },
    {
     "name": "stderr",
     "output_type": "stream",
     "text": [
      "  3%|▎         | 1956/68609 [06:55<78:18:50,  4.23s/it] "
     ]
    },
    {
     "name": "stdout",
     "output_type": "stream",
     "text": [
      "N Reads: 250_240 Loss: 194.85. F1: [0.60863, 0.34316]. Patience: 20\n"
     ]
    },
    {
     "name": "stderr",
     "output_type": "stream",
     "text": [
      "  3%|▎         | 2347/68609 [08:18<75:54:00,  4.12s/it] "
     ]
    },
    {
     "name": "stdout",
     "output_type": "stream",
     "text": [
      "N Reads: 300_288 Loss: 190.72. F1: [0.624, 0.35247]. Patience: 20\n"
     ]
    },
    {
     "name": "stderr",
     "output_type": "stream",
     "text": [
      "  4%|▍         | 2738/68609 [09:41<75:38:14,  4.13s/it] "
     ]
    },
    {
     "name": "stdout",
     "output_type": "stream",
     "text": [
      "N Reads: 350_336 Loss: 185.02. F1: [0.63951, 0.37382]. Patience: 20\n"
     ]
    },
    {
     "name": "stderr",
     "output_type": "stream",
     "text": [
      "  5%|▍         | 3129/68609 [11:06<81:03:26,  4.46s/it] "
     ]
    },
    {
     "name": "stdout",
     "output_type": "stream",
     "text": [
      "N Reads: 400_384 Loss: 180.94. F1: [0.6423, 0.39403]. Patience: 20\n"
     ]
    },
    {
     "name": "stderr",
     "output_type": "stream",
     "text": [
      "  5%|▌         | 3520/68609 [12:54<100:08:50,  5.54s/it]"
     ]
    },
    {
     "name": "stdout",
     "output_type": "stream",
     "text": [
      "N Reads: 450_432 Loss: 176.77. F1: [0.65745, 0.37212]. Patience: 19\n"
     ]
    },
    {
     "name": "stderr",
     "output_type": "stream",
     "text": [
      "  6%|▌         | 3911/68609 [14:15<71:41:54,  3.99s/it] "
     ]
    },
    {
     "name": "stdout",
     "output_type": "stream",
     "text": [
      "N Reads: 500_480 Loss: 175.24. F1: [0.6556, 0.37887]. Patience: 18\n"
     ]
    },
    {
     "name": "stderr",
     "output_type": "stream",
     "text": [
      "  6%|▋         | 4302/68609 [15:38<70:36:00,  3.95s/it]"
     ]
    },
    {
     "name": "stdout",
     "output_type": "stream",
     "text": [
      "N Reads: 550_528 Loss: 171.68. F1: [0.62875, 0.38656]. Patience: 17\n"
     ]
    },
    {
     "name": "stderr",
     "output_type": "stream",
     "text": [
      "  7%|▋         | 4693/68609 [17:00<70:34:11,  3.97s/it]"
     ]
    },
    {
     "name": "stdout",
     "output_type": "stream",
     "text": [
      "N Reads: 600_576 Loss: 169.68. F1: [0.64211, 0.38912]. Patience: 16\n"
     ]
    },
    {
     "name": "stderr",
     "output_type": "stream",
     "text": [
      "  7%|▋         | 5084/68609 [18:23<71:01:53,  4.03s/it] "
     ]
    },
    {
     "name": "stdout",
     "output_type": "stream",
     "text": [
      "N Reads: 650_624 Loss: 167.90. F1: [0.66782, 0.41045]. Patience: 16\n"
     ]
    },
    {
     "name": "stderr",
     "output_type": "stream",
     "text": [
      "  8%|▊         | 5475/68609 [19:47<70:42:09,  4.03s/it]"
     ]
    },
    {
     "name": "stdout",
     "output_type": "stream",
     "text": [
      "N Reads: 700_672 Loss: 165.17. F1: [0.66919, 0.42495]. Patience: 16\n"
     ]
    },
    {
     "name": "stderr",
     "output_type": "stream",
     "text": [
      "  9%|▊         | 5866/68609 [21:10<68:25:58,  3.93s/it]"
     ]
    },
    {
     "name": "stdout",
     "output_type": "stream",
     "text": [
      "N Reads: 750_720 Loss: 162.79. F1: [0.67043, 0.42022]. Patience: 15\n"
     ]
    },
    {
     "name": "stderr",
     "output_type": "stream",
     "text": [
      "  9%|▉         | 6257/68609 [22:34<69:51:10,  4.03s/it]"
     ]
    },
    {
     "name": "stdout",
     "output_type": "stream",
     "text": [
      "N Reads: 800_768 Loss: 161.53. F1: [0.66516, 0.42401]. Patience: 14\n"
     ]
    },
    {
     "name": "stderr",
     "output_type": "stream",
     "text": [
      " 10%|▉         | 6648/68609 [23:58<69:13:36,  4.02s/it]"
     ]
    },
    {
     "name": "stdout",
     "output_type": "stream",
     "text": [
      "N Reads: 850_816 Loss: 159.33. F1: [0.65154, 0.43035]. Patience: 14\n"
     ]
    },
    {
     "name": "stderr",
     "output_type": "stream",
     "text": [
      " 10%|█         | 7039/68609 [25:22<68:15:28,  3.99s/it]"
     ]
    },
    {
     "name": "stdout",
     "output_type": "stream",
     "text": [
      "N Reads: 900_864 Loss: 159.49. F1: [0.68825, 0.42198]. Patience: 13\n"
     ]
    },
    {
     "name": "stderr",
     "output_type": "stream",
     "text": [
      " 11%|█         | 7429/68609 [26:46<93:49:38,  5.52s/it]"
     ]
    },
    {
     "name": "stdout",
     "output_type": "stream",
     "text": [
      "N Reads: 950_912 Loss: 157.12. F1: [0.68372, 0.45514]. Patience: 13\n"
     ]
    },
    {
     "name": "stderr",
     "output_type": "stream",
     "text": [
      " 11%|█▏        | 7821/68609 [28:11<67:55:50,  4.02s/it]"
     ]
    },
    {
     "name": "stdout",
     "output_type": "stream",
     "text": [
      "N Reads: 1_000_960 Loss: 156.76. F1: [0.67046, 0.42768]. Patience: 12\n"
     ]
    },
    {
     "name": "stderr",
     "output_type": "stream",
     "text": [
      " 12%|█▏        | 8212/68609 [29:35<68:14:27,  4.07s/it]"
     ]
    },
    {
     "name": "stdout",
     "output_type": "stream",
     "text": [
      "N Reads: 1_051_008 Loss: 154.05. F1: [0.6753, 0.45687]. Patience: 12\n"
     ]
    },
    {
     "name": "stderr",
     "output_type": "stream",
     "text": [
      " 13%|█▎        | 8603/68609 [31:00<66:19:09,  3.98s/it]"
     ]
    },
    {
     "name": "stdout",
     "output_type": "stream",
     "text": [
      "N Reads: 1_101_056 Loss: 153.39. F1: [0.68622, 0.44383]. Patience: 11\n"
     ]
    },
    {
     "name": "stderr",
     "output_type": "stream",
     "text": [
      " 13%|█▎        | 8994/68609 [32:26<66:34:40,  4.02s/it]"
     ]
    },
    {
     "name": "stdout",
     "output_type": "stream",
     "text": [
      "N Reads: 1_151_104 Loss: 152.36. F1: [0.67018, 0.44785]. Patience: 10\n"
     ]
    },
    {
     "name": "stderr",
     "output_type": "stream",
     "text": [
      " 14%|█▎        | 9385/68609 [33:50<64:54:26,  3.95s/it]"
     ]
    },
    {
     "name": "stdout",
     "output_type": "stream",
     "text": [
      "N Reads: 1_201_152 Loss: 152.07. F1: [0.67752, 0.44116]. Patience: 9\n"
     ]
    },
    {
     "name": "stderr",
     "output_type": "stream",
     "text": [
      " 14%|█▍        | 9776/68609 [35:16<65:17:26,  4.00s/it]"
     ]
    },
    {
     "name": "stdout",
     "output_type": "stream",
     "text": [
      "N Reads: 1_251_200 Loss: 151.03. F1: [0.67741, 0.4512]. Patience: 8\n"
     ]
    },
    {
     "name": "stderr",
     "output_type": "stream",
     "text": [
      " 15%|█▍        | 10167/68609 [37:09<62:07:52,  3.83s/it] "
     ]
    },
    {
     "name": "stdout",
     "output_type": "stream",
     "text": [
      "N Reads: 1_301_248 Loss: 149.12. F1: [0.68768, 0.47092]. Patience: 8\n"
     ]
    },
    {
     "name": "stderr",
     "output_type": "stream",
     "text": [
      " 15%|█▌        | 10558/68609 [38:46<60:40:31,  3.76s/it]"
     ]
    },
    {
     "name": "stdout",
     "output_type": "stream",
     "text": [
      "N Reads: 1_351_296 Loss: 148.49. F1: [0.6825, 0.46221]. Patience: 7\n"
     ]
    },
    {
     "name": "stderr",
     "output_type": "stream",
     "text": [
      " 16%|█▌        | 10949/68609 [40:12<61:08:53,  3.82s/it]"
     ]
    },
    {
     "name": "stdout",
     "output_type": "stream",
     "text": [
      "N Reads: 1_401_344 Loss: 148.12. F1: [0.69484, 0.44923]. Patience: 6\n"
     ]
    },
    {
     "name": "stderr",
     "output_type": "stream",
     "text": [
      " 17%|█▋        | 11340/68609 [41:36<60:42:05,  3.82s/it]"
     ]
    },
    {
     "name": "stdout",
     "output_type": "stream",
     "text": [
      "N Reads: 1_451_392 Loss: 147.70. F1: [0.69502, 0.482]. Patience: 6\n"
     ]
    },
    {
     "name": "stderr",
     "output_type": "stream",
     "text": [
      " 17%|█▋        | 11731/68609 [43:01<62:32:41,  3.96s/it]"
     ]
    },
    {
     "name": "stdout",
     "output_type": "stream",
     "text": [
      "N Reads: 1_501_440 Loss: 146.06. F1: [0.69955, 0.461]. Patience: 5\n"
     ]
    },
    {
     "name": "stderr",
     "output_type": "stream",
     "text": [
      " 18%|█▊        | 12122/68609 [44:27<61:54:31,  3.95s/it]"
     ]
    },
    {
     "name": "stdout",
     "output_type": "stream",
     "text": [
      "N Reads: 1_551_488 Loss: 147.12. F1: [0.69171, 0.46812]. Patience: 4\n"
     ]
    },
    {
     "name": "stderr",
     "output_type": "stream",
     "text": [
      " 18%|█▊        | 12513/68609 [45:52<61:45:01,  3.96s/it]"
     ]
    },
    {
     "name": "stdout",
     "output_type": "stream",
     "text": [
      "N Reads: 1_601_536 Loss: 145.78. F1: [0.69995, 0.45242]. Patience: 3\n"
     ]
    },
    {
     "name": "stderr",
     "output_type": "stream",
     "text": [
      " 19%|█▉        | 12904/68609 [47:18<61:59:23,  4.01s/it]"
     ]
    },
    {
     "name": "stdout",
     "output_type": "stream",
     "text": [
      "N Reads: 1_651_584 Loss: 145.00. F1: [0.68756, 0.45095]. Patience: 2\n"
     ]
    },
    {
     "name": "stderr",
     "output_type": "stream",
     "text": [
      " 19%|█▉        | 13295/68609 [48:45<61:02:11,  3.97s/it]"
     ]
    },
    {
     "name": "stdout",
     "output_type": "stream",
     "text": [
      "N Reads: 1_701_632 Loss: 143.78. F1: [0.7039, 0.47367]. Patience: 1\n"
     ]
    },
    {
     "name": "stderr",
     "output_type": "stream",
     "text": [
      " 20%|█▉        | 13686/68609 [50:11<58:48:22,  3.85s/it]"
     ]
    },
    {
     "name": "stdout",
     "output_type": "stream",
     "text": [
      "N Reads: 1_751_680 Loss: 143.61. F1: [0.7093, 0.48701]. Patience: 1\n"
     ]
    },
    {
     "name": "stderr",
     "output_type": "stream",
     "text": [
      " 21%|██        | 14075/68609 [51:37<3:19:59,  4.54it/s] "
     ]
    },
    {
     "name": "stdout",
     "output_type": "stream",
     "text": [
      "N Reads: 1_801_728 Loss: 143.14. F1: [0.68198, 0.46522]. Patience: 0\n",
      "The model is overfitting; stopping early.\n",
      "Processed 1_801_728 reads.\n",
      "Training took 3097.089 s.\n"
     ]
    },
    {
     "name": "stderr",
     "output_type": "stream",
     "text": [
      "\n"
     ]
    },
    {
     "data": {
      "image/png": "[encoded data removed]",
      "text/plain": [
       "<Figure size 1200x400 with 2 Axes>"
      ]
     },
     "metadata": {},
     "output_type": "display_data"
    },
    {
     "name": "stderr",
     "output_type": "stream",
     "text": [
      "d:\\maitrise\\stelaro\\venv\\Lib\\site-packages\\sklearn\\metrics\\_classification.py:98: UserWarning: The number of unique classes is greater than 50% of the number of samples.\n",
      "  type_true = type_of_target(y_true, input_name=\"y_true\")\n",
      "d:\\maitrise\\stelaro\\venv\\Lib\\site-packages\\sklearn\\metrics\\_classification.py:99: UserWarning: The number of unique classes is greater than 50% of the number of samples.\n",
      "  type_pred = type_of_target(y_pred, input_name=\"y_pred\")\n",
      "d:\\maitrise\\stelaro\\venv\\Lib\\site-packages\\sklearn\\utils\\multiclass.py:79: UserWarning: The number of unique classes is greater than 50% of the number of samples.\n",
      "  ys_types = set(type_of_target(x) for x in ys)\n",
      "d:\\maitrise\\stelaro\\venv\\Lib\\site-packages\\sklearn\\utils\\multiclass.py:79: UserWarning: The number of unique classes is greater than 50% of the number of samples.\n",
      "  ys_types = set(type_of_target(x) for x in ys)\n",
      "d:\\maitrise\\stelaro\\venv\\Lib\\site-packages\\sklearn\\metrics\\_classification.py:98: UserWarning: The number of unique classes is greater than 50% of the number of samples.\n",
      "  type_true = type_of_target(y_true, input_name=\"y_true\")\n",
      "d:\\maitrise\\stelaro\\venv\\Lib\\site-packages\\sklearn\\metrics\\_classification.py:99: UserWarning: The number of unique classes is greater than 50% of the number of samples.\n",
      "  type_pred = type_of_target(y_pred, input_name=\"y_pred\")\n",
      "d:\\maitrise\\stelaro\\venv\\Lib\\site-packages\\sklearn\\utils\\multiclass.py:79: UserWarning: The number of unique classes is greater than 50% of the number of samples.\n",
      "  ys_types = set(type_of_target(x) for x in ys)\n",
      "d:\\maitrise\\stelaro\\venv\\Lib\\site-packages\\sklearn\\utils\\multiclass.py:79: UserWarning: The number of unique classes is greater than 50% of the number of samples.\n",
      "  ys_types = set(type_of_target(x) for x in ys)\n"
     ]
    },
    {
     "name": "stdout",
     "output_type": "stream",
     "text": [
      "Test results: [0.71448, 0.47493]\n"
     ]
    },
    {
     "data": {
      "image/png": "[encoded data removed]",
      "text/plain": [
       "<Figure size 480x480 with 1 Axes>"
      ]
     },
     "metadata": {},
     "output_type": "display_data"
    },
    {
     "name": "stdout",
     "output_type": "stream",
     "text": [
      "[[3072.    3.  118.    0.    1.    2.    3.    4.    0.   30.   98.   44.   24.    2.   72.   18.   15.    0.    0.  116.   98.   14.   14.   10.  145.   15.    0.]\n",
      " [ 176. 1536.   88.   10.   17.    9.   98.    9.  909.  147.  266.    4.   13.   53.   16.   16.   14.   12.   18.   94.   47.    7.  129.   28.  175.   17.    1.]\n",
      " [  52.  664. 1465.    0.    4.  101.    0.    0.   60.    2.  162.    2.   13.    2.  275.    1.  159.    2.    0.   45.  379.    0.   74.    7.  304.   95.   41.]\n",
      " [   8.   19.    0. 2641.   17.    0.  117.   27.   20.  341.   31.   11.    9.   25.    0.    1.    0.  111.  282.   18.    3.   25.  104.   28.   70.    1.    0.]\n",
      " [   2.   23.    2.  139. 1157.    1.  105.   20.  853.  164.   58.   33.   23.   57.    0.   13.   22.  282.  584.   36.   29.   67.  149.   29.   61.    0.    0.]\n",
      " [  35.    0.    4.    0.   14.  545.    2.    0.    2.    0.  247.    2.    4.    0.   60.   52.    0.    0.    0.  772. 2081.    0.   19.   10.   60.    0.    0.]\n",
      " [   0.  116.    1.   81.    6.    0. 3107.    0.   11.   45.   57.    0.   41.    2.    0.    7.    2.    3.  257.    4.    4.    0.   83.   59.   20.    3.    0.]\n",
      " [   0.   42.    1.   35.    2.    1.  108. 2658.   18.   76.    0.   42.    0.   14.    0.    0.    0.    8.   26.    0.    0.  699.    4.  156.   19.    0.    0.]\n",
      " [  15.    7.    0.   12.    0.    0.   10.    6. 3558.    9.   17.    0.    4.    6.    0.    3.   21.    7.   15.   21.    7.    0.  145.   17.   29.    0.    0.]\n",
      " [  28.    4.    1.   92.   22.    2.   11.   26.   65. 2655.   18.  194.  168.   21.    0.   34.    1.   10.  103.   33.    8.   57.   25.  274.   55.    2.    0.]\n",
      " [   8.   17.   44.    0.    0.   28.    7.    0.   52.    1. 3006.    4.   23.   83.  100.   80.   66.    4.    7.  195.   12.    0.  139.    4.   28.    1.    0.]\n",
      " [   2.  160.    1.  218.    1.    0.  249. 1326.   44.  121.    3.  873.    2.   79.    0.    1.    0.   37.   79.    5.    0.  549.   15.   55.   87.    2.    0.]\n",
      " [   9.    0.    6.   14.   12.    1.   14.    1.    6.   71.   27.  143. 3043.   32.    4.   59.   20.    0.   80.   91.    9.    4.  107.   89.   54.   11.    2.]\n",
      " [  77.   47.  266.    4.    0.    8.   15.  167.    7.   18.  284.   25.   74.  496.  131.   13.  106.    1.    5. 1650.   18.  172.  155.    1.  169.    0.    0.]\n",
      " [  13.    0.  272.    0.    0.    5.    0.    0.    0.    0.   67.    0.    6.    1. 3027.    0.    0.    0.    0.    6.  474.    0.   10.    2.   26.    0.    0.]\n",
      " [  93.   10.    3.    0.    0.   28.    4.    0.   83.    1.  224.    0.  181.    3.   45. 2753.   25.    1.    2.  203.   27.    0.  129.   14.   71.    8.    1.]\n",
      " [ 108.    0.  551.    2.   34.   84.   15.    0.   55.   14.  309.    0.   63.   15.  915.   57.   21.    9.   17.   79.  737.    0.  641.   53.  129.    1.    0.]\n",
      " [  27.    4.    9.   90.  309.    3.   93.   21.  383.   62.   36.   21.   11.   45.   22.   25.   11. 2080.  248.   25.   13.   18.  198.   81.   71.    3.    0.]\n",
      " [   3.    3.    0.  638.  175.    0.  155.   10.  121.  374.    5.   37.   14.   89.    0.    7.    7.  222. 1529.   16.    6.    4.  260.  204.   26.    4.    0.]\n",
      " [  19.   44.   56.   15.    3.    1.   79.    0.   30.   38.  400.    1.   94.  114.   45.   14.   26.   27.   11. 1842.  107.    0.  648.   46.  248.    1.    0.]\n",
      " [  12.    0.   49.    0.    1.    4.    2.    0.    2.    2.   45.    0.   71.    5.   86.  274.   35.    0.    3.   86. 3161.    0.   12.   39.   10.   10.    0.]\n",
      " [   0.   26.    0.  131.    9.    0.  286.   56.   17.   59.    2.   36.    1.   20.    0.    1.    0.    5.   47.    2.    0. 3114.    1.   13.   81.    2.    0.]\n",
      " [  20.  245.   32.    8.    1.   20.   34.    2.  265.    8.  142.    1.  115.   30.   61.   91.   76.    2.   40.  181.  128.    1. 2034.   95.  252.   24.    1.]\n",
      " [   2.   15.    0.  160.    1.    0.  326.  229.  160.  248.    6.    3.   59.   17.    0.    4.    1.  114.  186.   11.    5.   73.   42. 2100.  147.    0.    0.]\n",
      " [  58.   80.  121.  136.    6.    5.  187.   30.   21.   85.  143.   32.   76.   14.   89.   10.   13.   21.   67.  131.   85.  135.  175.   91. 2046.   48.    4.]\n",
      " [  36.   57.   51.   11.    0.    1.    7.    3.   14.   34.  116.   10.   64.    1.   20.   26.   13.    2.   50.   27.   25.    1.   46.   19.  282.  995.    9.]\n",
      " [   8.   21.   10.    3.    0.    0.    1.    0.    8.   24.    9.    0.   12.    1.    0.    4.    1.    1.    8.    5.    3.    0.   35.    8.   99.   51.   34.]]\n"
     ]
    }
   ],
   "source": [
    "model = benchmark(\n",
    "    hybrid.Classifier(LENGTH // 4, mapping, \"cuda\", hybrid.T_DAE_hybrid_1),\n",
    "    \"Transformer / DAE\",\n",
    "    n_max_reads=8_000_000,\n",
    "    patience=20,\n",
    ")\n",
    "matrix = confusion_matrix(model, test_data, \"cuda\", mapping)\n",
    "plt.matshow(matrix)\n",
    "plt.show()\n",
    "np.set_printoptions(precision=3, suppress=True, linewidth=250)\n",
    "print(matrix)"
   ]
  },
  {
   "cell_type": "code",
   "execution_count": 4,
   "id": "48059ddc",
   "metadata": {},
   "outputs": [],
   "source": [
    "from sklearn.metrics import precision_score\n",
    "\n",
    "\n",
    "def rank_based_precision(\n",
    "        mappings: dict, target: list[int], predictions: list[int]\n",
    "        ) -> list[np.ndarray]:\n",
    "    \"\"\"Evaluate precision at multiple taxonomic ranks.\"\"\"\n",
    "    f = []\n",
    "    for mapping in mappings:\n",
    "        labels = list(set(mapping.values()))\n",
    "        normalized_target = [mapping[int(v)] for v in list(target)]\n",
    "        normalized_pred = [mapping[int(v)] for v in list(predictions)]\n",
    "        f.append(\n",
    "            precision_score(\n",
    "                normalized_target,\n",
    "                normalized_pred,\n",
    "                average=None,\n",
    "                labels=labels,\n",
    "                zero_division=0.0\n",
    "            )\n",
    "        )\n",
    "    return f\n",
    "\n",
    "\n",
    "def evaluate(classifier, loader, device, mapping, permute=True):\n",
    "    \"\"\"Evaluate the F1 score at different taxonomic levels.\"\"\"\n",
    "    mappings = models.obtain_rank_based_mappings(mapping)\n",
    "    ranks = []\n",
    "    n_batches = 0\n",
    "    with no_grad():\n",
    "        for x_batch, y_batch in loader:\n",
    "            x_batch = x_batch.type(float32).to(device)\n",
    "            if permute:\n",
    "                x_batch = x_batch.permute(0, 2, 1)  # Swap channels and sequence.\n",
    "            y_batch = y_batch.to(\"cpu\")\n",
    "            predictions = classifier.predict(x_batch)\n",
    "            ranks.append(rank_based_precision(mappings, y_batch, predictions))\n",
    "            n_batches += 1\n",
    "    collapsed_ranks = [np.zeros(len(r)) for r in ranks[0]]\n",
    "    for rank in ranks:\n",
    "        for i, result in enumerate(rank):\n",
    "            collapsed_ranks[i] += result\n",
    "    for i in range(len(collapsed_ranks)):\n",
    "        collapsed_ranks[i] = np.mean(collapsed_ranks[i])\n",
    "        collapsed_ranks[i] /= n_batches\n",
    "    collapsed_ranks = [r for r in reversed(collapsed_ranks)]\n",
    "    for i in range(len(collapsed_ranks) - 1):\n",
    "        assert collapsed_ranks[i] > collapsed_ranks[i + 1]\n",
    "    return collapsed_ranks"
   ]
  },
  {
   "cell_type": "code",
   "execution_count": null,
   "id": "9ae08703",
   "metadata": {},
   "outputs": [
    {
     "name": "stdout",
     "output_type": "stream",
     "text": [
      "[0.7372, 0.50223]\n"
     ]
    }
   ],
   "source": [
    "result = evaluate(model, test_data, \"cuda\", mapping, permute=False)\n",
    "rounded_result = [float(f\"{r:.5}\") for r in result]\n",
    "print(rounded_result)"
   ]
  },
  {
   "cell_type": "code",
   "execution_count": 3,
   "id": "0c5a8d57",
   "metadata": {},
   "outputs": [
    {
     "name": "stdout",
     "output_type": "stream",
     "text": [
      "Number of parameters: 2_408_386\n"
     ]
    },
    {
     "name": "stderr",
     "output_type": "stream",
     "text": [
      "  1%|          | 391/68609 [02:01<154:07:22,  8.13s/it]"
     ]
    },
    {
     "name": "stdout",
     "output_type": "stream",
     "text": [
      "N Reads: 50_048 Loss: 261.04. F1: [0.56094, 0.21786]. Patience: 20\n"
     ]
    },
    {
     "name": "stderr",
     "output_type": "stream",
     "text": [
      "  1%|          | 782/68609 [04:00<166:59:42,  8.86s/it]"
     ]
    },
    {
     "name": "stdout",
     "output_type": "stream",
     "text": [
      "N Reads: 100_096 Loss: 208.40. F1: [0.60297, 0.30613]. Patience: 20\n"
     ]
    },
    {
     "name": "stderr",
     "output_type": "stream",
     "text": [
      "  2%|▏         | 1173/68609 [06:20<230:18:12, 12.29s/it]"
     ]
    },
    {
     "name": "stdout",
     "output_type": "stream",
     "text": [
      "N Reads: 150_144 Loss: 196.55. F1: [0.63941, 0.36699]. Patience: 20\n"
     ]
    },
    {
     "name": "stderr",
     "output_type": "stream",
     "text": [
      "  2%|▏         | 1564/68609 [08:24<168:14:54,  9.03s/it]"
     ]
    },
    {
     "name": "stdout",
     "output_type": "stream",
     "text": [
      "N Reads: 200_192 Loss: 188.44. F1: [0.6394, 0.36304]. Patience: 19\n"
     ]
    },
    {
     "name": "stderr",
     "output_type": "stream",
     "text": [
      "  3%|▎         | 1955/68609 [10:57<265:25:19, 14.34s/it]"
     ]
    },
    {
     "name": "stdout",
     "output_type": "stream",
     "text": [
      "N Reads: 250_240 Loss: 181.56. F1: [0.6429, 0.39963]. Patience: 19\n"
     ]
    },
    {
     "name": "stderr",
     "output_type": "stream",
     "text": [
      "  3%|▎         | 2346/68609 [13:21<209:14:42, 11.37s/it]"
     ]
    },
    {
     "name": "stdout",
     "output_type": "stream",
     "text": [
      "N Reads: 300_288 Loss: 176.60. F1: [0.64669, 0.38472]. Patience: 18\n"
     ]
    },
    {
     "name": "stderr",
     "output_type": "stream",
     "text": [
      "  4%|▍         | 2737/68609 [15:29<169:51:12,  9.28s/it]"
     ]
    },
    {
     "name": "stdout",
     "output_type": "stream",
     "text": [
      "N Reads: 350_336 Loss: 171.15. F1: [0.65684, 0.42208]. Patience: 18\n"
     ]
    },
    {
     "name": "stderr",
     "output_type": "stream",
     "text": [
      "  5%|▍         | 3128/68609 [17:42<174:57:00,  9.62s/it]"
     ]
    },
    {
     "name": "stdout",
     "output_type": "stream",
     "text": [
      "N Reads: 400_384 Loss: 168.01. F1: [0.68155, 0.41586]. Patience: 17\n"
     ]
    },
    {
     "name": "stderr",
     "output_type": "stream",
     "text": [
      "  5%|▌         | 3519/68609 [19:47<160:11:59,  8.86s/it]"
     ]
    },
    {
     "name": "stdout",
     "output_type": "stream",
     "text": [
      "N Reads: 450_432 Loss: 166.17. F1: [0.66168, 0.41167]. Patience: 16\n"
     ]
    },
    {
     "name": "stderr",
     "output_type": "stream",
     "text": [
      "  6%|▌         | 3910/68609 [21:52<157:49:54,  8.78s/it]"
     ]
    },
    {
     "name": "stdout",
     "output_type": "stream",
     "text": [
      "N Reads: 500_480 Loss: 162.45. F1: [0.66656, 0.42255]. Patience: 16\n"
     ]
    },
    {
     "name": "stderr",
     "output_type": "stream",
     "text": [
      "  6%|▋         | 4301/68609 [23:56<155:29:11,  8.70s/it]"
     ]
    },
    {
     "name": "stdout",
     "output_type": "stream",
     "text": [
      "N Reads: 550_528 Loss: 160.58. F1: [0.66722, 0.39197]. Patience: 15\n"
     ]
    },
    {
     "name": "stderr",
     "output_type": "stream",
     "text": [
      "  7%|▋         | 4692/68609 [26:00<150:52:44,  8.50s/it]"
     ]
    },
    {
     "name": "stdout",
     "output_type": "stream",
     "text": [
      "N Reads: 600_576 Loss: 159.20. F1: [0.67683, 0.44219]. Patience: 15\n"
     ]
    },
    {
     "name": "stderr",
     "output_type": "stream",
     "text": [
      "  7%|▋         | 5083/68609 [28:04<151:54:00,  8.61s/it]"
     ]
    },
    {
     "name": "stdout",
     "output_type": "stream",
     "text": [
      "N Reads: 650_624 Loss: 157.06. F1: [0.68052, 0.46375]. Patience: 15\n"
     ]
    },
    {
     "name": "stderr",
     "output_type": "stream",
     "text": [
      "  8%|▊         | 5474/68609 [30:08<148:17:45,  8.46s/it]"
     ]
    },
    {
     "name": "stdout",
     "output_type": "stream",
     "text": [
      "N Reads: 700_672 Loss: 155.61. F1: [0.67579, 0.42537]. Patience: 14\n"
     ]
    },
    {
     "name": "stderr",
     "output_type": "stream",
     "text": [
      "  9%|▊         | 5865/68609 [32:11<146:33:13,  8.41s/it]"
     ]
    },
    {
     "name": "stdout",
     "output_type": "stream",
     "text": [
      "N Reads: 750_720 Loss: 153.95. F1: [0.6672, 0.43642]. Patience: 13\n"
     ]
    },
    {
     "name": "stderr",
     "output_type": "stream",
     "text": [
      "  9%|▉         | 6256/68609 [34:14<150:17:04,  8.68s/it]"
     ]
    },
    {
     "name": "stdout",
     "output_type": "stream",
     "text": [
      "N Reads: 800_768 Loss: 152.84. F1: [0.66687, 0.45396]. Patience: 12\n"
     ]
    },
    {
     "name": "stderr",
     "output_type": "stream",
     "text": [
      " 10%|▉         | 6647/68609 [36:18<144:40:24,  8.41s/it]"
     ]
    },
    {
     "name": "stdout",
     "output_type": "stream",
     "text": [
      "N Reads: 850_816 Loss: 151.14. F1: [0.68684, 0.44054]. Patience: 11\n"
     ]
    },
    {
     "name": "stderr",
     "output_type": "stream",
     "text": [
      " 10%|█         | 7038/68609 [38:21<144:03:14,  8.42s/it]"
     ]
    },
    {
     "name": "stdout",
     "output_type": "stream",
     "text": [
      "N Reads: 900_864 Loss: 150.34. F1: [0.67438, 0.46429]. Patience: 11\n"
     ]
    },
    {
     "name": "stderr",
     "output_type": "stream",
     "text": [
      " 11%|█         | 7429/68609 [40:25<142:32:06,  8.39s/it]"
     ]
    },
    {
     "name": "stdout",
     "output_type": "stream",
     "text": [
      "N Reads: 950_912 Loss: 149.83. F1: [0.67757, 0.45761]. Patience: 10\n"
     ]
    },
    {
     "name": "stderr",
     "output_type": "stream",
     "text": [
      " 11%|█▏        | 7820/68609 [42:28<143:58:38,  8.53s/it]"
     ]
    },
    {
     "name": "stdout",
     "output_type": "stream",
     "text": [
      "N Reads: 1_000_960 Loss: 148.46. F1: [0.67976, 0.472]. Patience: 10\n"
     ]
    },
    {
     "name": "stderr",
     "output_type": "stream",
     "text": [
      " 12%|█▏        | 8211/68609 [44:31<140:33:01,  8.38s/it]"
     ]
    },
    {
     "name": "stdout",
     "output_type": "stream",
     "text": [
      "N Reads: 1_051_008 Loss: 147.98. F1: [0.69206, 0.47139]. Patience: 9\n"
     ]
    },
    {
     "name": "stderr",
     "output_type": "stream",
     "text": [
      " 13%|█▎        | 8602/68609 [46:34<138:47:02,  8.33s/it]"
     ]
    },
    {
     "name": "stdout",
     "output_type": "stream",
     "text": [
      "N Reads: 1_101_056 Loss: 146.93. F1: [0.67068, 0.44611]. Patience: 8\n"
     ]
    },
    {
     "name": "stderr",
     "output_type": "stream",
     "text": [
      " 13%|█▎        | 8993/68609 [48:41<142:10:41,  8.59s/it]"
     ]
    },
    {
     "name": "stdout",
     "output_type": "stream",
     "text": [
      "N Reads: 1_151_104 Loss: 147.35. F1: [0.69233, 0.43901]. Patience: 7\n"
     ]
    },
    {
     "name": "stderr",
     "output_type": "stream",
     "text": [
      " 14%|█▎        | 9384/68609 [50:47<139:27:01,  8.48s/it]"
     ]
    },
    {
     "name": "stdout",
     "output_type": "stream",
     "text": [
      "N Reads: 1_201_152 Loss: 146.36. F1: [0.68808, 0.46554]. Patience: 6\n"
     ]
    },
    {
     "name": "stderr",
     "output_type": "stream",
     "text": [
      " 14%|█▍        | 9775/68609 [52:54<140:25:36,  8.59s/it]"
     ]
    },
    {
     "name": "stdout",
     "output_type": "stream",
     "text": [
      "N Reads: 1_251_200 Loss: 144.35. F1: [0.69436, 0.43562]. Patience: 5\n"
     ]
    },
    {
     "name": "stderr",
     "output_type": "stream",
     "text": [
      " 15%|█▍        | 10166/68609 [55:02<140:38:00,  8.66s/it]"
     ]
    },
    {
     "name": "stdout",
     "output_type": "stream",
     "text": [
      "N Reads: 1_301_248 Loss: 143.44. F1: [0.68751, 0.46024]. Patience: 4\n"
     ]
    },
    {
     "name": "stderr",
     "output_type": "stream",
     "text": [
      " 15%|█▌        | 10557/68609 [57:10<138:18:12,  8.58s/it]"
     ]
    },
    {
     "name": "stdout",
     "output_type": "stream",
     "text": [
      "N Reads: 1_351_296 Loss: 143.32. F1: [0.68408, 0.48089]. Patience: 4\n"
     ]
    },
    {
     "name": "stderr",
     "output_type": "stream",
     "text": [
      " 16%|█▌        | 10948/68609 [59:18<135:58:15,  8.49s/it]"
     ]
    },
    {
     "name": "stdout",
     "output_type": "stream",
     "text": [
      "N Reads: 1_401_344 Loss: 143.26. F1: [0.68914, 0.46639]. Patience: 3\n"
     ]
    },
    {
     "name": "stderr",
     "output_type": "stream",
     "text": [
      " 17%|█▋        | 11339/68609 [1:01:24<133:54:37,  8.42s/it]"
     ]
    },
    {
     "name": "stdout",
     "output_type": "stream",
     "text": [
      "N Reads: 1_451_392 Loss: 142.03. F1: [0.70211, 0.48009]. Patience: 2\n"
     ]
    },
    {
     "name": "stderr",
     "output_type": "stream",
     "text": [
      " 17%|█▋        | 11730/68609 [1:03:29<132:39:30,  8.40s/it]"
     ]
    },
    {
     "name": "stdout",
     "output_type": "stream",
     "text": [
      "N Reads: 1_501_440 Loss: 141.10. F1: [0.68501, 0.45572]. Patience: 1\n"
     ]
    },
    {
     "name": "stderr",
     "output_type": "stream",
     "text": [
      " 18%|█▊        | 12120/68609 [1:05:59<5:07:34,  3.06it/s]  "
     ]
    },
    {
     "name": "stdout",
     "output_type": "stream",
     "text": [
      "N Reads: 1_551_488 Loss: 141.11. F1: [0.69215, 0.4779]. Patience: 0\n",
      "The model is overfitting; stopping early.\n",
      "Processed 1_551_488 reads.\n",
      "Training took 3959.616 s.\n"
     ]
    },
    {
     "name": "stderr",
     "output_type": "stream",
     "text": [
      "\n"
     ]
    },
    {
     "data": {
      "image/png": "[encoded data removed]",
      "text/plain": [
       "<Figure size 1200x400 with 2 Axes>"
      ]
     },
     "metadata": {},
     "output_type": "display_data"
    },
    {
     "name": "stdout",
     "output_type": "stream",
     "text": [
      "Test results: [0.70512, 0.47433]\n"
     ]
    },
    {
     "data": {
      "image/png": "[encoded data removed]",
      "text/plain": [
       "<Figure size 480x480 with 1 Axes>"
      ]
     },
     "metadata": {},
     "output_type": "display_data"
    },
    {
     "name": "stdout",
     "output_type": "stream",
     "text": [
      "[[2620.   11.  413.    1.    0.    6.    4.    5.   20.    5.   76.   17.   84.    0.   77.   27.    4.    0.    0.   85.  163.   12.   11.   34.  162.   81.    0.]\n",
      " [ 289. 1481.  141.    6.    9.   27.   41.   24. 1026.   45.  169.    2.    5.   44.    9.   10.   28.   32.    5.   57.   42.   17.  130.   49.  188.   33.    0.]\n",
      " [ 159.  266. 1634.    0.    2.   80.    0.    0.  217.    3.   59.    4.    2.    0.  304.    2.  108.    7.    0.   40.  128.    0.   63.    2.  648.  180.    1.]\n",
      " [   4.   24.    1. 2151.   19.    0.  144.   27.   68.  347.    9.   24.    8.   72.    0.    0.    4.  110.  399.   17.    6.  128.  132.  102.  108.    5.    0.]\n",
      " [   6.   43.    1.   73.  809.    1.  125.   33. 1131.   65.   21.   49.   24.  144.    0.    8.  117.  458.  481.   27.   25.   56.  107.   53.   46.    6.    0.]\n",
      " [  80.    0.   17.    0.    8. 2123.    3.    0.    7.    0.   56.    0.    1.    0.   34.   66.   11.    0.    0.  310. 1061.    0.   27.   33.   72.    0.    0.]\n",
      " [   1.  110.    0.   51.   10.    0. 2852.    1.   20.   35.   52.    3.   55.    8.    0.    6.    8.    5.  283.    8.   15.    5.  106.  187.   73.   15.    0.]\n",
      " [   3.   26.    0.   16.    1.    0.   70. 3054.   30.   39.    0.   38.    0.   22.    0.    0.    0.   11.   49.    0.    0.  233.    2.  312.    3.    0.    0.]\n",
      " [   2.    3.    0.    8.    1.    2.    2.    5. 3633.    3.    8.    0.    3.    8.    0.    2.   29.   17.   10.   16.    5.    2.  103.   25.   22.    0.    0.]\n",
      " [  60.    2.    0.   45.   54.    2.   12.   34.  133. 2049.    4.  430.  151.   22.    0.   12.    6.   45.   96.   74.    7.   43.   35.  529.   53.   11.    0.]\n",
      " [   8.   11.  121.    0.    4.  180.    6.    0.  241.    1. 2538.    1.   33.   47.   90.   71.   41.    5.    5.  350.   15.    0.   98.    7.   33.    3.    0.]\n",
      " [   2.  123.    0.  109.    1.    0.  174. 1379.   99.   58.    0.  858.    1.  139.    0.    1.    5.   65.  125.    1.    0.  518.   11.  118.  120.    2.    0.]\n",
      " [  25.    0.   24.    5.   11.    2.   18.    0.   27.   59.   17.  182. 2916.   16.    6.   36.   11.   10.   42.  100.    6.   11.   72.  256.   44.   13.    0.]\n",
      " [   6.   25.  458.    2.    0.   29.   13.  184.   13.   14.  199.   11.   38.  162.   57.   10.  124.    2.    5. 2258.   16.  161.   23.   23.   75.    1.    0.]\n",
      " [  29.    0.  370.    0.    1.  371.    0.    0.    0.    0.   27.    0.    3.    0. 2905.    2.    1.    0.    0.    6.  148.    0.    6.    2.   38.    0.    0.]\n",
      " [ 184.    9.   15.    0.    1.  149.    5.    0.  444.    3.   89.    0.  165.    1.   29. 2336.   21.    3.    0.  179.   22.    0.  116.   25.   94.   18.    1.]\n",
      " [ 165.    1.  711.    1.   26.  352.    5.    0.   55.    6.  151.    3.   44.    7.  872.   33.   83.   22.   11.   83.  351.    0.  746.   67.  111.    3.    0.]\n",
      " [  21.    2.   19.   52.  224.    1.   73.   27.  409.   18.   18.   19.   13.   55.   10.    6.   22. 2219.  285.   13.    7.   23.  143.  153.   67.   10.    0.]\n",
      " [   3.    5.    0.  285.  120.    0.  142.    6.  137.  128.    4.   96.   21.   78.    1.    5.   24.  198. 2044.   19.   14.   13.  232.  296.   35.    3.    0.]\n",
      " [  52.   15.  114.   10.    7.   36.   30.    0.  175.   15.  171.    5.   61.   79.   62.   10.   60.   46.    3. 2041.   75.    3.  415.  124.  290.   10.    0.]\n",
      " [  28.    0.   60.    0.    0.   29.    3.    0.   13.    5.   25.    4.  134.   10.   85.  481.   38.    2.    2.   54. 2749.    0.   14.  105.   25.   43.    0.]\n",
      " [   4.   33.    0.   48.    2.    0.  331.  119.   24.   55.    2.   47.    0.   54.    0.    1.    0.    7.   44.    0.    0. 2951.    1.  101.   84.    1.    0.]\n",
      " [  26.  147.   97.    3.    1.   48.   34.    0.  276.    2.  108.    1.  107.   34.   80.  105.  137.    4.   50.  220.  136.    3. 1705.  136.  417.   31.    1.]\n",
      " [   5.   32.    3.   73.    3.    0.  190.  189.  181.   88.    1.    2.   60.   25.    0.    0.    5.   58.  272.    6.    7.   51.   36. 2529.   89.    4.    0.]\n",
      " [  85.   85.  143.   37.    7.   15.  125.   53.   55.   56.   65.   24.   34.   34.   96.    8.    3.   27.   33.  119.   31.  207.  141.  142. 2184.   99.    1.]\n",
      " [  65.   36.   43.    4.    0.    5.   12.    2.   23.   20.   55.   11.   37.    4.   12.   13.   11.    1.   21.   23.   18.   18.   36.   23.  262. 1160.    5.]\n",
      " [  20.    4.   11.    1.    1.    1.    5.    0.   15.    7.    2.    0.    8.    1.    2.    1.    0.    1.    3.    5.    1.    0.   32.   15.   87.  101.   22.]]\n"
     ]
    },
    {
     "ename": "NameError",
     "evalue": "name 'evaluate' is not defined",
     "output_type": "error",
     "traceback": [
      "\u001b[1;31m---------------------------------------------------------------------------\u001b[0m",
      "\u001b[1;31mNameError\u001b[0m                                 Traceback (most recent call last)",
      "Cell \u001b[1;32mIn[3], line 12\u001b[0m\n\u001b[0;32m     10\u001b[0m np\u001b[38;5;241m.\u001b[39mset_printoptions(precision\u001b[38;5;241m=\u001b[39m\u001b[38;5;241m3\u001b[39m, suppress\u001b[38;5;241m=\u001b[39m\u001b[38;5;28;01mTrue\u001b[39;00m, linewidth\u001b[38;5;241m=\u001b[39m\u001b[38;5;241m250\u001b[39m)\n\u001b[0;32m     11\u001b[0m \u001b[38;5;28mprint\u001b[39m(matrix)\n\u001b[1;32m---> 12\u001b[0m result \u001b[38;5;241m=\u001b[39m \u001b[43mevaluate\u001b[49m(model, test_data, \u001b[38;5;124m\"\u001b[39m\u001b[38;5;124mcuda\u001b[39m\u001b[38;5;124m\"\u001b[39m, mapping, permute\u001b[38;5;241m=\u001b[39m\u001b[38;5;28;01mFalse\u001b[39;00m)\n\u001b[0;32m     13\u001b[0m rounded_result \u001b[38;5;241m=\u001b[39m [\u001b[38;5;28mfloat\u001b[39m(\u001b[38;5;124mf\u001b[39m\u001b[38;5;124m\"\u001b[39m\u001b[38;5;132;01m{\u001b[39;00mr\u001b[38;5;132;01m:\u001b[39;00m\u001b[38;5;124m.5\u001b[39m\u001b[38;5;132;01m}\u001b[39;00m\u001b[38;5;124m\"\u001b[39m) \u001b[38;5;28;01mfor\u001b[39;00m r \u001b[38;5;129;01min\u001b[39;00m result]\n",
      "\u001b[1;31mNameError\u001b[0m: name 'evaluate' is not defined"
     ]
    }
   ],
   "source": [
    "model = benchmark(\n",
    "    hybrid.Classifier(LENGTH // 4, mapping, \"cuda\", hybrid.T_DAE_hybrid_2),\n",
    "    \"Transformer / DAE 2\",\n",
    "    n_max_reads=8_000_000,\n",
    "    patience=20,\n",
    ")\n",
    "matrix = confusion_matrix(model, test_data, \"cuda\", mapping)\n",
    "plt.matshow(matrix)\n",
    "plt.show()\n",
    "np.set_printoptions(precision=3, suppress=True, linewidth=250)\n",
    "print(matrix)\n",
    "result = evaluate(model, test_data, \"cuda\", mapping, permute=False)\n",
    "rounded_result = [float(f\"{r:.5}\") for r in result]"
   ]
  },
  {
   "cell_type": "code",
   "execution_count": 5,
   "id": "7cc6098a",
   "metadata": {},
   "outputs": [],
   "source": [
    "result = evaluate(model, test_data, \"cuda\", mapping, permute=False)\n",
    "rounded_result = [float(f\"{r:.5}\") for r in result]"
   ]
  },
  {
   "cell_type": "code",
   "execution_count": 6,
   "id": "8099e90e",
   "metadata": {},
   "outputs": [
    {
     "name": "stdout",
     "output_type": "stream",
     "text": [
      "[0.70726, 0.50088]\n"
     ]
    }
   ],
   "source": [
    "print(rounded_result)"
   ]
  }
 ],
 "metadata": {
  "kernelspec": {
   "display_name": "venv (3.11.2)",
   "language": "python",
   "name": "python3"
  },
  "language_info": {
   "codemirror_mode": {
    "name": "ipython",
    "version": 3
   },
   "file_extension": ".py",
   "mimetype": "text/x-python",
   "name": "python",
   "nbconvert_exporter": "python",
   "pygments_lexer": "ipython3",
   "version": "3.11.2"
  }
 },
 "nbformat": 4,
 "nbformat_minor": 5
}
