{
 "cells": [
  {
   "cell_type": "markdown",
   "id": "cbceb7a1",
   "metadata": {},
   "source": [
    "# Metagenomic Read Classification\n",
    "\n",
    "This notebook shows how to predict the taxonomy of metagenomic reads.\n",
    "\n",
    "IMPORTANT: This notebook uses data curated by BerTax (https://www.biorxiv.org/content/10.1101/2021.07.09.451778v1.full.pdf)\n",
    "to facilitate comparison with other metagenomic classification tools. You can download the following\n",
    "data at https://osf.io/qg6mv/:\n",
    "\n",
    "- `pretraining_dataset.zip`: used to pretrain NLP-based models.\n",
    "- `final_model_dataset.zip`: training and evaluation dataset for all models."
   ]
  },
  {
   "cell_type": "code",
   "execution_count": 1,
   "id": "62910c8f",
   "metadata": {},
   "outputs": [
    {
     "name": "stdout",
     "output_type": "stream",
     "text": [
      "Defining values to parametrize the rest of the notebook.\n"
     ]
    }
   ],
   "source": [
    "print(\"Defining values to parametrize the rest of the notebook.\")\n",
    "# Select the directory in which to store all data.\n",
    "DATA_DIRECTORY = \"../data/\"\n",
    "\n",
    "# Modify this filepath to the instalation location of the final bertax dataset.\n",
    "BERTAX_DIRECTORY = DATA_DIRECTORY + \"bertax/final/\"\n",
    "\n",
    "# Modify this filepath to the instalation location of the pretraining bertax dataset.\n",
    "PRETRAINING_DATA = DATA_DIRECTORY + \"bertax/pretraining/\"\n",
    "\n",
    "BERTAX_N_TEST_READ_PER_TAXON = 2000\n",
    "\n",
    "# The BERTax paper uses 10 000 reads, but this results in a different amount of taxonomic groups\n",
    "# when using the latest NCBI taxonomy. Using 9800 reads solves this issue.\n",
    "GENUS_MINIMUM_N_READS_PER_TAXON = 9_836\n",
    "\n",
    "# The BERTax paper uses 10 000 reads, but this results in a different amount of taxonomic groups\n",
    "# when using the latest NCBI taxonomy. Using 16800 reads solves this issue.\n",
    "PHYLUM_MINIMUM_N_READS_PER_TAXON = 16800\n",
    "\n",
    "BERTAX_READ_LENGTH = 1500\n",
    "\n",
    "BERTAX_VERSION_1 = BERTAX_DIRECTORY + \"version1/\"\n",
    "BERTAX_PHYLUM = BERTAX_VERSION_1 + \"phylum/\"\n",
    "BERTAX_GENUS = BERTAX_VERSION_1 + \"genus/\"\n",
    "NCBI_TAXONOMY_DIRECTORY = DATA_DIRECTORY + \"ncbi_taxonomy/\"\n",
    "PROCESSED_PRETRAINING_DATA = PRETRAINING_DATA + \"processed/\"\n",
    "BERTAX_DATASET_DIRECTORY = BERTAX_DIRECTORY + \"final_model_data_seperate_fasta_per_superkingdom/data/fass2/projects/fk_read_classification/dna_sequences/fragments/genomic_fragments_80_big/\"\n",
    "BERTAX_DOMAINS = (\n",
    "    \"Archaea_db.fa\",\n",
    "    \"Bacteria_db.fa\",\n",
    "    \"Eukaryota_db.fa\",\n",
    "    \"Viruses_db.fa\",\n",
    ")\n",
    "BERTAX_STATISTIC_DIRECTORY = BERTAX_VERSION_1 + \"statistics/\"\n",
    "BERTAX_MODELS = BERTAX_VERSION_1 + \"models/\""
   ]
  },
  {
   "cell_type": "code",
   "execution_count": 3,
   "id": "f0a97404",
   "metadata": {},
   "outputs": [
    {
     "name": "stdout",
     "output_type": "stream",
     "text": [
      "Defining utility functions.\n"
     ]
    }
   ],
   "source": [
    "print(\"Defining utility functions.\")\n",
    "import os\n",
    "import json\n",
    "import random\n",
    "from stelaro.data import (\n",
    "    ncbi,\n",
    "    format,\n",
    "    get_mappings,\n",
    ")\n",
    "from tqdm import tqdm\n",
    "import numpy as np\n",
    "\n",
    "def mkdir(path: str) -> None:\n",
    "    \"\"\"Create a directory if it does not exist.\"\"\"\n",
    "    if not os.path.exists(path):\n",
    "        os.makedirs(path)"
   ]
  },
  {
   "cell_type": "code",
   "execution_count": 3,
   "id": "7533f7dd",
   "metadata": {},
   "outputs": [
    {
     "name": "stdout",
     "output_type": "stream",
     "text": [
      "Configuring the environment.\n"
     ]
    }
   ],
   "source": [
    "print(\"Configuring the environment.\")\n",
    "mkdir(DATA_DIRECTORY)\n",
    "mkdir(NCBI_TAXONOMY_DIRECTORY)\n",
    "mkdir(PROCESSED_PRETRAINING_DATA)\n",
    "mkdir(BERTAX_VERSION_1)\n",
    "mkdir(BERTAX_STATISTIC_DIRECTORY)\n",
    "mkdir(BERTAX_PHYLUM)\n",
    "mkdir(BERTAX_GENUS)\n",
    "mkdir(BERTAX_MODELS)"
   ]
  },
  {
   "cell_type": "markdown",
   "id": "e5237942",
   "metadata": {},
   "source": [
    "## 1. Obtain Data"
   ]
  },
  {
   "cell_type": "code",
   "execution_count": null,
   "id": "43aa9cbd",
   "metadata": {},
   "outputs": [],
   "source": [
    "ncbi.install_taxonomy(NCBI_TAXONOMY_DIRECTORY)"
   ]
  },
  {
   "cell_type": "code",
   "execution_count": 4,
   "id": "8b5f4dc2",
   "metadata": {},
   "outputs": [
    {
     "name": "stdout",
     "output_type": "stream",
     "text": [
      "Inspecting file Archaea_db.fa.\n",
      "Inspecting file Bacteria_db.fa.\n",
      "Inspecting file Eukaryota_db.fa.\n",
      "Inspecting file Viruses_db.fa.\n",
      "Out of 5399920 reads, found 5837 taxonomic identifiers.\n",
      "Retrieving names from taxonomic identifiers.\n",
      "Found 2677441 in total.\n",
      "Resolving the taxonomy.\n",
      "Taxon 621376 is nameless.\n",
      "Taxon 11232 is nameless.\n",
      "Taxon 55096 is nameless.\n",
      "Taxon 2202142 is nameless.\n",
      "Taxon 45223 is nameless.\n",
      "Taxon 1740163 is nameless.\n",
      "Taxon 66266 is nameless.\n",
      "Taxon 319236 is nameless.\n",
      "Taxon 640511 is nameless.\n",
      "Taxon 45219 is nameless.\n",
      "Taxon 559189 is nameless.\n",
      "Taxon 1980463 is nameless.\n",
      "Taxon 207246 is nameless.\n",
      "Taxon 1980481 is nameless.\n",
      "Taxon 303300 is nameless.\n",
      "Taxon 1204252 is nameless.\n",
      "Taxon 11191 is nameless.\n",
      "Taxon 1385592 is nameless.\n",
      "Taxon 1980489 is nameless.\n",
      "Taxon 237610 is nameless.\n",
      "Taxon 335659 is nameless.\n",
      "Taxon 11631 is nameless.\n",
      "Taxon 1980486 is nameless.\n",
      "Taxon 49891 is nameless.\n",
      "Taxon 740710 is nameless.\n",
      "Taxon 68570 is nameless.\n",
      "Taxon 11628 is nameless.\n",
      "Taxon 1980521 is nameless.\n",
      "Taxon 35302 is nameless.\n",
      "Taxon 239365 is nameless.\n",
      "Taxon 1849491 is nameless.\n",
      "Taxon 262071 is nameless.\n",
      "Taxon 1114980 is nameless.\n",
      "Taxon 1490026 is nameless.\n",
      "Taxon 1933300 is nameless.\n",
      "Taxon 2487073 is nameless.\n",
      "Taxon 11623 is nameless.\n",
      "Taxon 82076 is nameless.\n",
      "Taxon 1357321 is nameless.\n",
      "Taxon 1980467 is nameless.\n",
      "Taxon 1979163 is nameless.\n",
      "Taxon 1980527 is nameless.\n",
      "Taxon 122203 is nameless.\n",
      "Taxon 758796 is nameless.\n",
      "Taxon 53179 is nameless.\n",
      "Taxon 1933298 is nameless.\n",
      "Taxon 1642458 is nameless.\n",
      "Taxon 2169992 is nameless.\n",
      "Taxon 671223 is nameless.\n",
      "Taxon 649188 is nameless.\n",
      "Taxon 55097 is nameless.\n",
      "Taxon 90270 is nameless.\n",
      "Taxon 2169994 is nameless.\n",
      "Taxon 287094 is nameless.\n",
      "Taxon 1673076 is nameless.\n",
      "Taxon 1980520 is nameless.\n",
      "Taxon 46919 is nameless.\n",
      "Taxon 2044517 is nameless.\n",
      "Taxon 121791 is nameless.\n",
      "Taxon 45221 is nameless.\n",
      "Taxon 1804984 is nameless.\n",
      "Taxon 580247 is nameless.\n",
      "Taxon 31604 is nameless.\n",
      "Taxon 1570328 is nameless.\n",
      "Taxon 1513237 is nameless.\n",
      "Taxon 1979166 is nameless.\n",
      "Taxon 1653479 is nameless.\n",
      "Taxon 1980471 is nameless.\n",
      "Taxon 12332 is nameless.\n",
      "Taxon 1759437 is nameless.\n",
      "Taxon 1211643 is nameless.\n",
      "Taxon 63330 is nameless.\n",
      "Taxon 2487071 is nameless.\n",
      "Taxon 1980612 is nameless.\n",
      "Taxon 861208 is nameless.\n",
      "Taxon 1547445 is nameless.\n",
      "Taxon 2546450 is nameless.\n",
      "Taxon 1156433 is nameless.\n",
      "Taxon 1415630 is nameless.\n",
      "Taxon 11215 is nameless.\n",
      "Taxon 1978339 is nameless.\n",
      "Taxon 386490 is nameless.\n",
      "Taxon 85643 is nameless.\n",
      "Taxon 1979162 is nameless.\n",
      "Taxon 1980519 is nameless.\n",
      "Taxon 1547899 is nameless.\n",
      "Taxon 35310 is nameless.\n",
      "Taxon 2478912 is nameless.\n",
      "Taxon 2169993 is nameless.\n",
      "Taxon 1588685 is nameless.\n",
      "Taxon 623144 is nameless.\n",
      "Taxon 743685 is nameless.\n",
      "Taxon 45220 is nameless.\n",
      "Taxon 1660064 is nameless.\n",
      "Taxon 35306 is nameless.\n",
      "Taxon 220622 is nameless.\n",
      "Taxon 11620 is nameless.\n",
      "Taxon 1980490 is nameless.\n",
      "Taxon 1980494 is nameless.\n",
      "Taxon 1637841 is nameless.\n",
      "Taxon 12331 is nameless.\n",
      "Taxon 1740162 is nameless.\n",
      "Taxon 1642436 is nameless.\n",
      "Taxon 1305716 is nameless.\n",
      "Taxon 2169402 is nameless.\n",
      "Taxon 1980475 is nameless.\n",
      "Taxon 2213057 is nameless.\n",
      "Taxon 208899 is nameless.\n",
      "Taxon 192848 is nameless.\n",
      "Taxon 1660074 is nameless.\n",
      "Taxon 1986224 is nameless.\n",
      "Taxon 1500843 is nameless.\n",
      "Taxon 741091 is nameless.\n",
      "Taxon 1182571 is nameless.\n",
      "Taxon 1535802 is nameless.\n",
      "Taxon 2528243 is nameless.\n",
      "Taxon 1827146 is nameless.\n",
      "Taxon 1301032 is nameless.\n",
      "Taxon 2052837 is nameless.\n",
      "Taxon 1546149 is nameless.\n",
      "Taxon 2049935 is nameless.\n",
      "Taxon 1979165 is nameless.\n",
      "Taxon 11269 is nameless.\n",
      "Taxon 622416 is nameless.\n",
      "Taxon 656024 is nameless.\n",
      "Taxon 1980491 is nameless.\n",
      "Taxon 1561226 is nameless.\n",
      "Taxon 157619 is nameless.\n",
      "Taxon 42764 is nameless.\n",
      "Taxon 1751715 is nameless.\n",
      "Taxon 883876 is nameless.\n",
      "Taxon 1980539 is nameless.\n",
      "Taxon 1109743 is nameless.\n",
      "Taxon 499556 is nameless.\n",
      "Taxon 1980464 is nameless.\n",
      "Taxon 218387 is nameless.\n",
      "Taxon 2169996 is nameless.\n",
      "Taxon 62928 is nameless.\n",
      "Taxon 1979160 is nameless.\n",
      "Taxon 340435 is nameless.\n"
     ]
    }
   ],
   "source": [
    "tax_ids = set()\n",
    "n_reads = 0\n",
    "for domain in BERTAX_DOMAINS:\n",
    "    print(f\"Inspecting file {domain}.\")\n",
    "    with open(BERTAX_DATASET_DIRECTORY + domain, \"r\") as f:\n",
    "        for line in f:\n",
    "            if line.startswith(\">\"):\n",
    "                tax_id = line.strip()\n",
    "                tax_id = tax_id.replace(\">\", \"\")\n",
    "                tax_id = tax_id.split(\" \")[0]\n",
    "                tax_ids.add(tax_id)\n",
    "                n_reads += 1\n",
    "print(f\"Out of {n_reads} reads, found {len(tax_ids)} taxonomic identifiers.\")\n",
    "parents, ranks = ncbi.get_all_taxonomy_parents(\n",
    "    NCBI_TAXONOMY_DIRECTORY + \"nodes.dmp\",\n",
    "    NCBI_TAXONOMY_DIRECTORY + \"merged.dmp\",\n",
    ")\n",
    "print(\"Retrieving names from taxonomic identifiers.\")\n",
    "names = ncbi.taxid_to_names(NCBI_TAXONOMY_DIRECTORY + \"names.dmp\", set(parents.keys()))\n",
    "print(f\"Found {len(names)} in total.\")\n",
    "print(\"Resolving the taxonomy.\")\n",
    "lineages = ncbi.resolve_taxonomy(parents, ranks, tax_ids, names)"
   ]
  },
  {
   "cell_type": "code",
   "execution_count": 5,
   "id": "d5a4005e",
   "metadata": {},
   "outputs": [
    {
     "name": "stdout",
     "output_type": "stream",
     "text": [
      "Mapped 5423 / 5837 taxonomic identifiers.\n",
      "Grouped taxonomic identifiers into 1908 taxa.\n"
     ]
    }
   ],
   "source": [
    "taxa = get_mappings(tax_ids, (0, 1, 5), lineages)\n",
    "print(f\"Grouped taxonomic identifiers into {len(taxa)} taxa.\")"
   ]
  },
  {
   "cell_type": "code",
   "execution_count": 6,
   "id": "aa9911ee",
   "metadata": {},
   "outputs": [
    {
     "name": "stdout",
     "output_type": "stream",
     "text": [
      "Inspecting file Archaea_db.fa.\n",
      "Inspecting file Bacteria_db.fa.\n",
      "Inspecting file Eukaryota_db.fa.\n",
      "Inspecting file Viruses_db.fa.\n"
     ]
    }
   ],
   "source": [
    "counts = {key: 0 for key in taxa}\n",
    "lookup_table = {}\n",
    "for taxon, identifiers in taxa.items():\n",
    "    for identifier in identifiers:\n",
    "        if identifier in lookup_table:\n",
    "            raise RuntimeError(f\"`{identifier} duplicated.\")\n",
    "        lookup_table[identifier] = taxon\n",
    "\n",
    "for domain in BERTAX_DOMAINS:\n",
    "    print(f\"Inspecting file {domain}.\")\n",
    "    with open(BERTAX_DATASET_DIRECTORY + domain, \"r\") as f:\n",
    "        current_taxon = None\n",
    "        for line in f:\n",
    "            if line.startswith(\">\"):\n",
    "                tax_id = line.strip()\n",
    "                tax_id = tax_id.replace(\">\", \"\")\n",
    "                tax_id = tax_id.split(\" \")[0]\n",
    "                if tax_id in lookup_table:\n",
    "                    taxon = lookup_table[tax_id]\n",
    "                    counts[taxon] += 1"
   ]
  },
  {
   "cell_type": "code",
   "execution_count": 7,
   "id": "3a4e812e",
   "metadata": {},
   "outputs": [],
   "source": [
    "groupings = []\n",
    "for level in range(len(list(counts.keys())[0])):\n",
    "    grouping = {}\n",
    "    for taxon, read_count in counts.items():\n",
    "        taxon_level = taxon[:level + 1]\n",
    "        if taxon_level in grouping:\n",
    "            grouping[taxon_level] += read_count\n",
    "        else:\n",
    "            grouping[taxon_level] = read_count\n",
    "    groupings.append(grouping)"
   ]
  },
  {
   "cell_type": "code",
   "execution_count": 8,
   "id": "02e10b2e",
   "metadata": {},
   "outputs": [],
   "source": [
    "def select_groups(grouping, cutoff) -> dict:\n",
    "    selected_grouping = {(\"unknown\", ): 0}\n",
    "    for taxon, read_count in grouping.items():\n",
    "        if read_count >= cutoff:\n",
    "            selected_grouping[taxon] = read_count\n",
    "        else:\n",
    "            selected_grouping[(\"unknown\", )] += read_count\n",
    "    return selected_grouping\n",
    "\n",
    "\n",
    "domain_grouping = select_groups(groupings[0], 0)\n",
    "phylum_grouping = select_groups(groupings[1], PHYLUM_MINIMUM_N_READS_PER_TAXON)\n",
    "genus_grouping = select_groups(groupings[2], GENUS_MINIMUM_N_READS_PER_TAXON)"
   ]
  },
  {
   "cell_type": "code",
   "execution_count": 9,
   "id": "7b441a51",
   "metadata": {},
   "outputs": [],
   "source": [
    "def write_indices(grouping, level, dst) -> None:\n",
    "    index = {}\n",
    "    for taxon in sorted(grouping):\n",
    "        index[len(index)] = list(taxon)\n",
    "    with open(dst + level + \"_indices.json\", \"w\") as file:\n",
    "        json.dump(index, file, indent=4)\n",
    "    counts = {}\n",
    "    for taxon in sorted(grouping):\n",
    "        counts[str(taxon)] = grouping[taxon]\n",
    "    with open(dst + level + \"_counts.json\", \"w\") as file:\n",
    "        json.dump(counts, file, indent=4)\n",
    "\n",
    "write_indices(domain_grouping, \"domain\", BERTAX_STATISTIC_DIRECTORY)\n",
    "write_indices(phylum_grouping, \"phylum\", BERTAX_STATISTIC_DIRECTORY)\n",
    "write_indices(genus_grouping, \"genus\", BERTAX_STATISTIC_DIRECTORY)"
   ]
  },
  {
   "cell_type": "code",
   "execution_count": 10,
   "id": "970f4b3a",
   "metadata": {},
   "outputs": [
    {
     "data": {
      "image/png": "[encoded data removed]",
      "text/plain": [
       "<Figure size 800x400 with 1 Axes>"
      ]
     },
     "metadata": {},
     "output_type": "display_data"
    },
    {
     "data": {
      "image/png": "[encoded data removed]",
      "text/plain": [
       "<Figure size 800x400 with 1 Axes>"
      ]
     },
     "metadata": {},
     "output_type": "display_data"
    },
    {
     "data": {
      "image/png": "[encoded data removed]",
      "text/plain": [
       "<Figure size 800x400 with 1 Axes>"
      ]
     },
     "metadata": {},
     "output_type": "display_data"
    }
   ],
   "source": [
    "import matplotlib.pyplot as plt\n",
    "\n",
    "def plot_dict_bar(data: dict):\n",
    "    counts = {}\n",
    "    index = 0\n",
    "    for taxon in sorted(data):\n",
    "        counts[str(index)] = data[taxon]\n",
    "        index += 1\n",
    "    keys = list(counts.keys())\n",
    "    counts = list(counts.values())\n",
    "    plt.figure(figsize=(8, 4))\n",
    "    plt.bar(keys, counts)\n",
    "    plt.xlabel(\"taxa\")\n",
    "    plt.ylabel(\"Counts\")\n",
    "    plt.tight_layout()\n",
    "    plt.show()\n",
    "\n",
    "\n",
    "plot_dict_bar(domain_grouping)\n",
    "plot_dict_bar(phylum_grouping)\n",
    "plot_dict_bar(genus_grouping)\n"
   ]
  },
  {
   "cell_type": "code",
   "execution_count": 13,
   "id": "0dc3ba04",
   "metadata": {},
   "outputs": [
    {
     "name": "stdout",
     "output_type": "stream",
     "text": [
      "Inspecting `Archaea_db.fa`.\n"
     ]
    },
    {
     "name": "stderr",
     "output_type": "stream",
     "text": [
      "1070306it [00:39, 26955.97it/s]\n"
     ]
    },
    {
     "name": "stdout",
     "output_type": "stream",
     "text": [
      "Inspecting `Bacteria_db.fa`.\n"
     ]
    },
    {
     "name": "stderr",
     "output_type": "stream",
     "text": [
      "3806366it [02:18, 27516.03it/s]\n"
     ]
    },
    {
     "name": "stdout",
     "output_type": "stream",
     "text": [
      "Inspecting `Eukaryota_db.fa`.\n"
     ]
    },
    {
     "name": "stderr",
     "output_type": "stream",
     "text": [
      "5415562it [03:08, 28669.24it/s]\n"
     ]
    },
    {
     "name": "stdout",
     "output_type": "stream",
     "text": [
      "Inspecting `Viruses_db.fa`.\n"
     ]
    },
    {
     "name": "stderr",
     "output_type": "stream",
     "text": [
      "507606it [00:16, 30102.51it/s]\n"
     ]
    },
    {
     "name": "stdout",
     "output_type": "stream",
     "text": [
      "test set.\n"
     ]
    },
    {
     "name": "stderr",
     "output_type": "stream",
     "text": [
      "1070306it [00:41, 25682.54it/s]                           \n",
      "3806366it [02:27, 25870.61it/s]\n",
      "5415562it [03:52, 23243.38it/s]\n",
      "507606it [00:17, 28369.69it/s]]\n",
      "5388074it [07:20, 12235.38it/s]\n"
     ]
    },
    {
     "name": "stdout",
     "output_type": "stream",
     "text": [
      "train set.\n"
     ]
    },
    {
     "name": "stderr",
     "output_type": "stream",
     "text": [
      "1070306it [01:18, 13693.18it/s] [01:18<04:57, 6818.37it/s]\n",
      "3806366it [07:56, 7990.45it/s]20 [09:14<1:21:47, 25.95it/s] \n",
      "5415562it [1:05:24, 1379.83it/s]                               \n",
      "507606it [00:21, 23516.19it/s]/s]\n",
      "5388074it [1:15:11, 1194.36it/s] \n"
     ]
    },
    {
     "name": "stdout",
     "output_type": "stream",
     "text": [
      "validate set.\n"
     ]
    },
    {
     "name": "stderr",
     "output_type": "stream",
     "text": [
      "1070306it [00:47, 22683.73it/s]                           \n",
      "3806366it [02:26, 25900.03it/s]\n",
      "5415562it [03:45, 24026.71it/s]\n",
      "507606it [00:19, 26680.85it/s]]\n",
      "5388074it [07:19, 12268.94it/s]\n"
     ]
    }
   ],
   "source": [
    "random.seed(7)\n",
    "\n",
    "\n",
    "def prepare_datasets(\n",
    "        mapping: dict,\n",
    "        n_test: int,\n",
    "        n_max_training: int,\n",
    "        validation_fraction: float,\n",
    "        dst: str\n",
    "        ) -> tuple:\n",
    "    \"\"\"Split read IDs into test, train, and validation sets.\n",
    "\n",
    "    Args:\n",
    "        mapping: Map an index to a taxonomy.\n",
    "        n_test: Number of reads for each taxon in the test set.\n",
    "        validation_fraction: Fraction of non-test data used for validation.\n",
    "        dst: Save directory.\n",
    "    \"\"\"\n",
    "    taxon_to_read_IDs = {k: [] for k in mapping}\n",
    "    reversed_mapping = {tuple(v): k for k, v in mapping.items()}\n",
    "    granularity = len(mapping[\"0\"])\n",
    "    # Count reads in each taxon.\n",
    "    i = 0\n",
    "    for domain in BERTAX_DOMAINS:\n",
    "        print(f\"Inspecting `{domain}`.\")\n",
    "        with open(BERTAX_DATASET_DIRECTORY + domain, \"r\") as f:\n",
    "            current_ID = None\n",
    "            for line in tqdm(f):\n",
    "                if line.startswith(\">\"):\n",
    "                    tax_id = line.strip()\n",
    "                    tax_id = tax_id.replace(\">\", \"\")\n",
    "                    tax_id = tax_id.split(\" \")[0]\n",
    "                    if tax_id in lookup_table:\n",
    "                        current_taxon = lookup_table[tax_id][:granularity]\n",
    "                        if current_taxon in reversed_mapping:\n",
    "                            current_ID = reversed_mapping[current_taxon]\n",
    "                        else:\n",
    "                            current_ID = reversed_mapping[(\"unknown\", )]\n",
    "                elif current_ID:\n",
    "                    sequence = line.strip().upper()\n",
    "                    characters = set(sequence)\n",
    "                    if len(characters) == 4:\n",
    "                        taxon_to_read_IDs[current_ID].append(i)\n",
    "                        i += 1\n",
    "    # Split reads into distinct sets.\n",
    "    train = {k: [] for k in mapping}\n",
    "    validation = {k: [] for k in mapping}\n",
    "    test = {k: [] for k in mapping}\n",
    "    for taxon in taxon_to_read_IDs:\n",
    "        random.shuffle(taxon_to_read_IDs[taxon])\n",
    "        test[taxon] = taxon_to_read_IDs[taxon][:n_test]\n",
    "        if len(taxon_to_read_IDs[taxon]) > n_max_training:\n",
    "            train_data = taxon_to_read_IDs[taxon][n_test:n_test + n_max_training]\n",
    "        else:\n",
    "            train_data = taxon_to_read_IDs[taxon][n_test:]\n",
    "        cutoff = int(len(train_data) * validation_fraction)\n",
    "        train[taxon] = train_data[cutoff:]\n",
    "        validation[taxon] = train_data[:cutoff]\n",
    "    # Generate data.\n",
    "    for name, data in zip((\"test\", \"train\", \"validate\"), (test, train, validation)):\n",
    "        print(f\"{name} set.\")\n",
    "        elements = set()\n",
    "        for indices in data.values():\n",
    "            elements.update(indices)\n",
    "        N = sum([len(v) for v in data.values()])\n",
    "        with tqdm(total=N) as progress_bar:\n",
    "            assert N == len(elements), \"Unexpected counts.\"\n",
    "            x = np.zeros((N, BERTAX_READ_LENGTH // 4), dtype=np.uint8)\n",
    "            y = np.zeros(N, dtype=np.uint16)\n",
    "            i = 0\n",
    "            local_i = 0\n",
    "            for domain in BERTAX_DOMAINS:\n",
    "                # print(f\"Inspecting `{domain}`.\")\n",
    "                with open(BERTAX_DATASET_DIRECTORY + domain, \"r\") as f:\n",
    "                    current_ID = None\n",
    "                    for line in tqdm(f):\n",
    "                        if line.startswith(\">\"):\n",
    "                            tax_id = line.strip()\n",
    "                            tax_id = tax_id.replace(\">\", \"\")\n",
    "                            tax_id = tax_id.split(\" \")[0]\n",
    "                            if tax_id in lookup_table:\n",
    "                                current_taxon = lookup_table[tax_id][:granularity]\n",
    "                                if current_taxon in reversed_mapping:\n",
    "                                    current_ID = reversed_mapping[current_taxon]\n",
    "                                else:\n",
    "                                    current_ID = reversed_mapping[(\"unknown\", )]\n",
    "                        elif current_ID:\n",
    "                            sequence = line.strip().upper()\n",
    "                            characters = set(sequence)\n",
    "                            if len(characters) == 4:\n",
    "                                if i in elements:\n",
    "                                    encoding = format.encode_tetramer(sequence)\n",
    "                                    x[local_i] = encoding\n",
    "                                    y[local_i] = int(current_ID)\n",
    "                                    local_i += 1\n",
    "                                    elements.remove(i)\n",
    "                                i += 1\n",
    "                                progress_bar.update(1)\n",
    "            assert local_i == N\n",
    "            mkdir(dst + name)\n",
    "            np.save(dst + name + \"/x.npy\", x)\n",
    "            np.save(dst + name + \"/y.npy\", y)\n",
    "\n",
    "\n",
    "with open(BERTAX_STATISTIC_DIRECTORY + \"genus_indices.json\") as file:\n",
    "    mapping = json.load(file)\n",
    "prepare_datasets(mapping, BERTAX_N_TEST_READ_PER_TAXON, 100_000, 0.05, BERTAX_GENUS)"
   ]
  },
  {
   "cell_type": "code",
   "execution_count": 14,
   "id": "d2722d18",
   "metadata": {},
   "outputs": [
    {
     "name": "stdout",
     "output_type": "stream",
     "text": [
      "Inspecting `Archaea_db.fa`.\n"
     ]
    },
    {
     "name": "stderr",
     "output_type": "stream",
     "text": [
      "1070306it [00:38, 27746.08it/s]\n"
     ]
    },
    {
     "name": "stdout",
     "output_type": "stream",
     "text": [
      "Inspecting `Bacteria_db.fa`.\n"
     ]
    },
    {
     "name": "stderr",
     "output_type": "stream",
     "text": [
      "3806366it [02:11, 28852.29it/s]\n"
     ]
    },
    {
     "name": "stdout",
     "output_type": "stream",
     "text": [
      "Inspecting `Eukaryota_db.fa`.\n"
     ]
    },
    {
     "name": "stderr",
     "output_type": "stream",
     "text": [
      "5415562it [03:09, 28634.58it/s]\n"
     ]
    },
    {
     "name": "stdout",
     "output_type": "stream",
     "text": [
      "Inspecting `Viruses_db.fa`.\n"
     ]
    },
    {
     "name": "stderr",
     "output_type": "stream",
     "text": [
      "507606it [00:17, 28251.23it/s]\n"
     ]
    },
    {
     "name": "stdout",
     "output_type": "stream",
     "text": [
      "test set.\n"
     ]
    },
    {
     "name": "stderr",
     "output_type": "stream",
     "text": [
      "1070306it [00:39, 26964.38it/s]                         \n",
      "3806366it [02:22, 26773.29it/s]\n",
      "5415562it [03:21, 26848.14it/s]\n",
      "507606it [00:24, 20820.36it/s]]\n",
      "5388074it [06:48, 13196.87it/s]\n"
     ]
    },
    {
     "name": "stdout",
     "output_type": "stream",
     "text": [
      "train set.\n"
     ]
    },
    {
     "name": "stderr",
     "output_type": "stream",
     "text": [
      "1070306it [02:21, 7584.19it/s]3 [02:21<22:16, 3366.06it/s]\n",
      "3806366it [08:06, 7830.93it/s]93 [10:27<11:51, 3652.13it/s]\n",
      "5415562it [11:52, 7599.03it/s]                             \n",
      "507606it [01:04, 7863.72it/s]]\n",
      "5388074it [23:40, 3794.00it/s]\n"
     ]
    },
    {
     "name": "stdout",
     "output_type": "stream",
     "text": [
      "validate set.\n"
     ]
    },
    {
     "name": "stderr",
     "output_type": "stream",
     "text": [
      "1070306it [00:45, 23477.21it/s]                           \n",
      "3806366it [02:32, 24997.29it/s]\n",
      "5415562it [03:40, 24595.01it/s]\n",
      "507606it [00:22, 22477.95it/s]]\n",
      "5388074it [07:21, 12204.70it/s]\n"
     ]
    }
   ],
   "source": [
    "with open(BERTAX_STATISTIC_DIRECTORY + \"phylum_indices.json\") as file:\n",
    "    mapping = json.load(file)\n",
    "prepare_datasets(mapping, BERTAX_N_TEST_READ_PER_TAXON, 2_000_000, 0.05, BERTAX_PHYLUM)"
   ]
  },
  {
   "cell_type": "code",
   "execution_count": null,
   "id": "c56a6cf7",
   "metadata": {},
   "outputs": [],
   "source": [
    "total = 0\n",
    "for domain in BERTAX_DOMAINS:\n",
    "    with open(BERTAX_DATASET_DIRECTORY + domain, \"r\") as f:\n",
    "        for line in f:\n",
    "            if line.startswith(\">\"):\n",
    "                total += 1\n",
    "    print(f\"Domain: {domain}. Total: {total}\")\n",
    "\n",
    "x = np.zeros((total, BERTAX_READ_LENGTH // 4), dtype=np.uint8)\n",
    "i = 0\n",
    "for domain in BERTAX_DOMAINS:\n",
    "    with open(BERTAX_DATASET_DIRECTORY + domain, \"r\") as f:\n",
    "        for line in f:\n",
    "            if not line.startswith(\">\"):\n",
    "                sequence = line.strip().upper()\n",
    "                characters = set(sequence)\n",
    "                if len(characters) == 4:\n",
    "                    encoding = format.encode_tetramer(sequence)\n",
    "                    x[i] = encoding\n",
    "                    i += 1\n",
    "np.save(PROCESSED_PRETRAINING_DATA + \"/x.npy\", x)"
   ]
  },
  {
   "cell_type": "markdown",
   "id": "dce23113",
   "metadata": {},
   "source": [
    "# 2. Validate Data"
   ]
  },
  {
   "cell_type": "code",
   "execution_count": 9,
   "id": "e6943ccd",
   "metadata": {},
   "outputs": [
    {
     "data": {
      "image/png": "[encoded data removed]",
      "text/plain": [
       "<Figure size 800x400 with 1 Axes>"
      ]
     },
     "metadata": {},
     "output_type": "display_data"
    },
    {
     "data": {
      "image/png": "[encoded data removed]",
      "text/plain": [
       "<Figure size 800x400 with 1 Axes>"
      ]
     },
     "metadata": {},
     "output_type": "display_data"
    }
   ],
   "source": [
    "import matplotlib.pyplot as plt\n",
    "\n",
    "def plot_dict_bar(path: dict):\n",
    "    y = np.load(path + \"validate/y.npy\")\n",
    "    _, counts = np.unique(y, return_counts=True)\n",
    "    plt.figure(figsize=(8, 4))\n",
    "    plt.bar(list(range(len(counts))), counts)\n",
    "    plt.xlabel(\"taxa\")\n",
    "    plt.ylabel(\"Counts\")\n",
    "    plt.tight_layout()\n",
    "    plt.show()\n",
    "\n",
    "\n",
    "plot_dict_bar(BERTAX_PHYLUM)\n",
    "plot_dict_bar(BERTAX_GENUS)"
   ]
  },
  {
   "cell_type": "markdown",
   "id": "3a38eda0",
   "metadata": {},
   "source": [
    "# 3. Train Classification Models"
   ]
  },
  {
   "cell_type": "markdown",
   "id": "01efb2b6",
   "metadata": {},
   "source": [
    "## Prepare Training Benchmark"
   ]
  },
  {
   "cell_type": "code",
   "execution_count": null,
   "id": "b0ab20a7",
   "metadata": {},
   "outputs": [],
   "source": [
    "import numpy as np\n",
    "from torch.utils.data import DataLoader\n",
    "import json\n",
    "from torch.optim import Adam\n",
    "import matplotlib.pyplot as plt\n",
    "from time import time\n",
    "from torch import nn, exp\n",
    "\n",
    "from stelaro.data import format\n",
    "from stelaro import models\n",
    "\n",
    "\n",
    "def load_data(\n",
    "        classification_dir: str,\n",
    "        mapping_filepath: str,\n",
    "        pretraining_dir: str = None,\n",
    "        batch_size: int = 128,\n",
    "        ):\n",
    "    train_data = DataLoader(\n",
    "        models.SyntheticTetramerDataset(classification_dir + \"train/\"),\n",
    "        batch_size=batch_size,\n",
    "        shuffle=True\n",
    "    )\n",
    "    validation_data = DataLoader(\n",
    "        models.SyntheticTetramerDataset(classification_dir + \"validate/\"),\n",
    "        batch_size=batch_size,\n",
    "        shuffle=True\n",
    "    )\n",
    "    test_data = DataLoader(\n",
    "        models.SyntheticTetramerDataset(classification_dir + \"test/\"),\n",
    "        batch_size=batch_size,\n",
    "        shuffle=True\n",
    "    )\n",
    "    with open(mapping_filepath, \"r\") as f:\n",
    "        mapping = json.load(f)\n",
    "    if pretraining_dir:\n",
    "        pretraining_data = DataLoader(\n",
    "            models.SyntheticTetramerDataset(PROCESSED_PRETRAINING_DATA, labels=False),\n",
    "            batch_size=batch_size,\n",
    "            shuffle=True\n",
    "        )\n",
    "    else:\n",
    "        pretraining_data = False\n",
    "    return train_data, validation_data, test_data, mapping, pretraining_data"
   ]
  },
  {
   "cell_type": "code",
   "execution_count": null,
   "id": "e794ea5f",
   "metadata": {},
   "outputs": [],
   "source": [
    "def benchmark(\n",
    "        classifier: models.BaseClassifier,\n",
    "        name: str,\n",
    "        train_data,\n",
    "        validation_data,\n",
    "        test_data,\n",
    "        max_epochs: int = 20,\n",
    "        loss_fn = nn.CrossEntropyLoss(),\n",
    "        evaluation_interval=5000,\n",
    "        learning_rate: float = 0.001\n",
    "    ):\n",
    "    parameters = classifier.get_parameters()\n",
    "    if parameters:\n",
    "        optimizer = Adam(classifier.get_parameters(), lr=learning_rate)\n",
    "        total_params = sum(param.numel() for param in parameters)\n",
    "        print(f\"Number of parameters: {total_params:_}\")\n",
    "    else:\n",
    "        optimizer = None\n",
    "    a = time()\n",
    "    losses, f1, validation_losses = classifier.train(\n",
    "        train_data,\n",
    "        validation_data,\n",
    "        optimizer,\n",
    "        max_n_epochs=max_epochs,\n",
    "        patience=3,\n",
    "        loss_function=loss_fn,\n",
    "        loss_function_type=\"supervised\",\n",
    "        evaluation_interval=evaluation_interval\n",
    "    )\n",
    "    b = time()\n",
    "    print(f\"Training took {(b - a):.3f} s.\")\n",
    "    if losses:\n",
    "        fig, ax = plt.subplots(1, 2, figsize=(12, 4))\n",
    "        x = list(range(len(losses)))\n",
    "        ax[0].plot(x, losses, label=\"Training\")\n",
    "        ax[0].plot(x, validation_losses, label=\"Validation\")\n",
    "        ax[0].set(xlabel='Epochs', ylabel='Loss')\n",
    "        ax[0].set_title(\"Normalized Loss Against Epochs\")\n",
    "        ax[0].legend()\n",
    "        ax[1].set(xlabel='Epochs', ylabel=\"f1\")\n",
    "        ax[1].set_title(\"F1 Score\")\n",
    "        r = 0\n",
    "        for f in f1:\n",
    "            ax[1].plot(x, f, label=f'Rank {r}')\n",
    "            r += 1\n",
    "        ax[1].legend()\n",
    "        fig.suptitle(f\"Classification Training for {name}\")\n",
    "        plt.show()\n",
    "    result = models.evaluate(classifier, test_data, \"cuda\", mapping)\n",
    "    rounded_result = [float(f\"{r:.5}\") for r in result]\n",
    "    print(f\"F1: {rounded_result}\")\n",
    "    result = models.evaluate_precision(classifier, test_data, \"cuda\", mapping)\n",
    "    rounded_result = [float(f\"{r:.5}\") for r in result]\n",
    "    print(f\"Precision: {rounded_result}\")\n",
    "    return classifier"
   ]
  }
 ],
 "metadata": {
  "kernelspec": {
   "display_name": ".venv (3.12.11)",
   "language": "python",
   "name": "python3"
  },
  "language_info": {
   "codemirror_mode": {
    "name": "ipython",
    "version": 3
   },
   "file_extension": ".py",
   "mimetype": "text/x-python",
   "name": "python",
   "nbconvert_exporter": "python",
   "pygments_lexer": "ipython3",
   "version": "3.12.11"
  }
 },
 "nbformat": 4,
 "nbformat_minor": 5
}
