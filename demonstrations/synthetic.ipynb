{
 "cells": [
  {
   "cell_type": "markdown",
   "metadata": {},
   "source": [
    "# Synthetic Data\n",
    "\n",
    "This notebook shows a basic use case of `stelaro` that manipulates synthetic data."
   ]
  },
  {
   "cell_type": "code",
   "execution_count": 1,
   "metadata": {},
   "outputs": [],
   "source": [
    "DATA_DIRECTORY = \"../data/\"  # You can modify this directory.\n",
    "from stelaro.data import ncbi"
   ]
  },
  {
   "cell_type": "markdown",
   "metadata": {},
   "source": [
    "## Fetch Reference Genomes\n",
    "\n",
    "You can download reference genome summaries and use these summaries to create\n",
    "your own datasets:"
   ]
  },
  {
   "cell_type": "code",
   "execution_count": 2,
   "metadata": {},
   "outputs": [],
   "source": [
    "ncbi.install_summaries(DATA_DIRECTORY)"
   ]
  },
  {
   "cell_type": "code",
   "execution_count": 3,
   "metadata": {},
   "outputs": [
    {
     "name": "stdout",
     "output_type": "stream",
     "text": [
      "archaea: 2 316 genomes\n",
      "bacteria: 388 560 genomes\n",
      "fungi: 644 genomes\n",
      "invertebrate: 434 genomes\n",
      "plant: 186 genomes\n",
      "protozoa: 121 genomes\n",
      "vertebrate mammalian: 239 genomes\n",
      "vertebrate other: 432 genomes\n",
      "viral: 14 997 genomes\n",
      "\n",
      "Total: 407929\n"
     ]
    }
   ],
   "source": [
    "ncbi.assembly_summaries(DATA_DIRECTORY)"
   ]
  }
 ],
 "metadata": {
  "kernelspec": {
   "display_name": "venv",
   "language": "python",
   "name": "python3"
  },
  "language_info": {
   "codemirror_mode": {
    "name": "ipython",
    "version": 3
   },
   "file_extension": ".py",
   "mimetype": "text/x-python",
   "name": "python",
   "nbconvert_exporter": "python",
   "pygments_lexer": "ipython3",
   "version": "3.11.2"
  }
 },
 "nbformat": 4,
 "nbformat_minor": 2
}
