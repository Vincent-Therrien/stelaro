{
 "cells": [
  {
   "cell_type": "markdown",
   "metadata": {},
   "source": [
    "# Synthetic Data\n",
    "\n",
    "Basic use case of `stelaro` that manipulates synthetic data."
   ]
  },
  {
   "cell_type": "code",
   "execution_count": 1,
   "metadata": {},
   "outputs": [],
   "source": [
    "import os\n",
    "import json\n",
    "from stelaro.data import (\n",
    "    ncbi,\n",
    "    gtdb,\n",
    "    Taxonomy,\n",
    "    non_similar_sets,\n",
    "    get_urls,\n",
    "    make_index_file,\n",
    "    TaxonomyVector\n",
    ")\n",
    "\n",
    "DATA_DIRECTORY = \"../data/\"  # You can modify this directory.\n",
    "DATASET_DIRECTORY = DATA_DIRECTORY + \"genome_small_dataset/\"\n",
    "SUMMARY_DIRECTORY = DATA_DIRECTORY + \"ncbi_genome_summaries/\"\n",
    "NCBI_TAXONOMY_DIRECTORY = DATA_DIRECTORY + \"ncbi_taxonomy/\"\n",
    "TAXONOMY_DIRECTORY = DATA_DIRECTORY + \"gtdb/\"\n",
    "INDEX_FILE = DATASET_DIRECTORY + \"index.tsv\"\n",
    "\n",
    "DATASET_V1_DIRECTORY = DATA_DIRECTORY + \"version_1/\"\n",
    "\n",
    "\n",
    "def mkdir(path: str) -> None:\n",
    "    \"\"\"Create a directory if it does not exist.\"\"\"\n",
    "    if not os.path.exists(path):\n",
    "        os.makedirs(path)\n",
    "\n",
    "\n",
    "mkdir(DATA_DIRECTORY)"
   ]
  },
  {
   "cell_type": "markdown",
   "metadata": {},
   "source": [
    "## 1. Fetch Reference Genomes\n",
    "\n",
    "You can download reference genome summaries and use these summaries to create\n",
    "your own datasets:"
   ]
  },
  {
   "cell_type": "code",
   "execution_count": 8,
   "metadata": {},
   "outputs": [],
   "source": [
    "mkdir(SUMMARY_DIRECTORY)\n",
    "ncbi.install_summaries(SUMMARY_DIRECTORY)"
   ]
  },
  {
   "cell_type": "code",
   "execution_count": 9,
   "metadata": {},
   "outputs": [
    {
     "name": "stdout",
     "output_type": "stream",
     "text": [
      "archaea: 2 579 genomes\n",
      "bacteria: 432 090 genomes\n",
      "fungi: 644 genomes\n",
      "invertebrate: 434 genomes\n",
      "plant: 186 genomes\n",
      "protozoa: 121 genomes\n",
      "vertebrate mammalian: 239 genomes\n",
      "vertebrate other: 432 genomes\n",
      "viral: 14 997 genomes\n",
      "\n",
      "Total: 451 722\n"
     ]
    }
   ],
   "source": [
    "ncbi.summarize_assemblies(SUMMARY_DIRECTORY)"
   ]
  },
  {
   "cell_type": "code",
   "execution_count": null,
   "metadata": {},
   "outputs": [],
   "source": [
    "ncbi.install_taxonomy(NCBI_TAXONOMY_DIRECTORY)"
   ]
  },
  {
   "cell_type": "markdown",
   "metadata": {},
   "source": [
    "## 2. Sample Reference Genomes\n",
    "\n",
    "You can create an index of genomes that will be use to download reference\n",
    "genomes. Given that the NCBI contains 407929 reference genomes as of November\n",
    "2024, you may want to sample a subset of genomes to create a more manageable\n",
    "genome database during tests."
   ]
  },
  {
   "cell_type": "code",
   "execution_count": null,
   "metadata": {},
   "outputs": [],
   "source": [
    "mkdir(DATASET_DIRECTORY)\n",
    "ncbi.sample_genomes(SUMMARY_DIRECTORY, INDEX_FILE, fraction = 0.005)"
   ]
  },
  {
   "cell_type": "markdown",
   "metadata": {},
   "source": [
    "Let's visualize the index file:"
   ]
  },
  {
   "cell_type": "code",
   "execution_count": 6,
   "metadata": {},
   "outputs": [
    {
     "name": "stdout",
     "output_type": "stream",
     "text": [
      "First 5 lines contained in the index file:\n",
      "\n",
      "```\n",
      "ID\tURL\tcategory\n",
      "GCF_001639295.1.fna\thttps://ftp.ncbi.nlm.nih.gov/genomes/all/GCF/001/639/295/GCF_001639295.1_ASM163929v1/GCF_001639295.1_ASM163929v1_genomic.fna.gz\tarchaea\n",
      "GCF_902384065.1.fna\thttps://ftp.ncbi.nlm.nih.gov/genomes/all/GCF/902/384/065/GCF_902384065.1_UHGG_MGYG-HGUT-02162/GCF_902384065.1_UHGG_MGYG-HGUT-02162_genomic.fna.gz\tarchaea\n",
      "GCF_002214525.1.fna\thttps://ftp.ncbi.nlm.nih.gov/genomes/all/GCF/002/214/525/GCF_002214525.1_ASM221452v1/GCF_002214525.1_ASM221452v1_genomic.fna.gz\tarchaea\n",
      "GCF_003711245.1.fna\thttps://ftp.ncbi.nlm.nih.gov/genomes/all/GCF/003/711/245/GCF_003711245.1_ASM371124v1/GCF_003711245.1_ASM371124v1_genomic.fna.gz\tarchaea\n",
      "```\n",
      "\n",
      "Total number of lines: 1964.\n"
     ]
    }
   ],
   "source": [
    "with open(INDEX_FILE, \"r\") as f:\n",
    "    count = 0\n",
    "    print(\"First 5 lines contained in the index file:\\n\\n```\")\n",
    "    for line in f:\n",
    "        if count < 5:\n",
    "            print(line[:-1])\n",
    "        count += 1\n",
    "    print(f\"```\\n\\nTotal number of lines: {count}.\")"
   ]
  },
  {
   "cell_type": "markdown",
   "metadata": {},
   "source": [
    "## 3. Install Sampled Reference Genomes\n",
    "\n",
    "The following cell installs the genomes downloaded at the previous step."
   ]
  },
  {
   "cell_type": "code",
   "execution_count": 7,
   "metadata": {},
   "outputs": [],
   "source": [
    "ncbi.install_genomes(INDEX_FILE, DATASET_DIRECTORY)"
   ]
  },
  {
   "cell_type": "markdown",
   "metadata": {},
   "source": [
    "The genomes listed in the index file should now be installed at ``DATASET_DIRECTORY``. Let's\n",
    "examine the first file that was downloaded:"
   ]
  },
  {
   "cell_type": "code",
   "execution_count": 8,
   "metadata": {},
   "outputs": [
    {
     "name": "stdout",
     "output_type": "stream",
     "text": [
      "First lines contained in the genome file:\n",
      "\n",
      "```\n",
      ">NZ_LWMV01000001.1 Methanobrevibacter curvatus strain DSM 11111 MBCUR_contig000001, whole genome shotgun sequence\n",
      "ATCAGTAGAGTGTGCAGAGGTATATAGTTTTTTTTTTTTTTTTTTTTTTTTTTTTTTTTTTTTTTTTTTTTTTTTTTTTT\n",
      "TTTTTTTTTTTTTATATGTGTATGGTTTTATTCAAGCTTTTCAATAAATTAACAGCAGAATAAGCCGCTAAAACACTTGT\n",
      "TTTTGGATTTATGTTGGATGGAACATTTTCAGTTTTACTAGTAAAACTTCCAAATTCTCCTTTTACATGGACTTCATGAA\n",
      "TATTTCTATTTATTTCTGGATCTATAATGATTTTTACATTAATATCCATATTAGAAGCAATACTTAGTGCAGCTGCAACA\n",
      "```\n",
      "\n",
      "Total number of lines: 30529.\n"
     ]
    }
   ],
   "source": [
    "with open(INDEX_FILE, \"r\") as f:\n",
    "    next(f)\n",
    "    filename = f.readline().split(\"\\t\")[0]\n",
    "\n",
    "with open(DATASET_DIRECTORY + \"/\" + filename) as f:\n",
    "    count = 0\n",
    "    print(\"First lines contained in the genome file:\\n\\n```\")\n",
    "    for line in f:\n",
    "        if count < 5:\n",
    "            print(line[:-1])\n",
    "        count += 1\n",
    "    print(f\"```\\n\\nTotal number of lines: {count}.\")"
   ]
  },
  {
   "cell_type": "markdown",
   "metadata": {},
   "source": [
    "## 4. Generate a Synthetic Metagenome From Reference Genomes\n",
    "\n",
    "The following cell extracts subsequences from the downloaded reference genomes to simulate reads\n",
    "obtained during a metagenomic sequencing experiment."
   ]
  },
  {
   "cell_type": "code",
   "execution_count": null,
   "metadata": {},
   "outputs": [
    {
     "name": "stdout",
     "output_type": "stream",
     "text": [
      ">GCF_001998405.1.fna\t341684\t0\n",
      "ACGAGCAACGCTGAAGCGAAAATAGGGGGGATCACCCCGCTTAAATTCAA\n",
      "\n",
      ">GCF_002498065.1.fna\t1444400\t1\n",
      "CAAGCATATCGGGATGGGTCGTCGCGGGGAACGGGTCGTCGCTGTTGAAG\n",
      "\n",
      ">GCF_038731385.1.fna\t1390023\t2\n",
      "AGAGAGAAAAAGATAGATAACGTTCACATACCCAGAAAGCCCCTCGATGT\n",
      "\n"
     ]
    }
   ],
   "source": [
    "from stelaro.data import synthetic_metagenome\n",
    "\n",
    "SYNTHETIC_FILE = DATA_DIRECTORY + \"test_metagenome1.fasta\"\n",
    "\n",
    "synthetic_metagenome(\n",
    "    INDEX_FILE,\n",
    "    DATASET_DIRECTORY,\n",
    "    SYNTHETIC_FILE,\n",
    "    reads = 3,\n",
    "    length = 50,\n",
    ")\n",
    "\n",
    "with open(SYNTHETIC_FILE, \"r\") as f:\n",
    "    for line in f:\n",
    "        print(line[:-1])  # Ignore the newline character."
   ]
  },
  {
   "cell_type": "markdown",
   "metadata": {},
   "source": [
    "## 5. Install a Reference Taxonomy\n",
    "\n",
    "A taxonomy describes the phylogenetic links between species.\n",
    "\n",
    "The GTDB project (https://gtdb.ecogenomic.org/) is a genome taxonomy database that describes a\n",
    "taxonomy for bacteria and archaea. Install it with the following cell:"
   ]
  },
  {
   "cell_type": "code",
   "execution_count": 4,
   "metadata": {},
   "outputs": [],
   "source": [
    "gtdb.install_taxonomy(TAXONOMY_DIRECTORY)"
   ]
  },
  {
   "cell_type": "markdown",
   "metadata": {},
   "source": [
    "Let's inspect the **bacterial** taxonomy:"
   ]
  },
  {
   "cell_type": "code",
   "execution_count": 5,
   "metadata": {},
   "outputs": [
    {
     "name": "stdout",
     "output_type": "stream",
     "text": [
      "First lines contained in the GTDB bacterial taxonomy file:\n",
      "\n",
      "```\n",
      "RS_GCF_009898805.1\td__Bacteria;p__Pseudomonadota;c__Gammaproteobacteria;o__Enterobacterales;f__Enterobacteriaceae;g__Escherichia;s__Escherichia coli\n",
      "RS_GCF_024700115.1\td__Bacteria;p__Pseudomonadota;c__Gammaproteobacteria;o__Enterobacterales;f__Enterobacteriaceae;g__Escherichia;s__Escherichia coli\n",
      "RS_GCF_003829795.1\td__Bacteria;p__Pseudomonadota;c__Gammaproteobacteria;o__Enterobacterales;f__Enterobacteriaceae;g__Escherichia;s__Escherichia coli\n",
      "RS_GCF_900480365.1\td__Bacteria;p__Pseudomonadota;c__Gammaproteobacteria;o__Enterobacterales;f__Enterobacteriaceae;g__Escherichia;s__Escherichia coli\n",
      "GB_GCA_003592305.1\td__Bacteria;p__Pseudomonadota;c__Gammaproteobacteria;o__Enterobacterales;f__Enterobacteriaceae;g__Escherichia;s__Escherichia coli\n",
      "```\n",
      "\n",
      "Total number of lines: 715230.\n"
     ]
    }
   ],
   "source": [
    "with open(TAXONOMY_DIRECTORY + \"/bac120_taxonomy.tsv\") as f:\n",
    "    count = 0\n",
    "    print(\"First lines contained in the GTDB bacterial taxonomy file:\\n\\n```\")\n",
    "    for line in f:\n",
    "        if count < 5:\n",
    "            print(line[:-1])\n",
    "        count += 1\n",
    "    print(f\"```\\n\\nTotal number of lines: {count}.\")"
   ]
  },
  {
   "cell_type": "markdown",
   "metadata": {},
   "source": [
    "The first column is the identifier of a reference genome. The second column is its taxonomy. Each\n",
    "field of that column contains a prefix that indicates the taxonomic order:\n",
    "\n",
    "- `d__`: Domain (bacteria)\n",
    "- `p__`: Phylum\n",
    "- `c__`: Class\n",
    "- `o__`: Order\n",
    "- `f__`: Family\n",
    "- `g__`: Genus\n",
    "- `s__`: Species\n",
    "\n",
    "There are multiple *Escherichia coli* reference genomes because they correspond to different strains\n",
    "within the same species.\n",
    "\n",
    "Visualizing the full taxonomy is complicated because it comprises more than *700 000* reference\n",
    "genomes, only for bacteria! The following cell loads the GTDB bacteria taxonomy and selects only\n",
    "reference genomes comprised within the `refseq` database, which contains curated data. The cell then\n",
    "prints a table that summarizes the taxonomic groups in the phylum Pseudomonadota and the number\n",
    "of reference genomes for each family."
   ]
  },
  {
   "cell_type": "code",
   "execution_count": 2,
   "metadata": {},
   "outputs": [
    {
     "name": "stdout",
     "output_type": "stream",
     "text": [
      "Taxonomy within the domain Bacteria (372_073 genomes):\n",
      "+==========================================+==========================================+===========+\n",
      "| phylum (50)                              | class (136)                              | N Genomes |\n",
      "+==========================================+==========================================+===========+\n",
      "| Thermosulfidibacterota (1)                                                           |           |\n",
      "|                                            Thermosulfidibacteria (1)                 | 1         |\n",
      "+------------------------------------------+------------------------------------------+-----------+\n",
      "| Omnitrophota (1)                                                                     |           |\n",
      "|                                            Koll11 (1)                                | 1         |\n",
      "+------------------------------------------+------------------------------------------+-----------+\n",
      "| Babelota (1)                                                                         |           |\n",
      "|                                            Babeliae (1)                              | 2         |\n",
      "+------------------------------------------+------------------------------------------+-----------+\n",
      "| Tectomicrobia (1)                                                                    |           |\n",
      "|                                            Entotheonellia (1)                        | 1         |\n",
      "+------------------------------------------+------------------------------------------+-----------+\n",
      "| Desulfobacterota_C (1)                                                               |           |\n",
      "|                                            Deferrisomatia (1)                        | 1         |\n",
      "+------------------------------------------+------------------------------------------+-----------+\n",
      "| Vulcanimicrobiota (1)                                                                |           |\n",
      "|                                            Vulcanimicrobiia (1)                      | 1         |\n",
      "+------------------------------------------+------------------------------------------+-----------+\n",
      "| Desulfobacterota_E (1)                                                               |           |\n",
      "|                                            Deferrimicrobia (1)                       | 3         |\n",
      "+------------------------------------------+------------------------------------------+-----------+\n",
      "| Thermodesulfobiota (1)                                                               |           |\n",
      "|                                            Thermodesulfobiia (1)                     | 3         |\n",
      "+------------------------------------------+------------------------------------------+-----------+\n",
      "| Nitrospinota (1)                                                                     |           |\n",
      "|                                            Nitrospinia (1)                           | 4         |\n",
      "+------------------------------------------+------------------------------------------+-----------+\n",
      "| Methylomirabilota (1)                                                                |           |\n",
      "|                                            Methylomirabilia (1)                      | 3         |\n",
      "+------------------------------------------+------------------------------------------+-----------+\n",
      "| Desulfobacterota_G (1)                                                               |           |\n",
      "|                                            Syntrophorhabdia (1)                      | 1         |\n",
      "+------------------------------------------+------------------------------------------+-----------+\n",
      "| Calditrichota (1)                                                                    |           |\n",
      "|                                            Calditrichia (1)                          | 2         |\n",
      "+------------------------------------------+------------------------------------------+-----------+\n",
      "| Bdellovibrionota_B (1)                                                               |           |\n",
      "|                                            Oligoflexia (2)                           | 13        |\n",
      "+------------------------------------------+------------------------------------------+-----------+\n",
      "| Desulfobacterota_B (1)                                                               |           |\n",
      "|                                            Binatia (1)                               | 5         |\n",
      "+------------------------------------------+------------------------------------------+-----------+\n",
      "| Dictyoglomota (1)                                                                    |           |\n",
      "|                                            Dictyoglomia (1)                          | 5         |\n",
      "+------------------------------------------+------------------------------------------+-----------+\n",
      "| Armatimonadota (5)                                                                   |           |\n",
      "|                                            Abditibacteriia (1)                       | 1         |\n",
      "|                                            Fimbriimonadia (1)                        | 1         |\n",
      "|                                            Armatimonadia (1)                         | 5         |\n",
      "|                                            Chthonomonadetes (1)                      | 6         |\n",
      "|                                            HRBIN17 (1)                               | 2         |\n",
      "+------------------------------------------+------------------------------------------+-----------+\n",
      "| Patescibacteriota (3)                                                                |           |\n",
      "|                                            JAEDAM01 (1)                              | 2         |\n",
      "|                                            Microgenomatia (1)                        | 1         |\n",
      "|                                            Saccharimonadia (1)                       | 23        |\n",
      "+------------------------------------------+------------------------------------------+-----------+\n",
      "| Caldisericota (1)                                                                    |           |\n",
      "|                                            Caldisericia (2)                          | 8         |\n",
      "+------------------------------------------+------------------------------------------+-----------+\n",
      "| Acidobacteriota (5)                                                                  |           |\n",
      "|                                            Vicinamibacteria (1)                      | 3         |\n",
      "|                                            Holophagae (3)                            | 25        |\n",
      "|                                            Terriglobia (2)                           | 86        |\n",
      "|                                            Thermoanaerobaculia (1)                   | 1         |\n",
      "|                                            Blastocatellia (2)                        | 13        |\n",
      "+------------------------------------------+------------------------------------------+-----------+\n",
      "| Gemmatimonadota (1)                                                                  |           |\n",
      "|                                            Gemmatimonadetes (3)                      | 41        |\n",
      "+------------------------------------------+------------------------------------------+-----------+\n",
      "| Atribacterota (1)                                                                    |           |\n",
      "|                                            Atribacteria (1)                          | 4         |\n",
      "+------------------------------------------+------------------------------------------+-----------+\n",
      "| Elusimicrobiota (2)                                                                  |           |\n",
      "|                                            Elusimicrobia (1)                         | 2         |\n",
      "|                                            Endomicrobiia (1)                         | 7         |\n",
      "+------------------------------------------+------------------------------------------+-----------+\n",
      "| Bdellovibrionota (2)                                                                 |           |\n",
      "|                                            Bacteriovoracia (1)                       | 20        |\n",
      "|                                            Bdellovibrionia (1)                       | 30        |\n",
      "+------------------------------------------+------------------------------------------+-----------+\n",
      "| Fibrobacterota (2)                                                                   |           |\n",
      "|                                            Chitinivibrionia (1)                      | 1         |\n",
      "|                                            Fibrobacteria (1)                         | 88        |\n",
      "+------------------------------------------+------------------------------------------+-----------+\n",
      "| Coprothermobacterota (1)                                                             |           |\n",
      "|                                            Coprothermobacteria (1)                   | 4         |\n",
      "+------------------------------------------+------------------------------------------+-----------+\n",
      "| Bipolaricaulota (1)                                                                  |           |\n",
      "|                                            Bipolaricaulia (1)                        | 1         |\n",
      "+------------------------------------------+------------------------------------------+-----------+\n",
      "| Desulfobacterota (12)                                                                |           |\n",
      "|                                            DSM-4660 (1)                              | 1         |\n",
      "|                                            Desulfarculia (1)                         | 3         |\n",
      "|                                            Desulfomonilia (1)                        | 1         |\n",
      "|                                            Dissulfuribacteria (1)                    | 4         |\n",
      "|                                            Syntrophobacteria (1)                     | 9         |\n",
      "|                                            Desulfobaccia (1)                         | 1         |\n",
      "|                                            Syntrophia (1)                            | 3         |\n",
      "|                                            Desulfofervidia (1)                       | 1         |\n",
      "|                                            Desulfobulbia (1)                         | 34        |\n",
      "|                                            Desulfobacteria (1)                       | 62        |\n",
      "|                                            Thermodesulfobacteria (1)                 | 20        |\n",
      "|                                            Desulfuromonadia (2)                      | 118       |\n",
      "+------------------------------------------+------------------------------------------+-----------+\n",
      "| Aquificota (1)                                                                       |           |\n",
      "|                                            Aquificia (2)                             | 53        |\n",
      "+------------------------------------------+------------------------------------------+-----------+\n",
      "| Planctomycetota (4)                                                                  |           |\n",
      "|                                            Uabimicrobiia (1)                         | 3         |\n",
      "|                                            Phycisphaerae (3)                         | 12        |\n",
      "|                                            Planctomycetia (4)                        | 215       |\n",
      "|                                            Brocadiia (1)                             | 10        |\n",
      "+------------------------------------------+------------------------------------------+-----------+\n",
      "| Myxococcota (3)                                                                      |           |\n",
      "|                                            Bradymonadia (1)                          | 9         |\n",
      "|                                            Polyangia (3)                             | 41        |\n",
      "|                                            Myxococcia (1)                            | 174       |\n",
      "+------------------------------------------+------------------------------------------+-----------+\n",
      "| Synergistota (1)                                                                     |           |\n",
      "|                                            Synergistia (1)                           | 130       |\n",
      "+------------------------------------------+------------------------------------------+-----------+\n",
      "| Nitrospirota (2)                                                                     |           |\n",
      "|                                            Thermodesulfovibrionia (1)                | 19        |\n",
      "|                                            Nitrospiria (2)                           | 15        |\n",
      "+------------------------------------------+------------------------------------------+-----------+\n",
      "| Chloroflexota (5)                                                                    |           |\n",
      "|                                            Ktedonobacteria (1)                       | 20        |\n",
      "|                                            Dormibacteria (2)                         | 3         |\n",
      "|                                            Chloroflexia (4)                          | 53        |\n",
      "|                                            Anaerolineae (8)                          | 57        |\n",
      "|                                            Dehalococcoidia (3)                       | 80        |\n",
      "+------------------------------------------+------------------------------------------+-----------+\n",
      "| Thermotogota (1)                                                                     |           |\n",
      "|                                            Thermotogae (3)                           | 166       |\n",
      "+------------------------------------------+------------------------------------------+-----------+\n",
      "| Nitrospirota_A (1)                                                                   |           |\n",
      "|                                            Leptospirillia (1)                        | 9         |\n",
      "+------------------------------------------+------------------------------------------+-----------+\n",
      "| Cloacimonadota (1)                                                                   |           |\n",
      "|                                            Cloacimonadia (1)                         | 2         |\n",
      "+------------------------------------------+------------------------------------------+-----------+\n",
      "| Deinococcota (1)                                                                     |           |\n",
      "|                                            Deinococci (1)                            | 357       |\n",
      "+------------------------------------------+------------------------------------------+-----------+\n",
      "| Cyanobacteriota (2)                                                                  |           |\n",
      "|                                            Vampirovibrionia (1)                      | 2         |\n",
      "|                                            Cyanobacteriia (21)                       | 1867      |\n",
      "+------------------------------------------+------------------------------------------+-----------+\n",
      "| Bacteroidota_A (4)                                                                   |           |\n",
      "|                                            Ignavibacteria (1)                        | 13        |\n",
      "|                                            Chlorobiia (1)                            | 47        |\n",
      "|                                            Kryptoniia (1)                            | 12        |\n",
      "|                                            Rhodothermia (2)                          | 184       |\n",
      "+------------------------------------------+------------------------------------------+-----------+\n",
      "| Fusobacteriota (1)                                                                   |           |\n",
      "|                                            Fusobacteriia (1)                         | 716       |\n",
      "+------------------------------------------+------------------------------------------+-----------+\n",
      "| Chlamydiota (1)                                                                      |           |\n",
      "|                                            Chlamydiia (2)                            | 537       |\n",
      "+------------------------------------------+------------------------------------------+-----------+\n",
      "| Spirochaetota (4)                                                                    |           |\n",
      "|                                            Brevinematia (1)                          | 2         |\n",
      "|                                            Brachyspiria (1)                          | 279       |\n",
      "|                                            Spirochaetia (11)                         | 867       |\n",
      "|                                            Leptospiria (2)                           | 873       |\n",
      "+------------------------------------------+------------------------------------------+-----------+\n",
      "| Chrysiogenota (2)                                                                    |           |\n",
      "|                                            Chrysiogenetes (1)                        | 4         |\n",
      "|                                            Deferribacteres (1)                       | 21        |\n",
      "+------------------------------------------+------------------------------------------+-----------+\n",
      "| Desulfobacterota_I (1)                                                               |           |\n",
      "|                                            Desulfovibrionia (1)                      | 452       |\n",
      "+------------------------------------------+------------------------------------------+-----------+\n",
      "| Verrucomicrobiota (3)                                                                |           |\n",
      "|                                            Kiritimatiellia (1)                       | 8         |\n",
      "|                                            Lentisphaeria (3)                         | 25        |\n",
      "|                                            Verrucomicrobiia (5)                      | 548       |\n",
      "+------------------------------------------+------------------------------------------+-----------+\n",
      "| Bacteroidota (1)                                                                     |           |\n",
      "|                                            Bacteroidia (9)                           | 18325     |\n",
      "+------------------------------------------+------------------------------------------+-----------+\n",
      "| Campylobacterota (2)                                                                 |           |\n",
      "|                                            Desulfurellia (1)                         | 9         |\n",
      "|                                            Campylobacteria (2)                       | 9990      |\n",
      "+------------------------------------------+------------------------------------------+-----------+\n",
      "| Actinomycetota (9)                                                                   |           |\n",
      "|                                            Rubrobacteria (1)                         | 13        |\n",
      "|                                            Geothermincolia (1)                       | 1         |\n",
      "|                                            Nitriliruptoria (2)                       | 17        |\n",
      "|                                            Humimicrobiia (1)                         | 2         |\n",
      "|                                            Thermoleophilia (3)                       | 46        |\n",
      "|                                            Aquicultoria (2)                          | 5         |\n",
      "|                                            Acidimicrobiia (1)                        | 67        |\n",
      "|                                            Coriobacteriia (2)                        | 1113      |\n",
      "|                                            Actinomycetes (10)                        | 34856     |\n",
      "+------------------------------------------+------------------------------------------+-----------+\n",
      "| Bacillota (31)                                                                       |           |\n",
      "|                                            DUOV01 (1)                                | 1         |\n",
      "|                                            DSM-16504 (1)                             | 1         |\n",
      "|                                            KKC1 (1)                                  | 1         |\n",
      "|                                            TC1 (1)                                   | 1         |\n",
      "|                                            Proteinivoracia (1)                       | 5         |\n",
      "|                                            UBA994 (1)                                | 1         |\n",
      "|                                            JADQBR01 (1)                              | 1         |\n",
      "|                                            Dethiobacteria (2)                        | 3         |\n",
      "|                                            Symbiobacteriia (1)                       | 5         |\n",
      "|                                            Thermincolia (1)                          | 3         |\n",
      "|                                            UBA4882 (2)                               | 2         |\n",
      "|                                            Natranaerobiia (1)                        | 4         |\n",
      "|                                            Thermaerobacteria (1)                     | 5         |\n",
      "|                                            Dehalobacteriia (1)                       | 4         |\n",
      "|                                            Z-2901 (1)                                | 5         |\n",
      "|                                            Limnochordia (1)                          | 4         |\n",
      "|                                            DTU030 (1)                                | 1         |\n",
      "|                                            GCA-003054495 (1)                         | 4         |\n",
      "|                                            Desulfotomaculia (1)                      | 51        |\n",
      "|                                            Sulfobacillia (1)                         | 9         |\n",
      "|                                            Syntrophomonadia (1)                      | 13        |\n",
      "|                                            DSM-12270 (1)                             | 3         |\n",
      "|                                            Thermosediminibacteria (2)                | 20        |\n",
      "|                                            Peptococcia (2)                           | 3         |\n",
      "|                                            Desulfitobacteriia (2)                    | 69        |\n",
      "|                                            Thermoanaerobacteria (2)                  | 94        |\n",
      "|                                            Moorellia (1)                             | 35        |\n",
      "|                                            Halanaerobiia (3)                         | 53        |\n",
      "|                                            Negativicutes (12)                        | 1698      |\n",
      "|                                            Clostridia (18)                           | 12579     |\n",
      "|                                            Bacilli (35)                              | 87527     |\n",
      "+------------------------------------------+------------------------------------------+-----------+\n",
      "| Pseudomonadota (4)                                                                   |           |\n",
      "|                                            Magnetococcia (1)                         | 4         |\n",
      "|                                            Zetaproteobacteria (1)                    | 13        |\n",
      "|                                            Alphaproteobacteria (38)                  | 16777     |\n",
      "|                                            Gammaproteobacteria (57)                  | 180067    |\n",
      "+------------------------------------------+------------------------------------------+-----------+\n"
     ]
    }
   ],
   "source": [
    "T = Taxonomy((\"refseq\", ))\n",
    "urls = get_urls(SUMMARY_DIRECTORY)\n",
    "T.read_GTDB_file(TAXONOMY_DIRECTORY + \"/bac120_taxonomy.tsv\", urls)\n",
    "T.read_GTDB_file(TAXONOMY_DIRECTORY + \"/ar53_taxonomy.tsv\", urls)\n",
    "del urls\n",
    "T.print(\n",
    "    (\"Bacteria\", ),  # This is the path that selects a subgraph in the taxonomy (i.e. excludes archaea).\n",
    "    2,  # The number of taxonomic levels to present in the table within the selected taxon.\n",
    "    100  # The width of the table in terms of number of characters.\n",
    ")"
   ]
  },
  {
   "cell_type": "markdown",
   "metadata": {},
   "source": [
    "## 6. Prepare Data for Training\n",
    "\n",
    "The raw dataset has flaws.\n",
    "\n",
    "- Some taxonomic groups comprise very few reference genomes. For instance, the Bacteria phylum\n",
    "  Thermosulfidibacterota comprises a single reference genome.\n",
    "- The dataset is unbalanced. For instance, the class Gammaproteobacteria comprises $181 293$\n",
    "  reference genomes.\n",
    "- All genomes are stored in a graph, which makes them unsuitable to train and test a\n",
    "  machine learning model.\n",
    "\n",
    "The following cells address these flaws by to obtain reference genomes grouped by a taxonomic\n",
    "level and split in distinct sets."
   ]
  },
  {
   "cell_type": "code",
   "execution_count": 3,
   "metadata": {},
   "outputs": [
    {
     "name": "stdout",
     "output_type": "stream",
     "text": [
      "Taxon ['root', 'Archaea', 'Nanohalarchaeota'] not retained; 3 genus in ('refseq',).\n",
      "Taxon ['root', 'Archaea', 'Nanobdellota'] not retained; 1 genus in ('refseq',).\n",
      "Taxon ['root', 'Archaea', 'Asgardarchaeota'] not retained; 2 genus in ('refseq',).\n",
      "Taxon ['root', 'Archaea', 'Korarchaeota'] not retained; 2 genus in ('refseq',).\n",
      "Taxon ['root', 'Archaea', 'Hadarchaeota'] not retained; 1 genus in ('refseq',).\n",
      "Taxon ['root', 'Archaea', 'Methanobacteriota_B'] not retained; 5 genus in ('refseq',).\n",
      "Taxon ['root', 'Archaea', 'Micrarchaeota'] not retained; 2 genus in ('refseq',).\n",
      "Taxon ['root', 'Archaea', 'Thermoplasmatota'] not retained (48 genomes).\n",
      "Taxon ['root', 'Bacteria', 'Thermosulfidibacterota'] not retained; 1 genus in ('refseq',).\n",
      "Taxon ['root', 'Bacteria', 'Omnitrophota'] not retained; 1 genus in ('refseq',).\n",
      "Taxon ['root', 'Bacteria', 'Babelota'] not retained; 2 genus in ('refseq',).\n",
      "Taxon ['root', 'Bacteria', 'Tectomicrobia'] not retained; 1 genus in ('refseq',).\n",
      "Taxon ['root', 'Bacteria', 'Desulfobacterota_C'] not retained; 1 genus in ('refseq',).\n",
      "Taxon ['root', 'Bacteria', 'Vulcanimicrobiota'] not retained; 1 genus in ('refseq',).\n",
      "Taxon ['root', 'Bacteria', 'Desulfobacterota_E'] not retained; 1 genus in ('refseq',).\n",
      "Taxon ['root', 'Bacteria', 'Thermodesulfobiota'] not retained; 1 genus in ('refseq',).\n",
      "Taxon ['root', 'Bacteria', 'Nitrospinota'] not retained; 1 genus in ('refseq',).\n",
      "Taxon ['root', 'Bacteria', 'Methylomirabilota'] not retained; 1 genus in ('refseq',).\n",
      "Taxon ['root', 'Bacteria', 'Desulfobacterota_G'] not retained; 1 genus in ('refseq',).\n",
      "Taxon ['root', 'Bacteria', 'Calditrichota'] not retained; 1 genus in ('refseq',).\n",
      "Taxon ['root', 'Bacteria', 'Bdellovibrionota_B'] not retained; 3 genus in ('refseq',).\n",
      "Taxon ['root', 'Bacteria', 'Desulfobacterota_B'] not retained; 1 genus in ('refseq',).\n",
      "Taxon ['root', 'Bacteria', 'Dictyoglomota'] not retained; 1 genus in ('refseq',).\n",
      "Taxon ['root', 'Bacteria', 'Armatimonadota'] not retained; 6 genus in ('refseq',).\n",
      "Taxon ['root', 'Bacteria', 'Patescibacteriota'] not retained; 9 genus in ('refseq',).\n",
      "Taxon ['root', 'Bacteria', 'Caldisericota'] not retained; 2 genus in ('refseq',).\n",
      "Taxon ['root', 'Bacteria', 'Gemmatimonadota'] not retained; 6 genus in ('refseq',).\n",
      "Taxon ['root', 'Bacteria', 'Atribacterota'] not retained; 2 genus in ('refseq',).\n",
      "Taxon ['root', 'Bacteria', 'Elusimicrobiota'] not retained; 5 genus in ('refseq',).\n",
      "Taxon ['root', 'Bacteria', 'Bdellovibrionota'] not retained; 7 genus in ('refseq',).\n",
      "Taxon ['root', 'Bacteria', 'Fibrobacterota'] not retained; 3 genus in ('refseq',).\n",
      "Taxon ['root', 'Bacteria', 'Coprothermobacterota'] not retained; 1 genus in ('refseq',).\n",
      "Taxon ['root', 'Bacteria', 'Bipolaricaulota'] not retained; 1 genus in ('refseq',).\n",
      "Taxon ['root', 'Bacteria', 'Nitrospirota'] not retained (34 genomes).\n",
      "Taxon ['root', 'Bacteria', 'Nitrospirota_A'] not retained; 2 genus in ('refseq',).\n",
      "Taxon ['root', 'Bacteria', 'Cloacimonadota'] not retained; 2 genus in ('refseq',).\n",
      "Taxon ['root', 'Bacteria', 'Chrysiogenota'] not retained (25 genomes).\n",
      "Found 61 taxa, retained 24.\n",
      "Detected 374201 reference genomes.\n",
      "Pruned 553 reference genomes from low frequency taxa.\n",
      "Removed 314415 reference genomes from large species.\n",
      "Selected 59233 reference genomes.\n",
      "Filtered 4518 reference genomes.\n"
     ]
    }
   ],
   "source": [
    "# Filter the dataset.\n",
    "dataset = T.bin_genomes(\n",
    "    depth=2,  # The dataset will have a resolution at the level of phyla.\n",
    "    granularity_level=1,  # Data points will be split by genus.\n",
    "    min_granularity=10,  # The minimum number of genus by data point.\n",
    "    n_min_reference_genomes_per_bin=50,  # Minimum number of reference genomes by genus.\n",
    "    n_max_reference_genomes_per_species=3,  # Maximum number of reference genomes for a species.\n",
    "    max_bin_size=20,  # Maximum number of reference genomes by genus.\n",
    "    n_max_bins=50  # Maximum number of data points for each phylum.\n",
    ")"
   ]
  },
  {
   "cell_type": "markdown",
   "metadata": {},
   "source": [
    "Phyla that contain too few genera (less than 10) are dropped, so we end up with 24 phyla.\n",
    "\n",
    "The GTDB project does not include viruses, so we have to use the taxonomy of the NCBI instead, which\n",
    "is based on the ICTV. The taxonomic levels are organized differently, so we split the virus\n",
    "reference genomes by realm instead of phylum and use a genus-level granularity."
   ]
  },
  {
   "cell_type": "code",
   "execution_count": 5,
   "metadata": {},
   "outputs": [
    {
     "name": "stdout",
     "output_type": "stream",
     "text": [
      "Taxon 1288359 has no known lineage.\n",
      "Taxon 1452540 has no known lineage.\n",
      "Taxon 2020881 has no known lineage.\n",
      "Taxon 2746248 has no known lineage.\n",
      "Taxon 2755000 has no known lineage.\n",
      "Out of 14496 reconstructed taxonomies, retained 11774.\n",
      "`('Viruses', 'Duplodnaviria')` contains 1438 values, reducing.\n",
      "`('Viruses', 'Riboviria')` contains 1059 values, reducing.\n",
      "`('Viruses', 'Monodnaviria')` contains 256 values, reducing.\n",
      "Retained 1379 reference genomes to balance the dataset.\n"
     ]
    }
   ],
   "source": [
    "tax_id_to_genome = ncbi.get_assembly_taxid(SUMMARY_DIRECTORY + \"viral.txt\")\n",
    "parents, ranks = ncbi.get_all_taxonomy_parents(\n",
    "    NCBI_TAXONOMY_DIRECTORY + \"nodes.dmp\",\n",
    "    set(tax_id_to_genome.keys())\n",
    ")\n",
    "names = ncbi.taxid_to_names(NCBI_TAXONOMY_DIRECTORY + \"names.dmp\", set(parents.keys()))\n",
    "lineages = ncbi.resolve_taxonomy(parents, ranks, tax_id_to_genome, names)\n",
    "virus_dataset = ncbi.split_non_similar_genomes(\n",
    "    lineages,\n",
    "    (\"acellular root\", \"realm\"),\n",
    "    \"genus\",\n",
    "    tax_id_to_genome,\n",
    "    max_bin_size=20,  # Maximum number of reference genomes by genus.\n",
    "    n_max_bins=100  # Maximum number of data points for each realm.\n",
    ")"
   ]
  },
  {
   "cell_type": "markdown",
   "metadata": {},
   "source": [
    "Virus reference genomes are significantly smaller than archaea and bacteria genomes, so the bins\n",
    "are bigger to compensate.\n",
    "\n",
    "```\n",
    "Why go through this hassle?\n",
    "```\n",
    "\n",
    "To correctly evaluate the performance of classification models, we have to separate the reference\n",
    "genomes into distinct sets. We cannot train and evaluate them on the same reference genomes or on\n",
    "reference genomes that are very similar because that would contaminate the model and give a false\n",
    "impression of its actual performance.\n",
    "\n",
    "For instance, if the training and testing sets both have reference genomes of *Escherichia coli*,\n",
    "the evaluation does not actually measure the precision of the model because the two sets comprise\n",
    "essentially the same data. So we split reference genomes based on their *genus* to ensure that the\n",
    "sets are non-similar. You can control that level (e.g. use the family or species as the\n",
    "non-similarity cutoff point) with the parameter `granularity_level`.\n",
    "\n",
    "Let's write this dataset in a JSON file:"
   ]
  },
  {
   "cell_type": "code",
   "execution_count": null,
   "metadata": {},
   "outputs": [],
   "source": [
    "mkdir(DATASET_V1_DIRECTORY)\n",
    "with open(DATASET_V1_DIRECTORY + 'version_1.json', 'w') as f:\n",
    "    json.dump(dataset + virus_dataset, f, indent=4)"
   ]
  },
  {
   "cell_type": "markdown",
   "metadata": {},
   "source": [
    "The file is organized as follows:\n",
    "\n",
    "```\n",
    "[\n",
    "    [\n",
    "        [Taxonomic description of a phylum / realm],\n",
    "        [\n",
    "            [\n",
    "                <genus name>,\n",
    "                [\n",
    "                    <list of reference genomes in that genus>\n",
    "                ]\n",
    "            ],\n",
    "            ...\n",
    "        ],\n",
    "        ...\n",
    "    ]\n",
    "]\n",
    "```\n",
    "\n",
    "Let's list the download URLs of all these reference genomes in a file and\n",
    "download them:"
   ]
  },
  {
   "cell_type": "code",
   "execution_count": null,
   "metadata": {},
   "outputs": [],
   "source": [
    "# Convert the dataset into a list of URLs that can be downloaded.\n",
    "make_index_file(dataset, DATASET_V1_DIRECTORY + \"index.tsv\", SUMMARY_DIRECTORY)"
   ]
  },
  {
   "cell_type": "code",
   "execution_count": null,
   "metadata": {},
   "outputs": [],
   "source": [
    "# Download all listed reference genomes as FASTA files.\n",
    "genome_dir_v1 = DATASET_V1_DIRECTORY + \"genomes\"\n",
    "mkdir(genome_dir_v1)\n",
    "ncbi.install_genomes(DATASET_V1_DIRECTORY + \"index2.tsv\", genome_dir_v1)"
   ]
  },
  {
   "cell_type": "markdown",
   "metadata": {},
   "source": [
    "## 7. Train a Neural Network for Classification\n",
    "\n",
    "This section uses synthetic metagenomes to train a neural network to classify reads as belonging to\n",
    "viral or bacterial genomes.\n",
    "\n",
    "\n",
    "### 7.1. Create the Datasets"
   ]
  },
  {
   "cell_type": "code",
   "execution_count": null,
   "metadata": {},
   "outputs": [
    {
     "name": "stdout",
     "output_type": "stream",
     "text": [
      "0.8489348888397217\n",
      "6.962372064590454\n"
     ]
    }
   ],
   "source": [
    "DATA_DIRECTORY = \"../data/\"  # You can modify this directory.\n",
    "DATASET_DIRECTORY = DATA_DIRECTORY + \"classification_dataset/\"\n",
    "BACTERIA_INDEX_FILE = DATASET_DIRECTORY + \"bacteria.tsv\"\n",
    "\n",
    "from time import time\n",
    "\n",
    "ncbi.synthetic_samples(\n",
    "    genome_index_filepath=BACTERIA_INDEX_FILE,\n",
    "    genome_directory=DATASET_DIRECTORY,\n",
    "    reads=100,\n",
    "    length=256,\n",
    "    encoding=\"onehot\",\n",
    ")"
   ]
  },
  {
   "cell_type": "code",
   "execution_count": 3,
   "metadata": {},
   "outputs": [],
   "source": [
    "DATA_DIRECTORY = \"../data/\"  # You can modify this directory.\n",
    "DATASET_DIRECTORY = DATA_DIRECTORY + \"classification_dataset/\"\n",
    "BACTERIA_INDEX_FILE = DATASET_DIRECTORY + \"bacteria.tsv\"\n",
    "VIRAL_INDEX_FILE = DATASET_DIRECTORY + \"viral.tsv\"\n",
    "\n",
    "mkdir(DATASET_DIRECTORY)\n",
    "ncbi.sample_genomes(SUMMARY_DIRECTORY, BACTERIA_INDEX_FILE, \"bacteria\", fraction = 0.0001)\n",
    "ncbi.sample_genomes(SUMMARY_DIRECTORY, VIRAL_INDEX_FILE, \"viral\", fraction = 0.01)"
   ]
  },
  {
   "cell_type": "code",
   "execution_count": 4,
   "metadata": {},
   "outputs": [],
   "source": [
    "ncbi.install_genomes(BACTERIA_INDEX_FILE, DATASET_DIRECTORY)\n",
    "ncbi.install_genomes(VIRAL_INDEX_FILE, DATASET_DIRECTORY)"
   ]
  },
  {
   "cell_type": "code",
   "execution_count": 63,
   "metadata": {},
   "outputs": [],
   "source": [
    "TRAIN_DATASET = DATASET_DIRECTORY + \"train/\"\n",
    "TEST_DATASET = DATASET_DIRECTORY + \"test/\"\n",
    "mkdir(TRAIN_DATASET)\n",
    "mkdir(TEST_DATASET)"
   ]
  },
  {
   "cell_type": "code",
   "execution_count": 64,
   "metadata": {},
   "outputs": [],
   "source": [
    "from stelaro.data import synthetic_metagenome\n",
    "\n",
    "N = 10000\n",
    "L = 300\n",
    "LD = 100\n",
    "I = 2\n",
    "ID = 2\n",
    "\n",
    "for directory in (TRAIN_DATASET, TEST_DATASET):\n",
    "    for ORGANISM in (\"bacteria\", \"viral\"):\n",
    "        synthetic_metagenome(\n",
    "            DATASET_DIRECTORY + ORGANISM + \".tsv\",\n",
    "            DATASET_DIRECTORY,\n",
    "            directory + ORGANISM + \".fasta\",\n",
    "            reads = N,\n",
    "            length = L,\n",
    "            length_deviation = LD,\n",
    "            indels = I,\n",
    "            indels_deviation = ID,\n",
    "        )"
   ]
  },
  {
   "cell_type": "markdown",
   "metadata": {},
   "source": [
    "### Transform the Data"
   ]
  },
  {
   "cell_type": "code",
   "execution_count": 65,
   "metadata": {},
   "outputs": [],
   "source": [
    "import torch\n",
    "import torch.nn as nn\n",
    "import torch.optim as optim\n",
    "from torch.utils.data import Dataset, DataLoader, ConcatDataset\n",
    "import numpy as np\n",
    "import random\n",
    "\n",
    "MAX_LEN = 400\n",
    "BATCH_SIZE = 32\n",
    "EPOCHS = 30\n",
    "DEVICE = torch.device(\"cuda\" if torch.cuda.is_available() else \"cpu\")\n",
    "\n",
    "# --- DNA encoding ---\n",
    "NUCLEOTIDE_TO_ONEHOT = {\n",
    "    'A': [1, 0, 0, 0],\n",
    "    'C': [0, 1, 0, 0],\n",
    "    'G': [0, 0, 1, 0],\n",
    "    'T': [0, 0, 0, 1],\n",
    "    'N': [0, 0, 0, 0]\n",
    "}\n",
    "\n",
    "def one_hot_encode(seq, max_len=MAX_LEN):\n",
    "    seq = seq[:max_len].ljust(max_len, 'N')  # pad with 'N' if too short\n",
    "    return np.array([NUCLEOTIDE_TO_ONEHOT.get(base, [0, 0, 0, 0]) for base in seq])"
   ]
  },
  {
   "cell_type": "code",
   "execution_count": 66,
   "metadata": {},
   "outputs": [],
   "source": [
    "class DnaDataset(Dataset):\n",
    "    def __init__(self, fasta_file, label):\n",
    "        self.samples = []\n",
    "        with open(fasta_file, \"r\") as f:\n",
    "            for line in f:\n",
    "                if line[0] in list(NUCLEOTIDE_TO_ONEHOT.keys()):\n",
    "                    encoded = one_hot_encode(line.strip())\n",
    "                    self.samples.append((encoded, label))\n",
    "\n",
    "    def __len__(self):\n",
    "        return len(self.samples)\n",
    "\n",
    "    def __getitem__(self, idx):\n",
    "        x, y = self.samples[idx]\n",
    "        return torch.tensor(x, dtype=torch.float32).permute(1, 0), torch.tensor(y, dtype=torch.long)\n",
    "\n",
    "\n",
    "# --- Load data ---\n",
    "train_data = ConcatDataset(\n",
    "    [\n",
    "        DnaDataset(TRAIN_DATASET + \"bacteria.fasta\", label=0),\n",
    "        DnaDataset(TRAIN_DATASET + \"viral.fasta\", label=1)\n",
    "    ]\n",
    ")\n",
    "train_loader = DataLoader(train_data, batch_size=BATCH_SIZE, shuffle=True)\n",
    "\n",
    "test_data = ConcatDataset(\n",
    "    [\n",
    "        DnaDataset(TEST_DATASET + \"bacteria.fasta\", label=0),\n",
    "        DnaDataset(TEST_DATASET + \"viral.fasta\", label=1)\n",
    "    ]\n",
    ")\n",
    "test_loader = DataLoader(test_data, batch_size=BATCH_SIZE)"
   ]
  },
  {
   "cell_type": "code",
   "execution_count": 74,
   "metadata": {},
   "outputs": [],
   "source": [
    "# --- Model ---\n",
    "class DnaCNN(nn.Module):\n",
    "    def __init__(self):\n",
    "        super(DnaCNN, self).__init__()\n",
    "        self.conv = nn.Sequential(\n",
    "            nn.Conv1d(4, 32, kernel_size=7, padding=3),\n",
    "            nn.ReLU(),\n",
    "            #nn.MaxPool1d(2),\n",
    "            nn.Conv1d(32, 64, kernel_size=5, padding=2),\n",
    "            nn.ReLU(),\n",
    "            #nn.MaxPool1d(2)\n",
    "        )\n",
    "        self.fc = nn.Sequential(\n",
    "            nn.Flatten(),\n",
    "            #nn.Linear((MAX_LEN // 4) * 64, 128),\n",
    "            nn.Linear(MAX_LEN * 64, 128),\n",
    "            nn.ReLU(),\n",
    "            nn.Linear(128, 2)\n",
    "        )\n",
    "\n",
    "    def forward(self, x):\n",
    "        x = self.conv(x)\n",
    "        return self.fc(x)"
   ]
  },
  {
   "cell_type": "code",
   "execution_count": 77,
   "metadata": {},
   "outputs": [],
   "source": [
    "# --- Evaluation ---\n",
    "def evaluate_model(model, loader):\n",
    "    model.eval()\n",
    "    TP = 0\n",
    "    TN = 0\n",
    "    FP = 0\n",
    "    FN = 0\n",
    "    with torch.no_grad():\n",
    "        for x_batch, y_batch in loader:\n",
    "            x_batch, y_batch = x_batch.to(DEVICE), y_batch.to(DEVICE)\n",
    "            output = model(x_batch)\n",
    "            preds = torch.argmax(output, dim=1)\n",
    "            TP += ((preds == 1) & (y_batch == 1)).sum().item()\n",
    "            TN += ((preds == 0) & (y_batch == 0)).sum().item()\n",
    "            FP += ((preds == 1) & (y_batch == 0)).sum().item()\n",
    "            FN += ((preds == 0) & (y_batch == 1)).sum().item()\n",
    "    d = 2 * TP + FP + FN\n",
    "    if d:\n",
    "        f = 2 * TP / d\n",
    "    else:\n",
    "        f = 0\n",
    "    print(f\"TP: {TP}. TN: {TN}. FP: {FP}. FN: {FN}. F1: {f}\")\n",
    "    return f\n",
    "\n",
    "# --- Training ---\n",
    "def train_model(model, train_loader, val_loader, criterion, optimizer):\n",
    "    evaluate_model(model, val_loader)\n",
    "    x1 = []\n",
    "    x2 = []\n",
    "    for epoch in range(EPOCHS):\n",
    "        model.train()\n",
    "        total_loss = 0\n",
    "        for x_batch, y_batch in train_loader:\n",
    "            x_batch, y_batch = x_batch.to(DEVICE), y_batch.to(DEVICE)\n",
    "            optimizer.zero_grad()\n",
    "            output = model(x_batch)\n",
    "            loss = criterion(output, y_batch)\n",
    "            loss.backward()\n",
    "            optimizer.step()\n",
    "            total_loss += loss.item()\n",
    "        print(f\"Epoch {epoch+1}/{EPOCHS}, Loss: {total_loss:.4f}\")\n",
    "        f = evaluate_model(model, val_loader)\n",
    "        x1.append(total_loss)\n",
    "        x2.append(f)\n",
    "    return x1, x2"
   ]
  },
  {
   "cell_type": "code",
   "execution_count": 78,
   "metadata": {},
   "outputs": [
    {
     "name": "stdout",
     "output_type": "stream",
     "text": [
      "TP: 3. TN: 9991. FP: 9. FN: 9997. F1: 0.0005992808629644426\n",
      "Epoch 1/30, Loss: 382.9387\n",
      "TP: 7704. TN: 8013. FP: 1987. FN: 2296. F1: 0.7824894621908486\n",
      "Epoch 2/30, Loss: 274.7988\n",
      "TP: 7956. TN: 8027. FP: 1973. FN: 2044. F1: 0.7984344422700587\n",
      "Epoch 3/30, Loss: 231.4155\n",
      "TP: 7404. TN: 8459. FP: 1541. FN: 2596. F1: 0.781631037212985\n",
      "Epoch 4/30, Loss: 171.9780\n",
      "TP: 7878. TN: 7642. FP: 2358. FN: 2122. F1: 0.7786123739869539\n",
      "Epoch 5/30, Loss: 98.9497\n",
      "TP: 8172. TN: 7088. FP: 2912. FN: 1828. F1: 0.7751849743881616\n",
      "Epoch 6/30, Loss: 43.6678\n",
      "TP: 7425. TN: 7789. FP: 2211. FN: 2575. F1: 0.7562640048889794\n",
      "Epoch 7/30, Loss: 19.0619\n",
      "TP: 6980. TN: 8143. FP: 1857. FN: 3020. F1: 0.7410946541381324\n",
      "Epoch 8/30, Loss: 14.4672\n",
      "TP: 8082. TN: 6654. FP: 3346. FN: 1918. F1: 0.7543401157364197\n",
      "Epoch 9/30, Loss: 20.5726\n",
      "TP: 8071. TN: 7032. FP: 2968. FN: 1929. F1: 0.7672417890584153\n",
      "Epoch 10/30, Loss: 9.2446\n",
      "TP: 7375. TN: 7810. FP: 2190. FN: 2625. F1: 0.7538972655251726\n",
      "Epoch 11/30, Loss: 8.2895\n",
      "TP: 8035. TN: 6908. FP: 3092. FN: 1965. F1: 0.7606380461021441\n",
      "Epoch 12/30, Loss: 7.9418\n",
      "TP: 7686. TN: 7379. FP: 2621. FN: 2314. F1: 0.7569803516028956\n",
      "Epoch 13/30, Loss: 7.2770\n",
      "TP: 8044. TN: 6999. FP: 3001. FN: 1956. F1: 0.7644571157044429\n",
      "Epoch 14/30, Loss: 8.6964\n",
      "TP: 8080. TN: 6708. FP: 3292. FN: 1920. F1: 0.7561295152536028\n",
      "Epoch 15/30, Loss: 11.1810\n",
      "TP: 7163. TN: 7849. FP: 2151. FN: 2837. F1: 0.7417417417417418\n",
      "Epoch 16/30, Loss: 6.0461\n",
      "TP: 7041. TN: 8093. FP: 1907. FN: 2959. F1: 0.7431918936035465\n",
      "Epoch 17/30, Loss: 8.0136\n",
      "TP: 7975. TN: 7005. FP: 2995. FN: 2025. F1: 0.7606103958035288\n",
      "Epoch 18/30, Loss: 4.0697\n",
      "TP: 7666. TN: 7471. FP: 2529. FN: 2334. F1: 0.7591978212428819\n",
      "Epoch 19/30, Loss: 0.7738\n",
      "TP: 8046. TN: 7025. FP: 2975. FN: 1954. F1: 0.7655201940916226\n",
      "Epoch 20/30, Loss: 5.9073\n",
      "TP: 6148. TN: 8565. FP: 1435. FN: 3852. F1: 0.6993118352954558\n",
      "Epoch 21/30, Loss: 14.3325\n",
      "TP: 8532. TN: 6093. FP: 3907. FN: 1468. F1: 0.7604616961540176\n",
      "Epoch 22/30, Loss: 3.4419\n",
      "TP: 7287. TN: 7753. FP: 2247. FN: 2713. F1: 0.7460837514078018\n",
      "Epoch 23/30, Loss: 0.4100\n",
      "TP: 7274. TN: 7681. FP: 2319. FN: 2726. F1: 0.7425100801306589\n",
      "Epoch 24/30, Loss: 0.1609\n",
      "TP: 7648. TN: 7427. FP: 2573. FN: 2352. F1: 0.7564413233766876\n",
      "Epoch 25/30, Loss: 0.0868\n",
      "TP: 7640. TN: 7413. FP: 2587. FN: 2360. F1: 0.7554259158550453\n",
      "Epoch 26/30, Loss: 0.0679\n",
      "TP: 7563. TN: 7472. FP: 2528. FN: 2437. F1: 0.7528744213827087\n",
      "Epoch 27/30, Loss: 0.0608\n",
      "TP: 7613. TN: 7438. FP: 2562. FN: 2387. F1: 0.7546964064436184\n",
      "Epoch 28/30, Loss: 0.0563\n",
      "TP: 7583. TN: 7463. FP: 2537. FN: 2417. F1: 0.7537773359840955\n",
      "Epoch 29/30, Loss: 17.9754\n",
      "TP: 7816. TN: 7062. FP: 2938. FN: 2184. F1: 0.7532042015996916\n",
      "Epoch 30/30, Loss: 6.8049\n",
      "TP: 7801. TN: 7157. FP: 2843. FN: 2199. F1: 0.7557643867467545\n"
     ]
    }
   ],
   "source": [
    "# --- Run ---\n",
    "model = DnaCNN().to(DEVICE)\n",
    "criterion = nn.CrossEntropyLoss()\n",
    "optimizer = optim.Adam(model.parameters(), lr=0.001)\n",
    "losses, f1 = train_model(model, train_loader, test_loader, criterion, optimizer)"
   ]
  },
  {
   "cell_type": "code",
   "execution_count": 84,
   "metadata": {},
   "outputs": [
    {
     "data": {
      "image/png": "[encoded data removed]",
      "text/plain": [
       "<Figure size 1600x600 with 2 Axes>"
      ]
     },
     "metadata": {},
     "output_type": "display_data"
    }
   ],
   "source": [
    "import matplotlib.pyplot as plt\n",
    "\n",
    "fig, ax = plt.subplots(1, 2, figsize=(16, 6))\n",
    "x = list(range(EPOCHS))\n",
    "ax[0].plot(x, losses, label=\"losses\")\n",
    "ax[0].set(xlabel='Epochs', ylabel='Loss')\n",
    "ax[1].plot(x, f1, label=\"f1\")\n",
    "ax[1].set(xlabel='Epochs', ylabel='F1 Score')\n",
    "fig.suptitle(\"Bacterial / Viral Reads Classification Training\")\n",
    "plt.show()"
   ]
  },
  {
   "cell_type": "markdown",
   "metadata": {},
   "source": [
    "- courbes distinctes pour entrainement et validation\n",
    "- entrainer jusquà la dégradation / plateau des résultats de validation\n",
    "- comparer les modèles (CNN / RNN / MLP / ... / RF (méthodes classiques)) et les résultats\n",
    "- limiter les bases de données  / nombre de citations / facilité d'utilisation du format de données"
   ]
  }
 ],
 "metadata": {
  "kernelspec": {
   "display_name": "venv",
   "language": "python",
   "name": "python3"
  },
  "language_info": {
   "codemirror_mode": {
    "name": "ipython",
    "version": 3
   },
   "file_extension": ".py",
   "mimetype": "text/x-python",
   "name": "python",
   "nbconvert_exporter": "python",
   "pygments_lexer": "ipython3",
   "version": "3.11.2"
  }
 },
 "nbformat": 4,
 "nbformat_minor": 2
}
