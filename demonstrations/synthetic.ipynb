{
 "cells": [
  {
   "cell_type": "markdown",
   "metadata": {},
   "source": [
    "# Synthetic Data\n",
    "\n",
    "Basic use case of `stelaro` that manipulates synthetic data."
   ]
  },
  {
   "cell_type": "code",
   "execution_count": 1,
   "metadata": {},
   "outputs": [],
   "source": [
    "import os\n",
    "import json\n",
    "from stelaro.data import (\n",
    "    ncbi,\n",
    "    gtdb,\n",
    "    Taxonomy,\n",
    "    synthetic,\n",
    "    non_similar_sets,\n",
    "    get_urls,\n",
    "    make_index_file,\n",
    "    read_genome\n",
    ")\n",
    "\n",
    "DATA_DIRECTORY = \"../data/\"  # You can modify this directory.\n",
    "DATASET_DIRECTORY = DATA_DIRECTORY + \"genome_small_dataset/\"\n",
    "SUMMARY_DIRECTORY = DATA_DIRECTORY + \"ncbi_genome_summaries/\"\n",
    "NCBI_TAXONOMY_DIRECTORY = DATA_DIRECTORY + \"ncbi_taxonomy/\"\n",
    "TAXONOMY_DIRECTORY = DATA_DIRECTORY + \"gtdb/\"\n",
    "INDEX_FILE = DATASET_DIRECTORY + \"index.tsv\"\n",
    "\n",
    "DATASET_V1_DIRECTORY = DATA_DIRECTORY + \"version_1/\"\n",
    "\n",
    "\n",
    "def mkdir(path: str) -> None:\n",
    "    \"\"\"Create a directory if it does not exist.\"\"\"\n",
    "    if not os.path.exists(path):\n",
    "        os.makedirs(path)\n",
    "\n",
    "\n",
    "mkdir(DATA_DIRECTORY)"
   ]
  },
  {
   "cell_type": "markdown",
   "metadata": {},
   "source": [
    "## 1. Fetch Reference Genomes\n",
    "\n",
    "You can download reference genome summaries and use these summaries to create\n",
    "your own datasets:"
   ]
  },
  {
   "cell_type": "code",
   "execution_count": 8,
   "metadata": {},
   "outputs": [],
   "source": [
    "mkdir(SUMMARY_DIRECTORY)\n",
    "ncbi.install_summaries(SUMMARY_DIRECTORY)"
   ]
  },
  {
   "cell_type": "code",
   "execution_count": 9,
   "metadata": {},
   "outputs": [
    {
     "name": "stdout",
     "output_type": "stream",
     "text": [
      "archaea: 2 579 genomes\n",
      "bacteria: 432 090 genomes\n",
      "fungi: 644 genomes\n",
      "invertebrate: 434 genomes\n",
      "plant: 186 genomes\n",
      "protozoa: 121 genomes\n",
      "vertebrate mammalian: 239 genomes\n",
      "vertebrate other: 432 genomes\n",
      "viral: 14 997 genomes\n",
      "\n",
      "Total: 451 722\n"
     ]
    }
   ],
   "source": [
    "ncbi.summarize_assemblies(SUMMARY_DIRECTORY)"
   ]
  },
  {
   "cell_type": "code",
   "execution_count": null,
   "metadata": {},
   "outputs": [],
   "source": [
    "ncbi.install_taxonomy(NCBI_TAXONOMY_DIRECTORY)"
   ]
  },
  {
   "cell_type": "markdown",
   "metadata": {},
   "source": [
    "## 2. Sample Reference Genomes\n",
    "\n",
    "You can create an index of genomes that will be use to download reference\n",
    "genomes. Given that the NCBI contains 407929 reference genomes as of November\n",
    "2024, you may want to sample a subset of genomes to create a more manageable\n",
    "genome database during tests."
   ]
  },
  {
   "cell_type": "code",
   "execution_count": null,
   "metadata": {},
   "outputs": [],
   "source": [
    "mkdir(DATASET_DIRECTORY)\n",
    "ncbi.sample_genomes(SUMMARY_DIRECTORY, INDEX_FILE, fraction = 0.005)"
   ]
  },
  {
   "cell_type": "markdown",
   "metadata": {},
   "source": [
    "Let's visualize the index file:"
   ]
  },
  {
   "cell_type": "code",
   "execution_count": 6,
   "metadata": {},
   "outputs": [
    {
     "name": "stdout",
     "output_type": "stream",
     "text": [
      "First 5 lines contained in the index file:\n",
      "\n",
      "```\n",
      "ID\tURL\tcategory\n",
      "GCF_001639295.1.fna\thttps://ftp.ncbi.nlm.nih.gov/genomes/all/GCF/001/639/295/GCF_001639295.1_ASM163929v1/GCF_001639295.1_ASM163929v1_genomic.fna.gz\tarchaea\n",
      "GCF_902384065.1.fna\thttps://ftp.ncbi.nlm.nih.gov/genomes/all/GCF/902/384/065/GCF_902384065.1_UHGG_MGYG-HGUT-02162/GCF_902384065.1_UHGG_MGYG-HGUT-02162_genomic.fna.gz\tarchaea\n",
      "GCF_002214525.1.fna\thttps://ftp.ncbi.nlm.nih.gov/genomes/all/GCF/002/214/525/GCF_002214525.1_ASM221452v1/GCF_002214525.1_ASM221452v1_genomic.fna.gz\tarchaea\n",
      "GCF_003711245.1.fna\thttps://ftp.ncbi.nlm.nih.gov/genomes/all/GCF/003/711/245/GCF_003711245.1_ASM371124v1/GCF_003711245.1_ASM371124v1_genomic.fna.gz\tarchaea\n",
      "```\n",
      "\n",
      "Total number of lines: 1964.\n"
     ]
    }
   ],
   "source": [
    "with open(INDEX_FILE, \"r\") as f:\n",
    "    count = 0\n",
    "    print(\"First 5 lines contained in the index file:\\n\\n```\")\n",
    "    for line in f:\n",
    "        if count < 5:\n",
    "            print(line[:-1])\n",
    "        count += 1\n",
    "    print(f\"```\\n\\nTotal number of lines: {count}.\")"
   ]
  },
  {
   "cell_type": "markdown",
   "metadata": {},
   "source": [
    "## 3. Install Sampled Reference Genomes\n",
    "\n",
    "The following cell installs the genomes downloaded at the previous step."
   ]
  },
  {
   "cell_type": "code",
   "execution_count": 7,
   "metadata": {},
   "outputs": [],
   "source": [
    "ncbi.install_genomes(INDEX_FILE, DATASET_DIRECTORY)"
   ]
  },
  {
   "cell_type": "markdown",
   "metadata": {},
   "source": [
    "The genomes listed in the index file should now be installed at ``DATASET_DIRECTORY``. Let's\n",
    "examine the first file that was downloaded:"
   ]
  },
  {
   "cell_type": "code",
   "execution_count": 8,
   "metadata": {},
   "outputs": [
    {
     "name": "stdout",
     "output_type": "stream",
     "text": [
      "First lines contained in the genome file:\n",
      "\n",
      "```\n",
      ">NZ_LWMV01000001.1 Methanobrevibacter curvatus strain DSM 11111 MBCUR_contig000001, whole genome shotgun sequence\n",
      "ATCAGTAGAGTGTGCAGAGGTATATAGTTTTTTTTTTTTTTTTTTTTTTTTTTTTTTTTTTTTTTTTTTTTTTTTTTTTT\n",
      "TTTTTTTTTTTTTATATGTGTATGGTTTTATTCAAGCTTTTCAATAAATTAACAGCAGAATAAGCCGCTAAAACACTTGT\n",
      "TTTTGGATTTATGTTGGATGGAACATTTTCAGTTTTACTAGTAAAACTTCCAAATTCTCCTTTTACATGGACTTCATGAA\n",
      "TATTTCTATTTATTTCTGGATCTATAATGATTTTTACATTAATATCCATATTAGAAGCAATACTTAGTGCAGCTGCAACA\n",
      "```\n",
      "\n",
      "Total number of lines: 30529.\n"
     ]
    }
   ],
   "source": [
    "with open(INDEX_FILE, \"r\") as f:\n",
    "    next(f)\n",
    "    filename = f.readline().split(\"\\t\")[0]\n",
    "\n",
    "with open(DATASET_DIRECTORY + \"/\" + filename) as f:\n",
    "    count = 0\n",
    "    print(\"First lines contained in the genome file:\\n\\n```\")\n",
    "    for line in f:\n",
    "        if count < 5:\n",
    "            print(line[:-1])\n",
    "        count += 1\n",
    "    print(f\"```\\n\\nTotal number of lines: {count}.\")"
   ]
  },
  {
   "cell_type": "markdown",
   "metadata": {},
   "source": [
    "## 4. Generate a Synthetic Metagenome From Reference Genomes\n",
    "\n",
    "The following cell extracts subsequences from the downloaded reference genomes to simulate reads\n",
    "obtained during a metagenomic sequencing experiment."
   ]
  },
  {
   "cell_type": "code",
   "execution_count": null,
   "metadata": {},
   "outputs": [
    {
     "name": "stdout",
     "output_type": "stream",
     "text": [
      ">GCF_001998405.1.fna\t341684\t0\n",
      "ACGAGCAACGCTGAAGCGAAAATAGGGGGGATCACCCCGCTTAAATTCAA\n",
      "\n",
      ">GCF_002498065.1.fna\t1444400\t1\n",
      "CAAGCATATCGGGATGGGTCGTCGCGGGGAACGGGTCGTCGCTGTTGAAG\n",
      "\n",
      ">GCF_038731385.1.fna\t1390023\t2\n",
      "AGAGAGAAAAAGATAGATAACGTTCACATACCCAGAAAGCCCCTCGATGT\n",
      "\n"
     ]
    }
   ],
   "source": [
    "from stelaro.data import synthetic_metagenome\n",
    "\n",
    "SYNTHETIC_FILE = DATA_DIRECTORY + \"test_metagenome1.fasta\"\n",
    "\n",
    "synthetic_metagenome(\n",
    "    INDEX_FILE,\n",
    "    DATASET_DIRECTORY,\n",
    "    SYNTHETIC_FILE,\n",
    "    reads = 3,\n",
    "    length = 50,\n",
    ")\n",
    "\n",
    "with open(SYNTHETIC_FILE, \"r\") as f:\n",
    "    for line in f:\n",
    "        print(line[:-1])  # Ignore the newline character."
   ]
  },
  {
   "cell_type": "markdown",
   "metadata": {},
   "source": [
    "## 5. Install a Reference Taxonomy\n",
    "\n",
    "A taxonomy describes the phylogenetic links between species.\n",
    "\n",
    "The GTDB project (https://gtdb.ecogenomic.org/) is a genome taxonomy database that describes a\n",
    "taxonomy for bacteria and archaea. Install it with the following cell:"
   ]
  },
  {
   "cell_type": "code",
   "execution_count": 4,
   "metadata": {},
   "outputs": [],
   "source": [
    "gtdb.install_taxonomy(TAXONOMY_DIRECTORY)"
   ]
  },
  {
   "cell_type": "markdown",
   "metadata": {},
   "source": [
    "Let's inspect the **bacterial** taxonomy:"
   ]
  },
  {
   "cell_type": "code",
   "execution_count": 5,
   "metadata": {},
   "outputs": [
    {
     "name": "stdout",
     "output_type": "stream",
     "text": [
      "First lines contained in the GTDB bacterial taxonomy file:\n",
      "\n",
      "```\n",
      "RS_GCF_009898805.1\td__Bacteria;p__Pseudomonadota;c__Gammaproteobacteria;o__Enterobacterales;f__Enterobacteriaceae;g__Escherichia;s__Escherichia coli\n",
      "RS_GCF_024700115.1\td__Bacteria;p__Pseudomonadota;c__Gammaproteobacteria;o__Enterobacterales;f__Enterobacteriaceae;g__Escherichia;s__Escherichia coli\n",
      "RS_GCF_003829795.1\td__Bacteria;p__Pseudomonadota;c__Gammaproteobacteria;o__Enterobacterales;f__Enterobacteriaceae;g__Escherichia;s__Escherichia coli\n",
      "RS_GCF_900480365.1\td__Bacteria;p__Pseudomonadota;c__Gammaproteobacteria;o__Enterobacterales;f__Enterobacteriaceae;g__Escherichia;s__Escherichia coli\n",
      "GB_GCA_003592305.1\td__Bacteria;p__Pseudomonadota;c__Gammaproteobacteria;o__Enterobacterales;f__Enterobacteriaceae;g__Escherichia;s__Escherichia coli\n",
      "```\n",
      "\n",
      "Total number of lines: 715230.\n"
     ]
    }
   ],
   "source": [
    "with open(TAXONOMY_DIRECTORY + \"/bac120_taxonomy.tsv\") as f:\n",
    "    count = 0\n",
    "    print(\"First lines contained in the GTDB bacterial taxonomy file:\\n\\n```\")\n",
    "    for line in f:\n",
    "        if count < 5:\n",
    "            print(line[:-1])\n",
    "        count += 1\n",
    "    print(f\"```\\n\\nTotal number of lines: {count}.\")"
   ]
  },
  {
   "cell_type": "markdown",
   "metadata": {},
   "source": [
    "The first column is the identifier of a reference genome. The second column is its taxonomy. Each\n",
    "field of that column contains a prefix that indicates the taxonomic order:\n",
    "\n",
    "- `d__`: Domain (bacteria)\n",
    "- `p__`: Phylum\n",
    "- `c__`: Class\n",
    "- `o__`: Order\n",
    "- `f__`: Family\n",
    "- `g__`: Genus\n",
    "- `s__`: Species\n",
    "\n",
    "There are multiple *Escherichia coli* reference genomes because they correspond to different strains\n",
    "within the same species.\n",
    "\n",
    "Visualizing the full taxonomy is complicated because it comprises more than *700 000* reference\n",
    "genomes, only for bacteria! The following cell loads the GTDB bacteria taxonomy and selects only\n",
    "reference genomes comprised within the `refseq` database, which contains curated data. The cell then\n",
    "prints a table that summarizes the taxonomic groups in the phylum Pseudomonadota and the number\n",
    "of reference genomes for each family."
   ]
  },
  {
   "cell_type": "code",
   "execution_count": 2,
   "metadata": {},
   "outputs": [
    {
     "name": "stdout",
     "output_type": "stream",
     "text": [
      "Taxonomy within the domain Bacteria (372_073 genomes):\n",
      "+==========================================+==========================================+===========+\n",
      "| phylum (50)                              | class (136)                              | N Genomes |\n",
      "+==========================================+==========================================+===========+\n",
      "| Thermosulfidibacterota (1)                                                           |           |\n",
      "|                                            Thermosulfidibacteria (1)                 | 1         |\n",
      "+------------------------------------------+------------------------------------------+-----------+\n",
      "| Omnitrophota (1)                                                                     |           |\n",
      "|                                            Koll11 (1)                                | 1         |\n",
      "+------------------------------------------+------------------------------------------+-----------+\n",
      "| Babelota (1)                                                                         |           |\n",
      "|                                            Babeliae (1)                              | 2         |\n",
      "+------------------------------------------+------------------------------------------+-----------+\n",
      "| Tectomicrobia (1)                                                                    |           |\n",
      "|                                            Entotheonellia (1)                        | 1         |\n",
      "+------------------------------------------+------------------------------------------+-----------+\n",
      "| Desulfobacterota_C (1)                                                               |           |\n",
      "|                                            Deferrisomatia (1)                        | 1         |\n",
      "+------------------------------------------+------------------------------------------+-----------+\n",
      "| Vulcanimicrobiota (1)                                                                |           |\n",
      "|                                            Vulcanimicrobiia (1)                      | 1         |\n",
      "+------------------------------------------+------------------------------------------+-----------+\n",
      "| Desulfobacterota_E (1)                                                               |           |\n",
      "|                                            Deferrimicrobia (1)                       | 3         |\n",
      "+------------------------------------------+------------------------------------------+-----------+\n",
      "| Thermodesulfobiota (1)                                                               |           |\n",
      "|                                            Thermodesulfobiia (1)                     | 3         |\n",
      "+------------------------------------------+------------------------------------------+-----------+\n",
      "| Nitrospinota (1)                                                                     |           |\n",
      "|                                            Nitrospinia (1)                           | 4         |\n",
      "+------------------------------------------+------------------------------------------+-----------+\n",
      "| Methylomirabilota (1)                                                                |           |\n",
      "|                                            Methylomirabilia (1)                      | 3         |\n",
      "+------------------------------------------+------------------------------------------+-----------+\n",
      "| Desulfobacterota_G (1)                                                               |           |\n",
      "|                                            Syntrophorhabdia (1)                      | 1         |\n",
      "+------------------------------------------+------------------------------------------+-----------+\n",
      "| Calditrichota (1)                                                                    |           |\n",
      "|                                            Calditrichia (1)                          | 2         |\n",
      "+------------------------------------------+------------------------------------------+-----------+\n",
      "| Bdellovibrionota_B (1)                                                               |           |\n",
      "|                                            Oligoflexia (2)                           | 13        |\n",
      "+------------------------------------------+------------------------------------------+-----------+\n",
      "| Desulfobacterota_B (1)                                                               |           |\n",
      "|                                            Binatia (1)                               | 5         |\n",
      "+------------------------------------------+------------------------------------------+-----------+\n",
      "| Dictyoglomota (1)                                                                    |           |\n",
      "|                                            Dictyoglomia (1)                          | 5         |\n",
      "+------------------------------------------+------------------------------------------+-----------+\n",
      "| Armatimonadota (5)                                                                   |           |\n",
      "|                                            Abditibacteriia (1)                       | 1         |\n",
      "|                                            Fimbriimonadia (1)                        | 1         |\n",
      "|                                            Armatimonadia (1)                         | 5         |\n",
      "|                                            Chthonomonadetes (1)                      | 6         |\n",
      "|                                            HRBIN17 (1)                               | 2         |\n",
      "+------------------------------------------+------------------------------------------+-----------+\n",
      "| Patescibacteriota (3)                                                                |           |\n",
      "|                                            JAEDAM01 (1)                              | 2         |\n",
      "|                                            Microgenomatia (1)                        | 1         |\n",
      "|                                            Saccharimonadia (1)                       | 23        |\n",
      "+------------------------------------------+------------------------------------------+-----------+\n",
      "| Caldisericota (1)                                                                    |           |\n",
      "|                                            Caldisericia (2)                          | 8         |\n",
      "+------------------------------------------+------------------------------------------+-----------+\n",
      "| Acidobacteriota (5)                                                                  |           |\n",
      "|                                            Vicinamibacteria (1)                      | 3         |\n",
      "|                                            Holophagae (3)                            | 25        |\n",
      "|                                            Terriglobia (2)                           | 86        |\n",
      "|                                            Thermoanaerobaculia (1)                   | 1         |\n",
      "|                                            Blastocatellia (2)                        | 13        |\n",
      "+------------------------------------------+------------------------------------------+-----------+\n",
      "| Gemmatimonadota (1)                                                                  |           |\n",
      "|                                            Gemmatimonadetes (3)                      | 41        |\n",
      "+------------------------------------------+------------------------------------------+-----------+\n",
      "| Atribacterota (1)                                                                    |           |\n",
      "|                                            Atribacteria (1)                          | 4         |\n",
      "+------------------------------------------+------------------------------------------+-----------+\n",
      "| Elusimicrobiota (2)                                                                  |           |\n",
      "|                                            Elusimicrobia (1)                         | 2         |\n",
      "|                                            Endomicrobiia (1)                         | 7         |\n",
      "+------------------------------------------+------------------------------------------+-----------+\n",
      "| Bdellovibrionota (2)                                                                 |           |\n",
      "|                                            Bacteriovoracia (1)                       | 20        |\n",
      "|                                            Bdellovibrionia (1)                       | 30        |\n",
      "+------------------------------------------+------------------------------------------+-----------+\n",
      "| Fibrobacterota (2)                                                                   |           |\n",
      "|                                            Chitinivibrionia (1)                      | 1         |\n",
      "|                                            Fibrobacteria (1)                         | 88        |\n",
      "+------------------------------------------+------------------------------------------+-----------+\n",
      "| Coprothermobacterota (1)                                                             |           |\n",
      "|                                            Coprothermobacteria (1)                   | 4         |\n",
      "+------------------------------------------+------------------------------------------+-----------+\n",
      "| Bipolaricaulota (1)                                                                  |           |\n",
      "|                                            Bipolaricaulia (1)                        | 1         |\n",
      "+------------------------------------------+------------------------------------------+-----------+\n",
      "| Desulfobacterota (12)                                                                |           |\n",
      "|                                            DSM-4660 (1)                              | 1         |\n",
      "|                                            Desulfarculia (1)                         | 3         |\n",
      "|                                            Desulfomonilia (1)                        | 1         |\n",
      "|                                            Dissulfuribacteria (1)                    | 4         |\n",
      "|                                            Syntrophobacteria (1)                     | 9         |\n",
      "|                                            Desulfobaccia (1)                         | 1         |\n",
      "|                                            Syntrophia (1)                            | 3         |\n",
      "|                                            Desulfofervidia (1)                       | 1         |\n",
      "|                                            Desulfobulbia (1)                         | 34        |\n",
      "|                                            Desulfobacteria (1)                       | 62        |\n",
      "|                                            Thermodesulfobacteria (1)                 | 20        |\n",
      "|                                            Desulfuromonadia (2)                      | 118       |\n",
      "+------------------------------------------+------------------------------------------+-----------+\n",
      "| Aquificota (1)                                                                       |           |\n",
      "|                                            Aquificia (2)                             | 53        |\n",
      "+------------------------------------------+------------------------------------------+-----------+\n",
      "| Planctomycetota (4)                                                                  |           |\n",
      "|                                            Uabimicrobiia (1)                         | 3         |\n",
      "|                                            Phycisphaerae (3)                         | 12        |\n",
      "|                                            Planctomycetia (4)                        | 215       |\n",
      "|                                            Brocadiia (1)                             | 10        |\n",
      "+------------------------------------------+------------------------------------------+-----------+\n",
      "| Myxococcota (3)                                                                      |           |\n",
      "|                                            Bradymonadia (1)                          | 9         |\n",
      "|                                            Polyangia (3)                             | 41        |\n",
      "|                                            Myxococcia (1)                            | 174       |\n",
      "+------------------------------------------+------------------------------------------+-----------+\n",
      "| Synergistota (1)                                                                     |           |\n",
      "|                                            Synergistia (1)                           | 130       |\n",
      "+------------------------------------------+------------------------------------------+-----------+\n",
      "| Nitrospirota (2)                                                                     |           |\n",
      "|                                            Thermodesulfovibrionia (1)                | 19        |\n",
      "|                                            Nitrospiria (2)                           | 15        |\n",
      "+------------------------------------------+------------------------------------------+-----------+\n",
      "| Chloroflexota (5)                                                                    |           |\n",
      "|                                            Ktedonobacteria (1)                       | 20        |\n",
      "|                                            Dormibacteria (2)                         | 3         |\n",
      "|                                            Chloroflexia (4)                          | 53        |\n",
      "|                                            Anaerolineae (8)                          | 57        |\n",
      "|                                            Dehalococcoidia (3)                       | 80        |\n",
      "+------------------------------------------+------------------------------------------+-----------+\n",
      "| Thermotogota (1)                                                                     |           |\n",
      "|                                            Thermotogae (3)                           | 166       |\n",
      "+------------------------------------------+------------------------------------------+-----------+\n",
      "| Nitrospirota_A (1)                                                                   |           |\n",
      "|                                            Leptospirillia (1)                        | 9         |\n",
      "+------------------------------------------+------------------------------------------+-----------+\n",
      "| Cloacimonadota (1)                                                                   |           |\n",
      "|                                            Cloacimonadia (1)                         | 2         |\n",
      "+------------------------------------------+------------------------------------------+-----------+\n",
      "| Deinococcota (1)                                                                     |           |\n",
      "|                                            Deinococci (1)                            | 357       |\n",
      "+------------------------------------------+------------------------------------------+-----------+\n",
      "| Cyanobacteriota (2)                                                                  |           |\n",
      "|                                            Vampirovibrionia (1)                      | 2         |\n",
      "|                                            Cyanobacteriia (21)                       | 1867      |\n",
      "+------------------------------------------+------------------------------------------+-----------+\n",
      "| Bacteroidota_A (4)                                                                   |           |\n",
      "|                                            Ignavibacteria (1)                        | 13        |\n",
      "|                                            Chlorobiia (1)                            | 47        |\n",
      "|                                            Kryptoniia (1)                            | 12        |\n",
      "|                                            Rhodothermia (2)                          | 184       |\n",
      "+------------------------------------------+------------------------------------------+-----------+\n",
      "| Fusobacteriota (1)                                                                   |           |\n",
      "|                                            Fusobacteriia (1)                         | 716       |\n",
      "+------------------------------------------+------------------------------------------+-----------+\n",
      "| Chlamydiota (1)                                                                      |           |\n",
      "|                                            Chlamydiia (2)                            | 537       |\n",
      "+------------------------------------------+------------------------------------------+-----------+\n",
      "| Spirochaetota (4)                                                                    |           |\n",
      "|                                            Brevinematia (1)                          | 2         |\n",
      "|                                            Brachyspiria (1)                          | 279       |\n",
      "|                                            Spirochaetia (11)                         | 867       |\n",
      "|                                            Leptospiria (2)                           | 873       |\n",
      "+------------------------------------------+------------------------------------------+-----------+\n",
      "| Chrysiogenota (2)                                                                    |           |\n",
      "|                                            Chrysiogenetes (1)                        | 4         |\n",
      "|                                            Deferribacteres (1)                       | 21        |\n",
      "+------------------------------------------+------------------------------------------+-----------+\n",
      "| Desulfobacterota_I (1)                                                               |           |\n",
      "|                                            Desulfovibrionia (1)                      | 452       |\n",
      "+------------------------------------------+------------------------------------------+-----------+\n",
      "| Verrucomicrobiota (3)                                                                |           |\n",
      "|                                            Kiritimatiellia (1)                       | 8         |\n",
      "|                                            Lentisphaeria (3)                         | 25        |\n",
      "|                                            Verrucomicrobiia (5)                      | 548       |\n",
      "+------------------------------------------+------------------------------------------+-----------+\n",
      "| Bacteroidota (1)                                                                     |           |\n",
      "|                                            Bacteroidia (9)                           | 18325     |\n",
      "+------------------------------------------+------------------------------------------+-----------+\n",
      "| Campylobacterota (2)                                                                 |           |\n",
      "|                                            Desulfurellia (1)                         | 9         |\n",
      "|                                            Campylobacteria (2)                       | 9990      |\n",
      "+------------------------------------------+------------------------------------------+-----------+\n",
      "| Actinomycetota (9)                                                                   |           |\n",
      "|                                            Rubrobacteria (1)                         | 13        |\n",
      "|                                            Geothermincolia (1)                       | 1         |\n",
      "|                                            Nitriliruptoria (2)                       | 17        |\n",
      "|                                            Humimicrobiia (1)                         | 2         |\n",
      "|                                            Thermoleophilia (3)                       | 46        |\n",
      "|                                            Aquicultoria (2)                          | 5         |\n",
      "|                                            Acidimicrobiia (1)                        | 67        |\n",
      "|                                            Coriobacteriia (2)                        | 1113      |\n",
      "|                                            Actinomycetes (10)                        | 34856     |\n",
      "+------------------------------------------+------------------------------------------+-----------+\n",
      "| Bacillota (31)                                                                       |           |\n",
      "|                                            DUOV01 (1)                                | 1         |\n",
      "|                                            DSM-16504 (1)                             | 1         |\n",
      "|                                            KKC1 (1)                                  | 1         |\n",
      "|                                            TC1 (1)                                   | 1         |\n",
      "|                                            Proteinivoracia (1)                       | 5         |\n",
      "|                                            UBA994 (1)                                | 1         |\n",
      "|                                            JADQBR01 (1)                              | 1         |\n",
      "|                                            Dethiobacteria (2)                        | 3         |\n",
      "|                                            Symbiobacteriia (1)                       | 5         |\n",
      "|                                            Thermincolia (1)                          | 3         |\n",
      "|                                            UBA4882 (2)                               | 2         |\n",
      "|                                            Natranaerobiia (1)                        | 4         |\n",
      "|                                            Thermaerobacteria (1)                     | 5         |\n",
      "|                                            Dehalobacteriia (1)                       | 4         |\n",
      "|                                            Z-2901 (1)                                | 5         |\n",
      "|                                            Limnochordia (1)                          | 4         |\n",
      "|                                            DTU030 (1)                                | 1         |\n",
      "|                                            GCA-003054495 (1)                         | 4         |\n",
      "|                                            Desulfotomaculia (1)                      | 51        |\n",
      "|                                            Sulfobacillia (1)                         | 9         |\n",
      "|                                            Syntrophomonadia (1)                      | 13        |\n",
      "|                                            DSM-12270 (1)                             | 3         |\n",
      "|                                            Thermosediminibacteria (2)                | 20        |\n",
      "|                                            Peptococcia (2)                           | 3         |\n",
      "|                                            Desulfitobacteriia (2)                    | 69        |\n",
      "|                                            Thermoanaerobacteria (2)                  | 94        |\n",
      "|                                            Moorellia (1)                             | 35        |\n",
      "|                                            Halanaerobiia (3)                         | 53        |\n",
      "|                                            Negativicutes (12)                        | 1698      |\n",
      "|                                            Clostridia (18)                           | 12579     |\n",
      "|                                            Bacilli (35)                              | 87527     |\n",
      "+------------------------------------------+------------------------------------------+-----------+\n",
      "| Pseudomonadota (4)                                                                   |           |\n",
      "|                                            Magnetococcia (1)                         | 4         |\n",
      "|                                            Zetaproteobacteria (1)                    | 13        |\n",
      "|                                            Alphaproteobacteria (38)                  | 16777     |\n",
      "|                                            Gammaproteobacteria (57)                  | 180067    |\n",
      "+------------------------------------------+------------------------------------------+-----------+\n"
     ]
    }
   ],
   "source": [
    "T = Taxonomy((\"refseq\", ))\n",
    "urls = get_urls(SUMMARY_DIRECTORY)\n",
    "T.read_GTDB_file(TAXONOMY_DIRECTORY + \"/bac120_taxonomy.tsv\", urls)\n",
    "T.read_GTDB_file(TAXONOMY_DIRECTORY + \"/ar53_taxonomy.tsv\", urls)\n",
    "del urls\n",
    "T.print(\n",
    "    (\"Bacteria\", ),  # This is the path that selects a subgraph in the taxonomy (i.e. excludes archaea).\n",
    "    2,  # The number of taxonomic levels to present in the table within the selected taxon.\n",
    "    100  # The width of the table in terms of number of characters.\n",
    ")"
   ]
  },
  {
   "cell_type": "markdown",
   "metadata": {},
   "source": [
    "## 6. Prepare Data for Training\n",
    "\n",
    "The raw dataset has flaws.\n",
    "\n",
    "- Some taxonomic groups comprise very few reference genomes. For instance, the Bacteria phylum\n",
    "  Thermosulfidibacterota comprises a single reference genome.\n",
    "- The dataset is unbalanced. For instance, the class Gammaproteobacteria comprises $181 293$\n",
    "  reference genomes.\n",
    "- All genomes are stored in a graph, which makes them unsuitable to train and test a\n",
    "  machine learning model.\n",
    "\n",
    "The following cells address these flaws by to obtain reference genomes grouped by a taxonomic\n",
    "level and split in distinct sets."
   ]
  },
  {
   "cell_type": "code",
   "execution_count": 3,
   "metadata": {},
   "outputs": [
    {
     "name": "stdout",
     "output_type": "stream",
     "text": [
      "Taxon ['root', 'Archaea', 'Nanohalarchaeota'] not retained; 3 genus in ('refseq',).\n",
      "Taxon ['root', 'Archaea', 'Nanobdellota'] not retained; 1 genus in ('refseq',).\n",
      "Taxon ['root', 'Archaea', 'Asgardarchaeota'] not retained; 2 genus in ('refseq',).\n",
      "Taxon ['root', 'Archaea', 'Korarchaeota'] not retained; 2 genus in ('refseq',).\n",
      "Taxon ['root', 'Archaea', 'Hadarchaeota'] not retained; 1 genus in ('refseq',).\n",
      "Taxon ['root', 'Archaea', 'Methanobacteriota_B'] not retained; 5 genus in ('refseq',).\n",
      "Taxon ['root', 'Archaea', 'Micrarchaeota'] not retained; 2 genus in ('refseq',).\n",
      "Taxon ['root', 'Archaea', 'Thermoplasmatota'] not retained (48 genomes).\n",
      "Taxon ['root', 'Bacteria', 'Thermosulfidibacterota'] not retained; 1 genus in ('refseq',).\n",
      "Taxon ['root', 'Bacteria', 'Omnitrophota'] not retained; 1 genus in ('refseq',).\n",
      "Taxon ['root', 'Bacteria', 'Babelota'] not retained; 2 genus in ('refseq',).\n",
      "Taxon ['root', 'Bacteria', 'Tectomicrobia'] not retained; 1 genus in ('refseq',).\n",
      "Taxon ['root', 'Bacteria', 'Desulfobacterota_C'] not retained; 1 genus in ('refseq',).\n",
      "Taxon ['root', 'Bacteria', 'Vulcanimicrobiota'] not retained; 1 genus in ('refseq',).\n",
      "Taxon ['root', 'Bacteria', 'Desulfobacterota_E'] not retained; 1 genus in ('refseq',).\n",
      "Taxon ['root', 'Bacteria', 'Thermodesulfobiota'] not retained; 1 genus in ('refseq',).\n",
      "Taxon ['root', 'Bacteria', 'Nitrospinota'] not retained; 1 genus in ('refseq',).\n",
      "Taxon ['root', 'Bacteria', 'Methylomirabilota'] not retained; 1 genus in ('refseq',).\n",
      "Taxon ['root', 'Bacteria', 'Desulfobacterota_G'] not retained; 1 genus in ('refseq',).\n",
      "Taxon ['root', 'Bacteria', 'Calditrichota'] not retained; 1 genus in ('refseq',).\n",
      "Taxon ['root', 'Bacteria', 'Bdellovibrionota_B'] not retained; 3 genus in ('refseq',).\n",
      "Taxon ['root', 'Bacteria', 'Desulfobacterota_B'] not retained; 1 genus in ('refseq',).\n",
      "Taxon ['root', 'Bacteria', 'Dictyoglomota'] not retained; 1 genus in ('refseq',).\n",
      "Taxon ['root', 'Bacteria', 'Armatimonadota'] not retained; 6 genus in ('refseq',).\n",
      "Taxon ['root', 'Bacteria', 'Patescibacteriota'] not retained; 9 genus in ('refseq',).\n",
      "Taxon ['root', 'Bacteria', 'Caldisericota'] not retained; 2 genus in ('refseq',).\n",
      "Taxon ['root', 'Bacteria', 'Gemmatimonadota'] not retained; 6 genus in ('refseq',).\n",
      "Taxon ['root', 'Bacteria', 'Atribacterota'] not retained; 2 genus in ('refseq',).\n",
      "Taxon ['root', 'Bacteria', 'Elusimicrobiota'] not retained; 5 genus in ('refseq',).\n",
      "Taxon ['root', 'Bacteria', 'Bdellovibrionota'] not retained; 7 genus in ('refseq',).\n",
      "Taxon ['root', 'Bacteria', 'Fibrobacterota'] not retained; 3 genus in ('refseq',).\n",
      "Taxon ['root', 'Bacteria', 'Coprothermobacterota'] not retained; 1 genus in ('refseq',).\n",
      "Taxon ['root', 'Bacteria', 'Bipolaricaulota'] not retained; 1 genus in ('refseq',).\n",
      "Taxon ['root', 'Bacteria', 'Nitrospirota'] not retained (34 genomes).\n",
      "Taxon ['root', 'Bacteria', 'Nitrospirota_A'] not retained; 2 genus in ('refseq',).\n",
      "Taxon ['root', 'Bacteria', 'Cloacimonadota'] not retained; 2 genus in ('refseq',).\n",
      "Taxon ['root', 'Bacteria', 'Chrysiogenota'] not retained (25 genomes).\n",
      "Found 61 taxa, retained 24.\n",
      "Detected 374201 reference genomes.\n",
      "Pruned 553 reference genomes from low frequency taxa.\n",
      "Removed 314415 reference genomes from large species.\n",
      "Selected 59233 reference genomes.\n",
      "Filtered 4518 reference genomes.\n"
     ]
    }
   ],
   "source": [
    "# Filter the dataset.\n",
    "dataset = T.bin_genomes(\n",
    "    depth=2,  # The dataset will have a resolution at the level of phyla.\n",
    "    granularity_level=1,  # Data points will be split by genus.\n",
    "    min_granularity=10,  # The minimum number of genus by data point.\n",
    "    n_min_reference_genomes_per_bin=50,  # Minimum number of reference genomes by genus.\n",
    "    n_max_reference_genomes_per_species=3,  # Maximum number of reference genomes for a species.\n",
    "    max_bin_size=20,  # Maximum number of reference genomes by genus.\n",
    "    n_max_bins=50  # Maximum number of data points for each phylum.\n",
    ")"
   ]
  },
  {
   "cell_type": "markdown",
   "metadata": {},
   "source": [
    "Phyla that contain too few genera (less than 10) are dropped, so we end up with 24 phyla.\n",
    "\n",
    "The GTDB project does not include viruses, so we have to use the taxonomy of the NCBI instead, which\n",
    "is based on the ICTV. The taxonomic levels are organized differently, so we split the virus\n",
    "reference genomes by realm instead of phylum and use a genus-level granularity."
   ]
  },
  {
   "cell_type": "code",
   "execution_count": null,
   "metadata": {},
   "outputs": [
    {
     "name": "stdout",
     "output_type": "stream",
     "text": [
      "Taxon 1288359 has no known lineage.\n",
      "Taxon 1452540 has no known lineage.\n",
      "Taxon 2020881 has no known lineage.\n",
      "Taxon 2746248 has no known lineage.\n",
      "Taxon 2755000 has no known lineage.\n",
      "Out of 14496 reconstructed taxonomies, retained 11774.\n",
      "`('Viruses', 'Duplodnaviria')` contains 1438 values, reducing.\n",
      "`('Viruses', 'Riboviria')` contains 1059 values, reducing.\n",
      "`('Viruses', 'Monodnaviria')` contains 256 values, reducing.\n",
      "Retained 1379 reference genomes to balance the dataset.\n"
     ]
    }
   ],
   "source": [
    "tax_id_to_genome = ncbi.get_assembly_taxid(SUMMARY_DIRECTORY + \"viral.txt\")\n",
    "parents, ranks = ncbi.get_all_taxonomy_parents(\n",
    "    NCBI_TAXONOMY_DIRECTORY + \"nodes.dmp\",\n",
    "    set(tax_id_to_genome.keys())\n",
    ")\n",
    "names = ncbi.taxid_to_names(NCBI_TAXONOMY_DIRECTORY + \"names.dmp\", set(parents.keys()))\n",
    "lineages = ncbi.resolve_taxonomy(parents, ranks, tax_id_to_genome, names)\n",
    "virus_dataset = ncbi.bin_genomes(\n",
    "    lineages,\n",
    "    (\"acellular root\", \"realm\"),\n",
    "    \"genus\",\n",
    "    tax_id_to_genome,\n",
    "    max_bin_size=20,  # Maximum number of reference genomes by genus.\n",
    "    n_min_bins=10,  # Minimum number of genus for each realm.\n",
    "    n_max_bins=100  # Maximum number of genus for each realm.\n",
    ")"
   ]
  },
  {
   "cell_type": "markdown",
   "metadata": {},
   "source": [
    "Virus reference genomes are significantly smaller than archaea and bacteria genomes, so the bins\n",
    "are bigger to compensate.\n",
    "\n",
    "```\n",
    "Why go through this hassle?\n",
    "```\n",
    "\n",
    "To correctly evaluate the performance of classification models, we have to separate the reference\n",
    "genomes into distinct sets. We cannot train and evaluate them on the same reference genomes or on\n",
    "reference genomes that are very similar because that would contaminate the model and give a false\n",
    "impression of its actual performance.\n",
    "\n",
    "For instance, if the training and testing sets both have reference genomes of *Escherichia coli*,\n",
    "the evaluation does not actually measure the precision of the model because the two sets comprise\n",
    "essentially the same data. So we split reference genomes based on their *genus* to ensure that the\n",
    "sets are non-similar. You can control that level (e.g. use the family or species as the\n",
    "non-similarity cutoff point) with the parameter `granularity_level`.\n",
    "\n",
    "Let's write this dataset in a JSON file:"
   ]
  },
  {
   "cell_type": "code",
   "execution_count": null,
   "metadata": {},
   "outputs": [],
   "source": [
    "mkdir(DATASET_V1_DIRECTORY)\n",
    "GENOME_V1_DATASET_FILE = DATASET_V1_DIRECTORY + \"version_1.json\"\n",
    "with open(GENOME_V1_DATASET_FILE, 'w') as f:\n",
    "    json.dump(dataset + virus_dataset, f, indent=4)"
   ]
  },
  {
   "cell_type": "markdown",
   "metadata": {},
   "source": [
    "The file is organized as follows:\n",
    "\n",
    "```\n",
    "[\n",
    "    [\n",
    "        [Taxonomic description of a phylum / realm],\n",
    "        [\n",
    "            [\n",
    "                <genus name>,\n",
    "                [\n",
    "                    <list of reference genomes in that genus>\n",
    "                ]\n",
    "            ],\n",
    "            ...\n",
    "        ],\n",
    "        ...\n",
    "    ]\n",
    "]\n",
    "```\n",
    "\n",
    "Let's list the download URLs of all these reference genomes in a file and\n",
    "download them:"
   ]
  },
  {
   "cell_type": "code",
   "execution_count": null,
   "metadata": {},
   "outputs": [],
   "source": [
    "# Convert the dataset into a list of URLs that can be downloaded.\n",
    "INDEX_FILE = DATASET_V1_DIRECTORY + \"index.tsv\"\n",
    "with open(GENOME_V1_DATASET_FILE, \"r\") as f:\n",
    "    dataset = json.load(f)\n",
    "make_index_file(dataset, INDEX_FILE, SUMMARY_DIRECTORY)"
   ]
  },
  {
   "cell_type": "code",
   "execution_count": null,
   "metadata": {},
   "outputs": [],
   "source": [
    "# Download all listed reference genomes as FASTA files.\n",
    "genome_dir_v1 = DATASET_V1_DIRECTORY + \"genomes\"\n",
    "mkdir(genome_dir_v1)\n",
    "ncbi.install_genomes(INDEX_FILE, genome_dir_v1)"
   ]
  },
  {
   "cell_type": "markdown",
   "metadata": {},
   "source": [
    "The dataset can then be split into train, validation, and test splits."
   ]
  },
  {
   "cell_type": "code",
   "execution_count": 12,
   "metadata": {},
   "outputs": [],
   "source": [
    "from random import shuffle\n",
    "\n",
    "train, validate, test = [], [], []\n",
    "for label, bins in dataset:\n",
    "    elements = bins.copy()\n",
    "    shuffle(elements)\n",
    "    n = len(elements)\n",
    "    tenth = int(n * 0.1)\n",
    "    validate.append([label, elements[:tenth]])\n",
    "    test.append([label, elements[tenth:tenth * 2]])\n",
    "    train.append([label, elements[tenth * 2:]])\n",
    "\n",
    "SPLIT_DIRECTORY = DATASET_V1_DIRECTORY + \"/splits\"\n",
    "mkdir(SPLIT_DIRECTORY)\n",
    "with open(SPLIT_DIRECTORY + \"/train.json\", \"w\") as f:\n",
    "    json.dump(train, f, indent=4)\n",
    "with open(SPLIT_DIRECTORY + \"/validate.json\", \"w\") as f:\n",
    "    json.dump(validate, f, indent=4)\n",
    "with open(SPLIT_DIRECTORY + \"/test.json\", \"w\") as f:\n",
    "    json.dump(test, f, indent=4)"
   ]
  },
  {
   "cell_type": "markdown",
   "metadata": {},
   "source": [
    "We can now generate synthetic reads for each dataset. In the following cell, `x` stands for\n",
    "synthetic reads (i.e. sequences of nucleotides) and `y` stands for taxonomic labels (i.e. the phylum\n",
    "or realm from which the reads were generated)."
   ]
  },
  {
   "cell_type": "code",
   "execution_count": null,
   "metadata": {},
   "outputs": [],
   "source": [
    "index_to_taxonomic_label = {}  # Map `y` values to taxonomic labels.\n",
    "for i, (label, _) in enumerate(dataset):\n",
    "    index_to_taxonomic_label[i] = label\n",
    "with open(SPLIT_DIRECTORY + \"/map.json\", \"w\") as f:\n",
    "    json.dump(index_to_taxonomic_label, f, indent=4)"
   ]
  },
  {
   "cell_type": "code",
   "execution_count": 8,
   "metadata": {},
   "outputs": [
    {
     "name": "stdout",
     "output_type": "stream",
     "text": [
      "{'0': 1, '1': 1, '2': 1, '3': 1, '4': 1, '5': 1, '6': 1, '7': 1, '8': 1, '9': 1, '10': 1, '11': 1, '12': 1, '13': 1, '14': 1, '15': 1, '16': 1, '17': 1, '18': 1, '19': 1, '20': 1, '21': 1, '22': 1, '23': 1, '24': 1, '25': 1, '26': 1, '27': 1, '28': 1}\n",
      "Estimated file size: 0.1 MB.\n",
      "Average number of reads per bin: 3.45\n"
     ]
    },
    {
     "name": "stderr",
     "output_type": "stream",
     "text": [
      " 23%|██▎       | 23/100 [00:02<00:09,  8.55it/s]\n"
     ]
    },
    {
     "ename": "KeyboardInterrupt",
     "evalue": "",
     "output_type": "error",
     "traceback": [
      "\u001b[1;31m---------------------------------------------------------------------------\u001b[0m",
      "\u001b[1;31mKeyboardInterrupt\u001b[0m                         Traceback (most recent call last)",
      "Cell \u001b[1;32mIn[8], line 17\u001b[0m\n\u001b[0;32m     14\u001b[0m     distributions[index] \u001b[38;5;241m=\u001b[39m \u001b[38;5;241m1\u001b[39m\n\u001b[0;32m     15\u001b[0m \u001b[38;5;28mprint\u001b[39m(distributions)\n\u001b[1;32m---> 17\u001b[0m x, y \u001b[38;5;241m=\u001b[39m \u001b[43msynthetic\u001b[49m\u001b[38;5;241;43m.\u001b[39;49m\u001b[43msample_dataset\u001b[49m\u001b[43m(\u001b[49m\n\u001b[0;32m     18\u001b[0m \u001b[43m    \u001b[49m\u001b[43mdataset\u001b[49m\u001b[43m,\u001b[49m\n\u001b[0;32m     19\u001b[0m \u001b[43m    \u001b[49m\u001b[43mindex_to_taxonomic_label\u001b[49m\u001b[43m,\u001b[49m\n\u001b[0;32m     20\u001b[0m \u001b[43m    \u001b[49m\u001b[38;5;124;43m\"\u001b[39;49m\u001b[38;5;124;43m../data/version_1/genomes/\u001b[39;49m\u001b[38;5;124;43m\"\u001b[39;49m\u001b[43m,\u001b[49m\n\u001b[0;32m     21\u001b[0m \u001b[43m    \u001b[49m\u001b[43mLENGTH\u001b[49m\u001b[43m,\u001b[49m\n\u001b[0;32m     22\u001b[0m \u001b[43m    \u001b[49m\u001b[38;5;241;43m100\u001b[39;49m\u001b[43m,\u001b[49m\n\u001b[0;32m     23\u001b[0m \u001b[43m    \u001b[49m\u001b[43mdistributions\u001b[49m\n\u001b[0;32m     24\u001b[0m \u001b[43m)\u001b[49m\n",
      "File \u001b[1;32mD:\\maitrise\\stelaro\\stelaro\\data\\synthetic.py:199\u001b[0m, in \u001b[0;36msample_dataset\u001b[1;34m(dataset, index_to_taxonomic_label, reference_genome_directory, read_length, n_reads, distribution)\u001b[0m\n\u001b[0;32m    197\u001b[0m genome \u001b[38;5;241m=\u001b[39m read_genome(filename)\n\u001b[0;32m    198\u001b[0m \u001b[38;5;28;01mtry\u001b[39;00m:\n\u001b[1;32m--> 199\u001b[0m     reads \u001b[38;5;241m=\u001b[39m \u001b[43msample_read\u001b[49m\u001b[43m(\u001b[49m\u001b[43mgenome\u001b[49m\u001b[43m,\u001b[49m\u001b[43m \u001b[49m\u001b[38;5;241;43m1\u001b[39;49m\u001b[43m,\u001b[49m\u001b[43m \u001b[49m\u001b[43mread_length\u001b[49m\u001b[43m)\u001b[49m\n\u001b[0;32m    200\u001b[0m \u001b[38;5;28;01mexcept\u001b[39;00m \u001b[38;5;167;01mException\u001b[39;00m \u001b[38;5;28;01mas\u001b[39;00m e:\n\u001b[0;32m    201\u001b[0m     \u001b[38;5;28mprint\u001b[39m(\u001b[38;5;124mf\u001b[39m\u001b[38;5;124m\"\u001b[39m\u001b[38;5;124mError on \u001b[39m\u001b[38;5;132;01m{\u001b[39;00mgenome_id\u001b[38;5;132;01m}\u001b[39;00m\u001b[38;5;124m: \u001b[39m\u001b[38;5;132;01m{\u001b[39;00me\u001b[38;5;132;01m}\u001b[39;00m\u001b[38;5;124m\"\u001b[39m)\n",
      "File \u001b[1;32mD:\\maitrise\\stelaro\\stelaro\\data\\synthetic.py:40\u001b[0m, in \u001b[0;36msample_read\u001b[1;34m(genome, n_reads, length)\u001b[0m\n\u001b[0;32m     36\u001b[0m             \u001b[38;5;28;01mreturn\u001b[39;00m i\n\u001b[0;32m     37\u001b[0m     \u001b[38;5;28;01mraise\u001b[39;00m \u001b[38;5;167;01mRuntimeError\u001b[39;00m(\u001b[38;5;124mf\u001b[39m\u001b[38;5;124m\"\u001b[39m\u001b[38;5;124mLabel \u001b[39m\u001b[38;5;132;01m{\u001b[39;00mlabel\u001b[38;5;132;01m}\u001b[39;00m\u001b[38;5;124m has no index.\u001b[39m\u001b[38;5;124m\"\u001b[39m)\n\u001b[1;32m---> 40\u001b[0m \u001b[38;5;28;01mdef\u001b[39;00m\u001b[38;5;250m \u001b[39m\u001b[38;5;21msample_read\u001b[39m(\n\u001b[0;32m     41\u001b[0m         genome: \u001b[38;5;28mlist\u001b[39m[\u001b[38;5;28mstr\u001b[39m],\n\u001b[0;32m     42\u001b[0m         n_reads: \u001b[38;5;28mint\u001b[39m,\n\u001b[0;32m     43\u001b[0m         length: \u001b[38;5;28mint\u001b[39m,\n\u001b[0;32m     44\u001b[0m         ) \u001b[38;5;241m-\u001b[39m\u001b[38;5;241m>\u001b[39m \u001b[38;5;28mlist\u001b[39m[\u001b[38;5;28mint\u001b[39m]:\n\u001b[0;32m     45\u001b[0m \u001b[38;5;250m    \u001b[39m\u001b[38;5;124;03m\"\"\"Generate synthetic reads from a genome.\"\"\"\u001b[39;00m\n\u001b[0;32m     46\u001b[0m     samples \u001b[38;5;241m=\u001b[39m []\n",
      "\u001b[1;31mKeyboardInterrupt\u001b[0m: "
     ]
    }
   ],
   "source": [
    "import json\n",
    "from stelaro.data import synthetic\n",
    "\n",
    "LENGTH = 1000\n",
    "N_READS_PER_GENOME = 20\n",
    "with open(\"../datasets/version_1_splits/map.json\", \"r\") as f:\n",
    "    index_to_taxonomic_label = json.load(f)\n",
    "\n",
    "with open(f\"../datasets/version_1_splits/train.json\", \"r\") as f:\n",
    "    dataset = json.load(f)\n",
    "\n",
    "distributions = {}\n",
    "for index in index_to_taxonomic_label:\n",
    "    distributions[index] = 1\n",
    "print(distributions)\n",
    "\n",
    "x, y = synthetic.sample_dataset(\n",
    "    dataset,\n",
    "    index_to_taxonomic_label,\n",
    "    \"../data/version_1/genomes/\",\n",
    "    LENGTH,\n",
    "    100,\n",
    "    distributions\n",
    ")"
   ]
  },
  {
   "cell_type": "code",
   "execution_count": 1,
   "metadata": {},
   "outputs": [
    {
     "name": "stdout",
     "output_type": "stream",
     "text": [
      "[1 6 5] 0\n",
      "[1 6 5] 1\n",
      "[1 6 5] 0\n"
     ]
    },
    {
     "data": {
      "text/plain": [
       "array([0.66666667, 0.90909091, 1.        ])"
      ]
     },
     "execution_count": 1,
     "metadata": {},
     "output_type": "execute_result"
    }
   ],
   "source": [
    "from stelaro import models\n",
    "import numpy as np\n",
    "c = np.array(\n",
    "    [\n",
    "        [1, 1, 0],\n",
    "        [0, 5, 0],\n",
    "        [0, 0, 5],\n",
    "    ]\n",
    ")\n",
    "models.get_f1_by_category(c)"
   ]
  },
  {
   "cell_type": "code",
   "execution_count": 3,
   "metadata": {},
   "outputs": [
    {
     "name": "stdout",
     "output_type": "stream",
     "text": [
      "Estimated file size: 12.56 MB.\n",
      "Average number of reads per bin: 433.10\n"
     ]
    },
    {
     "name": "stderr",
     "output_type": "stream",
     "text": [
      "  6%|▌         | 746/12560 [00:01<00:24, 482.77it/s] "
     ]
    },
    {
     "name": "stdout",
     "output_type": "stream",
     "text": [
      "Error on GCF_020804205.1: 'Y'\n"
     ]
    },
    {
     "name": "stderr",
     "output_type": "stream",
     "text": [
      " 81%|████████  | 10193/12560 [00:29<00:02, 1090.32it/s]"
     ]
    },
    {
     "name": "stdout",
     "output_type": "stream",
     "text": [
      "Error on GCF_000927375.1: 'M'\n"
     ]
    },
    {
     "name": "stderr",
     "output_type": "stream",
     "text": [
      " 89%|████████▊ | 11118/12560 [00:30<00:00, 1475.74it/s]"
     ]
    },
    {
     "name": "stdout",
     "output_type": "stream",
     "text": [
      "Error on GCF_000893795.1: 'R'\n"
     ]
    },
    {
     "name": "stderr",
     "output_type": "stream",
     "text": [
      " 94%|█████████▎| 11761/12560 [00:30<00:00, 1840.91it/s]"
     ]
    },
    {
     "name": "stdout",
     "output_type": "stream",
     "text": [
      "Error on GCF_002817435.1: Reads are too short.\n",
      "Error on GCF_000886675.1: 'Y'\n"
     ]
    },
    {
     "name": "stderr",
     "output_type": "stream",
     "text": [
      " 98%|█████████▊| 12249/12560 [00:31<00:00, 1947.39it/s]"
     ]
    },
    {
     "name": "stdout",
     "output_type": "stream",
     "text": [
      "Error on GCF_013087075.1: 'R'\n"
     ]
    },
    {
     "name": "stderr",
     "output_type": "stream",
     "text": [
      "100%|██████████| 12560/12560 [00:31<00:00, 403.29it/s] \n"
     ]
    },
    {
     "name": "stdout",
     "output_type": "stream",
     "text": [
      "Sampled 12560 genomes.\n",
      "Estimated file size: 11.6 MB.\n",
      "Average number of reads per bin: 400.00\n"
     ]
    },
    {
     "name": "stderr",
     "output_type": "stream",
     "text": [
      " 77%|███████▋  | 8921/11600 [00:29<00:18, 144.60it/s]"
     ]
    },
    {
     "name": "stdout",
     "output_type": "stream",
     "text": [
      "Error on GCF_001854725.1: 'Y'\n"
     ]
    },
    {
     "name": "stderr",
     "output_type": "stream",
     "text": [
      " 89%|████████▉ | 10321/11600 [00:35<00:03, 409.25it/s]"
     ]
    },
    {
     "name": "stdout",
     "output_type": "stream",
     "text": [
      "Error on GCF_002827685.1: Reads are too short.\n"
     ]
    },
    {
     "name": "stderr",
     "output_type": "stream",
     "text": [
      " 95%|█████████▌| 11021/11600 [00:36<00:00, 848.81it/s]"
     ]
    },
    {
     "name": "stdout",
     "output_type": "stream",
     "text": [
      "Error on GCF_001926075.1: 'Y'\n"
     ]
    },
    {
     "name": "stderr",
     "output_type": "stream",
     "text": [
      "100%|█████████▉| 11561/11600 [00:36<00:00, 1064.66it/s]"
     ]
    },
    {
     "name": "stdout",
     "output_type": "stream",
     "text": [
      "Error on GCF_001440955.1: 'R'\n",
      "Error on GCF_018594965.1: Reads are too short.\n"
     ]
    },
    {
     "name": "stderr",
     "output_type": "stream",
     "text": [
      "100%|██████████| 11600/11600 [00:36<00:00, 314.87it/s] \n"
     ]
    },
    {
     "name": "stdout",
     "output_type": "stream",
     "text": [
      "Sampled 11600 genomes.\n",
      "Estimated file size: 93.28 MB.\n",
      "Average number of reads per bin: 3216.55\n"
     ]
    },
    {
     "name": "stderr",
     "output_type": "stream",
     "text": [
      " 31%|███       | 28461/93280 [01:25<03:14, 333.78it/s]"
     ]
    },
    {
     "name": "stdout",
     "output_type": "stream",
     "text": [
      "Error on GCF_002251945.1: 'W'\n"
     ]
    },
    {
     "name": "stderr",
     "output_type": "stream",
     "text": [
      " 37%|███▋      | 34703/93280 [01:40<01:43, 566.57it/s]"
     ]
    },
    {
     "name": "stdout",
     "output_type": "stream",
     "text": [
      "Error on GCF_001729865.1: 'M'\n"
     ]
    },
    {
     "name": "stderr",
     "output_type": "stream",
     "text": [
      " 38%|███▊      | 35041/93280 [01:41<01:43, 561.98it/s]"
     ]
    },
    {
     "name": "stdout",
     "output_type": "stream",
     "text": [
      "Error on GCF_000253035.1: 'Y'\n"
     ]
    },
    {
     "name": "stderr",
     "output_type": "stream",
     "text": [
      " 43%|████▎     | 40421/93280 [01:56<02:24, 365.89it/s]"
     ]
    },
    {
     "name": "stdout",
     "output_type": "stream",
     "text": [
      "Error on GCF_010470665.1: 'Y'\n"
     ]
    },
    {
     "name": "stderr",
     "output_type": "stream",
     "text": [
      " 77%|███████▋  | 71481/93280 [03:15<00:39, 546.62it/s]"
     ]
    },
    {
     "name": "stdout",
     "output_type": "stream",
     "text": [
      "Error on GCF_002826605.1: Reads are too short.\n"
     ]
    },
    {
     "name": "stderr",
     "output_type": "stream",
     "text": [
      " 77%|███████▋  | 72021/93280 [03:16<00:19, 1092.36it/s]"
     ]
    },
    {
     "name": "stdout",
     "output_type": "stream",
     "text": [
      "Error on GCF_002818035.1: Reads are too short.\n",
      "Error on GCF_000911915.1: 'R'\n"
     ]
    },
    {
     "name": "stderr",
     "output_type": "stream",
     "text": [
      " 78%|███████▊  | 72340/93280 [03:16<00:20, 1025.82it/s]"
     ]
    },
    {
     "name": "stdout",
     "output_type": "stream",
     "text": [
      "Error on GCF_002829285.1: Reads are too short.\n"
     ]
    },
    {
     "name": "stderr",
     "output_type": "stream",
     "text": [
      " 78%|███████▊  | 73221/93280 [03:18<00:32, 614.93it/s] "
     ]
    },
    {
     "name": "stdout",
     "output_type": "stream",
     "text": [
      "Error on GCF_000843685.1: 'W'\n",
      "Error on GCF_002829305.1: Reads are too short.\n",
      "Error on GCF_002924545.1: 'M'\n"
     ]
    },
    {
     "name": "stderr",
     "output_type": "stream",
     "text": [
      " 79%|███████▉  | 73541/93280 [03:18<00:27, 729.63it/s]"
     ]
    },
    {
     "name": "stdout",
     "output_type": "stream",
     "text": [
      "Error on GCF_002827725.1: Reads are too short.\n",
      "Error on GCF_002827625.1: Reads are too short.\n",
      "Error on GCF_002833805.1: Reads are too short.\n"
     ]
    },
    {
     "name": "stderr",
     "output_type": "stream",
     "text": [
      " 80%|███████▉  | 74161/93280 [03:19<00:24, 767.08it/s]"
     ]
    },
    {
     "name": "stdout",
     "output_type": "stream",
     "text": [
      "Error on GCF_000889015.1: 'R'\n"
     ]
    },
    {
     "name": "stderr",
     "output_type": "stream",
     "text": [
      " 80%|████████  | 74645/93280 [03:19<00:20, 916.33it/s] "
     ]
    },
    {
     "name": "stdout",
     "output_type": "stream",
     "text": [
      "Error on GCF_013088515.1: Reads are too short.\n"
     ]
    },
    {
     "name": "stderr",
     "output_type": "stream",
     "text": [
      " 81%|████████  | 75311/93280 [03:20<00:16, 1113.19it/s]"
     ]
    },
    {
     "name": "stdout",
     "output_type": "stream",
     "text": [
      "Error on GCF_002355065.1: 'Y'\n",
      "Error on GCF_002833605.1: Reads are too short.\n"
     ]
    },
    {
     "name": "stderr",
     "output_type": "stream",
     "text": [
      " 82%|████████▏ | 76887/93280 [03:22<00:15, 1053.99it/s]"
     ]
    },
    {
     "name": "stdout",
     "output_type": "stream",
     "text": [
      "Error on GCF_000882935.1: 'K'\n"
     ]
    },
    {
     "name": "stderr",
     "output_type": "stream",
     "text": [
      " 83%|████████▎ | 77701/93280 [03:22<00:08, 1764.73it/s]"
     ]
    },
    {
     "name": "stdout",
     "output_type": "stream",
     "text": [
      "Error on GCF_006384835.1: 'K'\n",
      "Error on GCF_002605485.1: 'M'\n"
     ]
    },
    {
     "name": "stderr",
     "output_type": "stream",
     "text": [
      " 84%|████████▍ | 78195/93280 [03:23<00:11, 1299.04it/s]"
     ]
    },
    {
     "name": "stdout",
     "output_type": "stream",
     "text": [
      "Error on GCF_000955415.1: 'M'\n"
     ]
    },
    {
     "name": "stderr",
     "output_type": "stream",
     "text": [
      " 85%|████████▍ | 79133/93280 [03:23<00:10, 1329.43it/s]"
     ]
    },
    {
     "name": "stdout",
     "output_type": "stream",
     "text": [
      "Error on GCF_008952025.1: 'S'\n"
     ]
    },
    {
     "name": "stderr",
     "output_type": "stream",
     "text": [
      " 87%|████████▋ | 80981/93280 [03:24<00:06, 1889.18it/s]"
     ]
    },
    {
     "name": "stdout",
     "output_type": "stream",
     "text": [
      "Error on GCF_002817775.1: Reads are too short.\n",
      "Error on GCF_002988035.1: Reads are too short.\n",
      "Error on GCF_002830645.1: Reads are too short.\n",
      "Error on GCF_002830625.1: Reads are too short.\n",
      "Error on GCF_002830585.1: Reads are too short.\n"
     ]
    },
    {
     "name": "stderr",
     "output_type": "stream",
     "text": [
      " 88%|████████▊ | 81819/93280 [03:25<00:05, 2189.49it/s]"
     ]
    },
    {
     "name": "stdout",
     "output_type": "stream",
     "text": [
      "Error on GCF_000896195.1: 'D'\n"
     ]
    },
    {
     "name": "stderr",
     "output_type": "stream",
     "text": [
      " 89%|████████▊ | 82701/93280 [03:25<00:04, 2345.25it/s]"
     ]
    },
    {
     "name": "stdout",
     "output_type": "stream",
     "text": [
      "Error on GCF_000922215.1: 'K'\n"
     ]
    },
    {
     "name": "stderr",
     "output_type": "stream",
     "text": [
      " 89%|████████▉ | 83442/93280 [03:26<00:04, 2099.30it/s]"
     ]
    },
    {
     "name": "stdout",
     "output_type": "stream",
     "text": [
      "Error on GCF_002867285.1: 'Y'\n"
     ]
    },
    {
     "name": "stderr",
     "output_type": "stream",
     "text": [
      " 91%|█████████ | 84593/93280 [03:26<00:02, 2926.40it/s]"
     ]
    },
    {
     "name": "stdout",
     "output_type": "stream",
     "text": [
      "Error on GCF_003028975.1: 'Y'\n",
      "Error on GCF_001755345.1: 'M'\n",
      "Error on GCF_001755105.1: 'Y'\n",
      "Error on GCF_001754205.1: 'Y'\n"
     ]
    },
    {
     "name": "stderr",
     "output_type": "stream",
     "text": [
      " 92%|█████████▏| 85421/93280 [03:26<00:03, 2145.79it/s]"
     ]
    },
    {
     "name": "stdout",
     "output_type": "stream",
     "text": [
      "Error on GCF_000868165.1: 'Y'\n",
      "Error on GCF_001934645.1: 'Y'\n"
     ]
    },
    {
     "name": "stderr",
     "output_type": "stream",
     "text": [
      " 92%|█████████▏| 86240/93280 [03:27<00:03, 1990.95it/s]"
     ]
    },
    {
     "name": "stdout",
     "output_type": "stream",
     "text": [
      "Error on GCF_001961355.1: 'W'\n",
      "Error on GCF_002889215.1: 'M'\n"
     ]
    },
    {
     "name": "stderr",
     "output_type": "stream",
     "text": [
      " 93%|█████████▎| 87052/93280 [03:27<00:02, 2221.38it/s]"
     ]
    },
    {
     "name": "stdout",
     "output_type": "stream",
     "text": [
      "Error on GCF_002829985.1: Reads are too short.\n",
      "Error on GCF_000845065.1: 'Y'\n"
     ]
    },
    {
     "name": "stderr",
     "output_type": "stream",
     "text": [
      " 94%|█████████▍| 87801/93280 [03:27<00:02, 2297.08it/s]"
     ]
    },
    {
     "name": "stdout",
     "output_type": "stream",
     "text": [
      "Error on GCF_000896735.1: 'R'\n",
      "Error on GCF_000902595.1: 'M'\n",
      "Error on GCF_002994705.1: Reads are too short.\n",
      "Error on GCF_018591415.1: Reads are too short.\n",
      "Error on GCF_000844665.1: Reads are too short.\n",
      "Error on GCF_000840045.1: Reads are too short.\n",
      "Error on GCF_000884215.1: Reads are too short.\n",
      "Error on GCF_000914235.1: Reads are too short.\n",
      "Error on GCF_002987335.1: Reads are too short.\n",
      "Error on GCF_000915955.1: Reads are too short.\n",
      "Error on GCF_018591435.1: Reads are too short.\n",
      "Error on GCF_000914275.1: Reads are too short.\n",
      "Error on GCF_004117295.1: Reads are too short.\n",
      "Error on GCF_018591425.1: Reads are too short.\n"
     ]
    },
    {
     "name": "stderr",
     "output_type": "stream",
     "text": [
      " 96%|█████████▌| 89148/93280 [03:28<00:01, 2785.95it/s]"
     ]
    },
    {
     "name": "stdout",
     "output_type": "stream",
     "text": [
      "Error on GCF_002957465.1: 'R'\n",
      "Error on GCF_001957695.1: 'K'\n",
      "Error on GCF_002825705.1: 'K'\n"
     ]
    },
    {
     "name": "stderr",
     "output_type": "stream",
     "text": [
      " 97%|█████████▋| 90094/93280 [03:28<00:01, 2782.77it/s]"
     ]
    },
    {
     "name": "stdout",
     "output_type": "stream",
     "text": [
      "Error on GCF_000910155.1: 'R'\n",
      "Error on GCF_000847305.1: Reads are too short.\n"
     ]
    },
    {
     "name": "stderr",
     "output_type": "stream",
     "text": [
      " 97%|█████████▋| 90655/93280 [03:28<00:00, 2771.72it/s]"
     ]
    },
    {
     "name": "stdout",
     "output_type": "stream",
     "text": [
      "Error on GCF_002867695.1: Reads are too short.\n",
      "Error on GCF_000872625.1: Reads are too short.\n"
     ]
    },
    {
     "name": "stderr",
     "output_type": "stream",
     "text": [
      " 98%|█████████▊| 91598/93280 [03:29<00:00, 2344.10it/s]"
     ]
    },
    {
     "name": "stdout",
     "output_type": "stream",
     "text": [
      "Error on GCF_029886025.1: 'Y'\n"
     ]
    },
    {
     "name": "stderr",
     "output_type": "stream",
     "text": [
      " 99%|█████████▉| 92421/93280 [03:29<00:00, 2483.66it/s]"
     ]
    },
    {
     "name": "stdout",
     "output_type": "stream",
     "text": [
      "Error on GCF_000863725.1: 'R'\n",
      "Error on GCF_000896155.1: 'W'\n",
      "Error on GCF_029883525.1: 'R'\n",
      "Error on GCF_000911415.1: 'K'\n",
      "Error on GCF_029885855.1: 'Y'\n"
     ]
    },
    {
     "name": "stderr",
     "output_type": "stream",
     "text": [
      "100%|██████████| 93280/93280 [03:29<00:00, 444.26it/s] \n"
     ]
    },
    {
     "name": "stdout",
     "output_type": "stream",
     "text": [
      "Sampled 93280 genomes.\n"
     ]
    }
   ],
   "source": [
    "import json\n",
    "from stelaro.data import synthetic\n",
    "\n",
    "LENGTH = 1000\n",
    "N_READS_PER_GENOME = 20\n",
    "with open(\"../datasets/version_1_splits/map.json\", \"r\") as f:\n",
    "    index_to_taxonomic_label = json.load(f)\n",
    "\n",
    "for dataset_name in (\"validate\", \"test\", \"train\"):\n",
    "    with open(f\"../datasets/version_1_splits/{dataset_name}.json\", \"r\") as f:\n",
    "        dataset = json.load(f)\n",
    "    index_to_n_passes = {}\n",
    "    for i in index_to_taxonomic_label:\n",
    "        index_to_n_passes[i] = N_READS_PER_GENOME\n",
    "    n = synthetic.write(\n",
    "        dataset,\n",
    "        index_to_taxonomic_label,\n",
    "        index_to_n_passes,\n",
    "        \"../data/version_1/genomes/\",\n",
    "        LENGTH,\n",
    "        f\"../data/version_1/static/{dataset_name}/\"\n",
    "    )\n",
    "    print(f\"Sampled {n} genomes.\")\n"
   ]
  },
  {
   "cell_type": "markdown",
   "metadata": {},
   "source": [
    "## 7. Train a Neural Network for Classification\n",
    "\n",
    "This section uses synthetic metagenomes to train a neural network to classify reads as belonging to\n",
    "viral or bacterial genomes. The following cells load the dataset and define a benchmark function."
   ]
  },
  {
   "cell_type": "code",
   "execution_count": 1,
   "metadata": {},
   "outputs": [],
   "source": [
    "from stelaro import models\n",
    "from torch.utils.data import DataLoader\n",
    "import json\n",
    "from torch.optim import Adam\n",
    "import matplotlib.pyplot as plt\n",
    "from stelaro.models import feedforward, autoencoder, transformer\n",
    "from time import time\n",
    "\n",
    "LENGTH = 1000\n",
    "BATCH_SIZE = 64\n",
    "\n",
    "train_data = DataLoader(\n",
    "    models.SyntheticReadDataset(\"../data/version_1/static/train/\"),\n",
    "    batch_size=BATCH_SIZE,\n",
    "    shuffle=True\n",
    ")\n",
    "validate_data = DataLoader(\n",
    "    models.SyntheticReadDataset(\"../data/version_1/static/validate/\"),\n",
    "    batch_size=BATCH_SIZE,\n",
    "    shuffle=True\n",
    ")\n",
    "test_data = DataLoader(\n",
    "    models.SyntheticReadDataset(\"../data/version_1/static/test/\"),\n",
    "    batch_size=BATCH_SIZE,\n",
    "    shuffle=True\n",
    ")\n",
    "\n",
    "with open(\"../data/version_1/static/train/map.json\", \"r\") as f:\n",
    "    mapping = json.load(f)\n",
    "\n",
    "\n",
    "def benchmark(classifier: models.BaseClassifier, name: str):\n",
    "    parameters = classifier.get_parameters()\n",
    "    if parameters:\n",
    "        optimizer = Adam(classifier.get_parameters(), lr=0.001)\n",
    "        total_params = sum(param.numel() for param in parameters)\n",
    "        print(f\"Number of parameters: {total_params:_}\")\n",
    "    else:\n",
    "        optimizer = None\n",
    "    a = time()\n",
    "    losses, f1 = classifier.train(\n",
    "        train_data,\n",
    "        validate_data,\n",
    "        optimizer,\n",
    "        max_n_epochs=20,\n",
    "        patience=3,\n",
    "    )\n",
    "    b = time()\n",
    "    print(f\"Training took {(b - a):.3f} s.\")\n",
    "    if losses:\n",
    "        fig, ax = plt.subplots(1, 2, figsize=(12, 4))\n",
    "        x = list(range(len(losses)))\n",
    "        ax[0].plot(x, losses, label=\"losses\")\n",
    "        ax[0].set(xlabel='Epochs', ylabel='Loss')\n",
    "        ax[0].set_title(\"Loss\")\n",
    "        ax[1].set(xlabel='Epochs', ylabel=\"f1\")\n",
    "        ax[1].set_title(\"F1 Score\")\n",
    "        r = 0\n",
    "        for f in f1:\n",
    "            ax[1].plot(x, f, label=f'Rank {r}')\n",
    "            r += 1\n",
    "        ax[1].legend()\n",
    "        fig.suptitle(f\"Classification Training for {name}\")\n",
    "        plt.show()\n",
    "    result = models.evaluate(classifier, test_data, \"cuda\", mapping)\n",
    "    rounded_result = [float(f\"{r:.5}\") for r in result]\n",
    "    print(f\"Test results: {rounded_result}\")\n",
    "    return classifier"
   ]
  },
  {
   "cell_type": "markdown",
   "metadata": {},
   "source": [
    "### 7.1 Baseline Models\n",
    "\n",
    "We first classify synthetic reads with two baseline models so serve as a point of reference with\n",
    "more sophisticated models:\n",
    "\n",
    "- `Random Classifier` predicts a random class for each read. The range of possible classes is\n",
    "  determined by counting the number of possible classes in the training set.\n",
    "- `Majority Classifier` predicts the most frequent class for all reads. The most frequent class is\n",
    "  determined from the training set."
   ]
  },
  {
   "cell_type": "code",
   "execution_count": 3,
   "metadata": {},
   "outputs": [
    {
     "name": "stderr",
     "output_type": "stream",
     "text": [
      "100%|██████████| 365/365 [00:05<00:00, 65.18it/s]\n"
     ]
    },
    {
     "name": "stdout",
     "output_type": "stream",
     "text": [
      "Training took 5.605 s.\n",
      "Test results: [0.32962, 0.025681]\n"
     ]
    }
   ],
   "source": [
    "benchmark(\n",
    "    models.RandomClassifier(),\n",
    "    \"Random Classifier\"\n",
    ")"
   ]
  },
  {
   "cell_type": "code",
   "execution_count": 11,
   "metadata": {},
   "outputs": [
    {
     "name": "stderr",
     "output_type": "stream",
     "text": [
      "100%|██████████| 365/365 [00:04<00:00, 78.74it/s]\n"
     ]
    },
    {
     "name": "stdout",
     "output_type": "stream",
     "text": [
      "Class counts: {7: 1940, 4: 1980, 15: 820, 23: 5220, 19: 4620, 28: 6300, 17: 2440, 22: 5600, 25: 4240, 20: 7340, 6: 2500, 3: 1840, 1: 4760, 12: 3320, 14: 1940, 2: 1920, 26: 6060, 0: 3440, 21: 4540, 8: 1420, 16: 3560, 18: 2660, 13: 2300, 9: 2720, 24: 4860, 27: 540, 11: 1660, 5: 760, 10: 1980}\n",
      "Majority class: 20\n",
      "Training took 4.638 s.\n",
      "Test results: [0.29044, 0.0079607]\n"
     ]
    }
   ],
   "source": [
    "benchmark(\n",
    "    models.MajorityClassifier(),\n",
    "    \"Majority Classifier\"\n",
    ")"
   ]
  },
  {
   "cell_type": "markdown",
   "metadata": {},
   "source": [
    "We note that:\n",
    "\n",
    "- The two baseline classifiers have an F1 score of around 0.3 when predicting the domain and around\n",
    "  0.005 when predicting the phylum.\n",
    "- The random classifier gives a different result every time you run the cell, but the majority\n",
    "  classifier does not (because of how the results are aggregated and because the data are randomly\n",
    "  shuffled by the data loader, the results of the majority classifiers are sightly different on each\n",
    "  run)."
   ]
  },
  {
   "cell_type": "markdown",
   "metadata": {},
   "source": [
    "### 7.2 Multilayer Perceptions\n",
    "\n",
    "- `MLP_1` is a multilayer perception with 3 fully connected layers. Each layer use the ReLU\n",
    "  activation function.\n",
    "- `MLP_1_dropout` is a multilayer perception with 3 fully connected layers. Each fully connected\n",
    "  layer is preceded by a dropout of 0.2. Each layer use the ReLU activation function."
   ]
  },
  {
   "cell_type": "code",
   "execution_count": 6,
   "metadata": {},
   "outputs": [
    {
     "name": "stdout",
     "output_type": "stream",
     "text": [
      "Number of parameters: 2_133_029\n"
     ]
    },
    {
     "name": "stderr",
     "output_type": "stream",
     "text": [
      "100%|██████████| 365/365 [00:09<00:00, 39.80it/s]\n"
     ]
    },
    {
     "name": "stdout",
     "output_type": "stream",
     "text": [
      "1/20 Loss: 1022.87. F1: [0.3349, 0.048918]. Patience: 3\n"
     ]
    },
    {
     "name": "stderr",
     "output_type": "stream",
     "text": [
      "100%|██████████| 365/365 [00:09<00:00, 39.05it/s]\n"
     ]
    },
    {
     "name": "stdout",
     "output_type": "stream",
     "text": [
      "2/20 Loss: 981.67. F1: [0.31411, 0.054748]. Patience: 3\n"
     ]
    },
    {
     "name": "stderr",
     "output_type": "stream",
     "text": [
      "100%|██████████| 365/365 [00:09<00:00, 40.22it/s]\n"
     ]
    },
    {
     "name": "stdout",
     "output_type": "stream",
     "text": [
      "3/20 Loss: 942.47. F1: [0.36615, 0.072191]. Patience: 3\n"
     ]
    },
    {
     "name": "stderr",
     "output_type": "stream",
     "text": [
      "100%|██████████| 365/365 [00:09<00:00, 38.48it/s]\n"
     ]
    },
    {
     "name": "stdout",
     "output_type": "stream",
     "text": [
      "4/20 Loss: 885.53. F1: [0.38455, 0.073097]. Patience: 3\n"
     ]
    },
    {
     "name": "stderr",
     "output_type": "stream",
     "text": [
      "100%|██████████| 365/365 [00:09<00:00, 39.87it/s]\n"
     ]
    },
    {
     "name": "stdout",
     "output_type": "stream",
     "text": [
      "5/20 Loss: 812.11. F1: [0.397, 0.079118]. Patience: 3\n"
     ]
    },
    {
     "name": "stderr",
     "output_type": "stream",
     "text": [
      "100%|██████████| 365/365 [00:09<00:00, 40.00it/s]\n"
     ]
    },
    {
     "name": "stdout",
     "output_type": "stream",
     "text": [
      "6/20 Loss: 731.38. F1: [0.38534, 0.079092]. Patience: 2\n"
     ]
    },
    {
     "name": "stderr",
     "output_type": "stream",
     "text": [
      "100%|██████████| 365/365 [00:08<00:00, 40.59it/s]\n"
     ]
    },
    {
     "name": "stdout",
     "output_type": "stream",
     "text": [
      "7/20 Loss: 642.03. F1: [0.39067, 0.079354]. Patience: 2\n"
     ]
    },
    {
     "name": "stderr",
     "output_type": "stream",
     "text": [
      "100%|██████████| 365/365 [00:09<00:00, 37.59it/s]\n"
     ]
    },
    {
     "name": "stdout",
     "output_type": "stream",
     "text": [
      "8/20 Loss: 549.80. F1: [0.39364, 0.07943]. Patience: 2\n"
     ]
    },
    {
     "name": "stderr",
     "output_type": "stream",
     "text": [
      "100%|██████████| 365/365 [00:10<00:00, 33.60it/s]\n"
     ]
    },
    {
     "name": "stdout",
     "output_type": "stream",
     "text": [
      "9/20 Loss: 464.18. F1: [0.3932, 0.071489]. Patience: 1\n"
     ]
    },
    {
     "name": "stderr",
     "output_type": "stream",
     "text": [
      "100%|██████████| 365/365 [00:09<00:00, 39.65it/s]\n"
     ]
    },
    {
     "name": "stdout",
     "output_type": "stream",
     "text": [
      "10/20 Loss: 381.76. F1: [0.3769, 0.081796]. Patience: 1\n"
     ]
    },
    {
     "name": "stderr",
     "output_type": "stream",
     "text": [
      "100%|██████████| 365/365 [00:09<00:00, 40.54it/s]\n"
     ]
    },
    {
     "name": "stdout",
     "output_type": "stream",
     "text": [
      "11/20 Loss: 308.09. F1: [0.38589, 0.077577]. Patience: 0\n",
      "The model is overfitting; stopping early.\n",
      "Training took 116.749 s.\n"
     ]
    },
    {
     "data": {
      "image/png": "[encoded data removed]",
      "text/plain": [
       "<Figure size 1200x400 with 2 Axes>"
      ]
     },
     "metadata": {},
     "output_type": "display_data"
    },
    {
     "name": "stdout",
     "output_type": "stream",
     "text": [
      "Test results: [0.3898, 0.091686]\n"
     ]
    }
   ],
   "source": [
    "benchmark(\n",
    "    feedforward.Classifier(LENGTH, mapping, \"cuda\", feedforward.MLP_1),\n",
    "    \"MLP_1\"\n",
    ")"
   ]
  },
  {
   "cell_type": "code",
   "execution_count": 7,
   "metadata": {},
   "outputs": [
    {
     "name": "stderr",
     "output_type": "stream",
     "text": [
      "100%|██████████| 365/365 [00:09<00:00, 37.76it/s]\n"
     ]
    },
    {
     "name": "stdout",
     "output_type": "stream",
     "text": [
      "1/20 Loss: 1036.95. F1: ['0.35879', '0.037048']. Patience: 3\n"
     ]
    },
    {
     "name": "stderr",
     "output_type": "stream",
     "text": [
      "100%|██████████| 365/365 [00:09<00:00, 38.10it/s]\n"
     ]
    },
    {
     "name": "stdout",
     "output_type": "stream",
     "text": [
      "2/20 Loss: 1002.53. F1: ['0.32706', '0.050345']. Patience: 2\n"
     ]
    },
    {
     "name": "stderr",
     "output_type": "stream",
     "text": [
      "100%|██████████| 365/365 [00:09<00:00, 38.71it/s]\n"
     ]
    },
    {
     "name": "stdout",
     "output_type": "stream",
     "text": [
      "3/20 Loss: 982.68. F1: ['0.36141', '0.06586']. Patience: 2\n"
     ]
    },
    {
     "name": "stderr",
     "output_type": "stream",
     "text": [
      "100%|██████████| 365/365 [00:09<00:00, 39.05it/s]\n"
     ]
    },
    {
     "name": "stdout",
     "output_type": "stream",
     "text": [
      "4/20 Loss: 963.35. F1: ['0.36323', '0.061546']. Patience: 2\n"
     ]
    },
    {
     "name": "stderr",
     "output_type": "stream",
     "text": [
      "100%|██████████| 365/365 [00:09<00:00, 38.92it/s]\n"
     ]
    },
    {
     "name": "stdout",
     "output_type": "stream",
     "text": [
      "5/20 Loss: 941.59. F1: ['0.36306', '0.06877']. Patience: 1\n"
     ]
    },
    {
     "name": "stderr",
     "output_type": "stream",
     "text": [
      "100%|██████████| 365/365 [00:09<00:00, 38.83it/s]\n"
     ]
    },
    {
     "name": "stdout",
     "output_type": "stream",
     "text": [
      "6/20 Loss: 918.66. F1: ['0.37024', '0.071374']. Patience: 1\n"
     ]
    },
    {
     "name": "stderr",
     "output_type": "stream",
     "text": [
      "100%|██████████| 365/365 [00:09<00:00, 39.24it/s]\n"
     ]
    },
    {
     "name": "stdout",
     "output_type": "stream",
     "text": [
      "7/20 Loss: 894.77. F1: ['0.3746', '0.079928']. Patience: 1\n"
     ]
    },
    {
     "name": "stderr",
     "output_type": "stream",
     "text": [
      "100%|██████████| 365/365 [00:09<00:00, 38.84it/s]\n"
     ]
    },
    {
     "name": "stdout",
     "output_type": "stream",
     "text": [
      "8/20 Loss: 868.63. F1: ['0.3792', '0.077032']. Patience: 1\n"
     ]
    },
    {
     "name": "stderr",
     "output_type": "stream",
     "text": [
      "100%|██████████| 365/365 [00:09<00:00, 39.33it/s]\n"
     ]
    },
    {
     "name": "stdout",
     "output_type": "stream",
     "text": [
      "9/20 Loss: 847.10. F1: ['0.38291', '0.083635']. Patience: 1\n"
     ]
    },
    {
     "name": "stderr",
     "output_type": "stream",
     "text": [
      "100%|██████████| 365/365 [00:09<00:00, 37.60it/s]\n"
     ]
    },
    {
     "name": "stdout",
     "output_type": "stream",
     "text": [
      "10/20 Loss: 825.49. F1: ['0.38503', '0.087046']. Patience: 1\n"
     ]
    },
    {
     "name": "stderr",
     "output_type": "stream",
     "text": [
      "100%|██████████| 365/365 [00:09<00:00, 36.99it/s]\n"
     ]
    },
    {
     "name": "stdout",
     "output_type": "stream",
     "text": [
      "11/20 Loss: 808.05. F1: ['0.39786', '0.088651']. Patience: 1\n"
     ]
    },
    {
     "name": "stderr",
     "output_type": "stream",
     "text": [
      "100%|██████████| 365/365 [00:09<00:00, 36.81it/s]\n"
     ]
    },
    {
     "name": "stdout",
     "output_type": "stream",
     "text": [
      "12/20 Loss: 791.22. F1: ['0.38286', '0.080526']. Patience: 0\n",
      "The model is overfitting; stopping early.\n",
      "Training took 1.29e+02 s.\n"
     ]
    },
    {
     "data": {
      "image/png": "[encoded data removed]",
      "text/plain": [
       "<Figure size 1200x400 with 2 Axes>"
      ]
     },
     "metadata": {},
     "output_type": "display_data"
    },
    {
     "name": "stdout",
     "output_type": "stream",
     "text": [
      "Test results: [0.40888781097864896, 0.09015968829897399]\n"
     ]
    }
   ],
   "source": [
    "benchmark(\n",
    "    feedforward.Classifier(LENGTH, mapping, \"cuda\", feedforward.MLP_1_dropout),\n",
    "    \"MLP_1_dropout\"\n",
    ")"
   ]
  },
  {
   "cell_type": "markdown",
   "metadata": {},
   "source": [
    "We note that:\n",
    "\n",
    "- Multilayer perceptrons perform significantly better than chance.\n",
    "- Dropout does not improve performance significantly."
   ]
  },
  {
   "cell_type": "markdown",
   "metadata": {},
   "source": [
    "### 7.3 Convolutional Neural Networks\n",
    "\n",
    "- `CNN_1` comprises 2 convolutional layers and 2 fully connected layers that use the ReLU activation\n",
    "  function.\n",
    "- `CNN_1_dropout` comprises 2 convolutional layers and 2 fully connected layers. The fully connected\n",
    "  layers are preceded by a dropout layer of 0.2. All layers use the ReLU activation function.\n",
    "- `CNN_2` comprises 3 convolutional layers and 3 fully connected layers that use the ReLU activation\n",
    "  function.\n",
    "- `CNN_2_dropout` comprises 3 convolutional layers and 3 fully connected layers. The fully connected\n",
    "  layers are preceded by a dropout layer of 0.2. All layers use the ReLU activation function.\n",
    "- `CNN_2_pooling` comprises 3 convolutional layers and 3 fully connected layers that use the ReLU\n",
    "  activation function. Two max pooling layers are inserted between convolutional layers."
   ]
  },
  {
   "cell_type": "code",
   "execution_count": null,
   "metadata": {},
   "outputs": [
    {
     "name": "stderr",
     "output_type": "stream",
     "text": [
      "100%|██████████| 365/365 [00:10<00:00, 34.90it/s]\n"
     ]
    },
    {
     "name": "stdout",
     "output_type": "stream",
     "text": [
      "1/20 Loss: 1023.02. F1: ['0.43587', '0.058512']. Patience: 3\n"
     ]
    },
    {
     "name": "stderr",
     "output_type": "stream",
     "text": [
      "100%|██████████| 365/365 [00:10<00:00, 34.64it/s]\n"
     ]
    },
    {
     "name": "stdout",
     "output_type": "stream",
     "text": [
      "2/20 Loss: 865.12. F1: ['0.49091', '0.10947']. Patience: 3\n"
     ]
    },
    {
     "name": "stderr",
     "output_type": "stream",
     "text": [
      "100%|██████████| 365/365 [00:10<00:00, 35.65it/s]\n"
     ]
    },
    {
     "name": "stdout",
     "output_type": "stream",
     "text": [
      "3/20 Loss: 703.73. F1: ['0.5296', '0.16781']. Patience: 3\n"
     ]
    },
    {
     "name": "stderr",
     "output_type": "stream",
     "text": [
      "100%|██████████| 365/365 [00:09<00:00, 36.88it/s]\n"
     ]
    },
    {
     "name": "stdout",
     "output_type": "stream",
     "text": [
      "4/20 Loss: 548.02. F1: ['0.52251', '0.16898']. Patience: 2\n"
     ]
    },
    {
     "name": "stderr",
     "output_type": "stream",
     "text": [
      "100%|██████████| 365/365 [00:10<00:00, 35.52it/s]\n"
     ]
    },
    {
     "name": "stdout",
     "output_type": "stream",
     "text": [
      "5/20 Loss: 387.78. F1: ['0.54231', '0.15938']. Patience: 2\n"
     ]
    },
    {
     "name": "stderr",
     "output_type": "stream",
     "text": [
      "100%|██████████| 365/365 [00:10<00:00, 35.83it/s]\n"
     ]
    },
    {
     "name": "stdout",
     "output_type": "stream",
     "text": [
      "6/20 Loss: 240.29. F1: ['0.50493', '0.14584']. Patience: 1\n"
     ]
    },
    {
     "name": "stderr",
     "output_type": "stream",
     "text": [
      "100%|██████████| 365/365 [00:10<00:00, 34.85it/s]\n"
     ]
    },
    {
     "name": "stdout",
     "output_type": "stream",
     "text": [
      "7/20 Loss: 127.22. F1: ['0.51079', '0.145']. Patience: 0\n",
      "The model is overfitting; stopping early.\n"
     ]
    },
    {
     "data": {
      "image/png": "[encoded data removed]",
      "text/plain": [
       "<Figure size 1200x400 with 2 Axes>"
      ]
     },
     "metadata": {},
     "output_type": "display_data"
    },
    {
     "name": "stdout",
     "output_type": "stream",
     "text": [
      "Test results: [0.4942577406260125, 0.16144999871027862]\n"
     ]
    }
   ],
   "source": [
    "benchmark(\n",
    "    feedforward.Classifier(LENGTH, mapping, \"cuda\", feedforward.CNN_1),\n",
    "    \"CNN_1\"\n",
    ")\n",
    "print(models.confusion_matrix())"
   ]
  },
  {
   "cell_type": "code",
   "execution_count": 9,
   "metadata": {},
   "outputs": [
    {
     "name": "stderr",
     "output_type": "stream",
     "text": [
      "100%|██████████| 365/365 [00:10<00:00, 33.43it/s]\n"
     ]
    },
    {
     "name": "stdout",
     "output_type": "stream",
     "text": [
      "1/20 Loss: 1030.78. F1: ['0.4726', '0.057869']. Patience: 3\n"
     ]
    },
    {
     "name": "stderr",
     "output_type": "stream",
     "text": [
      "100%|██████████| 365/365 [00:10<00:00, 34.04it/s]\n"
     ]
    },
    {
     "name": "stdout",
     "output_type": "stream",
     "text": [
      "2/20 Loss: 901.18. F1: ['0.51386', '0.10241']. Patience: 3\n"
     ]
    },
    {
     "name": "stderr",
     "output_type": "stream",
     "text": [
      "100%|██████████| 365/365 [00:10<00:00, 34.49it/s]\n"
     ]
    },
    {
     "name": "stdout",
     "output_type": "stream",
     "text": [
      "3/20 Loss: 790.71. F1: ['0.5516', '0.18225']. Patience: 3\n"
     ]
    },
    {
     "name": "stderr",
     "output_type": "stream",
     "text": [
      "100%|██████████| 365/365 [00:10<00:00, 33.32it/s]\n"
     ]
    },
    {
     "name": "stdout",
     "output_type": "stream",
     "text": [
      "4/20 Loss: 680.36. F1: ['0.53401', '0.17634']. Patience: 2\n"
     ]
    },
    {
     "name": "stderr",
     "output_type": "stream",
     "text": [
      "100%|██████████| 365/365 [00:10<00:00, 33.43it/s]\n"
     ]
    },
    {
     "name": "stdout",
     "output_type": "stream",
     "text": [
      "5/20 Loss: 583.53. F1: ['0.55166', '0.1683']. Patience: 2\n"
     ]
    },
    {
     "name": "stderr",
     "output_type": "stream",
     "text": [
      "100%|██████████| 365/365 [00:10<00:00, 33.19it/s]\n"
     ]
    },
    {
     "name": "stdout",
     "output_type": "stream",
     "text": [
      "6/20 Loss: 500.22. F1: ['0.54014', '0.18188']. Patience: 1\n"
     ]
    },
    {
     "name": "stderr",
     "output_type": "stream",
     "text": [
      "100%|██████████| 365/365 [00:11<00:00, 33.05it/s]\n"
     ]
    },
    {
     "name": "stdout",
     "output_type": "stream",
     "text": [
      "7/20 Loss: 427.38. F1: ['0.53955', '0.1712']. Patience: 0\n",
      "The model is overfitting; stopping early.\n",
      "Training took 85.016 s.\n"
     ]
    },
    {
     "data": {
      "image/png": "[encoded data removed]",
      "text/plain": [
       "<Figure size 1200x400 with 2 Axes>"
      ]
     },
     "metadata": {},
     "output_type": "display_data"
    },
    {
     "name": "stdout",
     "output_type": "stream",
     "text": [
      "Test results: [0.5469525096853675, 0.1954650668960054]\n"
     ]
    }
   ],
   "source": [
    "benchmark(\n",
    "    feedforward.Classifier(LENGTH, mapping, \"cuda\", feedforward.CNN_1_dropout),\n",
    "    \"CNN_1_dropout\"\n",
    ")"
   ]
  },
  {
   "cell_type": "code",
   "execution_count": 10,
   "metadata": {},
   "outputs": [
    {
     "name": "stderr",
     "output_type": "stream",
     "text": [
      "100%|██████████| 365/365 [00:23<00:00, 15.46it/s]\n"
     ]
    },
    {
     "name": "stdout",
     "output_type": "stream",
     "text": [
      "1/20 Loss: 1023.21. F1: ['0.44073', '0.063296']. Patience: 3\n"
     ]
    },
    {
     "name": "stderr",
     "output_type": "stream",
     "text": [
      "100%|██████████| 365/365 [00:23<00:00, 15.27it/s]\n"
     ]
    },
    {
     "name": "stdout",
     "output_type": "stream",
     "text": [
      "2/20 Loss: 880.88. F1: ['0.53062', '0.15056']. Patience: 3\n"
     ]
    },
    {
     "name": "stderr",
     "output_type": "stream",
     "text": [
      "100%|██████████| 365/365 [00:24<00:00, 14.96it/s]\n"
     ]
    },
    {
     "name": "stdout",
     "output_type": "stream",
     "text": [
      "3/20 Loss: 729.40. F1: ['0.5354', '0.1642']. Patience: 3\n"
     ]
    },
    {
     "name": "stderr",
     "output_type": "stream",
     "text": [
      "100%|██████████| 365/365 [00:24<00:00, 14.71it/s]\n"
     ]
    },
    {
     "name": "stdout",
     "output_type": "stream",
     "text": [
      "4/20 Loss: 520.78. F1: ['0.55751', '0.18069']. Patience: 3\n"
     ]
    },
    {
     "name": "stderr",
     "output_type": "stream",
     "text": [
      "100%|██████████| 365/365 [00:25<00:00, 14.41it/s]\n"
     ]
    },
    {
     "name": "stdout",
     "output_type": "stream",
     "text": [
      "5/20 Loss: 213.92. F1: ['0.5279', '0.177']. Patience: 2\n"
     ]
    },
    {
     "name": "stderr",
     "output_type": "stream",
     "text": [
      "100%|██████████| 365/365 [00:25<00:00, 14.52it/s]\n"
     ]
    },
    {
     "name": "stdout",
     "output_type": "stream",
     "text": [
      "6/20 Loss: 28.44. F1: ['0.5296', '0.16979']. Patience: 1\n"
     ]
    },
    {
     "name": "stderr",
     "output_type": "stream",
     "text": [
      "100%|██████████| 365/365 [00:25<00:00, 14.41it/s]\n"
     ]
    },
    {
     "name": "stdout",
     "output_type": "stream",
     "text": [
      "7/20 Loss: 3.95. F1: ['0.54656', '0.17773']. Patience: 0\n",
      "The model is overfitting; stopping early.\n",
      "Training took 185.281 s.\n"
     ]
    },
    {
     "data": {
      "image/png": "[encoded data removed]",
      "text/plain": [
       "<Figure size 1200x400 with 2 Axes>"
      ]
     },
     "metadata": {},
     "output_type": "display_data"
    },
    {
     "name": "stdout",
     "output_type": "stream",
     "text": [
      "Test results: [0.559952800557233, 0.20593181347319825]\n"
     ]
    }
   ],
   "source": [
    "benchmark(\n",
    "    feedforward.Classifier(LENGTH, mapping, \"cuda\", feedforward.CNN_2),\n",
    "    \"CNN_2\"\n",
    ")"
   ]
  },
  {
   "cell_type": "code",
   "execution_count": null,
   "metadata": {},
   "outputs": [
    {
     "name": "stderr",
     "output_type": "stream",
     "text": [
      "100%|██████████| 365/365 [00:24<00:00, 14.85it/s]\n"
     ]
    },
    {
     "name": "stdout",
     "output_type": "stream",
     "text": [
      "1/20 Loss: 1040.26. F1: ['0.44705', '0.043862']. Patience: 3\n"
     ]
    },
    {
     "name": "stderr",
     "output_type": "stream",
     "text": [
      "100%|██████████| 365/365 [00:24<00:00, 14.71it/s]\n"
     ]
    },
    {
     "name": "stdout",
     "output_type": "stream",
     "text": [
      "2/20 Loss: 934.18. F1: ['0.56305', '0.10056']. Patience: 3\n"
     ]
    },
    {
     "name": "stderr",
     "output_type": "stream",
     "text": [
      "100%|██████████| 365/365 [00:25<00:00, 14.57it/s]\n"
     ]
    },
    {
     "name": "stdout",
     "output_type": "stream",
     "text": [
      "3/20 Loss: 799.20. F1: ['0.54928', '0.14697']. Patience: 2\n"
     ]
    },
    {
     "name": "stderr",
     "output_type": "stream",
     "text": [
      "100%|██████████| 365/365 [00:25<00:00, 14.42it/s]\n"
     ]
    },
    {
     "name": "stdout",
     "output_type": "stream",
     "text": [
      "4/20 Loss: 653.95. F1: ['0.536', '0.17563']. Patience: 1\n"
     ]
    },
    {
     "name": "stderr",
     "output_type": "stream",
     "text": [
      "100%|██████████| 365/365 [00:25<00:00, 14.40it/s]\n"
     ]
    },
    {
     "name": "stdout",
     "output_type": "stream",
     "text": [
      "5/20 Loss: 463.98. F1: ['0.57166', '0.17116']. Patience: 1\n"
     ]
    },
    {
     "name": "stderr",
     "output_type": "stream",
     "text": [
      "100%|██████████| 365/365 [00:25<00:00, 14.36it/s]\n"
     ]
    },
    {
     "name": "stdout",
     "output_type": "stream",
     "text": [
      "6/20 Loss: 286.62. F1: ['0.52707', '0.16023']. Patience: 0\n",
      "The model is overfitting; stopping early.\n",
      "Training took 161.114 s.\n"
     ]
    },
    {
     "data": {
      "image/png": "[encoded data removed]",
      "text/plain": [
       "<Figure size 1200x400 with 2 Axes>"
      ]
     },
     "metadata": {},
     "output_type": "display_data"
    },
    {
     "name": "stdout",
     "output_type": "stream",
     "text": [
      "Test results: [0.5599415170697983, 0.19544817742409676]\n"
     ]
    }
   ],
   "source": [
    "benchmark(\n",
    "    feedforward.Classifier(LENGTH, mapping, \"cuda\", feedforward.CNN_2_dropout),\n",
    "    \"CNN_2_dropout\"\n",
    ")"
   ]
  },
  {
   "cell_type": "code",
   "execution_count": 2,
   "metadata": {},
   "outputs": [
    {
     "name": "stdout",
     "output_type": "stream",
     "text": [
      "Number of parameters: 16_104_305\n"
     ]
    },
    {
     "name": "stderr",
     "output_type": "stream",
     "text": [
      "100%|██████████| 365/365 [00:12<00:00, 28.22it/s]\n"
     ]
    },
    {
     "name": "stdout",
     "output_type": "stream",
     "text": [
      "1/20 Loss: 1032.00. F1: [0.40754, 0.041421]. Patience: 3\n"
     ]
    },
    {
     "name": "stderr",
     "output_type": "stream",
     "text": [
      "100%|██████████| 365/365 [00:12<00:00, 28.83it/s]\n"
     ]
    },
    {
     "name": "stdout",
     "output_type": "stream",
     "text": [
      "2/20 Loss: 938.78. F1: [0.49034, 0.077731]. Patience: 3\n"
     ]
    },
    {
     "name": "stderr",
     "output_type": "stream",
     "text": [
      "100%|██████████| 365/365 [00:12<00:00, 28.54it/s]\n"
     ]
    },
    {
     "name": "stdout",
     "output_type": "stream",
     "text": [
      "3/20 Loss: 838.12. F1: [0.52892, 0.14436]. Patience: 3\n"
     ]
    },
    {
     "name": "stderr",
     "output_type": "stream",
     "text": [
      "100%|██████████| 365/365 [00:12<00:00, 28.53it/s]\n"
     ]
    },
    {
     "name": "stdout",
     "output_type": "stream",
     "text": [
      "4/20 Loss: 749.79. F1: [0.56281, 0.17985]. Patience: 3\n"
     ]
    },
    {
     "name": "stderr",
     "output_type": "stream",
     "text": [
      "100%|██████████| 365/365 [00:13<00:00, 28.06it/s]\n"
     ]
    },
    {
     "name": "stdout",
     "output_type": "stream",
     "text": [
      "5/20 Loss: 680.29. F1: [0.51768, 0.17412]. Patience: 2\n"
     ]
    },
    {
     "name": "stderr",
     "output_type": "stream",
     "text": [
      "100%|██████████| 365/365 [00:13<00:00, 27.16it/s]\n"
     ]
    },
    {
     "name": "stdout",
     "output_type": "stream",
     "text": [
      "6/20 Loss: 604.45. F1: [0.49025, 0.18841]. Patience: 2\n"
     ]
    },
    {
     "name": "stderr",
     "output_type": "stream",
     "text": [
      "100%|██████████| 365/365 [00:12<00:00, 29.20it/s]\n"
     ]
    },
    {
     "name": "stdout",
     "output_type": "stream",
     "text": [
      "7/20 Loss: 504.93. F1: [0.59501, 0.20365]. Patience: 2\n"
     ]
    },
    {
     "name": "stderr",
     "output_type": "stream",
     "text": [
      "100%|██████████| 365/365 [00:12<00:00, 29.15it/s]\n"
     ]
    },
    {
     "name": "stdout",
     "output_type": "stream",
     "text": [
      "8/20 Loss: 390.94. F1: [0.54111, 0.1832]. Patience: 1\n"
     ]
    },
    {
     "name": "stderr",
     "output_type": "stream",
     "text": [
      "100%|██████████| 365/365 [00:12<00:00, 29.29it/s]\n"
     ]
    },
    {
     "name": "stdout",
     "output_type": "stream",
     "text": [
      "9/20 Loss: 257.18. F1: [0.56917, 0.20071]. Patience: 0\n",
      "The model is overfitting; stopping early.\n",
      "Training took 128.194 s.\n"
     ]
    },
    {
     "data": {
      "image/png": "[encoded data removed]",
      "text/plain": [
       "<Figure size 1200x400 with 2 Axes>"
      ]
     },
     "metadata": {},
     "output_type": "display_data"
    },
    {
     "name": "stdout",
     "output_type": "stream",
     "text": [
      "Test results: [0.5388, 0.22544]\n"
     ]
    },
    {
     "data": {
      "image/png": "[encoded data removed]",
      "text/plain": [
       "<Figure size 480x480 with 1 Axes>"
      ]
     },
     "metadata": {},
     "output_type": "display_data"
    }
   ],
   "source": [
    "model = benchmark(\n",
    "    feedforward.Classifier(LENGTH, mapping, \"cuda\", feedforward.CNN_2_pooling),\n",
    "    \"CNN_2_pooling\"\n",
    ")\n",
    "matrix = models.confusion_matrix(model, test_data, \"cuda\", mapping)\n",
    "plt.matshow(matrix)\n",
    "plt.show()"
   ]
  },
  {
   "cell_type": "markdown",
   "metadata": {},
   "source": [
    "We note that:\n",
    "\n",
    "- Convolutional neural networks perform significantly better than multilayer perceptrons.\n",
    "- Increasing network depth improves performance.\n",
    "- Dropout and pooling layers do not significantly improve performance."
   ]
  },
  {
   "cell_type": "markdown",
   "metadata": {},
   "source": [
    "### 7.4 Autoencoders"
   ]
  },
  {
   "cell_type": "code",
   "execution_count": null,
   "metadata": {},
   "outputs": [
    {
     "name": "stderr",
     "output_type": "stream",
     "text": [
      "100%|██████████| 365/365 [00:09<00:00, 39.74it/s]\n"
     ]
    },
    {
     "name": "stdout",
     "output_type": "stream",
     "text": [
      "1/20 Loss: 593.75. F1: [0.35785, 0.043452]. Patience: 3\n"
     ]
    },
    {
     "name": "stderr",
     "output_type": "stream",
     "text": [
      "100%|██████████| 365/365 [00:09<00:00, 38.27it/s]\n"
     ]
    },
    {
     "name": "stdout",
     "output_type": "stream",
     "text": [
      "2/20 Loss: 562.00. F1: [0.38953, 0.059086]. Patience: 3\n"
     ]
    },
    {
     "name": "stderr",
     "output_type": "stream",
     "text": [
      "100%|██████████| 365/365 [00:10<00:00, 36.34it/s]\n"
     ]
    },
    {
     "name": "stdout",
     "output_type": "stream",
     "text": [
      "3/20 Loss: 544.19. F1: [0.35123, 0.071779]. Patience: 3\n"
     ]
    },
    {
     "name": "stderr",
     "output_type": "stream",
     "text": [
      "100%|██████████| 365/365 [00:11<00:00, 31.63it/s]\n"
     ]
    },
    {
     "name": "stdout",
     "output_type": "stream",
     "text": [
      "4/20 Loss: 519.34. F1: [0.36882, 0.080842]. Patience: 3\n"
     ]
    },
    {
     "name": "stderr",
     "output_type": "stream",
     "text": [
      "100%|██████████| 365/365 [00:10<00:00, 33.37it/s]\n"
     ]
    },
    {
     "name": "stdout",
     "output_type": "stream",
     "text": [
      "5/20 Loss: 485.27. F1: [0.39743, 0.084845]. Patience: 3\n"
     ]
    },
    {
     "name": "stderr",
     "output_type": "stream",
     "text": [
      "100%|██████████| 365/365 [00:09<00:00, 37.68it/s]\n"
     ]
    },
    {
     "name": "stdout",
     "output_type": "stream",
     "text": [
      "6/20 Loss: 441.20. F1: [0.39038, 0.079115]. Patience: 2\n"
     ]
    },
    {
     "name": "stderr",
     "output_type": "stream",
     "text": [
      "100%|██████████| 365/365 [00:09<00:00, 37.54it/s]\n"
     ]
    },
    {
     "name": "stdout",
     "output_type": "stream",
     "text": [
      "7/20 Loss: 389.67. F1: [0.38303, 0.085472]. Patience: 2\n"
     ]
    },
    {
     "name": "stderr",
     "output_type": "stream",
     "text": [
      "100%|██████████| 365/365 [00:09<00:00, 38.72it/s]\n"
     ]
    },
    {
     "name": "stdout",
     "output_type": "stream",
     "text": [
      "8/20 Loss: 332.74. F1: [0.40064, 0.084557]. Patience: 1\n"
     ]
    },
    {
     "name": "stderr",
     "output_type": "stream",
     "text": [
      "100%|██████████| 365/365 [00:09<00:00, 37.21it/s]\n"
     ]
    },
    {
     "name": "stdout",
     "output_type": "stream",
     "text": [
      "9/20 Loss: 276.47. F1: [0.39806, 0.08644]. Patience: 1\n"
     ]
    },
    {
     "name": "stderr",
     "output_type": "stream",
     "text": [
      "100%|██████████| 365/365 [00:10<00:00, 34.20it/s]\n"
     ]
    },
    {
     "name": "stdout",
     "output_type": "stream",
     "text": [
      "10/20 Loss: 220.58. F1: [0.37364, 0.076049]. Patience: 0\n",
      "The model is overfitting; stopping early.\n",
      "Training took 114.060 s.\n"
     ]
    },
    {
     "data": {
      "image/png": "[encoded data removed]",
      "text/plain": [
       "<Figure size 1200x400 with 2 Axes>"
      ]
     },
     "metadata": {},
     "output_type": "display_data"
    },
    {
     "name": "stdout",
     "output_type": "stream",
     "text": [
      "Test results: [0.38648, 0.088048]\n"
     ]
    }
   ],
   "source": [
    "benchmark(\n",
    "    autoencoder.Classifier(LENGTH, mapping, \"cuda\", autoencoder.AE_1),\n",
    "    \"AE_1\"\n",
    ")"
   ]
  },
  {
   "cell_type": "code",
   "execution_count": null,
   "metadata": {},
   "outputs": [
    {
     "name": "stdout",
     "output_type": "stream",
     "text": [
      "Number of parameters: 16_640_765\n"
     ]
    },
    {
     "name": "stderr",
     "output_type": "stream",
     "text": [
      "100%|██████████| 365/365 [00:12<00:00, 28.47it/s]\n"
     ]
    },
    {
     "name": "stdout",
     "output_type": "stream",
     "text": [
      "1/20 Loss: 548.70. F1: [0.4676, 0.07434]. Patience: 3\n"
     ]
    },
    {
     "name": "stderr",
     "output_type": "stream",
     "text": [
      "100%|██████████| 365/365 [00:11<00:00, 32.24it/s]\n"
     ]
    },
    {
     "name": "stdout",
     "output_type": "stream",
     "text": [
      "2/20 Loss: 451.51. F1: [0.50617, 0.090778]. Patience: 3\n"
     ]
    },
    {
     "name": "stderr",
     "output_type": "stream",
     "text": [
      "100%|██████████| 365/365 [00:10<00:00, 33.38it/s]\n"
     ]
    },
    {
     "name": "stdout",
     "output_type": "stream",
     "text": [
      "3/20 Loss: 371.40. F1: [0.54421, 0.17462]. Patience: 3\n"
     ]
    },
    {
     "name": "stderr",
     "output_type": "stream",
     "text": [
      "100%|██████████| 365/365 [00:11<00:00, 33.04it/s]\n"
     ]
    },
    {
     "name": "stdout",
     "output_type": "stream",
     "text": [
      "4/20 Loss: 287.33. F1: [0.53548, 0.18742]. Patience: 3\n"
     ]
    },
    {
     "name": "stderr",
     "output_type": "stream",
     "text": [
      "100%|██████████| 365/365 [00:11<00:00, 32.15it/s]\n"
     ]
    },
    {
     "name": "stdout",
     "output_type": "stream",
     "text": [
      "5/20 Loss: 191.86. F1: [0.55833, 0.17778]. Patience: 2\n"
     ]
    },
    {
     "name": "stderr",
     "output_type": "stream",
     "text": [
      "100%|██████████| 365/365 [00:11<00:00, 32.19it/s]\n"
     ]
    },
    {
     "name": "stdout",
     "output_type": "stream",
     "text": [
      "6/20 Loss: 101.13. F1: [0.56091, 0.16998]. Patience: 1\n"
     ]
    },
    {
     "name": "stderr",
     "output_type": "stream",
     "text": [
      "100%|██████████| 365/365 [00:11<00:00, 31.73it/s]\n"
     ]
    },
    {
     "name": "stdout",
     "output_type": "stream",
     "text": [
      "7/20 Loss: 51.32. F1: [0.53045, 0.16813]. Patience: 0\n",
      "The model is overfitting; stopping early.\n",
      "Training took 89.180 s.\n"
     ]
    },
    {
     "data": {
      "image/png": "[encoded data removed]",
      "text/plain": [
       "<Figure size 1200x400 with 2 Axes>"
      ]
     },
     "metadata": {},
     "output_type": "display_data"
    },
    {
     "name": "stdout",
     "output_type": "stream",
     "text": [
      "Test results: [0.54562, 0.2039]\n"
     ]
    }
   ],
   "source": [
    "benchmark(\n",
    "    autoencoder.Classifier(LENGTH, mapping, \"cuda\", autoencoder.CAE_1),\n",
    "    \"CAE_1\"\n",
    ")"
   ]
  },
  {
   "cell_type": "code",
   "execution_count": 2,
   "metadata": {},
   "outputs": [
    {
     "name": "stdout",
     "output_type": "stream",
     "text": [
      "Number of parameters: 32_856_321\n"
     ]
    },
    {
     "name": "stderr",
     "output_type": "stream",
     "text": [
      "100%|██████████| 365/365 [00:17<00:00, 21.22it/s]\n"
     ]
    },
    {
     "name": "stdout",
     "output_type": "stream",
     "text": [
      "1/20 Loss: 326.19. F1: [0.39911, 0.037105]. Patience: 3\n"
     ]
    },
    {
     "name": "stderr",
     "output_type": "stream",
     "text": [
      "100%|██████████| 365/365 [00:16<00:00, 22.69it/s]\n"
     ]
    },
    {
     "name": "stdout",
     "output_type": "stream",
     "text": [
      "2/20 Loss: 308.08. F1: [0.47976, 0.059626]. Patience: 3\n"
     ]
    },
    {
     "name": "stderr",
     "output_type": "stream",
     "text": [
      "100%|██████████| 365/365 [00:15<00:00, 23.33it/s]\n"
     ]
    },
    {
     "name": "stdout",
     "output_type": "stream",
     "text": [
      "3/20 Loss: 288.53. F1: [0.50341, 0.11888]. Patience: 3\n"
     ]
    },
    {
     "name": "stderr",
     "output_type": "stream",
     "text": [
      "100%|██████████| 365/365 [00:16<00:00, 22.77it/s]\n"
     ]
    },
    {
     "name": "stdout",
     "output_type": "stream",
     "text": [
      "4/20 Loss: 264.18. F1: [0.54733, 0.16813]. Patience: 3\n"
     ]
    },
    {
     "name": "stderr",
     "output_type": "stream",
     "text": [
      "100%|██████████| 365/365 [00:16<00:00, 22.64it/s]\n"
     ]
    },
    {
     "name": "stdout",
     "output_type": "stream",
     "text": [
      "5/20 Loss: 237.59. F1: [0.54239, 0.17988]. Patience: 3\n"
     ]
    },
    {
     "name": "stderr",
     "output_type": "stream",
     "text": [
      "100%|██████████| 365/365 [00:16<00:00, 21.53it/s]\n"
     ]
    },
    {
     "name": "stdout",
     "output_type": "stream",
     "text": [
      "6/20 Loss: 206.47. F1: [0.51061, 0.16461]. Patience: 2\n"
     ]
    },
    {
     "name": "stderr",
     "output_type": "stream",
     "text": [
      "100%|██████████| 365/365 [00:17<00:00, 20.38it/s]\n"
     ]
    },
    {
     "name": "stdout",
     "output_type": "stream",
     "text": [
      "7/20 Loss: 166.47. F1: [0.54387, 0.16785]. Patience: 1\n"
     ]
    },
    {
     "name": "stderr",
     "output_type": "stream",
     "text": [
      "100%|██████████| 365/365 [00:17<00:00, 20.84it/s]\n"
     ]
    },
    {
     "name": "stdout",
     "output_type": "stream",
     "text": [
      "8/20 Loss: 123.84. F1: [0.54785, 0.16239]. Patience: 0\n",
      "The model is overfitting; stopping early.\n",
      "Training took 146.059 s.\n"
     ]
    },
    {
     "data": {
      "image/png": "[encoded data removed]",
      "text/plain": [
       "<Figure size 1200x400 with 2 Axes>"
      ]
     },
     "metadata": {},
     "output_type": "display_data"
    },
    {
     "name": "stdout",
     "output_type": "stream",
     "text": [
      "Test results: [0.57932, 0.21015]\n"
     ]
    }
   ],
   "source": [
    "benchmark(\n",
    "    autoencoder.Classifier(LENGTH, mapping, \"cuda\", autoencoder.CAE_2),\n",
    "    \"CAE_2\"\n",
    ")"
   ]
  },
  {
   "cell_type": "code",
   "execution_count": 18,
   "metadata": {},
   "outputs": [
    {
     "name": "stdout",
     "output_type": "stream",
     "text": [
      "Number of parameters: 16_640_765\n"
     ]
    },
    {
     "name": "stderr",
     "output_type": "stream",
     "text": [
      "100%|██████████| 365/365 [00:13<00:00, 26.32it/s]\n"
     ]
    },
    {
     "name": "stdout",
     "output_type": "stream",
     "text": [
      "1/20 Loss: 308.08. F1: [0.51404, 0.094469]. Patience: 3\n"
     ]
    },
    {
     "name": "stderr",
     "output_type": "stream",
     "text": [
      "100%|██████████| 365/365 [00:11<00:00, 32.66it/s]\n"
     ]
    },
    {
     "name": "stdout",
     "output_type": "stream",
     "text": [
      "2/20 Loss: 258.70. F1: [0.53853, 0.13924]. Patience: 3\n"
     ]
    },
    {
     "name": "stderr",
     "output_type": "stream",
     "text": [
      "100%|██████████| 365/365 [00:10<00:00, 33.58it/s]\n"
     ]
    },
    {
     "name": "stdout",
     "output_type": "stream",
     "text": [
      "3/20 Loss: 229.52. F1: [0.57989, 0.1846]. Patience: 3\n"
     ]
    },
    {
     "name": "stderr",
     "output_type": "stream",
     "text": [
      "100%|██████████| 365/365 [00:11<00:00, 32.46it/s]\n"
     ]
    },
    {
     "name": "stdout",
     "output_type": "stream",
     "text": [
      "4/20 Loss: 201.11. F1: [0.55952, 0.18862]. Patience: 3\n"
     ]
    },
    {
     "name": "stderr",
     "output_type": "stream",
     "text": [
      "100%|██████████| 365/365 [00:11<00:00, 32.82it/s]\n"
     ]
    },
    {
     "name": "stdout",
     "output_type": "stream",
     "text": [
      "5/20 Loss: 170.11. F1: [0.56805, 0.19736]. Patience: 3\n"
     ]
    },
    {
     "name": "stderr",
     "output_type": "stream",
     "text": [
      "100%|██████████| 365/365 [00:11<00:00, 32.18it/s]\n"
     ]
    },
    {
     "name": "stdout",
     "output_type": "stream",
     "text": [
      "6/20 Loss: 136.98. F1: [0.56714, 0.19589]. Patience: 2\n"
     ]
    },
    {
     "name": "stderr",
     "output_type": "stream",
     "text": [
      "100%|██████████| 365/365 [00:11<00:00, 31.74it/s]\n"
     ]
    },
    {
     "name": "stdout",
     "output_type": "stream",
     "text": [
      "7/20 Loss: 106.27. F1: [0.55692, 0.19872]. Patience: 2\n"
     ]
    },
    {
     "name": "stderr",
     "output_type": "stream",
     "text": [
      "100%|██████████| 365/365 [00:11<00:00, 31.05it/s]\n"
     ]
    },
    {
     "name": "stdout",
     "output_type": "stream",
     "text": [
      "8/20 Loss: 85.61. F1: [0.55549, 0.19073]. Patience: 1\n"
     ]
    },
    {
     "name": "stderr",
     "output_type": "stream",
     "text": [
      "100%|██████████| 365/365 [00:11<00:00, 31.05it/s]\n"
     ]
    },
    {
     "name": "stdout",
     "output_type": "stream",
     "text": [
      "9/20 Loss: 74.02. F1: [0.56572, 0.18761]. Patience: 0\n",
      "The model is overfitting; stopping early.\n",
      "Training took 116.636 s.\n"
     ]
    },
    {
     "data": {
      "image/png": "[encoded data removed]",
      "text/plain": [
       "<Figure size 1200x400 with 2 Axes>"
      ]
     },
     "metadata": {},
     "output_type": "display_data"
    },
    {
     "name": "stdout",
     "output_type": "stream",
     "text": [
      "Test results: [0.5779, 0.22465]\n"
     ]
    },
    {
     "data": {
      "image/png": "[encoded data removed]",
      "text/plain": [
       "<Figure size 480x480 with 1 Axes>"
      ]
     },
     "metadata": {},
     "output_type": "display_data"
    }
   ],
   "source": [
    "model = benchmark(\n",
    "    autoencoder.Classifier(LENGTH, mapping, \"cuda\", autoencoder.DAE_1),\n",
    "    \"DAE_1\"\n",
    ")\n",
    "matrix = models.confusion_matrix(model, test_data, \"cuda\", mapping)\n",
    "plt.matshow(matrix)\n",
    "plt.show()"
   ]
  },
  {
   "cell_type": "code",
   "execution_count": 2,
   "metadata": {},
   "outputs": [
    {
     "name": "stdout",
     "output_type": "stream",
     "text": [
      "Number of parameters: 16_769_021\n"
     ]
    },
    {
     "name": "stderr",
     "output_type": "stream",
     "text": [
      "100%|██████████| 365/365 [00:11<00:00, 31.24it/s]\n"
     ]
    },
    {
     "name": "stdout",
     "output_type": "stream",
     "text": [
      "1/20 Loss: 10519.77. F1: [0.25458, 0.011831]. Patience: 3\n"
     ]
    },
    {
     "name": "stderr",
     "output_type": "stream",
     "text": [
      "100%|██████████| 365/365 [00:11<00:00, 31.57it/s]\n"
     ]
    },
    {
     "name": "stdout",
     "output_type": "stream",
     "text": [
      "2/20 Loss: 331.06. F1: [0.29286, 0.027717]. Patience: 3\n"
     ]
    },
    {
     "name": "stderr",
     "output_type": "stream",
     "text": [
      "100%|██████████| 365/365 [00:11<00:00, 31.39it/s]\n"
     ]
    },
    {
     "name": "stdout",
     "output_type": "stream",
     "text": [
      "3/20 Loss: 313.82. F1: [0.31517, 0.027406]. Patience: 2\n"
     ]
    },
    {
     "name": "stderr",
     "output_type": "stream",
     "text": [
      "100%|██████████| 365/365 [00:11<00:00, 31.38it/s]\n"
     ]
    },
    {
     "name": "stdout",
     "output_type": "stream",
     "text": [
      "4/20 Loss: 310.38. F1: [0.33944, 0.028785]. Patience: 2\n"
     ]
    },
    {
     "name": "stderr",
     "output_type": "stream",
     "text": [
      "100%|██████████| 365/365 [00:12<00:00, 29.15it/s]\n"
     ]
    },
    {
     "name": "stdout",
     "output_type": "stream",
     "text": [
      "5/20 Loss: 307.56. F1: [0.34147, 0.036115]. Patience: 2\n"
     ]
    },
    {
     "name": "stderr",
     "output_type": "stream",
     "text": [
      "100%|██████████| 365/365 [00:12<00:00, 28.88it/s]\n"
     ]
    },
    {
     "name": "stdout",
     "output_type": "stream",
     "text": [
      "6/20 Loss: 305.09. F1: [0.37048, 0.040412]. Patience: 2\n"
     ]
    },
    {
     "name": "stderr",
     "output_type": "stream",
     "text": [
      "100%|██████████| 365/365 [00:12<00:00, 29.69it/s]\n"
     ]
    },
    {
     "name": "stdout",
     "output_type": "stream",
     "text": [
      "7/20 Loss: 301.95. F1: [0.42056, 0.044647]. Patience: 2\n"
     ]
    },
    {
     "name": "stderr",
     "output_type": "stream",
     "text": [
      "100%|██████████| 365/365 [00:12<00:00, 28.28it/s]\n"
     ]
    },
    {
     "name": "stdout",
     "output_type": "stream",
     "text": [
      "8/20 Loss: 293.14. F1: [0.45514, 0.048067]. Patience: 2\n"
     ]
    },
    {
     "name": "stderr",
     "output_type": "stream",
     "text": [
      "100%|██████████| 365/365 [00:12<00:00, 30.32it/s]\n"
     ]
    },
    {
     "name": "stdout",
     "output_type": "stream",
     "text": [
      "9/20 Loss: 284.41. F1: [0.46034, 0.061673]. Patience: 2\n"
     ]
    },
    {
     "name": "stderr",
     "output_type": "stream",
     "text": [
      "100%|██████████| 365/365 [00:12<00:00, 30.24it/s]\n"
     ]
    },
    {
     "name": "stdout",
     "output_type": "stream",
     "text": [
      "10/20 Loss: 277.67. F1: [0.44728, 0.066452]. Patience: 2\n"
     ]
    },
    {
     "name": "stderr",
     "output_type": "stream",
     "text": [
      "100%|██████████| 365/365 [00:12<00:00, 29.94it/s]\n"
     ]
    },
    {
     "name": "stdout",
     "output_type": "stream",
     "text": [
      "11/20 Loss: 271.66. F1: [0.46386, 0.075049]. Patience: 2\n"
     ]
    },
    {
     "name": "stderr",
     "output_type": "stream",
     "text": [
      "100%|██████████| 365/365 [00:11<00:00, 31.22it/s]\n"
     ]
    },
    {
     "name": "stdout",
     "output_type": "stream",
     "text": [
      "12/20 Loss: 265.63. F1: [0.47708, 0.084602]. Patience: 2\n"
     ]
    },
    {
     "name": "stderr",
     "output_type": "stream",
     "text": [
      "100%|██████████| 365/365 [00:12<00:00, 30.20it/s]\n"
     ]
    },
    {
     "name": "stdout",
     "output_type": "stream",
     "text": [
      "13/20 Loss: 258.46. F1: [0.44933, 0.080414]. Patience: 1\n"
     ]
    },
    {
     "name": "stderr",
     "output_type": "stream",
     "text": [
      "100%|██████████| 365/365 [00:12<00:00, 29.43it/s]\n"
     ]
    },
    {
     "name": "stdout",
     "output_type": "stream",
     "text": [
      "14/20 Loss: 252.90. F1: [0.46727, 0.088483]. Patience: 1\n"
     ]
    },
    {
     "name": "stderr",
     "output_type": "stream",
     "text": [
      "100%|██████████| 365/365 [00:12<00:00, 29.62it/s]\n"
     ]
    },
    {
     "name": "stdout",
     "output_type": "stream",
     "text": [
      "15/20 Loss: 247.75. F1: [0.47565, 0.088632]. Patience: 1\n"
     ]
    },
    {
     "name": "stderr",
     "output_type": "stream",
     "text": [
      "100%|██████████| 365/365 [00:12<00:00, 29.09it/s]\n"
     ]
    },
    {
     "name": "stdout",
     "output_type": "stream",
     "text": [
      "16/20 Loss: 242.93. F1: [0.47884, 0.086825]. Patience: 0\n",
      "The model is overfitting; stopping early.\n",
      "Training took 216.070 s.\n"
     ]
    },
    {
     "data": {
      "image/png": "[encoded data removed]",
      "text/plain": [
       "<Figure size 1200x400 with 2 Axes>"
      ]
     },
     "metadata": {},
     "output_type": "display_data"
    },
    {
     "name": "stdout",
     "output_type": "stream",
     "text": [
      "Test results: [0.45569, 0.10214]\n"
     ]
    }
   ],
   "source": [
    "benchmark(\n",
    "    autoencoder.VariationalClassifier(LENGTH, mapping, \"cuda\", autoencoder.VAE_1),\n",
    "    \"VAE_1\"\n",
    ")"
   ]
  },
  {
   "cell_type": "markdown",
   "metadata": {},
   "source": [
    "### 7.5 Transformers"
   ]
  },
  {
   "cell_type": "code",
   "execution_count": null,
   "metadata": {},
   "outputs": [
    {
     "name": "stdout",
     "output_type": "stream",
     "text": [
      "Number of parameters: 1_334_941\n"
     ]
    },
    {
     "name": "stderr",
     "output_type": "stream",
     "text": [
      "100%|██████████| 1458/1458 [05:51<00:00,  4.15it/s]\n"
     ]
    },
    {
     "name": "stdout",
     "output_type": "stream",
     "text": [
      "1/20 Loss: 4159.89. F1: [0.29874, 0.030628]. Patience: 3\n"
     ]
    },
    {
     "name": "stderr",
     "output_type": "stream",
     "text": [
      "100%|██████████| 1458/1458 [06:01<00:00,  4.03it/s]\n"
     ]
    },
    {
     "name": "stdout",
     "output_type": "stream",
     "text": [
      "2/20 Loss: 4108.95. F1: [0.35206, 0.036216]. Patience: 3\n"
     ]
    },
    {
     "name": "stderr",
     "output_type": "stream",
     "text": [
      "100%|██████████| 1458/1458 [06:08<00:00,  3.96it/s]\n"
     ]
    },
    {
     "name": "stdout",
     "output_type": "stream",
     "text": [
      "3/20 Loss: 4116.83. F1: [0.37487, 0.032946]. Patience: 2\n"
     ]
    },
    {
     "name": "stderr",
     "output_type": "stream",
     "text": [
      "100%|██████████| 1458/1458 [06:11<00:00,  3.92it/s]\n"
     ]
    },
    {
     "name": "stdout",
     "output_type": "stream",
     "text": [
      "4/20 Loss: 4319.97. F1: [0.34932, 0.022478]. Patience: 1\n"
     ]
    },
    {
     "name": "stderr",
     "output_type": "stream",
     "text": [
      "100%|██████████| 1458/1458 [06:13<00:00,  3.90it/s]\n"
     ]
    },
    {
     "name": "stdout",
     "output_type": "stream",
     "text": [
      "5/20 Loss: 4366.82. F1: [0.38159, 0.033437]. Patience: 0\n",
      "The model is overfitting; stopping early.\n",
      "Training took 1904.123 s.\n"
     ]
    },
    {
     "data": {
      "image/png": "[encoded data removed]",
      "text/plain": [
       "<Figure size 1200x400 with 2 Axes>"
      ]
     },
     "metadata": {},
     "output_type": "display_data"
    },
    {
     "name": "stdout",
     "output_type": "stream",
     "text": [
      "Test results: [0.37137, 0.034464]\n"
     ]
    },
    {
     "data": {
      "image/png": "[encoded data removed]",
      "text/plain": [
       "<Figure size 480x480 with 1 Axes>"
      ]
     },
     "metadata": {},
     "output_type": "display_data"
    }
   ],
   "source": [
    "# 2 heads, 2 layers\n",
    "model = benchmark(\n",
    "    transformer.Classifier(LENGTH, mapping, \"cuda\", transformer.T_1),\n",
    "    \"T_1\"\n",
    ")\n",
    "matrix = models.confusion_matrix(model, test_data, \"cuda\", mapping)\n",
    "plt.matshow(matrix)\n",
    "plt.show()"
   ]
  },
  {
   "cell_type": "code",
   "execution_count": 2,
   "metadata": {},
   "outputs": [
    {
     "name": "stdout",
     "output_type": "stream",
     "text": [
      "Number of parameters: 2_520_989\n"
     ]
    },
    {
     "name": "stderr",
     "output_type": "stream",
     "text": [
      "100%|██████████| 1458/1458 [28:38<00:00,  1.18s/it]\n"
     ]
    },
    {
     "name": "stdout",
     "output_type": "stream",
     "text": [
      "1/20 Loss: 4699.08. F1: [0.25448, 0.0016849]. Patience: 3\n"
     ]
    },
    {
     "name": "stderr",
     "output_type": "stream",
     "text": [
      "  2%|▏         | 28/1458 [00:34<29:41,  1.25s/it]\n"
     ]
    },
    {
     "ename": "KeyboardInterrupt",
     "evalue": "",
     "output_type": "error",
     "traceback": [
      "\u001b[1;31m---------------------------------------------------------------------------\u001b[0m",
      "\u001b[1;31mKeyboardInterrupt\u001b[0m                         Traceback (most recent call last)",
      "Cell \u001b[1;32mIn[2], line 1\u001b[0m\n\u001b[1;32m----> 1\u001b[0m model \u001b[38;5;241m=\u001b[39m \u001b[43mbenchmark\u001b[49m\u001b[43m(\u001b[49m\n\u001b[0;32m      2\u001b[0m \u001b[43m    \u001b[49m\u001b[43mtransformer\u001b[49m\u001b[38;5;241;43m.\u001b[39;49m\u001b[43mClassifier\u001b[49m\u001b[43m(\u001b[49m\u001b[43mLENGTH\u001b[49m\u001b[43m,\u001b[49m\u001b[43m \u001b[49m\u001b[43mmapping\u001b[49m\u001b[43m,\u001b[49m\u001b[43m \u001b[49m\u001b[38;5;124;43m\"\u001b[39;49m\u001b[38;5;124;43mcuda\u001b[39;49m\u001b[38;5;124;43m\"\u001b[39;49m\u001b[43m,\u001b[49m\u001b[43m \u001b[49m\u001b[43mtransformer\u001b[49m\u001b[38;5;241;43m.\u001b[39;49m\u001b[43mT_1\u001b[49m\u001b[43m)\u001b[49m\u001b[43m,\u001b[49m\n\u001b[0;32m      3\u001b[0m \u001b[43m    \u001b[49m\u001b[38;5;124;43m\"\u001b[39;49m\u001b[38;5;124;43mT_1\u001b[39;49m\u001b[38;5;124;43m\"\u001b[39;49m\n\u001b[0;32m      4\u001b[0m \u001b[43m)\u001b[49m\n\u001b[0;32m      5\u001b[0m matrix \u001b[38;5;241m=\u001b[39m models\u001b[38;5;241m.\u001b[39mconfusion_matrix(model, test_data, \u001b[38;5;124m\"\u001b[39m\u001b[38;5;124mcuda\u001b[39m\u001b[38;5;124m\"\u001b[39m, mapping)\n\u001b[0;32m      6\u001b[0m plt\u001b[38;5;241m.\u001b[39mmatshow(matrix)\n",
      "Cell \u001b[1;32mIn[1], line 41\u001b[0m, in \u001b[0;36mbenchmark\u001b[1;34m(classifier, name)\u001b[0m\n\u001b[0;32m     39\u001b[0m     optimizer \u001b[38;5;241m=\u001b[39m \u001b[38;5;28;01mNone\u001b[39;00m\n\u001b[0;32m     40\u001b[0m a \u001b[38;5;241m=\u001b[39m time()\n\u001b[1;32m---> 41\u001b[0m losses, f1 \u001b[38;5;241m=\u001b[39m \u001b[43mclassifier\u001b[49m\u001b[38;5;241;43m.\u001b[39;49m\u001b[43mtrain\u001b[49m\u001b[43m(\u001b[49m\n\u001b[0;32m     42\u001b[0m \u001b[43m    \u001b[49m\u001b[43mtrain_data\u001b[49m\u001b[43m,\u001b[49m\n\u001b[0;32m     43\u001b[0m \u001b[43m    \u001b[49m\u001b[43mvalidate_data\u001b[49m\u001b[43m,\u001b[49m\n\u001b[0;32m     44\u001b[0m \u001b[43m    \u001b[49m\u001b[43moptimizer\u001b[49m\u001b[43m,\u001b[49m\n\u001b[0;32m     45\u001b[0m \u001b[43m    \u001b[49m\u001b[43mmax_n_epochs\u001b[49m\u001b[38;5;241;43m=\u001b[39;49m\u001b[38;5;241;43m20\u001b[39;49m\u001b[43m,\u001b[49m\n\u001b[0;32m     46\u001b[0m \u001b[43m    \u001b[49m\u001b[43mpatience\u001b[49m\u001b[38;5;241;43m=\u001b[39;49m\u001b[38;5;241;43m3\u001b[39;49m\u001b[43m,\u001b[49m\n\u001b[0;32m     47\u001b[0m \u001b[43m\u001b[49m\u001b[43m)\u001b[49m\n\u001b[0;32m     48\u001b[0m b \u001b[38;5;241m=\u001b[39m time()\n\u001b[0;32m     49\u001b[0m \u001b[38;5;28mprint\u001b[39m(\u001b[38;5;124mf\u001b[39m\u001b[38;5;124m\"\u001b[39m\u001b[38;5;124mTraining took \u001b[39m\u001b[38;5;132;01m{\u001b[39;00m(b\u001b[38;5;250m \u001b[39m\u001b[38;5;241m-\u001b[39m\u001b[38;5;250m \u001b[39ma)\u001b[38;5;132;01m:\u001b[39;00m\u001b[38;5;124m.3f\u001b[39m\u001b[38;5;132;01m}\u001b[39;00m\u001b[38;5;124m s.\u001b[39m\u001b[38;5;124m\"\u001b[39m)\n",
      "File \u001b[1;32mD:\\maitrise\\stelaro\\stelaro\\models\\transformer.py:65\u001b[0m, in \u001b[0;36mClassifier.train\u001b[1;34m(self, train_loader, validate_loader, optimizer, max_n_epochs, patience)\u001b[0m\n\u001b[0;32m     63\u001b[0m     loss\u001b[38;5;241m.\u001b[39mbackward()\n\u001b[0;32m     64\u001b[0m     optimizer\u001b[38;5;241m.\u001b[39mstep()\n\u001b[1;32m---> 65\u001b[0m     losses[\u001b[38;5;241m-\u001b[39m\u001b[38;5;241m1\u001b[39m] \u001b[38;5;241m+\u001b[39m\u001b[38;5;241m=\u001b[39m \u001b[43mloss\u001b[49m\u001b[38;5;241;43m.\u001b[39;49m\u001b[43mitem\u001b[49m\u001b[43m(\u001b[49m\u001b[43m)\u001b[49m\n\u001b[0;32m     66\u001b[0m f1 \u001b[38;5;241m=\u001b[39m evaluate(\u001b[38;5;28mself\u001b[39m, validate_loader, \u001b[38;5;28mself\u001b[39m\u001b[38;5;241m.\u001b[39mdevice, \u001b[38;5;28mself\u001b[39m\u001b[38;5;241m.\u001b[39mmapping)\n\u001b[0;32m     67\u001b[0m f1 \u001b[38;5;241m=\u001b[39m [\u001b[38;5;28mfloat\u001b[39m(f) \u001b[38;5;28;01mfor\u001b[39;00m f \u001b[38;5;129;01min\u001b[39;00m f1]\n",
      "\u001b[1;31mKeyboardInterrupt\u001b[0m: "
     ]
    }
   ],
   "source": [
    "model = benchmark(\n",
    "    transformer.Classifier(LENGTH, mapping, \"cuda\", transformer.T_1),\n",
    "    \"T_1\"\n",
    ")\n",
    "matrix = models.confusion_matrix(model, test_data, \"cuda\", mapping)\n",
    "plt.matshow(matrix)\n",
    "plt.show()"
   ]
  },
  {
   "cell_type": "markdown",
   "metadata": {},
   "source": [
    "## 8. Adaptive Learning"
   ]
  },
  {
   "cell_type": "code",
   "execution_count": 21,
   "metadata": {},
   "outputs": [],
   "source": [
    "from stelaro import models\n",
    "from stelaro.data import synthetic\n",
    "from torch.utils.data import DataLoader\n",
    "import json\n",
    "from torch.optim import Adam\n",
    "from torch import from_numpy\n",
    "import matplotlib.pyplot as plt\n",
    "from stelaro.models import feedforward, autoencoder, transformer\n",
    "from time import time\n",
    "import numpy as np\n",
    "\n",
    "LENGTH = 1000\n",
    "BATCH_SIZE = 256\n",
    "N_SAMPLES = 10_000\n",
    "N_EPOCHS_PER_SAMPLE = 1\n",
    "N_SAMPLINGS = 9\n",
    "\n",
    "# train_data = DataLoader(\n",
    "#     models.SyntheticReadDataset(\"../data/version_1/static/train/\"),\n",
    "#     batch_size=BATCH_SIZE,\n",
    "#     shuffle=True\n",
    "# )\n",
    "validate_data = DataLoader(\n",
    "    models.SyntheticReadDataset(\"../data/version_1/static/validate/\"),\n",
    "    batch_size=BATCH_SIZE,\n",
    "    shuffle=True\n",
    ")\n",
    "test_data = DataLoader(\n",
    "    models.SyntheticReadDataset(\"../data/version_1/static/test/\"),\n",
    "    batch_size=BATCH_SIZE,\n",
    "    shuffle=True\n",
    ")\n",
    "\n",
    "with open(\"../data/version_1/static/train/map.json\", \"r\") as f:\n",
    "    mapping = json.load(f)\n",
    "\n",
    "\n",
    "with open(\"../datasets/version_1_splits/map.json\", \"r\") as f:\n",
    "    index_to_taxonomic_label = json.load(f)\n",
    "\n",
    "with open(f\"../datasets/version_1_splits/train.json\", \"r\") as f:\n",
    "    dataset = json.load(f)\n",
    "\n",
    "\n",
    "def dynamic_benchmark(classifier: models.BaseClassifier, name: str):\n",
    "    parameters = classifier.get_parameters()\n",
    "    if parameters:\n",
    "        optimizer = Adam(classifier.get_parameters(), lr=0.001)\n",
    "        total_params = sum(param.numel() for param in parameters)\n",
    "        print(f\"Number of parameters: {total_params:_}\")\n",
    "    else:\n",
    "        optimizer = None\n",
    "    a = time()\n",
    "    f1_scores = [1 for _ in range(len(index_to_taxonomic_label))]\n",
    "    losses, f1 = [], []\n",
    "    for _ in range(N_SAMPLINGS):\n",
    "        # Sample data\n",
    "        distributions = {}\n",
    "        for index in range(len(f1_scores)):\n",
    "            distributions[str(index)] = f1_scores[index]\n",
    "        x, y = synthetic.sample_dataset(\n",
    "            dataset,\n",
    "            index_to_taxonomic_label,\n",
    "            \"../data/version_1/genomes/\",\n",
    "            LENGTH,\n",
    "            N_SAMPLES,\n",
    "            distributions\n",
    "        )\n",
    "        train_data = DataLoader(\n",
    "            models.BasicReadDataset(x, y),\n",
    "            batch_size=BATCH_SIZE,\n",
    "            shuffle=True\n",
    "        )\n",
    "        # Train\n",
    "        for epoch in range(N_EPOCHS_PER_SAMPLE):\n",
    "            losses_i, f1_i = classifier.train(\n",
    "                train_data,\n",
    "                validate_data,\n",
    "                optimizer,\n",
    "                max_n_epochs=1,\n",
    "                patience=1,\n",
    "            )\n",
    "            f1.append(f1_i)\n",
    "            losses.append(losses_i)\n",
    "        # Evaluation\n",
    "        confusion_matrix = models.confusion_matrix(\n",
    "            classifier, validate_data, \"cuda\", mapping\n",
    "        )\n",
    "        f1_scores = models.get_f1_by_category(confusion_matrix)\n",
    "        f1_scores = (np.ones(f1_scores.shape) / 2) + ((1 - f1_scores) / 2)\n",
    "        f1_scores /= f1_scores.mean()\n",
    "    f1 = list(np.array(f1).T)[0]\n",
    "    b = time()\n",
    "    print(f\"Training took {(b - a):.3f} s.\")\n",
    "    if losses:\n",
    "        fig, ax = plt.subplots(1, 2, figsize=(12, 4))\n",
    "        x = list(range(len(losses)))\n",
    "        ax[0].plot(x, losses, label=\"losses\")\n",
    "        ax[0].set(xlabel='Epochs', ylabel='Loss')\n",
    "        ax[0].set_title(\"Loss\")\n",
    "        ax[1].set(xlabel='Epochs', ylabel=\"f1\")\n",
    "        ax[1].set_title(\"F1 Score\")\n",
    "        r = 0\n",
    "        for f in f1:\n",
    "            ax[1].plot(x, f, label=f'Rank {r}')\n",
    "            r += 1\n",
    "        ax[1].legend()\n",
    "        fig.suptitle(f\"Classification Training for {name}\")\n",
    "        plt.show()\n",
    "    result = models.evaluate(classifier, test_data, \"cuda\", mapping)\n",
    "    rounded_result = [float(f\"{r:.5}\") for r in result]\n",
    "    print(f\"Test results: {rounded_result}\")\n",
    "    return classifier"
   ]
  },
  {
   "cell_type": "code",
   "execution_count": 22,
   "metadata": {},
   "outputs": [
    {
     "name": "stdout",
     "output_type": "stream",
     "text": [
      "Number of parameters: 8_207_101\n",
      "Estimated file size: 10.0 MB.\n",
      "Average number of reads per bin: 344.83\n"
     ]
    },
    {
     "name": "stderr",
     "output_type": "stream",
     "text": [
      "100%|██████████| 10000/10000 [05:14<00:00, 31.82it/s]\n",
      "100%|██████████| 40/40 [00:01<00:00, 28.60it/s]\n"
     ]
    },
    {
     "name": "stdout",
     "output_type": "stream",
     "text": [
      "1/1 Loss: 129.29. F1: [0.25409, 0.022747]. Patience: 1\n",
      "Estimated file size: 10.0 MB.\n",
      "Average number of reads per bin: 344.83\n"
     ]
    },
    {
     "name": "stderr",
     "output_type": "stream",
     "text": [
      "100%|█████████▉| 9950/10000 [05:07<00:01, 32.31it/s] \n",
      "100%|██████████| 40/40 [00:01<00:00, 29.19it/s]\n"
     ]
    },
    {
     "name": "stdout",
     "output_type": "stream",
     "text": [
      "1/1 Loss: 116.52. F1: [0.36983, 0.034901]. Patience: 1\n",
      "Estimated file size: 10.0 MB.\n",
      "Average number of reads per bin: 344.83\n"
     ]
    },
    {
     "name": "stderr",
     "output_type": "stream",
     "text": [
      " 99%|█████████▉| 9908/10000 [05:13<00:02, 31.59it/s] \n",
      "100%|██████████| 40/40 [00:01<00:00, 30.19it/s]\n"
     ]
    },
    {
     "name": "stdout",
     "output_type": "stream",
     "text": [
      "1/1 Loss: 113.99. F1: [0.33771, 0.033017]. Patience: 1\n",
      "Estimated file size: 10.0 MB.\n",
      "Average number of reads per bin: 344.83\n"
     ]
    },
    {
     "name": "stderr",
     "output_type": "stream",
     "text": [
      " 99%|█████████▉| 9907/10000 [05:13<00:02, 31.62it/s] \n",
      "100%|██████████| 40/40 [00:01<00:00, 29.61it/s]\n"
     ]
    },
    {
     "name": "stdout",
     "output_type": "stream",
     "text": [
      "1/1 Loss: 112.23. F1: [0.37753, 0.033532]. Patience: 1\n",
      "Estimated file size: 10.0 MB.\n",
      "Average number of reads per bin: 344.83\n"
     ]
    },
    {
     "name": "stderr",
     "output_type": "stream",
     "text": [
      " 99%|█████████▉| 9901/10000 [05:13<00:03, 31.54it/s] \n",
      "100%|██████████| 40/40 [00:01<00:00, 31.09it/s]\n"
     ]
    },
    {
     "name": "stdout",
     "output_type": "stream",
     "text": [
      "1/1 Loss: 111.15. F1: [0.33029, 0.03251]. Patience: 1\n",
      "Estimated file size: 10.0 MB.\n",
      "Average number of reads per bin: 344.83\n"
     ]
    },
    {
     "name": "stderr",
     "output_type": "stream",
     "text": [
      " 99%|█████████▉| 9909/10000 [05:24<00:02, 30.58it/s] \n",
      "100%|██████████| 40/40 [00:01<00:00, 28.93it/s]\n"
     ]
    },
    {
     "name": "stdout",
     "output_type": "stream",
     "text": [
      "1/1 Loss: 110.39. F1: [0.31359, 0.033669]. Patience: 1\n",
      "Estimated file size: 10.0 MB.\n",
      "Average number of reads per bin: 344.83\n"
     ]
    },
    {
     "name": "stderr",
     "output_type": "stream",
     "text": [
      " 99%|█████████▉| 9914/10000 [05:16<00:02, 31.35it/s] \n",
      "100%|██████████| 40/40 [00:01<00:00, 31.25it/s]\n"
     ]
    },
    {
     "name": "stdout",
     "output_type": "stream",
     "text": [
      "1/1 Loss: 109.35. F1: [0.35728, 0.040572]. Patience: 1\n",
      "Estimated file size: 10.0 MB.\n",
      "Average number of reads per bin: 344.83\n"
     ]
    },
    {
     "name": "stderr",
     "output_type": "stream",
     "text": [
      " 99%|█████████▊| 9871/10000 [05:11<00:04, 31.68it/s] \n",
      "100%|██████████| 40/40 [00:01<00:00, 31.13it/s]\n"
     ]
    },
    {
     "name": "stdout",
     "output_type": "stream",
     "text": [
      "1/1 Loss: 106.83. F1: [0.41682, 0.05179]. Patience: 1\n",
      "Estimated file size: 10.0 MB.\n",
      "Average number of reads per bin: 344.83\n"
     ]
    },
    {
     "name": "stderr",
     "output_type": "stream",
     "text": [
      " 99%|█████████▊| 9853/10000 [05:19<00:04, 30.79it/s] \n",
      "100%|██████████| 40/40 [00:01<00:00, 29.07it/s]\n"
     ]
    },
    {
     "name": "stdout",
     "output_type": "stream",
     "text": [
      "1/1 Loss: 104.98. F1: [0.39421, 0.048626]. Patience: 1\n",
      "Training took 2867.742 s.\n"
     ]
    },
    {
     "data": {
      "image/png": "[encoded data removed]",
      "text/plain": [
       "<Figure size 1200x400 with 2 Axes>"
      ]
     },
     "metadata": {},
     "output_type": "display_data"
    },
    {
     "name": "stdout",
     "output_type": "stream",
     "text": [
      "Test results: [0.38487, 0.048018]\n"
     ]
    }
   ],
   "source": [
    "model = dynamic_benchmark(\n",
    "    feedforward.Classifier(LENGTH, mapping, \"cuda\", feedforward.CNN_1),\n",
    "    \"CNN_1\"\n",
    ")"
   ]
  }
 ],
 "metadata": {
  "kernelspec": {
   "display_name": "venv",
   "language": "python",
   "name": "python3"
  },
  "language_info": {
   "codemirror_mode": {
    "name": "ipython",
    "version": 3
   },
   "file_extension": ".py",
   "mimetype": "text/x-python",
   "name": "python",
   "nbconvert_exporter": "python",
   "pygments_lexer": "ipython3",
   "version": "3.11.2"
  }
 },
 "nbformat": 4,
 "nbformat_minor": 2
}
