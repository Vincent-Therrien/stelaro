{
 "cells": [
  {
   "cell_type": "markdown",
   "metadata": {},
   "source": [
    "# Synthetic Data\n",
    "\n",
    "Basic use case of `stelaro` that manipulates synthetic data."
   ]
  },
  {
   "cell_type": "code",
   "execution_count": 2,
   "metadata": {},
   "outputs": [],
   "source": [
    "import os\n",
    "from stelaro.data import ncbi\n",
    "\n",
    "DATA_DIRECTORY = \"../data/\"  # You can modify this directory.\n",
    "\n",
    "\n",
    "def mkdir(path: str) -> None:\n",
    "    \"\"\"Create a directory if it does not exist.\"\"\"\n",
    "    if not os.path.exists(path):\n",
    "        os.makedirs(path)\n",
    "\n",
    "\n",
    "mkdir(DATA_DIRECTORY)"
   ]
  },
  {
   "cell_type": "markdown",
   "metadata": {},
   "source": [
    "## Fetch Reference Genomes\n",
    "\n",
    "You can download reference genome summaries and use these summaries to create\n",
    "your own datasets:"
   ]
  },
  {
   "cell_type": "code",
   "execution_count": 3,
   "metadata": {},
   "outputs": [],
   "source": [
    "ASSEMBLY_DIRECTORY = DATA_DIRECTORY + \"ncbi_genome_summaries/\"\n",
    "mkdir(ASSEMBLY_DIRECTORY)\n",
    "ncbi.install_summaries(ASSEMBLY_DIRECTORY)"
   ]
  },
  {
   "cell_type": "code",
   "execution_count": 4,
   "metadata": {},
   "outputs": [
    {
     "name": "stdout",
     "output_type": "stream",
     "text": [
      "archaea: 2 316 genomes\n",
      "bacteria: 388 560 genomes\n",
      "fungi: 644 genomes\n",
      "invertebrate: 434 genomes\n",
      "plant: 186 genomes\n",
      "protozoa: 121 genomes\n",
      "vertebrate mammalian: 239 genomes\n",
      "vertebrate other: 432 genomes\n",
      "viral: 14 997 genomes\n",
      "\n",
      "Total: 407 929\n"
     ]
    }
   ],
   "source": [
    "ncbi.summarize_assemblies(ASSEMBLY_DIRECTORY)"
   ]
  },
  {
   "cell_type": "markdown",
   "metadata": {},
   "source": [
    "## Sample Genomes\n",
    "\n",
    "You can create an index of genomes that will be use to download reference\n",
    "genomes. Given that the NCBI contains 407929 reference genomes as of November\n",
    "2024, you may want to sample a subset of genomes to create a more manageable\n",
    "genome database during tests."
   ]
  },
  {
   "cell_type": "code",
   "execution_count": 5,
   "metadata": {},
   "outputs": [],
   "source": [
    "DATASET_DIRECTORY = DATA_DIRECTORY + \"genome_small_dataset/\"\n",
    "mkdir(DATASET_DIRECTORY)\n",
    "INDEX_FILE = DATASET_DIRECTORY + \"index.tsv\"\n",
    "ncbi.sample_genomes(ASSEMBLY_DIRECTORY, INDEX_FILE, fraction = 0.005)"
   ]
  },
  {
   "cell_type": "markdown",
   "metadata": {},
   "source": [
    "Let's visualize the index file:"
   ]
  },
  {
   "cell_type": "code",
   "execution_count": 6,
   "metadata": {},
   "outputs": [
    {
     "name": "stdout",
     "output_type": "stream",
     "text": [
      "First 5 lines contained in the index file:\n",
      "\n",
      "```\n",
      "ID\tURL\tcategory\n",
      "GCF_001639295.1.fna\thttps://ftp.ncbi.nlm.nih.gov/genomes/all/GCF/001/639/295/GCF_001639295.1_ASM163929v1/GCF_001639295.1_ASM163929v1_genomic.fna.gz\tarchaea\n",
      "GCF_902384065.1.fna\thttps://ftp.ncbi.nlm.nih.gov/genomes/all/GCF/902/384/065/GCF_902384065.1_UHGG_MGYG-HGUT-02162/GCF_902384065.1_UHGG_MGYG-HGUT-02162_genomic.fna.gz\tarchaea\n",
      "GCF_002214525.1.fna\thttps://ftp.ncbi.nlm.nih.gov/genomes/all/GCF/002/214/525/GCF_002214525.1_ASM221452v1/GCF_002214525.1_ASM221452v1_genomic.fna.gz\tarchaea\n",
      "GCF_003711245.1.fna\thttps://ftp.ncbi.nlm.nih.gov/genomes/all/GCF/003/711/245/GCF_003711245.1_ASM371124v1/GCF_003711245.1_ASM371124v1_genomic.fna.gz\tarchaea\n",
      "```\n",
      "\n",
      "Total number of lines: 1964.\n"
     ]
    }
   ],
   "source": [
    "with open(INDEX_FILE, \"r\") as f:\n",
    "    count = 0\n",
    "    print(\"First 5 lines contained in the index file:\\n\\n```\")\n",
    "    for line in f:\n",
    "        if count < 5:\n",
    "            print(line[:-1])\n",
    "        count += 1\n",
    "    print(f\"```\\n\\nTotal number of lines: {count}.\")"
   ]
  },
  {
   "cell_type": "markdown",
   "metadata": {},
   "source": [
    "## Install Genomes\n",
    "\n",
    "The following cell installs the genomes downloaded at the previous step."
   ]
  },
  {
   "cell_type": "code",
   "execution_count": 7,
   "metadata": {},
   "outputs": [],
   "source": [
    "ncbi.install_genomes(INDEX_FILE, DATASET_DIRECTORY)"
   ]
  },
  {
   "cell_type": "markdown",
   "metadata": {},
   "source": [
    "The genomes listed in the index file should now be installed at ``DATASET_DIRECTORY``. Let's\n",
    "examine the first file that was downloaded:"
   ]
  },
  {
   "cell_type": "code",
   "execution_count": 8,
   "metadata": {},
   "outputs": [
    {
     "name": "stdout",
     "output_type": "stream",
     "text": [
      "First lines contained in the genome file:\n",
      "\n",
      "```\n",
      ">NZ_LWMV01000001.1 Methanobrevibacter curvatus strain DSM 11111 MBCUR_contig000001, whole genome shotgun sequence\n",
      "ATCAGTAGAGTGTGCAGAGGTATATAGTTTTTTTTTTTTTTTTTTTTTTTTTTTTTTTTTTTTTTTTTTTTTTTTTTTTT\n",
      "TTTTTTTTTTTTTATATGTGTATGGTTTTATTCAAGCTTTTCAATAAATTAACAGCAGAATAAGCCGCTAAAACACTTGT\n",
      "TTTTGGATTTATGTTGGATGGAACATTTTCAGTTTTACTAGTAAAACTTCCAAATTCTCCTTTTACATGGACTTCATGAA\n",
      "TATTTCTATTTATTTCTGGATCTATAATGATTTTTACATTAATATCCATATTAGAAGCAATACTTAGTGCAGCTGCAACA\n",
      "```\n",
      "\n",
      "Total number of lines: 30529.\n"
     ]
    }
   ],
   "source": [
    "with open(INDEX_FILE, \"r\") as f:\n",
    "    next(f)\n",
    "    filename = f.readline().split(\"\\t\")[0]\n",
    "\n",
    "with open(DATASET_DIRECTORY + \"/\" + filename) as f:\n",
    "    count = 0\n",
    "    print(\"First lines contained in the genome file:\\n\\n```\")\n",
    "    for line in f:\n",
    "        if count < 5:\n",
    "            print(line[:-1])\n",
    "        count += 1\n",
    "    print(f\"```\\n\\nTotal number of lines: {count}.\")"
   ]
  }
 ],
 "metadata": {
  "kernelspec": {
   "display_name": "venv",
   "language": "python",
   "name": "python3"
  },
  "language_info": {
   "codemirror_mode": {
    "name": "ipython",
    "version": 3
   },
   "file_extension": ".py",
   "mimetype": "text/x-python",
   "name": "python",
   "nbconvert_exporter": "python",
   "pygments_lexer": "ipython3",
   "version": "3.11.2"
  }
 },
 "nbformat": 4,
 "nbformat_minor": 2
}
