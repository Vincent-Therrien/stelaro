{
 "cells": [
  {
   "cell_type": "markdown",
   "metadata": {},
   "source": [
    "# Synthetic Data\n",
    "\n",
    "Basic use case of `stelaro` that manipulates synthetic data."
   ]
  },
  {
   "cell_type": "code",
   "execution_count": 1,
   "metadata": {},
   "outputs": [],
   "source": [
    "import os\n",
    "import json\n",
    "from stelaro.data import (\n",
    "    ncbi,\n",
    "    gtdb,\n",
    "    Taxonomy,\n",
    "    synthetic,\n",
    "    non_similar_sets,\n",
    "    get_urls,\n",
    "    make_index_file,\n",
    "    read_genome\n",
    ")\n",
    "\n",
    "DATA_DIRECTORY = \"../data/\"  # You can modify this directory.\n",
    "DATASET_DIRECTORY = DATA_DIRECTORY + \"genome_small_dataset/\"\n",
    "SUMMARY_DIRECTORY = DATA_DIRECTORY + \"ncbi_genome_summaries/\"\n",
    "NCBI_TAXONOMY_DIRECTORY = DATA_DIRECTORY + \"ncbi_taxonomy/\"\n",
    "TAXONOMY_DIRECTORY = DATA_DIRECTORY + \"gtdb/\"\n",
    "INDEX_FILE = DATASET_DIRECTORY + \"index.tsv\"\n",
    "\n",
    "DATASET_V1_DIRECTORY = DATA_DIRECTORY + \"version_1/\"\n",
    "\n",
    "\n",
    "def mkdir(path: str) -> None:\n",
    "    \"\"\"Create a directory if it does not exist.\"\"\"\n",
    "    if not os.path.exists(path):\n",
    "        os.makedirs(path)\n",
    "\n",
    "\n",
    "mkdir(DATA_DIRECTORY)"
   ]
  },
  {
   "cell_type": "markdown",
   "metadata": {},
   "source": [
    "## 1. Fetch Reference Genomes\n",
    "\n",
    "You can download reference genome summaries and use these summaries to create\n",
    "your own datasets:"
   ]
  },
  {
   "cell_type": "code",
   "execution_count": 8,
   "metadata": {},
   "outputs": [],
   "source": [
    "mkdir(SUMMARY_DIRECTORY)\n",
    "ncbi.install_summaries(SUMMARY_DIRECTORY)"
   ]
  },
  {
   "cell_type": "code",
   "execution_count": 9,
   "metadata": {},
   "outputs": [
    {
     "name": "stdout",
     "output_type": "stream",
     "text": [
      "archaea: 2 579 genomes\n",
      "bacteria: 432 090 genomes\n",
      "fungi: 644 genomes\n",
      "invertebrate: 434 genomes\n",
      "plant: 186 genomes\n",
      "protozoa: 121 genomes\n",
      "vertebrate mammalian: 239 genomes\n",
      "vertebrate other: 432 genomes\n",
      "viral: 14 997 genomes\n",
      "\n",
      "Total: 451 722\n"
     ]
    }
   ],
   "source": [
    "ncbi.summarize_assemblies(SUMMARY_DIRECTORY)"
   ]
  },
  {
   "cell_type": "code",
   "execution_count": null,
   "metadata": {},
   "outputs": [],
   "source": [
    "ncbi.install_taxonomy(NCBI_TAXONOMY_DIRECTORY)"
   ]
  },
  {
   "cell_type": "markdown",
   "metadata": {},
   "source": [
    "## 2. Sample Reference Genomes\n",
    "\n",
    "You can create an index of genomes that will be use to download reference\n",
    "genomes. Given that the NCBI contains 407929 reference genomes as of November\n",
    "2024, you may want to sample a subset of genomes to create a more manageable\n",
    "genome database during tests."
   ]
  },
  {
   "cell_type": "code",
   "execution_count": null,
   "metadata": {},
   "outputs": [],
   "source": [
    "mkdir(DATASET_DIRECTORY)\n",
    "ncbi.sample_genomes(SUMMARY_DIRECTORY, INDEX_FILE, fraction = 0.005)"
   ]
  },
  {
   "cell_type": "markdown",
   "metadata": {},
   "source": [
    "Let's visualize the index file:"
   ]
  },
  {
   "cell_type": "code",
   "execution_count": 6,
   "metadata": {},
   "outputs": [
    {
     "name": "stdout",
     "output_type": "stream",
     "text": [
      "First 5 lines contained in the index file:\n",
      "\n",
      "```\n",
      "ID\tURL\tcategory\n",
      "GCF_001639295.1.fna\thttps://ftp.ncbi.nlm.nih.gov/genomes/all/GCF/001/639/295/GCF_001639295.1_ASM163929v1/GCF_001639295.1_ASM163929v1_genomic.fna.gz\tarchaea\n",
      "GCF_902384065.1.fna\thttps://ftp.ncbi.nlm.nih.gov/genomes/all/GCF/902/384/065/GCF_902384065.1_UHGG_MGYG-HGUT-02162/GCF_902384065.1_UHGG_MGYG-HGUT-02162_genomic.fna.gz\tarchaea\n",
      "GCF_002214525.1.fna\thttps://ftp.ncbi.nlm.nih.gov/genomes/all/GCF/002/214/525/GCF_002214525.1_ASM221452v1/GCF_002214525.1_ASM221452v1_genomic.fna.gz\tarchaea\n",
      "GCF_003711245.1.fna\thttps://ftp.ncbi.nlm.nih.gov/genomes/all/GCF/003/711/245/GCF_003711245.1_ASM371124v1/GCF_003711245.1_ASM371124v1_genomic.fna.gz\tarchaea\n",
      "```\n",
      "\n",
      "Total number of lines: 1964.\n"
     ]
    }
   ],
   "source": [
    "with open(INDEX_FILE, \"r\") as f:\n",
    "    count = 0\n",
    "    print(\"First 5 lines contained in the index file:\\n\\n```\")\n",
    "    for line in f:\n",
    "        if count < 5:\n",
    "            print(line[:-1])\n",
    "        count += 1\n",
    "    print(f\"```\\n\\nTotal number of lines: {count}.\")"
   ]
  },
  {
   "cell_type": "markdown",
   "metadata": {},
   "source": [
    "## 3. Install Sampled Reference Genomes\n",
    "\n",
    "The following cell installs the genomes downloaded at the previous step."
   ]
  },
  {
   "cell_type": "code",
   "execution_count": 7,
   "metadata": {},
   "outputs": [],
   "source": [
    "ncbi.install_genomes(INDEX_FILE, DATASET_DIRECTORY)"
   ]
  },
  {
   "cell_type": "markdown",
   "metadata": {},
   "source": [
    "The genomes listed in the index file should now be installed at ``DATASET_DIRECTORY``. Let's\n",
    "examine the first file that was downloaded:"
   ]
  },
  {
   "cell_type": "code",
   "execution_count": 8,
   "metadata": {},
   "outputs": [
    {
     "name": "stdout",
     "output_type": "stream",
     "text": [
      "First lines contained in the genome file:\n",
      "\n",
      "```\n",
      ">NZ_LWMV01000001.1 Methanobrevibacter curvatus strain DSM 11111 MBCUR_contig000001, whole genome shotgun sequence\n",
      "ATCAGTAGAGTGTGCAGAGGTATATAGTTTTTTTTTTTTTTTTTTTTTTTTTTTTTTTTTTTTTTTTTTTTTTTTTTTTT\n",
      "TTTTTTTTTTTTTATATGTGTATGGTTTTATTCAAGCTTTTCAATAAATTAACAGCAGAATAAGCCGCTAAAACACTTGT\n",
      "TTTTGGATTTATGTTGGATGGAACATTTTCAGTTTTACTAGTAAAACTTCCAAATTCTCCTTTTACATGGACTTCATGAA\n",
      "TATTTCTATTTATTTCTGGATCTATAATGATTTTTACATTAATATCCATATTAGAAGCAATACTTAGTGCAGCTGCAACA\n",
      "```\n",
      "\n",
      "Total number of lines: 30529.\n"
     ]
    }
   ],
   "source": [
    "with open(INDEX_FILE, \"r\") as f:\n",
    "    next(f)\n",
    "    filename = f.readline().split(\"\\t\")[0]\n",
    "\n",
    "with open(DATASET_DIRECTORY + \"/\" + filename) as f:\n",
    "    count = 0\n",
    "    print(\"First lines contained in the genome file:\\n\\n```\")\n",
    "    for line in f:\n",
    "        if count < 5:\n",
    "            print(line[:-1])\n",
    "        count += 1\n",
    "    print(f\"```\\n\\nTotal number of lines: {count}.\")"
   ]
  },
  {
   "cell_type": "markdown",
   "metadata": {},
   "source": [
    "## 4. Generate a Synthetic Metagenome From Reference Genomes\n",
    "\n",
    "The following cell extracts subsequences from the downloaded reference genomes to simulate reads\n",
    "obtained during a metagenomic sequencing experiment."
   ]
  },
  {
   "cell_type": "code",
   "execution_count": null,
   "metadata": {},
   "outputs": [
    {
     "name": "stdout",
     "output_type": "stream",
     "text": [
      ">GCF_001998405.1.fna\t341684\t0\n",
      "ACGAGCAACGCTGAAGCGAAAATAGGGGGGATCACCCCGCTTAAATTCAA\n",
      "\n",
      ">GCF_002498065.1.fna\t1444400\t1\n",
      "CAAGCATATCGGGATGGGTCGTCGCGGGGAACGGGTCGTCGCTGTTGAAG\n",
      "\n",
      ">GCF_038731385.1.fna\t1390023\t2\n",
      "AGAGAGAAAAAGATAGATAACGTTCACATACCCAGAAAGCCCCTCGATGT\n",
      "\n"
     ]
    }
   ],
   "source": [
    "from stelaro.data import synthetic_metagenome\n",
    "\n",
    "SYNTHETIC_FILE = DATA_DIRECTORY + \"test_metagenome1.fasta\"\n",
    "\n",
    "synthetic_metagenome(\n",
    "    INDEX_FILE,\n",
    "    DATASET_DIRECTORY,\n",
    "    SYNTHETIC_FILE,\n",
    "    reads = 3,\n",
    "    length = 50,\n",
    ")\n",
    "\n",
    "with open(SYNTHETIC_FILE, \"r\") as f:\n",
    "    for line in f:\n",
    "        print(line[:-1])  # Ignore the newline character."
   ]
  },
  {
   "cell_type": "markdown",
   "metadata": {},
   "source": [
    "## 5. Install a Reference Taxonomy\n",
    "\n",
    "A taxonomy describes the phylogenetic links between species.\n",
    "\n",
    "The GTDB project (https://gtdb.ecogenomic.org/) is a genome taxonomy database that describes a\n",
    "taxonomy for bacteria and archaea. Install it with the following cell:"
   ]
  },
  {
   "cell_type": "code",
   "execution_count": 4,
   "metadata": {},
   "outputs": [],
   "source": [
    "gtdb.install_taxonomy(TAXONOMY_DIRECTORY)"
   ]
  },
  {
   "cell_type": "markdown",
   "metadata": {},
   "source": [
    "Let's inspect the **bacterial** taxonomy:"
   ]
  },
  {
   "cell_type": "code",
   "execution_count": 5,
   "metadata": {},
   "outputs": [
    {
     "name": "stdout",
     "output_type": "stream",
     "text": [
      "First lines contained in the GTDB bacterial taxonomy file:\n",
      "\n",
      "```\n",
      "RS_GCF_009898805.1\td__Bacteria;p__Pseudomonadota;c__Gammaproteobacteria;o__Enterobacterales;f__Enterobacteriaceae;g__Escherichia;s__Escherichia coli\n",
      "RS_GCF_024700115.1\td__Bacteria;p__Pseudomonadota;c__Gammaproteobacteria;o__Enterobacterales;f__Enterobacteriaceae;g__Escherichia;s__Escherichia coli\n",
      "RS_GCF_003829795.1\td__Bacteria;p__Pseudomonadota;c__Gammaproteobacteria;o__Enterobacterales;f__Enterobacteriaceae;g__Escherichia;s__Escherichia coli\n",
      "RS_GCF_900480365.1\td__Bacteria;p__Pseudomonadota;c__Gammaproteobacteria;o__Enterobacterales;f__Enterobacteriaceae;g__Escherichia;s__Escherichia coli\n",
      "GB_GCA_003592305.1\td__Bacteria;p__Pseudomonadota;c__Gammaproteobacteria;o__Enterobacterales;f__Enterobacteriaceae;g__Escherichia;s__Escherichia coli\n",
      "```\n",
      "\n",
      "Total number of lines: 715230.\n"
     ]
    }
   ],
   "source": [
    "with open(TAXONOMY_DIRECTORY + \"/bac120_taxonomy.tsv\") as f:\n",
    "    count = 0\n",
    "    print(\"First lines contained in the GTDB bacterial taxonomy file:\\n\\n```\")\n",
    "    for line in f:\n",
    "        if count < 5:\n",
    "            print(line[:-1])\n",
    "        count += 1\n",
    "    print(f\"```\\n\\nTotal number of lines: {count}.\")"
   ]
  },
  {
   "cell_type": "markdown",
   "metadata": {},
   "source": [
    "The first column is the identifier of a reference genome. The second column is its taxonomy. Each\n",
    "field of that column contains a prefix that indicates the taxonomic order:\n",
    "\n",
    "- `d__`: Domain (bacteria)\n",
    "- `p__`: Phylum\n",
    "- `c__`: Class\n",
    "- `o__`: Order\n",
    "- `f__`: Family\n",
    "- `g__`: Genus\n",
    "- `s__`: Species\n",
    "\n",
    "There are multiple *Escherichia coli* reference genomes because they correspond to different strains\n",
    "within the same species.\n",
    "\n",
    "Visualizing the full taxonomy is complicated because it comprises more than *700 000* reference\n",
    "genomes, only for bacteria! The following cell loads the GTDB bacteria taxonomy and selects only\n",
    "reference genomes comprised within the `refseq` database, which contains curated data. The cell then\n",
    "prints a table that summarizes the taxonomic groups in the phylum Pseudomonadota and the number\n",
    "of reference genomes for each family."
   ]
  },
  {
   "cell_type": "code",
   "execution_count": 2,
   "metadata": {},
   "outputs": [
    {
     "name": "stdout",
     "output_type": "stream",
     "text": [
      "Taxonomy within the domain Bacteria (372_073 genomes):\n",
      "+==========================================+==========================================+===========+\n",
      "| phylum (50)                              | class (136)                              | N Genomes |\n",
      "+==========================================+==========================================+===========+\n",
      "| Thermosulfidibacterota (1)                                                           |           |\n",
      "|                                            Thermosulfidibacteria (1)                 | 1         |\n",
      "+------------------------------------------+------------------------------------------+-----------+\n",
      "| Omnitrophota (1)                                                                     |           |\n",
      "|                                            Koll11 (1)                                | 1         |\n",
      "+------------------------------------------+------------------------------------------+-----------+\n",
      "| Babelota (1)                                                                         |           |\n",
      "|                                            Babeliae (1)                              | 2         |\n",
      "+------------------------------------------+------------------------------------------+-----------+\n",
      "| Tectomicrobia (1)                                                                    |           |\n",
      "|                                            Entotheonellia (1)                        | 1         |\n",
      "+------------------------------------------+------------------------------------------+-----------+\n",
      "| Desulfobacterota_C (1)                                                               |           |\n",
      "|                                            Deferrisomatia (1)                        | 1         |\n",
      "+------------------------------------------+------------------------------------------+-----------+\n",
      "| Vulcanimicrobiota (1)                                                                |           |\n",
      "|                                            Vulcanimicrobiia (1)                      | 1         |\n",
      "+------------------------------------------+------------------------------------------+-----------+\n",
      "| Desulfobacterota_E (1)                                                               |           |\n",
      "|                                            Deferrimicrobia (1)                       | 3         |\n",
      "+------------------------------------------+------------------------------------------+-----------+\n",
      "| Thermodesulfobiota (1)                                                               |           |\n",
      "|                                            Thermodesulfobiia (1)                     | 3         |\n",
      "+------------------------------------------+------------------------------------------+-----------+\n",
      "| Nitrospinota (1)                                                                     |           |\n",
      "|                                            Nitrospinia (1)                           | 4         |\n",
      "+------------------------------------------+------------------------------------------+-----------+\n",
      "| Methylomirabilota (1)                                                                |           |\n",
      "|                                            Methylomirabilia (1)                      | 3         |\n",
      "+------------------------------------------+------------------------------------------+-----------+\n",
      "| Desulfobacterota_G (1)                                                               |           |\n",
      "|                                            Syntrophorhabdia (1)                      | 1         |\n",
      "+------------------------------------------+------------------------------------------+-----------+\n",
      "| Calditrichota (1)                                                                    |           |\n",
      "|                                            Calditrichia (1)                          | 2         |\n",
      "+------------------------------------------+------------------------------------------+-----------+\n",
      "| Bdellovibrionota_B (1)                                                               |           |\n",
      "|                                            Oligoflexia (2)                           | 13        |\n",
      "+------------------------------------------+------------------------------------------+-----------+\n",
      "| Desulfobacterota_B (1)                                                               |           |\n",
      "|                                            Binatia (1)                               | 5         |\n",
      "+------------------------------------------+------------------------------------------+-----------+\n",
      "| Dictyoglomota (1)                                                                    |           |\n",
      "|                                            Dictyoglomia (1)                          | 5         |\n",
      "+------------------------------------------+------------------------------------------+-----------+\n",
      "| Armatimonadota (5)                                                                   |           |\n",
      "|                                            Abditibacteriia (1)                       | 1         |\n",
      "|                                            Fimbriimonadia (1)                        | 1         |\n",
      "|                                            Armatimonadia (1)                         | 5         |\n",
      "|                                            Chthonomonadetes (1)                      | 6         |\n",
      "|                                            HRBIN17 (1)                               | 2         |\n",
      "+------------------------------------------+------------------------------------------+-----------+\n",
      "| Patescibacteriota (3)                                                                |           |\n",
      "|                                            JAEDAM01 (1)                              | 2         |\n",
      "|                                            Microgenomatia (1)                        | 1         |\n",
      "|                                            Saccharimonadia (1)                       | 23        |\n",
      "+------------------------------------------+------------------------------------------+-----------+\n",
      "| Caldisericota (1)                                                                    |           |\n",
      "|                                            Caldisericia (2)                          | 8         |\n",
      "+------------------------------------------+------------------------------------------+-----------+\n",
      "| Acidobacteriota (5)                                                                  |           |\n",
      "|                                            Vicinamibacteria (1)                      | 3         |\n",
      "|                                            Holophagae (3)                            | 25        |\n",
      "|                                            Terriglobia (2)                           | 86        |\n",
      "|                                            Thermoanaerobaculia (1)                   | 1         |\n",
      "|                                            Blastocatellia (2)                        | 13        |\n",
      "+------------------------------------------+------------------------------------------+-----------+\n",
      "| Gemmatimonadota (1)                                                                  |           |\n",
      "|                                            Gemmatimonadetes (3)                      | 41        |\n",
      "+------------------------------------------+------------------------------------------+-----------+\n",
      "| Atribacterota (1)                                                                    |           |\n",
      "|                                            Atribacteria (1)                          | 4         |\n",
      "+------------------------------------------+------------------------------------------+-----------+\n",
      "| Elusimicrobiota (2)                                                                  |           |\n",
      "|                                            Elusimicrobia (1)                         | 2         |\n",
      "|                                            Endomicrobiia (1)                         | 7         |\n",
      "+------------------------------------------+------------------------------------------+-----------+\n",
      "| Bdellovibrionota (2)                                                                 |           |\n",
      "|                                            Bacteriovoracia (1)                       | 20        |\n",
      "|                                            Bdellovibrionia (1)                       | 30        |\n",
      "+------------------------------------------+------------------------------------------+-----------+\n",
      "| Fibrobacterota (2)                                                                   |           |\n",
      "|                                            Chitinivibrionia (1)                      | 1         |\n",
      "|                                            Fibrobacteria (1)                         | 88        |\n",
      "+------------------------------------------+------------------------------------------+-----------+\n",
      "| Coprothermobacterota (1)                                                             |           |\n",
      "|                                            Coprothermobacteria (1)                   | 4         |\n",
      "+------------------------------------------+------------------------------------------+-----------+\n",
      "| Bipolaricaulota (1)                                                                  |           |\n",
      "|                                            Bipolaricaulia (1)                        | 1         |\n",
      "+------------------------------------------+------------------------------------------+-----------+\n",
      "| Desulfobacterota (12)                                                                |           |\n",
      "|                                            DSM-4660 (1)                              | 1         |\n",
      "|                                            Desulfarculia (1)                         | 3         |\n",
      "|                                            Desulfomonilia (1)                        | 1         |\n",
      "|                                            Dissulfuribacteria (1)                    | 4         |\n",
      "|                                            Syntrophobacteria (1)                     | 9         |\n",
      "|                                            Desulfobaccia (1)                         | 1         |\n",
      "|                                            Syntrophia (1)                            | 3         |\n",
      "|                                            Desulfofervidia (1)                       | 1         |\n",
      "|                                            Desulfobulbia (1)                         | 34        |\n",
      "|                                            Desulfobacteria (1)                       | 62        |\n",
      "|                                            Thermodesulfobacteria (1)                 | 20        |\n",
      "|                                            Desulfuromonadia (2)                      | 118       |\n",
      "+------------------------------------------+------------------------------------------+-----------+\n",
      "| Aquificota (1)                                                                       |           |\n",
      "|                                            Aquificia (2)                             | 53        |\n",
      "+------------------------------------------+------------------------------------------+-----------+\n",
      "| Planctomycetota (4)                                                                  |           |\n",
      "|                                            Uabimicrobiia (1)                         | 3         |\n",
      "|                                            Phycisphaerae (3)                         | 12        |\n",
      "|                                            Planctomycetia (4)                        | 215       |\n",
      "|                                            Brocadiia (1)                             | 10        |\n",
      "+------------------------------------------+------------------------------------------+-----------+\n",
      "| Myxococcota (3)                                                                      |           |\n",
      "|                                            Bradymonadia (1)                          | 9         |\n",
      "|                                            Polyangia (3)                             | 41        |\n",
      "|                                            Myxococcia (1)                            | 174       |\n",
      "+------------------------------------------+------------------------------------------+-----------+\n",
      "| Synergistota (1)                                                                     |           |\n",
      "|                                            Synergistia (1)                           | 130       |\n",
      "+------------------------------------------+------------------------------------------+-----------+\n",
      "| Nitrospirota (2)                                                                     |           |\n",
      "|                                            Thermodesulfovibrionia (1)                | 19        |\n",
      "|                                            Nitrospiria (2)                           | 15        |\n",
      "+------------------------------------------+------------------------------------------+-----------+\n",
      "| Chloroflexota (5)                                                                    |           |\n",
      "|                                            Ktedonobacteria (1)                       | 20        |\n",
      "|                                            Dormibacteria (2)                         | 3         |\n",
      "|                                            Chloroflexia (4)                          | 53        |\n",
      "|                                            Anaerolineae (8)                          | 57        |\n",
      "|                                            Dehalococcoidia (3)                       | 80        |\n",
      "+------------------------------------------+------------------------------------------+-----------+\n",
      "| Thermotogota (1)                                                                     |           |\n",
      "|                                            Thermotogae (3)                           | 166       |\n",
      "+------------------------------------------+------------------------------------------+-----------+\n",
      "| Nitrospirota_A (1)                                                                   |           |\n",
      "|                                            Leptospirillia (1)                        | 9         |\n",
      "+------------------------------------------+------------------------------------------+-----------+\n",
      "| Cloacimonadota (1)                                                                   |           |\n",
      "|                                            Cloacimonadia (1)                         | 2         |\n",
      "+------------------------------------------+------------------------------------------+-----------+\n",
      "| Deinococcota (1)                                                                     |           |\n",
      "|                                            Deinococci (1)                            | 357       |\n",
      "+------------------------------------------+------------------------------------------+-----------+\n",
      "| Cyanobacteriota (2)                                                                  |           |\n",
      "|                                            Vampirovibrionia (1)                      | 2         |\n",
      "|                                            Cyanobacteriia (21)                       | 1867      |\n",
      "+------------------------------------------+------------------------------------------+-----------+\n",
      "| Bacteroidota_A (4)                                                                   |           |\n",
      "|                                            Ignavibacteria (1)                        | 13        |\n",
      "|                                            Chlorobiia (1)                            | 47        |\n",
      "|                                            Kryptoniia (1)                            | 12        |\n",
      "|                                            Rhodothermia (2)                          | 184       |\n",
      "+------------------------------------------+------------------------------------------+-----------+\n",
      "| Fusobacteriota (1)                                                                   |           |\n",
      "|                                            Fusobacteriia (1)                         | 716       |\n",
      "+------------------------------------------+------------------------------------------+-----------+\n",
      "| Chlamydiota (1)                                                                      |           |\n",
      "|                                            Chlamydiia (2)                            | 537       |\n",
      "+------------------------------------------+------------------------------------------+-----------+\n",
      "| Spirochaetota (4)                                                                    |           |\n",
      "|                                            Brevinematia (1)                          | 2         |\n",
      "|                                            Brachyspiria (1)                          | 279       |\n",
      "|                                            Spirochaetia (11)                         | 867       |\n",
      "|                                            Leptospiria (2)                           | 873       |\n",
      "+------------------------------------------+------------------------------------------+-----------+\n",
      "| Chrysiogenota (2)                                                                    |           |\n",
      "|                                            Chrysiogenetes (1)                        | 4         |\n",
      "|                                            Deferribacteres (1)                       | 21        |\n",
      "+------------------------------------------+------------------------------------------+-----------+\n",
      "| Desulfobacterota_I (1)                                                               |           |\n",
      "|                                            Desulfovibrionia (1)                      | 452       |\n",
      "+------------------------------------------+------------------------------------------+-----------+\n",
      "| Verrucomicrobiota (3)                                                                |           |\n",
      "|                                            Kiritimatiellia (1)                       | 8         |\n",
      "|                                            Lentisphaeria (3)                         | 25        |\n",
      "|                                            Verrucomicrobiia (5)                      | 548       |\n",
      "+------------------------------------------+------------------------------------------+-----------+\n",
      "| Bacteroidota (1)                                                                     |           |\n",
      "|                                            Bacteroidia (9)                           | 18325     |\n",
      "+------------------------------------------+------------------------------------------+-----------+\n",
      "| Campylobacterota (2)                                                                 |           |\n",
      "|                                            Desulfurellia (1)                         | 9         |\n",
      "|                                            Campylobacteria (2)                       | 9990      |\n",
      "+------------------------------------------+------------------------------------------+-----------+\n",
      "| Actinomycetota (9)                                                                   |           |\n",
      "|                                            Rubrobacteria (1)                         | 13        |\n",
      "|                                            Geothermincolia (1)                       | 1         |\n",
      "|                                            Nitriliruptoria (2)                       | 17        |\n",
      "|                                            Humimicrobiia (1)                         | 2         |\n",
      "|                                            Thermoleophilia (3)                       | 46        |\n",
      "|                                            Aquicultoria (2)                          | 5         |\n",
      "|                                            Acidimicrobiia (1)                        | 67        |\n",
      "|                                            Coriobacteriia (2)                        | 1113      |\n",
      "|                                            Actinomycetes (10)                        | 34856     |\n",
      "+------------------------------------------+------------------------------------------+-----------+\n",
      "| Bacillota (31)                                                                       |           |\n",
      "|                                            DUOV01 (1)                                | 1         |\n",
      "|                                            DSM-16504 (1)                             | 1         |\n",
      "|                                            KKC1 (1)                                  | 1         |\n",
      "|                                            TC1 (1)                                   | 1         |\n",
      "|                                            Proteinivoracia (1)                       | 5         |\n",
      "|                                            UBA994 (1)                                | 1         |\n",
      "|                                            JADQBR01 (1)                              | 1         |\n",
      "|                                            Dethiobacteria (2)                        | 3         |\n",
      "|                                            Symbiobacteriia (1)                       | 5         |\n",
      "|                                            Thermincolia (1)                          | 3         |\n",
      "|                                            UBA4882 (2)                               | 2         |\n",
      "|                                            Natranaerobiia (1)                        | 4         |\n",
      "|                                            Thermaerobacteria (1)                     | 5         |\n",
      "|                                            Dehalobacteriia (1)                       | 4         |\n",
      "|                                            Z-2901 (1)                                | 5         |\n",
      "|                                            Limnochordia (1)                          | 4         |\n",
      "|                                            DTU030 (1)                                | 1         |\n",
      "|                                            GCA-003054495 (1)                         | 4         |\n",
      "|                                            Desulfotomaculia (1)                      | 51        |\n",
      "|                                            Sulfobacillia (1)                         | 9         |\n",
      "|                                            Syntrophomonadia (1)                      | 13        |\n",
      "|                                            DSM-12270 (1)                             | 3         |\n",
      "|                                            Thermosediminibacteria (2)                | 20        |\n",
      "|                                            Peptococcia (2)                           | 3         |\n",
      "|                                            Desulfitobacteriia (2)                    | 69        |\n",
      "|                                            Thermoanaerobacteria (2)                  | 94        |\n",
      "|                                            Moorellia (1)                             | 35        |\n",
      "|                                            Halanaerobiia (3)                         | 53        |\n",
      "|                                            Negativicutes (12)                        | 1698      |\n",
      "|                                            Clostridia (18)                           | 12579     |\n",
      "|                                            Bacilli (35)                              | 87527     |\n",
      "+------------------------------------------+------------------------------------------+-----------+\n",
      "| Pseudomonadota (4)                                                                   |           |\n",
      "|                                            Magnetococcia (1)                         | 4         |\n",
      "|                                            Zetaproteobacteria (1)                    | 13        |\n",
      "|                                            Alphaproteobacteria (38)                  | 16777     |\n",
      "|                                            Gammaproteobacteria (57)                  | 180067    |\n",
      "+------------------------------------------+------------------------------------------+-----------+\n"
     ]
    }
   ],
   "source": [
    "T = Taxonomy((\"refseq\", ))\n",
    "urls = get_urls(SUMMARY_DIRECTORY)\n",
    "T.read_GTDB_file(TAXONOMY_DIRECTORY + \"/bac120_taxonomy.tsv\", urls)\n",
    "T.read_GTDB_file(TAXONOMY_DIRECTORY + \"/ar53_taxonomy.tsv\", urls)\n",
    "del urls\n",
    "T.print(\n",
    "    (\"Bacteria\", ),  # This is the path that selects a subgraph in the taxonomy (i.e. excludes archaea).\n",
    "    2,  # The number of taxonomic levels to present in the table within the selected taxon.\n",
    "    100  # The width of the table in terms of number of characters.\n",
    ")"
   ]
  },
  {
   "cell_type": "markdown",
   "metadata": {},
   "source": [
    "## 6. Prepare Data for Training\n",
    "\n",
    "The raw dataset has flaws.\n",
    "\n",
    "- Some taxonomic groups comprise very few reference genomes. For instance, the Bacteria phylum\n",
    "  Thermosulfidibacterota comprises a single reference genome.\n",
    "- The dataset is unbalanced. For instance, the class Gammaproteobacteria comprises $181 293$\n",
    "  reference genomes.\n",
    "- All genomes are stored in a graph, which makes them unsuitable to train and test a\n",
    "  machine learning model.\n",
    "\n",
    "The following cells address these flaws by to obtain reference genomes grouped by a taxonomic\n",
    "level and split in distinct sets."
   ]
  },
  {
   "cell_type": "code",
   "execution_count": 3,
   "metadata": {},
   "outputs": [
    {
     "name": "stdout",
     "output_type": "stream",
     "text": [
      "Taxon ['root', 'Archaea', 'Nanohalarchaeota'] not retained; 3 genus in ('refseq',).\n",
      "Taxon ['root', 'Archaea', 'Nanobdellota'] not retained; 1 genus in ('refseq',).\n",
      "Taxon ['root', 'Archaea', 'Asgardarchaeota'] not retained; 2 genus in ('refseq',).\n",
      "Taxon ['root', 'Archaea', 'Korarchaeota'] not retained; 2 genus in ('refseq',).\n",
      "Taxon ['root', 'Archaea', 'Hadarchaeota'] not retained; 1 genus in ('refseq',).\n",
      "Taxon ['root', 'Archaea', 'Methanobacteriota_B'] not retained; 5 genus in ('refseq',).\n",
      "Taxon ['root', 'Archaea', 'Micrarchaeota'] not retained; 2 genus in ('refseq',).\n",
      "Taxon ['root', 'Archaea', 'Thermoplasmatota'] not retained (48 genomes).\n",
      "Taxon ['root', 'Bacteria', 'Thermosulfidibacterota'] not retained; 1 genus in ('refseq',).\n",
      "Taxon ['root', 'Bacteria', 'Omnitrophota'] not retained; 1 genus in ('refseq',).\n",
      "Taxon ['root', 'Bacteria', 'Babelota'] not retained; 2 genus in ('refseq',).\n",
      "Taxon ['root', 'Bacteria', 'Tectomicrobia'] not retained; 1 genus in ('refseq',).\n",
      "Taxon ['root', 'Bacteria', 'Desulfobacterota_C'] not retained; 1 genus in ('refseq',).\n",
      "Taxon ['root', 'Bacteria', 'Vulcanimicrobiota'] not retained; 1 genus in ('refseq',).\n",
      "Taxon ['root', 'Bacteria', 'Desulfobacterota_E'] not retained; 1 genus in ('refseq',).\n",
      "Taxon ['root', 'Bacteria', 'Thermodesulfobiota'] not retained; 1 genus in ('refseq',).\n",
      "Taxon ['root', 'Bacteria', 'Nitrospinota'] not retained; 1 genus in ('refseq',).\n",
      "Taxon ['root', 'Bacteria', 'Methylomirabilota'] not retained; 1 genus in ('refseq',).\n",
      "Taxon ['root', 'Bacteria', 'Desulfobacterota_G'] not retained; 1 genus in ('refseq',).\n",
      "Taxon ['root', 'Bacteria', 'Calditrichota'] not retained; 1 genus in ('refseq',).\n",
      "Taxon ['root', 'Bacteria', 'Bdellovibrionota_B'] not retained; 3 genus in ('refseq',).\n",
      "Taxon ['root', 'Bacteria', 'Desulfobacterota_B'] not retained; 1 genus in ('refseq',).\n",
      "Taxon ['root', 'Bacteria', 'Dictyoglomota'] not retained; 1 genus in ('refseq',).\n",
      "Taxon ['root', 'Bacteria', 'Armatimonadota'] not retained; 6 genus in ('refseq',).\n",
      "Taxon ['root', 'Bacteria', 'Patescibacteriota'] not retained; 9 genus in ('refseq',).\n",
      "Taxon ['root', 'Bacteria', 'Caldisericota'] not retained; 2 genus in ('refseq',).\n",
      "Taxon ['root', 'Bacteria', 'Gemmatimonadota'] not retained; 6 genus in ('refseq',).\n",
      "Taxon ['root', 'Bacteria', 'Atribacterota'] not retained; 2 genus in ('refseq',).\n",
      "Taxon ['root', 'Bacteria', 'Elusimicrobiota'] not retained; 5 genus in ('refseq',).\n",
      "Taxon ['root', 'Bacteria', 'Bdellovibrionota'] not retained; 7 genus in ('refseq',).\n",
      "Taxon ['root', 'Bacteria', 'Fibrobacterota'] not retained; 3 genus in ('refseq',).\n",
      "Taxon ['root', 'Bacteria', 'Coprothermobacterota'] not retained; 1 genus in ('refseq',).\n",
      "Taxon ['root', 'Bacteria', 'Bipolaricaulota'] not retained; 1 genus in ('refseq',).\n",
      "Taxon ['root', 'Bacteria', 'Nitrospirota'] not retained (34 genomes).\n",
      "Taxon ['root', 'Bacteria', 'Nitrospirota_A'] not retained; 2 genus in ('refseq',).\n",
      "Taxon ['root', 'Bacteria', 'Cloacimonadota'] not retained; 2 genus in ('refseq',).\n",
      "Taxon ['root', 'Bacteria', 'Chrysiogenota'] not retained (25 genomes).\n",
      "Found 61 taxa, retained 24.\n",
      "Detected 374201 reference genomes.\n",
      "Pruned 553 reference genomes from low frequency taxa.\n",
      "Removed 314415 reference genomes from large species.\n",
      "Selected 59233 reference genomes.\n",
      "Filtered 4518 reference genomes.\n"
     ]
    }
   ],
   "source": [
    "# Filter the dataset.\n",
    "dataset = T.bin_genomes(\n",
    "    depth=2,  # The dataset will have a resolution at the level of phyla.\n",
    "    granularity_level=1,  # Data points will be split by genus.\n",
    "    min_granularity=10,  # The minimum number of genus by data point.\n",
    "    n_min_reference_genomes_per_bin=50,  # Minimum number of reference genomes by genus.\n",
    "    n_max_reference_genomes_per_species=3,  # Maximum number of reference genomes for a species.\n",
    "    max_bin_size=20,  # Maximum number of reference genomes by genus.\n",
    "    n_max_bins=50  # Maximum number of data points for each phylum.\n",
    ")"
   ]
  },
  {
   "cell_type": "markdown",
   "metadata": {},
   "source": [
    "Phyla that contain too few genera (less than 10) are dropped, so we end up with 24 phyla.\n",
    "\n",
    "The GTDB project does not include viruses, so we have to use the taxonomy of the NCBI instead, which\n",
    "is based on the ICTV. The taxonomic levels are organized differently, so we split the virus\n",
    "reference genomes by realm instead of phylum and use a genus-level granularity."
   ]
  },
  {
   "cell_type": "code",
   "execution_count": null,
   "metadata": {},
   "outputs": [
    {
     "name": "stdout",
     "output_type": "stream",
     "text": [
      "Taxon 1288359 has no known lineage.\n",
      "Taxon 1452540 has no known lineage.\n",
      "Taxon 2020881 has no known lineage.\n",
      "Taxon 2746248 has no known lineage.\n",
      "Taxon 2755000 has no known lineage.\n",
      "Out of 14496 reconstructed taxonomies, retained 11774.\n",
      "`('Viruses', 'Duplodnaviria')` contains 1438 values, reducing.\n",
      "`('Viruses', 'Riboviria')` contains 1059 values, reducing.\n",
      "`('Viruses', 'Monodnaviria')` contains 256 values, reducing.\n",
      "Retained 1379 reference genomes to balance the dataset.\n"
     ]
    }
   ],
   "source": [
    "tax_id_to_genome = ncbi.get_assembly_taxid(SUMMARY_DIRECTORY + \"viral.txt\")\n",
    "parents, ranks = ncbi.get_all_taxonomy_parents(\n",
    "    NCBI_TAXONOMY_DIRECTORY + \"nodes.dmp\",\n",
    "    set(tax_id_to_genome.keys())\n",
    ")\n",
    "names = ncbi.taxid_to_names(NCBI_TAXONOMY_DIRECTORY + \"names.dmp\", set(parents.keys()))\n",
    "lineages = ncbi.resolve_taxonomy(parents, ranks, tax_id_to_genome, names)\n",
    "virus_dataset = ncbi.bin_genomes(\n",
    "    lineages,\n",
    "    (\"acellular root\", \"realm\"),\n",
    "    \"genus\",\n",
    "    tax_id_to_genome,\n",
    "    max_bin_size=20,  # Maximum number of reference genomes by genus.\n",
    "    n_min_bins=10,  # Minimum number of genus for each realm.\n",
    "    n_max_bins=100  # Maximum number of genus for each realm.\n",
    ")"
   ]
  },
  {
   "cell_type": "markdown",
   "metadata": {},
   "source": [
    "Virus reference genomes are significantly smaller than archaea and bacteria genomes, so the bins\n",
    "are bigger to compensate.\n",
    "\n",
    "```\n",
    "Why go through this hassle?\n",
    "```\n",
    "\n",
    "To correctly evaluate the performance of classification models, we have to separate the reference\n",
    "genomes into distinct sets. We cannot train and evaluate them on the same reference genomes or on\n",
    "reference genomes that are very similar because that would contaminate the model and give a false\n",
    "impression of its actual performance.\n",
    "\n",
    "For instance, if the training and testing sets both have reference genomes of *Escherichia coli*,\n",
    "the evaluation does not actually measure the precision of the model because the two sets comprise\n",
    "essentially the same data. So we split reference genomes based on their *genus* to ensure that the\n",
    "sets are non-similar. You can control that level (e.g. use the family or species as the\n",
    "non-similarity cutoff point) with the parameter `granularity_level`.\n",
    "\n",
    "Let's write this dataset in a JSON file:"
   ]
  },
  {
   "cell_type": "code",
   "execution_count": null,
   "metadata": {},
   "outputs": [],
   "source": [
    "mkdir(DATASET_V1_DIRECTORY)\n",
    "GENOME_V1_DATASET_FILE = DATASET_V1_DIRECTORY + \"version_1.json\"\n",
    "with open(GENOME_V1_DATASET_FILE, 'w') as f:\n",
    "    json.dump(dataset + virus_dataset, f, indent=4)"
   ]
  },
  {
   "cell_type": "markdown",
   "metadata": {},
   "source": [
    "The file is organized as follows:\n",
    "\n",
    "```\n",
    "[\n",
    "    [\n",
    "        [Taxonomic description of a phylum / realm],\n",
    "        [\n",
    "            [\n",
    "                <genus name>,\n",
    "                [\n",
    "                    <list of reference genomes in that genus>\n",
    "                ]\n",
    "            ],\n",
    "            ...\n",
    "        ],\n",
    "        ...\n",
    "    ]\n",
    "]\n",
    "```\n",
    "\n",
    "Let's list the download URLs of all these reference genomes in a file and\n",
    "download them:"
   ]
  },
  {
   "cell_type": "code",
   "execution_count": null,
   "metadata": {},
   "outputs": [],
   "source": [
    "# Convert the dataset into a list of URLs that can be downloaded.\n",
    "INDEX_FILE = DATASET_V1_DIRECTORY + \"index.tsv\"\n",
    "with open(GENOME_V1_DATASET_FILE, \"r\") as f:\n",
    "    dataset = json.load(f)\n",
    "make_index_file(dataset, INDEX_FILE, SUMMARY_DIRECTORY)"
   ]
  },
  {
   "cell_type": "code",
   "execution_count": null,
   "metadata": {},
   "outputs": [],
   "source": [
    "# Download all listed reference genomes as FASTA files.\n",
    "genome_dir_v1 = DATASET_V1_DIRECTORY + \"genomes\"\n",
    "mkdir(genome_dir_v1)\n",
    "ncbi.install_genomes(INDEX_FILE, genome_dir_v1)"
   ]
  },
  {
   "cell_type": "markdown",
   "metadata": {},
   "source": [
    "The dataset can then be split into train, validation, and test splits."
   ]
  },
  {
   "cell_type": "code",
   "execution_count": 12,
   "metadata": {},
   "outputs": [],
   "source": [
    "from random import shuffle\n",
    "\n",
    "train, validate, test = [], [], []\n",
    "for label, bins in dataset:\n",
    "    elements = bins.copy()\n",
    "    shuffle(elements)\n",
    "    n = len(elements)\n",
    "    tenth = int(n * 0.1)\n",
    "    validate.append([label, elements[:tenth]])\n",
    "    test.append([label, elements[tenth:tenth * 2]])\n",
    "    train.append([label, elements[tenth * 2:]])\n",
    "\n",
    "SPLIT_DIRECTORY = DATASET_V1_DIRECTORY + \"/splits\"\n",
    "mkdir(SPLIT_DIRECTORY)\n",
    "with open(SPLIT_DIRECTORY + \"/train.json\", \"w\") as f:\n",
    "    json.dump(train, f, indent=4)\n",
    "with open(SPLIT_DIRECTORY + \"/validate.json\", \"w\") as f:\n",
    "    json.dump(validate, f, indent=4)\n",
    "with open(SPLIT_DIRECTORY + \"/test.json\", \"w\") as f:\n",
    "    json.dump(test, f, indent=4)"
   ]
  },
  {
   "cell_type": "markdown",
   "metadata": {},
   "source": [
    "We can now generate synthetic reads for each dataset. In the following cell, `x` stands for\n",
    "synthetic reads (i.e. sequences of nucleotides) and `y` stands for taxonomic labels (i.e. the phylum\n",
    "or realm from which the reads were generated)."
   ]
  },
  {
   "cell_type": "code",
   "execution_count": 29,
   "metadata": {},
   "outputs": [],
   "source": [
    "index_to_taxonomic_label = {}  # Map `y` values to taxonomic labels.\n",
    "for i, (label, _) in enumerate(dataset):\n",
    "    index_to_taxonomic_label[i] = label\n",
    "with open(SPLIT_DIRECTORY + \"/map.json\", \"w\") as f:\n",
    "    json.dump(index_to_taxonomic_label, f, indent=4)"
   ]
  },
  {
   "cell_type": "code",
   "execution_count": 3,
   "metadata": {},
   "outputs": [
    {
     "name": "stdout",
     "output_type": "stream",
     "text": [
      "Estimated file size: 12.56 MB.\n",
      "Average number of reads per bin: 433.10\n"
     ]
    },
    {
     "name": "stderr",
     "output_type": "stream",
     "text": [
      "  6%|▌         | 746/12560 [00:01<00:24, 482.77it/s] "
     ]
    },
    {
     "name": "stdout",
     "output_type": "stream",
     "text": [
      "Error on GCF_020804205.1: 'Y'\n"
     ]
    },
    {
     "name": "stderr",
     "output_type": "stream",
     "text": [
      " 81%|████████  | 10193/12560 [00:29<00:02, 1090.32it/s]"
     ]
    },
    {
     "name": "stdout",
     "output_type": "stream",
     "text": [
      "Error on GCF_000927375.1: 'M'\n"
     ]
    },
    {
     "name": "stderr",
     "output_type": "stream",
     "text": [
      " 89%|████████▊ | 11118/12560 [00:30<00:00, 1475.74it/s]"
     ]
    },
    {
     "name": "stdout",
     "output_type": "stream",
     "text": [
      "Error on GCF_000893795.1: 'R'\n"
     ]
    },
    {
     "name": "stderr",
     "output_type": "stream",
     "text": [
      " 94%|█████████▎| 11761/12560 [00:30<00:00, 1840.91it/s]"
     ]
    },
    {
     "name": "stdout",
     "output_type": "stream",
     "text": [
      "Error on GCF_002817435.1: Reads are too short.\n",
      "Error on GCF_000886675.1: 'Y'\n"
     ]
    },
    {
     "name": "stderr",
     "output_type": "stream",
     "text": [
      " 98%|█████████▊| 12249/12560 [00:31<00:00, 1947.39it/s]"
     ]
    },
    {
     "name": "stdout",
     "output_type": "stream",
     "text": [
      "Error on GCF_013087075.1: 'R'\n"
     ]
    },
    {
     "name": "stderr",
     "output_type": "stream",
     "text": [
      "100%|██████████| 12560/12560 [00:31<00:00, 403.29it/s] \n"
     ]
    },
    {
     "name": "stdout",
     "output_type": "stream",
     "text": [
      "Sampled 12560 genomes.\n",
      "Estimated file size: 11.6 MB.\n",
      "Average number of reads per bin: 400.00\n"
     ]
    },
    {
     "name": "stderr",
     "output_type": "stream",
     "text": [
      " 77%|███████▋  | 8921/11600 [00:29<00:18, 144.60it/s]"
     ]
    },
    {
     "name": "stdout",
     "output_type": "stream",
     "text": [
      "Error on GCF_001854725.1: 'Y'\n"
     ]
    },
    {
     "name": "stderr",
     "output_type": "stream",
     "text": [
      " 89%|████████▉ | 10321/11600 [00:35<00:03, 409.25it/s]"
     ]
    },
    {
     "name": "stdout",
     "output_type": "stream",
     "text": [
      "Error on GCF_002827685.1: Reads are too short.\n"
     ]
    },
    {
     "name": "stderr",
     "output_type": "stream",
     "text": [
      " 95%|█████████▌| 11021/11600 [00:36<00:00, 848.81it/s]"
     ]
    },
    {
     "name": "stdout",
     "output_type": "stream",
     "text": [
      "Error on GCF_001926075.1: 'Y'\n"
     ]
    },
    {
     "name": "stderr",
     "output_type": "stream",
     "text": [
      "100%|█████████▉| 11561/11600 [00:36<00:00, 1064.66it/s]"
     ]
    },
    {
     "name": "stdout",
     "output_type": "stream",
     "text": [
      "Error on GCF_001440955.1: 'R'\n",
      "Error on GCF_018594965.1: Reads are too short.\n"
     ]
    },
    {
     "name": "stderr",
     "output_type": "stream",
     "text": [
      "100%|██████████| 11600/11600 [00:36<00:00, 314.87it/s] \n"
     ]
    },
    {
     "name": "stdout",
     "output_type": "stream",
     "text": [
      "Sampled 11600 genomes.\n",
      "Estimated file size: 93.28 MB.\n",
      "Average number of reads per bin: 3216.55\n"
     ]
    },
    {
     "name": "stderr",
     "output_type": "stream",
     "text": [
      " 31%|███       | 28461/93280 [01:25<03:14, 333.78it/s]"
     ]
    },
    {
     "name": "stdout",
     "output_type": "stream",
     "text": [
      "Error on GCF_002251945.1: 'W'\n"
     ]
    },
    {
     "name": "stderr",
     "output_type": "stream",
     "text": [
      " 37%|███▋      | 34703/93280 [01:40<01:43, 566.57it/s]"
     ]
    },
    {
     "name": "stdout",
     "output_type": "stream",
     "text": [
      "Error on GCF_001729865.1: 'M'\n"
     ]
    },
    {
     "name": "stderr",
     "output_type": "stream",
     "text": [
      " 38%|███▊      | 35041/93280 [01:41<01:43, 561.98it/s]"
     ]
    },
    {
     "name": "stdout",
     "output_type": "stream",
     "text": [
      "Error on GCF_000253035.1: 'Y'\n"
     ]
    },
    {
     "name": "stderr",
     "output_type": "stream",
     "text": [
      " 43%|████▎     | 40421/93280 [01:56<02:24, 365.89it/s]"
     ]
    },
    {
     "name": "stdout",
     "output_type": "stream",
     "text": [
      "Error on GCF_010470665.1: 'Y'\n"
     ]
    },
    {
     "name": "stderr",
     "output_type": "stream",
     "text": [
      " 77%|███████▋  | 71481/93280 [03:15<00:39, 546.62it/s]"
     ]
    },
    {
     "name": "stdout",
     "output_type": "stream",
     "text": [
      "Error on GCF_002826605.1: Reads are too short.\n"
     ]
    },
    {
     "name": "stderr",
     "output_type": "stream",
     "text": [
      " 77%|███████▋  | 72021/93280 [03:16<00:19, 1092.36it/s]"
     ]
    },
    {
     "name": "stdout",
     "output_type": "stream",
     "text": [
      "Error on GCF_002818035.1: Reads are too short.\n",
      "Error on GCF_000911915.1: 'R'\n"
     ]
    },
    {
     "name": "stderr",
     "output_type": "stream",
     "text": [
      " 78%|███████▊  | 72340/93280 [03:16<00:20, 1025.82it/s]"
     ]
    },
    {
     "name": "stdout",
     "output_type": "stream",
     "text": [
      "Error on GCF_002829285.1: Reads are too short.\n"
     ]
    },
    {
     "name": "stderr",
     "output_type": "stream",
     "text": [
      " 78%|███████▊  | 73221/93280 [03:18<00:32, 614.93it/s] "
     ]
    },
    {
     "name": "stdout",
     "output_type": "stream",
     "text": [
      "Error on GCF_000843685.1: 'W'\n",
      "Error on GCF_002829305.1: Reads are too short.\n",
      "Error on GCF_002924545.1: 'M'\n"
     ]
    },
    {
     "name": "stderr",
     "output_type": "stream",
     "text": [
      " 79%|███████▉  | 73541/93280 [03:18<00:27, 729.63it/s]"
     ]
    },
    {
     "name": "stdout",
     "output_type": "stream",
     "text": [
      "Error on GCF_002827725.1: Reads are too short.\n",
      "Error on GCF_002827625.1: Reads are too short.\n",
      "Error on GCF_002833805.1: Reads are too short.\n"
     ]
    },
    {
     "name": "stderr",
     "output_type": "stream",
     "text": [
      " 80%|███████▉  | 74161/93280 [03:19<00:24, 767.08it/s]"
     ]
    },
    {
     "name": "stdout",
     "output_type": "stream",
     "text": [
      "Error on GCF_000889015.1: 'R'\n"
     ]
    },
    {
     "name": "stderr",
     "output_type": "stream",
     "text": [
      " 80%|████████  | 74645/93280 [03:19<00:20, 916.33it/s] "
     ]
    },
    {
     "name": "stdout",
     "output_type": "stream",
     "text": [
      "Error on GCF_013088515.1: Reads are too short.\n"
     ]
    },
    {
     "name": "stderr",
     "output_type": "stream",
     "text": [
      " 81%|████████  | 75311/93280 [03:20<00:16, 1113.19it/s]"
     ]
    },
    {
     "name": "stdout",
     "output_type": "stream",
     "text": [
      "Error on GCF_002355065.1: 'Y'\n",
      "Error on GCF_002833605.1: Reads are too short.\n"
     ]
    },
    {
     "name": "stderr",
     "output_type": "stream",
     "text": [
      " 82%|████████▏ | 76887/93280 [03:22<00:15, 1053.99it/s]"
     ]
    },
    {
     "name": "stdout",
     "output_type": "stream",
     "text": [
      "Error on GCF_000882935.1: 'K'\n"
     ]
    },
    {
     "name": "stderr",
     "output_type": "stream",
     "text": [
      " 83%|████████▎ | 77701/93280 [03:22<00:08, 1764.73it/s]"
     ]
    },
    {
     "name": "stdout",
     "output_type": "stream",
     "text": [
      "Error on GCF_006384835.1: 'K'\n",
      "Error on GCF_002605485.1: 'M'\n"
     ]
    },
    {
     "name": "stderr",
     "output_type": "stream",
     "text": [
      " 84%|████████▍ | 78195/93280 [03:23<00:11, 1299.04it/s]"
     ]
    },
    {
     "name": "stdout",
     "output_type": "stream",
     "text": [
      "Error on GCF_000955415.1: 'M'\n"
     ]
    },
    {
     "name": "stderr",
     "output_type": "stream",
     "text": [
      " 85%|████████▍ | 79133/93280 [03:23<00:10, 1329.43it/s]"
     ]
    },
    {
     "name": "stdout",
     "output_type": "stream",
     "text": [
      "Error on GCF_008952025.1: 'S'\n"
     ]
    },
    {
     "name": "stderr",
     "output_type": "stream",
     "text": [
      " 87%|████████▋ | 80981/93280 [03:24<00:06, 1889.18it/s]"
     ]
    },
    {
     "name": "stdout",
     "output_type": "stream",
     "text": [
      "Error on GCF_002817775.1: Reads are too short.\n",
      "Error on GCF_002988035.1: Reads are too short.\n",
      "Error on GCF_002830645.1: Reads are too short.\n",
      "Error on GCF_002830625.1: Reads are too short.\n",
      "Error on GCF_002830585.1: Reads are too short.\n"
     ]
    },
    {
     "name": "stderr",
     "output_type": "stream",
     "text": [
      " 88%|████████▊ | 81819/93280 [03:25<00:05, 2189.49it/s]"
     ]
    },
    {
     "name": "stdout",
     "output_type": "stream",
     "text": [
      "Error on GCF_000896195.1: 'D'\n"
     ]
    },
    {
     "name": "stderr",
     "output_type": "stream",
     "text": [
      " 89%|████████▊ | 82701/93280 [03:25<00:04, 2345.25it/s]"
     ]
    },
    {
     "name": "stdout",
     "output_type": "stream",
     "text": [
      "Error on GCF_000922215.1: 'K'\n"
     ]
    },
    {
     "name": "stderr",
     "output_type": "stream",
     "text": [
      " 89%|████████▉ | 83442/93280 [03:26<00:04, 2099.30it/s]"
     ]
    },
    {
     "name": "stdout",
     "output_type": "stream",
     "text": [
      "Error on GCF_002867285.1: 'Y'\n"
     ]
    },
    {
     "name": "stderr",
     "output_type": "stream",
     "text": [
      " 91%|█████████ | 84593/93280 [03:26<00:02, 2926.40it/s]"
     ]
    },
    {
     "name": "stdout",
     "output_type": "stream",
     "text": [
      "Error on GCF_003028975.1: 'Y'\n",
      "Error on GCF_001755345.1: 'M'\n",
      "Error on GCF_001755105.1: 'Y'\n",
      "Error on GCF_001754205.1: 'Y'\n"
     ]
    },
    {
     "name": "stderr",
     "output_type": "stream",
     "text": [
      " 92%|█████████▏| 85421/93280 [03:26<00:03, 2145.79it/s]"
     ]
    },
    {
     "name": "stdout",
     "output_type": "stream",
     "text": [
      "Error on GCF_000868165.1: 'Y'\n",
      "Error on GCF_001934645.1: 'Y'\n"
     ]
    },
    {
     "name": "stderr",
     "output_type": "stream",
     "text": [
      " 92%|█████████▏| 86240/93280 [03:27<00:03, 1990.95it/s]"
     ]
    },
    {
     "name": "stdout",
     "output_type": "stream",
     "text": [
      "Error on GCF_001961355.1: 'W'\n",
      "Error on GCF_002889215.1: 'M'\n"
     ]
    },
    {
     "name": "stderr",
     "output_type": "stream",
     "text": [
      " 93%|█████████▎| 87052/93280 [03:27<00:02, 2221.38it/s]"
     ]
    },
    {
     "name": "stdout",
     "output_type": "stream",
     "text": [
      "Error on GCF_002829985.1: Reads are too short.\n",
      "Error on GCF_000845065.1: 'Y'\n"
     ]
    },
    {
     "name": "stderr",
     "output_type": "stream",
     "text": [
      " 94%|█████████▍| 87801/93280 [03:27<00:02, 2297.08it/s]"
     ]
    },
    {
     "name": "stdout",
     "output_type": "stream",
     "text": [
      "Error on GCF_000896735.1: 'R'\n",
      "Error on GCF_000902595.1: 'M'\n",
      "Error on GCF_002994705.1: Reads are too short.\n",
      "Error on GCF_018591415.1: Reads are too short.\n",
      "Error on GCF_000844665.1: Reads are too short.\n",
      "Error on GCF_000840045.1: Reads are too short.\n",
      "Error on GCF_000884215.1: Reads are too short.\n",
      "Error on GCF_000914235.1: Reads are too short.\n",
      "Error on GCF_002987335.1: Reads are too short.\n",
      "Error on GCF_000915955.1: Reads are too short.\n",
      "Error on GCF_018591435.1: Reads are too short.\n",
      "Error on GCF_000914275.1: Reads are too short.\n",
      "Error on GCF_004117295.1: Reads are too short.\n",
      "Error on GCF_018591425.1: Reads are too short.\n"
     ]
    },
    {
     "name": "stderr",
     "output_type": "stream",
     "text": [
      " 96%|█████████▌| 89148/93280 [03:28<00:01, 2785.95it/s]"
     ]
    },
    {
     "name": "stdout",
     "output_type": "stream",
     "text": [
      "Error on GCF_002957465.1: 'R'\n",
      "Error on GCF_001957695.1: 'K'\n",
      "Error on GCF_002825705.1: 'K'\n"
     ]
    },
    {
     "name": "stderr",
     "output_type": "stream",
     "text": [
      " 97%|█████████▋| 90094/93280 [03:28<00:01, 2782.77it/s]"
     ]
    },
    {
     "name": "stdout",
     "output_type": "stream",
     "text": [
      "Error on GCF_000910155.1: 'R'\n",
      "Error on GCF_000847305.1: Reads are too short.\n"
     ]
    },
    {
     "name": "stderr",
     "output_type": "stream",
     "text": [
      " 97%|█████████▋| 90655/93280 [03:28<00:00, 2771.72it/s]"
     ]
    },
    {
     "name": "stdout",
     "output_type": "stream",
     "text": [
      "Error on GCF_002867695.1: Reads are too short.\n",
      "Error on GCF_000872625.1: Reads are too short.\n"
     ]
    },
    {
     "name": "stderr",
     "output_type": "stream",
     "text": [
      " 98%|█████████▊| 91598/93280 [03:29<00:00, 2344.10it/s]"
     ]
    },
    {
     "name": "stdout",
     "output_type": "stream",
     "text": [
      "Error on GCF_029886025.1: 'Y'\n"
     ]
    },
    {
     "name": "stderr",
     "output_type": "stream",
     "text": [
      " 99%|█████████▉| 92421/93280 [03:29<00:00, 2483.66it/s]"
     ]
    },
    {
     "name": "stdout",
     "output_type": "stream",
     "text": [
      "Error on GCF_000863725.1: 'R'\n",
      "Error on GCF_000896155.1: 'W'\n",
      "Error on GCF_029883525.1: 'R'\n",
      "Error on GCF_000911415.1: 'K'\n",
      "Error on GCF_029885855.1: 'Y'\n"
     ]
    },
    {
     "name": "stderr",
     "output_type": "stream",
     "text": [
      "100%|██████████| 93280/93280 [03:29<00:00, 444.26it/s] \n"
     ]
    },
    {
     "name": "stdout",
     "output_type": "stream",
     "text": [
      "Sampled 93280 genomes.\n"
     ]
    }
   ],
   "source": [
    "import json\n",
    "from stelaro.data import synthetic\n",
    "\n",
    "LENGTH = 1000\n",
    "N_READS_PER_GENOME = 20\n",
    "with open(\"../datasets/version_1_splits/map.json\", \"r\") as f:\n",
    "    index_to_taxonomic_label = json.load(f)\n",
    "\n",
    "for dataset_name in (\"validate\", \"test\", \"train\"):\n",
    "    with open(f\"../datasets/version_1_splits/{dataset_name}.json\", \"r\") as f:\n",
    "        dataset = json.load(f)\n",
    "    index_to_n_passes = {}\n",
    "    for i in index_to_taxonomic_label:\n",
    "        index_to_n_passes[i] = N_READS_PER_GENOME\n",
    "    n = synthetic.write(\n",
    "        dataset,\n",
    "        index_to_taxonomic_label,\n",
    "        index_to_n_passes,\n",
    "        \"../data/version_1/genomes/\",\n",
    "        LENGTH,\n",
    "        f\"../data/version_1/static/{dataset_name}/\"\n",
    "    )\n",
    "    print(f\"Sampled {n} genomes.\")\n"
   ]
  },
  {
   "cell_type": "markdown",
   "metadata": {},
   "source": [
    "## 7. Train a Neural Network for Classification\n",
    "\n",
    "This section uses synthetic metagenomes to train a neural network to classify reads as belonging to\n",
    "viral or bacterial genomes."
   ]
  },
  {
   "cell_type": "code",
   "execution_count": 1,
   "metadata": {},
   "outputs": [],
   "source": [
    "from stelaro import models\n",
    "from torch.utils.data import DataLoader\n",
    "import json\n",
    "\n",
    "BATCH_SIZE = 256\n",
    "train_data = DataLoader(\n",
    "    models.SyntheticReadDataset(\"../data/version_1/static/train/\"),\n",
    "    batch_size=BATCH_SIZE,\n",
    "    shuffle=True\n",
    ")\n",
    "validate_data = DataLoader(\n",
    "    models.SyntheticReadDataset(\"../data/version_1/static/validate/\"),\n",
    "    batch_size=BATCH_SIZE,\n",
    "    shuffle=True\n",
    ")\n",
    "test_data = DataLoader(\n",
    "    models.SyntheticReadDataset(\"../data/version_1/static/test/\"),\n",
    "    batch_size=BATCH_SIZE,\n",
    "    shuffle=True\n",
    ")\n",
    "\n",
    "with open(\"../data/version_1/static/train/map.json\", \"r\") as f:\n",
    "    mapping = json.load(f)"
   ]
  },
  {
   "cell_type": "code",
   "execution_count": null,
   "metadata": {},
   "outputs": [],
   "source": [
    "from torch.optim import Adam\n",
    "import matplotlib.pyplot as plt\n",
    "\n",
    "def benchmark(model_type, name: str) -> None:\n",
    "    LENGTH = 1000\n",
    "    model = model_type(LENGTH, len(mapping)).to(\"cuda\")\n",
    "    optimizer = Adam(model.parameters(), lr=0.001)\n",
    "    losses, f1 = models.train(\n",
    "        model,\n",
    "        train_data,\n",
    "        validate_data,\n",
    "        optimizer,\n",
    "        max_n_epochs=20,\n",
    "        patience=3,\n",
    "        device=\"cuda\",\n",
    "        mapping=mapping\n",
    "    )\n",
    "    fig, ax = plt.subplots(1, 2, figsize=(12, 4))\n",
    "    x = list(range(len(losses)))\n",
    "    ax[0].plot(x, losses, label=\"losses\")\n",
    "    ax[0].set(xlabel='Epochs', ylabel='Loss')\n",
    "    ax[0].set_title(\"Loss\")\n",
    "    ax[1].set(xlabel='Epochs', ylabel=\"f1\")\n",
    "    ax[1].set_title(\"F1 Score\")\n",
    "    r = len(f1) - 1\n",
    "    for f in reversed(f1):\n",
    "        ax[1].plot(x, f, label=f'Rank {r}')\n",
    "        r -= 1\n",
    "    ax[1].legend()\n",
    "    fig.suptitle(f\"Classification Training for {name}\")\n",
    "    plt.show()\n",
    "    result = models.evaluate(model, test_data, \"cuda\", mapping)\n",
    "    print(f\"Test results: {result}\")"
   ]
  },
  {
   "cell_type": "code",
   "execution_count": 5,
   "metadata": {},
   "outputs": [
    {
     "name": "stderr",
     "output_type": "stream",
     "text": [
      "100%|██████████| 365/365 [00:11<00:00, 33.16it/s]\n"
     ]
    },
    {
     "name": "stdout",
     "output_type": "stream",
     "text": [
      "1/20 Loss: 1019.89. F1: ['0.071306', '0.44782']. Patience: 3\n"
     ]
    },
    {
     "name": "stderr",
     "output_type": "stream",
     "text": [
      "100%|██████████| 365/365 [00:10<00:00, 33.96it/s]\n"
     ]
    },
    {
     "name": "stdout",
     "output_type": "stream",
     "text": [
      "2/20 Loss: 827.43. F1: ['0.13267', '0.49843']. Patience: 3\n"
     ]
    },
    {
     "name": "stderr",
     "output_type": "stream",
     "text": [
      "100%|██████████| 365/365 [00:11<00:00, 32.41it/s]\n"
     ]
    },
    {
     "name": "stdout",
     "output_type": "stream",
     "text": [
      "3/20 Loss: 680.63. F1: ['0.17026', '0.5392']. Patience: 3\n"
     ]
    },
    {
     "name": "stderr",
     "output_type": "stream",
     "text": [
      "100%|██████████| 365/365 [00:11<00:00, 32.42it/s]\n"
     ]
    },
    {
     "name": "stdout",
     "output_type": "stream",
     "text": [
      "4/20 Loss: 523.37. F1: ['0.16075', '0.53571']. Patience: 2\n"
     ]
    },
    {
     "name": "stderr",
     "output_type": "stream",
     "text": [
      "100%|██████████| 365/365 [00:09<00:00, 36.88it/s]\n"
     ]
    },
    {
     "name": "stdout",
     "output_type": "stream",
     "text": [
      "5/20 Loss: 359.36. F1: ['0.14908', '0.49464']. Patience: 1\n"
     ]
    },
    {
     "name": "stderr",
     "output_type": "stream",
     "text": [
      "100%|██████████| 365/365 [00:10<00:00, 33.59it/s]\n"
     ]
    },
    {
     "name": "stdout",
     "output_type": "stream",
     "text": [
      "6/20 Loss: 211.68. F1: ['0.15029', '0.52491']. Patience: 0\n",
      "The model is starting to overfit; stopping early.\n"
     ]
    },
    {
     "data": {
      "image/png": "[encoded data removed]",
      "text/plain": [
       "<Figure size 1200x400 with 2 Axes>"
      ]
     },
     "metadata": {},
     "output_type": "display_data"
    }
   ],
   "source": [
    "from stelaro.models import feedforward\n",
    "benchmark(feedforward.CNN_1, \"CNN_1\")"
   ]
  },
  {
   "cell_type": "code",
   "execution_count": 6,
   "metadata": {},
   "outputs": [
    {
     "name": "stderr",
     "output_type": "stream",
     "text": [
      "100%|██████████| 365/365 [00:23<00:00, 15.52it/s]\n"
     ]
    },
    {
     "name": "stdout",
     "output_type": "stream",
     "text": [
      "1/20 Loss: 1010.57. F1: ['0.067786', '0.45346']. Patience: 3\n"
     ]
    },
    {
     "name": "stderr",
     "output_type": "stream",
     "text": [
      "100%|██████████| 365/365 [00:23<00:00, 15.67it/s]\n"
     ]
    },
    {
     "name": "stdout",
     "output_type": "stream",
     "text": [
      "2/20 Loss: 860.95. F1: ['0.13647', '0.55142']. Patience: 3\n"
     ]
    },
    {
     "name": "stderr",
     "output_type": "stream",
     "text": [
      "100%|██████████| 365/365 [00:23<00:00, 15.47it/s]\n"
     ]
    },
    {
     "name": "stdout",
     "output_type": "stream",
     "text": [
      "3/20 Loss: 690.18. F1: ['0.16808', '0.591']. Patience: 3\n"
     ]
    },
    {
     "name": "stderr",
     "output_type": "stream",
     "text": [
      "100%|██████████| 365/365 [00:23<00:00, 15.24it/s]\n"
     ]
    },
    {
     "name": "stdout",
     "output_type": "stream",
     "text": [
      "4/20 Loss: 414.13. F1: ['0.18008', '0.56838']. Patience: 3\n"
     ]
    },
    {
     "name": "stderr",
     "output_type": "stream",
     "text": [
      "100%|██████████| 365/365 [00:24<00:00, 15.16it/s]\n"
     ]
    },
    {
     "name": "stdout",
     "output_type": "stream",
     "text": [
      "5/20 Loss: 90.83. F1: ['0.16411', '0.55164']. Patience: 2\n"
     ]
    },
    {
     "name": "stderr",
     "output_type": "stream",
     "text": [
      "100%|██████████| 365/365 [00:24<00:00, 15.09it/s]\n"
     ]
    },
    {
     "name": "stdout",
     "output_type": "stream",
     "text": [
      "6/20 Loss: 10.77. F1: ['0.16941', '0.55105']. Patience: 1\n"
     ]
    },
    {
     "name": "stderr",
     "output_type": "stream",
     "text": [
      "100%|██████████| 365/365 [00:24<00:00, 14.82it/s]\n"
     ]
    },
    {
     "name": "stdout",
     "output_type": "stream",
     "text": [
      "7/20 Loss: 1.97. F1: ['0.17553', '0.54622']. Patience: 0\n",
      "The model is starting to overfit; stopping early.\n"
     ]
    },
    {
     "data": {
      "image/png": "[encoded data removed]",
      "text/plain": [
       "<Figure size 1200x400 with 2 Axes>"
      ]
     },
     "metadata": {},
     "output_type": "display_data"
    }
   ],
   "source": [
    "from stelaro.models import feedforward\n",
    "benchmark(feedforward.CNN_2, \"CNN_2\")"
   ]
  }
 ],
 "metadata": {
  "kernelspec": {
   "display_name": "venv",
   "language": "python",
   "name": "python3"
  },
  "language_info": {
   "codemirror_mode": {
    "name": "ipython",
    "version": 3
   },
   "file_extension": ".py",
   "mimetype": "text/x-python",
   "name": "python",
   "nbconvert_exporter": "python",
   "pygments_lexer": "ipython3",
   "version": "3.11.2"
  }
 },
 "nbformat": 4,
 "nbformat_minor": 2
}
